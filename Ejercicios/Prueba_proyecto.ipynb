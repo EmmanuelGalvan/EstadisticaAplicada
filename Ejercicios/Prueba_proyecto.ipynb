{
 "cells": [
  {
   "cell_type": "markdown",
   "id": "aquatic-seeking",
   "metadata": {},
   "source": [
    "**Librerías**"
   ]
  },
  {
   "cell_type": "code",
   "execution_count": 1,
   "id": "functioning-canvas",
   "metadata": {},
   "outputs": [
    {
     "name": "stderr",
     "output_type": "stream",
     "text": [
      "Warning message:\n",
      "\"package 'tseries' was built under R version 3.6.3\"Registered S3 method overwritten by 'xts':\n",
      "  method     from\n",
      "  as.zoo.xts zoo \n",
      "Registered S3 method overwritten by 'quantmod':\n",
      "  method            from\n",
      "  as.zoo.data.frame zoo \n",
      "Warning message:\n",
      "\"package 'TSA' was built under R version 3.6.3\"\n",
      "Attaching package: 'TSA'\n",
      "\n",
      "The following objects are masked from 'package:stats':\n",
      "\n",
      "    acf, arima\n",
      "\n",
      "The following object is masked from 'package:utils':\n",
      "\n",
      "    tar\n",
      "\n"
     ]
    }
   ],
   "source": [
    "library(tseries)\n",
    "library(TSA)"
   ]
  },
  {
   "cell_type": "markdown",
   "id": "involved-prospect",
   "metadata": {},
   "source": [
    "**Apertura de datos**"
   ]
  },
  {
   "cell_type": "code",
   "execution_count": 3,
   "id": "typical-notebook",
   "metadata": {},
   "outputs": [],
   "source": [
    "setwd(\"D:/Estadistica\")\n",
    "bc<-read.table(\"bitcoin.csv\", sep=\",\", header = T )"
   ]
  },
  {
   "cell_type": "markdown",
   "id": "molecular-small",
   "metadata": {},
   "source": [
    "**Nombrar por columna**"
   ]
  },
  {
   "cell_type": "code",
   "execution_count": 4,
   "id": "endless-burning",
   "metadata": {},
   "outputs": [],
   "source": [
    "attach(bc) "
   ]
  },
  {
   "cell_type": "markdown",
   "id": "impaired-montgomery",
   "metadata": {},
   "source": [
    "**Convertir a serie**"
   ]
  },
  {
   "cell_type": "code",
   "execution_count": 7,
   "id": "stuffed-scout",
   "metadata": {},
   "outputs": [],
   "source": [
    "bc.ts=ts(bc, start =c(2018,3,17), end=c(2021,3,17),frequency=365)\n",
    "bc_l<-bc.ts[,2]"
   ]
  },
  {
   "cell_type": "markdown",
   "id": "united-details",
   "metadata": {},
   "source": [
    "**Análisis descriptivo**"
   ]
  },
  {
   "cell_type": "code",
   "execution_count": 6,
   "id": "statewide-playlist",
   "metadata": {},
   "outputs": [
    {
     "data": {
      "text/html": [
       "<ol class=list-inline>\n",
       "\t<li>2018</li>\n",
       "\t<li>3</li>\n",
       "</ol>\n"
      ],
      "text/latex": [
       "\\begin{enumerate*}\n",
       "\\item 2018\n",
       "\\item 3\n",
       "\\end{enumerate*}\n"
      ],
      "text/markdown": [
       "1. 2018\n",
       "2. 3\n",
       "\n",
       "\n"
      ],
      "text/plain": [
       "[1] 2018    3"
      ]
     },
     "metadata": {},
     "output_type": "display_data"
    },
    {
     "data": {
      "text/html": [
       "<ol class=list-inline>\n",
       "\t<li>2021</li>\n",
       "\t<li>3</li>\n",
       "</ol>\n"
      ],
      "text/latex": [
       "\\begin{enumerate*}\n",
       "\\item 2021\n",
       "\\item 3\n",
       "\\end{enumerate*}\n"
      ],
      "text/markdown": [
       "1. 2021\n",
       "2. 3\n",
       "\n",
       "\n"
      ],
      "text/plain": [
       "[1] 2021    3"
      ]
     },
     "metadata": {},
     "output_type": "display_data"
    },
    {
     "name": "stderr",
     "output_type": "stream",
     "text": [
      "ERROR while rich displaying an object: Error in if (many_rows) {: argumento tiene longitud cero\n",
      "\n",
      "Traceback:\n",
      "1. FUN(X[[i]], ...)\n",
      "2. tryCatch(withCallingHandlers({\n",
      " .     if (!mime %in% names(repr::mime2repr)) \n",
      " .         stop(\"No repr_* for mimetype \", mime, \" in repr::mime2repr\")\n",
      " .     rpr <- repr::mime2repr[[mime]](obj)\n",
      " .     if (is.null(rpr)) \n",
      " .         return(NULL)\n",
      " .     prepare_content(is.raw(rpr), rpr)\n",
      " . }, error = error_handler), error = outer_handler)\n",
      "3. tryCatchList(expr, classes, parentenv, handlers)\n",
      "4. tryCatchOne(expr, names, parentenv, handlers[[1L]])\n",
      "5. doTryCatch(return(expr), name, parentenv, handler)\n",
      "6. withCallingHandlers({\n",
      " .     if (!mime %in% names(repr::mime2repr)) \n",
      " .         stop(\"No repr_* for mimetype \", mime, \" in repr::mime2repr\")\n",
      " .     rpr <- repr::mime2repr[[mime]](obj)\n",
      " .     if (is.null(rpr)) \n",
      " .         return(NULL)\n",
      " .     prepare_content(is.raw(rpr), rpr)\n",
      " . }, error = error_handler)\n",
      "7. repr::mime2repr[[mime]](obj)\n",
      "8. repr_text.ts(obj)\n",
      "9. repr_ts_generic(obj, repr_text.matrix, ...)\n",
      "10. repr_func(m, ..., rows = nrow(m), cols = ncol(m))\n",
      "11. ellip_limit_arr(obj, ...)\n",
      "12. arr_partition(a, rows, cols)\n"
     ]
    },
    {
     "data": {
      "image/png": "[encoded data removed]",
      "text/plain": [
       "plot without title"
      ]
     },
     "metadata": {},
     "output_type": "display_data"
    }
   ],
   "source": [
    "start(bc_l)\n",
    "end(bc_l)\n",
    "time(bc_l)\n",
    "plot(bc_l)"
   ]
  },
  {
   "cell_type": "markdown",
   "id": "controversial-knife",
   "metadata": {},
   "source": [
    "## Clasificación"
   ]
  },
  {
   "cell_type": "markdown",
   "id": "extreme-burner",
   "metadata": {},
   "source": [
    "**Tendencia lineal**"
   ]
  },
  {
   "cell_type": "markdown",
   "id": "hearing-crest",
   "metadata": {},
   "source": [
    "**HO:** B1 igual a 0.\n",
    "\n",
    "**Ha:** B1 diferente de 0.\n",
    "\n",
    "alfa=0.05"
   ]
  },
  {
   "cell_type": "code",
   "execution_count": 10,
   "id": "supreme-sentence",
   "metadata": {},
   "outputs": [],
   "source": [
    "tend<-lm(bc_l~time(bc_l), data=bc_l)"
   ]
  },
  {
   "cell_type": "code",
   "execution_count": 11,
   "id": "cooked-warrior",
   "metadata": {},
   "outputs": [
    {
     "data": {
      "text/plain": [
       "\n",
       "Call:\n",
       "lm(formula = bc_l ~ time(bc_l), data = bc_l)\n",
       "\n",
       "Residuals:\n",
       "   Min     1Q Median     3Q    Max \n",
       "-554.2 -268.2  -26.6  244.0  603.9 \n",
       "\n",
       "Coefficients:\n",
       "              Estimate Std. Error t value Pr(>|t|)    \n",
       "(Intercept) -146491.63   21771.38  -6.729 2.76e-11 ***\n",
       "time(bc_l)       72.81      10.78   6.754 2.33e-11 ***\n",
       "---\n",
       "Signif. codes:  0 '***' 0.001 '**' 0.01 '*' 0.05 '.' 0.1 ' ' 1\n",
       "\n",
       "Residual standard error: 309.4 on 1094 degrees of freedom\n",
       "Multiple R-squared:  0.04003,\tAdjusted R-squared:  0.03915 \n",
       "F-statistic: 45.61 on 1 and 1094 DF,  p-value: 2.334e-11\n"
      ]
     },
     "metadata": {},
     "output_type": "display_data"
    }
   ],
   "source": [
    "summary(tend)"
   ]
  },
  {
   "cell_type": "markdown",
   "id": "creative-vaccine",
   "metadata": {},
   "source": [
    "*Modelo estimado*"
   ]
  },
  {
   "cell_type": "code",
   "execution_count": null,
   "id": "planned-oklahoma",
   "metadata": {},
   "outputs": [],
   "source": []
  },
  {
   "cell_type": "markdown",
   "id": "endless-joining",
   "metadata": {},
   "source": [
    "* **p-valor:** 2.334e^-11,\n",
    "* **R^2 ajustada:** 0.03915, por lo que no se ajusta al modelo lineal\n",
    "* **MSE:** \n",
    "* **Conclusión:** Se rechazo Ho, dado que el p-valor muy pequeño y menor que alfa. Por lo que si hay relación entre las variables pero el modelo lineal no es el adecuado para describir los datos."
   ]
  },
  {
   "cell_type": "markdown",
   "id": "fuzzy-world",
   "metadata": {},
   "source": [
    "**Modelo de tendencia logarítmica**"
   ]
  },
  {
   "cell_type": "markdown",
   "id": "appointed-thesis",
   "metadata": {},
   "source": [
    "**HO:** B1 igual a 0.\n",
    "\n",
    "**Ha:** B1 diferente de 0.\n",
    "\n",
    "alfa=0.05"
   ]
  },
  {
   "cell_type": "code",
   "execution_count": 12,
   "id": "practical-service",
   "metadata": {},
   "outputs": [
    {
     "data": {
      "text/plain": [
       "\n",
       "Call:\n",
       "lm(formula = bc_l ~ x.)\n",
       "\n",
       "Residuals:\n",
       "   Min     1Q Median     3Q    Max \n",
       "-554.2 -268.2  -26.6  244.0  603.9 \n",
       "\n",
       "Coefficients:\n",
       "            Estimate Std. Error t value Pr(>|t|)    \n",
       "(Intercept) -1118601     165693  -6.751 2.38e-11 ***\n",
       "x.            147051      21771   6.754 2.33e-11 ***\n",
       "---\n",
       "Signif. codes:  0 '***' 0.001 '**' 0.01 '*' 0.05 '.' 0.1 ' ' 1\n",
       "\n",
       "Residual standard error: 309.4 on 1094 degrees of freedom\n",
       "Multiple R-squared:  0.04003,\tAdjusted R-squared:  0.03915 \n",
       "F-statistic: 45.62 on 1 and 1094 DF,  p-value: 2.326e-11\n"
      ]
     },
     "metadata": {},
     "output_type": "display_data"
    }
   ],
   "source": [
    "x.<-log(time(bc_l))\n",
    "tlog<-lm(bc_l~x.)\n",
    "summary(tlog)"
   ]
  },
  {
   "cell_type": "markdown",
   "id": "descending-rings",
   "metadata": {},
   "source": [
    "* **p-valor:** 2.326e^-11,\n",
    "* **R^2 ajustada:** 0.04003, por lo que no se ajusta al modelo logarítico\n",
    "* **MSE:** \n",
    "* **Conclusión:** Se rechazo Ho, dado que el p-valor muy pequeño y menor que alfa. Por lo que si hay relación entre las variables pero el modelo logarítmico no es el adecuado para describir los datos."
   ]
  },
  {
   "cell_type": "markdown",
   "id": "active-novel",
   "metadata": {},
   "source": [
    "*Modelo estimado*"
   ]
  },
  {
   "cell_type": "code",
   "execution_count": null,
   "id": "commercial-seeker",
   "metadata": {},
   "outputs": [],
   "source": []
  },
  {
   "cell_type": "code",
   "execution_count": 25,
   "id": "reliable-cooper",
   "metadata": {},
   "outputs": [
    {
     "ename": "ERROR",
     "evalue": "Error: $ operator is invalid for atomic vectors\n",
     "output_type": "error",
     "traceback": [
      "Error: $ operator is invalid for atomic vectors\nTraceback:\n",
      "1. abline(tenl, col = \"blue\")",
      "2. as.vector(coef(a))",
      "3. coef(a)",
      "4. coef.default(a)"
     ]
    },
    {
     "data": {
      "image/png": "[encoded data removed]",
      "text/plain": [
       "plot without title"
      ]
     },
     "metadata": {},
     "output_type": "display_data"
    }
   ],
   "source": [
    "plot(bc_l)\n",
    "tenl<-tlog$coefficients[1]+tlog$coefficients[2]*x.\n",
    "\n",
    "abline(tend, col=\"magenta\")\n",
    "abline(tenl, col=\"blue\")"
   ]
  },
  {
   "cell_type": "markdown",
   "id": "immune-france",
   "metadata": {},
   "source": [
    "**Modelo de tendencia polinómica**"
   ]
  },
  {
   "cell_type": "markdown",
   "id": "fourth-republican",
   "metadata": {},
   "source": [
    "**HO:** B1 igual a 0.\n",
    "\n",
    "**Ha:** B1 diferente de 0.\n",
    "\n",
    "alfa=0.05"
   ]
  },
  {
   "cell_type": "code",
   "execution_count": 23,
   "id": "exterior-february",
   "metadata": {},
   "outputs": [
    {
     "data": {
      "text/plain": [
       "\n",
       "Call:\n",
       "lm(formula = bc_l ~ poly(tc, degree = 10))\n",
       "\n",
       "Residuals:\n",
       "    Min      1Q  Median      3Q     Max \n",
       "-845.22 -105.56   10.26  119.72  593.33 \n",
       "\n",
       "Coefficients:\n",
       "                         Estimate Std. Error t value Pr(>|t|)    \n",
       "(Intercept)               547.683      6.996  78.282  < 2e-16 ***\n",
       "poly(tc, degree = 10)1   2089.395    231.617   9.021  < 2e-16 ***\n",
       "poly(tc, degree = 10)2   -873.985    231.617  -3.773  0.00017 ***\n",
       "poly(tc, degree = 10)3   4276.114    231.617  18.462  < 2e-16 ***\n",
       "poly(tc, degree = 10)4   2085.430    231.617   9.004  < 2e-16 ***\n",
       "poly(tc, degree = 10)5  -4088.831    231.617 -17.653  < 2e-16 ***\n",
       "poly(tc, degree = 10)6   1305.469    231.617   5.636 2.21e-08 ***\n",
       "poly(tc, degree = 10)7    289.653    231.617   1.251  0.21136    \n",
       "poly(tc, degree = 10)8  -1544.738    231.617  -6.669 4.08e-11 ***\n",
       "poly(tc, degree = 10)9   1451.870    231.617   6.268 5.25e-10 ***\n",
       "poly(tc, degree = 10)10  -314.478    231.617  -1.358  0.17483    \n",
       "---\n",
       "Signif. codes:  0 '***' 0.001 '**' 0.01 '*' 0.05 '.' 0.1 ' ' 1\n",
       "\n",
       "Residual standard error: 231.6 on 1085 degrees of freedom\n",
       "Multiple R-squared:  0.4663,\tAdjusted R-squared:  0.4614 \n",
       "F-statistic: 94.81 on 10 and 1085 DF,  p-value: < 2.2e-16\n"
      ]
     },
     "metadata": {},
     "output_type": "display_data"
    }
   ],
   "source": [
    "tc<-as.numeric(time(bc_l))\n",
    "tenc<-lm(bc_l~poly(tc, degree=10))\n",
    "summary(tenc)"
   ]
  },
  {
   "cell_type": "markdown",
   "id": "fantastic-staff",
   "metadata": {},
   "source": [
    "* **p-valor:** 2.2e^-16,\n",
    "* **R^2 ajustada:** 0.4614, por lo que no se ajusta al modelo de tendencia polinómica\n",
    "* **MSE:** \n",
    "* **Conclusión:** Se rechazo Ho, dado que el p-valor muy pequeño y menor que alfa. Por lo que si hay relación entre las variables por el modelo de tendencia polinómica y el modelo es adecuado."
   ]
  },
  {
   "cell_type": "code",
   "execution_count": 24,
   "id": "sublime-tract",
   "metadata": {},
   "outputs": [
    {
     "data": {
      "image/png": "[encoded data removed]",
      "text/plain": [
       "plot without title"
      ]
     },
     "metadata": {},
     "output_type": "display_data"
    }
   ],
   "source": [
    "plot(bc_l)\n",
    "abline(tend, col=\"orange\")\n",
    "lines(tc, fitted.values(tenc), col=\"purple\")"
   ]
  },
  {
   "cell_type": "markdown",
   "id": "recognized-station",
   "metadata": {},
   "source": [
    "Dado que el modelo muestra tendencia polinómica de grado 10, entonces NO muestra estacionariedad por media"
   ]
  },
  {
   "cell_type": "markdown",
   "id": "welsh-dairy",
   "metadata": {},
   "source": [
    "**Varianza**"
   ]
  },
  {
   "cell_type": "markdown",
   "id": "southern-netscape",
   "metadata": {},
   "source": [
    "**HO:** La serie NO es estacionaria en varianza\n",
    "\n",
    "**Ha:** La serie SI es estacionaria en varianza\n",
    "\n",
    "alfa=0.05"
   ]
  },
  {
   "cell_type": "code",
   "execution_count": 28,
   "id": "diverse-thing",
   "metadata": {},
   "outputs": [
    {
     "data": {
      "text/plain": [
       "\n",
       "\tAugmented Dickey-Fuller Test\n",
       "\n",
       "data:  bc_l\n",
       "Dickey-Fuller = -3.6549, Lag order = 10, p-value = 0.0274\n",
       "alternative hypothesis: stationary\n"
      ]
     },
     "metadata": {},
     "output_type": "display_data"
    }
   ],
   "source": [
    "adf.test(bc_l, alternative=\"stationary\")"
   ]
  },
  {
   "cell_type": "markdown",
   "id": "auburn-advertising",
   "metadata": {},
   "source": [
    "Dado que el p-valor es menor que alfa, se rechaza Ho, por lo que la serie es estacionaria en Varianza."
   ]
  },
  {
   "cell_type": "markdown",
   "id": "designed-campbell",
   "metadata": {},
   "source": [
    "**Conclusión:** Dado que la serie NO muestra estacionariedad en media, pero si es varianza, se dice que la serie NO es estacionaria."
   ]
  },
  {
   "cell_type": "markdown",
   "id": "bridal-milwaukee",
   "metadata": {},
   "source": [
    "## Correcciones"
   ]
  },
  {
   "cell_type": "markdown",
   "id": "active-identification",
   "metadata": {},
   "source": [
    "**Corrección 1**"
   ]
  },
  {
   "cell_type": "code",
   "execution_count": 30,
   "id": "authorized-cancellation",
   "metadata": {},
   "outputs": [],
   "source": [
    "c1<-diff((bc_l))"
   ]
  },
  {
   "cell_type": "code",
   "execution_count": 31,
   "id": "threatened-citation",
   "metadata": {},
   "outputs": [
    {
     "data": {
      "image/png": "[encoded data removed]",
      "text/plain": [
       "plot without title"
      ]
     },
     "metadata": {},
     "output_type": "display_data"
    }
   ],
   "source": [
    "plot(c1)"
   ]
  },
  {
   "cell_type": "markdown",
   "id": "monetary-affiliation",
   "metadata": {},
   "source": [
    "**Tendencia**"
   ]
  },
  {
   "cell_type": "code",
   "execution_count": 32,
   "id": "supreme-korean",
   "metadata": {},
   "outputs": [
    {
     "data": {
      "text/plain": [
       "\n",
       "Call:\n",
       "lm(formula = c1 ~ time(c1))\n",
       "\n",
       "Residuals:\n",
       "     Min       1Q   Median       3Q      Max \n",
       "-1077.30   -13.84    -1.64    11.71  1091.70 \n",
       "\n",
       "Coefficients:\n",
       "             Estimate Std. Error t value Pr(>|t|)\n",
       "(Intercept) -921.3284  9961.2456  -0.092    0.926\n",
       "time(c1)       0.4564     4.9325   0.093    0.926\n",
       "\n",
       "Residual standard error: 141.4 on 1093 degrees of freedom\n",
       "Multiple R-squared:  7.832e-06,\tAdjusted R-squared:  -0.0009071 \n",
       "F-statistic: 0.00856 on 1 and 1093 DF,  p-value: 0.9263\n"
      ]
     },
     "metadata": {},
     "output_type": "display_data"
    }
   ],
   "source": [
    "tn<-lm(c1~time(c1))\n",
    "summary(tn)"
   ]
  },
  {
   "cell_type": "markdown",
   "id": "personalized-sodium",
   "metadata": {},
   "source": [
    "No tiene tendencia lineal, entonces es estacionaria."
   ]
  },
  {
   "cell_type": "markdown",
   "id": "unusual-italian",
   "metadata": {},
   "source": [
    "**Varianza**"
   ]
  },
  {
   "cell_type": "code",
   "execution_count": 33,
   "id": "adult-browser",
   "metadata": {},
   "outputs": [
    {
     "name": "stderr",
     "output_type": "stream",
     "text": [
      "Warning message in adf.test(c1, alternative = \"stationary\"):\n",
      "\"p-value smaller than printed p-value\""
     ]
    },
    {
     "data": {
      "text/plain": [
       "\n",
       "\tAugmented Dickey-Fuller Test\n",
       "\n",
       "data:  c1\n",
       "Dickey-Fuller = -12.973, Lag order = 10, p-value = 0.01\n",
       "alternative hypothesis: stationary\n"
      ]
     },
     "metadata": {},
     "output_type": "display_data"
    }
   ],
   "source": [
    "adf.test(c1, alternative=\"stationary\")"
   ]
  },
  {
   "cell_type": "markdown",
   "id": "functional-commercial",
   "metadata": {},
   "source": [
    "La serie es estacionaria en varianza"
   ]
  },
  {
   "cell_type": "markdown",
   "id": "purple-flexibility",
   "metadata": {},
   "source": [
    "Clasificación para C1: Estacionaria"
   ]
  },
  {
   "cell_type": "markdown",
   "id": "crazy-cowboy",
   "metadata": {},
   "source": [
    "## Modelado"
   ]
  },
  {
   "cell_type": "code",
   "execution_count": 41,
   "id": "daily-premium",
   "metadata": {},
   "outputs": [
    {
     "data": {
      "image/png": "[encoded data removed]",
      "text/plain": [
       "Plot with title \"Series c1\""
      ]
     },
     "metadata": {},
     "output_type": "display_data"
    },
    {
     "data": {
      "image/png": "[encoded data removed]",
      "text/plain": [
       "Plot with title \"Series  c1\""
      ]
     },
     "metadata": {},
     "output_type": "display_data"
    }
   ],
   "source": [
    "acf(c1) \n",
    "pacf(c1) "
   ]
  },
  {
   "cell_type": "markdown",
   "id": "attached-intent",
   "metadata": {},
   "source": [
    "**MODELO AR(𝑝)**"
   ]
  },
  {
   "cell_type": "code",
   "execution_count": 34,
   "id": "light-cooperation",
   "metadata": {},
   "outputs": [
    {
     "data": {
      "text/plain": [
       "\n",
       "Call:\n",
       "ar(x = c1)\n",
       "\n",
       "Coefficients:\n",
       "      1        2        3        4        5        6        7        8  \n",
       "-0.3642  -0.1001  -0.1471  -0.1222  -0.1333  -0.1359  -0.0509  -0.1458  \n",
       "      9       10       11       12       13       14       15       16  \n",
       "-0.0272  -0.0744  -0.0985  -0.0380   0.0061  -0.0401  -0.0829  -0.0688  \n",
       "     17       18       19       20       21       22       23       24  \n",
       "-0.0358  -0.0509  -0.0769  -0.0161  -0.0653  -0.0866  -0.0226   0.0064  \n",
       "     25       26       27       28       29  \n",
       "-0.1213  -0.0469   0.0169  -0.0629  -0.0517  \n",
       "\n",
       "Order selected 29  sigma^2 estimated as  16716"
      ]
     },
     "metadata": {},
     "output_type": "display_data"
    }
   ],
   "source": [
    "ar(c1)"
   ]
  },
  {
   "cell_type": "code",
   "execution_count": 35,
   "id": "recent-bandwidth",
   "metadata": {},
   "outputs": [
    {
     "data": {
      "text/html": [
       "13787.8846229924"
      ],
      "text/latex": [
       "13787.8846229924"
      ],
      "text/markdown": [
       "13787.8846229924"
      ],
      "text/plain": [
       "[1] 13787.88"
      ]
     },
     "metadata": {},
     "output_type": "display_data"
    }
   ],
   "source": [
    "AIC(arima(c1, order=c(29,0,0), method=\"ML\"))"
   ]
  },
  {
   "cell_type": "markdown",
   "id": "balanced-great",
   "metadata": {},
   "source": [
    "**CONCLUSIÓN:** \n",
    "\n",
    "* El orden del mejor AR: 29\n",
    "\n",
    "* AIC del mejor AR: 13787.8846229924"
   ]
  },
  {
   "cell_type": "markdown",
   "id": "equipped-victorian",
   "metadata": {},
   "source": [
    "**MODELO MA(𝑞)**"
   ]
  },
  {
   "cell_type": "code",
   "execution_count": 37,
   "id": "comprehensive-fields",
   "metadata": {},
   "outputs": [
    {
     "data": {
      "text/html": [
       "13786.8413527603"
      ],
      "text/latex": [
       "13786.8413527603"
      ],
      "text/markdown": [
       "13786.8413527603"
      ],
      "text/plain": [
       "[1] 13786.84"
      ]
     },
     "metadata": {},
     "output_type": "display_data"
    },
    {
     "data": {
      "text/html": [
       "10"
      ],
      "text/latex": [
       "10"
      ],
      "text/markdown": [
       "10"
      ],
      "text/plain": [
       "[1] 10"
      ]
     },
     "metadata": {},
     "output_type": "display_data"
    }
   ],
   "source": [
    "aic0<-Inf # le das un numero muy grande\n",
    "for (i in 1:20)\n",
    "{\n",
    "  aic1<-AIC(arima(c1, order = c(0,0,i), method =\"ML\" ))\n",
    "  if(aic1<aic0)\n",
    "  {\n",
    "    aic0<-aic1\n",
    "    MA.mejor<-i\n",
    "  }\n",
    "}\n",
    "aic0 \n",
    "MA.mejor"
   ]
  },
  {
   "cell_type": "code",
   "execution_count": null,
   "id": "fabulous-scottish",
   "metadata": {},
   "outputs": [],
   "source": [
    "**CONCLUSIÓN:**\n",
    "\n",
    "* AIC del mejor MA: -1026.332\n",
    "\n",
    "* El orden del mejor MA: 10"
   ]
  },
  {
   "cell_type": "markdown",
   "id": "accomplished-raleigh",
   "metadata": {},
   "source": [
    "**MODELO ARMA(p,q)**"
   ]
  },
  {
   "cell_type": "code",
   "execution_count": 40,
   "id": "virgin-exclusion",
   "metadata": {},
   "outputs": [
    {
     "name": "stderr",
     "output_type": "stream",
     "text": [
      "Warning message in stats::arima(x = x, order = order, seasonal = seasonal, xreg = xreg, :\n",
      "\"possible convergence problem: optim gave code = 1\"Warning message in stats::arima(x = x, order = order, seasonal = seasonal, xreg = xreg, :\n",
      "\"possible convergence problem: optim gave code = 1\"Warning message in stats::arima(x = x, order = order, seasonal = seasonal, xreg = xreg, :\n",
      "\"possible convergence problem: optim gave code = 1\"Warning message in stats::arima(x = x, order = order, seasonal = seasonal, xreg = xreg, :\n",
      "\"possible convergence problem: optim gave code = 1\"Warning message in log(s2):\n",
      "\"Se han producido NaNs\"Warning message in stats::arima(x = x, order = order, seasonal = seasonal, xreg = xreg, :\n",
      "\"possible convergence problem: optim gave code = 1\"Warning message in stats::arima(x = x, order = order, seasonal = seasonal, xreg = xreg, :\n",
      "\"possible convergence problem: optim gave code = 1\"Warning message in stats::arima(x = x, order = order, seasonal = seasonal, xreg = xreg, :\n",
      "\"possible convergence problem: optim gave code = 1\"Warning message in stats::arima(x = x, order = order, seasonal = seasonal, xreg = xreg, :\n",
      "\"possible convergence problem: optim gave code = 1\"Warning message in stats::arima(x = x, order = order, seasonal = seasonal, xreg = xreg, :\n",
      "\"possible convergence problem: optim gave code = 1\"Warning message in stats::arima(x = x, order = order, seasonal = seasonal, xreg = xreg, :\n",
      "\"possible convergence problem: optim gave code = 1\"Warning message in stats::arima(x = x, order = order, seasonal = seasonal, xreg = xreg, :\n",
      "\"possible convergence problem: optim gave code = 1\"Warning message in stats::arima(x = x, order = order, seasonal = seasonal, xreg = xreg, :\n",
      "\"possible convergence problem: optim gave code = 1\"Warning message in stats::arima(x = x, order = order, seasonal = seasonal, xreg = xreg, :\n",
      "\"possible convergence problem: optim gave code = 1\"Warning message in stats::arima(x = x, order = order, seasonal = seasonal, xreg = xreg, :\n",
      "\"possible convergence problem: optim gave code = 1\"Warning message in stats::arima(x = x, order = order, seasonal = seasonal, xreg = xreg, :\n",
      "\"possible convergence problem: optim gave code = 1\"Warning message in stats::arima(x = x, order = order, seasonal = seasonal, xreg = xreg, :\n",
      "\"possible convergence problem: optim gave code = 1\"Warning message in stats::arima(x = x, order = order, seasonal = seasonal, xreg = xreg, :\n",
      "\"possible convergence problem: optim gave code = 1\"Warning message in stats::arima(x = x, order = order, seasonal = seasonal, xreg = xreg, :\n",
      "\"possible convergence problem: optim gave code = 1\"Warning message in stats::arima(x = x, order = order, seasonal = seasonal, xreg = xreg, :\n",
      "\"possible convergence problem: optim gave code = 1\"Warning message in stats::arima(x = x, order = order, seasonal = seasonal, xreg = xreg, :\n",
      "\"possible convergence problem: optim gave code = 1\"Warning message in stats::arima(x = x, order = order, seasonal = seasonal, xreg = xreg, :\n",
      "\"possible convergence problem: optim gave code = 1\"Warning message in stats::arima(x = x, order = order, seasonal = seasonal, xreg = xreg, :\n",
      "\"possible convergence problem: optim gave code = 1\"Warning message in stats::arima(x = x, order = order, seasonal = seasonal, xreg = xreg, :\n",
      "\"possible convergence problem: optim gave code = 1\"Warning message in stats::arima(x = x, order = order, seasonal = seasonal, xreg = xreg, :\n",
      "\"possible convergence problem: optim gave code = 1\"Warning message in stats::arima(x = x, order = order, seasonal = seasonal, xreg = xreg, :\n",
      "\"possible convergence problem: optim gave code = 1\"Warning message in stats::arima(x = x, order = order, seasonal = seasonal, xreg = xreg, :\n",
      "\"possible convergence problem: optim gave code = 1\"Warning message in stats::arima(x = x, order = order, seasonal = seasonal, xreg = xreg, :\n",
      "\"possible convergence problem: optim gave code = 1\"Warning message in stats::arima(x = x, order = order, seasonal = seasonal, xreg = xreg, :\n",
      "\"possible convergence problem: optim gave code = 1\"Warning message in stats::arima(x = x, order = order, seasonal = seasonal, xreg = xreg, :\n",
      "\"possible convergence problem: optim gave code = 1\"Warning message in stats::arima(x = x, order = order, seasonal = seasonal, xreg = xreg, :\n",
      "\"possible convergence problem: optim gave code = 1\"Warning message in stats::arima(x = x, order = order, seasonal = seasonal, xreg = xreg, :\n",
      "\"possible convergence problem: optim gave code = 1\""
     ]
    },
    {
     "data": {
      "text/html": [
       "13771.9569548743"
      ],
      "text/latex": [
       "13771.9569548743"
      ],
      "text/markdown": [
       "13771.9569548743"
      ],
      "text/plain": [
       "[1] 13771.96"
      ]
     },
     "metadata": {},
     "output_type": "display_data"
    },
    {
     "data": {
      "text/html": [
       "<ol class=list-inline>\n",
       "\t<li>4</li>\n",
       "\t<li>9</li>\n",
       "</ol>\n"
      ],
      "text/latex": [
       "\\begin{enumerate*}\n",
       "\\item 4\n",
       "\\item 9\n",
       "\\end{enumerate*}\n"
      ],
      "text/markdown": [
       "1. 4\n",
       "2. 9\n",
       "\n",
       "\n"
      ],
      "text/plain": [
       "[1] 4 9"
      ]
     },
     "metadata": {},
     "output_type": "display_data"
    }
   ],
   "source": [
    "arma.aic<-Inf\n",
    "for(j in 1:10)\n",
    "{\n",
    "  for (i in 1:10)\n",
    "  {\n",
    "    aux<-AIC(arima(c1, order = c(j,0,i), method =\"ML\" ))\n",
    "    if(aux<arma.aic)\n",
    "    {\n",
    "      arma.aic<-aux\n",
    "      ARMA.mejor<-c(j,i)\n",
    "    }\n",
    "  }\n",
    "}\n",
    "arma.aic\n",
    "ARMA.mejor "
   ]
  },
  {
   "cell_type": "markdown",
   "id": "republican-genius",
   "metadata": {},
   "source": [
    "**CONCLUSIÓN:**\n",
    "\n",
    "* AIC del mejor ARMA: 13771.9569548743\n",
    "\n",
    "* El orden del mejor ARMA: 4,9"
   ]
  },
  {
   "cell_type": "markdown",
   "id": "connected-restoration",
   "metadata": {},
   "source": [
    "## Ruido blanco"
   ]
  },
  {
   "cell_type": "code",
   "execution_count": 42,
   "id": "incorrect-calgary",
   "metadata": {},
   "outputs": [
    {
     "name": "stdout",
     "output_type": "stream",
     "text": [
      "Time Series:\n",
      "Start = c(2018, 4) \n",
      "End = c(2021, 3) \n",
      "Frequency = 365 \n",
      "   [1]   -3.85202079   -5.39045597    6.84839206  167.60083092 -111.76650841\n",
      "   [6]  -42.87049869   -4.62171659   -8.01503520    3.71751075   -7.88656082\n",
      "  [11]  -72.20140421   -9.48101532  -24.28863368   44.52161887  -37.16116735\n",
      "  [16]  -18.93007254  -32.71604034   -1.75668048   -4.48007042   -8.10650877\n",
      "  [21]    4.04535646    7.55758022   40.94622581   25.57456154   10.39286921\n",
      "  [26]    4.64882409  -11.10646465   11.28850354  -44.25359320  -34.06157198\n",
      "  [31]   -2.07512384   -4.61190850  -13.76139304   -8.88705050  -10.95061041\n",
      "  [36]   -2.55629998  -13.84076136  -39.12928350  -10.69621571  -18.58164802\n",
      "  [41]  -15.87615893    1.84944869  -22.95299897  -24.03740070   -3.89406036\n",
      "  [46]   -3.58449187  -11.73051244   -8.30802901  -14.26453910   -8.67694811\n",
      "  [51]   -7.30400676   -0.72088612   -9.49668273   -6.22328222   -6.96092259\n",
      "  [56]   11.67025516   -1.77119037    1.03759725    0.80998300   -5.09541935\n",
      "  [61]   -2.10917167   12.56092564   -5.54521000  -20.94780948    0.93095831\n",
      "  [66]   11.48096323   29.74434207   11.31111447  -25.01677893  -20.85194036\n",
      "  [71]  -19.25311284  -13.62316255   -0.31123144  -15.00756343 -121.16806323\n",
      "  [76]  -45.38956454  -24.80673899  -24.29339350  -15.55658129  -25.93472615\n",
      "  [81]  -24.77561257  -10.35920023  -20.49496545  -16.52185918   -7.70812410\n",
      "  [86]  -15.69650979  -12.17750438   -4.39330190  -12.10716361  -12.99978431\n",
      "  [91]  -12.70612790   -8.88832324  -12.59531131  -14.56401925  -12.32797067\n",
      "  [96]  -20.76100161  -14.94323936   -5.82494599   -9.54611529   -0.31190311\n",
      " [101]   -3.45296174  -10.35213245  -14.25885605    0.49794212   -4.93784758\n",
      " [106]  -11.11985918   -0.94864891  -25.24375378  -15.30768653  -13.60758505\n",
      " [111]  -12.68538228    8.69091739   -0.08626907  -20.72176445   -7.02056790\n",
      " [116]   -1.93174606   -9.22709134  -15.89416937   -9.24143162  -11.93796164\n",
      " [121]  -13.82876036  -12.18513676   -8.41963180   -9.52579385   -9.26323455\n",
      " [126]  -10.41883741  -15.66433304  -10.99632116   -5.85314043  -11.55770711\n",
      " [131]   -7.61106150   -5.87530158  -12.82784631  -12.50906620  -13.30812368\n",
      " [136]   -6.40875595   -7.48331422  -14.32792896   -9.63330116   -9.37909936\n",
      " [141]   -7.44368345  -13.68364141  -10.33465971   -7.56660727  -13.88135403\n",
      " [146]   -7.75292945  -10.45035448  -22.58648800  -26.58290871  -29.69972570\n",
      " [151]  -31.90876692  -23.26294967    0.75353789  -15.75674566  -15.52700120\n",
      " [156]   -2.64849447  -23.86284214  -25.41770238  -23.34625591  -23.93015634\n",
      " [161]  -41.18102924  -29.67551379   -0.70531392  -22.73936013  -32.61659889\n",
      " [166]  -15.25435332  -10.18720690   -2.09189404   -2.37609230  -22.18462277\n",
      " [171]   -7.63402754  -14.97509877  -15.68016138   -4.17218447  -60.74550067\n",
      " [176]   -0.76721654   -6.93808569   21.80022193   11.21963370  -13.43902990\n",
      " [181]   -7.98388850   -4.41142004  -25.59442684  -17.27270586  -48.63365291\n",
      " [186]   -9.32748903  -13.00896833  -23.65776579  -37.14183187  -36.17371452\n",
      " [191]   13.89221162  -19.44953302  -46.91842719   30.28308708  -39.93202830\n",
      " [196]   79.48967569   67.92705250  -13.21993821   -0.41440163   -9.13258595\n",
      " [201]    0.66298256   -8.40376251   -3.62274215  -11.16575934   23.27611206\n",
      " [206]   -9.41039635   -5.10414867   -5.51900835   11.06670111  -12.17328949\n",
      " [211]   16.44788378    5.88204625  -15.37747790   -7.97196874  -11.98103134\n",
      " [216]   -7.64699584  -17.32428009  -26.03192729   21.04712405  -16.09429527\n",
      " [221]   -1.84976832  -15.96861525   -4.23932523   -7.49253884  -41.56427065\n",
      " [226]  -22.97239824  -15.20745351   35.09279443  -29.53584519  -34.97962426\n",
      " [231]  -10.53265852  -25.93367017   -8.97711038  983.56308075  324.05473354\n",
      " [236]   60.80978741  129.59486341  102.38663362  104.05251729   72.79611772\n",
      " [241]   40.49510411   92.98502975    7.50738179   28.57988113   78.93579156\n",
      " [246]   54.92709064    1.90729930   70.14742491   31.89736228   12.13374502\n",
      " [251]   21.44916979   96.02031636   -7.21693727   20.02740726    1.13467985\n",
      " [256]   18.50520838  -11.01279289   33.36311340   62.54308663   -8.26914139\n",
      " [261]   10.35156307   40.99137212   -0.71344230   17.38957852   64.90527197\n",
      " [266]   54.92030604   55.85828099   54.39356329   -6.45881874   19.04705608\n",
      " [271]    7.90851348   60.84631522   44.81013825   11.99505546   25.53615971\n",
      " [276]   28.44726640   17.21322114   28.37502232    9.72271530   97.38883486\n",
      " [281]   24.65654773   46.73371919   35.41231722   -7.52972460   24.94170817\n",
      " [286]   74.41474878   -7.06191271   -2.84629982 -980.51485191  649.18550927\n",
      " [291]  300.60364013  -33.91422010   55.42661588  -66.38468492  -62.69428337\n",
      " [296]  106.00976818  -78.90018977  128.20577490   27.07810187  -36.71182791\n",
      " [301]  106.32770279  135.38634407   -6.65597736   29.95192739    9.84081771\n",
      " [306]    5.79497212   65.04442323   -3.97240982  -64.18367975  -68.21019315\n",
      " [311]   12.69278906  179.46994491   73.96404710   25.25446924  -65.25170664\n",
      " [316]  -28.84722716  -29.09686856   32.65336588   45.05864096  -33.34104210\n",
      " [321]  -43.66251340   55.08944035 -132.33744729  -55.79032120   12.71891209\n",
      " [326]  -14.26305902  -47.20903842   -3.58031817  -51.39103153  -68.10399607\n",
      " [331]  -38.60358508   53.06747424   16.52142223  -48.19978698    7.80891659\n",
      " [336]  -47.05149631   -9.38844489    9.33662523   35.59201618  -10.58891979\n",
      " [341]  -22.92058100   76.85358487   48.19365052  -46.34211381   39.13639355\n",
      " [346]  -33.38709297  -22.54780449  -18.65334153   29.91838033  -31.99711100\n",
      " [351]  -92.56217462  -16.99582558  -59.85029264  -29.82957180   24.93944891\n",
      " [356]  105.37928776    0.09039614   -1.53958165  -36.30465016  -96.16105114\n",
      " [361]  -22.15275006   16.61774554    4.35122580  -71.48915136  -50.05436062\n",
      " [366]   -5.19416254    4.47483296  -44.13218037   24.50803679  -50.34816838\n",
      " [371]  329.57937023  126.33315745   57.73692091   48.47569505  147.97169850\n",
      " [376]  134.87013595   71.87117661  -28.02073701   60.93593595   67.09932961\n",
      " [381]  -33.49961226   12.33615417   70.25484130   22.18045640   10.42317633\n",
      " [386]  127.59779114  105.09516922   58.27336939   26.32303923   51.19776014\n",
      " [391]    6.78075419   26.44627572 -979.23563423  689.02543200  303.63619374\n",
      " [396]    8.38649998 -991.04133066 -403.36806018  -89.60932095  -33.76661512\n",
      " [401]  875.91917052 -739.13224328  658.19814121  353.31738424  -16.54087888\n",
      " [406]  172.96606328  -23.88770399  -16.98587692  209.06186910   -8.38173523\n",
      " [411]   41.68644114   73.58168004    8.42690291    2.25035075  -24.58459641\n",
      " [416]  -40.87907431  -37.02767515   -9.97168256   31.94993132   20.48395312\n",
      " [421]    0.49578085   12.82601622   26.78922878   24.51782715   31.65497983\n",
      " [426]    6.00561052    6.94708801   10.85404677  -61.13039362   -5.16439550\n",
      " [431]  -40.40979134   31.35459955  -27.57426874  -10.42664738   21.69030975\n",
      " [436]  -19.65413809  -77.64079220  -24.48954725    5.49581277  -54.69904499\n",
      " [441]  -20.57715592   10.19886050   15.61874676    8.26205606  -14.44549708\n",
      " [446]    9.34180169  -13.16417944  -17.76320457   31.74101852   21.24401417\n",
      " [451]   10.46228783  -34.07890812   11.67334536  -14.91681356   11.05967231\n",
      " [456]  -71.44440757   17.19383858   17.01010271   14.78560715   30.68939815\n",
      " [461]  -13.28051336    0.34211271   34.27287432   10.44474058   39.30974903\n",
      " [466]   34.58027064   12.26757226  -24.62946397  -19.72570400   20.40035615\n",
      " [471]   -3.35322459   19.17219251   53.81421739   20.08668583  -29.45950992\n",
      " [476]   24.91865698  -45.55721448  -33.66975956  -12.54687708   53.83255911\n",
      " [481]   -6.12673283   46.91960281   88.56574244   34.91823908   23.78994547\n",
      " [486]   71.17115243   36.79685813   14.47238112   43.13725670   61.89149251\n",
      " [491]   28.12588919    4.00820118   67.76084668    9.16841762   -6.03135046\n",
      " [496]   86.56613119   80.81346827   16.81581717   37.11233811   -2.72924851\n",
      " [501]   36.64498430    0.77796379    2.38528253   24.59303715   57.52357707\n",
      " [506]  -16.22387806   83.54640405  -26.00875992  -96.38548831 -154.37096871\n",
      " [511]  -42.35133028   38.18691862   43.97244084    8.44015201  -55.52001590\n",
      " [516]  -28.35557950   35.09746920   -6.30339871   18.37229484   46.81172350\n",
      " [521]   11.51149058    3.42202902    9.91326545   47.84652627   21.10987265\n",
      " [526]  -41.46718190   10.54298857  -40.15397173   12.74989714   24.14882832\n",
      " [531]   31.13748552   19.36549347    4.99106297   12.73775927  -27.79557997\n",
      " [536]   15.78946482   17.63526372  -11.30220738   43.37291637   30.86106713\n",
      " [541]  205.38939627 -981.89843795  726.39729939 -739.22829353 -387.68962678\n",
      " [546]  -71.55004093 -124.62731045 -106.28906266  -30.12965175 -190.93251007\n",
      " [551]   47.99635963 -115.54413402  -89.45659022  -32.12034597   -2.38197006\n",
      " [556]  -87.96962066   24.35846704  -39.80970006  -41.30945840  -34.73503809\n",
      " [561]   31.90967305  -71.31854498  967.43022415  357.33630711   94.38766082\n",
      " [566]   63.58300092  154.92487961 -888.89273987 -259.24706186 -112.24077204\n",
      " [571]  -24.55741217  -86.13508060 -172.34947463  -78.95470514   58.44712139\n",
      " [576] -135.77507843  -35.47335129  -16.94886029  -94.27644890  -71.60507406\n",
      " [581]   29.21341150    4.28179729  -27.50348611   48.87500709    0.94935252\n",
      " [586]  -48.34250708   22.61256638   50.53702745  -93.05282076  -37.10222016\n",
      " [591]    1.44142829  -54.66724865 -117.95329520   -7.96491090  -36.55313236\n",
      " [596]  927.91838424  337.55062417  166.91576003   61.76926181   96.02171255\n",
      " [601]  199.16537774  138.68147458  -11.14301083 -906.10526575 -287.10776041\n",
      " [606]  -96.68007363 -130.86041373  -27.23570669  842.45793582  167.19935954\n",
      " [611] -833.56024660 -352.08023028   10.73347726   46.13826948  -25.43347660\n",
      " [616] -112.35007700  -15.05684544  -19.01225062 -140.84622608  -33.58067985\n",
      " [621]    9.17062880  -89.82845606   -0.64509195  -21.05423830  -87.24810353\n",
      " [626]  -73.38764944   94.04106097   40.36957068 -135.37974612   28.62570318\n",
      " [631]   39.49548509 -114.73391184  -78.53680534   11.94320647  -83.84257504\n",
      " [636]  909.77361877  316.18070807   66.88681539  101.29337172   25.98482973\n",
      " [641]  121.09238774   66.51474735  -82.54933953   88.48179879  -20.17911794\n",
      " [646]  -48.82560976   14.95909446   73.17394923  -45.23851532  -17.94385191\n",
      " [651]   58.79390707  -24.16590450   -2.96393620  164.20411287   31.46681635\n",
      " [656]  -46.56410373    6.31592024  100.40186652   -3.73960177    5.17947728\n",
      " [661]   57.14793406  -70.15928885  -80.37683162   24.35327984    9.35376941\n",
      " [666]  -31.65273962    5.46735462   83.03949995 -134.18044185  -61.72013715\n",
      " [671]  112.49396937   74.01529887  -61.04468104   -2.88705593  -71.86702586\n",
      " [676]  -47.58263925 -166.07741748  -40.77680166  -72.55324752  -96.12298417\n",
      " [681]  -10.57416712    1.93277340  -85.70126419  -20.54578682   13.46721429\n",
      " [686]  -46.43422121  -54.46224445   17.93654849   -5.10753012  -58.08262204\n",
      " [691]    5.15263904   16.28011164  -36.52881602  -14.60513339   29.58520555\n",
      " [696]  -31.25244951  -43.46886522   18.83345868   11.66103102  -56.02531607\n",
      " [701]   -8.20263928   20.33032260  -34.16472801  -33.16138368   29.12608797\n",
      " [706]  -14.29697728  -25.64074022    2.61155799   22.15616949  -46.77893342\n",
      " [711]  -21.56212514   22.96047415  -47.63132176  -47.00392945   16.43923619\n",
      " [716]  -14.96125099  -53.83636570   -5.89780504   13.37145793  -45.68618219\n",
      " [721]  -27.14479333  -37.17800557  -37.89065738  -34.93761487   41.00051035\n",
      " [726]  -22.20740096  -60.26965232   26.85881972   30.47553173  -68.44458323\n",
      " [731]  -45.96222136   54.04284386  -46.41504016  -68.54364586  -11.66729656\n",
      " [736]   10.86380012  -43.83871841  -21.77903168   22.46753813  -33.60867816\n",
      " [741]  -46.72907400    4.18401781   -2.36918017  -65.24595913  -13.47511784\n",
      " [746]   22.69166497  -33.04537860  -37.34713695   11.39864249  -12.70602869\n",
      " [751]  -38.76486476  -15.20938524  105.05111823  -62.14936281  -42.76166013\n",
      " [756]   29.47995915  -28.82014068  -41.01343516  -24.78146695  -27.42071180\n",
      " [761]  -46.06012279  -26.31200394    9.45350145  -27.07130271  -36.31139368\n",
      " [766]   12.59742613  -14.17595735  -40.98329334  -48.07344503  -12.28742574\n",
      " [771]  -25.77463692  -26.55725420   -0.26519928  -17.80274620  -40.12818096\n",
      " [776]   -7.40897783   -7.19965188  -43.22462543  -12.52356263   17.01907089\n",
      " [781]  -22.93447311  -22.53733955    6.17189149  -18.58781958  -27.33458632\n",
      " [786]  -10.85613509   -4.11264699   -3.71674482  -21.24075300    4.94819705\n",
      " [791]  -26.53372030  -36.22328804   16.36828716  -29.72792159  -24.77409695\n",
      " [796]    0.57366927   -5.04136852   38.33234989    0.77058996   11.27633440\n",
      " [801]   37.34879578  -90.92599604  -19.02540739   -0.26148076  -11.35875603\n",
      " [806]  -21.89998451  -15.24347486  -17.44198927  -30.46540568   11.96945136\n",
      " [811]  -45.93682735  -13.82013583   -4.89714072   81.74225641  -42.04833137\n",
      " [816]  -25.18042737  -20.59440183   61.18719268  -93.03789346  -32.99845941\n",
      " [821]  -42.02150827  -55.92734606  -33.41662228  -10.16115357  -34.23962148\n",
      " [826]  -10.17098827  -27.88160165   -8.77368167  -11.49236051  -28.88298420\n",
      " [831]  -18.01356835   -5.54775943   18.26061221   45.57122075   -7.79203486\n",
      " [836]   57.78216181   25.91081791   -3.61076882    8.80380809    4.75787952\n",
      " [841]  -76.31955237  -36.84957544   57.15585501  -42.36795178   44.40489126\n",
      " [846]    5.45025250   -4.94237908    6.67940887   -8.86919674   55.98349865\n",
      " [851]   31.38150155   -9.52721894    3.10370193   16.50465085   83.26597929\n",
      " [856]   24.44403005   15.96454122   13.18616626   -5.34477988   18.46442783\n",
      " [861]   49.59305428   -9.30740445  -17.92961157   10.26678660  -16.35283781\n",
      " [866]   -3.97806791    1.43865382  -11.26506994  -18.66853495   -9.22021212\n",
      " [871]   38.09962778   10.44516895   -2.47659561    5.40774824   13.87022939\n",
      " [876]   -3.38436962    7.43556885   16.28559260   -2.07740889  -18.59154057\n",
      " [881]   17.51711001   32.28577552    7.04886130    4.34812116  -78.23028315\n",
      " [886]  -36.33126381  -16.00424734  -15.38182531   76.24723234   22.61923858\n",
      " [891]    3.52935624   -2.36442012  -13.45202610   18.82335892    2.36090582\n",
      " [896]  -29.60717086    2.79292271   18.44910771    9.72195651  -10.50435226\n",
      " [901]   10.27217875   16.35864356  -57.95182412  -23.40306138   38.80594945\n",
      " [906]   29.27546071   12.72521580   17.14294877  -61.73295026  -48.68954863\n",
      " [911]  -20.18526516  -24.88237032   36.98642400   11.86382477  -15.27451812\n",
      " [916]   -4.70942658  -44.30281808  -21.74999803    3.61282770  -30.05823493\n",
      " [921]  -24.27369086   34.95612198   34.41203280   47.02531272  122.02926337\n",
      " [926]   22.93968075   13.59210060    5.36080086   -0.97648226    3.69774087\n",
      " [931]   10.36078385   13.20849230   -8.40181985  -43.37724504    0.27817174\n",
      " [936]   -9.43461811  -47.27796423  -66.17336907   10.00447000  -50.23984918\n",
      " [941]   10.97557588  -19.86326584   36.10687059  -64.75642124  -33.81374141\n",
      " [946]  -19.65358619   -1.57757547   -6.39395212  -14.56670033  -29.28692502\n",
      " [951]   70.34382772  -45.19625565   91.46831195   66.01895708   20.59520468\n",
      " [956]   21.25734162   82.67204069   45.15155722   43.26073279   33.31778525\n",
      " [961]   82.67887723   51.82456096   39.20502451   12.20124991  -17.39903513\n",
      " [966]   39.80217653   63.00418611  -69.47162163  -47.55547445  -10.47434569\n",
      " [971]  -18.36596412   18.74312332   -8.90138281  -26.11101259  -83.18649312\n",
      " [976] -129.88399858  -63.75392154  -34.11055339  -28.45341926    2.29259265\n",
      " [981]  -32.93014658   61.15894860   26.57375400   13.05864321  -22.17566746\n",
      " [986]  -27.13352052    5.74156319   -8.64447877   13.50407087  -59.83700017\n",
      " [991]  -18.70873550  -42.46657249  -59.05190953    1.50010637   -9.75769062\n",
      " [996]   -0.55441795  -22.26110494  -16.83150981  -12.91202434  119.78086254\n",
      "[1001]   47.10044409   10.01450701   -0.01723553  -59.52417914    2.27941241\n",
      "[1006]  -13.44933418   44.74210699  -61.35815647   25.39763736   77.17279206\n",
      "[1011]    9.55442192  110.06388136   54.03342096   25.85661512   33.12078281\n",
      "[1016]    9.54594426    6.60174124   43.68752281    7.37118205   -0.15193351\n",
      "[1021]    3.30777600  -10.87827082    5.79716585  -44.05071927   22.53565731\n",
      "[1026]    9.04450735   18.35347527   26.87772941   -0.61240965   56.66688104\n",
      "[1031]   88.34422523   41.99318475   -0.60191086   15.17019441  -15.36035120\n",
      "[1036]   48.03646536   42.41735939   40.95441986   23.60176287  -11.96781392\n",
      "[1041]    5.50540152   95.17292791   94.83059508   10.22828317   69.27900308\n",
      "[1046]   70.07581260   67.92400500   32.20534372   33.17818392  -55.30410452\n",
      "[1051]  -31.68412047   37.42343257   57.86663438   14.83917194  -60.62068801\n",
      "[1056]   35.49702190  -32.22995109  109.15410077  -56.86006629  -46.32456757\n",
      "[1061]   23.49510266   -3.66728537  -68.44528568  -30.41230151  -66.00609553\n",
      "[1066]   10.10433057   43.25012053  -46.85229623  -40.78715991   -0.30821232\n",
      "[1071] -133.56814535  -54.45854844  -29.59858840    3.23237139  -21.36864606\n",
      "[1076]  -73.12825416    0.02259906    4.10744833   72.59998133  -29.01211942\n",
      "[1081]  -48.36900021    3.74513699  -10.13020270   30.33341244  122.60404548\n",
      "[1086]   14.05930281   54.23970350   77.58916538   42.51497051   90.79215001\n",
      "[1091]   14.71228623   42.26947155   45.61398449  -23.92718470  -38.78589043\n"
     ]
    }
   ],
   "source": [
    "res<-residuals(arima(c1, order=c(4,0,9)))\n",
    "print(res)"
   ]
  },
  {
   "cell_type": "markdown",
   "id": "minus-ballet",
   "metadata": {},
   "source": [
    "**Media**"
   ]
  },
  {
   "cell_type": "code",
   "execution_count": 43,
   "id": "numeric-neighbor",
   "metadata": {},
   "outputs": [
    {
     "data": {
      "text/html": [
       "0.105491549961828"
      ],
      "text/latex": [
       "0.105491549961828"
      ],
      "text/markdown": [
       "0.105491549961828"
      ],
      "text/plain": [
       "[1] 0.1054915"
      ]
     },
     "metadata": {},
     "output_type": "display_data"
    }
   ],
   "source": [
    "mean(res)"
   ]
  },
  {
   "cell_type": "code",
   "execution_count": 44,
   "id": "eligible-chemistry",
   "metadata": {},
   "outputs": [
    {
     "data": {
      "image/png": "[encoded data removed]",
      "text/plain": [
       "plot without title"
      ]
     },
     "metadata": {},
     "output_type": "display_data"
    }
   ],
   "source": [
    "plot(res, type=\"p\")"
   ]
  },
  {
   "cell_type": "markdown",
   "id": "perceived-threat",
   "metadata": {},
   "source": [
    "**Incorrelación**"
   ]
  },
  {
   "cell_type": "code",
   "execution_count": 45,
   "id": "seventh-offset",
   "metadata": {},
   "outputs": [
    {
     "data": {
      "image/png": "[encoded data removed]",
      "text/plain": [
       "Plot with title \"Series res\""
      ]
     },
     "metadata": {},
     "output_type": "display_data"
    },
    {
     "data": {
      "image/png": "[encoded data removed]",
      "text/plain": [
       "Plot with title \"Series  res\""
      ]
     },
     "metadata": {},
     "output_type": "display_data"
    }
   ],
   "source": [
    "acf(res) \n",
    "pacf(res) "
   ]
  },
  {
   "cell_type": "markdown",
   "id": "worst-appeal",
   "metadata": {},
   "source": [
    "**Incorrelación de forma analítica**"
   ]
  },
  {
   "cell_type": "markdown",
   "id": "engaged-terrain",
   "metadata": {},
   "source": [
    "**HO:** Son independientes\n",
    "\n",
    "**Ha:** Muestran alguna dependencia\n",
    "\n",
    "alfa=0.05"
   ]
  },
  {
   "cell_type": "code",
   "execution_count": 46,
   "id": "brutal-uganda",
   "metadata": {},
   "outputs": [
    {
     "data": {
      "text/plain": [
       "\n",
       "\tBox-Pierce test\n",
       "\n",
       "data:  res\n",
       "X-squared = 0.0072678, df = 1, p-value = 0.9321\n"
      ]
     },
     "metadata": {},
     "output_type": "display_data"
    }
   ],
   "source": [
    "Box.test(res)"
   ]
  },
  {
   "cell_type": "markdown",
   "id": "maritime-flower",
   "metadata": {},
   "source": [
    "**Normalidad**"
   ]
  },
  {
   "cell_type": "markdown",
   "id": "handed-radiation",
   "metadata": {},
   "source": [
    "**HO:** Sigue una distribución normal\n",
    "\n",
    "**Ha:** NO sigue una distribución normal\n",
    "\n",
    "alfa=0.05"
   ]
  },
  {
   "cell_type": "code",
   "execution_count": 47,
   "id": "innovative-cleaning",
   "metadata": {},
   "outputs": [
    {
     "data": {
      "text/plain": [
       "\n",
       "\tShapiro-Wilk normality test\n",
       "\n",
       "data:  res\n",
       "W = 0.49304, p-value < 2.2e-16\n"
      ]
     },
     "metadata": {},
     "output_type": "display_data"
    }
   ],
   "source": [
    "shapiro.test(res)"
   ]
  },
  {
   "cell_type": "markdown",
   "id": "going-cleaners",
   "metadata": {},
   "source": [
    "## Predicciones"
   ]
  },
  {
   "cell_type": "code",
   "execution_count": 50,
   "id": "terminal-comparative",
   "metadata": {
    "scrolled": true
   },
   "outputs": [
    {
     "name": "stderr",
     "output_type": "stream",
     "text": [
      "Warning message in stats::arima(x = x, order = order, seasonal = seasonal, xreg = xreg, :\n",
      "\"possible convergence problem: optim gave code = 1\""
     ]
    },
    {
     "data": {
      "image/png": "[encoded data removed]",
      "text/plain": [
       "plot without title"
      ]
     },
     "metadata": {},
     "output_type": "display_data"
    }
   ],
   "source": [
    "p<-predict(arima(c1, order=c(4, 0,9), method=\"ML\"), n.ahead=100)$pred\n",
    "plot(c1)\n",
    "lines(p, col=\"magenta\")"
   ]
  },
  {
   "cell_type": "code",
   "execution_count": null,
   "id": "interim-indie",
   "metadata": {},
   "outputs": [],
   "source": []
  }
 ],
 "metadata": {
  "kernelspec": {
   "display_name": "R",
   "language": "R",
   "name": "ir"
  },
  "language_info": {
   "codemirror_mode": "r",
   "file_extension": ".r",
   "mimetype": "text/x-r-source",
   "name": "R",
   "pygments_lexer": "r",
   "version": "3.6.1"
  }
 },
 "nbformat": 4,
 "nbformat_minor": 5
}
