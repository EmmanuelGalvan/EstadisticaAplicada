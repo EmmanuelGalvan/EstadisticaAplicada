{
 "cells": [
  {
   "cell_type": "markdown",
   "metadata": {},
   "source": [
    "# Predicción de series de tiempo"
   ]
  },
  {
   "cell_type": "code",
   "execution_count": 1,
   "metadata": {},
   "outputs": [
    {
     "name": "stderr",
     "output_type": "stream",
     "text": [
      "Registered S3 method overwritten by 'quantmod':\n",
      "  method            from\n",
      "  as.zoo.data.frame zoo \n",
      "\n",
      "Warning message:\n",
      "\"package 'TSA' was built under R version 4.0.4\"\n",
      "\n",
      "Attaching package: 'TSA'\n",
      "\n",
      "\n",
      "The following objects are masked from 'package:stats':\n",
      "\n",
      "    acf, arima\n",
      "\n",
      "\n",
      "The following object is masked from 'package:utils':\n",
      "\n",
      "    tar\n",
      "\n",
      "\n"
     ]
    }
   ],
   "source": [
    "library(tseries)\n",
    "library(TSA)"
   ]
  },
  {
   "cell_type": "code",
   "execution_count": 2,
   "metadata": {},
   "outputs": [],
   "source": [
    "data('gold')"
   ]
  },
  {
   "cell_type": "code",
   "execution_count": 4,
   "metadata": {},
   "outputs": [
    {
     "data": {
      "text/html": [
       "<style>\n",
       ".list-inline {list-style: none; margin:0; padding: 0}\n",
       ".list-inline>li {display: inline-block}\n",
       ".list-inline>li:not(:last-child)::after {content: \"\\00b7\"; padding: 0 .5ex}\n",
       "</style>\n",
       "<ol class=list-inline><li>1</li><li>1</li></ol>\n"
      ],
      "text/latex": [
       "\\begin{enumerate*}\n",
       "\\item 1\n",
       "\\item 1\n",
       "\\end{enumerate*}\n"
      ],
      "text/markdown": [
       "1. 1\n",
       "2. 1\n",
       "\n",
       "\n"
      ],
      "text/plain": [
       "[1] 1 1"
      ]
     },
     "metadata": {},
     "output_type": "display_data"
    },
    {
     "data": {
      "text/html": [
       "<style>\n",
       ".list-inline {list-style: none; margin:0; padding: 0}\n",
       ".list-inline>li {display: inline-block}\n",
       ".list-inline>li:not(:last-child)::after {content: \"\\00b7\"; padding: 0 .5ex}\n",
       "</style>\n",
       "<ol class=list-inline><li>252</li><li>1</li></ol>\n"
      ],
      "text/latex": [
       "\\begin{enumerate*}\n",
       "\\item 252\n",
       "\\item 1\n",
       "\\end{enumerate*}\n"
      ],
      "text/markdown": [
       "1. 252\n",
       "2. 1\n",
       "\n",
       "\n"
      ],
      "text/plain": [
       "[1] 252   1"
      ]
     },
     "metadata": {},
     "output_type": "display_data"
    }
   ],
   "source": [
    "help(gold)\n",
    "start(gold)\n",
    "end(gold)"
   ]
  },
  {
   "cell_type": "code",
   "execution_count": 5,
   "metadata": {},
   "outputs": [
    {
     "data": {
      "image/png": "[encoded data removed]",
      "text/plain": [
       "plot without title"
      ]
     },
     "metadata": {
      "image/png": {
       "height": 420,
       "width": 420
      }
     },
     "output_type": "display_data"
    }
   ],
   "source": [
    "plot(gold)"
   ]
  },
  {
   "cell_type": "code",
   "execution_count": 6,
   "metadata": {},
   "outputs": [
    {
     "data": {
      "text/plain": [
       "\n",
       "Call:\n",
       "lm(formula = gold ~ time(gold))\n",
       "\n",
       "Residuals:\n",
       "    Min      1Q  Median      3Q     Max \n",
       "-28.195 -13.695   0.306  12.612  57.848 \n",
       "\n",
       "Coefficients:\n",
       "            Estimate Std. Error t value Pr(>|t|)    \n",
       "(Intercept) 406.3537     1.9705  206.22   <2e-16 ***\n",
       "time(gold)    0.3054     0.0135   22.62   <2e-16 ***\n",
       "---\n",
       "Signif. codes:  0 '***' 0.001 '**' 0.01 '*' 0.05 '.' 0.1 ' ' 1\n",
       "\n",
       "Residual standard error: 15.59 on 250 degrees of freedom\n",
       "Multiple R-squared:  0.6717,\tAdjusted R-squared:  0.6704 \n",
       "F-statistic: 511.5 on 1 and 250 DF,  p-value: < 2.2e-16\n"
      ]
     },
     "metadata": {},
     "output_type": "display_data"
    }
   ],
   "source": [
    "summary(lm(gold~time(gold)))"
   ]
  },
  {
   "cell_type": "code",
   "execution_count": 7,
   "metadata": {},
   "outputs": [
    {
     "data": {
      "text/plain": [
       "\n",
       "\tAugmented Dickey-Fuller Test\n",
       "\n",
       "data:  gold\n",
       "Dickey-Fuller = -1.7846, Lag order = 6, p-value = 0.6665\n",
       "alternative hypothesis: stationary\n"
      ]
     },
     "metadata": {},
     "output_type": "display_data"
    }
   ],
   "source": [
    "adf.test(gold)"
   ]
  },
  {
   "cell_type": "code",
   "execution_count": 10,
   "metadata": {},
   "outputs": [],
   "source": [
    "Corr1 <- diff(log(gold))"
   ]
  },
  {
   "cell_type": "code",
   "execution_count": 13,
   "metadata": {},
   "outputs": [
    {
     "data": {
      "image/png": "[encoded data removed]",
      "text/plain": [
       "plot without title"
      ]
     },
     "metadata": {
      "image/png": {
       "height": 420,
       "width": 420
      }
     },
     "output_type": "display_data"
    }
   ],
   "source": [
    "plot(Corr1)"
   ]
  },
  {
   "cell_type": "code",
   "execution_count": 12,
   "metadata": {},
   "outputs": [
    {
     "data": {
      "text/plain": [
       "\n",
       "Call:\n",
       "lm(formula = Corr1 ~ time(Corr1))\n",
       "\n",
       "Residuals:\n",
       "       Min         1Q     Median         3Q        Max \n",
       "-0.0295968 -0.0049480 -0.0002032  0.0044923  0.0233458 \n",
       "\n",
       "Coefficients:\n",
       "              Estimate Std. Error t value Pr(>|t|)\n",
       "(Intercept) -5.305e-04  1.036e-03  -0.512    0.609\n",
       "time(Corr1)  9.948e-06  7.089e-06   1.403    0.162\n",
       "\n",
       "Residual standard error: 0.008137 on 249 degrees of freedom\n",
       "Multiple R-squared:  0.007848,\tAdjusted R-squared:  0.003863 \n",
       "F-statistic:  1.97 on 1 and 249 DF,  p-value: 0.1617\n"
      ]
     },
     "metadata": {},
     "output_type": "display_data"
    }
   ],
   "source": [
    "summary(lm(Corr1~time(Corr1)))"
   ]
  },
  {
   "cell_type": "code",
   "execution_count": 14,
   "metadata": {},
   "outputs": [
    {
     "name": "stderr",
     "output_type": "stream",
     "text": [
      "Warning message in adf.test(Corr1):\n",
      "\"p-value smaller than printed p-value\"\n"
     ]
    },
    {
     "data": {
      "text/plain": [
       "\n",
       "\tAugmented Dickey-Fuller Test\n",
       "\n",
       "data:  Corr1\n",
       "Dickey-Fuller = -6.1997, Lag order = 6, p-value = 0.01\n",
       "alternative hypothesis: stationary\n"
      ]
     },
     "metadata": {},
     "output_type": "display_data"
    }
   ],
   "source": [
    "adf.test(Corr1)"
   ]
  },
  {
   "cell_type": "markdown",
   "metadata": {},
   "source": [
    "### Modelo AR"
   ]
  },
  {
   "cell_type": "code",
   "execution_count": 15,
   "metadata": {},
   "outputs": [
    {
     "data": {
      "text/plain": [
       "\n",
       "Call:\n",
       "ar(x = Corr1)\n",
       "\n",
       "\n",
       "Order selected 0  sigma^2 estimated as  6.648e-05"
      ]
     },
     "metadata": {},
     "output_type": "display_data"
    }
   ],
   "source": [
    "ar(Corr1)"
   ]
  },
  {
   "cell_type": "markdown",
   "metadata": {},
   "source": [
    "### Modelo MA"
   ]
  },
  {
   "cell_type": "code",
   "execution_count": 16,
   "metadata": {},
   "outputs": [
    {
     "data": {
      "text/html": [
       "1"
      ],
      "text/latex": [
       "1"
      ],
      "text/markdown": [
       "1"
      ],
      "text/plain": [
       "[1] 1"
      ]
     },
     "metadata": {},
     "output_type": "display_data"
    },
    {
     "data": {
      "text/html": [
       "-1698.97729095019"
      ],
      "text/latex": [
       "-1698.97729095019"
      ],
      "text/markdown": [
       "-1698.97729095019"
      ],
      "text/plain": [
       "[1] -1698.977"
      ]
     },
     "metadata": {},
     "output_type": "display_data"
    }
   ],
   "source": [
    "aux <- Inf\n",
    "for(i in 1:20){\n",
    "    if(AIC(arima(Corr1, order=c(0,0,i), method = 'ML')) < aux){\n",
    "        aux <- AIC(arima(Corr1, order=c(0,0,i), method = 'ML'))\n",
    "        MA.mejor <- i\n",
    "    }\n",
    "}\n",
    "MA.mejor\n",
    "aux"
   ]
  },
  {
   "cell_type": "markdown",
   "metadata": {},
   "source": [
    "### Modelo ARMA"
   ]
  },
  {
   "cell_type": "code",
   "execution_count": 17,
   "metadata": {},
   "outputs": [],
   "source": [
    "defaultW <- getOption(\"warn\") \n",
    "\n",
    "options(warn = -1) "
   ]
  },
  {
   "cell_type": "code",
   "execution_count": 18,
   "metadata": {},
   "outputs": [
    {
     "data": {
      "text/html": [
       "<style>\n",
       ".list-inline {list-style: none; margin:0; padding: 0}\n",
       ".list-inline>li {display: inline-block}\n",
       ".list-inline>li:not(:last-child)::after {content: \"\\00b7\"; padding: 0 .5ex}\n",
       "</style>\n",
       "<ol class=list-inline><li>3</li><li>2</li></ol>\n"
      ],
      "text/latex": [
       "\\begin{enumerate*}\n",
       "\\item 3\n",
       "\\item 2\n",
       "\\end{enumerate*}\n"
      ],
      "text/markdown": [
       "1. 3\n",
       "2. 2\n",
       "\n",
       "\n"
      ],
      "text/plain": [
       "[1] 3 2"
      ]
     },
     "metadata": {},
     "output_type": "display_data"
    },
    {
     "data": {
      "text/html": [
       "-1703.63763459021"
      ],
      "text/latex": [
       "-1703.63763459021"
      ],
      "text/markdown": [
       "-1703.63763459021"
      ],
      "text/plain": [
       "[1] -1703.638"
      ]
     },
     "metadata": {},
     "output_type": "display_data"
    }
   ],
   "source": [
    "arma.aic <- Inf\n",
    "for(j in 1:10){\n",
    "    for(i in 1:10){\n",
    "        if(AIC(arima(Corr1, order=c(j,0,i), method = 'ML')) < arma.aic){\n",
    "            arma.aic <- AIC(arima(Corr1, order=c(j,0,i), method = 'ML'))\n",
    "            ARMA.mejor <- c(j,i)\n",
    "        }\n",
    "    }\n",
    "}\n",
    "ARMA.mejor\n",
    "arma.aic"
   ]
  },
  {
   "cell_type": "code",
   "execution_count": 19,
   "metadata": {},
   "outputs": [],
   "source": [
    "options(warn = defaultW)"
   ]
  },
  {
   "cell_type": "markdown",
   "metadata": {},
   "source": [
    "## Ruido blanco"
   ]
  },
  {
   "cell_type": "code",
   "execution_count": 20,
   "metadata": {},
   "outputs": [
    {
     "data": {
      "text/html": [
       "-1.921603593338e-06"
      ],
      "text/latex": [
       "-1.921603593338e-06"
      ],
      "text/markdown": [
       "-1.921603593338e-06"
      ],
      "text/plain": [
       "[1] -1.921604e-06"
      ]
     },
     "metadata": {},
     "output_type": "display_data"
    },
    {
     "data": {
      "image/png": "[encoded data removed]",
      "text/plain": [
       "plot without title"
      ]
     },
     "metadata": {
      "image/png": {
       "height": 420,
       "width": 420
      }
     },
     "output_type": "display_data"
    }
   ],
   "source": [
    "Res <- residuals(arima(Corr1, order = c(3,0,2), method = 'ML'))\n",
    "mean(Res)\n",
    "plot(Res,\n",
    "    type = 'p')"
   ]
  },
  {
   "cell_type": "code",
   "execution_count": 29,
   "metadata": {},
   "outputs": [
    {
     "data": {
      "image/png": "[encoded data removed]",
      "text/plain": [
       "Plot with title \"Histogram of Res\""
      ]
     },
     "metadata": {
      "image/png": {
       "height": 420,
       "width": 420
      }
     },
     "output_type": "display_data"
    }
   ],
   "source": [
    "hist(Res)"
   ]
  },
  {
   "cell_type": "code",
   "execution_count": 21,
   "metadata": {},
   "outputs": [
    {
     "data": {
      "image/png": "[encoded data removed]",
      "text/plain": [
       "Plot with title \"Series Res\""
      ]
     },
     "metadata": {
      "image/png": {
       "height": 420,
       "width": 420
      }
     },
     "output_type": "display_data"
    }
   ],
   "source": [
    "acf(Res)"
   ]
  },
  {
   "cell_type": "code",
   "execution_count": 22,
   "metadata": {},
   "outputs": [
    {
     "data": {
      "image/png": "[encoded data removed]",
      "text/plain": [
       "Plot with title \"Series  Res\""
      ]
     },
     "metadata": {
      "image/png": {
       "height": 420,
       "width": 420
      }
     },
     "output_type": "display_data"
    }
   ],
   "source": [
    "pacf(Res)"
   ]
  },
  {
   "cell_type": "markdown",
   "metadata": {},
   "source": [
    "## Prediccion"
   ]
  },
  {
   "cell_type": "code",
   "execution_count": 23,
   "metadata": {},
   "outputs": [],
   "source": [
    "Predict <- predict(arima(gold, order = c(3,1,2), method = 'ML'), n.ahead = 50)$pred"
   ]
  },
  {
   "cell_type": "code",
   "execution_count": 34,
   "metadata": {},
   "outputs": [
    {
     "data": {
      "text/html": [
       "<table>\n",
       "<caption>A data.frame: 50 × 2</caption>\n",
       "<thead>\n",
       "\t<tr><th scope=col>time.Predict.</th><th scope=col>Predict</th></tr>\n",
       "\t<tr><th scope=col>&lt;ts&gt;</th><th scope=col>&lt;ts&gt;</th></tr>\n",
       "</thead>\n",
       "<tbody>\n",
       "\t<tr><td>253</td><td>509.5517</td></tr>\n",
       "\t<tr><td>254</td><td>510.0092</td></tr>\n",
       "\t<tr><td>255</td><td>513.6091</td></tr>\n",
       "\t<tr><td>256</td><td>515.4220</td></tr>\n",
       "\t<tr><td>257</td><td>513.0954</td></tr>\n",
       "\t<tr><td>258</td><td>509.8965</td></tr>\n",
       "\t<tr><td>259</td><td>510.1315</td></tr>\n",
       "\t<tr><td>260</td><td>513.3542</td></tr>\n",
       "\t<tr><td>261</td><td>515.1449</td></tr>\n",
       "\t<tr><td>262</td><td>513.1671</td></tr>\n",
       "\t<tr><td>263</td><td>510.2078</td></tr>\n",
       "\t<tr><td>264</td><td>510.2574</td></tr>\n",
       "\t<tr><td>265</td><td>513.1336</td></tr>\n",
       "\t<tr><td>266</td><td>514.8858</td></tr>\n",
       "\t<tr><td>267</td><td>513.2170</td></tr>\n",
       "\t<tr><td>268</td><td>510.4881</td></tr>\n",
       "\t<tr><td>269</td><td>510.3848</td></tr>\n",
       "\t<tr><td>270</td><td>512.9439</td></tr>\n",
       "\t<tr><td>271</td><td>514.6446</td></tr>\n",
       "\t<tr><td>272</td><td>513.2485</td></tr>\n",
       "\t<tr><td>273</td><td>510.7397</td></tr>\n",
       "\t<tr><td>274</td><td>510.5120</td></tr>\n",
       "\t<tr><td>275</td><td>512.7816</td></tr>\n",
       "\t<tr><td>276</td><td>514.4207</td></tr>\n",
       "\t<tr><td>277</td><td>513.2644</td></tr>\n",
       "\t<tr><td>278</td><td>510.9649</td></tr>\n",
       "\t<tr><td>279</td><td>510.6376</td></tr>\n",
       "\t<tr><td>280</td><td>512.6436</td></tr>\n",
       "\t<tr><td>281</td><td>514.2136</td></tr>\n",
       "\t<tr><td>282</td><td>513.2675</td></tr>\n",
       "\t<tr><td>283</td><td>511.1659</td></tr>\n",
       "\t<tr><td>284</td><td>510.7605</td></tr>\n",
       "\t<tr><td>285</td><td>512.5273</td></tr>\n",
       "\t<tr><td>286</td><td>514.0227</td></tr>\n",
       "\t<tr><td>287</td><td>513.2598</td></tr>\n",
       "\t<tr><td>288</td><td>511.3447</td></tr>\n",
       "\t<tr><td>289</td><td>510.8797</td></tr>\n",
       "\t<tr><td>290</td><td>512.4300</td></tr>\n",
       "\t<tr><td>291</td><td>513.8472</td></tr>\n",
       "\t<tr><td>292</td><td>513.2436</td></tr>\n",
       "\t<tr><td>293</td><td>511.5033</td></tr>\n",
       "\t<tr><td>294</td><td>510.9946</td></tr>\n",
       "\t<tr><td>295</td><td>512.3494</td></tr>\n",
       "\t<tr><td>296</td><td>513.6863</td></tr>\n",
       "\t<tr><td>297</td><td>513.2204</td></tr>\n",
       "\t<tr><td>298</td><td>511.6434</td></tr>\n",
       "\t<tr><td>299</td><td>511.1046</td></tr>\n",
       "\t<tr><td>300</td><td>512.2835</td></tr>\n",
       "\t<tr><td>301</td><td>513.5393</td></tr>\n",
       "\t<tr><td>302</td><td>513.1917</td></tr>\n",
       "</tbody>\n",
       "</table>\n"
      ],
      "text/latex": [
       "A data.frame: 50 × 2\n",
       "\\begin{tabular}{ll}\n",
       " time.Predict. & Predict\\\\\n",
       " <ts> & <ts>\\\\\n",
       "\\hline\n",
       "\t 253 & 509.5517\\\\\n",
       "\t 254 & 510.0092\\\\\n",
       "\t 255 & 513.6091\\\\\n",
       "\t 256 & 515.4220\\\\\n",
       "\t 257 & 513.0954\\\\\n",
       "\t 258 & 509.8965\\\\\n",
       "\t 259 & 510.1315\\\\\n",
       "\t 260 & 513.3542\\\\\n",
       "\t 261 & 515.1449\\\\\n",
       "\t 262 & 513.1671\\\\\n",
       "\t 263 & 510.2078\\\\\n",
       "\t 264 & 510.2574\\\\\n",
       "\t 265 & 513.1336\\\\\n",
       "\t 266 & 514.8858\\\\\n",
       "\t 267 & 513.2170\\\\\n",
       "\t 268 & 510.4881\\\\\n",
       "\t 269 & 510.3848\\\\\n",
       "\t 270 & 512.9439\\\\\n",
       "\t 271 & 514.6446\\\\\n",
       "\t 272 & 513.2485\\\\\n",
       "\t 273 & 510.7397\\\\\n",
       "\t 274 & 510.5120\\\\\n",
       "\t 275 & 512.7816\\\\\n",
       "\t 276 & 514.4207\\\\\n",
       "\t 277 & 513.2644\\\\\n",
       "\t 278 & 510.9649\\\\\n",
       "\t 279 & 510.6376\\\\\n",
       "\t 280 & 512.6436\\\\\n",
       "\t 281 & 514.2136\\\\\n",
       "\t 282 & 513.2675\\\\\n",
       "\t 283 & 511.1659\\\\\n",
       "\t 284 & 510.7605\\\\\n",
       "\t 285 & 512.5273\\\\\n",
       "\t 286 & 514.0227\\\\\n",
       "\t 287 & 513.2598\\\\\n",
       "\t 288 & 511.3447\\\\\n",
       "\t 289 & 510.8797\\\\\n",
       "\t 290 & 512.4300\\\\\n",
       "\t 291 & 513.8472\\\\\n",
       "\t 292 & 513.2436\\\\\n",
       "\t 293 & 511.5033\\\\\n",
       "\t 294 & 510.9946\\\\\n",
       "\t 295 & 512.3494\\\\\n",
       "\t 296 & 513.6863\\\\\n",
       "\t 297 & 513.2204\\\\\n",
       "\t 298 & 511.6434\\\\\n",
       "\t 299 & 511.1046\\\\\n",
       "\t 300 & 512.2835\\\\\n",
       "\t 301 & 513.5393\\\\\n",
       "\t 302 & 513.1917\\\\\n",
       "\\end{tabular}\n"
      ],
      "text/markdown": [
       "\n",
       "A data.frame: 50 × 2\n",
       "\n",
       "| time.Predict. &lt;ts&gt; | Predict &lt;ts&gt; |\n",
       "|---|---|\n",
       "| 253 | 509.5517 |\n",
       "| 254 | 510.0092 |\n",
       "| 255 | 513.6091 |\n",
       "| 256 | 515.4220 |\n",
       "| 257 | 513.0954 |\n",
       "| 258 | 509.8965 |\n",
       "| 259 | 510.1315 |\n",
       "| 260 | 513.3542 |\n",
       "| 261 | 515.1449 |\n",
       "| 262 | 513.1671 |\n",
       "| 263 | 510.2078 |\n",
       "| 264 | 510.2574 |\n",
       "| 265 | 513.1336 |\n",
       "| 266 | 514.8858 |\n",
       "| 267 | 513.2170 |\n",
       "| 268 | 510.4881 |\n",
       "| 269 | 510.3848 |\n",
       "| 270 | 512.9439 |\n",
       "| 271 | 514.6446 |\n",
       "| 272 | 513.2485 |\n",
       "| 273 | 510.7397 |\n",
       "| 274 | 510.5120 |\n",
       "| 275 | 512.7816 |\n",
       "| 276 | 514.4207 |\n",
       "| 277 | 513.2644 |\n",
       "| 278 | 510.9649 |\n",
       "| 279 | 510.6376 |\n",
       "| 280 | 512.6436 |\n",
       "| 281 | 514.2136 |\n",
       "| 282 | 513.2675 |\n",
       "| 283 | 511.1659 |\n",
       "| 284 | 510.7605 |\n",
       "| 285 | 512.5273 |\n",
       "| 286 | 514.0227 |\n",
       "| 287 | 513.2598 |\n",
       "| 288 | 511.3447 |\n",
       "| 289 | 510.8797 |\n",
       "| 290 | 512.4300 |\n",
       "| 291 | 513.8472 |\n",
       "| 292 | 513.2436 |\n",
       "| 293 | 511.5033 |\n",
       "| 294 | 510.9946 |\n",
       "| 295 | 512.3494 |\n",
       "| 296 | 513.6863 |\n",
       "| 297 | 513.2204 |\n",
       "| 298 | 511.6434 |\n",
       "| 299 | 511.1046 |\n",
       "| 300 | 512.2835 |\n",
       "| 301 | 513.5393 |\n",
       "| 302 | 513.1917 |\n",
       "\n"
      ],
      "text/plain": [
       "   time.Predict. Predict \n",
       "1  253           509.5517\n",
       "2  254           510.0092\n",
       "3  255           513.6091\n",
       "4  256           515.4220\n",
       "5  257           513.0954\n",
       "6  258           509.8965\n",
       "7  259           510.1315\n",
       "8  260           513.3542\n",
       "9  261           515.1449\n",
       "10 262           513.1671\n",
       "11 263           510.2078\n",
       "12 264           510.2574\n",
       "13 265           513.1336\n",
       "14 266           514.8858\n",
       "15 267           513.2170\n",
       "16 268           510.4881\n",
       "17 269           510.3848\n",
       "18 270           512.9439\n",
       "19 271           514.6446\n",
       "20 272           513.2485\n",
       "21 273           510.7397\n",
       "22 274           510.5120\n",
       "23 275           512.7816\n",
       "24 276           514.4207\n",
       "25 277           513.2644\n",
       "26 278           510.9649\n",
       "27 279           510.6376\n",
       "28 280           512.6436\n",
       "29 281           514.2136\n",
       "30 282           513.2675\n",
       "31 283           511.1659\n",
       "32 284           510.7605\n",
       "33 285           512.5273\n",
       "34 286           514.0227\n",
       "35 287           513.2598\n",
       "36 288           511.3447\n",
       "37 289           510.8797\n",
       "38 290           512.4300\n",
       "39 291           513.8472\n",
       "40 292           513.2436\n",
       "41 293           511.5033\n",
       "42 294           510.9946\n",
       "43 295           512.3494\n",
       "44 296           513.6863\n",
       "45 297           513.2204\n",
       "46 298           511.6434\n",
       "47 299           511.1046\n",
       "48 300           512.2835\n",
       "49 301           513.5393\n",
       "50 302           513.1917"
      ]
     },
     "metadata": {},
     "output_type": "display_data"
    }
   ],
   "source": [
    "data.frame(time(Predict),Predict)"
   ]
  },
  {
   "cell_type": "code",
   "execution_count": 35,
   "metadata": {},
   "outputs": [
    {
     "data": {
      "image/png": "[encoded data removed]",
      "text/plain": [
       "Plot with title \"Predicciones del precio de oro 50 días al futuro\""
      ]
     },
     "metadata": {
      "image/png": {
       "height": 420,
       "width": 420
      }
     },
     "output_type": "display_data"
    }
   ],
   "source": [
    "plot(gold,\n",
    "    main = 'Predicciones del precio de oro 50 días al futuro',\n",
    "    xlim = c(0, 310),\n",
    "    xlab = 'Día',\n",
    "    ylab = 'Precio')\n",
    "lines(Predict,\n",
    "     col = 'blue')\n",
    "legend(legend = c('Datos historicos', 'Predicción'),\n",
    "       lty=1,\n",
    "       col = c('black', 'blue'),\n",
    "       x = 'bottomright',\n",
    "       cex = 0.8,\n",
    "       text.font = 2)"
   ]
  },
  {
   "cell_type": "code",
   "execution_count": 25,
   "metadata": {},
   "outputs": [
    {
     "data": {
      "text/html": [
       "-1703.63763459021"
      ],
      "text/latex": [
       "-1703.63763459021"
      ],
      "text/markdown": [
       "-1703.63763459021"
      ],
      "text/plain": [
       "[1] -1703.638"
      ]
     },
     "metadata": {},
     "output_type": "display_data"
    }
   ],
   "source": [
    "AIC(arima(Corr1, order = c(3,0,2), method = 'ML'))"
   ]
  },
  {
   "cell_type": "code",
   "execution_count": 27,
   "metadata": {},
   "outputs": [
    {
     "data": {
      "text/html": [
       "1377.70911569644"
      ],
      "text/latex": [
       "1377.70911569644"
      ],
      "text/markdown": [
       "1377.70911569644"
      ],
      "text/plain": [
       "[1] 1377.709"
      ]
     },
     "metadata": {},
     "output_type": "display_data"
    }
   ],
   "source": [
    "AIC(arima(gold, order = c(3,1,2), method = 'ML'))"
   ]
  },
  {
   "cell_type": "code",
   "execution_count": null,
   "metadata": {},
   "outputs": [],
   "source": []
  }
 ],
 "metadata": {
  "kernelspec": {
   "display_name": "R",
   "language": "R",
   "name": "ir"
  },
  "language_info": {
   "codemirror_mode": "r",
   "file_extension": ".r",
   "mimetype": "text/x-r-source",
   "name": "R",
   "pygments_lexer": "r",
   "version": "4.0.3"
  }
 },
 "nbformat": 4,
 "nbformat_minor": 4
}
