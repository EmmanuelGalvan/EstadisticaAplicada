{
 "cells": [
  {
   "cell_type": "code",
   "execution_count": 1,
   "metadata": {},
   "outputs": [
    {
     "name": "stderr",
     "output_type": "stream",
     "text": [
      "Warning message:\n",
      "\"package 'tseries' was built under R version 3.6.3\"Registered S3 method overwritten by 'xts':\n",
      "  method     from\n",
      "  as.zoo.xts zoo \n",
      "Registered S3 method overwritten by 'quantmod':\n",
      "  method            from\n",
      "  as.zoo.data.frame zoo \n",
      "Warning message:\n",
      "\"package 'TSA' was built under R version 3.6.3\"\n",
      "Attaching package: 'TSA'\n",
      "\n",
      "The following objects are masked from 'package:stats':\n",
      "\n",
      "    acf, arima\n",
      "\n",
      "The following object is masked from 'package:utils':\n",
      "\n",
      "    tar\n",
      "\n"
     ]
    }
   ],
   "source": [
    "library(tseries)\n",
    "library(TSA)"
   ]
  },
  {
   "cell_type": "code",
   "execution_count": 2,
   "metadata": {},
   "outputs": [],
   "source": [
    "data('nottem')"
   ]
  },
  {
   "cell_type": "code",
   "execution_count": 3,
   "metadata": {
    "scrolled": false
   },
   "outputs": [
    {
     "data": {
      "text/html": [
       "<ol class=list-inline>\n",
       "\t<li>1920</li>\n",
       "\t<li>1</li>\n",
       "</ol>\n"
      ],
      "text/latex": [
       "\\begin{enumerate*}\n",
       "\\item 1920\n",
       "\\item 1\n",
       "\\end{enumerate*}\n"
      ],
      "text/markdown": [
       "1. 1920\n",
       "2. 1\n",
       "\n",
       "\n"
      ],
      "text/plain": [
       "[1] 1920    1"
      ]
     },
     "metadata": {},
     "output_type": "display_data"
    },
    {
     "data": {
      "text/html": [
       "<ol class=list-inline>\n",
       "\t<li>1939</li>\n",
       "\t<li>12</li>\n",
       "</ol>\n"
      ],
      "text/latex": [
       "\\begin{enumerate*}\n",
       "\\item 1939\n",
       "\\item 12\n",
       "\\end{enumerate*}\n"
      ],
      "text/markdown": [
       "1. 1939\n",
       "2. 12\n",
       "\n",
       "\n"
      ],
      "text/plain": [
       "[1] 1939   12"
      ]
     },
     "metadata": {},
     "output_type": "display_data"
    },
    {
     "name": "stderr",
     "output_type": "stream",
     "text": [
      "ERROR while rich displaying an object: Error in repr_matrix_generic(obj, \"\\n%s%s\\n\", sprintf(\"|%%s\\n|%s|\\n\", : el argumento formal \"cols\" concuerda con múltiples argumentos especificados\n",
      "\n",
      "Traceback:\n",
      "1. FUN(X[[i]], ...)\n",
      "2. tryCatch(withCallingHandlers({\n",
      " .     if (!mime %in% names(repr::mime2repr)) \n",
      " .         stop(\"No repr_* for mimetype \", mime, \" in repr::mime2repr\")\n",
      " .     rpr <- repr::mime2repr[[mime]](obj)\n",
      " .     if (is.null(rpr)) \n",
      " .         return(NULL)\n",
      " .     prepare_content(is.raw(rpr), rpr)\n",
      " . }, error = error_handler), error = outer_handler)\n",
      "3. tryCatchList(expr, classes, parentenv, handlers)\n",
      "4. tryCatchOne(expr, names, parentenv, handlers[[1L]])\n",
      "5. doTryCatch(return(expr), name, parentenv, handler)\n",
      "6. withCallingHandlers({\n",
      " .     if (!mime %in% names(repr::mime2repr)) \n",
      " .         stop(\"No repr_* for mimetype \", mime, \" in repr::mime2repr\")\n",
      " .     rpr <- repr::mime2repr[[mime]](obj)\n",
      " .     if (is.null(rpr)) \n",
      " .         return(NULL)\n",
      " .     prepare_content(is.raw(rpr), rpr)\n",
      " . }, error = error_handler)\n",
      "7. repr::mime2repr[[mime]](obj)\n",
      "8. repr_markdown.ts(obj)\n",
      "9. repr_ts_generic(obj, repr_markdown.matrix, ...)\n",
      "10. repr_func(m, ..., rows = nrow(m), cols = ncol(m))\n"
     ]
    },
    {
     "data": {
      "text/html": [
       "<table>\n",
       "<thead><tr><th></th><th scope=col>Jan</th><th scope=col>Feb</th><th scope=col>Mar</th><th scope=col>Apr</th><th scope=col>May</th><th scope=col>Jun</th><th scope=col>Jul</th><th scope=col>Aug</th><th scope=col>Sep</th><th scope=col>Oct</th><th scope=col>Nov</th><th scope=col>Dec</th></tr></thead>\n",
       "<tbody>\n",
       "\t<tr><th scope=row>1920</th><td>1920.000</td><td>1920.083</td><td>1920.167</td><td>1920.250</td><td>1920.333</td><td>1920.417</td><td>1920.500</td><td>1920.583</td><td>1920.667</td><td>1920.750</td><td>1920.833</td><td>1920.917</td></tr>\n",
       "\t<tr><th scope=row>1921</th><td>1921.000</td><td>1921.083</td><td>1921.167</td><td>1921.250</td><td>1921.333</td><td>1921.417</td><td>1921.500</td><td>1921.583</td><td>1921.667</td><td>1921.750</td><td>1921.833</td><td>1921.917</td></tr>\n",
       "\t<tr><th scope=row>1922</th><td>1922.000</td><td>1922.083</td><td>1922.167</td><td>1922.250</td><td>1922.333</td><td>1922.417</td><td>1922.500</td><td>1922.583</td><td>1922.667</td><td>1922.750</td><td>1922.833</td><td>1922.917</td></tr>\n",
       "\t<tr><th scope=row>1923</th><td>1923.000</td><td>1923.083</td><td>1923.167</td><td>1923.250</td><td>1923.333</td><td>1923.417</td><td>1923.500</td><td>1923.583</td><td>1923.667</td><td>1923.750</td><td>1923.833</td><td>1923.917</td></tr>\n",
       "\t<tr><th scope=row>1924</th><td>1924.000</td><td>1924.083</td><td>1924.167</td><td>1924.250</td><td>1924.333</td><td>1924.417</td><td>1924.500</td><td>1924.583</td><td>1924.667</td><td>1924.750</td><td>1924.833</td><td>1924.917</td></tr>\n",
       "\t<tr><th scope=row>1925</th><td>1925.000</td><td>1925.083</td><td>1925.167</td><td>1925.250</td><td>1925.333</td><td>1925.417</td><td>1925.500</td><td>1925.583</td><td>1925.667</td><td>1925.750</td><td>1925.833</td><td>1925.917</td></tr>\n",
       "\t<tr><th scope=row>1926</th><td>1926.000</td><td>1926.083</td><td>1926.167</td><td>1926.250</td><td>1926.333</td><td>1926.417</td><td>1926.500</td><td>1926.583</td><td>1926.667</td><td>1926.750</td><td>1926.833</td><td>1926.917</td></tr>\n",
       "\t<tr><th scope=row>1927</th><td>1927.000</td><td>1927.083</td><td>1927.167</td><td>1927.250</td><td>1927.333</td><td>1927.417</td><td>1927.500</td><td>1927.583</td><td>1927.667</td><td>1927.750</td><td>1927.833</td><td>1927.917</td></tr>\n",
       "\t<tr><th scope=row>1928</th><td>1928.000</td><td>1928.083</td><td>1928.167</td><td>1928.250</td><td>1928.333</td><td>1928.417</td><td>1928.500</td><td>1928.583</td><td>1928.667</td><td>1928.750</td><td>1928.833</td><td>1928.917</td></tr>\n",
       "\t<tr><th scope=row>1929</th><td>1929.000</td><td>1929.083</td><td>1929.167</td><td>1929.250</td><td>1929.333</td><td>1929.417</td><td>1929.500</td><td>1929.583</td><td>1929.667</td><td>1929.750</td><td>1929.833</td><td>1929.917</td></tr>\n",
       "\t<tr><th scope=row>1930</th><td>1930.000</td><td>1930.083</td><td>1930.167</td><td>1930.250</td><td>1930.333</td><td>1930.417</td><td>1930.500</td><td>1930.583</td><td>1930.667</td><td>1930.750</td><td>1930.833</td><td>1930.917</td></tr>\n",
       "\t<tr><th scope=row>1931</th><td>1931.000</td><td>1931.083</td><td>1931.167</td><td>1931.250</td><td>1931.333</td><td>1931.417</td><td>1931.500</td><td>1931.583</td><td>1931.667</td><td>1931.750</td><td>1931.833</td><td>1931.917</td></tr>\n",
       "\t<tr><th scope=row>1932</th><td>1932.000</td><td>1932.083</td><td>1932.167</td><td>1932.250</td><td>1932.333</td><td>1932.417</td><td>1932.500</td><td>1932.583</td><td>1932.667</td><td>1932.750</td><td>1932.833</td><td>1932.917</td></tr>\n",
       "\t<tr><th scope=row>1933</th><td>1933.000</td><td>1933.083</td><td>1933.167</td><td>1933.250</td><td>1933.333</td><td>1933.417</td><td>1933.500</td><td>1933.583</td><td>1933.667</td><td>1933.750</td><td>1933.833</td><td>1933.917</td></tr>\n",
       "\t<tr><th scope=row>1934</th><td>1934.000</td><td>1934.083</td><td>1934.167</td><td>1934.250</td><td>1934.333</td><td>1934.417</td><td>1934.500</td><td>1934.583</td><td>1934.667</td><td>1934.750</td><td>1934.833</td><td>1934.917</td></tr>\n",
       "\t<tr><th scope=row>1935</th><td>1935.000</td><td>1935.083</td><td>1935.167</td><td>1935.250</td><td>1935.333</td><td>1935.417</td><td>1935.500</td><td>1935.583</td><td>1935.667</td><td>1935.750</td><td>1935.833</td><td>1935.917</td></tr>\n",
       "\t<tr><th scope=row>1936</th><td>1936.000</td><td>1936.083</td><td>1936.167</td><td>1936.250</td><td>1936.333</td><td>1936.417</td><td>1936.500</td><td>1936.583</td><td>1936.667</td><td>1936.750</td><td>1936.833</td><td>1936.917</td></tr>\n",
       "\t<tr><th scope=row>1937</th><td>1937.000</td><td>1937.083</td><td>1937.167</td><td>1937.250</td><td>1937.333</td><td>1937.417</td><td>1937.500</td><td>1937.583</td><td>1937.667</td><td>1937.750</td><td>1937.833</td><td>1937.917</td></tr>\n",
       "\t<tr><th scope=row>1938</th><td>1938.000</td><td>1938.083</td><td>1938.167</td><td>1938.250</td><td>1938.333</td><td>1938.417</td><td>1938.500</td><td>1938.583</td><td>1938.667</td><td>1938.750</td><td>1938.833</td><td>1938.917</td></tr>\n",
       "\t<tr><th scope=row>1939</th><td>1939.000</td><td>1939.083</td><td>1939.167</td><td>1939.250</td><td>1939.333</td><td>1939.417</td><td>1939.500</td><td>1939.583</td><td>1939.667</td><td>1939.750</td><td>1939.833</td><td>1939.917</td></tr>\n",
       "</tbody>\n",
       "</table>\n"
      ],
      "text/latex": [
       "\\begin{tabular}{r|llllllllllll}\n",
       "  & Jan & Feb & Mar & Apr & May & Jun & Jul & Aug & Sep & Oct & Nov & Dec\\\\\n",
       "\\hline\n",
       "\t1920 & 1920.000 & 1920.083 & 1920.167 & 1920.250 & 1920.333 & 1920.417 & 1920.500 & 1920.583 & 1920.667 & 1920.750 & 1920.833 & 1920.917\\\\\n",
       "\t1921 & 1921.000 & 1921.083 & 1921.167 & 1921.250 & 1921.333 & 1921.417 & 1921.500 & 1921.583 & 1921.667 & 1921.750 & 1921.833 & 1921.917\\\\\n",
       "\t1922 & 1922.000 & 1922.083 & 1922.167 & 1922.250 & 1922.333 & 1922.417 & 1922.500 & 1922.583 & 1922.667 & 1922.750 & 1922.833 & 1922.917\\\\\n",
       "\t1923 & 1923.000 & 1923.083 & 1923.167 & 1923.250 & 1923.333 & 1923.417 & 1923.500 & 1923.583 & 1923.667 & 1923.750 & 1923.833 & 1923.917\\\\\n",
       "\t1924 & 1924.000 & 1924.083 & 1924.167 & 1924.250 & 1924.333 & 1924.417 & 1924.500 & 1924.583 & 1924.667 & 1924.750 & 1924.833 & 1924.917\\\\\n",
       "\t1925 & 1925.000 & 1925.083 & 1925.167 & 1925.250 & 1925.333 & 1925.417 & 1925.500 & 1925.583 & 1925.667 & 1925.750 & 1925.833 & 1925.917\\\\\n",
       "\t1926 & 1926.000 & 1926.083 & 1926.167 & 1926.250 & 1926.333 & 1926.417 & 1926.500 & 1926.583 & 1926.667 & 1926.750 & 1926.833 & 1926.917\\\\\n",
       "\t1927 & 1927.000 & 1927.083 & 1927.167 & 1927.250 & 1927.333 & 1927.417 & 1927.500 & 1927.583 & 1927.667 & 1927.750 & 1927.833 & 1927.917\\\\\n",
       "\t1928 & 1928.000 & 1928.083 & 1928.167 & 1928.250 & 1928.333 & 1928.417 & 1928.500 & 1928.583 & 1928.667 & 1928.750 & 1928.833 & 1928.917\\\\\n",
       "\t1929 & 1929.000 & 1929.083 & 1929.167 & 1929.250 & 1929.333 & 1929.417 & 1929.500 & 1929.583 & 1929.667 & 1929.750 & 1929.833 & 1929.917\\\\\n",
       "\t1930 & 1930.000 & 1930.083 & 1930.167 & 1930.250 & 1930.333 & 1930.417 & 1930.500 & 1930.583 & 1930.667 & 1930.750 & 1930.833 & 1930.917\\\\\n",
       "\t1931 & 1931.000 & 1931.083 & 1931.167 & 1931.250 & 1931.333 & 1931.417 & 1931.500 & 1931.583 & 1931.667 & 1931.750 & 1931.833 & 1931.917\\\\\n",
       "\t1932 & 1932.000 & 1932.083 & 1932.167 & 1932.250 & 1932.333 & 1932.417 & 1932.500 & 1932.583 & 1932.667 & 1932.750 & 1932.833 & 1932.917\\\\\n",
       "\t1933 & 1933.000 & 1933.083 & 1933.167 & 1933.250 & 1933.333 & 1933.417 & 1933.500 & 1933.583 & 1933.667 & 1933.750 & 1933.833 & 1933.917\\\\\n",
       "\t1934 & 1934.000 & 1934.083 & 1934.167 & 1934.250 & 1934.333 & 1934.417 & 1934.500 & 1934.583 & 1934.667 & 1934.750 & 1934.833 & 1934.917\\\\\n",
       "\t1935 & 1935.000 & 1935.083 & 1935.167 & 1935.250 & 1935.333 & 1935.417 & 1935.500 & 1935.583 & 1935.667 & 1935.750 & 1935.833 & 1935.917\\\\\n",
       "\t1936 & 1936.000 & 1936.083 & 1936.167 & 1936.250 & 1936.333 & 1936.417 & 1936.500 & 1936.583 & 1936.667 & 1936.750 & 1936.833 & 1936.917\\\\\n",
       "\t1937 & 1937.000 & 1937.083 & 1937.167 & 1937.250 & 1937.333 & 1937.417 & 1937.500 & 1937.583 & 1937.667 & 1937.750 & 1937.833 & 1937.917\\\\\n",
       "\t1938 & 1938.000 & 1938.083 & 1938.167 & 1938.250 & 1938.333 & 1938.417 & 1938.500 & 1938.583 & 1938.667 & 1938.750 & 1938.833 & 1938.917\\\\\n",
       "\t1939 & 1939.000 & 1939.083 & 1939.167 & 1939.250 & 1939.333 & 1939.417 & 1939.500 & 1939.583 & 1939.667 & 1939.750 & 1939.833 & 1939.917\\\\\n",
       "\\end{tabular}\n"
      ],
      "text/plain": [
       "     Jan      Feb      Mar      Apr      May      Jun      Jul      Aug     \n",
       "1920 1920.000 1920.083 1920.167 1920.250 1920.333 1920.417 1920.500 1920.583\n",
       "1921 1921.000 1921.083 1921.167 1921.250 1921.333 1921.417 1921.500 1921.583\n",
       "1922 1922.000 1922.083 1922.167 1922.250 1922.333 1922.417 1922.500 1922.583\n",
       "1923 1923.000 1923.083 1923.167 1923.250 1923.333 1923.417 1923.500 1923.583\n",
       "1924 1924.000 1924.083 1924.167 1924.250 1924.333 1924.417 1924.500 1924.583\n",
       "1925 1925.000 1925.083 1925.167 1925.250 1925.333 1925.417 1925.500 1925.583\n",
       "1926 1926.000 1926.083 1926.167 1926.250 1926.333 1926.417 1926.500 1926.583\n",
       "1927 1927.000 1927.083 1927.167 1927.250 1927.333 1927.417 1927.500 1927.583\n",
       "1928 1928.000 1928.083 1928.167 1928.250 1928.333 1928.417 1928.500 1928.583\n",
       "1929 1929.000 1929.083 1929.167 1929.250 1929.333 1929.417 1929.500 1929.583\n",
       "1930 1930.000 1930.083 1930.167 1930.250 1930.333 1930.417 1930.500 1930.583\n",
       "1931 1931.000 1931.083 1931.167 1931.250 1931.333 1931.417 1931.500 1931.583\n",
       "1932 1932.000 1932.083 1932.167 1932.250 1932.333 1932.417 1932.500 1932.583\n",
       "1933 1933.000 1933.083 1933.167 1933.250 1933.333 1933.417 1933.500 1933.583\n",
       "1934 1934.000 1934.083 1934.167 1934.250 1934.333 1934.417 1934.500 1934.583\n",
       "1935 1935.000 1935.083 1935.167 1935.250 1935.333 1935.417 1935.500 1935.583\n",
       "1936 1936.000 1936.083 1936.167 1936.250 1936.333 1936.417 1936.500 1936.583\n",
       "1937 1937.000 1937.083 1937.167 1937.250 1937.333 1937.417 1937.500 1937.583\n",
       "1938 1938.000 1938.083 1938.167 1938.250 1938.333 1938.417 1938.500 1938.583\n",
       "1939 1939.000 1939.083 1939.167 1939.250 1939.333 1939.417 1939.500 1939.583\n",
       "     Sep      Oct      Nov      Dec     \n",
       "1920 1920.667 1920.750 1920.833 1920.917\n",
       "1921 1921.667 1921.750 1921.833 1921.917\n",
       "1922 1922.667 1922.750 1922.833 1922.917\n",
       "1923 1923.667 1923.750 1923.833 1923.917\n",
       "1924 1924.667 1924.750 1924.833 1924.917\n",
       "1925 1925.667 1925.750 1925.833 1925.917\n",
       "1926 1926.667 1926.750 1926.833 1926.917\n",
       "1927 1927.667 1927.750 1927.833 1927.917\n",
       "1928 1928.667 1928.750 1928.833 1928.917\n",
       "1929 1929.667 1929.750 1929.833 1929.917\n",
       "1930 1930.667 1930.750 1930.833 1930.917\n",
       "1931 1931.667 1931.750 1931.833 1931.917\n",
       "1932 1932.667 1932.750 1932.833 1932.917\n",
       "1933 1933.667 1933.750 1933.833 1933.917\n",
       "1934 1934.667 1934.750 1934.833 1934.917\n",
       "1935 1935.667 1935.750 1935.833 1935.917\n",
       "1936 1936.667 1936.750 1936.833 1936.917\n",
       "1937 1937.667 1937.750 1937.833 1937.917\n",
       "1938 1938.667 1938.750 1938.833 1938.917\n",
       "1939 1939.667 1939.750 1939.833 1939.917"
      ]
     },
     "metadata": {},
     "output_type": "display_data"
    },
    {
     "data": {
      "image/png": "[encoded data removed]",
      "text/plain": [
       "plot without title"
      ]
     },
     "metadata": {},
     "output_type": "display_data"
    }
   ],
   "source": [
    "start(nottem)\n",
    "end(nottem)\n",
    "time(nottem)\n",
    "plot(nottem)"
   ]
  },
  {
   "cell_type": "code",
   "execution_count": 4,
   "metadata": {},
   "outputs": [
    {
     "data": {
      "text/plain": [
       "\n",
       "Call:\n",
       "lm(formula = nottem ~ time(nottem))\n",
       "\n",
       "Residuals:\n",
       "    Min      1Q  Median      3Q     Max \n",
       "-17.675  -7.575  -1.620   8.028  17.882 \n",
       "\n",
       "Coefficients:\n",
       "              Estimate Std. Error t value Pr(>|t|)\n",
       "(Intercept)  -92.72334  185.13281  -0.501    0.617\n",
       "time(nottem)   0.07345    0.09593   0.766    0.445\n",
       "\n",
       "Residual standard error: 8.58 on 238 degrees of freedom\n",
       "Multiple R-squared:  0.002458,\tAdjusted R-squared:  -0.001734 \n",
       "F-statistic: 0.5864 on 1 and 238 DF,  p-value: 0.4446\n"
      ]
     },
     "metadata": {},
     "output_type": "display_data"
    }
   ],
   "source": [
    "summary(lm(nottem~time(nottem)))"
   ]
  },
  {
   "cell_type": "code",
   "execution_count": 5,
   "metadata": {},
   "outputs": [
    {
     "name": "stderr",
     "output_type": "stream",
     "text": [
      "Warning message in adf.test(nottem, alternative = \"stationary\"):\n",
      "\"p-value smaller than printed p-value\""
     ]
    },
    {
     "data": {
      "text/plain": [
       "\n",
       "\tAugmented Dickey-Fuller Test\n",
       "\n",
       "data:  nottem\n",
       "Dickey-Fuller = -12.998, Lag order = 6, p-value = 0.01\n",
       "alternative hypothesis: stationary\n"
      ]
     },
     "metadata": {},
     "output_type": "display_data"
    }
   ],
   "source": [
    "adf.test(nottem, alternative = 'stationary')"
   ]
  },
  {
   "cell_type": "code",
   "execution_count": 6,
   "metadata": {},
   "outputs": [],
   "source": [
    "data(hours)"
   ]
  },
  {
   "cell_type": "code",
   "execution_count": 7,
   "metadata": {},
   "outputs": [
    {
     "data": {
      "text/html": [
       "<ol class=list-inline>\n",
       "\t<li>1982</li>\n",
       "\t<li>7</li>\n",
       "</ol>\n"
      ],
      "text/latex": [
       "\\begin{enumerate*}\n",
       "\\item 1982\n",
       "\\item 7\n",
       "\\end{enumerate*}\n"
      ],
      "text/markdown": [
       "1. 1982\n",
       "2. 7\n",
       "\n",
       "\n"
      ],
      "text/plain": [
       "[1] 1982    7"
      ]
     },
     "metadata": {},
     "output_type": "display_data"
    },
    {
     "data": {
      "text/html": [
       "<ol class=list-inline>\n",
       "\t<li>1987</li>\n",
       "\t<li>6</li>\n",
       "</ol>\n"
      ],
      "text/latex": [
       "\\begin{enumerate*}\n",
       "\\item 1987\n",
       "\\item 6\n",
       "\\end{enumerate*}\n"
      ],
      "text/markdown": [
       "1. 1987\n",
       "2. 6\n",
       "\n",
       "\n"
      ],
      "text/plain": [
       "[1] 1987    6"
      ]
     },
     "metadata": {},
     "output_type": "display_data"
    },
    {
     "name": "stderr",
     "output_type": "stream",
     "text": [
      "ERROR while rich displaying an object: Error in repr_matrix_generic(obj, \"\\n%s%s\\n\", sprintf(\"|%%s\\n|%s|\\n\", : el argumento formal \"cols\" concuerda con múltiples argumentos especificados\n",
      "\n",
      "Traceback:\n",
      "1. FUN(X[[i]], ...)\n",
      "2. tryCatch(withCallingHandlers({\n",
      " .     if (!mime %in% names(repr::mime2repr)) \n",
      " .         stop(\"No repr_* for mimetype \", mime, \" in repr::mime2repr\")\n",
      " .     rpr <- repr::mime2repr[[mime]](obj)\n",
      " .     if (is.null(rpr)) \n",
      " .         return(NULL)\n",
      " .     prepare_content(is.raw(rpr), rpr)\n",
      " . }, error = error_handler), error = outer_handler)\n",
      "3. tryCatchList(expr, classes, parentenv, handlers)\n",
      "4. tryCatchOne(expr, names, parentenv, handlers[[1L]])\n",
      "5. doTryCatch(return(expr), name, parentenv, handler)\n",
      "6. withCallingHandlers({\n",
      " .     if (!mime %in% names(repr::mime2repr)) \n",
      " .         stop(\"No repr_* for mimetype \", mime, \" in repr::mime2repr\")\n",
      " .     rpr <- repr::mime2repr[[mime]](obj)\n",
      " .     if (is.null(rpr)) \n",
      " .         return(NULL)\n",
      " .     prepare_content(is.raw(rpr), rpr)\n",
      " . }, error = error_handler)\n",
      "7. repr::mime2repr[[mime]](obj)\n",
      "8. repr_markdown.ts(obj)\n",
      "9. repr_ts_generic(obj, repr_markdown.matrix, ...)\n",
      "10. repr_func(m, ..., rows = nrow(m), cols = ncol(m))\n"
     ]
    },
    {
     "data": {
      "text/html": [
       "<table>\n",
       "<thead><tr><th></th><th scope=col>Jan</th><th scope=col>Feb</th><th scope=col>Mar</th><th scope=col>Apr</th><th scope=col>May</th><th scope=col>Jun</th><th scope=col>Jul</th><th scope=col>Aug</th><th scope=col>Sep</th><th scope=col>Oct</th><th scope=col>Nov</th><th scope=col>Dec</th></tr></thead>\n",
       "<tbody>\n",
       "\t<tr><th scope=row>1982</th><td>        </td><td>        </td><td>        </td><td>        </td><td>        </td><td>        </td><td>1982.500</td><td>1982.583</td><td>1982.667</td><td>1982.750</td><td>1982.833</td><td>1982.917</td></tr>\n",
       "\t<tr><th scope=row>1983</th><td>1983.000</td><td>1983.083</td><td>1983.167</td><td>1983.250</td><td>1983.333</td><td>1983.417</td><td>1983.500</td><td>1983.583</td><td>1983.667</td><td>1983.750</td><td>1983.833</td><td>1983.917</td></tr>\n",
       "\t<tr><th scope=row>1984</th><td>1984.000</td><td>1984.083</td><td>1984.167</td><td>1984.250</td><td>1984.333</td><td>1984.417</td><td>1984.500</td><td>1984.583</td><td>1984.667</td><td>1984.750</td><td>1984.833</td><td>1984.917</td></tr>\n",
       "\t<tr><th scope=row>1985</th><td>1985.000</td><td>1985.083</td><td>1985.167</td><td>1985.250</td><td>1985.333</td><td>1985.417</td><td>1985.500</td><td>1985.583</td><td>1985.667</td><td>1985.750</td><td>1985.833</td><td>1985.917</td></tr>\n",
       "\t<tr><th scope=row>1986</th><td>1986.000</td><td>1986.083</td><td>1986.167</td><td>1986.250</td><td>1986.333</td><td>1986.417</td><td>1986.500</td><td>1986.583</td><td>1986.667</td><td>1986.750</td><td>1986.833</td><td>1986.917</td></tr>\n",
       "\t<tr><th scope=row>1987</th><td>1987.000</td><td>1987.083</td><td>1987.167</td><td>1987.250</td><td>1987.333</td><td>1987.417</td><td>        </td><td>        </td><td>        </td><td>        </td><td>        </td><td>        </td></tr>\n",
       "</tbody>\n",
       "</table>\n"
      ],
      "text/latex": [
       "\\begin{tabular}{r|llllllllllll}\n",
       "  & Jan & Feb & Mar & Apr & May & Jun & Jul & Aug & Sep & Oct & Nov & Dec\\\\\n",
       "\\hline\n",
       "\t1982 &          &          &          &          &          &          & 1982.500 & 1982.583 & 1982.667 & 1982.750 & 1982.833 & 1982.917\\\\\n",
       "\t1983 & 1983.000 & 1983.083 & 1983.167 & 1983.250 & 1983.333 & 1983.417 & 1983.500 & 1983.583 & 1983.667 & 1983.750 & 1983.833 & 1983.917\\\\\n",
       "\t1984 & 1984.000 & 1984.083 & 1984.167 & 1984.250 & 1984.333 & 1984.417 & 1984.500 & 1984.583 & 1984.667 & 1984.750 & 1984.833 & 1984.917\\\\\n",
       "\t1985 & 1985.000 & 1985.083 & 1985.167 & 1985.250 & 1985.333 & 1985.417 & 1985.500 & 1985.583 & 1985.667 & 1985.750 & 1985.833 & 1985.917\\\\\n",
       "\t1986 & 1986.000 & 1986.083 & 1986.167 & 1986.250 & 1986.333 & 1986.417 & 1986.500 & 1986.583 & 1986.667 & 1986.750 & 1986.833 & 1986.917\\\\\n",
       "\t1987 & 1987.000 & 1987.083 & 1987.167 & 1987.250 & 1987.333 & 1987.417 &          &          &          &          &          &         \\\\\n",
       "\\end{tabular}\n"
      ],
      "text/plain": [
       "     Jan      Feb      Mar      Apr      May      Jun      Jul      Aug     \n",
       "1982                                                       1982.500 1982.583\n",
       "1983 1983.000 1983.083 1983.167 1983.250 1983.333 1983.417 1983.500 1983.583\n",
       "1984 1984.000 1984.083 1984.167 1984.250 1984.333 1984.417 1984.500 1984.583\n",
       "1985 1985.000 1985.083 1985.167 1985.250 1985.333 1985.417 1985.500 1985.583\n",
       "1986 1986.000 1986.083 1986.167 1986.250 1986.333 1986.417 1986.500 1986.583\n",
       "1987 1987.000 1987.083 1987.167 1987.250 1987.333 1987.417                  \n",
       "     Sep      Oct      Nov      Dec     \n",
       "1982 1982.667 1982.750 1982.833 1982.917\n",
       "1983 1983.667 1983.750 1983.833 1983.917\n",
       "1984 1984.667 1984.750 1984.833 1984.917\n",
       "1985 1985.667 1985.750 1985.833 1985.917\n",
       "1986 1986.667 1986.750 1986.833 1986.917\n",
       "1987                                    "
      ]
     },
     "metadata": {},
     "output_type": "display_data"
    },
    {
     "data": {
      "image/png": "[encoded data removed]",
      "text/plain": [
       "plot without title"
      ]
     },
     "metadata": {},
     "output_type": "display_data"
    }
   ],
   "source": [
    "start(hours)\n",
    "end(hours)\n",
    "time(hours)\n",
    "plot(hours)"
   ]
  },
  {
   "cell_type": "code",
   "execution_count": 8,
   "metadata": {},
   "outputs": [
    {
     "data": {
      "text/plain": [
       "\n",
       "Call:\n",
       "lm(formula = hours ~ time(hours))\n",
       "\n",
       "Residuals:\n",
       "     Min       1Q   Median       3Q      Max \n",
       "-1.03634 -0.24446 -0.03871  0.34405  1.11314 \n",
       "\n",
       "Coefficients:\n",
       "              Estimate Std. Error t value Pr(>|t|)    \n",
       "(Intercept) -556.31190   86.31998  -6.445 2.49e-08 ***\n",
       "time(hours)    0.30062    0.04349   6.913 4.11e-09 ***\n",
       "---\n",
       "Signif. codes:  0 '***' 0.001 '**' 0.01 '*' 0.05 '.' 0.1 ' ' 1\n",
       "\n",
       "Residual standard error: 0.4861 on 58 degrees of freedom\n",
       "Multiple R-squared:  0.4517,\tAdjusted R-squared:  0.4423 \n",
       "F-statistic: 47.79 on 1 and 58 DF,  p-value: 4.106e-09\n"
      ]
     },
     "metadata": {},
     "output_type": "display_data"
    }
   ],
   "source": [
    "lineal<-lm(hours~time(hours))\n",
    "summary(lineal)"
   ]
  },
  {
   "cell_type": "code",
   "execution_count": 9,
   "metadata": {},
   "outputs": [
    {
     "data": {
      "text/plain": [
       "\n",
       "\tAugmented Dickey-Fuller Test\n",
       "\n",
       "data:  hours\n",
       "Dickey-Fuller = -2.8887, Lag order = 3, p-value = 0.2156\n",
       "alternative hypothesis: stationary\n"
      ]
     },
     "metadata": {},
     "output_type": "display_data"
    }
   ],
   "source": [
    "adf.test(hours, alternative = 'stationary')"
   ]
  },
  {
   "cell_type": "markdown",
   "metadata": {},
   "source": [
    "## Correlogramas"
   ]
  },
  {
   "cell_type": "code",
   "execution_count": 10,
   "metadata": {},
   "outputs": [
    {
     "data": {
      "image/png": "[encoded data removed]",
      "text/plain": [
       "Plot with title \"Series nottem\""
      ]
     },
     "metadata": {},
     "output_type": "display_data"
    }
   ],
   "source": [
    "acf(nottem)"
   ]
  },
  {
   "cell_type": "code",
   "execution_count": 11,
   "metadata": {},
   "outputs": [
    {
     "data": {
      "image/png": "[encoded data removed]",
      "text/plain": [
       "Plot with title \"Series  nottem\""
      ]
     },
     "metadata": {},
     "output_type": "display_data"
    }
   ],
   "source": [
    "pacf(nottem)"
   ]
  },
  {
   "cell_type": "markdown",
   "metadata": {},
   "source": [
    "## Modelos"
   ]
  },
  {
   "cell_type": "code",
   "execution_count": 12,
   "metadata": {},
   "outputs": [
    {
     "data": {
      "text/plain": [
       "\n",
       "Call:\n",
       "ar(x = nottem)\n",
       "\n",
       "Coefficients:\n",
       "      1        2        3        4        5        6        7        8  \n",
       " 0.4781   0.0664  -0.1848  -0.1959  -0.0154  -0.0402  -0.0553  -0.1069  \n",
       "      9       10       11       12       13  \n",
       " 0.0028   0.0124   0.1719   0.0372   0.0995  \n",
       "\n",
       "Order selected 13  sigma^2 estimated as  8.301"
      ]
     },
     "metadata": {},
     "output_type": "display_data"
    }
   ],
   "source": [
    "ar(nottem)"
   ]
  },
  {
   "cell_type": "code",
   "execution_count": 13,
   "metadata": {},
   "outputs": [
    {
     "data": {
      "text/html": [
       "1156.93872356186"
      ],
      "text/latex": [
       "1156.93872356186"
      ],
      "text/markdown": [
       "1156.93872356186"
      ],
      "text/plain": [
       "[1] 1156.939"
      ]
     },
     "metadata": {},
     "output_type": "display_data"
    }
   ],
   "source": [
    "AIC(arima(nottem, order=c(13,0,0), method = 'ML'))"
   ]
  },
  {
   "cell_type": "markdown",
   "metadata": {},
   "source": [
    "#### MA"
   ]
  },
  {
   "cell_type": "code",
   "execution_count": 14,
   "metadata": {},
   "outputs": [
    {
     "name": "stderr",
     "output_type": "stream",
     "text": [
      "Warning message in stats::arima(x = x, order = order, seasonal = seasonal, xreg = xreg, :\n",
      "\"possible convergence problem: optim gave code = 1\""
     ]
    },
    {
     "data": {
      "text/html": [
       "14"
      ],
      "text/latex": [
       "14"
      ],
      "text/markdown": [
       "14"
      ],
      "text/plain": [
       "[1] 14"
      ]
     },
     "metadata": {},
     "output_type": "display_data"
    },
    {
     "data": {
      "text/html": [
       "1261.240990096"
      ],
      "text/latex": [
       "1261.240990096"
      ],
      "text/markdown": [
       "1261.240990096"
      ],
      "text/plain": [
       "[1] 1261.241"
      ]
     },
     "metadata": {},
     "output_type": "display_data"
    }
   ],
   "source": [
    "aux <- Inf\n",
    "for(i in 1:15){\n",
    "    if(AIC(arima(nottem, order=c(0,0,i), method = 'ML')) < aux){\n",
    "        aux <- AIC(arima(nottem, order=c(0,0,i), method = 'ML'))\n",
    "        MA.mejor <- i\n",
    "    }\n",
    "}\n",
    "MA.mejor\n",
    "aux"
   ]
  },
  {
   "cell_type": "code",
   "execution_count": 15,
   "metadata": {},
   "outputs": [],
   "source": [
    "defaultW <- getOption(\"warn\") \n",
    "\n",
    "options(warn = -1) "
   ]
  },
  {
   "cell_type": "code",
   "execution_count": 16,
   "metadata": {},
   "outputs": [
    {
     "data": {
      "text/html": [
       "<ol class=list-inline>\n",
       "\t<li>9</li>\n",
       "\t<li>10</li>\n",
       "</ol>\n"
      ],
      "text/latex": [
       "\\begin{enumerate*}\n",
       "\\item 9\n",
       "\\item 10\n",
       "\\end{enumerate*}\n"
      ],
      "text/markdown": [
       "1. 9\n",
       "2. 10\n",
       "\n",
       "\n"
      ],
      "text/plain": [
       "[1]  9 10"
      ]
     },
     "metadata": {},
     "output_type": "display_data"
    },
    {
     "data": {
      "text/html": [
       "1112.72442478784"
      ],
      "text/latex": [
       "1112.72442478784"
      ],
      "text/markdown": [
       "1112.72442478784"
      ],
      "text/plain": [
       "[1] 1112.724"
      ]
     },
     "metadata": {},
     "output_type": "display_data"
    }
   ],
   "source": [
    "arma.aic <- Inf\n",
    "for(j in 1:10){\n",
    "    for(i in 1:10){\n",
    "        if(AIC(arima(nottem, order=c(j,0,i), method = 'ML')) < arma.aic){\n",
    "            arma.aic <- AIC(arima(nottem, order=c(j,0,i), method = 'ML'))\n",
    "            ARMA.mejor <- c(j,i)\n",
    "        }\n",
    "    }\n",
    "}\n",
    "ARMA.mejor\n",
    "arma.aic"
   ]
  },
  {
   "cell_type": "code",
   "execution_count": 17,
   "metadata": {},
   "outputs": [],
   "source": [
    "options(warn = defaultW)"
   ]
  },
  {
   "cell_type": "code",
   "execution_count": 18,
   "metadata": {},
   "outputs": [
    {
     "name": "stderr",
     "output_type": "stream",
     "text": [
      "Warning message in stats::arima(x = x, order = order, seasonal = seasonal, xreg = xreg, :\n",
      "\"possible convergence problem: optim gave code = 1\""
     ]
    },
    {
     "data": {
      "image/png": "[encoded data removed]",
      "text/plain": [
       "plot without title"
      ]
     },
     "metadata": {},
     "output_type": "display_data"
    }
   ],
   "source": [
    "plot(nottem,\n",
    "    xlim = c(1920, 1944))\n",
    "lines(predict(arima(nottem, order=c(13,0,0), method = 'ML'), n.ahead = 50)$pred,\n",
    "     col = 'red')\n",
    "lines(predict(arima(nottem, order = c(0,0,14), method = 'ML'), n.ahead = 50)$pred,\n",
    "     col = 'blue')\n",
    "lines(predict(arima(nottem, order = c(9,0,10), method = 'ML'), n.ahead = 50)$pred,\n",
    "     col = 'green')"
   ]
  },
  {
   "cell_type": "code",
   "execution_count": 19,
   "metadata": {},
   "outputs": [
    {
     "data": {
      "text/plain": [
       "\n",
       "Call:\n",
       "lm(formula = nottem ~ poly(Tiempo, degree = 4))\n",
       "\n",
       "Residuals:\n",
       "    Min      1Q  Median      3Q     Max \n",
       "-17.384  -7.635  -1.650   8.162  17.550 \n",
       "\n",
       "Coefficients:\n",
       "                          Estimate Std. Error t value Pr(>|t|)    \n",
       "(Intercept)                49.0396     0.5571  88.021   <2e-16 ***\n",
       "poly(Tiempo, degree = 4)1   6.5699     8.6311   0.761    0.447    \n",
       "poly(Tiempo, degree = 4)2   2.7884     8.6311   0.323    0.747    \n",
       "poly(Tiempo, degree = 4)3  -2.2078     8.6311  -0.256    0.798    \n",
       "poly(Tiempo, degree = 4)4  -0.6892     8.6311  -0.080    0.936    \n",
       "---\n",
       "Signif. codes:  0 '***' 0.001 '**' 0.01 '*' 0.05 '.' 0.1 ' ' 1\n",
       "\n",
       "Residual standard error: 8.631 on 235 degrees of freedom\n",
       "Multiple R-squared:  0.003205,\tAdjusted R-squared:  -0.01376 \n",
       "F-statistic: 0.1889 on 4 and 235 DF,  p-value: 0.944\n"
      ]
     },
     "metadata": {},
     "output_type": "display_data"
    }
   ],
   "source": [
    "Tiempo <- as.numeric(time(nottem))\n",
    "summary(lm(nottem~poly(Tiempo, degree = 4)))"
   ]
  },
  {
   "cell_type": "code",
   "execution_count": 20,
   "metadata": {
    "scrolled": false
   },
   "outputs": [
    {
     "name": "stderr",
     "output_type": "stream",
     "text": [
      "Warning message in stats::arima(x = x, order = order, seasonal = seasonal, xreg = xreg, :\n",
      "\"possible convergence problem: optim gave code = 1\"ERROR while rich displaying an object: Error in repr_matrix_generic(obj, \"\\n%s%s\\n\", sprintf(\"|%%s\\n|%s|\\n\", : el argumento formal \"cols\" concuerda con múltiples argumentos especificados\n",
      "\n",
      "Traceback:\n",
      "1. FUN(X[[i]], ...)\n",
      "2. tryCatch(withCallingHandlers({\n",
      " .     if (!mime %in% names(repr::mime2repr)) \n",
      " .         stop(\"No repr_* for mimetype \", mime, \" in repr::mime2repr\")\n",
      " .     rpr <- repr::mime2repr[[mime]](obj)\n",
      " .     if (is.null(rpr)) \n",
      " .         return(NULL)\n",
      " .     prepare_content(is.raw(rpr), rpr)\n",
      " . }, error = error_handler), error = outer_handler)\n",
      "3. tryCatchList(expr, classes, parentenv, handlers)\n",
      "4. tryCatchOne(expr, names, parentenv, handlers[[1L]])\n",
      "5. doTryCatch(return(expr), name, parentenv, handler)\n",
      "6. withCallingHandlers({\n",
      " .     if (!mime %in% names(repr::mime2repr)) \n",
      " .         stop(\"No repr_* for mimetype \", mime, \" in repr::mime2repr\")\n",
      " .     rpr <- repr::mime2repr[[mime]](obj)\n",
      " .     if (is.null(rpr)) \n",
      " .         return(NULL)\n",
      " .     prepare_content(is.raw(rpr), rpr)\n",
      " . }, error = error_handler)\n",
      "7. repr::mime2repr[[mime]](obj)\n",
      "8. repr_markdown.ts(obj)\n",
      "9. repr_ts_generic(obj, repr_markdown.matrix, ...)\n",
      "10. repr_func(m, ..., rows = nrow(m), cols = ncol(m))\n"
     ]
    },
    {
     "data": {
      "text/html": [
       "<table>\n",
       "<thead><tr><th></th><th scope=col>Jan</th><th scope=col>Feb</th><th scope=col>Mar</th><th scope=col>Apr</th><th scope=col>May</th><th scope=col>Jun</th><th scope=col>Jul</th><th scope=col>Aug</th><th scope=col>Sep</th><th scope=col>Oct</th><th scope=col>Nov</th><th scope=col>Dec</th></tr></thead>\n",
       "<tbody>\n",
       "\t<tr><th scope=row>1940</th><td>38.71865</td><td>38.88364</td><td>42.99025</td><td>47.20107</td><td>52.64161</td><td>58.83499</td><td>59.88831</td><td>61.70364</td><td>55.30956</td><td>49.60317</td><td>44.15157</td><td>38.73577</td></tr>\n",
       "\t<tr><th scope=row>1941</th><td>38.56340</td><td>39.42472</td><td>42.43827</td><td>47.66356</td><td>52.56771</td><td>58.66330</td><td>60.51359</td><td>60.43086</td><td>56.36798</td><td>49.10247</td><td>44.00381</td><td>39.44802</td></tr>\n",
       "\t<tr><th scope=row>1942</th><td>37.92082</td><td>39.64615</td><td>42.46747</td><td>47.60281</td><td>52.88289</td><td>58.27004</td><td>60.97505</td><td>59.89161</td><td>56.32953</td><td>49.54738</td><td>43.52470</td><td>39.80388</td></tr>\n",
       "\t<tr><th scope=row>1943</th><td>37.93126</td><td>39.38095</td><td>42.68131</td><td>47.54803</td><td>53.10532</td><td>58.07932</td><td>61.02593</td><td>59.89207</td><td>55.94680</td><td>49.90081</td><td>43.49263</td><td>39.67103</td></tr>\n",
       "\t<tr><th scope=row>1944</th><td>38.16031</td><td>39.21209</td><td>        </td><td>        </td><td>        </td><td>        </td><td>        </td><td>        </td><td>        </td><td>        </td><td>        </td><td>        </td></tr>\n",
       "</tbody>\n",
       "</table>\n"
      ],
      "text/latex": [
       "\\begin{tabular}{r|llllllllllll}\n",
       "  & Jan & Feb & Mar & Apr & May & Jun & Jul & Aug & Sep & Oct & Nov & Dec\\\\\n",
       "\\hline\n",
       "\t1940 & 38.71865 & 38.88364 & 42.99025 & 47.20107 & 52.64161 & 58.83499 & 59.88831 & 61.70364 & 55.30956 & 49.60317 & 44.15157 & 38.73577\\\\\n",
       "\t1941 & 38.56340 & 39.42472 & 42.43827 & 47.66356 & 52.56771 & 58.66330 & 60.51359 & 60.43086 & 56.36798 & 49.10247 & 44.00381 & 39.44802\\\\\n",
       "\t1942 & 37.92082 & 39.64615 & 42.46747 & 47.60281 & 52.88289 & 58.27004 & 60.97505 & 59.89161 & 56.32953 & 49.54738 & 43.52470 & 39.80388\\\\\n",
       "\t1943 & 37.93126 & 39.38095 & 42.68131 & 47.54803 & 53.10532 & 58.07932 & 61.02593 & 59.89207 & 55.94680 & 49.90081 & 43.49263 & 39.67103\\\\\n",
       "\t1944 & 38.16031 & 39.21209 &          &          &          &          &          &          &          &          &          &         \\\\\n",
       "\\end{tabular}\n"
      ],
      "text/plain": [
       "     Jan      Feb      Mar      Apr      May      Jun      Jul      Aug     \n",
       "1940 38.71865 38.88364 42.99025 47.20107 52.64161 58.83499 59.88831 61.70364\n",
       "1941 38.56340 39.42472 42.43827 47.66356 52.56771 58.66330 60.51359 60.43086\n",
       "1942 37.92082 39.64615 42.46747 47.60281 52.88289 58.27004 60.97505 59.89161\n",
       "1943 37.93126 39.38095 42.68131 47.54803 53.10532 58.07932 61.02593 59.89207\n",
       "1944 38.16031 39.21209                                                      \n",
       "     Sep      Oct      Nov      Dec     \n",
       "1940 55.30956 49.60317 44.15157 38.73577\n",
       "1941 56.36798 49.10247 44.00381 39.44802\n",
       "1942 56.32953 49.54738 43.52470 39.80388\n",
       "1943 55.94680 49.90081 43.49263 39.67103\n",
       "1944                                    "
      ]
     },
     "metadata": {},
     "output_type": "display_data"
    }
   ],
   "source": [
    "predict(arima(nottem, order = c(9,0,10), method = 'ML'), n.ahead = 50)$pred"
   ]
  },
  {
   "cell_type": "markdown",
   "metadata": {},
   "source": [
    "**Modelo polinomico**"
   ]
  },
  {
   "cell_type": "code",
   "execution_count": 21,
   "metadata": {},
   "outputs": [
    {
     "data": {
      "text/plain": [
       "\n",
       "Call:\n",
       "lm(formula = hours ~ poly(Tiempo, degree = 3))\n",
       "\n",
       "Residuals:\n",
       "     Min       1Q   Median       3Q      Max \n",
       "-0.96496 -0.16551 -0.01505  0.18570  1.09937 \n",
       "\n",
       "Coefficients:\n",
       "                          Estimate Std. Error t value Pr(>|t|)    \n",
       "(Intercept)                40.4000     0.0476 848.704  < 2e-16 ***\n",
       "poly(Tiempo, degree = 3)1   3.3605     0.3687   9.114 1.18e-12 ***\n",
       "poly(Tiempo, degree = 3)2  -1.8732     0.3687  -5.080 4.49e-06 ***\n",
       "poly(Tiempo, degree = 3)3   1.6076     0.3687   4.360 5.63e-05 ***\n",
       "---\n",
       "Signif. codes:  0 '***' 0.001 '**' 0.01 '*' 0.05 '.' 0.1 ' ' 1\n",
       "\n",
       "Residual standard error: 0.3687 on 56 degrees of freedom\n",
       "Multiple R-squared:  0.6955,\tAdjusted R-squared:  0.6791 \n",
       "F-statistic: 42.63 on 3 and 56 DF,  p-value: 1.772e-14\n"
      ]
     },
     "metadata": {},
     "output_type": "display_data"
    }
   ],
   "source": [
    "Tiempo <- as.numeric(time(hours))\n",
    "pol<-lm(hours~poly(Tiempo, degree = 3))\n",
    "summary(pol)"
   ]
  },
  {
   "cell_type": "markdown",
   "metadata": {},
   "source": [
    "**Modelo logaritmico**"
   ]
  },
  {
   "cell_type": "code",
   "execution_count": 22,
   "metadata": {},
   "outputs": [
    {
     "data": {
      "text/plain": [
       "\n",
       "Call:\n",
       "lm(formula = hours ~ log(Tiempo, base = 10))\n",
       "\n",
       "Residuals:\n",
       "     Min       1Q   Median       3Q      Max \n",
       "-1.03613 -0.24436 -0.03866  0.34396  1.11312 \n",
       "\n",
       "Coefficients:\n",
       "                       Estimate Std. Error t value Pr(>|t|)    \n",
       "(Intercept)             -4491.5      655.4  -6.853 5.16e-09 ***\n",
       "log(Tiempo, base = 10)   1374.2      198.7   6.915 4.07e-09 ***\n",
       "---\n",
       "Signif. codes:  0 '***' 0.001 '**' 0.01 '*' 0.05 '.' 0.1 ' ' 1\n",
       "\n",
       "Residual standard error: 0.4861 on 58 degrees of freedom\n",
       "Multiple R-squared:  0.4519,\tAdjusted R-squared:  0.4424 \n",
       "F-statistic: 47.82 on 1 and 58 DF,  p-value: 4.07e-09\n"
      ]
     },
     "metadata": {},
     "output_type": "display_data"
    }
   ],
   "source": [
    "log<-lm(hours~log(Tiempo, base=10))\n",
    "summary(log) "
   ]
  },
  {
   "cell_type": "markdown",
   "metadata": {},
   "source": [
    "**Modelo lineal**"
   ]
  },
  {
   "cell_type": "code",
   "execution_count": 23,
   "metadata": {},
   "outputs": [
    {
     "data": {
      "text/plain": [
       "\n",
       "Call:\n",
       "lm(formula = hours ~ time(hours))\n",
       "\n",
       "Residuals:\n",
       "     Min       1Q   Median       3Q      Max \n",
       "-1.03634 -0.24446 -0.03871  0.34405  1.11314 \n",
       "\n",
       "Coefficients:\n",
       "              Estimate Std. Error t value Pr(>|t|)    \n",
       "(Intercept) -556.31190   86.31998  -6.445 2.49e-08 ***\n",
       "time(hours)    0.30062    0.04349   6.913 4.11e-09 ***\n",
       "---\n",
       "Signif. codes:  0 '***' 0.001 '**' 0.01 '*' 0.05 '.' 0.1 ' ' 1\n",
       "\n",
       "Residual standard error: 0.4861 on 58 degrees of freedom\n",
       "Multiple R-squared:  0.4517,\tAdjusted R-squared:  0.4423 \n",
       "F-statistic: 47.79 on 1 and 58 DF,  p-value: 4.106e-09\n"
      ]
     },
     "metadata": {},
     "output_type": "display_data"
    }
   ],
   "source": [
    "lineal<-lm(hours~time(hours))\n",
    "summary(lineal)\n"
   ]
  },
  {
   "cell_type": "code",
   "execution_count": 24,
   "metadata": {},
   "outputs": [
    {
     "data": {
      "image/png": "[encoded data removed]",
      "text/plain": [
       "plot without title"
      ]
     },
     "metadata": {},
     "output_type": "display_data"
    }
   ],
   "source": [
    "plot(hours)\n",
    "abline(lineal, col=\"red\")\n",
    "lines(Tiempo,pol$fitted.values, col=\"blue\")\n",
    "lines(Tiempo, log$fitted.values, col=\"green\")"
   ]
  },
  {
   "cell_type": "code",
   "execution_count": null,
   "metadata": {},
   "outputs": [],
   "source": []
  }
 ],
 "metadata": {
  "kernelspec": {
   "display_name": "R",
   "language": "R",
   "name": "ir"
  },
  "language_info": {
   "codemirror_mode": "r",
   "file_extension": ".r",
   "mimetype": "text/x-r-source",
   "name": "R",
   "pygments_lexer": "r",
   "version": "3.6.1"
  }
 },
 "nbformat": 4,
 "nbformat_minor": 4
}
