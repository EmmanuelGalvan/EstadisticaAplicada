{
 "cells": [
  {
   "cell_type": "markdown",
   "metadata": {},
   "source": [
    "# Proyecto Final.\n",
    "## Datos: Pruebas sobre el uso del UDCA en pacientes con cirrosis biliar primaria."
   ]
  },
  {
   "cell_type": "markdown",
   "metadata": {},
   "source": [
    "**Grupo:** 001.\n",
    "\n",
    "**Integrantes:**\n",
    " \n",
    "* 1808039   Ana Karen Gómez Alonzo.\n",
    "* 1937881   Alma Cecilia Villarreal Duarte.\n",
    "* 1741418   Angel Emmanuel Hernández Galván.\n",
    "* 1802780   Sahori Verónica Ramírez Medellín."
   ]
  },
  {
   "cell_type": "markdown",
   "metadata": {},
   "source": [
    "**Librerías.**"
   ]
  },
  {
   "cell_type": "code",
   "execution_count": 1,
   "metadata": {},
   "outputs": [
    {
     "name": "stderr",
     "output_type": "stream",
     "text": [
      "Warning message:\n",
      "\"package 'survival' was built under R version 4.0.5\"\n"
     ]
    }
   ],
   "source": [
    "library(survival)"
   ]
  },
  {
   "cell_type": "markdown",
   "metadata": {},
   "source": [
    "**Apertura de datos.**"
   ]
  },
  {
   "cell_type": "code",
   "execution_count": 2,
   "metadata": {},
   "outputs": [],
   "source": [
    "data(udca)"
   ]
  },
  {
   "cell_type": "code",
   "execution_count": 3,
   "metadata": {},
   "outputs": [
    {
     "data": {
      "text/html": [
       "<table>\n",
       "<caption>A data.frame: 6 × 15</caption>\n",
       "<thead>\n",
       "\t<tr><th></th><th scope=col>id</th><th scope=col>trt</th><th scope=col>entry.dt</th><th scope=col>last.dt</th><th scope=col>stage</th><th scope=col>bili</th><th scope=col>riskscore</th><th scope=col>death.dt</th><th scope=col>tx.dt</th><th scope=col>hprogress.dt</th><th scope=col>varices.dt</th><th scope=col>ascites.dt</th><th scope=col>enceph.dt</th><th scope=col>double.dt</th><th scope=col>worsen.dt</th></tr>\n",
       "\t<tr><th></th><th scope=col>&lt;int&gt;</th><th scope=col>&lt;int&gt;</th><th scope=col>&lt;date&gt;</th><th scope=col>&lt;date&gt;</th><th scope=col>&lt;int&gt;</th><th scope=col>&lt;dbl&gt;</th><th scope=col>&lt;dbl&gt;</th><th scope=col>&lt;date&gt;</th><th scope=col>&lt;date&gt;</th><th scope=col>&lt;date&gt;</th><th scope=col>&lt;date&gt;</th><th scope=col>&lt;date&gt;</th><th scope=col>&lt;date&gt;</th><th scope=col>&lt;date&gt;</th><th scope=col>&lt;date&gt;</th></tr>\n",
       "</thead>\n",
       "<tbody>\n",
       "\t<tr><th scope=row>1</th><td>1</td><td>1</td><td>1988-04-21</td><td>1993-06-30</td><td>1</td><td>1.0</td><td>5.1</td><td>NA</td><td>NA</td><td>NA</td><td>NA</td><td>NA</td><td>NA</td><td>NA</td><td>NA</td></tr>\n",
       "\t<tr><th scope=row>2</th><td>2</td><td>0</td><td>1988-04-27</td><td>1993-06-30</td><td>1</td><td>1.7</td><td>4.2</td><td>NA</td><td>NA</td><td>NA</td><td>NA</td><td>NA</td><td>NA</td><td>NA</td><td>1992-04-22</td></tr>\n",
       "\t<tr><th scope=row>3</th><td>3</td><td>1</td><td>1988-04-25</td><td>1993-06-30</td><td>0</td><td>0.5</td><td>3.4</td><td>NA</td><td>NA</td><td>NA</td><td>NA</td><td>NA</td><td>NA</td><td>NA</td><td>NA</td></tr>\n",
       "\t<tr><th scope=row>4</th><td>4</td><td>1</td><td>1988-04-27</td><td>1989-04-05</td><td>1</td><td>1.4</td><td>5.0</td><td>NA</td><td>NA</td><td>NA</td><td>NA</td><td>NA</td><td>NA</td><td>NA</td><td>NA</td></tr>\n",
       "\t<tr><th scope=row>5</th><td>5</td><td>0</td><td>1988-05-12</td><td>1993-06-30</td><td>1</td><td>1.1</td><td>4.3</td><td>NA</td><td>NA</td><td>NA</td><td>NA</td><td>NA</td><td>NA</td><td>NA</td><td>NA</td></tr>\n",
       "\t<tr><th scope=row>6</th><td>6</td><td>1</td><td>1988-05-18</td><td>1990-06-25</td><td>1</td><td>1.4</td><td>5.9</td><td>1992-01-24</td><td>NA</td><td>NA</td><td>1990-06-25</td><td>NA</td><td>NA</td><td>NA</td><td>NA</td></tr>\n",
       "</tbody>\n",
       "</table>\n"
      ],
      "text/latex": [
       "A data.frame: 6 × 15\n",
       "\\begin{tabular}{r|lllllllllllllll}\n",
       "  & id & trt & entry.dt & last.dt & stage & bili & riskscore & death.dt & tx.dt & hprogress.dt & varices.dt & ascites.dt & enceph.dt & double.dt & worsen.dt\\\\\n",
       "  & <int> & <int> & <date> & <date> & <int> & <dbl> & <dbl> & <date> & <date> & <date> & <date> & <date> & <date> & <date> & <date>\\\\\n",
       "\\hline\n",
       "\t1 & 1 & 1 & 1988-04-21 & 1993-06-30 & 1 & 1.0 & 5.1 & NA & NA & NA & NA & NA & NA & NA & NA\\\\\n",
       "\t2 & 2 & 0 & 1988-04-27 & 1993-06-30 & 1 & 1.7 & 4.2 & NA & NA & NA & NA & NA & NA & NA & 1992-04-22\\\\\n",
       "\t3 & 3 & 1 & 1988-04-25 & 1993-06-30 & 0 & 0.5 & 3.4 & NA & NA & NA & NA & NA & NA & NA & NA\\\\\n",
       "\t4 & 4 & 1 & 1988-04-27 & 1989-04-05 & 1 & 1.4 & 5.0 & NA & NA & NA & NA & NA & NA & NA & NA\\\\\n",
       "\t5 & 5 & 0 & 1988-05-12 & 1993-06-30 & 1 & 1.1 & 4.3 & NA & NA & NA & NA & NA & NA & NA & NA\\\\\n",
       "\t6 & 6 & 1 & 1988-05-18 & 1990-06-25 & 1 & 1.4 & 5.9 & 1992-01-24 & NA & NA & 1990-06-25 & NA & NA & NA & NA\\\\\n",
       "\\end{tabular}\n"
      ],
      "text/markdown": [
       "\n",
       "A data.frame: 6 × 15\n",
       "\n",
       "| <!--/--> | id &lt;int&gt; | trt &lt;int&gt; | entry.dt &lt;date&gt; | last.dt &lt;date&gt; | stage &lt;int&gt; | bili &lt;dbl&gt; | riskscore &lt;dbl&gt; | death.dt &lt;date&gt; | tx.dt &lt;date&gt; | hprogress.dt &lt;date&gt; | varices.dt &lt;date&gt; | ascites.dt &lt;date&gt; | enceph.dt &lt;date&gt; | double.dt &lt;date&gt; | worsen.dt &lt;date&gt; |\n",
       "|---|---|---|---|---|---|---|---|---|---|---|---|---|---|---|---|\n",
       "| 1 | 1 | 1 | 1988-04-21 | 1993-06-30 | 1 | 1.0 | 5.1 | NA | NA | NA | NA | NA | NA | NA | NA |\n",
       "| 2 | 2 | 0 | 1988-04-27 | 1993-06-30 | 1 | 1.7 | 4.2 | NA | NA | NA | NA | NA | NA | NA | 1992-04-22 |\n",
       "| 3 | 3 | 1 | 1988-04-25 | 1993-06-30 | 0 | 0.5 | 3.4 | NA | NA | NA | NA | NA | NA | NA | NA |\n",
       "| 4 | 4 | 1 | 1988-04-27 | 1989-04-05 | 1 | 1.4 | 5.0 | NA | NA | NA | NA | NA | NA | NA | NA |\n",
       "| 5 | 5 | 0 | 1988-05-12 | 1993-06-30 | 1 | 1.1 | 4.3 | NA | NA | NA | NA | NA | NA | NA | NA |\n",
       "| 6 | 6 | 1 | 1988-05-18 | 1990-06-25 | 1 | 1.4 | 5.9 | 1992-01-24 | NA | NA | 1990-06-25 | NA | NA | NA | NA |\n",
       "\n"
      ],
      "text/plain": [
       "  id trt entry.dt   last.dt    stage bili riskscore death.dt   tx.dt\n",
       "1 1  1   1988-04-21 1993-06-30 1     1.0  5.1       <NA>       <NA> \n",
       "2 2  0   1988-04-27 1993-06-30 1     1.7  4.2       <NA>       <NA> \n",
       "3 3  1   1988-04-25 1993-06-30 0     0.5  3.4       <NA>       <NA> \n",
       "4 4  1   1988-04-27 1989-04-05 1     1.4  5.0       <NA>       <NA> \n",
       "5 5  0   1988-05-12 1993-06-30 1     1.1  4.3       <NA>       <NA> \n",
       "6 6  1   1988-05-18 1990-06-25 1     1.4  5.9       1992-01-24 <NA> \n",
       "  hprogress.dt varices.dt ascites.dt enceph.dt double.dt worsen.dt \n",
       "1 <NA>         <NA>       <NA>       <NA>      <NA>      <NA>      \n",
       "2 <NA>         <NA>       <NA>       <NA>      <NA>      1992-04-22\n",
       "3 <NA>         <NA>       <NA>       <NA>      <NA>      <NA>      \n",
       "4 <NA>         <NA>       <NA>       <NA>      <NA>      <NA>      \n",
       "5 <NA>         <NA>       <NA>       <NA>      <NA>      <NA>      \n",
       "6 <NA>         1990-06-25 <NA>       <NA>      <NA>      <NA>      "
      ]
     },
     "metadata": {},
     "output_type": "display_data"
    }
   ],
   "source": [
    "head(udca)"
   ]
  },
  {
   "cell_type": "markdown",
   "metadata": {},
   "source": [
    "**Descripción de datos.**"
   ]
  },
  {
   "cell_type": "code",
   "execution_count": 4,
   "metadata": {},
   "outputs": [
    {
     "data": {
      "text/html": [
       "<style>\n",
       ".list-inline {list-style: none; margin:0; padding: 0}\n",
       ".list-inline>li {display: inline-block}\n",
       ".list-inline>li:not(:last-child)::after {content: \"\\00b7\"; padding: 0 .5ex}\n",
       "</style>\n",
       "<ol class=list-inline><li>170</li><li>15</li></ol>\n"
      ],
      "text/latex": [
       "\\begin{enumerate*}\n",
       "\\item 170\n",
       "\\item 15\n",
       "\\end{enumerate*}\n"
      ],
      "text/markdown": [
       "1. 170\n",
       "2. 15\n",
       "\n",
       "\n"
      ],
      "text/plain": [
       "[1] 170  15"
      ]
     },
     "metadata": {},
     "output_type": "display_data"
    },
    {
     "data": {
      "text/html": [
       "'data.frame'"
      ],
      "text/latex": [
       "'data.frame'"
      ],
      "text/markdown": [
       "'data.frame'"
      ],
      "text/plain": [
       "[1] \"data.frame\""
      ]
     },
     "metadata": {},
     "output_type": "display_data"
    }
   ],
   "source": [
    "dim(udca) \n",
    "class(udca) "
   ]
  },
  {
   "cell_type": "code",
   "execution_count": 5,
   "metadata": {},
   "outputs": [],
   "source": [
    "help(udca)"
   ]
  },
  {
   "cell_type": "markdown",
   "metadata": {},
   "source": [
    "**Limpieza de datos.**\n",
    "\n",
    "No necesario"
   ]
  },
  {
   "cell_type": "code",
   "execution_count": null,
   "metadata": {},
   "outputs": [],
   "source": [
    "udca.limpio<-na.omit(udca[1:7])"
   ]
  },
  {
   "cell_type": "code",
   "execution_count": null,
   "metadata": {},
   "outputs": [],
   "source": [
    "udca.limpio"
   ]
  },
  {
   "cell_type": "code",
   "execution_count": null,
   "metadata": {},
   "outputs": [],
   "source": [
    "udca.limpio<-udca.limpio[order(as.Date(udca.limpio$entry.dt, format=\"%d/%m/%Y\")),]"
   ]
  },
  {
   "cell_type": "code",
   "execution_count": null,
   "metadata": {},
   "outputs": [],
   "source": [
    "udca.limpio"
   ]
  },
  {
   "cell_type": "code",
   "execution_count": 6,
   "metadata": {},
   "outputs": [
    {
     "data": {
      "text/html": [
       "<table>\n",
       "<caption>A data.frame: 6 × 7</caption>\n",
       "<thead>\n",
       "\t<tr><th></th><th scope=col>id</th><th scope=col>trt</th><th scope=col>stage</th><th scope=col>bili</th><th scope=col>riskscore</th><th scope=col>futime</th><th scope=col>status</th></tr>\n",
       "\t<tr><th></th><th scope=col>&lt;int&gt;</th><th scope=col>&lt;int&gt;</th><th scope=col>&lt;int&gt;</th><th scope=col>&lt;dbl&gt;</th><th scope=col>&lt;dbl&gt;</th><th scope=col>&lt;dbl&gt;</th><th scope=col>&lt;dbl&gt;</th></tr>\n",
       "</thead>\n",
       "<tbody>\n",
       "\t<tr><th scope=row>1</th><td>1</td><td>1</td><td>1</td><td>1.0</td><td>5.1</td><td>1896</td><td>0</td></tr>\n",
       "\t<tr><th scope=row>2</th><td>2</td><td>0</td><td>1</td><td>1.7</td><td>4.2</td><td>1456</td><td>1</td></tr>\n",
       "\t<tr><th scope=row>3</th><td>3</td><td>1</td><td>0</td><td>0.5</td><td>3.4</td><td>1892</td><td>0</td></tr>\n",
       "\t<tr><th scope=row>4</th><td>4</td><td>1</td><td>1</td><td>1.4</td><td>5.0</td><td> 343</td><td>0</td></tr>\n",
       "\t<tr><th scope=row>5</th><td>5</td><td>0</td><td>1</td><td>1.1</td><td>4.3</td><td>1875</td><td>0</td></tr>\n",
       "\t<tr><th scope=row>6</th><td>6</td><td>1</td><td>1</td><td>1.4</td><td>5.9</td><td> 768</td><td>1</td></tr>\n",
       "</tbody>\n",
       "</table>\n"
      ],
      "text/latex": [
       "A data.frame: 6 × 7\n",
       "\\begin{tabular}{r|lllllll}\n",
       "  & id & trt & stage & bili & riskscore & futime & status\\\\\n",
       "  & <int> & <int> & <int> & <dbl> & <dbl> & <dbl> & <dbl>\\\\\n",
       "\\hline\n",
       "\t1 & 1 & 1 & 1 & 1.0 & 5.1 & 1896 & 0\\\\\n",
       "\t2 & 2 & 0 & 1 & 1.7 & 4.2 & 1456 & 1\\\\\n",
       "\t3 & 3 & 1 & 0 & 0.5 & 3.4 & 1892 & 0\\\\\n",
       "\t4 & 4 & 1 & 1 & 1.4 & 5.0 &  343 & 0\\\\\n",
       "\t5 & 5 & 0 & 1 & 1.1 & 4.3 & 1875 & 0\\\\\n",
       "\t6 & 6 & 1 & 1 & 1.4 & 5.9 &  768 & 1\\\\\n",
       "\\end{tabular}\n"
      ],
      "text/markdown": [
       "\n",
       "A data.frame: 6 × 7\n",
       "\n",
       "| <!--/--> | id &lt;int&gt; | trt &lt;int&gt; | stage &lt;int&gt; | bili &lt;dbl&gt; | riskscore &lt;dbl&gt; | futime &lt;dbl&gt; | status &lt;dbl&gt; |\n",
       "|---|---|---|---|---|---|---|---|\n",
       "| 1 | 1 | 1 | 1 | 1.0 | 5.1 | 1896 | 0 |\n",
       "| 2 | 2 | 0 | 1 | 1.7 | 4.2 | 1456 | 1 |\n",
       "| 3 | 3 | 1 | 0 | 0.5 | 3.4 | 1892 | 0 |\n",
       "| 4 | 4 | 1 | 1 | 1.4 | 5.0 |  343 | 0 |\n",
       "| 5 | 5 | 0 | 1 | 1.1 | 4.3 | 1875 | 0 |\n",
       "| 6 | 6 | 1 | 1 | 1.4 | 5.9 |  768 | 1 |\n",
       "\n"
      ],
      "text/plain": [
       "  id trt stage bili riskscore futime status\n",
       "1 1  1   1     1.0  5.1       1896   0     \n",
       "2 2  0   1     1.7  4.2       1456   1     \n",
       "3 3  1   0     0.5  3.4       1892   0     \n",
       "4 4  1   1     1.4  5.0        343   0     \n",
       "5 5  0   1     1.1  4.3       1875   0     \n",
       "6 6  1   1     1.4  5.9        768   1     "
      ]
     },
     "metadata": {},
     "output_type": "display_data"
    }
   ],
   "source": [
    "head(udca1)"
   ]
  },
  {
   "cell_type": "code",
   "execution_count": null,
   "metadata": {},
   "outputs": [],
   "source": [
    "help(udca1)"
   ]
  },
  {
   "cell_type": "code",
   "execution_count": null,
   "metadata": {},
   "outputs": [],
   "source": [
    "help(udca2)"
   ]
  },
  {
   "cell_type": "code",
   "execution_count": null,
   "metadata": {},
   "outputs": [],
   "source": [
    "fit1 <- coxph(Surv(futime, status) ~ trt + log(bili) + stage,\n",
    "cluster =id , data=udca1)"
   ]
  },
  {
   "cell_type": "code",
   "execution_count": null,
   "metadata": {},
   "outputs": [],
   "source": [
    "fit1"
   ]
  },
  {
   "cell_type": "code",
   "execution_count": null,
   "metadata": {
    "scrolled": false
   },
   "outputs": [],
   "source": [
    "udca2"
   ]
  },
  {
   "cell_type": "code",
   "execution_count": null,
   "metadata": {},
   "outputs": [],
   "source": [
    "unique(udca2$stage)"
   ]
  },
  {
   "cell_type": "code",
   "execution_count": null,
   "metadata": {},
   "outputs": [],
   "source": [
    "fit2 <- coxph(Surv(futime, status) ~ trt + log(bili) + stage +\n",
    "strata(endpoint), cluster=id, data=udca2)"
   ]
  },
  {
   "cell_type": "code",
   "execution_count": null,
   "metadata": {},
   "outputs": [],
   "source": [
    "fit2 "
   ]
  },
  {
   "cell_type": "markdown",
   "metadata": {},
   "source": [
    "## Objetivos."
   ]
  },
  {
   "cell_type": "markdown",
   "metadata": {},
   "source": [
    "* Determinar si hay diferencia significativa en la sobrevivencia de pacientes que tomaron UDCA, a los que tomaron el placebo.\n"
   ]
  },
  {
   "cell_type": "markdown",
   "metadata": {},
   "source": [
    "## Análisis."
   ]
  },
  {
   "cell_type": "markdown",
   "metadata": {},
   "source": [
    "### Análisis descriptivo de los datos."
   ]
  },
  {
   "cell_type": "code",
   "execution_count": null,
   "metadata": {},
   "outputs": [],
   "source": []
  },
  {
   "cell_type": "code",
   "execution_count": null,
   "metadata": {},
   "outputs": [],
   "source": []
  },
  {
   "cell_type": "code",
   "execution_count": null,
   "metadata": {},
   "outputs": [],
   "source": []
  },
  {
   "cell_type": "code",
   "execution_count": null,
   "metadata": {},
   "outputs": [],
   "source": []
  },
  {
   "cell_type": "markdown",
   "metadata": {},
   "source": [
    "### Análisis de regresión para selección de variables."
   ]
  },
  {
   "cell_type": "code",
   "execution_count": null,
   "metadata": {},
   "outputs": [],
   "source": []
  },
  {
   "cell_type": "markdown",
   "metadata": {},
   "source": [
    "### Análisis de supervivencia de forma."
   ]
  },
  {
   "cell_type": "markdown",
   "metadata": {},
   "source": [
    "**Respuesta compuesta.**"
   ]
  },
  {
   "cell_type": "code",
   "execution_count": 9,
   "metadata": {},
   "outputs": [],
   "source": [
    "Obj_surv <- Surv(udca1$futime, udca1$status == 1)"
   ]
  },
  {
   "cell_type": "markdown",
   "metadata": {},
   "source": [
    "**Modelo de Cox.**"
   ]
  },
  {
   "cell_type": "code",
   "execution_count": 10,
   "metadata": {},
   "outputs": [
    {
     "data": {
      "text/plain": [
       "Call:\n",
       "coxph(formula = Obj_surv ~ udca1$trt + udca1$stage + udca1$bili + \n",
       "    udca1$riskscore)\n",
       "\n",
       "  n= 169, number of events= 72 \n",
       "   (1 observation deleted due to missingness)\n",
       "\n",
       "                    coef exp(coef) se(coef)      z Pr(>|z|)    \n",
       "udca1$trt       -1.01636   0.36191  0.25628 -3.966 7.31e-05 ***\n",
       "udca1$stage      0.03453   1.03514  0.28768  0.120   0.9045    \n",
       "udca1$bili       0.08971   1.09385  0.07827  1.146   0.2518    \n",
       "udca1$riskscore  0.30950   1.36275  0.16142  1.917   0.0552 .  \n",
       "---\n",
       "Signif. codes:  0 '***' 0.001 '**' 0.01 '*' 0.05 '.' 0.1 ' ' 1\n",
       "\n",
       "                exp(coef) exp(-coef) lower .95 upper .95\n",
       "udca1$trt          0.3619     2.7631    0.2190    0.5981\n",
       "udca1$stage        1.0351     0.9661    0.5890    1.8192\n",
       "udca1$bili         1.0939     0.9142    0.9383    1.2752\n",
       "udca1$riskscore    1.3628     0.7338    0.9932    1.8699\n",
       "\n",
       "Concordance= 0.684  (se = 0.031 )\n",
       "Likelihood ratio test= 30.32  on 4 df,   p=4e-06\n",
       "Wald test            = 29.86  on 4 df,   p=5e-06\n",
       "Score (logrank) test = 31.47  on 4 df,   p=2e-06\n"
      ]
     },
     "metadata": {},
     "output_type": "display_data"
    }
   ],
   "source": [
    "summary(coxph(Obj_surv~udca1$trt+udca1$stage+udca1$bili+udca1$riskscore))"
   ]
  },
  {
   "cell_type": "markdown",
   "metadata": {},
   "source": [
    "**Modelo con todas las variables**\n",
    "* stage y bili no son significativas con un alfa = 0.10"
   ]
  },
  {
   "cell_type": "code",
   "execution_count": 11,
   "metadata": {},
   "outputs": [
    {
     "data": {
      "text/plain": [
       "Call:\n",
       "coxph(formula = Obj_surv ~ udca1$trt + udca1$bili + udca1$riskscore)\n",
       "\n",
       "  n= 169, number of events= 72 \n",
       "   (1 observation deleted due to missingness)\n",
       "\n",
       "                    coef exp(coef) se(coef)      z Pr(>|z|)    \n",
       "udca1$trt       -1.01972   0.36069  0.25485 -4.001  6.3e-05 ***\n",
       "udca1$bili       0.08913   1.09322  0.07790  1.144   0.2526    \n",
       "udca1$riskscore  0.31446   1.36952  0.15594  2.017   0.0437 *  \n",
       "---\n",
       "Signif. codes:  0 '***' 0.001 '**' 0.01 '*' 0.05 '.' 0.1 ' ' 1\n",
       "\n",
       "                exp(coef) exp(-coef) lower .95 upper .95\n",
       "udca1$trt          0.3607     2.7724    0.2189    0.5944\n",
       "udca1$bili         1.0932     0.9147    0.9384    1.2736\n",
       "udca1$riskscore    1.3695     0.7302    1.0089    1.8591\n",
       "\n",
       "Concordance= 0.684  (se = 0.032 )\n",
       "Likelihood ratio test= 30.3  on 3 df,   p=1e-06\n",
       "Wald test            = 29.83  on 3 df,   p=1e-06\n",
       "Score (logrank) test = 31.46  on 3 df,   p=7e-07\n"
      ]
     },
     "metadata": {},
     "output_type": "display_data"
    }
   ],
   "source": [
    "summary(coxph(Obj_surv~udca1$trt+udca1$bili+udca1$riskscore))"
   ]
  },
  {
   "cell_type": "markdown",
   "metadata": {},
   "source": [
    "**Modelo sin variable stage**\n",
    "* bili no son significativa con un alfa = 0.10"
   ]
  },
  {
   "cell_type": "code",
   "execution_count": 12,
   "metadata": {},
   "outputs": [
    {
     "data": {
      "text/plain": [
       "Call:\n",
       "coxph(formula = Obj_surv ~ udca1$trt + udca1$riskscore)\n",
       "\n",
       "  n= 169, number of events= 72 \n",
       "   (1 observation deleted due to missingness)\n",
       "\n",
       "                   coef exp(coef) se(coef)      z Pr(>|z|)    \n",
       "udca1$trt       -0.9656    0.3808   0.2473 -3.904 9.47e-05 ***\n",
       "udca1$riskscore  0.4421    1.5560   0.1069  4.136 3.53e-05 ***\n",
       "---\n",
       "Signif. codes:  0 '***' 0.001 '**' 0.01 '*' 0.05 '.' 0.1 ' ' 1\n",
       "\n",
       "                exp(coef) exp(-coef) lower .95 upper .95\n",
       "udca1$trt          0.3808     2.6263    0.2345    0.6183\n",
       "udca1$riskscore    1.5560     0.6427    1.2619    1.9186\n",
       "\n",
       "Concordance= 0.681  (se = 0.032 )\n",
       "Likelihood ratio test= 29.11  on 2 df,   p=5e-07\n",
       "Wald test            = 28.46  on 2 df,   p=7e-07\n",
       "Score (logrank) test = 29.46  on 2 df,   p=4e-07\n"
      ]
     },
     "metadata": {},
     "output_type": "display_data"
    }
   ],
   "source": [
    "summary(coxph(Obj_surv~udca1$trt+udca1$riskscore))"
   ]
  },
  {
   "cell_type": "markdown",
   "metadata": {},
   "source": [
    "**Modelo sin stage ni bili**\n",
    "* Modelo significativo con todas sus variables"
   ]
  },
  {
   "cell_type": "code",
   "execution_count": 13,
   "metadata": {},
   "outputs": [],
   "source": [
    "Modelo_cox <- coxph(Obj_surv~udca1$trt+udca1$riskscore)"
   ]
  },
  {
   "cell_type": "markdown",
   "metadata": {},
   "source": [
    "**Residuales de Martingala**"
   ]
  },
  {
   "cell_type": "code",
   "execution_count": 14,
   "metadata": {},
   "outputs": [
    {
     "data": {
      "text/html": [
       "<style>\n",
       ".dl-inline {width: auto; margin:0; padding: 0}\n",
       ".dl-inline>dt, .dl-inline>dd {float: none; width: auto; display: inline-block}\n",
       ".dl-inline>dt::after {content: \":\\0020\"; padding-right: .5ex}\n",
       ".dl-inline>dt:not(:first-of-type) {padding-left: .5ex}\n",
       "</style><dl class=dl-inline><dt>1</dt><dd>-0.418921917113577</dd><dt>2</dt><dd>0.327997309699067</dd><dt>3</dt><dd>-0.197565487281536</dd><dt>4</dt><dd>-0.0141975106432766</dd><dt>5</dt><dd>-0.772457302615705</dd><dt>6</dt><dd>0.741595071550306</dd><dt>7</dt><dd>-0.619252847053293</dd><dt>8</dt><dd>-0.317261386504189</dd><dt>9</dt><dd>-1.20195283404807</dd><dt>10</dt><dd>0.91186122001471</dd><dt>11</dt><dd>-0.321310795079757</dd><dt>12</dt><dd>0.244775341087742</dd><dt>13</dt><dd>0.6390628054873</dd><dt>14</dt><dd>0.94789872235056</dd><dt>15</dt><dd>-0.335835507007519</dd><dt>16</dt><dd>-1.20195283404807</dd><dt>17</dt><dd>0.636266120909231</dd><dt>18</dt><dd>0.920059221148147</dd><dt>19</dt><dd>-0.712112506927461</dd><dt>20</dt><dd>-0.287125560087988</dd><dt>21</dt><dd>0.685028559023904</dd><dt>22</dt><dd>-0.351016802093442</dd><dt>23</dt><dd>-0.348681027053471</dd><dt>24</dt><dd>0.546271373490364</dd><dt>25</dt><dd>0.0781088193777969</dd><dt>26</dt><dd>0.967320906360727</dd><dt>27</dt><dd>0.831285958188702</dd><dt>28</dt><dd>0.893345192144266</dd><dt>29</dt><dd>0.817242836961657</dd><dt>30</dt><dd>0.871122123450576</dd><dt>31</dt><dd>-0.478340292874332</dd><dt>32</dt><dd>-0.921891180622203</dd><dt>33</dt><dd>-0.418921917113577</dd><dt>34</dt><dd>-0.882019864016652</dd><dt>35</dt><dd>0.650734530578766</dd><dt>36</dt><dd>-1.31307645599015</dd><dt>37</dt><dd>-0.570876468956722</dd><dt>38</dt><dd>-1.49931849078793</dd><dt>39</dt><dd>-0.478340292874332</dd><dt>40</dt><dd>0.425984347682097</dd><dt>41</dt><dd>0.428042339814731</dd><dt>42</dt><dd>0.754168236993035</dd><dt>43</dt><dd>-0.090806947761996</dd><dt>44</dt><dd>0.915776111343881</dd><dt>45</dt><dd>-0.29411876132158</dd><dt>46</dt><dd>0.784328718851037</dd><dt>47</dt><dd>-0.235785045598549</dd><dt>48</dt><dd>-1.26521822385008</dd><dt>49</dt><dd>-0.478340292874332</dd><dt>50</dt><dd>0.55694749773444</dd><dt>51</dt><dd>0.279560745720142</dd><dt>52</dt><dd>0.952430483875121</dd><dt>53</dt><dd>0.816554239781267</dd><dt>54</dt><dd>-0.41440691168915</dd><dt>55</dt><dd>-0.676504360850841</dd><dt>56</dt><dd>0.922267378469196</dd><dt>57</dt><dd>0.961651931805456</dd><dt>58</dt><dd>-0.257583977740042</dd><dt>59</dt><dd>-0.208399212404058</dd><dt>60</dt><dd>0.375999056132562</dd><dt>61</dt><dd>-0.444283956376571</dd><dt>62</dt><dd>0.597969628730647</dd><dt>63</dt><dd>0.987366346556149</dd><dt>64</dt><dd>0.581846256096468</dd><dt>65</dt><dd>0.962712440627437</dd><dt>66</dt><dd>0.876758742843693</dd><dt>67</dt><dd>0.940799312075326</dd><dt>68</dt><dd>-0.570876468956722</dd><dt>69</dt><dd>-0.469446649025174</dd><dt>70</dt><dd>-0.0320772392276185</dd><dt>71</dt><dd>-0.257583977740042</dd><dt>72</dt><dd>-0.0437508494146566</dd><dt>73</dt><dd>-0.00961391098259338</dd><dt>74</dt><dd>-1.14821538021539</dd><dt>75</dt><dd>0.179391152095685</dd><dt>76</dt><dd>-0.225587464363886</dd><dt>77</dt><dd>0.673850638408421</dd><dt>78</dt><dd>-1.14996899582659</dd><dt>79</dt><dd>-1.37243349457844</dd><dt>80</dt><dd>-0.366884360887868</dd><dt>81</dt><dd>0.847466064695848</dd><dt>82</dt><dd>-1.14996899582659</dd><dt>83</dt><dd>-0.856255404733602</dd><dt>84</dt><dd>0.80484785511585</dd><dt>85</dt><dd>-0.183499440963812</dd><dt>86</dt><dd>-0.416900696254835</dd><dt>87</dt><dd>-0.398136687976774</dd><dt>88</dt><dd>-0.642938921617642</dd><dt>89</dt><dd>-0.54255186303056</dd><dt>90</dt><dd>-0.398136687976774</dd><dt>91</dt><dd>-0.110172552681178</dd><dt>92</dt><dd>0.254021751321458</dd><dt>93</dt><dd>-0.615132145893259</dd><dt>94</dt><dd>-0.876150629350842</dd><dt>95</dt><dd>-0.54255186303056</dd><dt>96</dt><dd>0.303045438893661</dd><dt>97</dt><dd>-0.558916834266818</dd><dt>98</dt><dd>-0.336535648672552</dd><dt>99</dt><dd>0.301231532879156</dd><dt>100</dt><dd>-0.599963775193373</dd><dt>101</dt><dd>-0.70238027375212</dd><dt>102</dt><dd>0.871734982323261</dd><dt>103</dt><dd>0.892465871098396</dd><dt>104</dt><dd>0.793685234549886</dd><dt>105</dt><dd>-0.237957806034557</dd><dt>106</dt><dd>-0.783771331766662</dd><dt>107</dt><dd>0.899324025140519</dd><dt>108</dt><dd>0.597193172309877</dd><dt>109</dt><dd>-0.271708884115135</dd><dt>110</dt><dd>0.615153879416511</dd><dt>111</dt><dd>-0.354251423771956</dd><dt>112</dt><dd>0.790048188297721</dd><dt>113</dt><dd>-0.167970168154736</dd><dt>114</dt><dd>-0.0291553108294817</dd><dt>115</dt><dd>-0.190762710594457</dd><dt>116</dt><dd>0.852428270406349</dd><dt>117</dt><dd>-0.25015475774053</dd><dt>118</dt><dd>-0.9013248370907</dd><dt>119</dt><dd>0.814468991612416</dd><dt>120</dt><dd>-0.605438020473908</dd><dt>121</dt><dd>-0.250059757280621</dd><dt>122</dt><dd>0</dd><dt>123</dt><dd>-0.273178423124932</dd><dt>124</dt><dd>-0.789364254529394</dd><dt>125</dt><dd>0.64567782975746</dd><dt>126</dt><dd>-0.128812323504595</dd><dt>127</dt><dd>-0.65674316297875</dd><dt>128</dt><dd>-1.27472051156524</dd><dt>129</dt><dd>-0.200464434869247</dd><dt>130</dt><dd>-0.200464434869247</dd><dt>131</dt><dd>-0.250059757280621</dd><dt>132</dt><dd>-0.192548917157167</dd><dt>133</dt><dd>-0.601164008678201</dd><dt>134</dt><dd>-0.261363597658364</dd><dt>135</dt><dd>0.664710527113705</dd><dt>136</dt><dd>0.717740538317696</dd><dt>137</dt><dd>0.612594160554297</dd><dt>138</dt><dd>-0.228897588235388</dd><dt>139</dt><dd>0.543592880444526</dd><dt>140</dt><dd>-0.326025500907776</dd><dt>141</dt><dd>-0.406684894891539</dd><dt>142</dt><dd>-0.503718376240233</dd><dt>143</dt><dd>0.523768117694289</dd><dt>144</dt><dd>0.922859864093678</dd><dt>145</dt><dd>-0.836096160746976</dd><dt>146</dt><dd>0.90790944834857</dd><dt>147</dt><dd>-0.17142981428364</dd><dt>148</dt><dd>-0.187278940249671</dd><dt>149</dt><dd>-0.187278940249671</dd><dt>150</dt><dd>0.76138171200465</dd><dt>152</dt><dd>0.995433801228187</dd><dt>153</dt><dd>-0.0101705345323342</dd><dt>154</dt><dd>0.813593849009171</dd><dt>155</dt><dd>-0.481791832925324</dd><dt>156</dt><dd>-0.147062250444956</dd><dt>157</dt><dd>0.691870958534243</dd><dt>158</dt><dd>-0.574995718424362</dd><dt>159</dt><dd>0.857431433204559</dd><dt>160</dt><dd>0.90954917186766</dd><dt>161</dt><dd>-0.20946504607395</dd><dt>162</dt><dd>-0.325930125730001</dd><dt>163</dt><dd>0.676401586711761</dd><dt>164</dt><dd>-0.298347165190325</dd><dt>165</dt><dd>0.190112873538425</dd><dt>166</dt><dd>-0.469446649025174</dd><dt>167</dt><dd>0.881847561407594</dd><dt>168</dt><dd>-0.138330346721168</dd><dt>169</dt><dd>-0.527928639303007</dd><dt>170</dt><dd>-0.131147747407305</dd></dl>\n"
      ],
      "text/latex": [
       "\\begin{description*}\n",
       "\\item[1] -0.418921917113577\n",
       "\\item[2] 0.327997309699067\n",
       "\\item[3] -0.197565487281536\n",
       "\\item[4] -0.0141975106432766\n",
       "\\item[5] -0.772457302615705\n",
       "\\item[6] 0.741595071550306\n",
       "\\item[7] -0.619252847053293\n",
       "\\item[8] -0.317261386504189\n",
       "\\item[9] -1.20195283404807\n",
       "\\item[10] 0.91186122001471\n",
       "\\item[11] -0.321310795079757\n",
       "\\item[12] 0.244775341087742\n",
       "\\item[13] 0.6390628054873\n",
       "\\item[14] 0.94789872235056\n",
       "\\item[15] -0.335835507007519\n",
       "\\item[16] -1.20195283404807\n",
       "\\item[17] 0.636266120909231\n",
       "\\item[18] 0.920059221148147\n",
       "\\item[19] -0.712112506927461\n",
       "\\item[20] -0.287125560087988\n",
       "\\item[21] 0.685028559023904\n",
       "\\item[22] -0.351016802093442\n",
       "\\item[23] -0.348681027053471\n",
       "\\item[24] 0.546271373490364\n",
       "\\item[25] 0.0781088193777969\n",
       "\\item[26] 0.967320906360727\n",
       "\\item[27] 0.831285958188702\n",
       "\\item[28] 0.893345192144266\n",
       "\\item[29] 0.817242836961657\n",
       "\\item[30] 0.871122123450576\n",
       "\\item[31] -0.478340292874332\n",
       "\\item[32] -0.921891180622203\n",
       "\\item[33] -0.418921917113577\n",
       "\\item[34] -0.882019864016652\n",
       "\\item[35] 0.650734530578766\n",
       "\\item[36] -1.31307645599015\n",
       "\\item[37] -0.570876468956722\n",
       "\\item[38] -1.49931849078793\n",
       "\\item[39] -0.478340292874332\n",
       "\\item[40] 0.425984347682097\n",
       "\\item[41] 0.428042339814731\n",
       "\\item[42] 0.754168236993035\n",
       "\\item[43] -0.090806947761996\n",
       "\\item[44] 0.915776111343881\n",
       "\\item[45] -0.29411876132158\n",
       "\\item[46] 0.784328718851037\n",
       "\\item[47] -0.235785045598549\n",
       "\\item[48] -1.26521822385008\n",
       "\\item[49] -0.478340292874332\n",
       "\\item[50] 0.55694749773444\n",
       "\\item[51] 0.279560745720142\n",
       "\\item[52] 0.952430483875121\n",
       "\\item[53] 0.816554239781267\n",
       "\\item[54] -0.41440691168915\n",
       "\\item[55] -0.676504360850841\n",
       "\\item[56] 0.922267378469196\n",
       "\\item[57] 0.961651931805456\n",
       "\\item[58] -0.257583977740042\n",
       "\\item[59] -0.208399212404058\n",
       "\\item[60] 0.375999056132562\n",
       "\\item[61] -0.444283956376571\n",
       "\\item[62] 0.597969628730647\n",
       "\\item[63] 0.987366346556149\n",
       "\\item[64] 0.581846256096468\n",
       "\\item[65] 0.962712440627437\n",
       "\\item[66] 0.876758742843693\n",
       "\\item[67] 0.940799312075326\n",
       "\\item[68] -0.570876468956722\n",
       "\\item[69] -0.469446649025174\n",
       "\\item[70] -0.0320772392276185\n",
       "\\item[71] -0.257583977740042\n",
       "\\item[72] -0.0437508494146566\n",
       "\\item[73] -0.00961391098259338\n",
       "\\item[74] -1.14821538021539\n",
       "\\item[75] 0.179391152095685\n",
       "\\item[76] -0.225587464363886\n",
       "\\item[77] 0.673850638408421\n",
       "\\item[78] -1.14996899582659\n",
       "\\item[79] -1.37243349457844\n",
       "\\item[80] -0.366884360887868\n",
       "\\item[81] 0.847466064695848\n",
       "\\item[82] -1.14996899582659\n",
       "\\item[83] -0.856255404733602\n",
       "\\item[84] 0.80484785511585\n",
       "\\item[85] -0.183499440963812\n",
       "\\item[86] -0.416900696254835\n",
       "\\item[87] -0.398136687976774\n",
       "\\item[88] -0.642938921617642\n",
       "\\item[89] -0.54255186303056\n",
       "\\item[90] -0.398136687976774\n",
       "\\item[91] -0.110172552681178\n",
       "\\item[92] 0.254021751321458\n",
       "\\item[93] -0.615132145893259\n",
       "\\item[94] -0.876150629350842\n",
       "\\item[95] -0.54255186303056\n",
       "\\item[96] 0.303045438893661\n",
       "\\item[97] -0.558916834266818\n",
       "\\item[98] -0.336535648672552\n",
       "\\item[99] 0.301231532879156\n",
       "\\item[100] -0.599963775193373\n",
       "\\item[101] -0.70238027375212\n",
       "\\item[102] 0.871734982323261\n",
       "\\item[103] 0.892465871098396\n",
       "\\item[104] 0.793685234549886\n",
       "\\item[105] -0.237957806034557\n",
       "\\item[106] -0.783771331766662\n",
       "\\item[107] 0.899324025140519\n",
       "\\item[108] 0.597193172309877\n",
       "\\item[109] -0.271708884115135\n",
       "\\item[110] 0.615153879416511\n",
       "\\item[111] -0.354251423771956\n",
       "\\item[112] 0.790048188297721\n",
       "\\item[113] -0.167970168154736\n",
       "\\item[114] -0.0291553108294817\n",
       "\\item[115] -0.190762710594457\n",
       "\\item[116] 0.852428270406349\n",
       "\\item[117] -0.25015475774053\n",
       "\\item[118] -0.9013248370907\n",
       "\\item[119] 0.814468991612416\n",
       "\\item[120] -0.605438020473908\n",
       "\\item[121] -0.250059757280621\n",
       "\\item[122] 0\n",
       "\\item[123] -0.273178423124932\n",
       "\\item[124] -0.789364254529394\n",
       "\\item[125] 0.64567782975746\n",
       "\\item[126] -0.128812323504595\n",
       "\\item[127] -0.65674316297875\n",
       "\\item[128] -1.27472051156524\n",
       "\\item[129] -0.200464434869247\n",
       "\\item[130] -0.200464434869247\n",
       "\\item[131] -0.250059757280621\n",
       "\\item[132] -0.192548917157167\n",
       "\\item[133] -0.601164008678201\n",
       "\\item[134] -0.261363597658364\n",
       "\\item[135] 0.664710527113705\n",
       "\\item[136] 0.717740538317696\n",
       "\\item[137] 0.612594160554297\n",
       "\\item[138] -0.228897588235388\n",
       "\\item[139] 0.543592880444526\n",
       "\\item[140] -0.326025500907776\n",
       "\\item[141] -0.406684894891539\n",
       "\\item[142] -0.503718376240233\n",
       "\\item[143] 0.523768117694289\n",
       "\\item[144] 0.922859864093678\n",
       "\\item[145] -0.836096160746976\n",
       "\\item[146] 0.90790944834857\n",
       "\\item[147] -0.17142981428364\n",
       "\\item[148] -0.187278940249671\n",
       "\\item[149] -0.187278940249671\n",
       "\\item[150] 0.76138171200465\n",
       "\\item[152] 0.995433801228187\n",
       "\\item[153] -0.0101705345323342\n",
       "\\item[154] 0.813593849009171\n",
       "\\item[155] -0.481791832925324\n",
       "\\item[156] -0.147062250444956\n",
       "\\item[157] 0.691870958534243\n",
       "\\item[158] -0.574995718424362\n",
       "\\item[159] 0.857431433204559\n",
       "\\item[160] 0.90954917186766\n",
       "\\item[161] -0.20946504607395\n",
       "\\item[162] -0.325930125730001\n",
       "\\item[163] 0.676401586711761\n",
       "\\item[164] -0.298347165190325\n",
       "\\item[165] 0.190112873538425\n",
       "\\item[166] -0.469446649025174\n",
       "\\item[167] 0.881847561407594\n",
       "\\item[168] -0.138330346721168\n",
       "\\item[169] -0.527928639303007\n",
       "\\item[170] -0.131147747407305\n",
       "\\end{description*}\n"
      ],
      "text/markdown": [
       "1\n",
       ":   -0.4189219171135772\n",
       ":   0.3279973096990673\n",
       ":   -0.1975654872815364\n",
       ":   -0.01419751064327665\n",
       ":   -0.7724573026157056\n",
       ":   0.7415950715503067\n",
       ":   -0.6192528470532938\n",
       ":   -0.3172613865041899\n",
       ":   -1.2019528340480710\n",
       ":   0.9118612200147111\n",
       ":   -0.32131079507975712\n",
       ":   0.24477534108774213\n",
       ":   0.639062805487314\n",
       ":   0.9478987223505615\n",
       ":   -0.33583550700751916\n",
       ":   -1.2019528340480717\n",
       ":   0.63626612090923118\n",
       ":   0.92005922114814719\n",
       ":   -0.71211250692746120\n",
       ":   -0.28712556008798821\n",
       ":   0.68502855902390422\n",
       ":   -0.35101680209344223\n",
       ":   -0.34868102705347124\n",
       ":   0.54627137349036425\n",
       ":   0.078108819377796926\n",
       ":   0.96732090636072727\n",
       ":   0.83128595818870228\n",
       ":   0.89334519214426629\n",
       ":   0.81724283696165730\n",
       ":   0.87112212345057631\n",
       ":   -0.47834029287433232\n",
       ":   -0.92189118062220333\n",
       ":   -0.41892191711357734\n",
       ":   -0.88201986401665235\n",
       ":   0.65073453057876636\n",
       ":   -1.3130764559901537\n",
       ":   -0.57087646895672238\n",
       ":   -1.4993184907879339\n",
       ":   -0.47834029287433240\n",
       ":   0.42598434768209741\n",
       ":   0.42804233981473142\n",
       ":   0.75416823699303543\n",
       ":   -0.09080694776199644\n",
       ":   0.91577611134388145\n",
       ":   -0.2941187613215846\n",
       ":   0.78432871885103747\n",
       ":   -0.23578504559854948\n",
       ":   -1.2652182238500849\n",
       ":   -0.47834029287433250\n",
       ":   0.5569474977344451\n",
       ":   0.27956074572014252\n",
       ":   0.95243048387512153\n",
       ":   0.81655423978126754\n",
       ":   -0.4144069116891555\n",
       ":   -0.67650436085084156\n",
       ":   0.92226737846919657\n",
       ":   0.96165193180545658\n",
       ":   -0.25758397774004259\n",
       ":   -0.20839921240405860\n",
       ":   0.37599905613256261\n",
       ":   -0.44428395637657162\n",
       ":   0.59796962873064763\n",
       ":   0.98736634655614964\n",
       ":   0.58184625609646865\n",
       ":   0.96271244062743766\n",
       ":   0.87675874284369367\n",
       ":   0.94079931207532668\n",
       ":   -0.57087646895672269\n",
       ":   -0.46944664902517470\n",
       ":   -0.032077239227618571\n",
       ":   -0.25758397774004272\n",
       ":   -0.043750849414656673\n",
       ":   -0.0096139109825933874\n",
       ":   -1.1482153802153975\n",
       ":   0.17939115209568576\n",
       ":   -0.22558746436388677\n",
       ":   0.67385063840842178\n",
       ":   -1.1499689958265979\n",
       ":   -1.3724334945784480\n",
       ":   -0.36688436088786881\n",
       ":   0.84746606469584882\n",
       ":   -1.1499689958265983\n",
       ":   -0.85625540473360284\n",
       ":   0.8048478551158585\n",
       ":   -0.18349944096381286\n",
       ":   -0.41690069625483587\n",
       ":   -0.39813668797677488\n",
       ":   -0.64293892161764289\n",
       ":   -0.5425518630305690\n",
       ":   -0.39813668797677491\n",
       ":   -0.11017255268117892\n",
       ":   0.25402175132145893\n",
       ":   -0.61513214589325994\n",
       ":   -0.87615062935084295\n",
       ":   -0.5425518630305696\n",
       ":   0.30304543889366197\n",
       ":   -0.55891683426681898\n",
       ":   -0.33653564867255299\n",
       ":   0.301231532879156100\n",
       ":   -0.599963775193373101\n",
       ":   -0.70238027375212102\n",
       ":   0.871734982323261103\n",
       ":   0.892465871098396104\n",
       ":   0.793685234549886105\n",
       ":   -0.237957806034557106\n",
       ":   -0.783771331766662107\n",
       ":   0.899324025140519108\n",
       ":   0.597193172309877109\n",
       ":   -0.271708884115135110\n",
       ":   0.615153879416511111\n",
       ":   -0.354251423771956112\n",
       ":   0.790048188297721113\n",
       ":   -0.167970168154736114\n",
       ":   -0.0291553108294817115\n",
       ":   -0.190762710594457116\n",
       ":   0.852428270406349117\n",
       ":   -0.25015475774053118\n",
       ":   -0.9013248370907119\n",
       ":   0.814468991612416120\n",
       ":   -0.605438020473908121\n",
       ":   -0.250059757280621122\n",
       ":   0123\n",
       ":   -0.273178423124932124\n",
       ":   -0.789364254529394125\n",
       ":   0.64567782975746126\n",
       ":   -0.128812323504595127\n",
       ":   -0.65674316297875128\n",
       ":   -1.27472051156524129\n",
       ":   -0.200464434869247130\n",
       ":   -0.200464434869247131\n",
       ":   -0.250059757280621132\n",
       ":   -0.192548917157167133\n",
       ":   -0.601164008678201134\n",
       ":   -0.261363597658364135\n",
       ":   0.664710527113705136\n",
       ":   0.717740538317696137\n",
       ":   0.612594160554297138\n",
       ":   -0.228897588235388139\n",
       ":   0.543592880444526140\n",
       ":   -0.326025500907776141\n",
       ":   -0.406684894891539142\n",
       ":   -0.503718376240233143\n",
       ":   0.523768117694289144\n",
       ":   0.922859864093678145\n",
       ":   -0.836096160746976146\n",
       ":   0.90790944834857147\n",
       ":   -0.17142981428364148\n",
       ":   -0.187278940249671149\n",
       ":   -0.187278940249671150\n",
       ":   0.76138171200465152\n",
       ":   0.995433801228187153\n",
       ":   -0.0101705345323342154\n",
       ":   0.813593849009171155\n",
       ":   -0.481791832925324156\n",
       ":   -0.147062250444956157\n",
       ":   0.691870958534243158\n",
       ":   -0.574995718424362159\n",
       ":   0.857431433204559160\n",
       ":   0.90954917186766161\n",
       ":   -0.20946504607395162\n",
       ":   -0.325930125730001163\n",
       ":   0.676401586711761164\n",
       ":   -0.298347165190325165\n",
       ":   0.190112873538425166\n",
       ":   -0.469446649025174167\n",
       ":   0.881847561407594168\n",
       ":   -0.138330346721168169\n",
       ":   -0.527928639303007170\n",
       ":   -0.131147747407305\n",
       "\n"
      ],
      "text/plain": [
       "           1            2            3            4            5            6 \n",
       "-0.418921917  0.327997310 -0.197565487 -0.014197511 -0.772457303  0.741595072 \n",
       "           7            8            9           10           11           12 \n",
       "-0.619252847 -0.317261387 -1.201952834  0.911861220 -0.321310795  0.244775341 \n",
       "          13           14           15           16           17           18 \n",
       " 0.639062805  0.947898722 -0.335835507 -1.201952834  0.636266121  0.920059221 \n",
       "          19           20           21           22           23           24 \n",
       "-0.712112507 -0.287125560  0.685028559 -0.351016802 -0.348681027  0.546271373 \n",
       "          25           26           27           28           29           30 \n",
       " 0.078108819  0.967320906  0.831285958  0.893345192  0.817242837  0.871122123 \n",
       "          31           32           33           34           35           36 \n",
       "-0.478340293 -0.921891181 -0.418921917 -0.882019864  0.650734531 -1.313076456 \n",
       "          37           38           39           40           41           42 \n",
       "-0.570876469 -1.499318491 -0.478340293  0.425984348  0.428042340  0.754168237 \n",
       "          43           44           45           46           47           48 \n",
       "-0.090806948  0.915776111 -0.294118761  0.784328719 -0.235785046 -1.265218224 \n",
       "          49           50           51           52           53           54 \n",
       "-0.478340293  0.556947498  0.279560746  0.952430484  0.816554240 -0.414406912 \n",
       "          55           56           57           58           59           60 \n",
       "-0.676504361  0.922267378  0.961651932 -0.257583978 -0.208399212  0.375999056 \n",
       "          61           62           63           64           65           66 \n",
       "-0.444283956  0.597969629  0.987366347  0.581846256  0.962712441  0.876758743 \n",
       "          67           68           69           70           71           72 \n",
       " 0.940799312 -0.570876469 -0.469446649 -0.032077239 -0.257583978 -0.043750849 \n",
       "          73           74           75           76           77           78 \n",
       "-0.009613911 -1.148215380  0.179391152 -0.225587464  0.673850638 -1.149968996 \n",
       "          79           80           81           82           83           84 \n",
       "-1.372433495 -0.366884361  0.847466065 -1.149968996 -0.856255405  0.804847855 \n",
       "          85           86           87           88           89           90 \n",
       "-0.183499441 -0.416900696 -0.398136688 -0.642938922 -0.542551863 -0.398136688 \n",
       "          91           92           93           94           95           96 \n",
       "-0.110172553  0.254021751 -0.615132146 -0.876150629 -0.542551863  0.303045439 \n",
       "          97           98           99          100          101          102 \n",
       "-0.558916834 -0.336535649  0.301231533 -0.599963775 -0.702380274  0.871734982 \n",
       "         103          104          105          106          107          108 \n",
       " 0.892465871  0.793685235 -0.237957806 -0.783771332  0.899324025  0.597193172 \n",
       "         109          110          111          112          113          114 \n",
       "-0.271708884  0.615153879 -0.354251424  0.790048188 -0.167970168 -0.029155311 \n",
       "         115          116          117          118          119          120 \n",
       "-0.190762711  0.852428270 -0.250154758 -0.901324837  0.814468992 -0.605438020 \n",
       "         121          122          123          124          125          126 \n",
       "-0.250059757  0.000000000 -0.273178423 -0.789364255  0.645677830 -0.128812324 \n",
       "         127          128          129          130          131          132 \n",
       "-0.656743163 -1.274720512 -0.200464435 -0.200464435 -0.250059757 -0.192548917 \n",
       "         133          134          135          136          137          138 \n",
       "-0.601164009 -0.261363598  0.664710527  0.717740538  0.612594161 -0.228897588 \n",
       "         139          140          141          142          143          144 \n",
       " 0.543592880 -0.326025501 -0.406684895 -0.503718376  0.523768118  0.922859864 \n",
       "         145          146          147          148          149          150 \n",
       "-0.836096161  0.907909448 -0.171429814 -0.187278940 -0.187278940  0.761381712 \n",
       "         152          153          154          155          156          157 \n",
       " 0.995433801 -0.010170535  0.813593849 -0.481791833 -0.147062250  0.691870959 \n",
       "         158          159          160          161          162          163 \n",
       "-0.574995718  0.857431433  0.909549172 -0.209465046 -0.325930126  0.676401587 \n",
       "         164          165          166          167          168          169 \n",
       "-0.298347165  0.190112874 -0.469446649  0.881847561 -0.138330347 -0.527928639 \n",
       "         170 \n",
       "-0.131147747 "
      ]
     },
     "metadata": {},
     "output_type": "display_data"
    }
   ],
   "source": [
    "resid(Modelo_cox, type = 'martingale')"
   ]
  },
  {
   "cell_type": "code",
   "execution_count": 15,
   "metadata": {},
   "outputs": [
    {
     "data": {
      "image/png": "[encoded data removed]",
      "text/plain": [
       "plot without title"
      ]
     },
     "metadata": {
      "image/png": {
       "height": 420,
       "width": 420
      }
     },
     "output_type": "display_data"
    }
   ],
   "source": [
    "plot(resid(Modelo_cox, type = 'martingale'))"
   ]
  },
  {
   "cell_type": "markdown",
   "metadata": {},
   "source": [
    "**Residuales de Desviacion**"
   ]
  },
  {
   "cell_type": "code",
   "execution_count": 17,
   "metadata": {},
   "outputs": [
    {
     "data": {
      "image/png": "[encoded data removed]",
      "text/plain": [
       "plot without title"
      ]
     },
     "metadata": {
      "image/png": {
       "height": 420,
       "width": 420
      }
     },
     "output_type": "display_data"
    }
   ],
   "source": [
    "plot(resid(Modelo_cox, type = 'deviance'))"
   ]
  },
  {
   "cell_type": "code",
   "execution_count": 21,
   "metadata": {},
   "outputs": [
    {
     "data": {
      "text/html": [],
      "text/latex": [],
      "text/markdown": [],
      "text/plain": [
       "named numeric(0)"
      ]
     },
     "metadata": {},
     "output_type": "display_data"
    }
   ],
   "source": [
    "# Escoger cual es el limite para descartar residuos\n",
    "Desvios <- resid(Modelo_cox, type = 'deviance')\n",
    "Desvios[abs(Desvios)>3]"
   ]
  },
  {
   "cell_type": "code",
   "execution_count": null,
   "metadata": {},
   "outputs": [],
   "source": [
    "# Cambiar limites\n",
    "plot(Desvios, ylim = c(-3.5,  3.5))\n",
    "abline(h = c(-3,3),\n",
    "      col = 'purple')"
   ]
  },
  {
   "cell_type": "code",
   "execution_count": null,
   "metadata": {},
   "outputs": [],
   "source": [
    "# SDA = Sin Dato Atipico\n",
    "# Revisar que dato atipico hay\n",
    "# Introducir ID de datos aticipos en la siguiente variable\n",
    "DA <- c()\n",
    "Desvios_SDA <- Desvios[-DA]\n",
    "plot(Desvios_SDA, \n",
    "    ylim = c(-3.5,3.5))\n",
    "abline(h = c(-3,3),\n",
    "      col = 'purple')"
   ]
  },
  {
   "cell_type": "code",
   "execution_count": null,
   "metadata": {},
   "outputs": [],
   "source": [
    "# Modelo SDA si es que aplica\n",
    "Modelo_cox_SDA <- coxph(Obj_surv[-DA]~udca1$trt[-DA]+udca1$riskscore[-DA])"
   ]
  },
  {
   "cell_type": "code",
   "execution_count": null,
   "metadata": {},
   "outputs": [],
   "source": [
    "plot(resid(Modelo_cox_SDA, type = 'deviance'),\n",
    "    ylim = c(-3.5,3.5))\n",
    "abline(h =c(-3,3),\n",
    "      col = 'purple')"
   ]
  },
  {
   "cell_type": "markdown",
   "metadata": {},
   "source": [
    "**Residuales de Schoenfeld**"
   ]
  },
  {
   "cell_type": "code",
   "execution_count": 33,
   "metadata": {
    "scrolled": false
   },
   "outputs": [
    {
     "data": {
      "text/html": [
       "<table>\n",
       "<caption>A matrix: 6 × 2 of type dbl</caption>\n",
       "<thead>\n",
       "\t<tr><th></th><th scope=col>udca1$trt</th><th scope=col>udca1$riskscore</th></tr>\n",
       "</thead>\n",
       "<tbody>\n",
       "\t<tr><th scope=row>47</th><td>-0.2857708</td><td> 0.4738683</td></tr>\n",
       "\t<tr><th scope=row>144</th><td> 0.7105727</td><td>-1.2200684</td></tr>\n",
       "\t<tr><th scope=row>189</th><td>-0.2891931</td><td> 2.0687276</td></tr>\n",
       "\t<tr><th scope=row>272</th><td>-0.3025920</td><td> 3.5280955</td></tr>\n",
       "\t<tr><th scope=row>340</th><td>-0.3152841</td><td>-0.5715683</td></tr>\n",
       "\t<tr><th scope=row>351</th><td>-0.3157329</td><td>-0.4780591</td></tr>\n",
       "</tbody>\n",
       "</table>\n"
      ],
      "text/latex": [
       "A matrix: 6 × 2 of type dbl\n",
       "\\begin{tabular}{r|ll}\n",
       "  & udca1\\$trt & udca1\\$riskscore\\\\\n",
       "\\hline\n",
       "\t47 & -0.2857708 &  0.4738683\\\\\n",
       "\t144 &  0.7105727 & -1.2200684\\\\\n",
       "\t189 & -0.2891931 &  2.0687276\\\\\n",
       "\t272 & -0.3025920 &  3.5280955\\\\\n",
       "\t340 & -0.3152841 & -0.5715683\\\\\n",
       "\t351 & -0.3157329 & -0.4780591\\\\\n",
       "\\end{tabular}\n"
      ],
      "text/markdown": [
       "\n",
       "A matrix: 6 × 2 of type dbl\n",
       "\n",
       "| <!--/--> | udca1$trt | udca1$riskscore |\n",
       "|---|---|---|\n",
       "| 47 | -0.2857708 |  0.4738683 |\n",
       "| 144 |  0.7105727 | -1.2200684 |\n",
       "| 189 | -0.2891931 |  2.0687276 |\n",
       "| 272 | -0.3025920 |  3.5280955 |\n",
       "| 340 | -0.3152841 | -0.5715683 |\n",
       "| 351 | -0.3157329 | -0.4780591 |\n",
       "\n"
      ],
      "text/plain": [
       "    udca1$trt  udca1$riskscore\n",
       "47  -0.2857708  0.4738683     \n",
       "144  0.7105727 -1.2200684     \n",
       "189 -0.2891931  2.0687276     \n",
       "272 -0.3025920  3.5280955     \n",
       "340 -0.3152841 -0.5715683     \n",
       "351 -0.3157329 -0.4780591     "
      ]
     },
     "metadata": {},
     "output_type": "display_data"
    }
   ],
   "source": [
    "Scho <- resid(Modelo_cox, type = 'schoenfeld')\n",
    "head(Scho)"
   ]
  },
  {
   "cell_type": "code",
   "execution_count": 30,
   "metadata": {},
   "outputs": [
    {
     "data": {
      "image/png": "[encoded data removed]",
      "text/plain": [
       "plot without title"
      ]
     },
     "metadata": {
      "image/png": {
       "height": 420,
       "width": 420
      }
     },
     "output_type": "display_data"
    }
   ],
   "source": [
    "plot(udca1$trt[udca1$status == 1], Scho[,1])"
   ]
  },
  {
   "cell_type": "code",
   "execution_count": 31,
   "metadata": {},
   "outputs": [
    {
     "data": {
      "image/png": "[encoded data removed]",
      "text/plain": [
       "plot without title"
      ]
     },
     "metadata": {
      "image/png": {
       "height": 420,
       "width": 420
      }
     },
     "output_type": "display_data"
    }
   ],
   "source": [
    "plot(udca1$riskscore[udca1$status == 1], Scho[,2])"
   ]
  },
  {
   "cell_type": "markdown",
   "metadata": {},
   "source": [
    "**Residuales de puntaje**"
   ]
  },
  {
   "cell_type": "code",
   "execution_count": 34,
   "metadata": {},
   "outputs": [],
   "source": [
    "Puntajes <- resid(Modelo_cox, type = 'score')"
   ]
  },
  {
   "cell_type": "code",
   "execution_count": 35,
   "metadata": {},
   "outputs": [
    {
     "data": {
      "text/html": [
       "<table>\n",
       "<caption>A matrix: 6 × 2 of type dbl</caption>\n",
       "<thead>\n",
       "\t<tr><th></th><th scope=col>udca1$trt</th><th scope=col>udca1$riskscore</th></tr>\n",
       "</thead>\n",
       "<tbody>\n",
       "\t<tr><th scope=row>1</th><td>-0.254801016</td><td> 0.11800018</td></tr>\n",
       "\t<tr><th scope=row>2</th><td>-0.120122845</td><td>-0.09985493</td></tr>\n",
       "\t<tr><th scope=row>3</th><td>-0.120165322</td><td> 0.39151075</td></tr>\n",
       "\t<tr><th scope=row>4</th><td>-0.009980804</td><td> 0.01078165</td></tr>\n",
       "\t<tr><th scope=row>5</th><td> 0.302625342</td><td> 0.83554839</td></tr>\n",
       "\t<tr><th scope=row>6</th><td> 0.432285148</td><td> 0.38743165</td></tr>\n",
       "</tbody>\n",
       "</table>\n"
      ],
      "text/latex": [
       "A matrix: 6 × 2 of type dbl\n",
       "\\begin{tabular}{r|ll}\n",
       "  & udca1\\$trt & udca1\\$riskscore\\\\\n",
       "\\hline\n",
       "\t1 & -0.254801016 &  0.11800018\\\\\n",
       "\t2 & -0.120122845 & -0.09985493\\\\\n",
       "\t3 & -0.120165322 &  0.39151075\\\\\n",
       "\t4 & -0.009980804 &  0.01078165\\\\\n",
       "\t5 &  0.302625342 &  0.83554839\\\\\n",
       "\t6 &  0.432285148 &  0.38743165\\\\\n",
       "\\end{tabular}\n"
      ],
      "text/markdown": [
       "\n",
       "A matrix: 6 × 2 of type dbl\n",
       "\n",
       "| <!--/--> | udca1$trt | udca1$riskscore |\n",
       "|---|---|---|\n",
       "| 1 | -0.254801016 |  0.11800018 |\n",
       "| 2 | -0.120122845 | -0.09985493 |\n",
       "| 3 | -0.120165322 |  0.39151075 |\n",
       "| 4 | -0.009980804 |  0.01078165 |\n",
       "| 5 |  0.302625342 |  0.83554839 |\n",
       "| 6 |  0.432285148 |  0.38743165 |\n",
       "\n"
      ],
      "text/plain": [
       "  udca1$trt    udca1$riskscore\n",
       "1 -0.254801016  0.11800018    \n",
       "2 -0.120122845 -0.09985493    \n",
       "3 -0.120165322  0.39151075    \n",
       "4 -0.009980804  0.01078165    \n",
       "5  0.302625342  0.83554839    \n",
       "6  0.432285148  0.38743165    "
      ]
     },
     "metadata": {},
     "output_type": "display_data"
    }
   ],
   "source": [
    "head(Puntajes)"
   ]
  },
  {
   "cell_type": "code",
   "execution_count": 36,
   "metadata": {},
   "outputs": [
    {
     "data": {
      "image/png": "[encoded data removed]",
      "text/plain": [
       "plot without title"
      ]
     },
     "metadata": {
      "image/png": {
       "height": 420,
       "width": 420
      }
     },
     "output_type": "display_data"
    }
   ],
   "source": [
    "plot(Puntajes[,1], Puntajes[,2])"
   ]
  },
  {
   "cell_type": "markdown",
   "metadata": {},
   "source": [
    "**Modelo de Kaplan Meier**"
   ]
  },
  {
   "cell_type": "code",
   "execution_count": 37,
   "metadata": {},
   "outputs": [
    {
     "data": {
      "text/plain": [
       "Call: survfit(formula = Modelo_cox)\n",
       "\n",
       " time n.risk n.event survival std.err lower 95% CI upper 95% CI\n",
       "   47    168       1    0.993  0.0075        0.978        1.000\n",
       "  144    167       1    0.985  0.0106        0.964        1.000\n",
       "  189    165       1    0.977  0.0131        0.952        1.000\n",
       "  272    162       1    0.970  0.0152        0.940        1.000\n",
       "  340    159       1    0.961  0.0173        0.928        0.996\n",
       "  351    157       1    0.953  0.0192        0.916        0.991\n",
       "  361    156       1    0.945  0.0209        0.905        0.987\n",
       "  362    155       1    0.936  0.0225        0.893        0.982\n",
       "  364    154       1    0.928  0.0240        0.882        0.976\n",
       "  370    153       1    0.920  0.0253        0.871        0.971\n",
       "  375    152       1    0.911  0.0266        0.861        0.965\n",
       "  377    151       1    0.903  0.0278        0.850        0.959\n",
       "  383    150       1    0.895  0.0290        0.840        0.954\n",
       "  391    149       1    0.887  0.0301        0.829        0.948\n",
       "  395    148       1    0.878  0.0312        0.819        0.942\n",
       "  462    147       1    0.870  0.0322        0.809        0.935\n",
       "  499    146       1    0.862  0.0332        0.799        0.929\n",
       "  530    144       1    0.853  0.0342        0.789        0.923\n",
       "  536    143       1    0.845  0.0351        0.779        0.917\n",
       "  559    142       1    0.837  0.0360        0.769        0.910\n",
       "  604    139       1    0.828  0.0369        0.759        0.904\n",
       "  633    138       1    0.820  0.0378        0.749        0.897\n",
       "  671    137       1    0.811  0.0386        0.739        0.890\n",
       "  683    136       1    0.802  0.0394        0.729        0.884\n",
       "  685    135       1    0.794  0.0402        0.719        0.877\n",
       "  686    134       1    0.785  0.0410        0.709        0.870\n",
       "  705    133       1    0.777  0.0417        0.699        0.863\n",
       "  709    132       1    0.768  0.0424        0.690        0.856\n",
       "  711    131       1    0.760  0.0431        0.680        0.849\n",
       "  714    130       1    0.751  0.0438        0.670        0.842\n",
       "  717    129       1    0.743  0.0444        0.661        0.835\n",
       "  726    128       1    0.734  0.0451        0.651        0.828\n",
       "  727    127       2    0.717  0.0463        0.632        0.814\n",
       "  731    125       1    0.709  0.0469        0.623        0.807\n",
       "  733    124       1    0.701  0.0474        0.614        0.800\n",
       "  734    123       1    0.692  0.0479        0.604        0.793\n",
       "  735    121       1    0.683  0.0485        0.594        0.785\n",
       "  737    120       1    0.674  0.0491        0.585        0.778\n",
       "  742    118       1    0.666  0.0496        0.575        0.770\n",
       "  750    117       1    0.657  0.0501        0.566        0.763\n",
       "  755    116       1    0.648  0.0506        0.556        0.755\n",
       "  761    115       1    0.639  0.0511        0.547        0.748\n",
       "  763    114       1    0.631  0.0516        0.537        0.740\n",
       "  768    113       2    0.613  0.0525        0.518        0.725\n",
       "  776    111       1    0.604  0.0529        0.509        0.717\n",
       "  783    110       1    0.595  0.0533        0.499        0.709\n",
       "  800    108       1    0.586  0.0537        0.490        0.701\n",
       "  810    106       2    0.568  0.0546        0.470        0.686\n",
       "  812    104       1    0.559  0.0550        0.461        0.678\n",
       "  816    103       1    0.550  0.0553        0.451        0.670\n",
       "  826    101       1    0.541  0.0556        0.442        0.662\n",
       "  833    100       1    0.532  0.0559        0.433        0.654\n",
       "  834     99       1    0.523  0.0562        0.424        0.646\n",
       "  876     96       1    0.515  0.0565        0.415        0.638\n",
       "  973     89       1    0.505  0.0567        0.406        0.630\n",
       "  992     88       1    0.496  0.0570        0.396        0.621\n",
       " 1033     87       1    0.486  0.0573        0.386        0.613\n",
       " 1034     86       1    0.477  0.0576        0.376        0.604\n",
       " 1086     80       1    0.467  0.0579        0.366        0.595\n",
       " 1087     79       1    0.457  0.0582        0.356        0.586\n",
       " 1092     77       1    0.447  0.0585        0.346        0.577\n",
       " 1099     75       1    0.436  0.0588        0.335        0.568\n",
       " 1336     54       1    0.422  0.0595        0.320        0.557\n",
       " 1416     48       1    0.408  0.0600        0.305        0.544\n",
       " 1446     46       1    0.393  0.0605        0.290        0.531\n",
       " 1453     44       1    0.378  0.0608        0.276        0.518\n",
       " 1456     43       1    0.363  0.0609        0.262        0.505\n",
       " 1508     33       1    0.346  0.0613        0.244        0.489\n",
       " 1511     32       1    0.328  0.0615        0.227        0.474"
      ]
     },
     "metadata": {},
     "output_type": "display_data"
    }
   ],
   "source": [
    "summary(survfit(Modelo_cox))"
   ]
  },
  {
   "cell_type": "code",
   "execution_count": 38,
   "metadata": {},
   "outputs": [
    {
     "data": {
      "image/png": "[encoded data removed]",
      "text/plain": [
       "plot without title"
      ]
     },
     "metadata": {
      "image/png": {
       "height": 420,
       "width": 420
      }
     },
     "output_type": "display_data"
    }
   ],
   "source": [
    "plot(survfit(Modelo_cox))"
   ]
  },
  {
   "cell_type": "code",
   "execution_count": 40,
   "metadata": {},
   "outputs": [
    {
     "data": {
      "text/plain": [
       "Call: survfit(formula = Obj_surv ~ udca1$trt)\n",
       "\n",
       "                udca1$trt=0 \n",
       " time n.risk n.event survival std.err lower 95% CI upper 95% CI\n",
       "   47     83       1    0.988  0.0120        0.965        1.000\n",
       "  189     81       1    0.976  0.0169        0.943        1.000\n",
       "  272     78       1    0.963  0.0208        0.923        1.000\n",
       "  340     76       1    0.951  0.0241        0.904        0.999\n",
       "  351     75       1    0.938  0.0269        0.887        0.992\n",
       "  362     74       1    0.925  0.0294        0.869        0.985\n",
       "  364     73       1    0.913  0.0316        0.853        0.977\n",
       "  370     72       1    0.900  0.0336        0.836        0.968\n",
       "  375     71       1    0.887  0.0354        0.820        0.959\n",
       "  377     70       1    0.875  0.0371        0.805        0.950\n",
       "  383     69       1    0.862  0.0387        0.789        0.941\n",
       "  391     68       1    0.849  0.0401        0.774        0.932\n",
       "  395     67       1    0.837  0.0415        0.759        0.922\n",
       "  499     66       1    0.824  0.0428        0.744        0.912\n",
       "  536     64       1    0.811  0.0440        0.729        0.902\n",
       "  604     61       1    0.798  0.0452        0.714        0.891\n",
       "  671     60       1    0.784  0.0464        0.699        0.881\n",
       "  685     59       1    0.771  0.0475        0.683        0.870\n",
       "  686     58       1    0.758  0.0485        0.668        0.859\n",
       "  705     57       1    0.744  0.0494        0.654        0.848\n",
       "  714     56       1    0.731  0.0503        0.639        0.837\n",
       "  717     55       1    0.718  0.0511        0.624        0.825\n",
       "  727     54       2    0.691  0.0526        0.596        0.802\n",
       "  733     52       1    0.678  0.0532        0.581        0.791\n",
       "  734     51       1    0.665  0.0538        0.567        0.779\n",
       "  737     49       1    0.651  0.0544        0.553        0.767\n",
       "  750     47       1    0.637  0.0550        0.538        0.755\n",
       "  755     46       1    0.623  0.0555        0.524        0.742\n",
       "  763     45       1    0.610  0.0560        0.509        0.730\n",
       "  768     44       1    0.596  0.0564        0.495        0.717\n",
       "  776     43       1    0.582  0.0567        0.481        0.704\n",
       "  783     42       1    0.568  0.0571        0.467        0.692\n",
       "  800     41       1    0.554  0.0573        0.452        0.679\n",
       "  810     39       1    0.540  0.0576        0.438        0.665\n",
       "  812     38       1    0.526  0.0578        0.424        0.652\n",
       "  973     33       1    0.510  0.0582        0.408        0.638\n",
       "  992     32       1    0.494  0.0585        0.392        0.623\n",
       " 1033     31       1    0.478  0.0588        0.376        0.608\n",
       " 1034     30       1    0.462  0.0589        0.360        0.593\n",
       " 1086     28       1    0.446  0.0591        0.344        0.578\n",
       " 1092     26       1    0.428  0.0592        0.327        0.562\n",
       " 1446     19       1    0.406  0.0603        0.303        0.543\n",
       " 1456     18       1    0.383  0.0610        0.281        0.524\n",
       " 1511     13       1    0.354  0.0630        0.250        0.502\n",
       "\n",
       "                udca1$trt=1 \n",
       " time n.risk n.event survival std.err lower 95% CI upper 95% CI\n",
       "  144     85       1    0.988  0.0117        0.966        1.000\n",
       "  361     82       1    0.976  0.0166        0.944        1.000\n",
       "  462     81       1    0.964  0.0203        0.925        1.000\n",
       "  530     80       1    0.952  0.0234        0.907        0.999\n",
       "  559     79       1    0.940  0.0260        0.890        0.992\n",
       "  633     78       1    0.928  0.0283        0.874        0.985\n",
       "  683     77       1    0.916  0.0304        0.858        0.978\n",
       "  709     76       1    0.904  0.0323        0.843        0.969\n",
       "  711     75       1    0.892  0.0341        0.828        0.961\n",
       "  726     74       1    0.880  0.0357        0.813        0.953\n",
       "  731     73       1    0.868  0.0372        0.798        0.944\n",
       "  735     72       1    0.856  0.0385        0.783        0.935\n",
       "  742     71       1    0.844  0.0398        0.769        0.925\n",
       "  761     70       1    0.832  0.0411        0.755        0.916\n",
       "  768     69       1    0.820  0.0422        0.741        0.907\n",
       "  810     67       1    0.807  0.0433        0.727        0.897\n",
       "  816     66       1    0.795  0.0443        0.713        0.887\n",
       "  826     64       1    0.783  0.0454        0.699        0.877\n",
       "  833     63       1    0.770  0.0463        0.685        0.867\n",
       "  834     62       1    0.758  0.0472        0.671        0.856\n",
       "  876     61       1    0.745  0.0480        0.657        0.846\n",
       " 1087     52       1    0.731  0.0492        0.641        0.834\n",
       " 1099     51       1    0.717  0.0503        0.625        0.822\n",
       " 1336     35       1    0.696  0.0528        0.600        0.808\n",
       " 1416     29       1    0.672  0.0562        0.571        0.792\n",
       " 1453     26       1    0.646  0.0597        0.539        0.775\n",
       " 1508     20       1    0.614  0.0649        0.499        0.755\n"
      ]
     },
     "metadata": {},
     "output_type": "display_data"
    }
   ],
   "source": [
    "KM_Tratamiento <- survfit(Obj_surv~udca1$trt)\n",
    "summary(KM_Tratamiento)"
   ]
  },
  {
   "cell_type": "code",
   "execution_count": 41,
   "metadata": {},
   "outputs": [
    {
     "data": {
      "image/png": "[encoded data removed]",
      "text/plain": [
       "Plot with title \"Comparación por tipo de tratamiento\""
      ]
     },
     "metadata": {
      "image/png": {
       "height": 420,
       "width": 420
      }
     },
     "output_type": "display_data"
    }
   ],
   "source": [
    "plot(KM_Tratamiento, \n",
    "     col = c('magenta', 'green'),\n",
    "    main = 'Comparación por tipo de tratamiento')"
   ]
  },
  {
   "cell_type": "markdown",
   "metadata": {},
   "source": [
    "**Modelos paramétricos.**"
   ]
  },
  {
   "cell_type": "code",
   "execution_count": null,
   "metadata": {},
   "outputs": [],
   "source": []
  },
  {
   "cell_type": "markdown",
   "metadata": {},
   "source": [
    "**Comparación de modelos.**"
   ]
  },
  {
   "cell_type": "code",
   "execution_count": null,
   "metadata": {},
   "outputs": [],
   "source": []
  }
 ],
 "metadata": {
  "kernelspec": {
   "display_name": "R",
   "language": "R",
   "name": "ir"
  },
  "language_info": {
   "codemirror_mode": "r",
   "file_extension": ".r",
   "mimetype": "text/x-r-source",
   "name": "R",
   "pygments_lexer": "r",
   "version": "4.0.3"
  }
 },
 "nbformat": 4,
 "nbformat_minor": 5
}
