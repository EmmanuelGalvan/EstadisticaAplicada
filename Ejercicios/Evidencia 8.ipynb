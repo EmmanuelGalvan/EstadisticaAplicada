{
 "cells": [
  {
   "cell_type": "code",
   "execution_count": 1,
   "id": "acute-importance",
   "metadata": {},
   "outputs": [
    {
     "name": "stderr",
     "output_type": "stream",
     "text": [
      "Warning message:\n",
      "\"package 'survival' was built under R version 3.6.3\""
     ]
    }
   ],
   "source": [
    "library(survival)"
   ]
  },
  {
   "cell_type": "code",
   "execution_count": 2,
   "id": "complimentary-bruce",
   "metadata": {},
   "outputs": [],
   "source": [
    "data(cancer)"
   ]
  },
  {
   "cell_type": "code",
   "execution_count": 20,
   "id": "behind-laptop",
   "metadata": {},
   "outputs": [],
   "source": [
    "help(cancer)"
   ]
  },
  {
   "cell_type": "code",
   "execution_count": 3,
   "id": "historic-globe",
   "metadata": {},
   "outputs": [
    {
     "data": {
      "text/html": [
       "<table>\n",
       "<thead><tr><th scope=col>inst</th><th scope=col>time</th><th scope=col>status</th><th scope=col>age</th><th scope=col>sex</th><th scope=col>ph.ecog</th><th scope=col>ph.karno</th><th scope=col>pat.karno</th><th scope=col>meal.cal</th><th scope=col>wt.loss</th></tr></thead>\n",
       "<tbody>\n",
       "\t<tr><td> 3  </td><td> 306</td><td>2   </td><td>74  </td><td>1   </td><td> 1  </td><td> 90 </td><td>100 </td><td>1175</td><td> NA </td></tr>\n",
       "\t<tr><td> 3  </td><td> 455</td><td>2   </td><td>68  </td><td>1   </td><td> 0  </td><td> 90 </td><td> 90 </td><td>1225</td><td> 15 </td></tr>\n",
       "\t<tr><td> 3  </td><td>1010</td><td>1   </td><td>56  </td><td>1   </td><td> 0  </td><td> 90 </td><td> 90 </td><td>  NA</td><td> 15 </td></tr>\n",
       "\t<tr><td> 5  </td><td> 210</td><td>2   </td><td>57  </td><td>1   </td><td> 1  </td><td> 90 </td><td> 60 </td><td>1150</td><td> 11 </td></tr>\n",
       "\t<tr><td> 1  </td><td> 883</td><td>2   </td><td>60  </td><td>1   </td><td> 0  </td><td>100 </td><td> 90 </td><td>  NA</td><td>  0 </td></tr>\n",
       "\t<tr><td>12  </td><td>1022</td><td>1   </td><td>74  </td><td>1   </td><td> 1  </td><td> 50 </td><td> 80 </td><td> 513</td><td>  0 </td></tr>\n",
       "\t<tr><td> 7  </td><td> 310</td><td>2   </td><td>68  </td><td>2   </td><td> 2  </td><td> 70 </td><td> 60 </td><td> 384</td><td> 10 </td></tr>\n",
       "\t<tr><td>11  </td><td> 361</td><td>2   </td><td>71  </td><td>2   </td><td> 2  </td><td> 60 </td><td> 80 </td><td> 538</td><td>  1 </td></tr>\n",
       "\t<tr><td> 1  </td><td> 218</td><td>2   </td><td>53  </td><td>1   </td><td> 1  </td><td> 70 </td><td> 80 </td><td> 825</td><td> 16 </td></tr>\n",
       "\t<tr><td> 7  </td><td> 166</td><td>2   </td><td>61  </td><td>1   </td><td> 2  </td><td> 70 </td><td> 70 </td><td> 271</td><td> 34 </td></tr>\n",
       "\t<tr><td> 6  </td><td> 170</td><td>2   </td><td>57  </td><td>1   </td><td> 1  </td><td> 80 </td><td> 80 </td><td>1025</td><td> 27 </td></tr>\n",
       "\t<tr><td>16  </td><td> 654</td><td>2   </td><td>68  </td><td>2   </td><td> 2  </td><td> 70 </td><td> 70 </td><td>  NA</td><td> 23 </td></tr>\n",
       "\t<tr><td>11  </td><td> 728</td><td>2   </td><td>68  </td><td>2   </td><td> 1  </td><td> 90 </td><td> 90 </td><td>  NA</td><td>  5 </td></tr>\n",
       "\t<tr><td>21  </td><td>  71</td><td>2   </td><td>60  </td><td>1   </td><td>NA  </td><td> 60 </td><td> 70 </td><td>1225</td><td> 32 </td></tr>\n",
       "\t<tr><td>12  </td><td> 567</td><td>2   </td><td>57  </td><td>1   </td><td> 1  </td><td> 80 </td><td> 70 </td><td>2600</td><td> 60 </td></tr>\n",
       "\t<tr><td> 1  </td><td> 144</td><td>2   </td><td>67  </td><td>1   </td><td> 1  </td><td> 80 </td><td> 90 </td><td>  NA</td><td> 15 </td></tr>\n",
       "\t<tr><td>22  </td><td> 613</td><td>2   </td><td>70  </td><td>1   </td><td> 1  </td><td> 90 </td><td>100 </td><td>1150</td><td> -5 </td></tr>\n",
       "\t<tr><td>16  </td><td> 707</td><td>2   </td><td>63  </td><td>1   </td><td> 2  </td><td> 50 </td><td> 70 </td><td>1025</td><td> 22 </td></tr>\n",
       "\t<tr><td> 1  </td><td>  61</td><td>2   </td><td>56  </td><td>2   </td><td> 2  </td><td> 60 </td><td> 60 </td><td> 238</td><td> 10 </td></tr>\n",
       "\t<tr><td>21  </td><td>  88</td><td>2   </td><td>57  </td><td>1   </td><td> 1  </td><td> 90 </td><td> 80 </td><td>1175</td><td> NA </td></tr>\n",
       "\t<tr><td>11  </td><td> 301</td><td>2   </td><td>67  </td><td>1   </td><td> 1  </td><td> 80 </td><td> 80 </td><td>1025</td><td> 17 </td></tr>\n",
       "\t<tr><td> 6  </td><td>  81</td><td>2   </td><td>49  </td><td>2   </td><td> 0  </td><td>100 </td><td> 70 </td><td>1175</td><td> -8 </td></tr>\n",
       "\t<tr><td>11  </td><td> 624</td><td>2   </td><td>50  </td><td>1   </td><td> 1  </td><td> 70 </td><td> 80 </td><td>  NA</td><td> 16 </td></tr>\n",
       "\t<tr><td>15  </td><td> 371</td><td>2   </td><td>58  </td><td>1   </td><td> 0  </td><td> 90 </td><td>100 </td><td> 975</td><td> 13 </td></tr>\n",
       "\t<tr><td>12  </td><td> 394</td><td>2   </td><td>72  </td><td>1   </td><td> 0  </td><td> 90 </td><td> 80 </td><td>  NA</td><td>  0 </td></tr>\n",
       "\t<tr><td>12  </td><td> 520</td><td>2   </td><td>70  </td><td>2   </td><td> 1  </td><td> 90 </td><td> 80 </td><td> 825</td><td>  6 </td></tr>\n",
       "\t<tr><td> 4  </td><td> 574</td><td>2   </td><td>60  </td><td>1   </td><td> 0  </td><td>100 </td><td>100 </td><td>1025</td><td>-13 </td></tr>\n",
       "\t<tr><td>13  </td><td> 118</td><td>2   </td><td>70  </td><td>1   </td><td> 3  </td><td> 60 </td><td> 70 </td><td>1075</td><td> 20 </td></tr>\n",
       "\t<tr><td>13  </td><td> 390</td><td>2   </td><td>53  </td><td>1   </td><td> 1  </td><td> 80 </td><td> 70 </td><td> 875</td><td> -7 </td></tr>\n",
       "\t<tr><td> 1  </td><td>  12</td><td>2   </td><td>74  </td><td>1   </td><td> 2  </td><td> 70 </td><td> 50 </td><td> 305</td><td> 20 </td></tr>\n",
       "\t<tr><td>...</td><td>...</td><td>...</td><td>...</td><td>...</td><td>...</td><td>...</td><td>...</td><td>...</td><td>...</td></tr>\n",
       "\t<tr><td> 1  </td><td>276 </td><td>1   </td><td>52  </td><td>2   </td><td>0   </td><td>100 </td><td> 80 </td><td> 975</td><td>  0 </td></tr>\n",
       "\t<tr><td>32  </td><td>135 </td><td>2   </td><td>60  </td><td>1   </td><td>1   </td><td> 90 </td><td> 70 </td><td>1275</td><td>  0 </td></tr>\n",
       "\t<tr><td>15  </td><td> 79 </td><td>2   </td><td>64  </td><td>2   </td><td>1   </td><td> 90 </td><td> 90 </td><td> 488</td><td> 37 </td></tr>\n",
       "\t<tr><td>22  </td><td> 59 </td><td>2   </td><td>73  </td><td>1   </td><td>1   </td><td> 60 </td><td> 60 </td><td>2200</td><td>  5 </td></tr>\n",
       "\t<tr><td>32  </td><td>240 </td><td>1   </td><td>63  </td><td>2   </td><td>0   </td><td> 90 </td><td>100 </td><td>1025</td><td>  0 </td></tr>\n",
       "\t<tr><td> 3  </td><td>202 </td><td>1   </td><td>50  </td><td>2   </td><td>0   </td><td>100 </td><td>100 </td><td> 635</td><td>  1 </td></tr>\n",
       "\t<tr><td>26  </td><td>235 </td><td>1   </td><td>63  </td><td>2   </td><td>0   </td><td>100 </td><td> 90 </td><td> 413</td><td>  0 </td></tr>\n",
       "\t<tr><td>33  </td><td>105 </td><td>2   </td><td>62  </td><td>1   </td><td>2   </td><td> NA </td><td> 70 </td><td>  NA</td><td> NA </td></tr>\n",
       "\t<tr><td> 5  </td><td>224 </td><td>1   </td><td>55  </td><td>2   </td><td>0   </td><td> 80 </td><td> 90 </td><td>  NA</td><td> 23 </td></tr>\n",
       "\t<tr><td>13  </td><td>239 </td><td>2   </td><td>50  </td><td>2   </td><td>2   </td><td> 60 </td><td> 60 </td><td>1025</td><td> -3 </td></tr>\n",
       "\t<tr><td>21  </td><td>237 </td><td>1   </td><td>69  </td><td>1   </td><td>1   </td><td> 80 </td><td> 70 </td><td>  NA</td><td> NA </td></tr>\n",
       "\t<tr><td>33  </td><td>173 </td><td>1   </td><td>59  </td><td>2   </td><td>1   </td><td> 90 </td><td> 80 </td><td>  NA</td><td> 10 </td></tr>\n",
       "\t<tr><td> 1  </td><td>252 </td><td>1   </td><td>60  </td><td>2   </td><td>0   </td><td>100 </td><td> 90 </td><td> 488</td><td> -2 </td></tr>\n",
       "\t<tr><td> 6  </td><td>221 </td><td>1   </td><td>67  </td><td>1   </td><td>1   </td><td> 80 </td><td> 70 </td><td> 413</td><td> 23 </td></tr>\n",
       "\t<tr><td>15  </td><td>185 </td><td>1   </td><td>69  </td><td>1   </td><td>1   </td><td> 90 </td><td> 70 </td><td>1075</td><td>  0 </td></tr>\n",
       "\t<tr><td>11  </td><td> 92 </td><td>1   </td><td>64  </td><td>2   </td><td>2   </td><td> 70 </td><td>100 </td><td>  NA</td><td> 31 </td></tr>\n",
       "\t<tr><td>11  </td><td> 13 </td><td>2   </td><td>65  </td><td>1   </td><td>1   </td><td> 80 </td><td> 90 </td><td>  NA</td><td> 10 </td></tr>\n",
       "\t<tr><td>11  </td><td>222 </td><td>1   </td><td>65  </td><td>1   </td><td>1   </td><td> 90 </td><td> 70 </td><td>1025</td><td> 18 </td></tr>\n",
       "\t<tr><td>13  </td><td>192 </td><td>1   </td><td>41  </td><td>2   </td><td>1   </td><td> 90 </td><td> 80 </td><td>  NA</td><td>-10 </td></tr>\n",
       "\t<tr><td>21  </td><td>183 </td><td>2   </td><td>76  </td><td>1   </td><td>2   </td><td> 80 </td><td> 60 </td><td> 825</td><td>  7 </td></tr>\n",
       "\t<tr><td>11  </td><td>211 </td><td>1   </td><td>70  </td><td>2   </td><td>2   </td><td> 70 </td><td> 30 </td><td> 131</td><td>  3 </td></tr>\n",
       "\t<tr><td> 2  </td><td>175 </td><td>1   </td><td>57  </td><td>2   </td><td>0   </td><td> 80 </td><td> 80 </td><td> 725</td><td> 11 </td></tr>\n",
       "\t<tr><td>22  </td><td>197 </td><td>1   </td><td>67  </td><td>1   </td><td>1   </td><td> 80 </td><td> 90 </td><td>1500</td><td>  2 </td></tr>\n",
       "\t<tr><td>11  </td><td>203 </td><td>1   </td><td>71  </td><td>2   </td><td>1   </td><td> 80 </td><td> 90 </td><td>1025</td><td>  0 </td></tr>\n",
       "\t<tr><td> 1  </td><td>116 </td><td>2   </td><td>76  </td><td>1   </td><td>1   </td><td> 80 </td><td> 80 </td><td>  NA</td><td>  0 </td></tr>\n",
       "\t<tr><td> 1  </td><td>188 </td><td>1   </td><td>77  </td><td>1   </td><td>1   </td><td> 80 </td><td> 60 </td><td>  NA</td><td>  3 </td></tr>\n",
       "\t<tr><td>13  </td><td>191 </td><td>1   </td><td>39  </td><td>1   </td><td>0   </td><td> 90 </td><td> 90 </td><td>2350</td><td> -5 </td></tr>\n",
       "\t<tr><td>32  </td><td>105 </td><td>1   </td><td>75  </td><td>2   </td><td>2   </td><td> 60 </td><td> 70 </td><td>1025</td><td>  5 </td></tr>\n",
       "\t<tr><td> 6  </td><td>174 </td><td>1   </td><td>66  </td><td>1   </td><td>1   </td><td> 90 </td><td>100 </td><td>1075</td><td>  1 </td></tr>\n",
       "\t<tr><td>22  </td><td>177 </td><td>1   </td><td>58  </td><td>2   </td><td>1   </td><td> 80 </td><td> 90 </td><td>1060</td><td>  0 </td></tr>\n",
       "</tbody>\n",
       "</table>\n"
      ],
      "text/latex": [
       "\\begin{tabular}{r|llllllllll}\n",
       " inst & time & status & age & sex & ph.ecog & ph.karno & pat.karno & meal.cal & wt.loss\\\\\n",
       "\\hline\n",
       "\t  3   &  306 & 2    & 74   & 1    &  1   &  90  & 100  & 1175 &  NA \\\\\n",
       "\t  3   &  455 & 2    & 68   & 1    &  0   &  90  &  90  & 1225 &  15 \\\\\n",
       "\t  3   & 1010 & 1    & 56   & 1    &  0   &  90  &  90  &   NA &  15 \\\\\n",
       "\t  5   &  210 & 2    & 57   & 1    &  1   &  90  &  60  & 1150 &  11 \\\\\n",
       "\t  1   &  883 & 2    & 60   & 1    &  0   & 100  &  90  &   NA &   0 \\\\\n",
       "\t 12   & 1022 & 1    & 74   & 1    &  1   &  50  &  80  &  513 &   0 \\\\\n",
       "\t  7   &  310 & 2    & 68   & 2    &  2   &  70  &  60  &  384 &  10 \\\\\n",
       "\t 11   &  361 & 2    & 71   & 2    &  2   &  60  &  80  &  538 &   1 \\\\\n",
       "\t  1   &  218 & 2    & 53   & 1    &  1   &  70  &  80  &  825 &  16 \\\\\n",
       "\t  7   &  166 & 2    & 61   & 1    &  2   &  70  &  70  &  271 &  34 \\\\\n",
       "\t  6   &  170 & 2    & 57   & 1    &  1   &  80  &  80  & 1025 &  27 \\\\\n",
       "\t 16   &  654 & 2    & 68   & 2    &  2   &  70  &  70  &   NA &  23 \\\\\n",
       "\t 11   &  728 & 2    & 68   & 2    &  1   &  90  &  90  &   NA &   5 \\\\\n",
       "\t 21   &   71 & 2    & 60   & 1    & NA   &  60  &  70  & 1225 &  32 \\\\\n",
       "\t 12   &  567 & 2    & 57   & 1    &  1   &  80  &  70  & 2600 &  60 \\\\\n",
       "\t  1   &  144 & 2    & 67   & 1    &  1   &  80  &  90  &   NA &  15 \\\\\n",
       "\t 22   &  613 & 2    & 70   & 1    &  1   &  90  & 100  & 1150 &  -5 \\\\\n",
       "\t 16   &  707 & 2    & 63   & 1    &  2   &  50  &  70  & 1025 &  22 \\\\\n",
       "\t  1   &   61 & 2    & 56   & 2    &  2   &  60  &  60  &  238 &  10 \\\\\n",
       "\t 21   &   88 & 2    & 57   & 1    &  1   &  90  &  80  & 1175 &  NA \\\\\n",
       "\t 11   &  301 & 2    & 67   & 1    &  1   &  80  &  80  & 1025 &  17 \\\\\n",
       "\t  6   &   81 & 2    & 49   & 2    &  0   & 100  &  70  & 1175 &  -8 \\\\\n",
       "\t 11   &  624 & 2    & 50   & 1    &  1   &  70  &  80  &   NA &  16 \\\\\n",
       "\t 15   &  371 & 2    & 58   & 1    &  0   &  90  & 100  &  975 &  13 \\\\\n",
       "\t 12   &  394 & 2    & 72   & 1    &  0   &  90  &  80  &   NA &   0 \\\\\n",
       "\t 12   &  520 & 2    & 70   & 2    &  1   &  90  &  80  &  825 &   6 \\\\\n",
       "\t  4   &  574 & 2    & 60   & 1    &  0   & 100  & 100  & 1025 & -13 \\\\\n",
       "\t 13   &  118 & 2    & 70   & 1    &  3   &  60  &  70  & 1075 &  20 \\\\\n",
       "\t 13   &  390 & 2    & 53   & 1    &  1   &  80  &  70  &  875 &  -7 \\\\\n",
       "\t  1   &   12 & 2    & 74   & 1    &  2   &  70  &  50  &  305 &  20 \\\\\n",
       "\t ... & ... & ... & ... & ... & ... & ... & ... & ... & ...\\\\\n",
       "\t  1   & 276  & 1    & 52   & 2    & 0    & 100  &  80  &  975 &   0 \\\\\n",
       "\t 32   & 135  & 2    & 60   & 1    & 1    &  90  &  70  & 1275 &   0 \\\\\n",
       "\t 15   &  79  & 2    & 64   & 2    & 1    &  90  &  90  &  488 &  37 \\\\\n",
       "\t 22   &  59  & 2    & 73   & 1    & 1    &  60  &  60  & 2200 &   5 \\\\\n",
       "\t 32   & 240  & 1    & 63   & 2    & 0    &  90  & 100  & 1025 &   0 \\\\\n",
       "\t  3   & 202  & 1    & 50   & 2    & 0    & 100  & 100  &  635 &   1 \\\\\n",
       "\t 26   & 235  & 1    & 63   & 2    & 0    & 100  &  90  &  413 &   0 \\\\\n",
       "\t 33   & 105  & 2    & 62   & 1    & 2    &  NA  &  70  &   NA &  NA \\\\\n",
       "\t  5   & 224  & 1    & 55   & 2    & 0    &  80  &  90  &   NA &  23 \\\\\n",
       "\t 13   & 239  & 2    & 50   & 2    & 2    &  60  &  60  & 1025 &  -3 \\\\\n",
       "\t 21   & 237  & 1    & 69   & 1    & 1    &  80  &  70  &   NA &  NA \\\\\n",
       "\t 33   & 173  & 1    & 59   & 2    & 1    &  90  &  80  &   NA &  10 \\\\\n",
       "\t  1   & 252  & 1    & 60   & 2    & 0    & 100  &  90  &  488 &  -2 \\\\\n",
       "\t  6   & 221  & 1    & 67   & 1    & 1    &  80  &  70  &  413 &  23 \\\\\n",
       "\t 15   & 185  & 1    & 69   & 1    & 1    &  90  &  70  & 1075 &   0 \\\\\n",
       "\t 11   &  92  & 1    & 64   & 2    & 2    &  70  & 100  &   NA &  31 \\\\\n",
       "\t 11   &  13  & 2    & 65   & 1    & 1    &  80  &  90  &   NA &  10 \\\\\n",
       "\t 11   & 222  & 1    & 65   & 1    & 1    &  90  &  70  & 1025 &  18 \\\\\n",
       "\t 13   & 192  & 1    & 41   & 2    & 1    &  90  &  80  &   NA & -10 \\\\\n",
       "\t 21   & 183  & 2    & 76   & 1    & 2    &  80  &  60  &  825 &   7 \\\\\n",
       "\t 11   & 211  & 1    & 70   & 2    & 2    &  70  &  30  &  131 &   3 \\\\\n",
       "\t  2   & 175  & 1    & 57   & 2    & 0    &  80  &  80  &  725 &  11 \\\\\n",
       "\t 22   & 197  & 1    & 67   & 1    & 1    &  80  &  90  & 1500 &   2 \\\\\n",
       "\t 11   & 203  & 1    & 71   & 2    & 1    &  80  &  90  & 1025 &   0 \\\\\n",
       "\t  1   & 116  & 2    & 76   & 1    & 1    &  80  &  80  &   NA &   0 \\\\\n",
       "\t  1   & 188  & 1    & 77   & 1    & 1    &  80  &  60  &   NA &   3 \\\\\n",
       "\t 13   & 191  & 1    & 39   & 1    & 0    &  90  &  90  & 2350 &  -5 \\\\\n",
       "\t 32   & 105  & 1    & 75   & 2    & 2    &  60  &  70  & 1025 &   5 \\\\\n",
       "\t  6   & 174  & 1    & 66   & 1    & 1    &  90  & 100  & 1075 &   1 \\\\\n",
       "\t 22   & 177  & 1    & 58   & 2    & 1    &  80  &  90  & 1060 &   0 \\\\\n",
       "\\end{tabular}\n"
      ],
      "text/markdown": [
       "\n",
       "| inst | time | status | age | sex | ph.ecog | ph.karno | pat.karno | meal.cal | wt.loss |\n",
       "|---|---|---|---|---|---|---|---|---|---|\n",
       "|  3   |  306 | 2    | 74   | 1    |  1   |  90  | 100  | 1175 |  NA  |\n",
       "|  3   |  455 | 2    | 68   | 1    |  0   |  90  |  90  | 1225 |  15  |\n",
       "|  3   | 1010 | 1    | 56   | 1    |  0   |  90  |  90  |   NA |  15  |\n",
       "|  5   |  210 | 2    | 57   | 1    |  1   |  90  |  60  | 1150 |  11  |\n",
       "|  1   |  883 | 2    | 60   | 1    |  0   | 100  |  90  |   NA |   0  |\n",
       "| 12   | 1022 | 1    | 74   | 1    |  1   |  50  |  80  |  513 |   0  |\n",
       "|  7   |  310 | 2    | 68   | 2    |  2   |  70  |  60  |  384 |  10  |\n",
       "| 11   |  361 | 2    | 71   | 2    |  2   |  60  |  80  |  538 |   1  |\n",
       "|  1   |  218 | 2    | 53   | 1    |  1   |  70  |  80  |  825 |  16  |\n",
       "|  7   |  166 | 2    | 61   | 1    |  2   |  70  |  70  |  271 |  34  |\n",
       "|  6   |  170 | 2    | 57   | 1    |  1   |  80  |  80  | 1025 |  27  |\n",
       "| 16   |  654 | 2    | 68   | 2    |  2   |  70  |  70  |   NA |  23  |\n",
       "| 11   |  728 | 2    | 68   | 2    |  1   |  90  |  90  |   NA |   5  |\n",
       "| 21   |   71 | 2    | 60   | 1    | NA   |  60  |  70  | 1225 |  32  |\n",
       "| 12   |  567 | 2    | 57   | 1    |  1   |  80  |  70  | 2600 |  60  |\n",
       "|  1   |  144 | 2    | 67   | 1    |  1   |  80  |  90  |   NA |  15  |\n",
       "| 22   |  613 | 2    | 70   | 1    |  1   |  90  | 100  | 1150 |  -5  |\n",
       "| 16   |  707 | 2    | 63   | 1    |  2   |  50  |  70  | 1025 |  22  |\n",
       "|  1   |   61 | 2    | 56   | 2    |  2   |  60  |  60  |  238 |  10  |\n",
       "| 21   |   88 | 2    | 57   | 1    |  1   |  90  |  80  | 1175 |  NA  |\n",
       "| 11   |  301 | 2    | 67   | 1    |  1   |  80  |  80  | 1025 |  17  |\n",
       "|  6   |   81 | 2    | 49   | 2    |  0   | 100  |  70  | 1175 |  -8  |\n",
       "| 11   |  624 | 2    | 50   | 1    |  1   |  70  |  80  |   NA |  16  |\n",
       "| 15   |  371 | 2    | 58   | 1    |  0   |  90  | 100  |  975 |  13  |\n",
       "| 12   |  394 | 2    | 72   | 1    |  0   |  90  |  80  |   NA |   0  |\n",
       "| 12   |  520 | 2    | 70   | 2    |  1   |  90  |  80  |  825 |   6  |\n",
       "|  4   |  574 | 2    | 60   | 1    |  0   | 100  | 100  | 1025 | -13  |\n",
       "| 13   |  118 | 2    | 70   | 1    |  3   |  60  |  70  | 1075 |  20  |\n",
       "| 13   |  390 | 2    | 53   | 1    |  1   |  80  |  70  |  875 |  -7  |\n",
       "|  1   |   12 | 2    | 74   | 1    |  2   |  70  |  50  |  305 |  20  |\n",
       "| ... | ... | ... | ... | ... | ... | ... | ... | ... | ... |\n",
       "|  1   | 276  | 1    | 52   | 2    | 0    | 100  |  80  |  975 |   0  |\n",
       "| 32   | 135  | 2    | 60   | 1    | 1    |  90  |  70  | 1275 |   0  |\n",
       "| 15   |  79  | 2    | 64   | 2    | 1    |  90  |  90  |  488 |  37  |\n",
       "| 22   |  59  | 2    | 73   | 1    | 1    |  60  |  60  | 2200 |   5  |\n",
       "| 32   | 240  | 1    | 63   | 2    | 0    |  90  | 100  | 1025 |   0  |\n",
       "|  3   | 202  | 1    | 50   | 2    | 0    | 100  | 100  |  635 |   1  |\n",
       "| 26   | 235  | 1    | 63   | 2    | 0    | 100  |  90  |  413 |   0  |\n",
       "| 33   | 105  | 2    | 62   | 1    | 2    |  NA  |  70  |   NA |  NA  |\n",
       "|  5   | 224  | 1    | 55   | 2    | 0    |  80  |  90  |   NA |  23  |\n",
       "| 13   | 239  | 2    | 50   | 2    | 2    |  60  |  60  | 1025 |  -3  |\n",
       "| 21   | 237  | 1    | 69   | 1    | 1    |  80  |  70  |   NA |  NA  |\n",
       "| 33   | 173  | 1    | 59   | 2    | 1    |  90  |  80  |   NA |  10  |\n",
       "|  1   | 252  | 1    | 60   | 2    | 0    | 100  |  90  |  488 |  -2  |\n",
       "|  6   | 221  | 1    | 67   | 1    | 1    |  80  |  70  |  413 |  23  |\n",
       "| 15   | 185  | 1    | 69   | 1    | 1    |  90  |  70  | 1075 |   0  |\n",
       "| 11   |  92  | 1    | 64   | 2    | 2    |  70  | 100  |   NA |  31  |\n",
       "| 11   |  13  | 2    | 65   | 1    | 1    |  80  |  90  |   NA |  10  |\n",
       "| 11   | 222  | 1    | 65   | 1    | 1    |  90  |  70  | 1025 |  18  |\n",
       "| 13   | 192  | 1    | 41   | 2    | 1    |  90  |  80  |   NA | -10  |\n",
       "| 21   | 183  | 2    | 76   | 1    | 2    |  80  |  60  |  825 |   7  |\n",
       "| 11   | 211  | 1    | 70   | 2    | 2    |  70  |  30  |  131 |   3  |\n",
       "|  2   | 175  | 1    | 57   | 2    | 0    |  80  |  80  |  725 |  11  |\n",
       "| 22   | 197  | 1    | 67   | 1    | 1    |  80  |  90  | 1500 |   2  |\n",
       "| 11   | 203  | 1    | 71   | 2    | 1    |  80  |  90  | 1025 |   0  |\n",
       "|  1   | 116  | 2    | 76   | 1    | 1    |  80  |  80  |   NA |   0  |\n",
       "|  1   | 188  | 1    | 77   | 1    | 1    |  80  |  60  |   NA |   3  |\n",
       "| 13   | 191  | 1    | 39   | 1    | 0    |  90  |  90  | 2350 |  -5  |\n",
       "| 32   | 105  | 1    | 75   | 2    | 2    |  60  |  70  | 1025 |   5  |\n",
       "|  6   | 174  | 1    | 66   | 1    | 1    |  90  | 100  | 1075 |   1  |\n",
       "| 22   | 177  | 1    | 58   | 2    | 1    |  80  |  90  | 1060 |   0  |\n",
       "\n"
      ],
      "text/plain": [
       "    inst time status age sex ph.ecog ph.karno pat.karno meal.cal wt.loss\n",
       "1    3    306 2      74  1    1       90      100       1175      NA    \n",
       "2    3    455 2      68  1    0       90       90       1225      15    \n",
       "3    3   1010 1      56  1    0       90       90         NA      15    \n",
       "4    5    210 2      57  1    1       90       60       1150      11    \n",
       "5    1    883 2      60  1    0      100       90         NA       0    \n",
       "6   12   1022 1      74  1    1       50       80        513       0    \n",
       "7    7    310 2      68  2    2       70       60        384      10    \n",
       "8   11    361 2      71  2    2       60       80        538       1    \n",
       "9    1    218 2      53  1    1       70       80        825      16    \n",
       "10   7    166 2      61  1    2       70       70        271      34    \n",
       "11   6    170 2      57  1    1       80       80       1025      27    \n",
       "12  16    654 2      68  2    2       70       70         NA      23    \n",
       "13  11    728 2      68  2    1       90       90         NA       5    \n",
       "14  21     71 2      60  1   NA       60       70       1225      32    \n",
       "15  12    567 2      57  1    1       80       70       2600      60    \n",
       "16   1    144 2      67  1    1       80       90         NA      15    \n",
       "17  22    613 2      70  1    1       90      100       1150      -5    \n",
       "18  16    707 2      63  1    2       50       70       1025      22    \n",
       "19   1     61 2      56  2    2       60       60        238      10    \n",
       "20  21     88 2      57  1    1       90       80       1175      NA    \n",
       "21  11    301 2      67  1    1       80       80       1025      17    \n",
       "22   6     81 2      49  2    0      100       70       1175      -8    \n",
       "23  11    624 2      50  1    1       70       80         NA      16    \n",
       "24  15    371 2      58  1    0       90      100        975      13    \n",
       "25  12    394 2      72  1    0       90       80         NA       0    \n",
       "26  12    520 2      70  2    1       90       80        825       6    \n",
       "27   4    574 2      60  1    0      100      100       1025     -13    \n",
       "28  13    118 2      70  1    3       60       70       1075      20    \n",
       "29  13    390 2      53  1    1       80       70        875      -7    \n",
       "30   1     12 2      74  1    2       70       50        305      20    \n",
       "... ...  ...  ...    ... ... ...     ...      ...       ...      ...    \n",
       "199  1   276  1      52  2   0       100       80        975       0    \n",
       "200 32   135  2      60  1   1        90       70       1275       0    \n",
       "201 15    79  2      64  2   1        90       90        488      37    \n",
       "202 22    59  2      73  1   1        60       60       2200       5    \n",
       "203 32   240  1      63  2   0        90      100       1025       0    \n",
       "204  3   202  1      50  2   0       100      100        635       1    \n",
       "205 26   235  1      63  2   0       100       90        413       0    \n",
       "206 33   105  2      62  1   2        NA       70         NA      NA    \n",
       "207  5   224  1      55  2   0        80       90         NA      23    \n",
       "208 13   239  2      50  2   2        60       60       1025      -3    \n",
       "209 21   237  1      69  1   1        80       70         NA      NA    \n",
       "210 33   173  1      59  2   1        90       80         NA      10    \n",
       "211  1   252  1      60  2   0       100       90        488      -2    \n",
       "212  6   221  1      67  1   1        80       70        413      23    \n",
       "213 15   185  1      69  1   1        90       70       1075       0    \n",
       "214 11    92  1      64  2   2        70      100         NA      31    \n",
       "215 11    13  2      65  1   1        80       90         NA      10    \n",
       "216 11   222  1      65  1   1        90       70       1025      18    \n",
       "217 13   192  1      41  2   1        90       80         NA     -10    \n",
       "218 21   183  2      76  1   2        80       60        825       7    \n",
       "219 11   211  1      70  2   2        70       30        131       3    \n",
       "220  2   175  1      57  2   0        80       80        725      11    \n",
       "221 22   197  1      67  1   1        80       90       1500       2    \n",
       "222 11   203  1      71  2   1        80       90       1025       0    \n",
       "223  1   116  2      76  1   1        80       80         NA       0    \n",
       "224  1   188  1      77  1   1        80       60         NA       3    \n",
       "225 13   191  1      39  1   0        90       90       2350      -5    \n",
       "226 32   105  1      75  2   2        60       70       1025       5    \n",
       "227  6   174  1      66  1   1        90      100       1075       1    \n",
       "228 22   177  1      58  2   1        80       90       1060       0    "
      ]
     },
     "metadata": {},
     "output_type": "display_data"
    }
   ],
   "source": [
    "cancer"
   ]
  },
  {
   "cell_type": "markdown",
   "id": "present-novelty",
   "metadata": {},
   "source": [
    "## Análisis descriptivo"
   ]
  },
  {
   "cell_type": "markdown",
   "id": "unusual-virginia",
   "metadata": {},
   "source": [
    "**Limpieza de datos, valores nulos**"
   ]
  },
  {
   "cell_type": "code",
   "execution_count": 5,
   "id": "referenced-workshop",
   "metadata": {},
   "outputs": [
    {
     "data": {
      "text/html": [
       "67"
      ],
      "text/latex": [
       "67"
      ],
      "text/markdown": [
       "67"
      ],
      "text/plain": [
       "[1] 67"
      ]
     },
     "metadata": {},
     "output_type": "display_data"
    }
   ],
   "source": [
    "sum(is.na(cancer))"
   ]
  },
  {
   "cell_type": "code",
   "execution_count": 4,
   "id": "painful-enemy",
   "metadata": {},
   "outputs": [
    {
     "data": {
      "text/html": [
       "<table>\n",
       "<thead><tr><th></th><th scope=col>inst</th><th scope=col>time</th><th scope=col>status</th><th scope=col>age</th><th scope=col>sex</th><th scope=col>ph.ecog</th><th scope=col>ph.karno</th><th scope=col>pat.karno</th><th scope=col>meal.cal</th><th scope=col>wt.loss</th></tr></thead>\n",
       "<tbody>\n",
       "\t<tr><th scope=row>2</th><td> 3  </td><td> 455</td><td>2   </td><td>68  </td><td>1   </td><td>0   </td><td> 90 </td><td> 90 </td><td>1225</td><td> 15 </td></tr>\n",
       "\t<tr><th scope=row>4</th><td> 5  </td><td> 210</td><td>2   </td><td>57  </td><td>1   </td><td>1   </td><td> 90 </td><td> 60 </td><td>1150</td><td> 11 </td></tr>\n",
       "\t<tr><th scope=row>6</th><td>12  </td><td>1022</td><td>1   </td><td>74  </td><td>1   </td><td>1   </td><td> 50 </td><td> 80 </td><td> 513</td><td>  0 </td></tr>\n",
       "\t<tr><th scope=row>7</th><td> 7  </td><td> 310</td><td>2   </td><td>68  </td><td>2   </td><td>2   </td><td> 70 </td><td> 60 </td><td> 384</td><td> 10 </td></tr>\n",
       "\t<tr><th scope=row>8</th><td>11  </td><td> 361</td><td>2   </td><td>71  </td><td>2   </td><td>2   </td><td> 60 </td><td> 80 </td><td> 538</td><td>  1 </td></tr>\n",
       "\t<tr><th scope=row>9</th><td> 1  </td><td> 218</td><td>2   </td><td>53  </td><td>1   </td><td>1   </td><td> 70 </td><td> 80 </td><td> 825</td><td> 16 </td></tr>\n",
       "\t<tr><th scope=row>10</th><td> 7  </td><td> 166</td><td>2   </td><td>61  </td><td>1   </td><td>2   </td><td> 70 </td><td> 70 </td><td> 271</td><td> 34 </td></tr>\n",
       "\t<tr><th scope=row>11</th><td> 6  </td><td> 170</td><td>2   </td><td>57  </td><td>1   </td><td>1   </td><td> 80 </td><td> 80 </td><td>1025</td><td> 27 </td></tr>\n",
       "\t<tr><th scope=row>15</th><td>12  </td><td> 567</td><td>2   </td><td>57  </td><td>1   </td><td>1   </td><td> 80 </td><td> 70 </td><td>2600</td><td> 60 </td></tr>\n",
       "\t<tr><th scope=row>17</th><td>22  </td><td> 613</td><td>2   </td><td>70  </td><td>1   </td><td>1   </td><td> 90 </td><td>100 </td><td>1150</td><td> -5 </td></tr>\n",
       "\t<tr><th scope=row>18</th><td>16  </td><td> 707</td><td>2   </td><td>63  </td><td>1   </td><td>2   </td><td> 50 </td><td> 70 </td><td>1025</td><td> 22 </td></tr>\n",
       "\t<tr><th scope=row>19</th><td> 1  </td><td>  61</td><td>2   </td><td>56  </td><td>2   </td><td>2   </td><td> 60 </td><td> 60 </td><td> 238</td><td> 10 </td></tr>\n",
       "\t<tr><th scope=row>21</th><td>11  </td><td> 301</td><td>2   </td><td>67  </td><td>1   </td><td>1   </td><td> 80 </td><td> 80 </td><td>1025</td><td> 17 </td></tr>\n",
       "\t<tr><th scope=row>22</th><td> 6  </td><td>  81</td><td>2   </td><td>49  </td><td>2   </td><td>0   </td><td>100 </td><td> 70 </td><td>1175</td><td> -8 </td></tr>\n",
       "\t<tr><th scope=row>24</th><td>15  </td><td> 371</td><td>2   </td><td>58  </td><td>1   </td><td>0   </td><td> 90 </td><td>100 </td><td> 975</td><td> 13 </td></tr>\n",
       "\t<tr><th scope=row>26</th><td>12  </td><td> 520</td><td>2   </td><td>70  </td><td>2   </td><td>1   </td><td> 90 </td><td> 80 </td><td> 825</td><td>  6 </td></tr>\n",
       "\t<tr><th scope=row>27</th><td> 4  </td><td> 574</td><td>2   </td><td>60  </td><td>1   </td><td>0   </td><td>100 </td><td>100 </td><td>1025</td><td>-13 </td></tr>\n",
       "\t<tr><th scope=row>28</th><td>13  </td><td> 118</td><td>2   </td><td>70  </td><td>1   </td><td>3   </td><td> 60 </td><td> 70 </td><td>1075</td><td> 20 </td></tr>\n",
       "\t<tr><th scope=row>29</th><td>13  </td><td> 390</td><td>2   </td><td>53  </td><td>1   </td><td>1   </td><td> 80 </td><td> 70 </td><td> 875</td><td> -7 </td></tr>\n",
       "\t<tr><th scope=row>30</th><td> 1  </td><td>  12</td><td>2   </td><td>74  </td><td>1   </td><td>2   </td><td> 70 </td><td> 50 </td><td> 305</td><td> 20 </td></tr>\n",
       "\t<tr><th scope=row>31</th><td>12  </td><td> 473</td><td>2   </td><td>69  </td><td>2   </td><td>1   </td><td> 90 </td><td> 90 </td><td>1025</td><td> -1 </td></tr>\n",
       "\t<tr><th scope=row>32</th><td> 1  </td><td>  26</td><td>2   </td><td>73  </td><td>1   </td><td>2   </td><td> 60 </td><td> 70 </td><td> 388</td><td> 20 </td></tr>\n",
       "\t<tr><th scope=row>34</th><td>16  </td><td> 107</td><td>2   </td><td>60  </td><td>2   </td><td>2   </td><td> 50 </td><td> 60 </td><td> 925</td><td>-15 </td></tr>\n",
       "\t<tr><th scope=row>35</th><td>12  </td><td>  53</td><td>2   </td><td>61  </td><td>1   </td><td>2   </td><td> 70 </td><td>100 </td><td>1075</td><td> 10 </td></tr>\n",
       "\t<tr><th scope=row>37</th><td>22  </td><td> 814</td><td>2   </td><td>65  </td><td>1   </td><td>2   </td><td> 70 </td><td> 60 </td><td> 513</td><td> 28 </td></tr>\n",
       "\t<tr><th scope=row>38</th><td>15  </td><td> 965</td><td>1   </td><td>66  </td><td>2   </td><td>1   </td><td> 70 </td><td> 90 </td><td> 875</td><td>  4 </td></tr>\n",
       "\t<tr><th scope=row>39</th><td> 1  </td><td>  93</td><td>2   </td><td>74  </td><td>1   </td><td>2   </td><td> 50 </td><td> 40 </td><td>1225</td><td> 24 </td></tr>\n",
       "\t<tr><th scope=row>40</th><td> 1  </td><td> 731</td><td>2   </td><td>64  </td><td>2   </td><td>1   </td><td> 80 </td><td>100 </td><td>1175</td><td> 15 </td></tr>\n",
       "\t<tr><th scope=row>41</th><td> 5  </td><td> 460</td><td>2   </td><td>70  </td><td>1   </td><td>1   </td><td> 80 </td><td> 60 </td><td> 975</td><td> 10 </td></tr>\n",
       "\t<tr><th scope=row>42</th><td>11  </td><td> 153</td><td>2   </td><td>73  </td><td>2   </td><td>2   </td><td> 60 </td><td> 70 </td><td>1075</td><td> 11 </td></tr>\n",
       "\t<tr><th scope=row>...</th><td>...</td><td>...</td><td>...</td><td>...</td><td>...</td><td>...</td><td>...</td><td>...</td><td>...</td><td>...</td></tr>\n",
       "\t<tr><th scope=row>187</th><td> 2  </td><td>285 </td><td>2   </td><td>72  </td><td>2   </td><td>2   </td><td> 70 </td><td> 90 </td><td> 463</td><td>20  </td></tr>\n",
       "\t<tr><th scope=row>188</th><td> 3  </td><td>259 </td><td>1   </td><td>58  </td><td>1   </td><td>0   </td><td> 90 </td><td> 80 </td><td>1300</td><td> 8  </td></tr>\n",
       "\t<tr><th scope=row>189</th><td>15  </td><td>110 </td><td>2   </td><td>64  </td><td>1   </td><td>1   </td><td> 80 </td><td> 60 </td><td>1025</td><td>12  </td></tr>\n",
       "\t<tr><th scope=row>190</th><td>22  </td><td>286 </td><td>2   </td><td>53  </td><td>1   </td><td>0   </td><td> 90 </td><td> 90 </td><td>1225</td><td> 8  </td></tr>\n",
       "\t<tr><th scope=row>191</th><td>16  </td><td>270 </td><td>2   </td><td>72  </td><td>1   </td><td>1   </td><td> 80 </td><td> 90 </td><td> 488</td><td>14  </td></tr>\n",
       "\t<tr><th scope=row>194</th><td> 1  </td><td>225 </td><td>1   </td><td>64  </td><td>1   </td><td>1   </td><td> 90 </td><td> 80 </td><td> 825</td><td>33  </td></tr>\n",
       "\t<tr><th scope=row>195</th><td>22  </td><td>269 </td><td>2   </td><td>71  </td><td>1   </td><td>1   </td><td> 90 </td><td> 90 </td><td>1300</td><td>-2  </td></tr>\n",
       "\t<tr><th scope=row>196</th><td>12  </td><td>225 </td><td>1   </td><td>70  </td><td>1   </td><td>0   </td><td>100 </td><td>100 </td><td>1175</td><td> 6  </td></tr>\n",
       "\t<tr><th scope=row>197</th><td>32  </td><td>243 </td><td>1   </td><td>63  </td><td>2   </td><td>1   </td><td> 80 </td><td> 90 </td><td> 825</td><td> 0  </td></tr>\n",
       "\t<tr><th scope=row>199</th><td> 1  </td><td>276 </td><td>1   </td><td>52  </td><td>2   </td><td>0   </td><td>100 </td><td> 80 </td><td> 975</td><td> 0  </td></tr>\n",
       "\t<tr><th scope=row>200</th><td>32  </td><td>135 </td><td>2   </td><td>60  </td><td>1   </td><td>1   </td><td> 90 </td><td> 70 </td><td>1275</td><td> 0  </td></tr>\n",
       "\t<tr><th scope=row>201</th><td>15  </td><td> 79 </td><td>2   </td><td>64  </td><td>2   </td><td>1   </td><td> 90 </td><td> 90 </td><td> 488</td><td>37  </td></tr>\n",
       "\t<tr><th scope=row>202</th><td>22  </td><td> 59 </td><td>2   </td><td>73  </td><td>1   </td><td>1   </td><td> 60 </td><td> 60 </td><td>2200</td><td> 5  </td></tr>\n",
       "\t<tr><th scope=row>203</th><td>32  </td><td>240 </td><td>1   </td><td>63  </td><td>2   </td><td>0   </td><td> 90 </td><td>100 </td><td>1025</td><td> 0  </td></tr>\n",
       "\t<tr><th scope=row>204</th><td> 3  </td><td>202 </td><td>1   </td><td>50  </td><td>2   </td><td>0   </td><td>100 </td><td>100 </td><td> 635</td><td> 1  </td></tr>\n",
       "\t<tr><th scope=row>205</th><td>26  </td><td>235 </td><td>1   </td><td>63  </td><td>2   </td><td>0   </td><td>100 </td><td> 90 </td><td> 413</td><td> 0  </td></tr>\n",
       "\t<tr><th scope=row>208</th><td>13  </td><td>239 </td><td>2   </td><td>50  </td><td>2   </td><td>2   </td><td> 60 </td><td> 60 </td><td>1025</td><td>-3  </td></tr>\n",
       "\t<tr><th scope=row>211</th><td> 1  </td><td>252 </td><td>1   </td><td>60  </td><td>2   </td><td>0   </td><td>100 </td><td> 90 </td><td> 488</td><td>-2  </td></tr>\n",
       "\t<tr><th scope=row>212</th><td> 6  </td><td>221 </td><td>1   </td><td>67  </td><td>1   </td><td>1   </td><td> 80 </td><td> 70 </td><td> 413</td><td>23  </td></tr>\n",
       "\t<tr><th scope=row>213</th><td>15  </td><td>185 </td><td>1   </td><td>69  </td><td>1   </td><td>1   </td><td> 90 </td><td> 70 </td><td>1075</td><td> 0  </td></tr>\n",
       "\t<tr><th scope=row>216</th><td>11  </td><td>222 </td><td>1   </td><td>65  </td><td>1   </td><td>1   </td><td> 90 </td><td> 70 </td><td>1025</td><td>18  </td></tr>\n",
       "\t<tr><th scope=row>218</th><td>21  </td><td>183 </td><td>2   </td><td>76  </td><td>1   </td><td>2   </td><td> 80 </td><td> 60 </td><td> 825</td><td> 7  </td></tr>\n",
       "\t<tr><th scope=row>219</th><td>11  </td><td>211 </td><td>1   </td><td>70  </td><td>2   </td><td>2   </td><td> 70 </td><td> 30 </td><td> 131</td><td> 3  </td></tr>\n",
       "\t<tr><th scope=row>220</th><td> 2  </td><td>175 </td><td>1   </td><td>57  </td><td>2   </td><td>0   </td><td> 80 </td><td> 80 </td><td> 725</td><td>11  </td></tr>\n",
       "\t<tr><th scope=row>221</th><td>22  </td><td>197 </td><td>1   </td><td>67  </td><td>1   </td><td>1   </td><td> 80 </td><td> 90 </td><td>1500</td><td> 2  </td></tr>\n",
       "\t<tr><th scope=row>222</th><td>11  </td><td>203 </td><td>1   </td><td>71  </td><td>2   </td><td>1   </td><td> 80 </td><td> 90 </td><td>1025</td><td> 0  </td></tr>\n",
       "\t<tr><th scope=row>225</th><td>13  </td><td>191 </td><td>1   </td><td>39  </td><td>1   </td><td>0   </td><td> 90 </td><td> 90 </td><td>2350</td><td>-5  </td></tr>\n",
       "\t<tr><th scope=row>226</th><td>32  </td><td>105 </td><td>1   </td><td>75  </td><td>2   </td><td>2   </td><td> 60 </td><td> 70 </td><td>1025</td><td> 5  </td></tr>\n",
       "\t<tr><th scope=row>227</th><td> 6  </td><td>174 </td><td>1   </td><td>66  </td><td>1   </td><td>1   </td><td> 90 </td><td>100 </td><td>1075</td><td> 1  </td></tr>\n",
       "\t<tr><th scope=row>228</th><td>22  </td><td>177 </td><td>1   </td><td>58  </td><td>2   </td><td>1   </td><td> 80 </td><td> 90 </td><td>1060</td><td> 0  </td></tr>\n",
       "</tbody>\n",
       "</table>\n"
      ],
      "text/latex": [
       "\\begin{tabular}{r|llllllllll}\n",
       "  & inst & time & status & age & sex & ph.ecog & ph.karno & pat.karno & meal.cal & wt.loss\\\\\n",
       "\\hline\n",
       "\t2 &  3   &  455 & 2    & 68   & 1    & 0    &  90  &  90  & 1225 &  15 \\\\\n",
       "\t4 &  5   &  210 & 2    & 57   & 1    & 1    &  90  &  60  & 1150 &  11 \\\\\n",
       "\t6 & 12   & 1022 & 1    & 74   & 1    & 1    &  50  &  80  &  513 &   0 \\\\\n",
       "\t7 &  7   &  310 & 2    & 68   & 2    & 2    &  70  &  60  &  384 &  10 \\\\\n",
       "\t8 & 11   &  361 & 2    & 71   & 2    & 2    &  60  &  80  &  538 &   1 \\\\\n",
       "\t9 &  1   &  218 & 2    & 53   & 1    & 1    &  70  &  80  &  825 &  16 \\\\\n",
       "\t10 &  7   &  166 & 2    & 61   & 1    & 2    &  70  &  70  &  271 &  34 \\\\\n",
       "\t11 &  6   &  170 & 2    & 57   & 1    & 1    &  80  &  80  & 1025 &  27 \\\\\n",
       "\t15 & 12   &  567 & 2    & 57   & 1    & 1    &  80  &  70  & 2600 &  60 \\\\\n",
       "\t17 & 22   &  613 & 2    & 70   & 1    & 1    &  90  & 100  & 1150 &  -5 \\\\\n",
       "\t18 & 16   &  707 & 2    & 63   & 1    & 2    &  50  &  70  & 1025 &  22 \\\\\n",
       "\t19 &  1   &   61 & 2    & 56   & 2    & 2    &  60  &  60  &  238 &  10 \\\\\n",
       "\t21 & 11   &  301 & 2    & 67   & 1    & 1    &  80  &  80  & 1025 &  17 \\\\\n",
       "\t22 &  6   &   81 & 2    & 49   & 2    & 0    & 100  &  70  & 1175 &  -8 \\\\\n",
       "\t24 & 15   &  371 & 2    & 58   & 1    & 0    &  90  & 100  &  975 &  13 \\\\\n",
       "\t26 & 12   &  520 & 2    & 70   & 2    & 1    &  90  &  80  &  825 &   6 \\\\\n",
       "\t27 &  4   &  574 & 2    & 60   & 1    & 0    & 100  & 100  & 1025 & -13 \\\\\n",
       "\t28 & 13   &  118 & 2    & 70   & 1    & 3    &  60  &  70  & 1075 &  20 \\\\\n",
       "\t29 & 13   &  390 & 2    & 53   & 1    & 1    &  80  &  70  &  875 &  -7 \\\\\n",
       "\t30 &  1   &   12 & 2    & 74   & 1    & 2    &  70  &  50  &  305 &  20 \\\\\n",
       "\t31 & 12   &  473 & 2    & 69   & 2    & 1    &  90  &  90  & 1025 &  -1 \\\\\n",
       "\t32 &  1   &   26 & 2    & 73   & 1    & 2    &  60  &  70  &  388 &  20 \\\\\n",
       "\t34 & 16   &  107 & 2    & 60   & 2    & 2    &  50  &  60  &  925 & -15 \\\\\n",
       "\t35 & 12   &   53 & 2    & 61   & 1    & 2    &  70  & 100  & 1075 &  10 \\\\\n",
       "\t37 & 22   &  814 & 2    & 65   & 1    & 2    &  70  &  60  &  513 &  28 \\\\\n",
       "\t38 & 15   &  965 & 1    & 66   & 2    & 1    &  70  &  90  &  875 &   4 \\\\\n",
       "\t39 &  1   &   93 & 2    & 74   & 1    & 2    &  50  &  40  & 1225 &  24 \\\\\n",
       "\t40 &  1   &  731 & 2    & 64   & 2    & 1    &  80  & 100  & 1175 &  15 \\\\\n",
       "\t41 &  5   &  460 & 2    & 70   & 1    & 1    &  80  &  60  &  975 &  10 \\\\\n",
       "\t42 & 11   &  153 & 2    & 73   & 2    & 2    &  60  &  70  & 1075 &  11 \\\\\n",
       "\t... & ... & ... & ... & ... & ... & ... & ... & ... & ... & ...\\\\\n",
       "\t187 &  2   & 285  & 2    & 72   & 2    & 2    &  70  &  90  &  463 & 20  \\\\\n",
       "\t188 &  3   & 259  & 1    & 58   & 1    & 0    &  90  &  80  & 1300 &  8  \\\\\n",
       "\t189 & 15   & 110  & 2    & 64   & 1    & 1    &  80  &  60  & 1025 & 12  \\\\\n",
       "\t190 & 22   & 286  & 2    & 53   & 1    & 0    &  90  &  90  & 1225 &  8  \\\\\n",
       "\t191 & 16   & 270  & 2    & 72   & 1    & 1    &  80  &  90  &  488 & 14  \\\\\n",
       "\t194 &  1   & 225  & 1    & 64   & 1    & 1    &  90  &  80  &  825 & 33  \\\\\n",
       "\t195 & 22   & 269  & 2    & 71   & 1    & 1    &  90  &  90  & 1300 & -2  \\\\\n",
       "\t196 & 12   & 225  & 1    & 70   & 1    & 0    & 100  & 100  & 1175 &  6  \\\\\n",
       "\t197 & 32   & 243  & 1    & 63   & 2    & 1    &  80  &  90  &  825 &  0  \\\\\n",
       "\t199 &  1   & 276  & 1    & 52   & 2    & 0    & 100  &  80  &  975 &  0  \\\\\n",
       "\t200 & 32   & 135  & 2    & 60   & 1    & 1    &  90  &  70  & 1275 &  0  \\\\\n",
       "\t201 & 15   &  79  & 2    & 64   & 2    & 1    &  90  &  90  &  488 & 37  \\\\\n",
       "\t202 & 22   &  59  & 2    & 73   & 1    & 1    &  60  &  60  & 2200 &  5  \\\\\n",
       "\t203 & 32   & 240  & 1    & 63   & 2    & 0    &  90  & 100  & 1025 &  0  \\\\\n",
       "\t204 &  3   & 202  & 1    & 50   & 2    & 0    & 100  & 100  &  635 &  1  \\\\\n",
       "\t205 & 26   & 235  & 1    & 63   & 2    & 0    & 100  &  90  &  413 &  0  \\\\\n",
       "\t208 & 13   & 239  & 2    & 50   & 2    & 2    &  60  &  60  & 1025 & -3  \\\\\n",
       "\t211 &  1   & 252  & 1    & 60   & 2    & 0    & 100  &  90  &  488 & -2  \\\\\n",
       "\t212 &  6   & 221  & 1    & 67   & 1    & 1    &  80  &  70  &  413 & 23  \\\\\n",
       "\t213 & 15   & 185  & 1    & 69   & 1    & 1    &  90  &  70  & 1075 &  0  \\\\\n",
       "\t216 & 11   & 222  & 1    & 65   & 1    & 1    &  90  &  70  & 1025 & 18  \\\\\n",
       "\t218 & 21   & 183  & 2    & 76   & 1    & 2    &  80  &  60  &  825 &  7  \\\\\n",
       "\t219 & 11   & 211  & 1    & 70   & 2    & 2    &  70  &  30  &  131 &  3  \\\\\n",
       "\t220 &  2   & 175  & 1    & 57   & 2    & 0    &  80  &  80  &  725 & 11  \\\\\n",
       "\t221 & 22   & 197  & 1    & 67   & 1    & 1    &  80  &  90  & 1500 &  2  \\\\\n",
       "\t222 & 11   & 203  & 1    & 71   & 2    & 1    &  80  &  90  & 1025 &  0  \\\\\n",
       "\t225 & 13   & 191  & 1    & 39   & 1    & 0    &  90  &  90  & 2350 & -5  \\\\\n",
       "\t226 & 32   & 105  & 1    & 75   & 2    & 2    &  60  &  70  & 1025 &  5  \\\\\n",
       "\t227 &  6   & 174  & 1    & 66   & 1    & 1    &  90  & 100  & 1075 &  1  \\\\\n",
       "\t228 & 22   & 177  & 1    & 58   & 2    & 1    &  80  &  90  & 1060 &  0  \\\\\n",
       "\\end{tabular}\n"
      ],
      "text/markdown": [
       "\n",
       "| <!--/--> | inst | time | status | age | sex | ph.ecog | ph.karno | pat.karno | meal.cal | wt.loss |\n",
       "|---|---|---|---|---|---|---|---|---|---|---|\n",
       "| 2 |  3   |  455 | 2    | 68   | 1    | 0    |  90  |  90  | 1225 |  15  |\n",
       "| 4 |  5   |  210 | 2    | 57   | 1    | 1    |  90  |  60  | 1150 |  11  |\n",
       "| 6 | 12   | 1022 | 1    | 74   | 1    | 1    |  50  |  80  |  513 |   0  |\n",
       "| 7 |  7   |  310 | 2    | 68   | 2    | 2    |  70  |  60  |  384 |  10  |\n",
       "| 8 | 11   |  361 | 2    | 71   | 2    | 2    |  60  |  80  |  538 |   1  |\n",
       "| 9 |  1   |  218 | 2    | 53   | 1    | 1    |  70  |  80  |  825 |  16  |\n",
       "| 10 |  7   |  166 | 2    | 61   | 1    | 2    |  70  |  70  |  271 |  34  |\n",
       "| 11 |  6   |  170 | 2    | 57   | 1    | 1    |  80  |  80  | 1025 |  27  |\n",
       "| 15 | 12   |  567 | 2    | 57   | 1    | 1    |  80  |  70  | 2600 |  60  |\n",
       "| 17 | 22   |  613 | 2    | 70   | 1    | 1    |  90  | 100  | 1150 |  -5  |\n",
       "| 18 | 16   |  707 | 2    | 63   | 1    | 2    |  50  |  70  | 1025 |  22  |\n",
       "| 19 |  1   |   61 | 2    | 56   | 2    | 2    |  60  |  60  |  238 |  10  |\n",
       "| 21 | 11   |  301 | 2    | 67   | 1    | 1    |  80  |  80  | 1025 |  17  |\n",
       "| 22 |  6   |   81 | 2    | 49   | 2    | 0    | 100  |  70  | 1175 |  -8  |\n",
       "| 24 | 15   |  371 | 2    | 58   | 1    | 0    |  90  | 100  |  975 |  13  |\n",
       "| 26 | 12   |  520 | 2    | 70   | 2    | 1    |  90  |  80  |  825 |   6  |\n",
       "| 27 |  4   |  574 | 2    | 60   | 1    | 0    | 100  | 100  | 1025 | -13  |\n",
       "| 28 | 13   |  118 | 2    | 70   | 1    | 3    |  60  |  70  | 1075 |  20  |\n",
       "| 29 | 13   |  390 | 2    | 53   | 1    | 1    |  80  |  70  |  875 |  -7  |\n",
       "| 30 |  1   |   12 | 2    | 74   | 1    | 2    |  70  |  50  |  305 |  20  |\n",
       "| 31 | 12   |  473 | 2    | 69   | 2    | 1    |  90  |  90  | 1025 |  -1  |\n",
       "| 32 |  1   |   26 | 2    | 73   | 1    | 2    |  60  |  70  |  388 |  20  |\n",
       "| 34 | 16   |  107 | 2    | 60   | 2    | 2    |  50  |  60  |  925 | -15  |\n",
       "| 35 | 12   |   53 | 2    | 61   | 1    | 2    |  70  | 100  | 1075 |  10  |\n",
       "| 37 | 22   |  814 | 2    | 65   | 1    | 2    |  70  |  60  |  513 |  28  |\n",
       "| 38 | 15   |  965 | 1    | 66   | 2    | 1    |  70  |  90  |  875 |   4  |\n",
       "| 39 |  1   |   93 | 2    | 74   | 1    | 2    |  50  |  40  | 1225 |  24  |\n",
       "| 40 |  1   |  731 | 2    | 64   | 2    | 1    |  80  | 100  | 1175 |  15  |\n",
       "| 41 |  5   |  460 | 2    | 70   | 1    | 1    |  80  |  60  |  975 |  10  |\n",
       "| 42 | 11   |  153 | 2    | 73   | 2    | 2    |  60  |  70  | 1075 |  11  |\n",
       "| ... | ... | ... | ... | ... | ... | ... | ... | ... | ... | ... |\n",
       "| 187 |  2   | 285  | 2    | 72   | 2    | 2    |  70  |  90  |  463 | 20   |\n",
       "| 188 |  3   | 259  | 1    | 58   | 1    | 0    |  90  |  80  | 1300 |  8   |\n",
       "| 189 | 15   | 110  | 2    | 64   | 1    | 1    |  80  |  60  | 1025 | 12   |\n",
       "| 190 | 22   | 286  | 2    | 53   | 1    | 0    |  90  |  90  | 1225 |  8   |\n",
       "| 191 | 16   | 270  | 2    | 72   | 1    | 1    |  80  |  90  |  488 | 14   |\n",
       "| 194 |  1   | 225  | 1    | 64   | 1    | 1    |  90  |  80  |  825 | 33   |\n",
       "| 195 | 22   | 269  | 2    | 71   | 1    | 1    |  90  |  90  | 1300 | -2   |\n",
       "| 196 | 12   | 225  | 1    | 70   | 1    | 0    | 100  | 100  | 1175 |  6   |\n",
       "| 197 | 32   | 243  | 1    | 63   | 2    | 1    |  80  |  90  |  825 |  0   |\n",
       "| 199 |  1   | 276  | 1    | 52   | 2    | 0    | 100  |  80  |  975 |  0   |\n",
       "| 200 | 32   | 135  | 2    | 60   | 1    | 1    |  90  |  70  | 1275 |  0   |\n",
       "| 201 | 15   |  79  | 2    | 64   | 2    | 1    |  90  |  90  |  488 | 37   |\n",
       "| 202 | 22   |  59  | 2    | 73   | 1    | 1    |  60  |  60  | 2200 |  5   |\n",
       "| 203 | 32   | 240  | 1    | 63   | 2    | 0    |  90  | 100  | 1025 |  0   |\n",
       "| 204 |  3   | 202  | 1    | 50   | 2    | 0    | 100  | 100  |  635 |  1   |\n",
       "| 205 | 26   | 235  | 1    | 63   | 2    | 0    | 100  |  90  |  413 |  0   |\n",
       "| 208 | 13   | 239  | 2    | 50   | 2    | 2    |  60  |  60  | 1025 | -3   |\n",
       "| 211 |  1   | 252  | 1    | 60   | 2    | 0    | 100  |  90  |  488 | -2   |\n",
       "| 212 |  6   | 221  | 1    | 67   | 1    | 1    |  80  |  70  |  413 | 23   |\n",
       "| 213 | 15   | 185  | 1    | 69   | 1    | 1    |  90  |  70  | 1075 |  0   |\n",
       "| 216 | 11   | 222  | 1    | 65   | 1    | 1    |  90  |  70  | 1025 | 18   |\n",
       "| 218 | 21   | 183  | 2    | 76   | 1    | 2    |  80  |  60  |  825 |  7   |\n",
       "| 219 | 11   | 211  | 1    | 70   | 2    | 2    |  70  |  30  |  131 |  3   |\n",
       "| 220 |  2   | 175  | 1    | 57   | 2    | 0    |  80  |  80  |  725 | 11   |\n",
       "| 221 | 22   | 197  | 1    | 67   | 1    | 1    |  80  |  90  | 1500 |  2   |\n",
       "| 222 | 11   | 203  | 1    | 71   | 2    | 1    |  80  |  90  | 1025 |  0   |\n",
       "| 225 | 13   | 191  | 1    | 39   | 1    | 0    |  90  |  90  | 2350 | -5   |\n",
       "| 226 | 32   | 105  | 1    | 75   | 2    | 2    |  60  |  70  | 1025 |  5   |\n",
       "| 227 |  6   | 174  | 1    | 66   | 1    | 1    |  90  | 100  | 1075 |  1   |\n",
       "| 228 | 22   | 177  | 1    | 58   | 2    | 1    |  80  |  90  | 1060 |  0   |\n",
       "\n"
      ],
      "text/plain": [
       "    inst time status age sex ph.ecog ph.karno pat.karno meal.cal wt.loss\n",
       "2    3    455 2      68  1   0        90       90       1225      15    \n",
       "4    5    210 2      57  1   1        90       60       1150      11    \n",
       "6   12   1022 1      74  1   1        50       80        513       0    \n",
       "7    7    310 2      68  2   2        70       60        384      10    \n",
       "8   11    361 2      71  2   2        60       80        538       1    \n",
       "9    1    218 2      53  1   1        70       80        825      16    \n",
       "10   7    166 2      61  1   2        70       70        271      34    \n",
       "11   6    170 2      57  1   1        80       80       1025      27    \n",
       "15  12    567 2      57  1   1        80       70       2600      60    \n",
       "17  22    613 2      70  1   1        90      100       1150      -5    \n",
       "18  16    707 2      63  1   2        50       70       1025      22    \n",
       "19   1     61 2      56  2   2        60       60        238      10    \n",
       "21  11    301 2      67  1   1        80       80       1025      17    \n",
       "22   6     81 2      49  2   0       100       70       1175      -8    \n",
       "24  15    371 2      58  1   0        90      100        975      13    \n",
       "26  12    520 2      70  2   1        90       80        825       6    \n",
       "27   4    574 2      60  1   0       100      100       1025     -13    \n",
       "28  13    118 2      70  1   3        60       70       1075      20    \n",
       "29  13    390 2      53  1   1        80       70        875      -7    \n",
       "30   1     12 2      74  1   2        70       50        305      20    \n",
       "31  12    473 2      69  2   1        90       90       1025      -1    \n",
       "32   1     26 2      73  1   2        60       70        388      20    \n",
       "34  16    107 2      60  2   2        50       60        925     -15    \n",
       "35  12     53 2      61  1   2        70      100       1075      10    \n",
       "37  22    814 2      65  1   2        70       60        513      28    \n",
       "38  15    965 1      66  2   1        70       90        875       4    \n",
       "39   1     93 2      74  1   2        50       40       1225      24    \n",
       "40   1    731 2      64  2   1        80      100       1175      15    \n",
       "41   5    460 2      70  1   1        80       60        975      10    \n",
       "42  11    153 2      73  2   2        60       70       1075      11    \n",
       "... ...  ...  ...    ... ... ...     ...      ...       ...      ...    \n",
       "187  2   285  2      72  2   2        70       90        463     20     \n",
       "188  3   259  1      58  1   0        90       80       1300      8     \n",
       "189 15   110  2      64  1   1        80       60       1025     12     \n",
       "190 22   286  2      53  1   0        90       90       1225      8     \n",
       "191 16   270  2      72  1   1        80       90        488     14     \n",
       "194  1   225  1      64  1   1        90       80        825     33     \n",
       "195 22   269  2      71  1   1        90       90       1300     -2     \n",
       "196 12   225  1      70  1   0       100      100       1175      6     \n",
       "197 32   243  1      63  2   1        80       90        825      0     \n",
       "199  1   276  1      52  2   0       100       80        975      0     \n",
       "200 32   135  2      60  1   1        90       70       1275      0     \n",
       "201 15    79  2      64  2   1        90       90        488     37     \n",
       "202 22    59  2      73  1   1        60       60       2200      5     \n",
       "203 32   240  1      63  2   0        90      100       1025      0     \n",
       "204  3   202  1      50  2   0       100      100        635      1     \n",
       "205 26   235  1      63  2   0       100       90        413      0     \n",
       "208 13   239  2      50  2   2        60       60       1025     -3     \n",
       "211  1   252  1      60  2   0       100       90        488     -2     \n",
       "212  6   221  1      67  1   1        80       70        413     23     \n",
       "213 15   185  1      69  1   1        90       70       1075      0     \n",
       "216 11   222  1      65  1   1        90       70       1025     18     \n",
       "218 21   183  2      76  1   2        80       60        825      7     \n",
       "219 11   211  1      70  2   2        70       30        131      3     \n",
       "220  2   175  1      57  2   0        80       80        725     11     \n",
       "221 22   197  1      67  1   1        80       90       1500      2     \n",
       "222 11   203  1      71  2   1        80       90       1025      0     \n",
       "225 13   191  1      39  1   0        90       90       2350     -5     \n",
       "226 32   105  1      75  2   2        60       70       1025      5     \n",
       "227  6   174  1      66  1   1        90      100       1075      1     \n",
       "228 22   177  1      58  2   1        80       90       1060      0     "
      ]
     },
     "metadata": {},
     "output_type": "display_data"
    }
   ],
   "source": [
    "cancer2<-na.omit(cancer)\n",
    "cancer2"
   ]
  },
  {
   "cell_type": "code",
   "execution_count": 6,
   "id": "exceptional-yacht",
   "metadata": {},
   "outputs": [
    {
     "data": {
      "text/html": [
       "0"
      ],
      "text/latex": [
       "0"
      ],
      "text/markdown": [
       "0"
      ],
      "text/plain": [
       "[1] 0"
      ]
     },
     "metadata": {},
     "output_type": "display_data"
    }
   ],
   "source": [
    "sum(is.na(cancer2))"
   ]
  },
  {
   "cell_type": "markdown",
   "id": "coastal-distributor",
   "metadata": {},
   "source": [
    "**Gráficos de pastel**"
   ]
  },
  {
   "cell_type": "code",
   "execution_count": 8,
   "id": "respective-cathedral",
   "metadata": {},
   "outputs": [
    {
     "data": {
      "text/plain": [
       "   \n",
       "     1  2\n",
       "  1 21 26\n",
       "  2 82 38"
      ]
     },
     "metadata": {},
     "output_type": "display_data"
    }
   ],
   "source": [
    "table(cancer2$status, cancer2$sex)"
   ]
  },
  {
   "cell_type": "code",
   "execution_count": 9,
   "id": "cloudy-supervision",
   "metadata": {},
   "outputs": [],
   "source": [
    "sexo<-factor(cancer2$sex)\n",
    "#1 hombre\n",
    "#2 mujer"
   ]
  },
  {
   "cell_type": "code",
   "execution_count": 10,
   "id": "signed-guyana",
   "metadata": {},
   "outputs": [],
   "source": [
    "levels(sexo)<-c(\"Masculino\", \"Fememino\")"
   ]
  },
  {
   "cell_type": "code",
   "execution_count": 11,
   "id": "driving-regression",
   "metadata": {},
   "outputs": [
    {
     "data": {
      "text/plain": [
       "sexo\n",
       "Masculino  Fememino \n",
       "      103        64 "
      ]
     },
     "metadata": {},
     "output_type": "display_data"
    }
   ],
   "source": [
    "table(sexo)"
   ]
  },
  {
   "cell_type": "code",
   "execution_count": 12,
   "id": "surgical-contrast",
   "metadata": {},
   "outputs": [
    {
     "data": {
      "image/png": "[encoded data removed]",
      "text/plain": [
       "Plot with title \"Proporción por Sexo\""
      ]
     },
     "metadata": {},
     "output_type": "display_data"
    }
   ],
   "source": [
    "pie(table(sexo), col=c(\"blue\", \"purple\"), main=\"Proporción por Sexo\")"
   ]
  },
  {
   "cell_type": "code",
   "execution_count": 16,
   "id": "immune-sphere",
   "metadata": {},
   "outputs": [
    {
     "data": {
      "text/plain": [
       "   \n",
       "     0  1  2  3\n",
       "  1 20 22  5  0\n",
       "  2 27 59 33  1"
      ]
     },
     "metadata": {},
     "output_type": "display_data"
    }
   ],
   "source": [
    "table(cancer2$status, cancer2$ph.ecog)"
   ]
  },
  {
   "cell_type": "code",
   "execution_count": null,
   "id": "acting-wildlife",
   "metadata": {},
   "outputs": [],
   "source": [
    "desempeño<-factor(cancer2$ph.ecog)\n",
    "#Puntuación rendimiento\n",
    "#0: asintomatico\n",
    "#1: asintomatico pero medio ambulatorio\n",
    "#2: mitad ambulatorio\n",
    "#3: más de la mitad en cama\n",
    "#4: en cama"
   ]
  },
  {
   "cell_type": "code",
   "execution_count": 17,
   "id": "capital-fiber",
   "metadata": {},
   "outputs": [],
   "source": [
    "levels(desempeño)<-c(\"Asintomatico\", \"Asintomatico medio ambulatorio\", \"Mitad ambulatorio\", \"Mas de la mitad en cama\",\"En cama\")"
   ]
  },
  {
   "cell_type": "code",
   "execution_count": 18,
   "id": "typical-culture",
   "metadata": {},
   "outputs": [
    {
     "data": {
      "text/plain": [
       "desempeño\n",
       "                  Asintomatico Asintomatico medio ambulatorio \n",
       "                            47                             81 \n",
       "             Mitad ambulatorio        Mas de la mitad en cama \n",
       "                            38                              1 \n",
       "                       En cama \n",
       "                             0 "
      ]
     },
     "metadata": {},
     "output_type": "display_data"
    }
   ],
   "source": [
    "table(desempeño)"
   ]
  },
  {
   "cell_type": "code",
   "execution_count": 19,
   "id": "convertible-freight",
   "metadata": {},
   "outputs": [
    {
     "data": {
      "image/png": "[encoded data removed]",
      "text/plain": [
       "Plot with title \"Proporción por Desempeño\""
      ]
     },
     "metadata": {},
     "output_type": "display_data"
    }
   ],
   "source": [
    "pie(table(desempeño), col=c(\"blue\", \"purple\", \"yellow\", \"magenta\", \"green\"), main=\"Proporción por Desempeño\")"
   ]
  },
  {
   "cell_type": "code",
   "execution_count": 21,
   "id": "reliable-response",
   "metadata": {},
   "outputs": [],
   "source": [
    "estatus<-factor(cancer2$status)\n",
    "#0 censurado\n",
    "#1 muerte"
   ]
  },
  {
   "cell_type": "code",
   "execution_count": 22,
   "id": "corrected-contractor",
   "metadata": {},
   "outputs": [
    {
     "data": {
      "text/plain": [
       "estatus\n",
       "Censurado    Muerto \n",
       "       47       120 "
      ]
     },
     "metadata": {},
     "output_type": "display_data"
    }
   ],
   "source": [
    "levels(estatus)<-c(\"Censurado\", \"Muerto\")\n",
    "table(estatus)"
   ]
  },
  {
   "cell_type": "code",
   "execution_count": 24,
   "id": "about-meeting",
   "metadata": {},
   "outputs": [
    {
     "data": {
      "image/png": "[encoded data removed]",
      "text/plain": [
       "Plot with title \"Proporción por estatus\""
      ]
     },
     "metadata": {},
     "output_type": "display_data"
    }
   ],
   "source": [
    "pie(table(estatus), col=c(\"green\", \"red\"), main=\"Proporción por estatus\")"
   ]
  },
  {
   "cell_type": "markdown",
   "id": "surprising-color",
   "metadata": {},
   "source": [
    "**Boxplots**"
   ]
  },
  {
   "cell_type": "markdown",
   "id": "victorian-fortune",
   "metadata": {},
   "source": [
    "**Comparativo de dispersión de tiempo por desempeño**"
   ]
  },
  {
   "cell_type": "code",
   "execution_count": 35,
   "id": "alpine-biodiversity",
   "metadata": {},
   "outputs": [
    {
     "data": {
      "image/png": "[encoded data removed]",
      "text/plain": [
       "plot without title"
      ]
     },
     "metadata": {},
     "output_type": "display_data"
    }
   ],
   "source": [
    "boxplot(cancer2$time[cancer2$status==1 & cancer2$ph.ecog==0],\n",
    "       cancer2$time[cancer2$status==1 & cancer2$ph.ecog==1],\n",
    "       cancer2$time[cancer2$status==1 & cancer2$ph.ecog==2],\n",
    "       cancer2$time[cancer2$status==1 & cancer2$ph.ecog==3],\n",
    "       cancer2$time[cancer2$status==1 & cancer2$ph.ecog==4], names=c(\"Asintomatico\", \"Asintomatico medio\", \"Mitad ambulatorio\", \"Mas en cama\",\"En cama\"))"
   ]
  },
  {
   "cell_type": "markdown",
   "id": "whole-cheat",
   "metadata": {},
   "source": [
    "**Comparativo de dispersión de tiempo por sexo**"
   ]
  },
  {
   "cell_type": "code",
   "execution_count": 33,
   "id": "stuck-particular",
   "metadata": {},
   "outputs": [
    {
     "data": {
      "image/png": "[encoded data removed]",
      "text/plain": [
       "plot without title"
      ]
     },
     "metadata": {},
     "output_type": "display_data"
    }
   ],
   "source": [
    "boxplot(cancer2$time[cancer2$status==1 & cancer2$sex==1],\n",
    "       cancer2$time[cancer2$status==1 & cancer2$sex==2], names=c(\"Masculino\", \"Femenino\"))"
   ]
  },
  {
   "cell_type": "markdown",
   "id": "chief-postage",
   "metadata": {},
   "source": [
    "## Análisis de supervivencia mediante el modelo de Cox"
   ]
  },
  {
   "cell_type": "code",
   "execution_count": null,
   "id": "about-algebra",
   "metadata": {},
   "outputs": [],
   "source": []
  }
 ],
 "metadata": {
  "kernelspec": {
   "display_name": "R",
   "language": "R",
   "name": "ir"
  },
  "language_info": {
   "codemirror_mode": "r",
   "file_extension": ".r",
   "mimetype": "text/x-r-source",
   "name": "R",
   "pygments_lexer": "r",
   "version": "3.6.1"
  }
 },
 "nbformat": 4,
 "nbformat_minor": 5
}
