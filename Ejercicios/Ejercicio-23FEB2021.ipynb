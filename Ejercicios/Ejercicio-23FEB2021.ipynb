{
 "cells": [
  {
   "cell_type": "markdown",
   "metadata": {},
   "source": [
    "## Clasificación de series de tiempo\n",
    "\n",
    "### Estacionariedad\n",
    "\n",
    "**Serie de tiempo: lynx**"
   ]
  },
  {
   "cell_type": "code",
   "execution_count": 1,
   "metadata": {},
   "outputs": [
    {
     "name": "stderr",
     "output_type": "stream",
     "text": [
      "Registered S3 method overwritten by 'quantmod':\n",
      "  method            from\n",
      "  as.zoo.data.frame zoo \n",
      "\n"
     ]
    },
    {
     "data": {
      "text/html": [
       "<style>\n",
       ".list-inline {list-style: none; margin:0; padding: 0}\n",
       ".list-inline>li {display: inline-block}\n",
       ".list-inline>li:not(:last-child)::after {content: \"\\00b7\"; padding: 0 .5ex}\n",
       "</style>\n",
       "<ol class=list-inline><li>1821</li><li>1</li></ol>\n"
      ],
      "text/latex": [
       "\\begin{enumerate*}\n",
       "\\item 1821\n",
       "\\item 1\n",
       "\\end{enumerate*}\n"
      ],
      "text/markdown": [
       "1. 1821\n",
       "2. 1\n",
       "\n",
       "\n"
      ],
      "text/plain": [
       "[1] 1821    1"
      ]
     },
     "metadata": {},
     "output_type": "display_data"
    },
    {
     "data": {
      "text/html": [
       "<style>\n",
       ".list-inline {list-style: none; margin:0; padding: 0}\n",
       ".list-inline>li {display: inline-block}\n",
       ".list-inline>li:not(:last-child)::after {content: \"\\00b7\"; padding: 0 .5ex}\n",
       "</style>\n",
       "<ol class=list-inline><li>1934</li><li>1</li></ol>\n"
      ],
      "text/latex": [
       "\\begin{enumerate*}\n",
       "\\item 1934\n",
       "\\item 1\n",
       "\\end{enumerate*}\n"
      ],
      "text/markdown": [
       "1. 1934\n",
       "2. 1\n",
       "\n",
       "\n"
      ],
      "text/plain": [
       "[1] 1934    1"
      ]
     },
     "metadata": {},
     "output_type": "display_data"
    },
    {
     "data": {
      "text/html": [
       "A Time Series:<br><style>\n",
       ".list-inline {list-style: none; margin:0; padding: 0}\n",
       ".list-inline>li {display: inline-block}\n",
       ".list-inline>li:not(:last-child)::after {content: \"\\00b7\"; padding: 0 .5ex}\n",
       "</style>\n",
       "<ol class=list-inline><li>1821</li><li>1822</li><li>1823</li><li>1824</li><li>1825</li><li>1826</li><li>1827</li><li>1828</li><li>1829</li><li>1830</li><li>1831</li><li>1832</li><li>1833</li><li>1834</li><li>1835</li><li>1836</li><li>1837</li><li>1838</li><li>1839</li><li>1840</li><li>1841</li><li>1842</li><li>1843</li><li>1844</li><li>1845</li><li>1846</li><li>1847</li><li>1848</li><li>1849</li><li>1850</li><li>1851</li><li>1852</li><li>1853</li><li>1854</li><li>1855</li><li>1856</li><li>1857</li><li>1858</li><li>1859</li><li>1860</li><li>1861</li><li>1862</li><li>1863</li><li>1864</li><li>1865</li><li>1866</li><li>1867</li><li>1868</li><li>1869</li><li>1870</li><li>1871</li><li>1872</li><li>1873</li><li>1874</li><li>1875</li><li>1876</li><li>1877</li><li>1878</li><li>1879</li><li>1880</li><li>1881</li><li>1882</li><li>1883</li><li>1884</li><li>1885</li><li>1886</li><li>1887</li><li>1888</li><li>1889</li><li>1890</li><li>1891</li><li>1892</li><li>1893</li><li>1894</li><li>1895</li><li>1896</li><li>1897</li><li>1898</li><li>1899</li><li>1900</li><li>1901</li><li>1902</li><li>1903</li><li>1904</li><li>1905</li><li>1906</li><li>1907</li><li>1908</li><li>1909</li><li>1910</li><li>1911</li><li>1912</li><li>1913</li><li>1914</li><li>1915</li><li>1916</li><li>1917</li><li>1918</li><li>1919</li><li>1920</li><li>1921</li><li>1922</li><li>1923</li><li>1924</li><li>1925</li><li>1926</li><li>1927</li><li>1928</li><li>1929</li><li>1930</li><li>1931</li><li>1932</li><li>1933</li><li>1934</li></ol>\n"
      ],
      "text/latex": [
       "A Time Series:\\\\\\begin{enumerate*}\n",
       "\\item 1821\n",
       "\\item 1822\n",
       "\\item 1823\n",
       "\\item 1824\n",
       "\\item 1825\n",
       "\\item 1826\n",
       "\\item 1827\n",
       "\\item 1828\n",
       "\\item 1829\n",
       "\\item 1830\n",
       "\\item 1831\n",
       "\\item 1832\n",
       "\\item 1833\n",
       "\\item 1834\n",
       "\\item 1835\n",
       "\\item 1836\n",
       "\\item 1837\n",
       "\\item 1838\n",
       "\\item 1839\n",
       "\\item 1840\n",
       "\\item 1841\n",
       "\\item 1842\n",
       "\\item 1843\n",
       "\\item 1844\n",
       "\\item 1845\n",
       "\\item 1846\n",
       "\\item 1847\n",
       "\\item 1848\n",
       "\\item 1849\n",
       "\\item 1850\n",
       "\\item 1851\n",
       "\\item 1852\n",
       "\\item 1853\n",
       "\\item 1854\n",
       "\\item 1855\n",
       "\\item 1856\n",
       "\\item 1857\n",
       "\\item 1858\n",
       "\\item 1859\n",
       "\\item 1860\n",
       "\\item 1861\n",
       "\\item 1862\n",
       "\\item 1863\n",
       "\\item 1864\n",
       "\\item 1865\n",
       "\\item 1866\n",
       "\\item 1867\n",
       "\\item 1868\n",
       "\\item 1869\n",
       "\\item 1870\n",
       "\\item 1871\n",
       "\\item 1872\n",
       "\\item 1873\n",
       "\\item 1874\n",
       "\\item 1875\n",
       "\\item 1876\n",
       "\\item 1877\n",
       "\\item 1878\n",
       "\\item 1879\n",
       "\\item 1880\n",
       "\\item 1881\n",
       "\\item 1882\n",
       "\\item 1883\n",
       "\\item 1884\n",
       "\\item 1885\n",
       "\\item 1886\n",
       "\\item 1887\n",
       "\\item 1888\n",
       "\\item 1889\n",
       "\\item 1890\n",
       "\\item 1891\n",
       "\\item 1892\n",
       "\\item 1893\n",
       "\\item 1894\n",
       "\\item 1895\n",
       "\\item 1896\n",
       "\\item 1897\n",
       "\\item 1898\n",
       "\\item 1899\n",
       "\\item 1900\n",
       "\\item 1901\n",
       "\\item 1902\n",
       "\\item 1903\n",
       "\\item 1904\n",
       "\\item 1905\n",
       "\\item 1906\n",
       "\\item 1907\n",
       "\\item 1908\n",
       "\\item 1909\n",
       "\\item 1910\n",
       "\\item 1911\n",
       "\\item 1912\n",
       "\\item 1913\n",
       "\\item 1914\n",
       "\\item 1915\n",
       "\\item 1916\n",
       "\\item 1917\n",
       "\\item 1918\n",
       "\\item 1919\n",
       "\\item 1920\n",
       "\\item 1921\n",
       "\\item 1922\n",
       "\\item 1923\n",
       "\\item 1924\n",
       "\\item 1925\n",
       "\\item 1926\n",
       "\\item 1927\n",
       "\\item 1928\n",
       "\\item 1929\n",
       "\\item 1930\n",
       "\\item 1931\n",
       "\\item 1932\n",
       "\\item 1933\n",
       "\\item 1934\n",
       "\\end{enumerate*}\n"
      ],
      "text/markdown": [
       "A Time Series:  \n",
       "1. 1821\n",
       "2. 1822\n",
       "3. 1823\n",
       "4. 1824\n",
       "5. 1825\n",
       "6. 1826\n",
       "7. 1827\n",
       "8. 1828\n",
       "9. 1829\n",
       "10. 1830\n",
       "11. 1831\n",
       "12. 1832\n",
       "13. 1833\n",
       "14. 1834\n",
       "15. 1835\n",
       "16. 1836\n",
       "17. 1837\n",
       "18. 1838\n",
       "19. 1839\n",
       "20. 1840\n",
       "21. 1841\n",
       "22. 1842\n",
       "23. 1843\n",
       "24. 1844\n",
       "25. 1845\n",
       "26. 1846\n",
       "27. 1847\n",
       "28. 1848\n",
       "29. 1849\n",
       "30. 1850\n",
       "31. 1851\n",
       "32. 1852\n",
       "33. 1853\n",
       "34. 1854\n",
       "35. 1855\n",
       "36. 1856\n",
       "37. 1857\n",
       "38. 1858\n",
       "39. 1859\n",
       "40. 1860\n",
       "41. 1861\n",
       "42. 1862\n",
       "43. 1863\n",
       "44. 1864\n",
       "45. 1865\n",
       "46. 1866\n",
       "47. 1867\n",
       "48. 1868\n",
       "49. 1869\n",
       "50. 1870\n",
       "51. 1871\n",
       "52. 1872\n",
       "53. 1873\n",
       "54. 1874\n",
       "55. 1875\n",
       "56. 1876\n",
       "57. 1877\n",
       "58. 1878\n",
       "59. 1879\n",
       "60. 1880\n",
       "61. 1881\n",
       "62. 1882\n",
       "63. 1883\n",
       "64. 1884\n",
       "65. 1885\n",
       "66. 1886\n",
       "67. 1887\n",
       "68. 1888\n",
       "69. 1889\n",
       "70. 1890\n",
       "71. 1891\n",
       "72. 1892\n",
       "73. 1893\n",
       "74. 1894\n",
       "75. 1895\n",
       "76. 1896\n",
       "77. 1897\n",
       "78. 1898\n",
       "79. 1899\n",
       "80. 1900\n",
       "81. 1901\n",
       "82. 1902\n",
       "83. 1903\n",
       "84. 1904\n",
       "85. 1905\n",
       "86. 1906\n",
       "87. 1907\n",
       "88. 1908\n",
       "89. 1909\n",
       "90. 1910\n",
       "91. 1911\n",
       "92. 1912\n",
       "93. 1913\n",
       "94. 1914\n",
       "95. 1915\n",
       "96. 1916\n",
       "97. 1917\n",
       "98. 1918\n",
       "99. 1919\n",
       "100. 1920\n",
       "101. 1921\n",
       "102. 1922\n",
       "103. 1923\n",
       "104. 1924\n",
       "105. 1925\n",
       "106. 1926\n",
       "107. 1927\n",
       "108. 1928\n",
       "109. 1929\n",
       "110. 1930\n",
       "111. 1931\n",
       "112. 1932\n",
       "113. 1933\n",
       "114. 1934\n",
       "\n",
       "\n"
      ],
      "text/plain": [
       "A Time Series:\n",
       "  [1] 1821 1822 1823 1824 1825 1826 1827 1828 1829 1830 1831 1832 1833 1834 1835\n",
       " [16] 1836 1837 1838 1839 1840 1841 1842 1843 1844 1845 1846 1847 1848 1849 1850\n",
       " [31] 1851 1852 1853 1854 1855 1856 1857 1858 1859 1860 1861 1862 1863 1864 1865\n",
       " [46] 1866 1867 1868 1869 1870 1871 1872 1873 1874 1875 1876 1877 1878 1879 1880\n",
       " [61] 1881 1882 1883 1884 1885 1886 1887 1888 1889 1890 1891 1892 1893 1894 1895\n",
       " [76] 1896 1897 1898 1899 1900 1901 1902 1903 1904 1905 1906 1907 1908 1909 1910\n",
       " [91] 1911 1912 1913 1914 1915 1916 1917 1918 1919 1920 1921 1922 1923 1924 1925\n",
       "[106] 1926 1927 1928 1929 1930 1931 1932 1933 1934"
      ]
     },
     "metadata": {},
     "output_type": "display_data"
    },
    {
     "data": {
      "image/png": "[encoded data removed]",
      "text/plain": [
       "plot without title"
      ]
     },
     "metadata": {
      "image/png": {
       "height": 420,
       "width": 420
      }
     },
     "output_type": "display_data"
    }
   ],
   "source": [
    "library(tseries)\n",
    "# Lectura y descripcion general\n",
    "data(lynx)\n",
    "help(lynx)\n",
    "start(lynx)\n",
    "end(lynx)\n",
    "time(lynx)\n",
    "plot(lynx)"
   ]
  },
  {
   "cell_type": "markdown",
   "metadata": {},
   "source": [
    "### Tendencia\n",
    "\n",
    "El modelo no es adecuado\n",
    "\n",
    "La serie de tiempo NO muestra tendencia lineal|"
   ]
  },
  {
   "cell_type": "code",
   "execution_count": 2,
   "metadata": {},
   "outputs": [
    {
     "data": {
      "text/plain": [
       "\n",
       "Call:\n",
       "lm(formula = lynx ~ time(lynx), data = lynx)\n",
       "\n",
       "Residuals:\n",
       "   Min     1Q Median     3Q    Max \n",
       " -1594  -1211   -755   1032   5366 \n",
       "\n",
       "Coefficients:\n",
       "             Estimate Std. Error t value Pr(>|t|)\n",
       "(Intercept) -4630.034   8493.112  -0.545    0.587\n",
       "time(lynx)      3.285      4.523   0.726    0.469\n",
       "\n",
       "Residual standard error: 1589 on 112 degrees of freedom\n",
       "Multiple R-squared:  0.004689,\tAdjusted R-squared:  -0.004198 \n",
       "F-statistic: 0.5276 on 1 and 112 DF,  p-value: 0.4691\n"
      ]
     },
     "metadata": {},
     "output_type": "display_data"
    }
   ],
   "source": [
    "tend.ly <- lm(lynx~time(lynx), data = lynx)\n",
    "summary(tend.ly)"
   ]
  },
  {
   "cell_type": "markdown",
   "metadata": {},
   "source": [
    "### Varianza\n",
    "\n",
    "Con alfa de 0.10 se rechaza H0\n",
    "\n",
    "Serie estacionaria en varianza"
   ]
  },
  {
   "cell_type": "code",
   "execution_count": 3,
   "metadata": {},
   "outputs": [
    {
     "name": "stderr",
     "output_type": "stream",
     "text": [
      "Warning message in adf.test(lynx, alternative = \"stationary\"):\n",
      "\"p-value smaller than printed p-value\"\n"
     ]
    },
    {
     "data": {
      "text/plain": [
       "\n",
       "\tAugmented Dickey-Fuller Test\n",
       "\n",
       "data:  lynx\n",
       "Dickey-Fuller = -6.3068, Lag order = 4, p-value = 0.01\n",
       "alternative hypothesis: stationary\n"
      ]
     },
     "metadata": {},
     "output_type": "display_data"
    }
   ],
   "source": [
    "adf.test(lynx, alternative = 'stationary')"
   ]
  },
  {
   "cell_type": "markdown",
   "metadata": {},
   "source": [
    "### Conclusión\n",
    "\n",
    "La serie es estacionaria"
   ]
  },
  {
   "cell_type": "markdown",
   "metadata": {},
   "source": [
    "# Modelado de series estacionarias\n",
    "### Autocorrelograma"
   ]
  },
  {
   "cell_type": "code",
   "execution_count": 4,
   "metadata": {},
   "outputs": [
    {
     "data": {
      "image/png": "[encoded data removed]",
      "text/plain": [
       "Plot with title \"Series  lynx\""
      ]
     },
     "metadata": {
      "image/png": {
       "height": 420,
       "width": 420
      }
     },
     "output_type": "display_data"
    }
   ],
   "source": [
    "# Completo\n",
    "acf(lynx)"
   ]
  },
  {
   "cell_type": "code",
   "execution_count": 5,
   "metadata": {},
   "outputs": [
    {
     "data": {
      "image/png": "[encoded data removed]",
      "text/plain": [
       "Plot with title \"Series  lynx\""
      ]
     },
     "metadata": {
      "image/png": {
       "height": 420,
       "width": 420
      }
     },
     "output_type": "display_data"
    }
   ],
   "source": [
    "# Parcial\n",
    "pacf(lynx)"
   ]
  },
  {
   "cell_type": "markdown",
   "metadata": {},
   "source": [
    "## Sugerencia de modelo\n",
    "#### Buscar el mejor AR(p)"
   ]
  },
  {
   "cell_type": "code",
   "execution_count": 6,
   "metadata": {},
   "outputs": [
    {
     "data": {
      "text/plain": [
       "\n",
       "Call:\n",
       "ar(x = lynx)\n",
       "\n",
       "Coefficients:\n",
       "      1        2        3        4        5        6        7        8  \n",
       " 1.0379  -0.6063   0.1910  -0.1411  -0.0207   0.0199  -0.2046   0.3012  \n",
       "\n",
       "Order selected 8  sigma^2 estimated as  726897"
      ]
     },
     "metadata": {},
     "output_type": "display_data"
    },
    {
     "data": {
      "text/plain": [
       "\n",
       "Call:\n",
       "arima(x = lynx, order = c(1, 0, 0), method = \"ML\")\n",
       "\n",
       "Coefficients:\n",
       "         ar1  intercept\n",
       "      0.7173  1550.5378\n",
       "s.e.  0.0649   356.6875\n",
       "\n",
       "sigma^2 estimated as 1210543:  log likelihood = -960.5,  aic = 1926.99"
      ]
     },
     "metadata": {},
     "output_type": "display_data"
    }
   ],
   "source": [
    "ar(lynx)\n",
    "arima(lynx, order=c(1,0,0), method = 'ML')"
   ]
  },
  {
   "cell_type": "code",
   "execution_count": 7,
   "metadata": {},
   "outputs": [
    {
     "data": {
      "text/html": [
       "1926.99064783158"
      ],
      "text/latex": [
       "1926.99064783158"
      ],
      "text/markdown": [
       "1926.99064783158"
      ],
      "text/plain": [
       "[1] 1926.991"
      ]
     },
     "metadata": {},
     "output_type": "display_data"
    }
   ],
   "source": [
    "AIC(arima(lynx, order=c(1,0,0), method = 'ML'))"
   ]
  },
  {
   "cell_type": "markdown",
   "metadata": {},
   "source": [
    "### Buscar el mejor MA(q)"
   ]
  },
  {
   "cell_type": "code",
   "execution_count": 29,
   "metadata": {},
   "outputs": [
    {
     "data": {
      "text/html": [
       "1917.94677246262"
      ],
      "text/latex": [
       "1917.94677246262"
      ],
      "text/markdown": [
       "1917.94677246262"
      ],
      "text/plain": [
       "[1] 1917.947"
      ]
     },
     "metadata": {},
     "output_type": "display_data"
    },
    {
     "data": {
      "text/html": [
       "1890.06086303538"
      ],
      "text/latex": [
       "1890.06086303538"
      ],
      "text/markdown": [
       "1890.06086303538"
      ],
      "text/plain": [
       "[1] 1890.061"
      ]
     },
     "metadata": {},
     "output_type": "display_data"
    },
    {
     "data": {
      "text/html": [
       "1887.77064849839"
      ],
      "text/latex": [
       "1887.77064849839"
      ],
      "text/markdown": [
       "1887.77064849839"
      ],
      "text/plain": [
       "[1] 1887.771"
      ]
     },
     "metadata": {},
     "output_type": "display_data"
    }
   ],
   "source": [
    "AIC(arima(lynx, order=c(0,0,1), method = 'ML'))\n",
    "AIC(arima(lynx, order=c(0,0,2), method = 'ML'))\n",
    "AIC(arima(lynx, order=c(0,0,3), method = 'ML'))"
   ]
  },
  {
   "cell_type": "code",
   "execution_count": 27,
   "metadata": {},
   "outputs": [
    {
     "data": {
      "text/html": [
       "10"
      ],
      "text/latex": [
       "10"
      ],
      "text/markdown": [
       "10"
      ],
      "text/plain": [
       "[1] 10"
      ]
     },
     "metadata": {},
     "output_type": "display_data"
    },
    {
     "data": {
      "text/html": [
       "1881.80712573496"
      ],
      "text/latex": [
       "1881.80712573496"
      ],
      "text/markdown": [
       "1881.80712573496"
      ],
      "text/plain": [
       "[1] 1881.807"
      ]
     },
     "metadata": {},
     "output_type": "display_data"
    }
   ],
   "source": [
    "# Algoritmo para buscar el mejor q para MA\n",
    "aux <- Inf\n",
    "for(i in 1:12){\n",
    "    if(AIC(arima(lynx, order=c(0,0,i), method = 'ML')) < aux){\n",
    "        aux <- AIC(arima(lynx, order=c(0,0,i), method = 'ML'))\n",
    "        MA.mejor <- i\n",
    "    }\n",
    "}\n",
    "MA.mejor\n",
    "aux"
   ]
  },
  {
   "cell_type": "markdown",
   "metadata": {},
   "source": [
    "### Buscar el mejor ARMA(p,q)"
   ]
  },
  {
   "cell_type": "code",
   "execution_count": 28,
   "metadata": {},
   "outputs": [
    {
     "name": "stderr",
     "output_type": "stream",
     "text": [
      "Warning message in arima(lynx, order = c(j, 0, i), method = \"ML\"):\n",
      "\"possible convergence problem: optim gave code = 1\"\n",
      "Warning message in arima(lynx, order = c(j, 0, i), method = \"ML\"):\n",
      "\"possible convergence problem: optim gave code = 1\"\n",
      "Warning message in arima(lynx, order = c(j, 0, i), method = \"ML\"):\n",
      "\"possible convergence problem: optim gave code = 1\"\n",
      "Warning message in arima(lynx, order = c(j, 0, i), method = \"ML\"):\n",
      "\"possible convergence problem: optim gave code = 1\"\n",
      "Warning message in arima(lynx, order = c(j, 0, i), method = \"ML\"):\n",
      "\"possible convergence problem: optim gave code = 1\"\n",
      "Warning message in arima(lynx, order = c(j, 0, i), method = \"ML\"):\n",
      "\"possible convergence problem: optim gave code = 1\"\n",
      "Warning message in arima(lynx, order = c(j, 0, i), method = \"ML\"):\n",
      "\"possible convergence problem: optim gave code = 1\"\n",
      "Warning message in arima(lynx, order = c(j, 0, i), method = \"ML\"):\n",
      "\"possible convergence problem: optim gave code = 1\"\n",
      "Warning message in arima(lynx, order = c(j, 0, i), method = \"ML\"):\n",
      "\"possible convergence problem: optim gave code = 1\"\n",
      "Warning message in arima(lynx, order = c(j, 0, i), method = \"ML\"):\n",
      "\"possible convergence problem: optim gave code = 1\"\n",
      "Warning message in arima(lynx, order = c(j, 0, i), method = \"ML\"):\n",
      "\"possible convergence problem: optim gave code = 1\"\n",
      "Warning message in arima(lynx, order = c(j, 0, i), method = \"ML\"):\n",
      "\"possible convergence problem: optim gave code = 1\"\n",
      "Warning message in arima(lynx, order = c(j, 0, i), method = \"ML\"):\n",
      "\"possible convergence problem: optim gave code = 1\"\n",
      "Warning message in arima(lynx, order = c(j, 0, i), method = \"ML\"):\n",
      "\"possible convergence problem: optim gave code = 1\"\n",
      "Warning message in arima(lynx, order = c(j, 0, i), method = \"ML\"):\n",
      "\"possible convergence problem: optim gave code = 1\"\n",
      "Warning message in log(s2):\n",
      "\"Se han producido NaNs\"\n",
      "Warning message in log(s2):\n",
      "\"Se han producido NaNs\"\n",
      "Warning message in arima(lynx, order = c(j, 0, i), method = \"ML\"):\n",
      "\"possible convergence problem: optim gave code = 1\"\n",
      "Warning message in arima(lynx, order = c(j, 0, i), method = \"ML\"):\n",
      "\"possible convergence problem: optim gave code = 1\"\n",
      "Warning message in arima(lynx, order = c(j, 0, i), method = \"ML\"):\n",
      "\"possible convergence problem: optim gave code = 1\"\n",
      "Warning message in arima(lynx, order = c(j, 0, i), method = \"ML\"):\n",
      "\"possible convergence problem: optim gave code = 1\"\n",
      "Warning message in arima(lynx, order = c(j, 0, i), method = \"ML\"):\n",
      "\"possible convergence problem: optim gave code = 1\"\n",
      "Warning message in arima(lynx, order = c(j, 0, i), method = \"ML\"):\n",
      "\"possible convergence problem: optim gave code = 1\"\n",
      "Warning message in arima(lynx, order = c(j, 0, i), method = \"ML\"):\n",
      "\"possible convergence problem: optim gave code = 1\"\n",
      "Warning message in arima(lynx, order = c(j, 0, i), method = \"ML\"):\n",
      "\"possible convergence problem: optim gave code = 1\"\n",
      "Warning message in arima(lynx, order = c(j, 0, i), method = \"ML\"):\n",
      "\"possible convergence problem: optim gave code = 1\"\n",
      "Warning message in arima(lynx, order = c(j, 0, i), method = \"ML\"):\n",
      "\"possible convergence problem: optim gave code = 1\"\n",
      "Warning message in arima(lynx, order = c(j, 0, i), method = \"ML\"):\n",
      "\"possible convergence problem: optim gave code = 1\"\n",
      "Warning message in arima(lynx, order = c(j, 0, i), method = \"ML\"):\n",
      "\"possible convergence problem: optim gave code = 1\"\n",
      "Warning message in arima(lynx, order = c(j, 0, i), method = \"ML\"):\n",
      "\"possible convergence problem: optim gave code = 1\"\n"
     ]
    },
    {
     "data": {
      "text/html": [
       "<style>\n",
       ".list-inline {list-style: none; margin:0; padding: 0}\n",
       ".list-inline>li {display: inline-block}\n",
       ".list-inline>li:not(:last-child)::after {content: \"\\00b7\"; padding: 0 .5ex}\n",
       "</style>\n",
       "<ol class=list-inline><li>2</li><li>4</li></ol>\n"
      ],
      "text/latex": [
       "\\begin{enumerate*}\n",
       "\\item 2\n",
       "\\item 4\n",
       "\\end{enumerate*}\n"
      ],
      "text/markdown": [
       "1. 2\n",
       "2. 4\n",
       "\n",
       "\n"
      ],
      "text/plain": [
       "[1] 2 4"
      ]
     },
     "metadata": {},
     "output_type": "display_data"
    },
    {
     "data": {
      "text/html": [
       "1858.10753241007"
      ],
      "text/latex": [
       "1858.10753241007"
      ],
      "text/markdown": [
       "1858.10753241007"
      ],
      "text/plain": [
       "[1] 1858.108"
      ]
     },
     "metadata": {},
     "output_type": "display_data"
    }
   ],
   "source": [
    "# Algoritmo para buscar el mejor p y q de ARMA\n",
    "arma.aic <- Inf\n",
    "for(j in 1:10){\n",
    "    for(i in 1:10){\n",
    "        if(AIC(arima(lynx, order=c(j,0,i), method = 'ML')) < arma.aic){\n",
    "            arma.aic <- AIC(arima(lynx, order=c(j,0,i), method = 'ML'))\n",
    "            ARMA.mejor <- c(j,i)\n",
    "        }\n",
    "    }\n",
    "}\n",
    "ARMA.mejor\n",
    "arma.aic"
   ]
  },
  {
   "cell_type": "markdown",
   "metadata": {},
   "source": [
    "## Predicciones\n",
    "\n",
    "**Predicciones completas**"
   ]
  },
  {
   "cell_type": "code",
   "execution_count": 1,
   "metadata": {},
   "outputs": [
    {
     "data": {
      "text/html": [
       "<dl>\n",
       "\t<dt>$pred</dt>\n",
       "\t\t<dd>A Time Series:<br><style>\n",
       ".list-inline {list-style: none; margin:0; padding: 0}\n",
       ".list-inline>li {display: inline-block}\n",
       ".list-inline>li:not(:last-child)::after {content: \"\\00b7\"; padding: 0 .5ex}\n",
       "</style>\n",
       "<ol class=list-inline><li>3111.92326178342</li><li>2161.7619931697</li><li>1284.69043222131</li><li>771.595614096256</li><li>622.318457716616</li><li>719.246986115986</li><li>1123.48496888928</li><li>1825.58742616247</li><li>2459.62466543011</li><li>2631.43565050246</li><li>2324.4485779461</li><li>1784.79436295473</li><li>1282.27847286974</li><li>953.442227864262</li><li>843.444553160595</li><li>1003.55340369563</li><li>1414.58754631418</li><li>1890.61189459784</li><li>2195.94131022979</li><li>2210.27521330075</li><li>1976.99546994922</li><li>1631.84680493851</li><li>1305.34730036679</li><li>1095.50453743631</li><li>1076.69307739437</li><li>1261.71969551752</li><li>1567.90735458064</li><li>1853.82009471025</li><li>1999.77583939943</li><li>1965.97561635585</li><li>1790.82081202957</li><li>1552.32134284452</li><li>1338.91591485722</li><li>1229.36360329964</li><li>1263.98661227342</li><li>1421.93438855065</li><li>1629.10297568317</li><li>1796.49883146195</li><li>1862.88381647714</li><li>1814.40035256631</li><li>1679.76473236353</li><li>1515.34384733128</li><li>1385.72968379761</li><li>1339.97061203477</li><li>1391.1116532502</li><li>1511.21106987393</li><li>1646.44500180808</li><li>1742.77590275009</li><li>1767.07422872375</li><li>1716.25756290256</li><li>1615.31653642969</li><li>1506.63868015331</li><li>1433.29013064509</li><li>1421.70570151267</li><li>1471.5953407386</li><li>1558.16862</li><li>1644.61539204606</li><li>1697.6765605391</li><li>1699.70550794941</li><li>1653.8250958111</li><li>1581.33711976795</li><li>1512.48719521611</li><li>1473.98004834347</li><li>1478.48699842474</li><li>1520.70854199567</li><li>1581.11820682922</li><li>1634.86730468034</li><li>1661.73087145409</li><li>1653.39815261745</li><li>1615.78342232782</li><li>1565.7750573505</li><li>1523.85158046784</li><li>1505.72197013551</li><li>1516.51922018719</li><li>1549.70411845498</li><li>1590.61474424039</li><li>1622.7901291829</li><li>1634.43430887133</li><li>1622.61500344682</li><li>1593.75534539667</li></ol>\n",
       "</dd>\n",
       "\t<dt>$se</dt>\n",
       "\t\t<dd>A Time Series:<br><style>\n",
       ".list-inline {list-style: none; margin:0; padding: 0}\n",
       ".list-inline>li {display: inline-block}\n",
       ".list-inline>li:not(:last-child)::after {content: \"\\00b7\"; padding: 0 .5ex}\n",
       "</style>\n",
       "<ol class=list-inline><li>785.490897319947</li><li>1142.07484529377</li><li>1203.7497102637</li><li>1204.57813309772</li><li>1211.65901587597</li><li>1231.65619155346</li><li>1245.2575176174</li><li>1269.9310025634</li><li>1273.4785518068</li><li>1295.96635780379</li><li>1357.15747363548</li><li>1396.84560779151</li><li>1406.66315400858</li><li>1406.81505809741</li><li>1412.41321033413</li><li>1425.37716262459</li><li>1443.9690487479</li><li>1451.94284540612</li><li>1452.17174048049</li><li>1462.62892455673</li><li>1480.34826280323</li><li>1491.05598853183</li><li>1492.94670511305</li><li>1493.17129961754</li><li>1497.48610054548</li><li>1506.88043814998</li><li>1514.26900843956</li><li>1515.55466565674</li><li>1516.27065179968</li><li>1521.34531251139</li><li>1527.7905974953</li><li>1531.27751016483</li><li>1531.73523933345</li><li>1532.20512140023</li><li>1535.32367350956</li><li>1539.70892294071</li><li>1542.04109214737</li><li>1542.17033207997</li><li>1542.8704340581</li><li>1545.29657474145</li><li>1547.91980439358</li><li>1549.11670728826</li><li>1549.15584949265</li><li>1549.68777346712</li><li>1551.42547671848</li><li>1553.2102366606</li><li>1553.86655309357</li><li>1553.86670631977</li><li>1554.36828746364</li><li>1555.56115265049</li><li>1556.6303772552</li><li>1556.9752836665</li><li>1556.97861365445</li><li>1557.38599773339</li><li>1558.23888986113</li><li>1558.90961816322</li><li>1559.07175045005</li><li>1559.08905527598</li><li>1559.41292883787</li><li>1559.98117814673</li><li>1560.38429950213</li><li>1560.46165234836</li><li>1560.48786708243</li><li>1560.74275142986</li><li>1561.12953909456</li><li>1561.36636666153</li><li>1561.39678133135</li><li>1561.42893705937</li><li>1561.61889116467</li><li>1561.87309821848</li><li>1562.0110852751</li><li>1562.02186442556</li><li>1562.05555859144</li><li>1562.19710835286</li><li>1562.36257693534</li><li>1562.43935613066</li><li>1562.44191940446</li><li>1562.47344197591</li><li>1562.57531768371</li><li>1562.6814758573</li></ol>\n",
       "</dd>\n",
       "</dl>\n"
      ],
      "text/latex": [
       "\\begin{description}\n",
       "\\item[\\$pred] A Time Series:\\\\\\begin{enumerate*}\n",
       "\\item 3111.92326178342\n",
       "\\item 2161.7619931697\n",
       "\\item 1284.69043222131\n",
       "\\item 771.595614096256\n",
       "\\item 622.318457716616\n",
       "\\item 719.246986115986\n",
       "\\item 1123.48496888928\n",
       "\\item 1825.58742616247\n",
       "\\item 2459.62466543011\n",
       "\\item 2631.43565050246\n",
       "\\item 2324.4485779461\n",
       "\\item 1784.79436295473\n",
       "\\item 1282.27847286974\n",
       "\\item 953.442227864262\n",
       "\\item 843.444553160595\n",
       "\\item 1003.55340369563\n",
       "\\item 1414.58754631418\n",
       "\\item 1890.61189459784\n",
       "\\item 2195.94131022979\n",
       "\\item 2210.27521330075\n",
       "\\item 1976.99546994922\n",
       "\\item 1631.84680493851\n",
       "\\item 1305.34730036679\n",
       "\\item 1095.50453743631\n",
       "\\item 1076.69307739437\n",
       "\\item 1261.71969551752\n",
       "\\item 1567.90735458064\n",
       "\\item 1853.82009471025\n",
       "\\item 1999.77583939943\n",
       "\\item 1965.97561635585\n",
       "\\item 1790.82081202957\n",
       "\\item 1552.32134284452\n",
       "\\item 1338.91591485722\n",
       "\\item 1229.36360329964\n",
       "\\item 1263.98661227342\n",
       "\\item 1421.93438855065\n",
       "\\item 1629.10297568317\n",
       "\\item 1796.49883146195\n",
       "\\item 1862.88381647714\n",
       "\\item 1814.40035256631\n",
       "\\item 1679.76473236353\n",
       "\\item 1515.34384733128\n",
       "\\item 1385.72968379761\n",
       "\\item 1339.97061203477\n",
       "\\item 1391.1116532502\n",
       "\\item 1511.21106987393\n",
       "\\item 1646.44500180808\n",
       "\\item 1742.77590275009\n",
       "\\item 1767.07422872375\n",
       "\\item 1716.25756290256\n",
       "\\item 1615.31653642969\n",
       "\\item 1506.63868015331\n",
       "\\item 1433.29013064509\n",
       "\\item 1421.70570151267\n",
       "\\item 1471.5953407386\n",
       "\\item 1558.16862\n",
       "\\item 1644.61539204606\n",
       "\\item 1697.6765605391\n",
       "\\item 1699.70550794941\n",
       "\\item 1653.8250958111\n",
       "\\item 1581.33711976795\n",
       "\\item 1512.48719521611\n",
       "\\item 1473.98004834347\n",
       "\\item 1478.48699842474\n",
       "\\item 1520.70854199567\n",
       "\\item 1581.11820682922\n",
       "\\item 1634.86730468034\n",
       "\\item 1661.73087145409\n",
       "\\item 1653.39815261745\n",
       "\\item 1615.78342232782\n",
       "\\item 1565.7750573505\n",
       "\\item 1523.85158046784\n",
       "\\item 1505.72197013551\n",
       "\\item 1516.51922018719\n",
       "\\item 1549.70411845498\n",
       "\\item 1590.61474424039\n",
       "\\item 1622.7901291829\n",
       "\\item 1634.43430887133\n",
       "\\item 1622.61500344682\n",
       "\\item 1593.75534539667\n",
       "\\end{enumerate*}\n",
       "\n",
       "\\item[\\$se] A Time Series:\\\\\\begin{enumerate*}\n",
       "\\item 785.490897319947\n",
       "\\item 1142.07484529377\n",
       "\\item 1203.7497102637\n",
       "\\item 1204.57813309772\n",
       "\\item 1211.65901587597\n",
       "\\item 1231.65619155346\n",
       "\\item 1245.2575176174\n",
       "\\item 1269.9310025634\n",
       "\\item 1273.4785518068\n",
       "\\item 1295.96635780379\n",
       "\\item 1357.15747363548\n",
       "\\item 1396.84560779151\n",
       "\\item 1406.66315400858\n",
       "\\item 1406.81505809741\n",
       "\\item 1412.41321033413\n",
       "\\item 1425.37716262459\n",
       "\\item 1443.9690487479\n",
       "\\item 1451.94284540612\n",
       "\\item 1452.17174048049\n",
       "\\item 1462.62892455673\n",
       "\\item 1480.34826280323\n",
       "\\item 1491.05598853183\n",
       "\\item 1492.94670511305\n",
       "\\item 1493.17129961754\n",
       "\\item 1497.48610054548\n",
       "\\item 1506.88043814998\n",
       "\\item 1514.26900843956\n",
       "\\item 1515.55466565674\n",
       "\\item 1516.27065179968\n",
       "\\item 1521.34531251139\n",
       "\\item 1527.7905974953\n",
       "\\item 1531.27751016483\n",
       "\\item 1531.73523933345\n",
       "\\item 1532.20512140023\n",
       "\\item 1535.32367350956\n",
       "\\item 1539.70892294071\n",
       "\\item 1542.04109214737\n",
       "\\item 1542.17033207997\n",
       "\\item 1542.8704340581\n",
       "\\item 1545.29657474145\n",
       "\\item 1547.91980439358\n",
       "\\item 1549.11670728826\n",
       "\\item 1549.15584949265\n",
       "\\item 1549.68777346712\n",
       "\\item 1551.42547671848\n",
       "\\item 1553.2102366606\n",
       "\\item 1553.86655309357\n",
       "\\item 1553.86670631977\n",
       "\\item 1554.36828746364\n",
       "\\item 1555.56115265049\n",
       "\\item 1556.6303772552\n",
       "\\item 1556.9752836665\n",
       "\\item 1556.97861365445\n",
       "\\item 1557.38599773339\n",
       "\\item 1558.23888986113\n",
       "\\item 1558.90961816322\n",
       "\\item 1559.07175045005\n",
       "\\item 1559.08905527598\n",
       "\\item 1559.41292883787\n",
       "\\item 1559.98117814673\n",
       "\\item 1560.38429950213\n",
       "\\item 1560.46165234836\n",
       "\\item 1560.48786708243\n",
       "\\item 1560.74275142986\n",
       "\\item 1561.12953909456\n",
       "\\item 1561.36636666153\n",
       "\\item 1561.39678133135\n",
       "\\item 1561.42893705937\n",
       "\\item 1561.61889116467\n",
       "\\item 1561.87309821848\n",
       "\\item 1562.0110852751\n",
       "\\item 1562.02186442556\n",
       "\\item 1562.05555859144\n",
       "\\item 1562.19710835286\n",
       "\\item 1562.36257693534\n",
       "\\item 1562.43935613066\n",
       "\\item 1562.44191940446\n",
       "\\item 1562.47344197591\n",
       "\\item 1562.57531768371\n",
       "\\item 1562.6814758573\n",
       "\\end{enumerate*}\n",
       "\n",
       "\\end{description}\n"
      ],
      "text/markdown": [
       "$pred\n",
       ":   A Time Series:  \n",
       "1. 3111.92326178342\n",
       "2. 2161.7619931697\n",
       "3. 1284.69043222131\n",
       "4. 771.595614096256\n",
       "5. 622.318457716616\n",
       "6. 719.246986115986\n",
       "7. 1123.48496888928\n",
       "8. 1825.58742616247\n",
       "9. 2459.62466543011\n",
       "10. 2631.43565050246\n",
       "11. 2324.4485779461\n",
       "12. 1784.79436295473\n",
       "13. 1282.27847286974\n",
       "14. 953.442227864262\n",
       "15. 843.444553160595\n",
       "16. 1003.55340369563\n",
       "17. 1414.58754631418\n",
       "18. 1890.61189459784\n",
       "19. 2195.94131022979\n",
       "20. 2210.27521330075\n",
       "21. 1976.99546994922\n",
       "22. 1631.84680493851\n",
       "23. 1305.34730036679\n",
       "24. 1095.50453743631\n",
       "25. 1076.69307739437\n",
       "26. 1261.71969551752\n",
       "27. 1567.90735458064\n",
       "28. 1853.82009471025\n",
       "29. 1999.77583939943\n",
       "30. 1965.97561635585\n",
       "31. 1790.82081202957\n",
       "32. 1552.32134284452\n",
       "33. 1338.91591485722\n",
       "34. 1229.36360329964\n",
       "35. 1263.98661227342\n",
       "36. 1421.93438855065\n",
       "37. 1629.10297568317\n",
       "38. 1796.49883146195\n",
       "39. 1862.88381647714\n",
       "40. 1814.40035256631\n",
       "41. 1679.76473236353\n",
       "42. 1515.34384733128\n",
       "43. 1385.72968379761\n",
       "44. 1339.97061203477\n",
       "45. 1391.1116532502\n",
       "46. 1511.21106987393\n",
       "47. 1646.44500180808\n",
       "48. 1742.77590275009\n",
       "49. 1767.07422872375\n",
       "50. 1716.25756290256\n",
       "51. 1615.31653642969\n",
       "52. 1506.63868015331\n",
       "53. 1433.29013064509\n",
       "54. 1421.70570151267\n",
       "55. 1471.5953407386\n",
       "56. 1558.16862\n",
       "57. 1644.61539204606\n",
       "58. 1697.6765605391\n",
       "59. 1699.70550794941\n",
       "60. 1653.8250958111\n",
       "61. 1581.33711976795\n",
       "62. 1512.48719521611\n",
       "63. 1473.98004834347\n",
       "64. 1478.48699842474\n",
       "65. 1520.70854199567\n",
       "66. 1581.11820682922\n",
       "67. 1634.86730468034\n",
       "68. 1661.73087145409\n",
       "69. 1653.39815261745\n",
       "70. 1615.78342232782\n",
       "71. 1565.7750573505\n",
       "72. 1523.85158046784\n",
       "73. 1505.72197013551\n",
       "74. 1516.51922018719\n",
       "75. 1549.70411845498\n",
       "76. 1590.61474424039\n",
       "77. 1622.7901291829\n",
       "78. 1634.43430887133\n",
       "79. 1622.61500344682\n",
       "80. 1593.75534539667\n",
       "\n",
       "\n",
       "\n",
       "$se\n",
       ":   A Time Series:  \n",
       "1. 785.490897319947\n",
       "2. 1142.07484529377\n",
       "3. 1203.7497102637\n",
       "4. 1204.57813309772\n",
       "5. 1211.65901587597\n",
       "6. 1231.65619155346\n",
       "7. 1245.2575176174\n",
       "8. 1269.9310025634\n",
       "9. 1273.4785518068\n",
       "10. 1295.96635780379\n",
       "11. 1357.15747363548\n",
       "12. 1396.84560779151\n",
       "13. 1406.66315400858\n",
       "14. 1406.81505809741\n",
       "15. 1412.41321033413\n",
       "16. 1425.37716262459\n",
       "17. 1443.9690487479\n",
       "18. 1451.94284540612\n",
       "19. 1452.17174048049\n",
       "20. 1462.62892455673\n",
       "21. 1480.34826280323\n",
       "22. 1491.05598853183\n",
       "23. 1492.94670511305\n",
       "24. 1493.17129961754\n",
       "25. 1497.48610054548\n",
       "26. 1506.88043814998\n",
       "27. 1514.26900843956\n",
       "28. 1515.55466565674\n",
       "29. 1516.27065179968\n",
       "30. 1521.34531251139\n",
       "31. 1527.7905974953\n",
       "32. 1531.27751016483\n",
       "33. 1531.73523933345\n",
       "34. 1532.20512140023\n",
       "35. 1535.32367350956\n",
       "36. 1539.70892294071\n",
       "37. 1542.04109214737\n",
       "38. 1542.17033207997\n",
       "39. 1542.8704340581\n",
       "40. 1545.29657474145\n",
       "41. 1547.91980439358\n",
       "42. 1549.11670728826\n",
       "43. 1549.15584949265\n",
       "44. 1549.68777346712\n",
       "45. 1551.42547671848\n",
       "46. 1553.2102366606\n",
       "47. 1553.86655309357\n",
       "48. 1553.86670631977\n",
       "49. 1554.36828746364\n",
       "50. 1555.56115265049\n",
       "51. 1556.6303772552\n",
       "52. 1556.9752836665\n",
       "53. 1556.97861365445\n",
       "54. 1557.38599773339\n",
       "55. 1558.23888986113\n",
       "56. 1558.90961816322\n",
       "57. 1559.07175045005\n",
       "58. 1559.08905527598\n",
       "59. 1559.41292883787\n",
       "60. 1559.98117814673\n",
       "61. 1560.38429950213\n",
       "62. 1560.46165234836\n",
       "63. 1560.48786708243\n",
       "64. 1560.74275142986\n",
       "65. 1561.12953909456\n",
       "66. 1561.36636666153\n",
       "67. 1561.39678133135\n",
       "68. 1561.42893705937\n",
       "69. 1561.61889116467\n",
       "70. 1561.87309821848\n",
       "71. 1562.0110852751\n",
       "72. 1562.02186442556\n",
       "73. 1562.05555859144\n",
       "74. 1562.19710835286\n",
       "75. 1562.36257693534\n",
       "76. 1562.43935613066\n",
       "77. 1562.44191940446\n",
       "78. 1562.47344197591\n",
       "79. 1562.57531768371\n",
       "80. 1562.6814758573\n",
       "\n",
       "\n",
       "\n",
       "\n",
       "\n"
      ],
      "text/plain": [
       "$pred\n",
       "Time Series:\n",
       "Start = 1935 \n",
       "End = 2014 \n",
       "Frequency = 1 \n",
       " [1] 3111.9233 2161.7620 1284.6904  771.5956  622.3185  719.2470 1123.4850\n",
       " [8] 1825.5874 2459.6247 2631.4357 2324.4486 1784.7944 1282.2785  953.4422\n",
       "[15]  843.4446 1003.5534 1414.5875 1890.6119 2195.9413 2210.2752 1976.9955\n",
       "[22] 1631.8468 1305.3473 1095.5045 1076.6931 1261.7197 1567.9074 1853.8201\n",
       "[29] 1999.7758 1965.9756 1790.8208 1552.3213 1338.9159 1229.3636 1263.9866\n",
       "[36] 1421.9344 1629.1030 1796.4988 1862.8838 1814.4004 1679.7647 1515.3438\n",
       "[43] 1385.7297 1339.9706 1391.1117 1511.2111 1646.4450 1742.7759 1767.0742\n",
       "[50] 1716.2576 1615.3165 1506.6387 1433.2901 1421.7057 1471.5953 1558.1686\n",
       "[57] 1644.6154 1697.6766 1699.7055 1653.8251 1581.3371 1512.4872 1473.9800\n",
       "[64] 1478.4870 1520.7085 1581.1182 1634.8673 1661.7309 1653.3982 1615.7834\n",
       "[71] 1565.7751 1523.8516 1505.7220 1516.5192 1549.7041 1590.6147 1622.7901\n",
       "[78] 1634.4343 1622.6150 1593.7553\n",
       "\n",
       "$se\n",
       "Time Series:\n",
       "Start = 1935 \n",
       "End = 2014 \n",
       "Frequency = 1 \n",
       " [1]  785.4909 1142.0748 1203.7497 1204.5781 1211.6590 1231.6562 1245.2575\n",
       " [8] 1269.9310 1273.4786 1295.9664 1357.1575 1396.8456 1406.6632 1406.8151\n",
       "[15] 1412.4132 1425.3772 1443.9690 1451.9428 1452.1717 1462.6289 1480.3483\n",
       "[22] 1491.0560 1492.9467 1493.1713 1497.4861 1506.8804 1514.2690 1515.5547\n",
       "[29] 1516.2707 1521.3453 1527.7906 1531.2775 1531.7352 1532.2051 1535.3237\n",
       "[36] 1539.7089 1542.0411 1542.1703 1542.8704 1545.2966 1547.9198 1549.1167\n",
       "[43] 1549.1558 1549.6878 1551.4255 1553.2102 1553.8666 1553.8667 1554.3683\n",
       "[50] 1555.5612 1556.6304 1556.9753 1556.9786 1557.3860 1558.2389 1558.9096\n",
       "[57] 1559.0718 1559.0891 1559.4129 1559.9812 1560.3843 1560.4617 1560.4879\n",
       "[64] 1560.7428 1561.1295 1561.3664 1561.3968 1561.4289 1561.6189 1561.8731\n",
       "[71] 1562.0111 1562.0219 1562.0556 1562.1971 1562.3626 1562.4394 1562.4419\n",
       "[78] 1562.4734 1562.5753 1562.6815\n"
      ]
     },
     "metadata": {},
     "output_type": "display_data"
    }
   ],
   "source": [
    "predict(arima(lynx, order = c(8,0,0), method = 'ML'), n.ahead = 80)"
   ]
  },
  {
   "cell_type": "markdown",
   "metadata": {},
   "source": [
    "**SOLO Predicciones**"
   ]
  },
  {
   "cell_type": "code",
   "execution_count": 5,
   "metadata": {},
   "outputs": [],
   "source": [
    "AR.Prediccion <- predict(arima(lynx, order = c(8,0,0), method = 'ML'), n.ahead = 80)$pred\n",
    "MA.Prediccion <- predict(arima(lynx, order = c(0,0,10), method = 'ML'), n.ahead = 80)$pred\n",
    "ARMA.Prediccion <- predict(arima(lynx, order = c(2,0,4), method = 'ML'), n.ahead = 80)$pred"
   ]
  },
  {
   "cell_type": "markdown",
   "metadata": {},
   "source": [
    "### Graficos de las predicciones"
   ]
  },
  {
   "cell_type": "code",
   "execution_count": 8,
   "metadata": {},
   "outputs": [
    {
     "data": {
      "image/png": "[encoded data removed]",
      "text/plain": [
       "Plot with title \"Predicciones comparando modelos\""
      ]
     },
     "metadata": {
      "image/png": {
       "height": 420,
       "width": 420
      }
     },
     "output_type": "display_data"
    }
   ],
   "source": [
    "plot(lynx,\n",
    "    main = \"Predicciones comparando modelos\",\n",
    "    xlim = c(1820,2014))\n",
    "lines(AR.Prediccion,\n",
    "     col = 'magenta')\n",
    "lines(MA.Prediccion,\n",
    "     col = 'green')\n",
    "lines(ARMA.Prediccion,\n",
    "     col = 'blue')"
   ]
  },
  {
   "cell_type": "markdown",
   "metadata": {},
   "source": [
    "### AIC comparativo"
   ]
  },
  {
   "cell_type": "code",
   "execution_count": 11,
   "metadata": {},
   "outputs": [
    {
     "data": {
      "text/html": [
       "1866.4330942778"
      ],
      "text/latex": [
       "1866.4330942778"
      ],
      "text/markdown": [
       "1866.4330942778"
      ],
      "text/plain": [
       "[1] 1866.433"
      ]
     },
     "metadata": {},
     "output_type": "display_data"
    },
    {
     "data": {
      "text/html": [
       "1881.80712573496"
      ],
      "text/latex": [
       "1881.80712573496"
      ],
      "text/markdown": [
       "1881.80712573496"
      ],
      "text/plain": [
       "[1] 1881.807"
      ]
     },
     "metadata": {},
     "output_type": "display_data"
    },
    {
     "data": {
      "text/html": [
       "1858.10753241007"
      ],
      "text/latex": [
       "1858.10753241007"
      ],
      "text/markdown": [
       "1858.10753241007"
      ],
      "text/plain": [
       "[1] 1858.108"
      ]
     },
     "metadata": {},
     "output_type": "display_data"
    }
   ],
   "source": [
    "AIC(arima(lynx, order = c(8,0,0), method = 'ML'))\n",
    "AIC(arima(lynx, order = c(0,0,10), method = 'ML'))\n",
    "AIC(arima(lynx, order = c(2,0,4), method = 'ML'))"
   ]
  },
  {
   "cell_type": "code",
   "execution_count": null,
   "metadata": {},
   "outputs": [],
   "source": []
  }
 ],
 "metadata": {
  "kernelspec": {
   "display_name": "R",
   "language": "R",
   "name": "ir"
  },
  "language_info": {
   "codemirror_mode": "r",
   "file_extension": ".r",
   "mimetype": "text/x-r-source",
   "name": "R",
   "pygments_lexer": "r",
   "version": "4.0.3"
  }
 },
 "nbformat": 4,
 "nbformat_minor": 4
}
