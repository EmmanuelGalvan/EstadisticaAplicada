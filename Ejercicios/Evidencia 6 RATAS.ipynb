{
 "cells": [
  {
   "cell_type": "code",
   "execution_count": 1,
   "metadata": {},
   "outputs": [
    {
     "name": "stderr",
     "output_type": "stream",
     "text": [
      "Warning message:\n",
      "\"package 'survival' was built under R version 4.0.5\"\n"
     ]
    }
   ],
   "source": [
    "library(survival)"
   ]
  },
  {
   "cell_type": "code",
   "execution_count": 16,
   "metadata": {},
   "outputs": [
    {
     "name": "stderr",
     "output_type": "stream",
     "text": [
      "Warning message in data(rats):\n",
      "\"data set 'rats' not found\"\n"
     ]
    },
    {
     "data": {
      "text/html": [
       "<style>\n",
       ".list-inline {list-style: none; margin:0; padding: 0}\n",
       ".list-inline>li {display: inline-block}\n",
       ".list-inline>li:not(:last-child)::after {content: \"\\00b7\"; padding: 0 .5ex}\n",
       "</style>\n",
       "<ol class=list-inline><li>'litter'</li><li>'rx'</li><li>'time'</li><li>'status'</li><li>'sex'</li></ol>\n"
      ],
      "text/latex": [
       "\\begin{enumerate*}\n",
       "\\item 'litter'\n",
       "\\item 'rx'\n",
       "\\item 'time'\n",
       "\\item 'status'\n",
       "\\item 'sex'\n",
       "\\end{enumerate*}\n"
      ],
      "text/markdown": [
       "1. 'litter'\n",
       "2. 'rx'\n",
       "3. 'time'\n",
       "4. 'status'\n",
       "5. 'sex'\n",
       "\n",
       "\n"
      ],
      "text/plain": [
       "[1] \"litter\" \"rx\"     \"time\"   \"status\" \"sex\"   "
      ]
     },
     "metadata": {},
     "output_type": "display_data"
    }
   ],
   "source": [
    "data(rats)\n",
    "Rata <- rats\n",
    "colnames(Rata)"
   ]
  },
  {
   "cell_type": "markdown",
   "metadata": {},
   "source": [
    "### Tablas de contingencia"
   ]
  },
  {
   "cell_type": "code",
   "execution_count": 39,
   "metadata": {},
   "outputs": [
    {
     "data": {
      "text/plain": [
       "    Estado\n",
       "Sexo   0   1\n",
       "   f 110  40\n",
       "   m 148   2"
      ]
     },
     "metadata": {},
     "output_type": "display_data"
    }
   ],
   "source": [
    "table(Rata$sex, Rata$status, dnn = c('Sexo', 'Estado'))"
   ]
  },
  {
   "cell_type": "code",
   "execution_count": 40,
   "metadata": {},
   "outputs": [
    {
     "data": {
      "text/plain": [
       "           Estado\n",
       "Tratamiento   0   1\n",
       "          0 179  21\n",
       "          1  79  21"
      ]
     },
     "metadata": {},
     "output_type": "display_data"
    }
   ],
   "source": [
    "table(Rata$rx, Rata$status, dnn = c('Tratamiento', 'Estado'))"
   ]
  },
  {
   "cell_type": "markdown",
   "metadata": {},
   "source": [
    "### Tiempos promedio de exito"
   ]
  },
  {
   "cell_type": "code",
   "execution_count": 49,
   "metadata": {},
   "outputs": [
    {
     "data": {
      "text/html": [
       "77.275"
      ],
      "text/latex": [
       "77.275"
      ],
      "text/markdown": [
       "77.275"
      ],
      "text/plain": [
       "[1] 77.275"
      ]
     },
     "metadata": {},
     "output_type": "display_data"
    }
   ],
   "source": [
    "mean(Rata$time[Rata$status == 1 & Rata$sex == 'f'])"
   ]
  },
  {
   "cell_type": "code",
   "execution_count": 50,
   "metadata": {},
   "outputs": [
    {
     "data": {
      "text/html": [
       "73"
      ],
      "text/latex": [
       "73"
      ],
      "text/markdown": [
       "73"
      ],
      "text/plain": [
       "[1] 73"
      ]
     },
     "metadata": {},
     "output_type": "display_data"
    }
   ],
   "source": [
    "mean(Rata$time[Rata$status == 1 & Rata$sex == 'm'])"
   ]
  },
  {
   "cell_type": "code",
   "execution_count": 52,
   "metadata": {},
   "outputs": [
    {
     "data": {
      "text/html": [
       "81.3809523809524"
      ],
      "text/latex": [
       "81.3809523809524"
      ],
      "text/markdown": [
       "81.3809523809524"
      ],
      "text/plain": [
       "[1] 81.38095"
      ]
     },
     "metadata": {},
     "output_type": "display_data"
    }
   ],
   "source": [
    "mean(Rata$time[Rata$status == 1 & Rata$rx == 1])"
   ]
  },
  {
   "cell_type": "code",
   "execution_count": 53,
   "metadata": {},
   "outputs": [
    {
     "data": {
      "text/html": [
       "72.7619047619048"
      ],
      "text/latex": [
       "72.7619047619048"
      ],
      "text/markdown": [
       "72.7619047619048"
      ],
      "text/plain": [
       "[1] 72.7619"
      ]
     },
     "metadata": {},
     "output_type": "display_data"
    }
   ],
   "source": [
    "mean(Rata$time[Rata$status == 1 & Rata$rx == 0])"
   ]
  },
  {
   "cell_type": "markdown",
   "metadata": {},
   "source": [
    "### Cantidad de exitos, censurados y total"
   ]
  },
  {
   "cell_type": "code",
   "execution_count": 54,
   "metadata": {},
   "outputs": [
    {
     "data": {
      "text/html": [
       "300"
      ],
      "text/latex": [
       "300"
      ],
      "text/markdown": [
       "300"
      ],
      "text/plain": [
       "[1] 300"
      ]
     },
     "metadata": {},
     "output_type": "display_data"
    }
   ],
   "source": [
    "length(Rata$status)"
   ]
  },
  {
   "cell_type": "code",
   "execution_count": 55,
   "metadata": {},
   "outputs": [
    {
     "data": {
      "text/html": [
       "258"
      ],
      "text/latex": [
       "258"
      ],
      "text/markdown": [
       "258"
      ],
      "text/plain": [
       "[1] 258"
      ]
     },
     "metadata": {},
     "output_type": "display_data"
    }
   ],
   "source": [
    "length(Rata$status)-sum(Rata$status)"
   ]
  },
  {
   "cell_type": "code",
   "execution_count": 56,
   "metadata": {},
   "outputs": [
    {
     "data": {
      "text/html": [
       "42"
      ],
      "text/latex": [
       "42"
      ],
      "text/markdown": [
       "42"
      ],
      "text/plain": [
       "[1] 42"
      ]
     },
     "metadata": {},
     "output_type": "display_data"
    }
   ],
   "source": [
    "sum(Rata$status)"
   ]
  },
  {
   "cell_type": "code",
   "execution_count": 59,
   "metadata": {},
   "outputs": [],
   "source": [
    "RataSurv <-Surv(Rata$time, Rata$status)"
   ]
  },
  {
   "cell_type": "code",
   "execution_count": 61,
   "metadata": {},
   "outputs": [
    {
     "data": {
      "text/plain": [
       "Call: survfit(formula = RataSurv ~ 1)\n",
       "\n",
       " time n.risk n.event survival std.err lower 95% CI upper 95% CI\n",
       "   34    298       1    0.997 0.00335        0.990        1.000\n",
       "   39    297       1    0.993 0.00473        0.984        1.000\n",
       "   40    295       1    0.990 0.00579        0.979        1.000\n",
       "   45    294       1    0.987 0.00668        0.974        1.000\n",
       "   49    292       1    0.983 0.00746        0.969        0.998\n",
       "   50    290       1    0.980 0.00817        0.964        0.996\n",
       "   54    285       1    0.976 0.00883        0.959        0.994\n",
       "   55    282       1    0.973 0.00946        0.955        0.992\n",
       "   64    274       1    0.969 0.01007        0.950        0.989\n",
       "   66    271       1    0.966 0.01065        0.945        0.987\n",
       "   67    270       1    0.962 0.01119        0.940        0.984\n",
       "   68    267       1    0.959 0.01172        0.936        0.982\n",
       "   70    263       1    0.955 0.01222        0.931        0.979\n",
       "   71    261       1    0.951 0.01271        0.927        0.977\n",
       "   72    259       1    0.948 0.01318        0.922        0.974\n",
       "   73    257       2    0.940 0.01408        0.913        0.968\n",
       "   75    251       1    0.936 0.01451        0.908        0.965\n",
       "   77    245       1    0.933 0.01494        0.904        0.962\n",
       "   78    238       1    0.929 0.01539        0.899        0.959\n",
       "   79    235       1    0.925 0.01582        0.894        0.956\n",
       "   80    230       2    0.917 0.01667        0.885        0.950\n",
       "   81    225       2    0.909 0.01749        0.875        0.944\n",
       "   84    215       2    0.900 0.01832        0.865        0.937\n",
       "   86    209       1    0.896 0.01873        0.860        0.933\n",
       "   88    202       1    0.891 0.01916        0.855        0.930\n",
       "   89    198       2    0.882 0.02000        0.844        0.922\n",
       "   92    176       1    0.877 0.02050        0.838        0.919\n",
       "   94    169       1    0.872 0.02103        0.832        0.914\n",
       "   96    158       2    0.861 0.02216        0.819        0.906\n",
       "  101    142       1    0.855 0.02282        0.812        0.901\n",
       "  102    139       2    0.843 0.02409        0.797        0.891\n",
       "  103    113       3    0.820 0.02669        0.770        0.874\n",
       "  104    108       1    0.813 0.02751        0.761        0.869"
      ]
     },
     "metadata": {},
     "output_type": "display_data"
    }
   ],
   "source": [
    "KM_Rata <- survfit(RataSurv~1)\n",
    "summary(KM_Rata)"
   ]
  },
  {
   "cell_type": "code",
   "execution_count": 62,
   "metadata": {},
   "outputs": [
    {
     "data": {
      "text/plain": [
       "Call: survfit(formula = RataSurv ~ 1)\n",
       "\n",
       " time n.risk n.event survival std.err lower 95% CI upper 95% CI\n",
       "   20    300       0    1.000  0.0000        1.000        1.000\n",
       "   70    263      13    0.955  0.0122        0.931        0.979"
      ]
     },
     "metadata": {},
     "output_type": "display_data"
    }
   ],
   "source": [
    "summary(KM_Rata, c(20,70,120))"
   ]
  },
  {
   "cell_type": "code",
   "execution_count": 65,
   "metadata": {},
   "outputs": [
    {
     "data": {
      "text/plain": [
       "Call: survfit(formula = RataSurv ~ Rata$sex)\n",
       "\n",
       "                Rata$sex=f \n",
       " time n.risk n.event survival std.err lower 95% CI upper 95% CI\n",
       "   34    150       1    0.993 0.00664        0.980        1.000\n",
       "   39    149       1    0.987 0.00937        0.968        1.000\n",
       "   40    148       1    0.980 0.01143        0.958        1.000\n",
       "   45    147       1    0.973 0.01315        0.948        0.999\n",
       "   49    145       1    0.967 0.01468        0.938        0.996\n",
       "   50    143       1    0.960 0.01606        0.929        0.992\n",
       "   54    142       1    0.953 0.01731        0.920        0.988\n",
       "   55    141       1    0.946 0.01846        0.911        0.983\n",
       "   64    138       1    0.939 0.01956        0.902        0.979\n",
       "   66    137       1    0.933 0.02058        0.893        0.974\n",
       "   67    136       1    0.926 0.02154        0.884        0.969\n",
       "   68    135       1    0.919 0.02245        0.876        0.964\n",
       "   70    132       1    0.912 0.02333        0.867        0.959\n",
       "   72    130       1    0.905 0.02418        0.859        0.954\n",
       "   73    128       2    0.891 0.02579        0.842        0.943\n",
       "   77    119       1    0.883 0.02664        0.833        0.937\n",
       "   78    114       1    0.876 0.02751        0.823        0.931\n",
       "   79    112       1    0.868 0.02835        0.814        0.925\n",
       "   80    108       2    0.852 0.03002        0.795        0.913\n",
       "   81    105       2    0.835 0.03156        0.776        0.900\n",
       "   84     99       2    0.819 0.03310        0.756        0.886\n",
       "   86     96       1    0.810 0.03384        0.746        0.879\n",
       "   88     93       1    0.801 0.03458        0.736        0.872\n",
       "   89     91       2    0.784 0.03599        0.716        0.858\n",
       "   92     82       1    0.774 0.03680        0.705        0.850\n",
       "   94     79       1    0.764 0.03761        0.694        0.842\n",
       "   96     74       2    0.744 0.03933        0.670        0.825\n",
       "  101     69       1    0.733 0.04021        0.658        0.816\n",
       "  102     67       2    0.711 0.04188        0.634        0.798\n",
       "  103     64       3    0.678 0.04412        0.597        0.770\n",
       "  104     60       1    0.666 0.04481        0.584        0.760\n",
       "\n",
       "                Rata$sex=m \n",
       " time n.risk n.event survival std.err lower 95% CI upper 95% CI\n",
       "   71    131       1    0.992  0.0076        0.978            1\n",
       "   75    129       1    0.985  0.0108        0.964            1\n"
      ]
     },
     "metadata": {},
     "output_type": "display_data"
    }
   ],
   "source": [
    "KM_Sexo <- survfit(RataSurv~Rata$sex)\n",
    "summary(KM_Sexo)"
   ]
  },
  {
   "cell_type": "code",
   "execution_count": 66,
   "metadata": {},
   "outputs": [
    {
     "data": {
      "text/plain": [
       "Call:\n",
       "survdiff(formula = RataSurv ~ Rata$sex, rho = 0)\n",
       "\n",
       "             N Observed Expected (O-E)^2/E (O-E)^2/V\n",
       "Rata$sex=f 150       40     20.6      18.1      35.9\n",
       "Rata$sex=m 150        2     21.4      17.5      35.9\n",
       "\n",
       " Chisq= 35.9  on 1 degrees of freedom, p= 2e-09 "
      ]
     },
     "metadata": {},
     "output_type": "display_data"
    }
   ],
   "source": [
    "survdiff(RataSurv~Rata$sex, rho = 0)"
   ]
  },
  {
   "cell_type": "code",
   "execution_count": 81,
   "metadata": {},
   "outputs": [
    {
     "data": {
      "image/png": "[encoded data removed]",
      "text/plain": [
       "Plot with title \"Supervivencia machos estimada\""
      ]
     },
     "metadata": {
      "image/png": {
       "height": 420,
       "width": 420
      }
     },
     "output_type": "display_data"
    }
   ],
   "source": [
    "par(mfcol = c(1,3), mar = c(2,3,2,3))\n",
    "par(pin =c(1.8,1.8))\n",
    "plot(KM_Sexo,\n",
    "    col = c('red', 'blue'),\n",
    "    main = 'Supervivencia general estimada')\n",
    "plot(KM_Sexo[1],\n",
    "    col = c('red'),\n",
    "    main = 'Supervivencia de hembras estimada')\n",
    "plot(KM_Sexo[2],\n",
    "    col = c('blue'),\n",
    "    main = 'Supervivencia machos estimada')"
   ]
  },
  {
   "cell_type": "code",
   "execution_count": 92,
   "metadata": {},
   "outputs": [
    {
     "data": {
      "text/plain": [
       "Call: survfit(formula = RatasMSurv ~ RatasMacho$rx)\n",
       "\n",
       "                RatasMacho$rx=0 \n",
       " time n.risk n.event survival std.err lower 95% CI upper 95% CI\n",
       "   71     89       1    0.989  0.0112        0.967            1\n",
       "   75     87       1    0.977  0.0158        0.947            1\n",
       "\n",
       "                RatasMacho$rx=1 \n",
       "     time n.risk n.event survival std.err lower 95% CI upper 95% CI\n"
      ]
     },
     "metadata": {},
     "output_type": "display_data"
    }
   ],
   "source": [
    "RatasMacho <- Rata[Rata$sex == 'm',]\n",
    "RatasMSurv <- Surv(RatasMacho$time, RatasMacho$status)\n",
    "KM_Rx <- survfit(RatasMSurv~RatasMacho$rx)\n",
    "summary(KM_Rx)"
   ]
  },
  {
   "cell_type": "code",
   "execution_count": 93,
   "metadata": {},
   "outputs": [
    {
     "data": {
      "text/plain": [
       "Call:\n",
       "survdiff(formula = RatasMSurv ~ RatasMacho$rx)\n",
       "\n",
       "                  N Observed Expected (O-E)^2/E (O-E)^2/V\n",
       "RatasMacho$rx=0 100        2    1.354     0.308     0.955\n",
       "RatasMacho$rx=1  50        0    0.646     0.646     0.955\n",
       "\n",
       " Chisq= 1  on 1 degrees of freedom, p= 0.3 "
      ]
     },
     "metadata": {},
     "output_type": "display_data"
    }
   ],
   "source": [
    "survdiff(RatasMSurv~RatasMacho$rx)"
   ]
  },
  {
   "cell_type": "code",
   "execution_count": 100,
   "metadata": {},
   "outputs": [
    {
     "data": {
      "image/png": "[encoded data removed]",
      "text/plain": [
       "Plot with title \"Ratas macho Tratamiento\""
      ]
     },
     "metadata": {
      "image/png": {
       "height": 420,
       "width": 420
      }
     },
     "output_type": "display_data"
    }
   ],
   "source": [
    "par(mfcol = c(1,3), mar = c(2,3,2,3))\n",
    "par(pin =c(1.8,1.8))\n",
    "plot(KM_Rx,\n",
    "    col = c('red', 'green'),\n",
    "    main = 'Ratas macho general')\n",
    "plot(KM_Rx[1],\n",
    "    col = c('red'),\n",
    "    main = 'Ratas macho Control')\n",
    "plot(KM_Rx[2],\n",
    "    col = c('green'),\n",
    "    main = 'Ratas macho Tratamiento')"
   ]
  },
  {
   "cell_type": "code",
   "execution_count": null,
   "metadata": {},
   "outputs": [],
   "source": []
  }
 ],
 "metadata": {
  "kernelspec": {
   "display_name": "R",
   "language": "R",
   "name": "ir"
  },
  "language_info": {
   "codemirror_mode": "r",
   "file_extension": ".r",
   "mimetype": "text/x-r-source",
   "name": "R",
   "pygments_lexer": "r",
   "version": "4.0.3"
  }
 },
 "nbformat": 4,
 "nbformat_minor": 4
}
