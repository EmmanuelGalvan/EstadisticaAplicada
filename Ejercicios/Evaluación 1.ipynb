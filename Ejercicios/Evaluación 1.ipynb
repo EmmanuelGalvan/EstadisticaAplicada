{
 "cells": [
  {
   "cell_type": "markdown",
   "metadata": {},
   "source": [
    "#### Librerias"
   ]
  },
  {
   "cell_type": "code",
   "execution_count": 1,
   "metadata": {},
   "outputs": [
    {
     "name": "stderr",
     "output_type": "stream",
     "text": [
      "Registered S3 method overwritten by 'quantmod':\n",
      "  method            from\n",
      "  as.zoo.data.frame zoo \n",
      "\n"
     ]
    }
   ],
   "source": [
    "library(tseries)"
   ]
  },
  {
   "cell_type": "code",
   "execution_count": 2,
   "metadata": {},
   "outputs": [
    {
     "ename": "ERROR",
     "evalue": "Error in library(forecast): there is no package called 'forecast'\n",
     "output_type": "error",
     "traceback": [
      "Error in library(forecast): there is no package called 'forecast'\nTraceback:\n",
      "1. library(forecast)"
     ]
    }
   ],
   "source": [
    "library(forecast)"
   ]
  },
  {
   "cell_type": "markdown",
   "metadata": {},
   "source": [
    "# Datos a 3 años"
   ]
  },
  {
   "cell_type": "code",
   "execution_count": 15,
   "metadata": {},
   "outputs": [],
   "source": [
    "df <- data.frame(read.csv('BitcoinHD-3Y.csv', header = TRUE, sep = ','))"
   ]
  },
  {
   "cell_type": "code",
   "execution_count": 27,
   "metadata": {},
   "outputs": [
    {
     "data": {
      "text/html": [
       "<table>\n",
       "<caption>A data.frame: 1097 × 2</caption>\n",
       "<thead>\n",
       "\t<tr><th scope=col>ï..Date</th><th scope=col>Price</th></tr>\n",
       "\t<tr><th scope=col>&lt;chr&gt;</th><th scope=col>&lt;chr&gt;</th></tr>\n",
       "</thead>\n",
       "<tbody>\n",
       "\t<tr><td>Mar 17, 2021</td><td>58,913.5</td></tr>\n",
       "\t<tr><td>Mar 16, 2021</td><td>56,889.7</td></tr>\n",
       "\t<tr><td>Mar 15, 2021</td><td>55,791.3</td></tr>\n",
       "\t<tr><td>Mar 14, 2021</td><td>59,113.7</td></tr>\n",
       "\t<tr><td>Mar 13, 2021</td><td>61,195.3</td></tr>\n",
       "\t<tr><td>Mar 12, 2021</td><td>57,265.1</td></tr>\n",
       "\t<tr><td>Mar 11, 2021</td><td>57,799.5</td></tr>\n",
       "\t<tr><td>Mar 10, 2021</td><td>55,851.9</td></tr>\n",
       "\t<tr><td>Mar 09, 2021</td><td>54,879.0</td></tr>\n",
       "\t<tr><td>Mar 08, 2021</td><td>52,311.0</td></tr>\n",
       "\t<tr><td>Mar 07, 2021</td><td>50,982.3</td></tr>\n",
       "\t<tr><td>Mar 06, 2021</td><td>48,855.6</td></tr>\n",
       "\t<tr><td>Mar 05, 2021</td><td>48,792.5</td></tr>\n",
       "\t<tr><td>Mar 04, 2021</td><td>48,428.0</td></tr>\n",
       "\t<tr><td>Mar 03, 2021</td><td>50,395.1</td></tr>\n",
       "\t<tr><td>Mar 02, 2021</td><td>48,424.2</td></tr>\n",
       "\t<tr><td>Mar 01, 2021</td><td>49,595.5</td></tr>\n",
       "\t<tr><td>Feb 28, 2021</td><td>45,164.0</td></tr>\n",
       "\t<tr><td>Feb 27, 2021</td><td>46,136.7</td></tr>\n",
       "\t<tr><td>Feb 26, 2021</td><td>46,345.6</td></tr>\n",
       "\t<tr><td>Feb 25, 2021</td><td>46,928.5</td></tr>\n",
       "\t<tr><td>Feb 24, 2021</td><td>49,697.5</td></tr>\n",
       "\t<tr><td>Feb 23, 2021</td><td>48,911.2</td></tr>\n",
       "\t<tr><td>Feb 22, 2021</td><td>54,111.8</td></tr>\n",
       "\t<tr><td>Feb 21, 2021</td><td>57,433.8</td></tr>\n",
       "\t<tr><td>Feb 20, 2021</td><td>55,923.7</td></tr>\n",
       "\t<tr><td>Feb 19, 2021</td><td>55,906.6</td></tr>\n",
       "\t<tr><td>Feb 18, 2021</td><td>51,582.2</td></tr>\n",
       "\t<tr><td>Feb 17, 2021</td><td>52,079.2</td></tr>\n",
       "\t<tr><td>Feb 16, 2021</td><td>49,169.7</td></tr>\n",
       "\t<tr><td>...</td><td>...</td></tr>\n",
       "\t<tr><td>Apr 15, 2018</td><td>8,363.6</td></tr>\n",
       "\t<tr><td>Apr 14, 2018</td><td>8,004.4</td></tr>\n",
       "\t<tr><td>Apr 13, 2018</td><td>7,887.4</td></tr>\n",
       "\t<tr><td>Apr 12, 2018</td><td>7,926.6</td></tr>\n",
       "\t<tr><td>Apr 11, 2018</td><td>6,962.1</td></tr>\n",
       "\t<tr><td>Apr 10, 2018</td><td>6,854.8</td></tr>\n",
       "\t<tr><td>Apr 09, 2018</td><td>6,781.9</td></tr>\n",
       "\t<tr><td>Apr 08, 2018</td><td>7,030.5</td></tr>\n",
       "\t<tr><td>Apr 07, 2018</td><td>6,905.7</td></tr>\n",
       "\t<tr><td>Apr 06, 2018</td><td>6,624.3</td></tr>\n",
       "\t<tr><td>Apr 05, 2018</td><td>6,782.0</td></tr>\n",
       "\t<tr><td>Apr 04, 2018</td><td>6,808.9</td></tr>\n",
       "\t<tr><td>Apr 03, 2018</td><td>7,424.2</td></tr>\n",
       "\t<tr><td>Apr 02, 2018</td><td>7,068.4</td></tr>\n",
       "\t<tr><td>Apr 01, 2018</td><td>6,825.2</td></tr>\n",
       "\t<tr><td>Mar 31, 2018</td><td>6,938.2</td></tr>\n",
       "\t<tr><td>Mar 30, 2018</td><td>6,853.7</td></tr>\n",
       "\t<tr><td>Mar 29, 2018</td><td>7,129.2</td></tr>\n",
       "\t<tr><td>Mar 28, 2018</td><td>7,954.9</td></tr>\n",
       "\t<tr><td>Mar 27, 2018</td><td>7,801.7</td></tr>\n",
       "\t<tr><td>Mar 26, 2018</td><td>8,143.5</td></tr>\n",
       "\t<tr><td>Mar 25, 2018</td><td>8,473.2</td></tr>\n",
       "\t<tr><td>Mar 24, 2018</td><td>8,547.4</td></tr>\n",
       "\t<tr><td>Mar 23, 2018</td><td>8,916.8</td></tr>\n",
       "\t<tr><td>Mar 22, 2018</td><td>8,726.2</td></tr>\n",
       "\t<tr><td>Mar 21, 2018</td><td>8,905.9</td></tr>\n",
       "\t<tr><td>Mar 20, 2018</td><td>8,912.6</td></tr>\n",
       "\t<tr><td>Mar 19, 2018</td><td>8,616.8</td></tr>\n",
       "\t<tr><td>Mar 18, 2018</td><td>8,201.2</td></tr>\n",
       "\t<tr><td>Mar 17, 2018</td><td>7,874.9</td></tr>\n",
       "</tbody>\n",
       "</table>\n"
      ],
      "text/latex": [
       "A data.frame: 1097 × 2\n",
       "\\begin{tabular}{ll}\n",
       " ï..Date & Price\\\\\n",
       " <chr> & <chr>\\\\\n",
       "\\hline\n",
       "\t Mar 17, 2021 & 58,913.5\\\\\n",
       "\t Mar 16, 2021 & 56,889.7\\\\\n",
       "\t Mar 15, 2021 & 55,791.3\\\\\n",
       "\t Mar 14, 2021 & 59,113.7\\\\\n",
       "\t Mar 13, 2021 & 61,195.3\\\\\n",
       "\t Mar 12, 2021 & 57,265.1\\\\\n",
       "\t Mar 11, 2021 & 57,799.5\\\\\n",
       "\t Mar 10, 2021 & 55,851.9\\\\\n",
       "\t Mar 09, 2021 & 54,879.0\\\\\n",
       "\t Mar 08, 2021 & 52,311.0\\\\\n",
       "\t Mar 07, 2021 & 50,982.3\\\\\n",
       "\t Mar 06, 2021 & 48,855.6\\\\\n",
       "\t Mar 05, 2021 & 48,792.5\\\\\n",
       "\t Mar 04, 2021 & 48,428.0\\\\\n",
       "\t Mar 03, 2021 & 50,395.1\\\\\n",
       "\t Mar 02, 2021 & 48,424.2\\\\\n",
       "\t Mar 01, 2021 & 49,595.5\\\\\n",
       "\t Feb 28, 2021 & 45,164.0\\\\\n",
       "\t Feb 27, 2021 & 46,136.7\\\\\n",
       "\t Feb 26, 2021 & 46,345.6\\\\\n",
       "\t Feb 25, 2021 & 46,928.5\\\\\n",
       "\t Feb 24, 2021 & 49,697.5\\\\\n",
       "\t Feb 23, 2021 & 48,911.2\\\\\n",
       "\t Feb 22, 2021 & 54,111.8\\\\\n",
       "\t Feb 21, 2021 & 57,433.8\\\\\n",
       "\t Feb 20, 2021 & 55,923.7\\\\\n",
       "\t Feb 19, 2021 & 55,906.6\\\\\n",
       "\t Feb 18, 2021 & 51,582.2\\\\\n",
       "\t Feb 17, 2021 & 52,079.2\\\\\n",
       "\t Feb 16, 2021 & 49,169.7\\\\\n",
       "\t ... & ...\\\\\n",
       "\t Apr 15, 2018 & 8,363.6\\\\\n",
       "\t Apr 14, 2018 & 8,004.4\\\\\n",
       "\t Apr 13, 2018 & 7,887.4\\\\\n",
       "\t Apr 12, 2018 & 7,926.6\\\\\n",
       "\t Apr 11, 2018 & 6,962.1\\\\\n",
       "\t Apr 10, 2018 & 6,854.8\\\\\n",
       "\t Apr 09, 2018 & 6,781.9\\\\\n",
       "\t Apr 08, 2018 & 7,030.5\\\\\n",
       "\t Apr 07, 2018 & 6,905.7\\\\\n",
       "\t Apr 06, 2018 & 6,624.3\\\\\n",
       "\t Apr 05, 2018 & 6,782.0\\\\\n",
       "\t Apr 04, 2018 & 6,808.9\\\\\n",
       "\t Apr 03, 2018 & 7,424.2\\\\\n",
       "\t Apr 02, 2018 & 7,068.4\\\\\n",
       "\t Apr 01, 2018 & 6,825.2\\\\\n",
       "\t Mar 31, 2018 & 6,938.2\\\\\n",
       "\t Mar 30, 2018 & 6,853.7\\\\\n",
       "\t Mar 29, 2018 & 7,129.2\\\\\n",
       "\t Mar 28, 2018 & 7,954.9\\\\\n",
       "\t Mar 27, 2018 & 7,801.7\\\\\n",
       "\t Mar 26, 2018 & 8,143.5\\\\\n",
       "\t Mar 25, 2018 & 8,473.2\\\\\n",
       "\t Mar 24, 2018 & 8,547.4\\\\\n",
       "\t Mar 23, 2018 & 8,916.8\\\\\n",
       "\t Mar 22, 2018 & 8,726.2\\\\\n",
       "\t Mar 21, 2018 & 8,905.9\\\\\n",
       "\t Mar 20, 2018 & 8,912.6\\\\\n",
       "\t Mar 19, 2018 & 8,616.8\\\\\n",
       "\t Mar 18, 2018 & 8,201.2\\\\\n",
       "\t Mar 17, 2018 & 7,874.9\\\\\n",
       "\\end{tabular}\n"
      ],
      "text/markdown": [
       "\n",
       "A data.frame: 1097 × 2\n",
       "\n",
       "| ï..Date &lt;chr&gt; | Price &lt;chr&gt; |\n",
       "|---|---|\n",
       "| Mar 17, 2021 | 58,913.5 |\n",
       "| Mar 16, 2021 | 56,889.7 |\n",
       "| Mar 15, 2021 | 55,791.3 |\n",
       "| Mar 14, 2021 | 59,113.7 |\n",
       "| Mar 13, 2021 | 61,195.3 |\n",
       "| Mar 12, 2021 | 57,265.1 |\n",
       "| Mar 11, 2021 | 57,799.5 |\n",
       "| Mar 10, 2021 | 55,851.9 |\n",
       "| Mar 09, 2021 | 54,879.0 |\n",
       "| Mar 08, 2021 | 52,311.0 |\n",
       "| Mar 07, 2021 | 50,982.3 |\n",
       "| Mar 06, 2021 | 48,855.6 |\n",
       "| Mar 05, 2021 | 48,792.5 |\n",
       "| Mar 04, 2021 | 48,428.0 |\n",
       "| Mar 03, 2021 | 50,395.1 |\n",
       "| Mar 02, 2021 | 48,424.2 |\n",
       "| Mar 01, 2021 | 49,595.5 |\n",
       "| Feb 28, 2021 | 45,164.0 |\n",
       "| Feb 27, 2021 | 46,136.7 |\n",
       "| Feb 26, 2021 | 46,345.6 |\n",
       "| Feb 25, 2021 | 46,928.5 |\n",
       "| Feb 24, 2021 | 49,697.5 |\n",
       "| Feb 23, 2021 | 48,911.2 |\n",
       "| Feb 22, 2021 | 54,111.8 |\n",
       "| Feb 21, 2021 | 57,433.8 |\n",
       "| Feb 20, 2021 | 55,923.7 |\n",
       "| Feb 19, 2021 | 55,906.6 |\n",
       "| Feb 18, 2021 | 51,582.2 |\n",
       "| Feb 17, 2021 | 52,079.2 |\n",
       "| Feb 16, 2021 | 49,169.7 |\n",
       "| ... | ... |\n",
       "| Apr 15, 2018 | 8,363.6 |\n",
       "| Apr 14, 2018 | 8,004.4 |\n",
       "| Apr 13, 2018 | 7,887.4 |\n",
       "| Apr 12, 2018 | 7,926.6 |\n",
       "| Apr 11, 2018 | 6,962.1 |\n",
       "| Apr 10, 2018 | 6,854.8 |\n",
       "| Apr 09, 2018 | 6,781.9 |\n",
       "| Apr 08, 2018 | 7,030.5 |\n",
       "| Apr 07, 2018 | 6,905.7 |\n",
       "| Apr 06, 2018 | 6,624.3 |\n",
       "| Apr 05, 2018 | 6,782.0 |\n",
       "| Apr 04, 2018 | 6,808.9 |\n",
       "| Apr 03, 2018 | 7,424.2 |\n",
       "| Apr 02, 2018 | 7,068.4 |\n",
       "| Apr 01, 2018 | 6,825.2 |\n",
       "| Mar 31, 2018 | 6,938.2 |\n",
       "| Mar 30, 2018 | 6,853.7 |\n",
       "| Mar 29, 2018 | 7,129.2 |\n",
       "| Mar 28, 2018 | 7,954.9 |\n",
       "| Mar 27, 2018 | 7,801.7 |\n",
       "| Mar 26, 2018 | 8,143.5 |\n",
       "| Mar 25, 2018 | 8,473.2 |\n",
       "| Mar 24, 2018 | 8,547.4 |\n",
       "| Mar 23, 2018 | 8,916.8 |\n",
       "| Mar 22, 2018 | 8,726.2 |\n",
       "| Mar 21, 2018 | 8,905.9 |\n",
       "| Mar 20, 2018 | 8,912.6 |\n",
       "| Mar 19, 2018 | 8,616.8 |\n",
       "| Mar 18, 2018 | 8,201.2 |\n",
       "| Mar 17, 2018 | 7,874.9 |\n",
       "\n"
      ],
      "text/plain": [
       "     ï..Date      Price   \n",
       "1    Mar 17, 2021 58,913.5\n",
       "2    Mar 16, 2021 56,889.7\n",
       "3    Mar 15, 2021 55,791.3\n",
       "4    Mar 14, 2021 59,113.7\n",
       "5    Mar 13, 2021 61,195.3\n",
       "6    Mar 12, 2021 57,265.1\n",
       "7    Mar 11, 2021 57,799.5\n",
       "8    Mar 10, 2021 55,851.9\n",
       "9    Mar 09, 2021 54,879.0\n",
       "10   Mar 08, 2021 52,311.0\n",
       "11   Mar 07, 2021 50,982.3\n",
       "12   Mar 06, 2021 48,855.6\n",
       "13   Mar 05, 2021 48,792.5\n",
       "14   Mar 04, 2021 48,428.0\n",
       "15   Mar 03, 2021 50,395.1\n",
       "16   Mar 02, 2021 48,424.2\n",
       "17   Mar 01, 2021 49,595.5\n",
       "18   Feb 28, 2021 45,164.0\n",
       "19   Feb 27, 2021 46,136.7\n",
       "20   Feb 26, 2021 46,345.6\n",
       "21   Feb 25, 2021 46,928.5\n",
       "22   Feb 24, 2021 49,697.5\n",
       "23   Feb 23, 2021 48,911.2\n",
       "24   Feb 22, 2021 54,111.8\n",
       "25   Feb 21, 2021 57,433.8\n",
       "26   Feb 20, 2021 55,923.7\n",
       "27   Feb 19, 2021 55,906.6\n",
       "28   Feb 18, 2021 51,582.2\n",
       "29   Feb 17, 2021 52,079.2\n",
       "30   Feb 16, 2021 49,169.7\n",
       "...  ...          ...     \n",
       "1068 Apr 15, 2018 8,363.6 \n",
       "1069 Apr 14, 2018 8,004.4 \n",
       "1070 Apr 13, 2018 7,887.4 \n",
       "1071 Apr 12, 2018 7,926.6 \n",
       "1072 Apr 11, 2018 6,962.1 \n",
       "1073 Apr 10, 2018 6,854.8 \n",
       "1074 Apr 09, 2018 6,781.9 \n",
       "1075 Apr 08, 2018 7,030.5 \n",
       "1076 Apr 07, 2018 6,905.7 \n",
       "1077 Apr 06, 2018 6,624.3 \n",
       "1078 Apr 05, 2018 6,782.0 \n",
       "1079 Apr 04, 2018 6,808.9 \n",
       "1080 Apr 03, 2018 7,424.2 \n",
       "1081 Apr 02, 2018 7,068.4 \n",
       "1082 Apr 01, 2018 6,825.2 \n",
       "1083 Mar 31, 2018 6,938.2 \n",
       "1084 Mar 30, 2018 6,853.7 \n",
       "1085 Mar 29, 2018 7,129.2 \n",
       "1086 Mar 28, 2018 7,954.9 \n",
       "1087 Mar 27, 2018 7,801.7 \n",
       "1088 Mar 26, 2018 8,143.5 \n",
       "1089 Mar 25, 2018 8,473.2 \n",
       "1090 Mar 24, 2018 8,547.4 \n",
       "1091 Mar 23, 2018 8,916.8 \n",
       "1092 Mar 22, 2018 8,726.2 \n",
       "1093 Mar 21, 2018 8,905.9 \n",
       "1094 Mar 20, 2018 8,912.6 \n",
       "1095 Mar 19, 2018 8,616.8 \n",
       "1096 Mar 18, 2018 8,201.2 \n",
       "1097 Mar 17, 2018 7,874.9 "
      ]
     },
     "metadata": {},
     "output_type": "display_data"
    }
   ],
   "source": [
    "df[,1:2]"
   ]
  },
  {
   "cell_type": "code",
   "execution_count": 9,
   "metadata": {},
   "outputs": [],
   "source": [
    "help(ts)"
   ]
  },
  {
   "cell_type": "markdown",
   "metadata": {},
   "source": [
    "### Exploracion de los datos"
   ]
  },
  {
   "cell_type": "code",
   "execution_count": 6,
   "metadata": {},
   "outputs": [
    {
     "ename": "ERROR",
     "evalue": "Error in data$price: $ operator is invalid for atomic vectors\n",
     "output_type": "error",
     "traceback": [
      "Error in data$price: $ operator is invalid for atomic vectors\nTraceback:\n",
      "1. start(data$price)"
     ]
    }
   ],
   "source": [
    "start(data$price)\n",
    "end(data$price)"
   ]
  },
  {
   "cell_type": "code",
   "execution_count": 5,
   "metadata": {},
   "outputs": [
    {
     "data": {
      "image/png": "[encoded data removed]",
      "text/plain": [
       "plot without title"
      ]
     },
     "metadata": {
      "image/png": {
       "height": 420,
       "width": 420
      }
     },
     "output_type": "display_data"
    }
   ],
   "source": [
    "plot(data)"
   ]
  },
  {
   "cell_type": "markdown",
   "metadata": {},
   "source": [
    "Tendencia y Varianza"
   ]
  },
  {
   "cell_type": "code",
   "execution_count": null,
   "metadata": {},
   "outputs": [],
   "source": [
    "summary(lm(data~time(data)))"
   ]
  },
  {
   "cell_type": "code",
   "execution_count": null,
   "metadata": {},
   "outputs": [],
   "source": [
    "adf.test(data, alternative = \"stationary\")"
   ]
  },
  {
   "cell_type": "markdown",
   "metadata": {},
   "source": [
    "Correciones"
   ]
  },
  {
   "cell_type": "code",
   "execution_count": null,
   "metadata": {},
   "outputs": [],
   "source": [
    "Corr1 <- diff(data)"
   ]
  },
  {
   "cell_type": "code",
   "execution_count": null,
   "metadata": {},
   "outputs": [],
   "source": [
    "plot(Corr1) #Corregir el zoom"
   ]
  },
  {
   "cell_type": "markdown",
   "metadata": {},
   "source": [
    "Tendencia y Varianza"
   ]
  },
  {
   "cell_type": "code",
   "execution_count": null,
   "metadata": {},
   "outputs": [],
   "source": [
    "summary(lm(Corr1~time(Corr1)))"
   ]
  },
  {
   "cell_type": "code",
   "execution_count": null,
   "metadata": {},
   "outputs": [],
   "source": [
    "adf.test(Corr1, alternative = \"stationary\")"
   ]
  },
  {
   "cell_type": "markdown",
   "metadata": {},
   "source": [
    "### Modelado"
   ]
  },
  {
   "cell_type": "markdown",
   "metadata": {},
   "source": [
    "Modelo AR"
   ]
  },
  {
   "cell_type": "code",
   "execution_count": null,
   "metadata": {},
   "outputs": [],
   "source": [
    "ar(Corr1)"
   ]
  },
  {
   "cell_type": "code",
   "execution_count": null,
   "metadata": {},
   "outputs": [],
   "source": [
    "AIC(arima(Corr1, order = c(0,0,0), method = 'ML'))"
   ]
  },
  {
   "cell_type": "markdown",
   "metadata": {},
   "source": [
    "Modelo MA"
   ]
  },
  {
   "cell_type": "code",
   "execution_count": null,
   "metadata": {},
   "outputs": [],
   "source": [
    "aux <- Inf\n",
    "for(i in 1:15){\n",
    "    if(AIC(arima(Corr1, order=c(0,0,i), method = 'ML')) < aux){\n",
    "        aux <- AIC(arima(Corr1, order=c(0,0,i), method = 'ML'))\n",
    "        MA.mejor <- i\n",
    "    }\n",
    "}\n",
    "MA.mejor\n",
    "aux"
   ]
  },
  {
   "cell_type": "markdown",
   "metadata": {},
   "source": [
    "Modelo ARMA"
   ]
  },
  {
   "cell_type": "code",
   "execution_count": null,
   "metadata": {},
   "outputs": [],
   "source": [
    "defaultW <- getOption(\"warn\") \n",
    "\n",
    "options(warn = -1) "
   ]
  },
  {
   "cell_type": "code",
   "execution_count": null,
   "metadata": {},
   "outputs": [],
   "source": [
    "arma.aic <- Inf\n",
    "for(j in 1:10){\n",
    "    for(i in 1:10){\n",
    "        if(AIC(arima(Corr1, order=c(j,0,i), method = 'ML')) < arma.aic){\n",
    "            arma.aic <- AIC(arima(Corr1, order=c(j,0,i), method = 'ML'))\n",
    "            ARMA.mejor <- c(j,i)\n",
    "        }\n",
    "    }\n",
    "}\n",
    "ARMA.mejor\n",
    "arma.aic"
   ]
  },
  {
   "cell_type": "code",
   "execution_count": null,
   "metadata": {},
   "outputs": [],
   "source": [
    "options(warn = defaultW)"
   ]
  },
  {
   "cell_type": "markdown",
   "metadata": {},
   "source": [
    "### Ruido Blanco"
   ]
  },
  {
   "cell_type": "markdown",
   "metadata": {},
   "source": [
    "Ruido blanco de residuales"
   ]
  },
  {
   "cell_type": "code",
   "execution_count": null,
   "metadata": {},
   "outputs": [],
   "source": [
    "Res <- residuals(arima(Corr1, order = c(0,0,0), method = 'ML'))"
   ]
  },
  {
   "cell_type": "markdown",
   "metadata": {},
   "source": [
    "Media"
   ]
  },
  {
   "cell_type": "code",
   "execution_count": null,
   "metadata": {},
   "outputs": [],
   "source": [
    "mean(Res)"
   ]
  },
  {
   "cell_type": "markdown",
   "metadata": {},
   "source": [
    "Varianza constante"
   ]
  },
  {
   "cell_type": "code",
   "execution_count": null,
   "metadata": {},
   "outputs": [],
   "source": [
    "plot(Res,\n",
    "    type = 'p')"
   ]
  },
  {
   "cell_type": "markdown",
   "metadata": {},
   "source": [
    "Incorrelacion"
   ]
  },
  {
   "cell_type": "code",
   "execution_count": null,
   "metadata": {},
   "outputs": [],
   "source": [
    "acf(Res)"
   ]
  },
  {
   "cell_type": "code",
   "execution_count": null,
   "metadata": {},
   "outputs": [],
   "source": [
    "pacf(Res)"
   ]
  }
 ],
 "metadata": {
  "kernelspec": {
   "display_name": "R",
   "language": "R",
   "name": "ir"
  },
  "language_info": {
   "codemirror_mode": "r",
   "file_extension": ".r",
   "mimetype": "text/x-r-source",
   "name": "R",
   "pygments_lexer": "r",
   "version": "4.0.3"
  }
 },
 "nbformat": 4,
 "nbformat_minor": 4
}
