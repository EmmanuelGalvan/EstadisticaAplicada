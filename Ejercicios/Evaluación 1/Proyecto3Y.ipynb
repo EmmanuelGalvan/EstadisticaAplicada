{
 "cells": [
  {
   "cell_type": "markdown",
   "metadata": {},
   "source": [
    "**Librerías**"
   ]
  },
  {
   "cell_type": "code",
   "execution_count": 2,
   "metadata": {},
   "outputs": [
    {
     "name": "stderr",
     "output_type": "stream",
     "text": [
      "Registered S3 method overwritten by 'quantmod':\n",
      "  method            from\n",
      "  as.zoo.data.frame zoo \n",
      "\n",
      "Warning message:\n",
      "\"package 'TSA' was built under R version 4.0.4\"\n",
      "\n",
      "Attaching package: 'TSA'\n",
      "\n",
      "\n",
      "The following objects are masked from 'package:stats':\n",
      "\n",
      "    acf, arima\n",
      "\n",
      "\n",
      "The following object is masked from 'package:utils':\n",
      "\n",
      "    tar\n",
      "\n",
      "\n"
     ]
    }
   ],
   "source": [
    "library(tseries)\n",
    "library(TSA)"
   ]
  },
  {
   "cell_type": "markdown",
   "metadata": {},
   "source": [
    "**Apertura y corrección de datos**"
   ]
  },
  {
   "cell_type": "code",
   "execution_count": 3,
   "metadata": {},
   "outputs": [],
   "source": [
    "bc<-data.frame(read.table(\"BitcoinHD-3Y.csv\", sep=\",\", header = TRUE ))\n",
    "bc_order <- apply(bc,2,rev)"
   ]
  },
  {
   "cell_type": "code",
   "execution_count": 3,
   "metadata": {},
   "outputs": [
    {
     "data": {
      "text/html": [
       "<table>\n",
       "<caption>A data.frame: 1097 × 7</caption>\n",
       "<thead>\n",
       "\t<tr><th scope=col>ï..Date</th><th scope=col>Price</th><th scope=col>Open</th><th scope=col>High</th><th scope=col>Low</th><th scope=col>Vol.</th><th scope=col>Change..</th></tr>\n",
       "\t<tr><th scope=col>&lt;chr&gt;</th><th scope=col>&lt;dbl&gt;</th><th scope=col>&lt;chr&gt;</th><th scope=col>&lt;chr&gt;</th><th scope=col>&lt;chr&gt;</th><th scope=col>&lt;chr&gt;</th><th scope=col>&lt;chr&gt;</th></tr>\n",
       "</thead>\n",
       "<tbody>\n",
       "\t<tr><td>Mar 17, 2018</td><td>7874.9</td><td>8,198.00</td><td>8,344.80</td><td>7,760.20</td><td>208.05K</td><td>-5.00% </td></tr>\n",
       "\t<tr><td>Mar 18, 2018</td><td>8201.2</td><td>7,873.20</td><td>8,283.60</td><td>7,323.30</td><td>348.02K</td><td>4.14%  </td></tr>\n",
       "\t<tr><td>Mar 19, 2018</td><td>8616.8</td><td>8,200.90</td><td>8,698.30</td><td>8,127.70</td><td>316.96K</td><td>5.07%  </td></tr>\n",
       "\t<tr><td>Mar 20, 2018</td><td>8912.6</td><td>8,614.10</td><td>9,039.60</td><td>8,326.80</td><td>253.44K</td><td>3.43%  </td></tr>\n",
       "\t<tr><td>Mar 21, 2018</td><td>8905.9</td><td>8,912.40</td><td>9,173.40</td><td>8,775.10</td><td>218.19K</td><td>-0.08% </td></tr>\n",
       "\t<tr><td>Mar 22, 2018</td><td>8726.2</td><td>8,903.70</td><td>9,096.20</td><td>8,499.10</td><td>223.01K</td><td>-2.02% </td></tr>\n",
       "\t<tr><td>Mar 23, 2018</td><td>8916.8</td><td>8,725.30</td><td>8,917.00</td><td>8,305.60</td><td>210.11K</td><td>2.18%  </td></tr>\n",
       "\t<tr><td>Mar 24, 2018</td><td>8547.4</td><td>8,917.30</td><td>9,008.80</td><td>8,523.60</td><td>177.43K</td><td>-4.14% </td></tr>\n",
       "\t<tr><td>Mar 25, 2018</td><td>8473.2</td><td>8,549.10</td><td>8,679.00</td><td>8,392.20</td><td>149.52K</td><td>-0.87% </td></tr>\n",
       "\t<tr><td>Mar 26, 2018</td><td>8143.5</td><td>8,474.00</td><td>8,515.70</td><td>7,865.90</td><td>247.18K</td><td>-3.89% </td></tr>\n",
       "\t<tr><td>Mar 27, 2018</td><td>7801.7</td><td>8,146.50</td><td>8,218.30</td><td>7,760.60</td><td>223.10K</td><td>-4.20% </td></tr>\n",
       "\t<tr><td>Mar 28, 2018</td><td>7954.9</td><td>7,803.00</td><td>8,110.40</td><td>7,754.50</td><td>167.36K</td><td>1.96%  </td></tr>\n",
       "\t<tr><td>Mar 29, 2018</td><td>7129.2</td><td>7,955.20</td><td>7,980.70</td><td>6,954.90</td><td>348.75K</td><td>-10.38%</td></tr>\n",
       "\t<tr><td>Mar 30, 2018</td><td>6853.7</td><td>7,132.40</td><td>7,288.10</td><td>6,603.80</td><td>417.31K</td><td>-3.86% </td></tr>\n",
       "\t<tr><td>Mar 31, 2018</td><td>6938.2</td><td>6,856.50</td><td>7,221.50</td><td>6,804.90</td><td>245.30K</td><td>1.23%  </td></tr>\n",
       "\t<tr><td>Apr 01, 2018</td><td>6825.2</td><td>6,939.10</td><td>7,047.70</td><td>6,460.10</td><td>257.53K</td><td>-1.63% </td></tr>\n",
       "\t<tr><td>Apr 02, 2018</td><td>7068.4</td><td>6,825.40</td><td>7,121.30</td><td>6,787.60</td><td>199.31K</td><td>3.56%  </td></tr>\n",
       "\t<tr><td>Apr 03, 2018</td><td>7424.2</td><td>7,067.20</td><td>7,519.30</td><td>7,032.90</td><td>230.80K</td><td>5.03%  </td></tr>\n",
       "\t<tr><td>Apr 04, 2018</td><td>6808.9</td><td>7,423.80</td><td>7,432.90</td><td>6,726.90</td><td>239.51K</td><td>-8.29% </td></tr>\n",
       "\t<tr><td>Apr 05, 2018</td><td>6782.0</td><td>6,808.70</td><td>6,918.20</td><td>6,592.50</td><td>221.70K</td><td>-0.40% </td></tr>\n",
       "\t<tr><td>Apr 06, 2018</td><td>6624.3</td><td>6,783.70</td><td>6,859.70</td><td>6,523.40</td><td>174.90K</td><td>-2.33% </td></tr>\n",
       "\t<tr><td>Apr 07, 2018</td><td>6905.7</td><td>6,624.50</td><td>7,071.90</td><td>6,616.10</td><td>177.10K</td><td>4.25%  </td></tr>\n",
       "\t<tr><td>Apr 08, 2018</td><td>7030.5</td><td>6,905.90</td><td>7,113.40</td><td>6,903.90</td><td>132.51K</td><td>1.81%  </td></tr>\n",
       "\t<tr><td>Apr 09, 2018</td><td>6781.9</td><td>7,035.70</td><td>7,192.50</td><td>6,633.20</td><td>241.19K</td><td>-3.54% </td></tr>\n",
       "\t<tr><td>Apr 10, 2018</td><td>6854.8</td><td>6,782.60</td><td>6,899.50</td><td>6,671.60</td><td>134.23K</td><td>1.08%  </td></tr>\n",
       "\t<tr><td>Apr 11, 2018</td><td>6962.1</td><td>6,855.60</td><td>6,988.60</td><td>6,818.40</td><td>142.07K</td><td>1.56%  </td></tr>\n",
       "\t<tr><td>Apr 12, 2018</td><td>7926.6</td><td>6,963.30</td><td>8,009.60</td><td>6,779.30</td><td>398.30K</td><td>13.85% </td></tr>\n",
       "\t<tr><td>Apr 13, 2018</td><td>7887.4</td><td>7,926.90</td><td>8,228.00</td><td>7,756.60</td><td>296.95K</td><td>-0.49% </td></tr>\n",
       "\t<tr><td>Apr 14, 2018</td><td>8004.4</td><td>7,891.10</td><td>8,180.20</td><td>7,839.30</td><td>164.71K</td><td>1.48%  </td></tr>\n",
       "\t<tr><td>Apr 15, 2018</td><td>8363.6</td><td>8,004.60</td><td>8,411.50</td><td>8,004.60</td><td>160.26K</td><td>4.49%  </td></tr>\n",
       "\t<tr><td>...</td><td>...</td><td>...</td><td>...</td><td>...</td><td>...</td><td>...</td></tr>\n",
       "\t<tr><td>Feb 16, 2021</td><td>49169.7</td><td>47,934.20</td><td>50,515.80</td><td>47,044.40</td><td>141.37K</td><td>2.57% </td></tr>\n",
       "\t<tr><td>Feb 17, 2021</td><td>52079.2</td><td>49,161.30</td><td>52,577.70</td><td>49,018.10</td><td>140.03K</td><td>5.92% </td></tr>\n",
       "\t<tr><td>Feb 18, 2021</td><td>51582.2</td><td>52,094.50</td><td>52,524.00</td><td>50,941.60</td><td>94.35K </td><td>-0.95%</td></tr>\n",
       "\t<tr><td>Feb 19, 2021</td><td>55906.6</td><td>51,590.10</td><td>56,238.50</td><td>50,816.80</td><td>139.43K</td><td>8.38% </td></tr>\n",
       "\t<tr><td>Feb 20, 2021</td><td>55923.7</td><td>55,922.00</td><td>57,523.80</td><td>54,124.10</td><td>127.85K</td><td>0.03% </td></tr>\n",
       "\t<tr><td>Feb 21, 2021</td><td>57433.8</td><td>55,907.60</td><td>58,335.10</td><td>55,502.70</td><td>87.26K </td><td>2.70% </td></tr>\n",
       "\t<tr><td>Feb 22, 2021</td><td>54111.8</td><td>57,437.60</td><td>57,480.80</td><td>48,353.80</td><td>244.95K</td><td>-5.78%</td></tr>\n",
       "\t<tr><td>Feb 23, 2021</td><td>48911.2</td><td>54,114.10</td><td>54,115.00</td><td>45,093.80</td><td>315.07K</td><td>-9.61%</td></tr>\n",
       "\t<tr><td>Feb 24, 2021</td><td>49697.5</td><td>48,911.10</td><td>51,311.80</td><td>47,031.70</td><td>153.75K</td><td>1.61% </td></tr>\n",
       "\t<tr><td>Feb 25, 2021</td><td>46928.5</td><td>49,695.90</td><td>52,013.80</td><td>46,773.70</td><td>83.22K </td><td>-5.57%</td></tr>\n",
       "\t<tr><td>Feb 26, 2021</td><td>46345.6</td><td>46,928.50</td><td>48,413.90</td><td>44,248.20</td><td>189.41K</td><td>-1.24%</td></tr>\n",
       "\t<tr><td>Feb 27, 2021</td><td>46136.7</td><td>46,333.10</td><td>48,335.10</td><td>45,059.40</td><td>98.75K </td><td>-0.45%</td></tr>\n",
       "\t<tr><td>Feb 28, 2021</td><td>45164.0</td><td>46,136.00</td><td>46,582.00</td><td>43,100.60</td><td>135.08K</td><td>-2.11%</td></tr>\n",
       "\t<tr><td>Mar 01, 2021</td><td>49595.5</td><td>45,160.50</td><td>49,774.00</td><td>45,008.80</td><td>137.52K</td><td>9.81% </td></tr>\n",
       "\t<tr><td>Mar 02, 2021</td><td>48424.2</td><td>49,595.60</td><td>50,191.90</td><td>47,100.60</td><td>102.10K</td><td>-2.36%</td></tr>\n",
       "\t<tr><td>Mar 03, 2021</td><td>50395.1</td><td>48,422.20</td><td>52,567.90</td><td>48,159.20</td><td>44.93K </td><td>4.07% </td></tr>\n",
       "\t<tr><td>Mar 04, 2021</td><td>48428.0</td><td>50,388.00</td><td>51,757.70</td><td>47,521.80</td><td>9.56K  </td><td>-3.90%</td></tr>\n",
       "\t<tr><td>Mar 05, 2021</td><td>48792.5</td><td>48,363.60</td><td>49,429.40</td><td>46,370.10</td><td>113.64K</td><td>0.75% </td></tr>\n",
       "\t<tr><td>Mar 06, 2021</td><td>48855.6</td><td>48,798.70</td><td>49,191.80</td><td>47,132.80</td><td>66.66K </td><td>0.13% </td></tr>\n",
       "\t<tr><td>Mar 07, 2021</td><td>50982.3</td><td>48,899.00</td><td>51,434.10</td><td>48,890.60</td><td>82.91K </td><td>4.35% </td></tr>\n",
       "\t<tr><td>Mar 08, 2021</td><td>52311.0</td><td>50,988.90</td><td>52,384.90</td><td>49,338.10</td><td>68.14K </td><td>2.61% </td></tr>\n",
       "\t<tr><td>Mar 09, 2021</td><td>54879.0</td><td>52,352.40</td><td>54,880.60</td><td>51,941.30</td><td>114.06K</td><td>4.91% </td></tr>\n",
       "\t<tr><td>Mar 10, 2021</td><td>55851.9</td><td>54,882.70</td><td>57,328.70</td><td>53,073.60</td><td>140.96K</td><td>1.77% </td></tr>\n",
       "\t<tr><td>Mar 11, 2021</td><td>57799.5</td><td>55,851.20</td><td>58,135.00</td><td>54,351.80</td><td>129.63K</td><td>3.49% </td></tr>\n",
       "\t<tr><td>Mar 12, 2021</td><td>57265.1</td><td>57,806.20</td><td>58,052.30</td><td>55,134.50</td><td>116.96K</td><td>-0.92%</td></tr>\n",
       "\t<tr><td>Mar 13, 2021</td><td>61195.3</td><td>57,267.40</td><td>61,795.80</td><td>56,118.80</td><td>134.64K</td><td>6.86% </td></tr>\n",
       "\t<tr><td>Mar 14, 2021</td><td>59113.7</td><td>61,192.70</td><td>61,673.70</td><td>59,113.70</td><td>80.29K </td><td>-3.40%</td></tr>\n",
       "\t<tr><td>Mar 15, 2021</td><td>55791.3</td><td>59,117.40</td><td>60,565.90</td><td>55,088.80</td><td>117.71K</td><td>-5.62%</td></tr>\n",
       "\t<tr><td>Mar 16, 2021</td><td>56889.7</td><td>55,619.50</td><td>56,889.70</td><td>53,342.60</td><td>128.51K</td><td>1.97% </td></tr>\n",
       "\t<tr><td>Mar 17, 2021</td><td>58913.5</td><td>56,892.90</td><td>58,933.20</td><td>54,253.20</td><td>118.26K</td><td>3.56% </td></tr>\n",
       "</tbody>\n",
       "</table>\n"
      ],
      "text/latex": [
       "A data.frame: 1097 × 7\n",
       "\\begin{tabular}{lllllll}\n",
       " ï..Date & Price & Open & High & Low & Vol. & Change..\\\\\n",
       " <chr> & <dbl> & <chr> & <chr> & <chr> & <chr> & <chr>\\\\\n",
       "\\hline\n",
       "\t Mar 17, 2018 & 7874.9 & 8,198.00 & 8,344.80 & 7,760.20 & 208.05K & -5.00\\% \\\\\n",
       "\t Mar 18, 2018 & 8201.2 & 7,873.20 & 8,283.60 & 7,323.30 & 348.02K & 4.14\\%  \\\\\n",
       "\t Mar 19, 2018 & 8616.8 & 8,200.90 & 8,698.30 & 8,127.70 & 316.96K & 5.07\\%  \\\\\n",
       "\t Mar 20, 2018 & 8912.6 & 8,614.10 & 9,039.60 & 8,326.80 & 253.44K & 3.43\\%  \\\\\n",
       "\t Mar 21, 2018 & 8905.9 & 8,912.40 & 9,173.40 & 8,775.10 & 218.19K & -0.08\\% \\\\\n",
       "\t Mar 22, 2018 & 8726.2 & 8,903.70 & 9,096.20 & 8,499.10 & 223.01K & -2.02\\% \\\\\n",
       "\t Mar 23, 2018 & 8916.8 & 8,725.30 & 8,917.00 & 8,305.60 & 210.11K & 2.18\\%  \\\\\n",
       "\t Mar 24, 2018 & 8547.4 & 8,917.30 & 9,008.80 & 8,523.60 & 177.43K & -4.14\\% \\\\\n",
       "\t Mar 25, 2018 & 8473.2 & 8,549.10 & 8,679.00 & 8,392.20 & 149.52K & -0.87\\% \\\\\n",
       "\t Mar 26, 2018 & 8143.5 & 8,474.00 & 8,515.70 & 7,865.90 & 247.18K & -3.89\\% \\\\\n",
       "\t Mar 27, 2018 & 7801.7 & 8,146.50 & 8,218.30 & 7,760.60 & 223.10K & -4.20\\% \\\\\n",
       "\t Mar 28, 2018 & 7954.9 & 7,803.00 & 8,110.40 & 7,754.50 & 167.36K & 1.96\\%  \\\\\n",
       "\t Mar 29, 2018 & 7129.2 & 7,955.20 & 7,980.70 & 6,954.90 & 348.75K & -10.38\\%\\\\\n",
       "\t Mar 30, 2018 & 6853.7 & 7,132.40 & 7,288.10 & 6,603.80 & 417.31K & -3.86\\% \\\\\n",
       "\t Mar 31, 2018 & 6938.2 & 6,856.50 & 7,221.50 & 6,804.90 & 245.30K & 1.23\\%  \\\\\n",
       "\t Apr 01, 2018 & 6825.2 & 6,939.10 & 7,047.70 & 6,460.10 & 257.53K & -1.63\\% \\\\\n",
       "\t Apr 02, 2018 & 7068.4 & 6,825.40 & 7,121.30 & 6,787.60 & 199.31K & 3.56\\%  \\\\\n",
       "\t Apr 03, 2018 & 7424.2 & 7,067.20 & 7,519.30 & 7,032.90 & 230.80K & 5.03\\%  \\\\\n",
       "\t Apr 04, 2018 & 6808.9 & 7,423.80 & 7,432.90 & 6,726.90 & 239.51K & -8.29\\% \\\\\n",
       "\t Apr 05, 2018 & 6782.0 & 6,808.70 & 6,918.20 & 6,592.50 & 221.70K & -0.40\\% \\\\\n",
       "\t Apr 06, 2018 & 6624.3 & 6,783.70 & 6,859.70 & 6,523.40 & 174.90K & -2.33\\% \\\\\n",
       "\t Apr 07, 2018 & 6905.7 & 6,624.50 & 7,071.90 & 6,616.10 & 177.10K & 4.25\\%  \\\\\n",
       "\t Apr 08, 2018 & 7030.5 & 6,905.90 & 7,113.40 & 6,903.90 & 132.51K & 1.81\\%  \\\\\n",
       "\t Apr 09, 2018 & 6781.9 & 7,035.70 & 7,192.50 & 6,633.20 & 241.19K & -3.54\\% \\\\\n",
       "\t Apr 10, 2018 & 6854.8 & 6,782.60 & 6,899.50 & 6,671.60 & 134.23K & 1.08\\%  \\\\\n",
       "\t Apr 11, 2018 & 6962.1 & 6,855.60 & 6,988.60 & 6,818.40 & 142.07K & 1.56\\%  \\\\\n",
       "\t Apr 12, 2018 & 7926.6 & 6,963.30 & 8,009.60 & 6,779.30 & 398.30K & 13.85\\% \\\\\n",
       "\t Apr 13, 2018 & 7887.4 & 7,926.90 & 8,228.00 & 7,756.60 & 296.95K & -0.49\\% \\\\\n",
       "\t Apr 14, 2018 & 8004.4 & 7,891.10 & 8,180.20 & 7,839.30 & 164.71K & 1.48\\%  \\\\\n",
       "\t Apr 15, 2018 & 8363.6 & 8,004.60 & 8,411.50 & 8,004.60 & 160.26K & 4.49\\%  \\\\\n",
       "\t ... & ... & ... & ... & ... & ... & ...\\\\\n",
       "\t Feb 16, 2021 & 49169.7 & 47,934.20 & 50,515.80 & 47,044.40 & 141.37K & 2.57\\% \\\\\n",
       "\t Feb 17, 2021 & 52079.2 & 49,161.30 & 52,577.70 & 49,018.10 & 140.03K & 5.92\\% \\\\\n",
       "\t Feb 18, 2021 & 51582.2 & 52,094.50 & 52,524.00 & 50,941.60 & 94.35K  & -0.95\\%\\\\\n",
       "\t Feb 19, 2021 & 55906.6 & 51,590.10 & 56,238.50 & 50,816.80 & 139.43K & 8.38\\% \\\\\n",
       "\t Feb 20, 2021 & 55923.7 & 55,922.00 & 57,523.80 & 54,124.10 & 127.85K & 0.03\\% \\\\\n",
       "\t Feb 21, 2021 & 57433.8 & 55,907.60 & 58,335.10 & 55,502.70 & 87.26K  & 2.70\\% \\\\\n",
       "\t Feb 22, 2021 & 54111.8 & 57,437.60 & 57,480.80 & 48,353.80 & 244.95K & -5.78\\%\\\\\n",
       "\t Feb 23, 2021 & 48911.2 & 54,114.10 & 54,115.00 & 45,093.80 & 315.07K & -9.61\\%\\\\\n",
       "\t Feb 24, 2021 & 49697.5 & 48,911.10 & 51,311.80 & 47,031.70 & 153.75K & 1.61\\% \\\\\n",
       "\t Feb 25, 2021 & 46928.5 & 49,695.90 & 52,013.80 & 46,773.70 & 83.22K  & -5.57\\%\\\\\n",
       "\t Feb 26, 2021 & 46345.6 & 46,928.50 & 48,413.90 & 44,248.20 & 189.41K & -1.24\\%\\\\\n",
       "\t Feb 27, 2021 & 46136.7 & 46,333.10 & 48,335.10 & 45,059.40 & 98.75K  & -0.45\\%\\\\\n",
       "\t Feb 28, 2021 & 45164.0 & 46,136.00 & 46,582.00 & 43,100.60 & 135.08K & -2.11\\%\\\\\n",
       "\t Mar 01, 2021 & 49595.5 & 45,160.50 & 49,774.00 & 45,008.80 & 137.52K & 9.81\\% \\\\\n",
       "\t Mar 02, 2021 & 48424.2 & 49,595.60 & 50,191.90 & 47,100.60 & 102.10K & -2.36\\%\\\\\n",
       "\t Mar 03, 2021 & 50395.1 & 48,422.20 & 52,567.90 & 48,159.20 & 44.93K  & 4.07\\% \\\\\n",
       "\t Mar 04, 2021 & 48428.0 & 50,388.00 & 51,757.70 & 47,521.80 & 9.56K   & -3.90\\%\\\\\n",
       "\t Mar 05, 2021 & 48792.5 & 48,363.60 & 49,429.40 & 46,370.10 & 113.64K & 0.75\\% \\\\\n",
       "\t Mar 06, 2021 & 48855.6 & 48,798.70 & 49,191.80 & 47,132.80 & 66.66K  & 0.13\\% \\\\\n",
       "\t Mar 07, 2021 & 50982.3 & 48,899.00 & 51,434.10 & 48,890.60 & 82.91K  & 4.35\\% \\\\\n",
       "\t Mar 08, 2021 & 52311.0 & 50,988.90 & 52,384.90 & 49,338.10 & 68.14K  & 2.61\\% \\\\\n",
       "\t Mar 09, 2021 & 54879.0 & 52,352.40 & 54,880.60 & 51,941.30 & 114.06K & 4.91\\% \\\\\n",
       "\t Mar 10, 2021 & 55851.9 & 54,882.70 & 57,328.70 & 53,073.60 & 140.96K & 1.77\\% \\\\\n",
       "\t Mar 11, 2021 & 57799.5 & 55,851.20 & 58,135.00 & 54,351.80 & 129.63K & 3.49\\% \\\\\n",
       "\t Mar 12, 2021 & 57265.1 & 57,806.20 & 58,052.30 & 55,134.50 & 116.96K & -0.92\\%\\\\\n",
       "\t Mar 13, 2021 & 61195.3 & 57,267.40 & 61,795.80 & 56,118.80 & 134.64K & 6.86\\% \\\\\n",
       "\t Mar 14, 2021 & 59113.7 & 61,192.70 & 61,673.70 & 59,113.70 & 80.29K  & -3.40\\%\\\\\n",
       "\t Mar 15, 2021 & 55791.3 & 59,117.40 & 60,565.90 & 55,088.80 & 117.71K & -5.62\\%\\\\\n",
       "\t Mar 16, 2021 & 56889.7 & 55,619.50 & 56,889.70 & 53,342.60 & 128.51K & 1.97\\% \\\\\n",
       "\t Mar 17, 2021 & 58913.5 & 56,892.90 & 58,933.20 & 54,253.20 & 118.26K & 3.56\\% \\\\\n",
       "\\end{tabular}\n"
      ],
      "text/markdown": [
       "\n",
       "A data.frame: 1097 × 7\n",
       "\n",
       "| ï..Date &lt;chr&gt; | Price &lt;dbl&gt; | Open &lt;chr&gt; | High &lt;chr&gt; | Low &lt;chr&gt; | Vol. &lt;chr&gt; | Change.. &lt;chr&gt; |\n",
       "|---|---|---|---|---|---|---|\n",
       "| Mar 17, 2018 | 7874.9 | 8,198.00 | 8,344.80 | 7,760.20 | 208.05K | -5.00%  |\n",
       "| Mar 18, 2018 | 8201.2 | 7,873.20 | 8,283.60 | 7,323.30 | 348.02K | 4.14%   |\n",
       "| Mar 19, 2018 | 8616.8 | 8,200.90 | 8,698.30 | 8,127.70 | 316.96K | 5.07%   |\n",
       "| Mar 20, 2018 | 8912.6 | 8,614.10 | 9,039.60 | 8,326.80 | 253.44K | 3.43%   |\n",
       "| Mar 21, 2018 | 8905.9 | 8,912.40 | 9,173.40 | 8,775.10 | 218.19K | -0.08%  |\n",
       "| Mar 22, 2018 | 8726.2 | 8,903.70 | 9,096.20 | 8,499.10 | 223.01K | -2.02%  |\n",
       "| Mar 23, 2018 | 8916.8 | 8,725.30 | 8,917.00 | 8,305.60 | 210.11K | 2.18%   |\n",
       "| Mar 24, 2018 | 8547.4 | 8,917.30 | 9,008.80 | 8,523.60 | 177.43K | -4.14%  |\n",
       "| Mar 25, 2018 | 8473.2 | 8,549.10 | 8,679.00 | 8,392.20 | 149.52K | -0.87%  |\n",
       "| Mar 26, 2018 | 8143.5 | 8,474.00 | 8,515.70 | 7,865.90 | 247.18K | -3.89%  |\n",
       "| Mar 27, 2018 | 7801.7 | 8,146.50 | 8,218.30 | 7,760.60 | 223.10K | -4.20%  |\n",
       "| Mar 28, 2018 | 7954.9 | 7,803.00 | 8,110.40 | 7,754.50 | 167.36K | 1.96%   |\n",
       "| Mar 29, 2018 | 7129.2 | 7,955.20 | 7,980.70 | 6,954.90 | 348.75K | -10.38% |\n",
       "| Mar 30, 2018 | 6853.7 | 7,132.40 | 7,288.10 | 6,603.80 | 417.31K | -3.86%  |\n",
       "| Mar 31, 2018 | 6938.2 | 6,856.50 | 7,221.50 | 6,804.90 | 245.30K | 1.23%   |\n",
       "| Apr 01, 2018 | 6825.2 | 6,939.10 | 7,047.70 | 6,460.10 | 257.53K | -1.63%  |\n",
       "| Apr 02, 2018 | 7068.4 | 6,825.40 | 7,121.30 | 6,787.60 | 199.31K | 3.56%   |\n",
       "| Apr 03, 2018 | 7424.2 | 7,067.20 | 7,519.30 | 7,032.90 | 230.80K | 5.03%   |\n",
       "| Apr 04, 2018 | 6808.9 | 7,423.80 | 7,432.90 | 6,726.90 | 239.51K | -8.29%  |\n",
       "| Apr 05, 2018 | 6782.0 | 6,808.70 | 6,918.20 | 6,592.50 | 221.70K | -0.40%  |\n",
       "| Apr 06, 2018 | 6624.3 | 6,783.70 | 6,859.70 | 6,523.40 | 174.90K | -2.33%  |\n",
       "| Apr 07, 2018 | 6905.7 | 6,624.50 | 7,071.90 | 6,616.10 | 177.10K | 4.25%   |\n",
       "| Apr 08, 2018 | 7030.5 | 6,905.90 | 7,113.40 | 6,903.90 | 132.51K | 1.81%   |\n",
       "| Apr 09, 2018 | 6781.9 | 7,035.70 | 7,192.50 | 6,633.20 | 241.19K | -3.54%  |\n",
       "| Apr 10, 2018 | 6854.8 | 6,782.60 | 6,899.50 | 6,671.60 | 134.23K | 1.08%   |\n",
       "| Apr 11, 2018 | 6962.1 | 6,855.60 | 6,988.60 | 6,818.40 | 142.07K | 1.56%   |\n",
       "| Apr 12, 2018 | 7926.6 | 6,963.30 | 8,009.60 | 6,779.30 | 398.30K | 13.85%  |\n",
       "| Apr 13, 2018 | 7887.4 | 7,926.90 | 8,228.00 | 7,756.60 | 296.95K | -0.49%  |\n",
       "| Apr 14, 2018 | 8004.4 | 7,891.10 | 8,180.20 | 7,839.30 | 164.71K | 1.48%   |\n",
       "| Apr 15, 2018 | 8363.6 | 8,004.60 | 8,411.50 | 8,004.60 | 160.26K | 4.49%   |\n",
       "| ... | ... | ... | ... | ... | ... | ... |\n",
       "| Feb 16, 2021 | 49169.7 | 47,934.20 | 50,515.80 | 47,044.40 | 141.37K | 2.57%  |\n",
       "| Feb 17, 2021 | 52079.2 | 49,161.30 | 52,577.70 | 49,018.10 | 140.03K | 5.92%  |\n",
       "| Feb 18, 2021 | 51582.2 | 52,094.50 | 52,524.00 | 50,941.60 | 94.35K  | -0.95% |\n",
       "| Feb 19, 2021 | 55906.6 | 51,590.10 | 56,238.50 | 50,816.80 | 139.43K | 8.38%  |\n",
       "| Feb 20, 2021 | 55923.7 | 55,922.00 | 57,523.80 | 54,124.10 | 127.85K | 0.03%  |\n",
       "| Feb 21, 2021 | 57433.8 | 55,907.60 | 58,335.10 | 55,502.70 | 87.26K  | 2.70%  |\n",
       "| Feb 22, 2021 | 54111.8 | 57,437.60 | 57,480.80 | 48,353.80 | 244.95K | -5.78% |\n",
       "| Feb 23, 2021 | 48911.2 | 54,114.10 | 54,115.00 | 45,093.80 | 315.07K | -9.61% |\n",
       "| Feb 24, 2021 | 49697.5 | 48,911.10 | 51,311.80 | 47,031.70 | 153.75K | 1.61%  |\n",
       "| Feb 25, 2021 | 46928.5 | 49,695.90 | 52,013.80 | 46,773.70 | 83.22K  | -5.57% |\n",
       "| Feb 26, 2021 | 46345.6 | 46,928.50 | 48,413.90 | 44,248.20 | 189.41K | -1.24% |\n",
       "| Feb 27, 2021 | 46136.7 | 46,333.10 | 48,335.10 | 45,059.40 | 98.75K  | -0.45% |\n",
       "| Feb 28, 2021 | 45164.0 | 46,136.00 | 46,582.00 | 43,100.60 | 135.08K | -2.11% |\n",
       "| Mar 01, 2021 | 49595.5 | 45,160.50 | 49,774.00 | 45,008.80 | 137.52K | 9.81%  |\n",
       "| Mar 02, 2021 | 48424.2 | 49,595.60 | 50,191.90 | 47,100.60 | 102.10K | -2.36% |\n",
       "| Mar 03, 2021 | 50395.1 | 48,422.20 | 52,567.90 | 48,159.20 | 44.93K  | 4.07%  |\n",
       "| Mar 04, 2021 | 48428.0 | 50,388.00 | 51,757.70 | 47,521.80 | 9.56K   | -3.90% |\n",
       "| Mar 05, 2021 | 48792.5 | 48,363.60 | 49,429.40 | 46,370.10 | 113.64K | 0.75%  |\n",
       "| Mar 06, 2021 | 48855.6 | 48,798.70 | 49,191.80 | 47,132.80 | 66.66K  | 0.13%  |\n",
       "| Mar 07, 2021 | 50982.3 | 48,899.00 | 51,434.10 | 48,890.60 | 82.91K  | 4.35%  |\n",
       "| Mar 08, 2021 | 52311.0 | 50,988.90 | 52,384.90 | 49,338.10 | 68.14K  | 2.61%  |\n",
       "| Mar 09, 2021 | 54879.0 | 52,352.40 | 54,880.60 | 51,941.30 | 114.06K | 4.91%  |\n",
       "| Mar 10, 2021 | 55851.9 | 54,882.70 | 57,328.70 | 53,073.60 | 140.96K | 1.77%  |\n",
       "| Mar 11, 2021 | 57799.5 | 55,851.20 | 58,135.00 | 54,351.80 | 129.63K | 3.49%  |\n",
       "| Mar 12, 2021 | 57265.1 | 57,806.20 | 58,052.30 | 55,134.50 | 116.96K | -0.92% |\n",
       "| Mar 13, 2021 | 61195.3 | 57,267.40 | 61,795.80 | 56,118.80 | 134.64K | 6.86%  |\n",
       "| Mar 14, 2021 | 59113.7 | 61,192.70 | 61,673.70 | 59,113.70 | 80.29K  | -3.40% |\n",
       "| Mar 15, 2021 | 55791.3 | 59,117.40 | 60,565.90 | 55,088.80 | 117.71K | -5.62% |\n",
       "| Mar 16, 2021 | 56889.7 | 55,619.50 | 56,889.70 | 53,342.60 | 128.51K | 1.97%  |\n",
       "| Mar 17, 2021 | 58913.5 | 56,892.90 | 58,933.20 | 54,253.20 | 118.26K | 3.56%  |\n",
       "\n"
      ],
      "text/plain": [
       "     ï..Date      Price   Open      High      Low       Vol.    Change..\n",
       "1    Mar 17, 2018 7874.9  8,198.00  8,344.80  7,760.20  208.05K -5.00%  \n",
       "2    Mar 18, 2018 8201.2  7,873.20  8,283.60  7,323.30  348.02K 4.14%   \n",
       "3    Mar 19, 2018 8616.8  8,200.90  8,698.30  8,127.70  316.96K 5.07%   \n",
       "4    Mar 20, 2018 8912.6  8,614.10  9,039.60  8,326.80  253.44K 3.43%   \n",
       "5    Mar 21, 2018 8905.9  8,912.40  9,173.40  8,775.10  218.19K -0.08%  \n",
       "6    Mar 22, 2018 8726.2  8,903.70  9,096.20  8,499.10  223.01K -2.02%  \n",
       "7    Mar 23, 2018 8916.8  8,725.30  8,917.00  8,305.60  210.11K 2.18%   \n",
       "8    Mar 24, 2018 8547.4  8,917.30  9,008.80  8,523.60  177.43K -4.14%  \n",
       "9    Mar 25, 2018 8473.2  8,549.10  8,679.00  8,392.20  149.52K -0.87%  \n",
       "10   Mar 26, 2018 8143.5  8,474.00  8,515.70  7,865.90  247.18K -3.89%  \n",
       "11   Mar 27, 2018 7801.7  8,146.50  8,218.30  7,760.60  223.10K -4.20%  \n",
       "12   Mar 28, 2018 7954.9  7,803.00  8,110.40  7,754.50  167.36K 1.96%   \n",
       "13   Mar 29, 2018 7129.2  7,955.20  7,980.70  6,954.90  348.75K -10.38% \n",
       "14   Mar 30, 2018 6853.7  7,132.40  7,288.10  6,603.80  417.31K -3.86%  \n",
       "15   Mar 31, 2018 6938.2  6,856.50  7,221.50  6,804.90  245.30K 1.23%   \n",
       "16   Apr 01, 2018 6825.2  6,939.10  7,047.70  6,460.10  257.53K -1.63%  \n",
       "17   Apr 02, 2018 7068.4  6,825.40  7,121.30  6,787.60  199.31K 3.56%   \n",
       "18   Apr 03, 2018 7424.2  7,067.20  7,519.30  7,032.90  230.80K 5.03%   \n",
       "19   Apr 04, 2018 6808.9  7,423.80  7,432.90  6,726.90  239.51K -8.29%  \n",
       "20   Apr 05, 2018 6782.0  6,808.70  6,918.20  6,592.50  221.70K -0.40%  \n",
       "21   Apr 06, 2018 6624.3  6,783.70  6,859.70  6,523.40  174.90K -2.33%  \n",
       "22   Apr 07, 2018 6905.7  6,624.50  7,071.90  6,616.10  177.10K 4.25%   \n",
       "23   Apr 08, 2018 7030.5  6,905.90  7,113.40  6,903.90  132.51K 1.81%   \n",
       "24   Apr 09, 2018 6781.9  7,035.70  7,192.50  6,633.20  241.19K -3.54%  \n",
       "25   Apr 10, 2018 6854.8  6,782.60  6,899.50  6,671.60  134.23K 1.08%   \n",
       "26   Apr 11, 2018 6962.1  6,855.60  6,988.60  6,818.40  142.07K 1.56%   \n",
       "27   Apr 12, 2018 7926.6  6,963.30  8,009.60  6,779.30  398.30K 13.85%  \n",
       "28   Apr 13, 2018 7887.4  7,926.90  8,228.00  7,756.60  296.95K -0.49%  \n",
       "29   Apr 14, 2018 8004.4  7,891.10  8,180.20  7,839.30  164.71K 1.48%   \n",
       "30   Apr 15, 2018 8363.6  8,004.60  8,411.50  8,004.60  160.26K 4.49%   \n",
       "...  ...          ...     ...       ...       ...       ...     ...     \n",
       "1068 Feb 16, 2021 49169.7 47,934.20 50,515.80 47,044.40 141.37K 2.57%   \n",
       "1069 Feb 17, 2021 52079.2 49,161.30 52,577.70 49,018.10 140.03K 5.92%   \n",
       "1070 Feb 18, 2021 51582.2 52,094.50 52,524.00 50,941.60 94.35K  -0.95%  \n",
       "1071 Feb 19, 2021 55906.6 51,590.10 56,238.50 50,816.80 139.43K 8.38%   \n",
       "1072 Feb 20, 2021 55923.7 55,922.00 57,523.80 54,124.10 127.85K 0.03%   \n",
       "1073 Feb 21, 2021 57433.8 55,907.60 58,335.10 55,502.70 87.26K  2.70%   \n",
       "1074 Feb 22, 2021 54111.8 57,437.60 57,480.80 48,353.80 244.95K -5.78%  \n",
       "1075 Feb 23, 2021 48911.2 54,114.10 54,115.00 45,093.80 315.07K -9.61%  \n",
       "1076 Feb 24, 2021 49697.5 48,911.10 51,311.80 47,031.70 153.75K 1.61%   \n",
       "1077 Feb 25, 2021 46928.5 49,695.90 52,013.80 46,773.70 83.22K  -5.57%  \n",
       "1078 Feb 26, 2021 46345.6 46,928.50 48,413.90 44,248.20 189.41K -1.24%  \n",
       "1079 Feb 27, 2021 46136.7 46,333.10 48,335.10 45,059.40 98.75K  -0.45%  \n",
       "1080 Feb 28, 2021 45164.0 46,136.00 46,582.00 43,100.60 135.08K -2.11%  \n",
       "1081 Mar 01, 2021 49595.5 45,160.50 49,774.00 45,008.80 137.52K 9.81%   \n",
       "1082 Mar 02, 2021 48424.2 49,595.60 50,191.90 47,100.60 102.10K -2.36%  \n",
       "1083 Mar 03, 2021 50395.1 48,422.20 52,567.90 48,159.20 44.93K  4.07%   \n",
       "1084 Mar 04, 2021 48428.0 50,388.00 51,757.70 47,521.80 9.56K   -3.90%  \n",
       "1085 Mar 05, 2021 48792.5 48,363.60 49,429.40 46,370.10 113.64K 0.75%   \n",
       "1086 Mar 06, 2021 48855.6 48,798.70 49,191.80 47,132.80 66.66K  0.13%   \n",
       "1087 Mar 07, 2021 50982.3 48,899.00 51,434.10 48,890.60 82.91K  4.35%   \n",
       "1088 Mar 08, 2021 52311.0 50,988.90 52,384.90 49,338.10 68.14K  2.61%   \n",
       "1089 Mar 09, 2021 54879.0 52,352.40 54,880.60 51,941.30 114.06K 4.91%   \n",
       "1090 Mar 10, 2021 55851.9 54,882.70 57,328.70 53,073.60 140.96K 1.77%   \n",
       "1091 Mar 11, 2021 57799.5 55,851.20 58,135.00 54,351.80 129.63K 3.49%   \n",
       "1092 Mar 12, 2021 57265.1 57,806.20 58,052.30 55,134.50 116.96K -0.92%  \n",
       "1093 Mar 13, 2021 61195.3 57,267.40 61,795.80 56,118.80 134.64K 6.86%   \n",
       "1094 Mar 14, 2021 59113.7 61,192.70 61,673.70 59,113.70 80.29K  -3.40%  \n",
       "1095 Mar 15, 2021 55791.3 59,117.40 60,565.90 55,088.80 117.71K -5.62%  \n",
       "1096 Mar 16, 2021 56889.7 55,619.50 56,889.70 53,342.60 128.51K 1.97%   \n",
       "1097 Mar 17, 2021 58913.5 56,892.90 58,933.20 54,253.20 118.26K 3.56%   "
      ]
     },
     "metadata": {},
     "output_type": "display_data"
    }
   ],
   "source": [
    "transform(bc_order, Price = as.numeric(Price))"
   ]
  },
  {
   "cell_type": "markdown",
   "metadata": {},
   "source": [
    "**Convertir a serie**"
   ]
  },
  {
   "cell_type": "code",
   "execution_count": 4,
   "metadata": {},
   "outputs": [
    {
     "data": {
      "text/html": [
       "<style>\n",
       ".list-inline {list-style: none; margin:0; padding: 0}\n",
       ".list-inline>li {display: inline-block}\n",
       ".list-inline>li:not(:last-child)::after {content: \"\\00b7\"; padding: 0 .5ex}\n",
       "</style>\n",
       "<ol class=list-inline><li>7874.9</li><li>8201.2</li><li>8616.8</li><li>8912.6</li><li>8905.9</li><li>8726.2</li><li>8916.8</li><li>8547.4</li><li>8473.2</li><li>8143.5</li><li>7801.7</li><li>7954.9</li></ol>\n"
      ],
      "text/latex": [
       "\\begin{enumerate*}\n",
       "\\item 7874.9\n",
       "\\item 8201.2\n",
       "\\item 8616.8\n",
       "\\item 8912.6\n",
       "\\item 8905.9\n",
       "\\item 8726.2\n",
       "\\item 8916.8\n",
       "\\item 8547.4\n",
       "\\item 8473.2\n",
       "\\item 8143.5\n",
       "\\item 7801.7\n",
       "\\item 7954.9\n",
       "\\end{enumerate*}\n"
      ],
      "text/markdown": [
       "1. 7874.9\n",
       "2. 8201.2\n",
       "3. 8616.8\n",
       "4. 8912.6\n",
       "5. 8905.9\n",
       "6. 8726.2\n",
       "7. 8916.8\n",
       "8. 8547.4\n",
       "9. 8473.2\n",
       "10. 8143.5\n",
       "11. 7801.7\n",
       "12. 7954.9\n",
       "\n",
       "\n"
      ],
      "text/plain": [
       " [1] 7874.9 8201.2 8616.8 8912.6 8905.9 8726.2 8916.8 8547.4 8473.2 8143.5\n",
       "[11] 7801.7 7954.9"
      ]
     },
     "metadata": {},
     "output_type": "display_data"
    }
   ],
   "source": [
    "bc_l <- ts(as.numeric(bc_order[,2]), start =c(2018,3, 17), end = c(2021,3,17), frequency=365)\n",
    "head(bc_l, 12)"
   ]
  },
  {
   "cell_type": "markdown",
   "metadata": {},
   "source": [
    "**Análisis descriptivo**"
   ]
  },
  {
   "cell_type": "code",
   "execution_count": 5,
   "metadata": {},
   "outputs": [
    {
     "data": {
      "text/html": [
       "<style>\n",
       ".list-inline {list-style: none; margin:0; padding: 0}\n",
       ".list-inline>li {display: inline-block}\n",
       ".list-inline>li:not(:last-child)::after {content: \"\\00b7\"; padding: 0 .5ex}\n",
       "</style>\n",
       "<ol class=list-inline><li>2018</li><li>3</li></ol>\n"
      ],
      "text/latex": [
       "\\begin{enumerate*}\n",
       "\\item 2018\n",
       "\\item 3\n",
       "\\end{enumerate*}\n"
      ],
      "text/markdown": [
       "1. 2018\n",
       "2. 3\n",
       "\n",
       "\n"
      ],
      "text/plain": [
       "[1] 2018    3"
      ]
     },
     "metadata": {},
     "output_type": "display_data"
    },
    {
     "data": {
      "text/html": [
       "<style>\n",
       ".list-inline {list-style: none; margin:0; padding: 0}\n",
       ".list-inline>li {display: inline-block}\n",
       ".list-inline>li:not(:last-child)::after {content: \"\\00b7\"; padding: 0 .5ex}\n",
       "</style>\n",
       "<ol class=list-inline><li>2021</li><li>3</li></ol>\n"
      ],
      "text/latex": [
       "\\begin{enumerate*}\n",
       "\\item 2021\n",
       "\\item 3\n",
       "\\end{enumerate*}\n"
      ],
      "text/markdown": [
       "1. 2021\n",
       "2. 3\n",
       "\n",
       "\n"
      ],
      "text/plain": [
       "[1] 2021    3"
      ]
     },
     "metadata": {},
     "output_type": "display_data"
    },
    {
     "data": {
      "text/html": [
       "'ts'"
      ],
      "text/latex": [
       "'ts'"
      ],
      "text/markdown": [
       "'ts'"
      ],
      "text/plain": [
       "[1] \"ts\""
      ]
     },
     "metadata": {},
     "output_type": "display_data"
    },
    {
     "data": {
      "text/html": [
       "<style>\n",
       ".list-inline {list-style: none; margin:0; padding: 0}\n",
       ".list-inline>li {display: inline-block}\n",
       ".list-inline>li:not(:last-child)::after {content: \"\\00b7\"; padding: 0 .5ex}\n",
       "</style>\n",
       "<ol class=list-inline><li>2018.00547945205</li><li>2018.00821917808</li><li>2018.01095890411</li><li>2018.01369863014</li><li>2018.01643835616</li><li>2018.01917808219</li><li>2018.02191780822</li><li>2018.02465753425</li><li>2018.02739726027</li><li>2018.0301369863</li><li>2018.03287671233</li><li>2018.03561643836</li></ol>\n"
      ],
      "text/latex": [
       "\\begin{enumerate*}\n",
       "\\item 2018.00547945205\n",
       "\\item 2018.00821917808\n",
       "\\item 2018.01095890411\n",
       "\\item 2018.01369863014\n",
       "\\item 2018.01643835616\n",
       "\\item 2018.01917808219\n",
       "\\item 2018.02191780822\n",
       "\\item 2018.02465753425\n",
       "\\item 2018.02739726027\n",
       "\\item 2018.0301369863\n",
       "\\item 2018.03287671233\n",
       "\\item 2018.03561643836\n",
       "\\end{enumerate*}\n"
      ],
      "text/markdown": [
       "1. 2018.00547945205\n",
       "2. 2018.00821917808\n",
       "3. 2018.01095890411\n",
       "4. 2018.01369863014\n",
       "5. 2018.01643835616\n",
       "6. 2018.01917808219\n",
       "7. 2018.02191780822\n",
       "8. 2018.02465753425\n",
       "9. 2018.02739726027\n",
       "10. 2018.0301369863\n",
       "11. 2018.03287671233\n",
       "12. 2018.03561643836\n",
       "\n",
       "\n"
      ],
      "text/plain": [
       " [1] 2018.005 2018.008 2018.011 2018.014 2018.016 2018.019 2018.022 2018.025\n",
       " [9] 2018.027 2018.030 2018.033 2018.036"
      ]
     },
     "metadata": {},
     "output_type": "display_data"
    }
   ],
   "source": [
    "start(bc_l)\n",
    "end(bc_l)\n",
    "class(bc_l)\n",
    "head(time(bc_l),12)"
   ]
  },
  {
   "cell_type": "code",
   "execution_count": 6,
   "metadata": {},
   "outputs": [
    {
     "data": {
      "image/png": "[encoded data removed]",
      "text/plain": [
       "plot without title"
      ]
     },
     "metadata": {
      "image/png": {
       "height": 420,
       "width": 420
      }
     },
     "output_type": "display_data"
    }
   ],
   "source": [
    "plot(bc_l)"
   ]
  },
  {
   "cell_type": "markdown",
   "metadata": {},
   "source": [
    "### Clasificación"
   ]
  },
  {
   "cell_type": "markdown",
   "metadata": {},
   "source": [
    "**Tendencia lineal**"
   ]
  },
  {
   "cell_type": "markdown",
   "metadata": {},
   "source": [
    "**HO:** B1 igual a 0.\n",
    "\n",
    "**Ha:** B1 diferente de 0.\n",
    "\n",
    "alfa=0.05"
   ]
  },
  {
   "cell_type": "code",
   "execution_count": 7,
   "metadata": {},
   "outputs": [],
   "source": [
    "tend<-lm(bc_l~time(bc_l), data=bc_l)"
   ]
  },
  {
   "cell_type": "code",
   "execution_count": 8,
   "metadata": {},
   "outputs": [
    {
     "data": {
      "text/plain": [
       "\n",
       "Call:\n",
       "lm(formula = bc_l ~ time(bc_l), data = bc_l)\n",
       "\n",
       "Residuals:\n",
       "   Min     1Q Median     3Q    Max \n",
       " -9347  -5042  -2317   2414  40265 \n",
       "\n",
       "Coefficients:\n",
       "              Estimate Std. Error t value Pr(>|t|)    \n",
       "(Intercept) -1.360e+07  5.455e+05  -24.93   <2e-16 ***\n",
       "time(bc_l)   6.739e+03  2.701e+02   24.95   <2e-16 ***\n",
       "---\n",
       "Signif. codes:  0 '***' 0.001 '**' 0.01 '*' 0.05 '.' 0.1 ' ' 1\n",
       "\n",
       "Residual standard error: 7752 on 1094 degrees of freedom\n",
       "Multiple R-squared:  0.3626,\tAdjusted R-squared:  0.362 \n",
       "F-statistic: 622.3 on 1 and 1094 DF,  p-value: < 2.2e-16\n"
      ]
     },
     "metadata": {},
     "output_type": "display_data"
    }
   ],
   "source": [
    "summary(tend)"
   ]
  },
  {
   "cell_type": "markdown",
   "metadata": {},
   "source": [
    "*Modelo estimado*"
   ]
  },
  {
   "cell_type": "code",
   "execution_count": null,
   "metadata": {},
   "outputs": [],
   "source": []
  },
  {
   "cell_type": "markdown",
   "metadata": {},
   "source": [
    "* **p-valor:** 2.2e^-16\n",
    "* **R^2 ajustada:** 0.362 por lo que se ajusta al modelo lineal lo suficiente.\n",
    "* **Conclusión:** Se rechazo Ho, dado que el p-valor muy pequeño y menor que alfa. Por lo que si hay relación entre las variables y existe tendencia lineal."
   ]
  },
  {
   "cell_type": "markdown",
   "metadata": {},
   "source": [
    "**Modelo de tendencia logarítmica**"
   ]
  },
  {
   "cell_type": "markdown",
   "metadata": {},
   "source": [
    "**HO:** B1 igual a 0.\n",
    "\n",
    "**Ha:** B1 diferente de 0.\n",
    "\n",
    "alfa=0.05"
   ]
  },
  {
   "cell_type": "code",
   "execution_count": 9,
   "metadata": {},
   "outputs": [
    {
     "data": {
      "text/plain": [
       "\n",
       "Call:\n",
       "lm(formula = bc_l ~ logtime)\n",
       "\n",
       "Residuals:\n",
       "   Min     1Q Median     3Q    Max \n",
       " -9347  -5043  -2318   2413  40270 \n",
       "\n",
       "Coefficients:\n",
       "              Estimate Std. Error t value Pr(>|t|)    \n",
       "(Intercept) -103544142    4152211  -24.94   <2e-16 ***\n",
       "logtime       13606669     545582   24.94   <2e-16 ***\n",
       "---\n",
       "Signif. codes:  0 '***' 0.001 '**' 0.01 '*' 0.05 '.' 0.1 ' ' 1\n",
       "\n",
       "Residual standard error: 7753 on 1094 degrees of freedom\n",
       "Multiple R-squared:  0.3625,\tAdjusted R-squared:  0.3619 \n",
       "F-statistic:   622 on 1 and 1094 DF,  p-value: < 2.2e-16\n"
      ]
     },
     "metadata": {},
     "output_type": "display_data"
    }
   ],
   "source": [
    "logtime <-log(time(bc_l))\n",
    "tlog<-lm(bc_l~logtime)\n",
    "summary(tlog)"
   ]
  },
  {
   "cell_type": "markdown",
   "metadata": {},
   "source": [
    "* **p-valor:** 2.2^-16\n",
    "* **R^2 ajustada:** 0.3619, por lo que se ajusta al modelo logarítico lo suficiente.\n",
    "* **MSE:** \n",
    "* **Conclusión:** Se rechazo Ho, dado que el p-valor muy pequeño y menor que alfa. Por lo que si hay relación entre las variables y existe tendencia logaritmica."
   ]
  },
  {
   "cell_type": "markdown",
   "metadata": {},
   "source": [
    "*Modelo estimado*"
   ]
  },
  {
   "cell_type": "code",
   "execution_count": null,
   "metadata": {},
   "outputs": [],
   "source": []
  },
  {
   "cell_type": "markdown",
   "metadata": {},
   "source": [
    "**Modelo de tendencia polinómica**"
   ]
  },
  {
   "cell_type": "markdown",
   "metadata": {},
   "source": [
    "**HO:** B1 igual a 0.\n",
    "\n",
    "**Ha:** B1 diferente de 0.\n",
    "\n",
    "alfa=0.05"
   ]
  },
  {
   "cell_type": "code",
   "execution_count": 10,
   "metadata": {},
   "outputs": [
    {
     "data": {
      "text/plain": [
       "\n",
       "Call:\n",
       "lm(formula = bc_l ~ poly(tc, degree = 3))\n",
       "\n",
       "Residuals:\n",
       "    Min      1Q  Median      3Q     Max \n",
       "-8979.3 -3040.5  -456.3  3255.1 19800.8 \n",
       "\n",
       "Coefficients:\n",
       "                      Estimate Std. Error t value Pr(>|t|)    \n",
       "(Intercept)            10877.1      135.9   80.04   <2e-16 ***\n",
       "poly(tc, degree = 3)1 193380.9     4499.0   42.98   <2e-16 ***\n",
       "poly(tc, degree = 3)2 172963.7     4499.0   38.45   <2e-16 ***\n",
       "poly(tc, degree = 3)3 117132.8     4499.0   26.04   <2e-16 ***\n",
       "---\n",
       "Signif. codes:  0 '***' 0.001 '**' 0.01 '*' 0.05 '.' 0.1 ' ' 1\n",
       "\n",
       "Residual standard error: 4499 on 1092 degrees of freedom\n",
       "Multiple R-squared:  0.7857,\tAdjusted R-squared:  0.7851 \n",
       "F-statistic:  1334 on 3 and 1092 DF,  p-value: < 2.2e-16\n"
      ]
     },
     "metadata": {},
     "output_type": "display_data"
    }
   ],
   "source": [
    "tc<-as.numeric(time(bc_l))\n",
    "tenc<-lm(bc_l~poly(tc, degree=3))\n",
    "summary(tenc)"
   ]
  },
  {
   "cell_type": "markdown",
   "metadata": {},
   "source": [
    "* **p-valor:** 2.2e^-16,\n",
    "* **R^2 ajustada:** 0.7851, por lo que se ajusta al modelo de tendencia polinómica de buena manera.\n",
    "* **MSE:** \n",
    "* **Conclusión:** Se rechazo Ho, dado que el p-valor es muy pequeño y menor que alfa. Por lo que si hay relación entre las variables por el modelo de tendencia polinómica cubica."
   ]
  },
  {
   "cell_type": "markdown",
   "metadata": {},
   "source": [
    "**Modelo de tendencia exponencial**"
   ]
  },
  {
   "cell_type": "markdown",
   "metadata": {},
   "source": [
    "**HO:** B1 igual a 0.\n",
    "\n",
    "**Ha:** B1 diferente de 0.\n",
    "\n",
    "alfa=0.05"
   ]
  },
  {
   "cell_type": "code",
   "execution_count": 11,
   "metadata": {},
   "outputs": [
    {
     "data": {
      "text/plain": [
       "\n",
       "Call:\n",
       "lm(formula = logPrice ~ time(bc_l))\n",
       "\n",
       "Residuals:\n",
       "     Min       1Q   Median       3Q      Max \n",
       "-0.82613 -0.30519 -0.07241  0.23177  1.25253 \n",
       "\n",
       "Coefficients:\n",
       "              Estimate Std. Error t value Pr(>|t|)    \n",
       "(Intercept) -920.16096   29.43740  -31.26   <2e-16 ***\n",
       "time(bc_l)     0.46013    0.01458   31.57   <2e-16 ***\n",
       "---\n",
       "Signif. codes:  0 '***' 0.001 '**' 0.01 '*' 0.05 '.' 0.1 ' ' 1\n",
       "\n",
       "Residual standard error: 0.4183 on 1094 degrees of freedom\n",
       "Multiple R-squared:  0.4767,\tAdjusted R-squared:  0.4762 \n",
       "F-statistic: 996.5 on 1 and 1094 DF,  p-value: < 2.2e-16\n"
      ]
     },
     "metadata": {},
     "output_type": "display_data"
    }
   ],
   "source": [
    "logPrice <- log(bc_l)\n",
    "te <- lm(logPrice~time(bc_l))\n",
    "summary(te)"
   ]
  },
  {
   "cell_type": "markdown",
   "metadata": {},
   "source": [
    "* **p-valor:** 2.2e^-16,\n",
    "* **R^2 ajustada:** 0.4762, por lo que se ajusta al modelo de tendencia exponencial \n",
    "* **Conclusión:** Se rechazo Ho, dado que el p-valor muy pequeño y menor que alfa. Por lo que si hay relación entre las variables por el modelo de tendencia exponencial."
   ]
  },
  {
   "cell_type": "code",
   "execution_count": 12,
   "metadata": {},
   "outputs": [
    {
     "data": {
      "image/png": "[encoded data removed]",
      "text/plain": [
       "Plot with title \"Tendencias\""
      ]
     },
     "metadata": {
      "image/png": {
       "height": 420,
       "width": 420
      }
     },
     "output_type": "display_data"
    }
   ],
   "source": [
    "plot(bc_l,\n",
    "    main = 'Tendencias',\n",
    "    ylab = 'Precios',\n",
    "    xlab = 'Fecha')\n",
    "abline(tend, col=\"red\")\n",
    "lines(tc, fitted.values(tenc), \n",
    "      col=\"blue\")\n",
    "legend('topleft', \n",
    "       legend = c('Regresión lineal', 'Regresión polinómica'),\n",
    "        col = c('red', 'blue'),\n",
    "      lty = 1)"
   ]
  },
  {
   "cell_type": "markdown",
   "metadata": {},
   "source": [
    "**Varianza**"
   ]
  },
  {
   "cell_type": "markdown",
   "metadata": {},
   "source": [
    "**HO:** La serie NO es estacionaria en varianza\n",
    "\n",
    "**Ha:** La serie SI es estacionaria en varianza\n",
    "\n",
    "alfa=0.05"
   ]
  },
  {
   "cell_type": "code",
   "execution_count": 14,
   "metadata": {},
   "outputs": [
    {
     "name": "stderr",
     "output_type": "stream",
     "text": [
      "Warning message in adf.test(bc_l, alternative = \"stationary\"):\n",
      "\"p-value greater than printed p-value\"\n"
     ]
    },
    {
     "data": {
      "text/plain": [
       "\n",
       "\tAugmented Dickey-Fuller Test\n",
       "\n",
       "data:  bc_l\n",
       "Dickey-Fuller = 1.9595, Lag order = 10, p-value = 0.99\n",
       "alternative hypothesis: stationary\n"
      ]
     },
     "metadata": {},
     "output_type": "display_data"
    }
   ],
   "source": [
    "adf.test(bc_l, alternative=\"stationary\")"
   ]
  },
  {
   "cell_type": "markdown",
   "metadata": {},
   "source": [
    "Dado que el p-valor es mayor que alfa, No se rechaza Ho, por lo que la serie NO es estacionaria en Varianza."
   ]
  },
  {
   "cell_type": "markdown",
   "metadata": {},
   "source": [
    "**Conclusión:** La serie es NO estacionaria en media ni varianza"
   ]
  },
  {
   "cell_type": "markdown",
   "metadata": {},
   "source": [
    "## Correcciones"
   ]
  },
  {
   "cell_type": "markdown",
   "metadata": {},
   "source": [
    "**Corrección 1**"
   ]
  },
  {
   "cell_type": "code",
   "execution_count": 15,
   "metadata": {},
   "outputs": [],
   "source": [
    "c1 <- diff(log(bc_l))"
   ]
  },
  {
   "cell_type": "code",
   "execution_count": 16,
   "metadata": {},
   "outputs": [
    {
     "data": {
      "image/png": "[encoded data removed]",
      "text/plain": [
       "plot without title"
      ]
     },
     "metadata": {
      "image/png": {
       "height": 420,
       "width": 420
      }
     },
     "output_type": "display_data"
    }
   ],
   "source": [
    "plot(c1)"
   ]
  },
  {
   "cell_type": "markdown",
   "metadata": {},
   "source": [
    "**Tendencia**"
   ]
  },
  {
   "cell_type": "code",
   "execution_count": 17,
   "metadata": {},
   "outputs": [
    {
     "data": {
      "text/plain": [
       "\n",
       "Call:\n",
       "lm(formula = c1 ~ time(c1))\n",
       "\n",
       "Residuals:\n",
       "     Min       1Q   Median       3Q      Max \n",
       "-0.50065 -0.01585 -0.00007  0.01649  0.17113 \n",
       "\n",
       "Coefficients:\n",
       "             Estimate Std. Error t value Pr(>|t|)  \n",
       "(Intercept) -6.475945   2.759054  -2.347   0.0191 *\n",
       "time(c1)     0.003208   0.001366   2.348   0.0191 *\n",
       "---\n",
       "Signif. codes:  0 '***' 0.001 '**' 0.01 '*' 0.05 '.' 0.1 ' ' 1\n",
       "\n",
       "Residual standard error: 0.03915 on 1093 degrees of freedom\n",
       "Multiple R-squared:  0.005018,\tAdjusted R-squared:  0.004108 \n",
       "F-statistic: 5.512 on 1 and 1093 DF,  p-value: 0.01906\n"
      ]
     },
     "metadata": {},
     "output_type": "display_data"
    }
   ],
   "source": [
    "tn<-lm(c1~time(c1))\n",
    "summary(tn)"
   ]
  },
  {
   "cell_type": "code",
   "execution_count": 18,
   "metadata": {},
   "outputs": [
    {
     "data": {
      "text/plain": [
       "\n",
       "Call:\n",
       "lm(formula = c1 ~ poly(tc, degree = 3))\n",
       "\n",
       "Residuals:\n",
       "     Min       1Q   Median       3Q      Max \n",
       "-0.49849 -0.01552  0.00031  0.01628  0.16699 \n",
       "\n",
       "Coefficients:\n",
       "                      Estimate Std. Error t value Pr(>|t|)  \n",
       "(Intercept)           0.001806   0.001183   1.526   0.1272  \n",
       "poly(tc, degree = 3)1 0.091921   0.039152   2.348   0.0191 *\n",
       "poly(tc, degree = 3)2 0.040454   0.039152   1.033   0.3017  \n",
       "poly(tc, degree = 3)3 0.038165   0.039152   0.975   0.3299  \n",
       "---\n",
       "Signif. codes:  0 '***' 0.001 '**' 0.01 '*' 0.05 '.' 0.1 ' ' 1\n",
       "\n",
       "Residual standard error: 0.03915 on 1091 degrees of freedom\n",
       "Multiple R-squared:  0.006855,\tAdjusted R-squared:  0.004124 \n",
       "F-statistic:  2.51 on 3 and 1091 DF,  p-value: 0.05736\n"
      ]
     },
     "metadata": {},
     "output_type": "display_data"
    }
   ],
   "source": [
    "tc<-as.numeric(time(c1))\n",
    "summary(lm(c1~poly(tc, degree=3)))"
   ]
  },
  {
   "cell_type": "markdown",
   "metadata": {},
   "source": [
    "No tiene tendencia lineal, entonces es estacionaria."
   ]
  },
  {
   "cell_type": "markdown",
   "metadata": {},
   "source": [
    "**Varianza**"
   ]
  },
  {
   "cell_type": "code",
   "execution_count": 19,
   "metadata": {},
   "outputs": [
    {
     "name": "stderr",
     "output_type": "stream",
     "text": [
      "Warning message in adf.test(c1, alternative = \"stationary\"):\n",
      "\"p-value smaller than printed p-value\"\n"
     ]
    },
    {
     "data": {
      "text/plain": [
       "\n",
       "\tAugmented Dickey-Fuller Test\n",
       "\n",
       "data:  c1\n",
       "Dickey-Fuller = -9.6943, Lag order = 10, p-value = 0.01\n",
       "alternative hypothesis: stationary\n"
      ]
     },
     "metadata": {},
     "output_type": "display_data"
    }
   ],
   "source": [
    "adf.test(c1, alternative=\"stationary\")"
   ]
  },
  {
   "cell_type": "markdown",
   "metadata": {},
   "source": [
    "La serie es estacionaria en varianza"
   ]
  },
  {
   "cell_type": "markdown",
   "metadata": {},
   "source": [
    "**Clasificación:** La serie C1 es estacionaria en media y varianza"
   ]
  },
  {
   "cell_type": "markdown",
   "metadata": {},
   "source": [
    "## Modelado"
   ]
  },
  {
   "cell_type": "code",
   "execution_count": 23,
   "metadata": {},
   "outputs": [
    {
     "data": {
      "image/png": "[encoded data removed]",
      "text/plain": [
       "Plot with title \"Series c1\""
      ]
     },
     "metadata": {
      "image/png": {
       "height": 420,
       "width": 420
      }
     },
     "output_type": "display_data"
    },
    {
     "data": {
      "image/png": "[encoded data removed]",
      "text/plain": [
       "Plot with title \"Series  c1\""
      ]
     },
     "metadata": {
      "image/png": {
       "height": 420,
       "width": 420
      }
     },
     "output_type": "display_data"
    }
   ],
   "source": [
    "acf(c1) \n",
    "pacf(c1) "
   ]
  },
  {
   "cell_type": "markdown",
   "metadata": {},
   "source": [
    "**MODELO AR(𝑝)**"
   ]
  },
  {
   "cell_type": "code",
   "execution_count": 24,
   "metadata": {},
   "outputs": [
    {
     "data": {
      "text/plain": [
       "\n",
       "Call:\n",
       "ar(x = c1)\n",
       "\n",
       "Coefficients:\n",
       "      1        2  \n",
       "-0.0831   0.0697  \n",
       "\n",
       "Order selected 2  sigma^2 estimated as  0.001522"
      ]
     },
     "metadata": {},
     "output_type": "display_data"
    }
   ],
   "source": [
    "ar(c1)"
   ]
  },
  {
   "cell_type": "code",
   "execution_count": 25,
   "metadata": {},
   "outputs": [
    {
     "data": {
      "text/html": [
       "-3991.39629651449"
      ],
      "text/latex": [
       "-3991.39629651449"
      ],
      "text/markdown": [
       "-3991.39629651449"
      ],
      "text/plain": [
       "[1] -3991.396"
      ]
     },
     "metadata": {},
     "output_type": "display_data"
    }
   ],
   "source": [
    "AIC(arima(c1, order=c(2,0,0), method=\"ML\"))"
   ]
  },
  {
   "cell_type": "markdown",
   "metadata": {},
   "source": [
    "* El orden del mejor AR: 2\n",
    "\n",
    "* AIC del mejor AR: -3991.39"
   ]
  },
  {
   "cell_type": "markdown",
   "metadata": {},
   "source": [
    "**MODELO MA(𝑞)**"
   ]
  },
  {
   "cell_type": "code",
   "execution_count": 26,
   "metadata": {},
   "outputs": [
    {
     "data": {
      "text/html": [
       "2"
      ],
      "text/latex": [
       "2"
      ],
      "text/markdown": [
       "2"
      ],
      "text/plain": [
       "[1] 2"
      ]
     },
     "metadata": {},
     "output_type": "display_data"
    },
    {
     "data": {
      "text/html": [
       "-3990.91358288873"
      ],
      "text/latex": [
       "-3990.91358288873"
      ],
      "text/markdown": [
       "-3990.91358288873"
      ],
      "text/plain": [
       "[1] -3990.914"
      ]
     },
     "metadata": {},
     "output_type": "display_data"
    }
   ],
   "source": [
    "aic0<-Inf # le das un numero muy grande\n",
    "for (i in 1:20)\n",
    "{\n",
    "  aic1<-AIC(arima(c1, order = c(0,0,i), method =\"ML\" ))\n",
    "  if(aic1<aic0)\n",
    "  {\n",
    "    aic0<-aic1\n",
    "    MA.mejor<-i\n",
    "  }\n",
    "}\n",
    "MA.mejor\n",
    "aic0 "
   ]
  },
  {
   "cell_type": "markdown",
   "metadata": {},
   "source": [
    "* El orden del mejor MA: 2\n",
    "* AIC del mejor MA: -3990.91"
   ]
  },
  {
   "cell_type": "markdown",
   "metadata": {},
   "source": [
    "**MODELO ARMA(p,q)**"
   ]
  },
  {
   "cell_type": "code",
   "execution_count": 26,
   "metadata": {
    "scrolled": true
   },
   "outputs": [
    {
     "name": "stderr",
     "output_type": "stream",
     "text": [
      "Warning message in stats::arima(x = x, order = order, seasonal = seasonal, xreg = xreg, :\n",
      "\"possible convergence problem: optim gave code = 1\"\n",
      "Warning message in stats::arima(x = x, order = order, seasonal = seasonal, xreg = xreg, :\n",
      "\"possible convergence problem: optim gave code = 1\"\n",
      "Warning message in stats::arima(x = x, order = order, seasonal = seasonal, xreg = xreg, :\n",
      "\"possible convergence problem: optim gave code = 1\"\n",
      "Warning message in stats::arima(x = x, order = order, seasonal = seasonal, xreg = xreg, :\n",
      "\"possible convergence problem: optim gave code = 1\"\n",
      "Warning message in stats::arima(x = x, order = order, seasonal = seasonal, xreg = xreg, :\n",
      "\"possible convergence problem: optim gave code = 1\"\n",
      "Warning message in stats::arima(x = x, order = order, seasonal = seasonal, xreg = xreg, :\n",
      "\"possible convergence problem: optim gave code = 1\"\n",
      "Warning message in stats::arima(x = x, order = order, seasonal = seasonal, xreg = xreg, :\n",
      "\"possible convergence problem: optim gave code = 1\"\n",
      "Warning message in stats::arima(x = x, order = order, seasonal = seasonal, xreg = xreg, :\n",
      "\"possible convergence problem: optim gave code = 1\"\n",
      "Warning message in stats::arima(x = x, order = order, seasonal = seasonal, xreg = xreg, :\n",
      "\"possible convergence problem: optim gave code = 1\"\n",
      "Warning message in stats::arima(x = x, order = order, seasonal = seasonal, xreg = xreg, :\n",
      "\"possible convergence problem: optim gave code = 1\"\n",
      "Warning message in stats::arima(x = x, order = order, seasonal = seasonal, xreg = xreg, :\n",
      "\"possible convergence problem: optim gave code = 1\"\n",
      "Warning message in stats::arima(x = x, order = order, seasonal = seasonal, xreg = xreg, :\n",
      "\"possible convergence problem: optim gave code = 1\"\n",
      "Warning message in stats::arima(x = x, order = order, seasonal = seasonal, xreg = xreg, :\n",
      "\"possible convergence problem: optim gave code = 1\"\n",
      "Warning message in stats::arima(x = x, order = order, seasonal = seasonal, xreg = xreg, :\n",
      "\"possible convergence problem: optim gave code = 1\"\n",
      "Warning message in stats::arima(x = x, order = order, seasonal = seasonal, xreg = xreg, :\n",
      "\"possible convergence problem: optim gave code = 1\"\n",
      "Warning message in stats::arima(x = x, order = order, seasonal = seasonal, xreg = xreg, :\n",
      "\"possible convergence problem: optim gave code = 1\"\n",
      "Warning message in stats::arima(x = x, order = order, seasonal = seasonal, xreg = xreg, :\n",
      "\"possible convergence problem: optim gave code = 1\"\n",
      "Warning message in stats::arima(x = x, order = order, seasonal = seasonal, xreg = xreg, :\n",
      "\"possible convergence problem: optim gave code = 1\"\n",
      "Warning message in stats::arima(x = x, order = order, seasonal = seasonal, xreg = xreg, :\n",
      "\"possible convergence problem: optim gave code = 1\"\n",
      "Warning message in stats::arima(x = x, order = order, seasonal = seasonal, xreg = xreg, :\n",
      "\"possible convergence problem: optim gave code = 1\"\n",
      "Warning message in stats::arima(x = x, order = order, seasonal = seasonal, xreg = xreg, :\n",
      "\"possible convergence problem: optim gave code = 1\"\n",
      "Warning message in stats::arima(x = x, order = order, seasonal = seasonal, xreg = xreg, :\n",
      "\"possible convergence problem: optim gave code = 1\"\n",
      "Warning message in stats::arima(x = x, order = order, seasonal = seasonal, xreg = xreg, :\n",
      "\"possible convergence problem: optim gave code = 1\"\n",
      "Warning message in stats::arima(x = x, order = order, seasonal = seasonal, xreg = xreg, :\n",
      "\"possible convergence problem: optim gave code = 1\"\n",
      "Warning message in stats::arima(x = x, order = order, seasonal = seasonal, xreg = xreg, :\n",
      "\"possible convergence problem: optim gave code = 1\"\n",
      "Warning message in stats::arima(x = x, order = order, seasonal = seasonal, xreg = xreg, :\n",
      "\"possible convergence problem: optim gave code = 1\"\n",
      "Warning message in stats::arima(x = x, order = order, seasonal = seasonal, xreg = xreg, :\n",
      "\"possible convergence problem: optim gave code = 1\"\n",
      "Warning message in stats::arima(x = x, order = order, seasonal = seasonal, xreg = xreg, :\n",
      "\"possible convergence problem: optim gave code = 1\"\n",
      "Warning message in stats::arima(x = x, order = order, seasonal = seasonal, xreg = xreg, :\n",
      "\"possible convergence problem: optim gave code = 1\"\n",
      "Warning message in stats::arima(x = x, order = order, seasonal = seasonal, xreg = xreg, :\n",
      "\"possible convergence problem: optim gave code = 1\"\n",
      "Warning message in stats::arima(x = x, order = order, seasonal = seasonal, xreg = xreg, :\n",
      "\"possible convergence problem: optim gave code = 1\"\n",
      "Warning message in stats::arima(x = x, order = order, seasonal = seasonal, xreg = xreg, :\n",
      "\"possible convergence problem: optim gave code = 1\"\n",
      "Warning message in stats::arima(x = x, order = order, seasonal = seasonal, xreg = xreg, :\n",
      "\"possible convergence problem: optim gave code = 1\"\n",
      "Warning message in stats::arima(x = x, order = order, seasonal = seasonal, xreg = xreg, :\n",
      "\"possible convergence problem: optim gave code = 1\"\n",
      "Warning message in stats::arima(x = x, order = order, seasonal = seasonal, xreg = xreg, :\n",
      "\"possible convergence problem: optim gave code = 1\"\n",
      "Warning message in stats::arima(x = x, order = order, seasonal = seasonal, xreg = xreg, :\n",
      "\"possible convergence problem: optim gave code = 1\"\n",
      "Warning message in stats::arima(x = x, order = order, seasonal = seasonal, xreg = xreg, :\n",
      "\"possible convergence problem: optim gave code = 1\"\n",
      "Warning message in stats::arima(x = x, order = order, seasonal = seasonal, xreg = xreg, :\n",
      "\"possible convergence problem: optim gave code = 1\"\n"
     ]
    },
    {
     "data": {
      "text/html": [
       "<style>\n",
       ".list-inline {list-style: none; margin:0; padding: 0}\n",
       ".list-inline>li {display: inline-block}\n",
       ".list-inline>li:not(:last-child)::after {content: \"\\00b7\"; padding: 0 .5ex}\n",
       "</style>\n",
       "<ol class=list-inline><li>2</li><li>4</li></ol>\n"
      ],
      "text/latex": [
       "\\begin{enumerate*}\n",
       "\\item 2\n",
       "\\item 4\n",
       "\\end{enumerate*}\n"
      ],
      "text/markdown": [
       "1. 2\n",
       "2. 4\n",
       "\n",
       "\n"
      ],
      "text/plain": [
       "[1] 2 4"
      ]
     },
     "metadata": {},
     "output_type": "display_data"
    },
    {
     "data": {
      "text/html": [
       "-3993.15577362344"
      ],
      "text/latex": [
       "-3993.15577362344"
      ],
      "text/markdown": [
       "-3993.15577362344"
      ],
      "text/plain": [
       "[1] -3993.156"
      ]
     },
     "metadata": {},
     "output_type": "display_data"
    }
   ],
   "source": [
    "arma.aic<-Inf\n",
    "for(j in 1:10)\n",
    "{\n",
    "  for (i in 1:10)\n",
    "  {\n",
    "    aux<-AIC(arima(c1, order = c(j,0,i), method =\"ML\" ))\n",
    "    if(aux<arma.aic)\n",
    "    {\n",
    "      arma.aic<-aux\n",
    "      ARMA.mejor<-c(j,i)\n",
    "    }\n",
    "  }\n",
    "}\n",
    "ARMA.mejor\n",
    "arma.aic"
   ]
  },
  {
   "cell_type": "markdown",
   "metadata": {},
   "source": [
    "* El orden del mejor ARMA: 2,4\n",
    "* AIC del mejor ARMA: -3993.15"
   ]
  },
  {
   "cell_type": "markdown",
   "metadata": {},
   "source": [
    "## Ruido blanco"
   ]
  },
  {
   "cell_type": "code",
   "execution_count": 38,
   "metadata": {},
   "outputs": [],
   "source": [
    "res<-residuals(arima(c1, order=c(2,0,4), method = 'ML'))"
   ]
  },
  {
   "cell_type": "markdown",
   "metadata": {},
   "source": [
    "**Media**"
   ]
  },
  {
   "cell_type": "code",
   "execution_count": 39,
   "metadata": {},
   "outputs": [
    {
     "data": {
      "text/html": [
       "-2.49335431704205e-05"
      ],
      "text/latex": [
       "-2.49335431704205e-05"
      ],
      "text/markdown": [
       "-2.49335431704205e-05"
      ],
      "text/plain": [
       "[1] -2.493354e-05"
      ]
     },
     "metadata": {},
     "output_type": "display_data"
    }
   ],
   "source": [
    "mean(res)"
   ]
  },
  {
   "cell_type": "code",
   "execution_count": 40,
   "metadata": {},
   "outputs": [
    {
     "data": {
      "image/png": "[encoded data removed]",
      "text/plain": [
       "plot without title"
      ]
     },
     "metadata": {
      "image/png": {
       "height": 420,
       "width": 420
      }
     },
     "output_type": "display_data"
    }
   ],
   "source": [
    "plot(res, type=\"p\")"
   ]
  },
  {
   "cell_type": "markdown",
   "metadata": {},
   "source": [
    "**Incorrelación**"
   ]
  },
  {
   "cell_type": "code",
   "execution_count": 41,
   "metadata": {},
   "outputs": [
    {
     "data": {
      "image/png": "[encoded data removed]",
      "text/plain": [
       "Plot with title \"Series res\""
      ]
     },
     "metadata": {
      "image/png": {
       "height": 420,
       "width": 420
      }
     },
     "output_type": "display_data"
    },
    {
     "data": {
      "image/png": "[encoded data removed]",
      "text/plain": [
       "Plot with title \"Series  res\""
      ]
     },
     "metadata": {
      "image/png": {
       "height": 420,
       "width": 420
      }
     },
     "output_type": "display_data"
    }
   ],
   "source": [
    "acf(res) \n",
    "pacf(res) "
   ]
  },
  {
   "cell_type": "markdown",
   "metadata": {},
   "source": [
    "**Incorrelación de forma analítica**"
   ]
  },
  {
   "cell_type": "markdown",
   "metadata": {},
   "source": [
    "**HO:** Son independientes\n",
    "\n",
    "**Ha:** Muestran alguna dependencia\n",
    "\n",
    "alfa=0.05"
   ]
  },
  {
   "cell_type": "code",
   "execution_count": 42,
   "metadata": {},
   "outputs": [
    {
     "data": {
      "text/plain": [
       "\n",
       "\tBox-Pierce test\n",
       "\n",
       "data:  res\n",
       "X-squared = 0.00019584, df = 1, p-value = 0.9888\n"
      ]
     },
     "metadata": {},
     "output_type": "display_data"
    }
   ],
   "source": [
    "Box.test(res)"
   ]
  },
  {
   "cell_type": "markdown",
   "metadata": {},
   "source": [
    "**Normalidad**"
   ]
  },
  {
   "cell_type": "markdown",
   "metadata": {},
   "source": [
    "**HO:** Sigue una distribución normal\n",
    "\n",
    "**Ha:** NO sigue una distribución normal\n",
    "\n",
    "alfa=0.05"
   ]
  },
  {
   "cell_type": "code",
   "execution_count": 43,
   "metadata": {},
   "outputs": [
    {
     "data": {
      "text/plain": [
       "\n",
       "\tShapiro-Wilk normality test\n",
       "\n",
       "data:  res\n",
       "W = 0.8718, p-value < 2.2e-16\n"
      ]
     },
     "metadata": {},
     "output_type": "display_data"
    }
   ],
   "source": [
    "shapiro.test(res)"
   ]
  },
  {
   "cell_type": "markdown",
   "metadata": {},
   "source": [
    "## Predicciones"
   ]
  },
  {
   "cell_type": "code",
   "execution_count": 54,
   "metadata": {
    "scrolled": false
   },
   "outputs": [
    {
     "data": {
      "text/html": [
       "<style>\n",
       ".list-inline {list-style: none; margin:0; padding: 0}\n",
       ".list-inline>li {display: inline-block}\n",
       ".list-inline>li:not(:last-child)::after {content: \"\\00b7\"; padding: 0 .5ex}\n",
       "</style>\n",
       "<ol class=list-inline><li>56294.382774212</li><li>56553.3302334573</li><li>56773.8135537559</li><li>56336.6553856124</li><li>56645.5847273607</li><li>56663.394755468</li></ol>\n"
      ],
      "text/latex": [
       "\\begin{enumerate*}\n",
       "\\item 56294.382774212\n",
       "\\item 56553.3302334573\n",
       "\\item 56773.8135537559\n",
       "\\item 56336.6553856124\n",
       "\\item 56645.5847273607\n",
       "\\item 56663.394755468\n",
       "\\end{enumerate*}\n"
      ],
      "text/markdown": [
       "1. 56294.382774212\n",
       "2. 56553.3302334573\n",
       "3. 56773.8135537559\n",
       "4. 56336.6553856124\n",
       "5. 56645.5847273607\n",
       "6. 56663.394755468\n",
       "\n",
       "\n"
      ],
      "text/plain": [
       "[1] 56294.38 56553.33 56773.81 56336.66 56645.58 56663.39"
      ]
     },
     "metadata": {},
     "output_type": "display_data"
    }
   ],
   "source": [
    "Pred <- predict(arima(bc_l, order=c(2, 1,4), method=\"ML\"), n.ahead=20)$pred\n",
    "head(Pred)"
   ]
  },
  {
   "cell_type": "code",
   "execution_count": 60,
   "metadata": {},
   "outputs": [
    {
     "data": {
      "image/png": "[encoded data removed]",
      "text/plain": [
       "Plot with title \"Predicciones a 20 dias al futuro\""
      ]
     },
     "metadata": {
      "image/png": {
       "height": 420,
       "width": 420
      }
     },
     "output_type": "display_data"
    }
   ],
   "source": [
    "plot(bc_l,\n",
    "    main = 'Predicciones a 20 dias al futuro',\n",
    "    xlab = 'Fecha',\n",
    "    ylab = 'Precio',\n",
    "    xlim = c(2018.00547945205, 2021.1))\n",
    "lines(Pred, \n",
    "      col=\"red\")\n",
    "legend('topleft', \n",
    "       legend = c('Predicción'),\n",
    "        col = c('red'),\n",
    "      lty = 1)"
   ]
  },
  {
   "cell_type": "code",
   "execution_count": 67,
   "metadata": {},
   "outputs": [
    {
     "data": {
      "image/png": "[encoded data removed]",
      "text/plain": [
       "Plot with title \"Predicciones a 20 dias al futuro. Gráfico aumentado.\""
      ]
     },
     "metadata": {
      "image/png": {
       "height": 420,
       "width": 420
      }
     },
     "output_type": "display_data"
    }
   ],
   "source": [
    "plot(bc_l,\n",
    "    main = 'Predicciones a 20 dias al futuro. Gráfico aumentado.',\n",
    "    xlab = 'Fecha',\n",
    "    ylab = 'Precio',\n",
    "    xlim = c(2020.80547945205, 2021.1),\n",
    "    ylim = c(25000,62000))\n",
    "lines(Pred, \n",
    "      col=\"red\")\n",
    "legend('bottomright', \n",
    "       legend = c('Predicción'),\n",
    "        col = c('red'),\n",
    "      lty = 1)"
   ]
  },
  {
   "cell_type": "code",
   "execution_count": null,
   "metadata": {},
   "outputs": [],
   "source": []
  }
 ],
 "metadata": {
  "kernelspec": {
   "display_name": "R",
   "language": "R",
   "name": "ir"
  },
  "language_info": {
   "codemirror_mode": "r",
   "file_extension": ".r",
   "mimetype": "text/x-r-source",
   "name": "R",
   "pygments_lexer": "r",
   "version": "4.0.3"
  }
 },
 "nbformat": 4,
 "nbformat_minor": 5
}
