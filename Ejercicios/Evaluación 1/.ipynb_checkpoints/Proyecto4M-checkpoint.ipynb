{
 "cells": [
  {
   "cell_type": "markdown",
   "metadata": {},
   "source": [
    "# Series de tiempo\n",
    "\n",
    "## Datos: Precio del Bitcoin. Historico de 4 meses."
   ]
  },
  {
   "cell_type": "markdown",
   "metadata": {},
   "source": [
    "**Librerías**"
   ]
  },
  {
   "cell_type": "code",
   "execution_count": 1,
   "metadata": {},
   "outputs": [
    {
     "name": "stderr",
     "output_type": "stream",
     "text": [
      "Registered S3 method overwritten by 'quantmod':\n",
      "  method            from\n",
      "  as.zoo.data.frame zoo \n",
      "\n",
      "Warning message:\n",
      "\"package 'TSA' was built under R version 4.0.4\"\n",
      "\n",
      "Attaching package: 'TSA'\n",
      "\n",
      "\n",
      "The following objects are masked from 'package:stats':\n",
      "\n",
      "    acf, arima\n",
      "\n",
      "\n",
      "The following object is masked from 'package:utils':\n",
      "\n",
      "    tar\n",
      "\n",
      "\n"
     ]
    }
   ],
   "source": [
    "library(tseries)\n",
    "library(TSA)"
   ]
  },
  {
   "cell_type": "markdown",
   "metadata": {},
   "source": [
    "**Apertura y corrección de datos**"
   ]
  },
  {
   "cell_type": "code",
   "execution_count": 2,
   "metadata": {},
   "outputs": [],
   "source": [
    "bc<-data.frame(read.table(\"BitcoinHD-4M.csv\", sep=\",\", header = TRUE ))\n",
    "bc_order <- apply(bc,2,rev)"
   ]
  },
  {
   "cell_type": "code",
   "execution_count": 3,
   "metadata": {
    "scrolled": true
   },
   "outputs": [
    {
     "data": {
      "text/html": [
       "<table>\n",
       "<caption>A data.frame: 121 × 7</caption>\n",
       "<thead>\n",
       "\t<tr><th scope=col>ï..Date</th><th scope=col>Price</th><th scope=col>Open</th><th scope=col>High</th><th scope=col>Low</th><th scope=col>Vol.</th><th scope=col>Change..</th></tr>\n",
       "\t<tr><th scope=col>&lt;chr&gt;</th><th scope=col>&lt;dbl&gt;</th><th scope=col>&lt;chr&gt;</th><th scope=col>&lt;chr&gt;</th><th scope=col>&lt;chr&gt;</th><th scope=col>&lt;chr&gt;</th><th scope=col>&lt;chr&gt;</th></tr>\n",
       "</thead>\n",
       "<tbody>\n",
       "\t<tr><td>Nov 17, 2020</td><td>17662.3</td><td>16,715.80</td><td>17,845.40</td><td>16,562.00</td><td>175.87K</td><td>5.66% </td></tr>\n",
       "\t<tr><td>Nov 18, 2020</td><td>17774.6</td><td>17,662.30</td><td>18,466.10</td><td>17,258.90</td><td>233.43K</td><td>0.64% </td></tr>\n",
       "\t<tr><td>Nov 19, 2020</td><td>17803.5</td><td>17,775.10</td><td>18,166.00</td><td>17,380.10</td><td>135.94K</td><td>0.16% </td></tr>\n",
       "\t<tr><td>Nov 20, 2020</td><td>18675.2</td><td>17,805.50</td><td>18,811.00</td><td>17,758.40</td><td>134.42K</td><td>4.90% </td></tr>\n",
       "\t<tr><td>Nov 21, 2020</td><td>18687.2</td><td>18,673.80</td><td>18,966.00</td><td>18,397.50</td><td>108.91K</td><td>0.06% </td></tr>\n",
       "\t<tr><td>Nov 22, 2020</td><td>18412.9</td><td>18,689.30</td><td>18,751.50</td><td>17,644.60</td><td>121.76K</td><td>-1.47%</td></tr>\n",
       "\t<tr><td>Nov 23, 2020</td><td>18379.6</td><td>18,428.10</td><td>18,756.80</td><td>18,016.00</td><td>127.35K</td><td>-0.18%</td></tr>\n",
       "\t<tr><td>Nov 24, 2020</td><td>19152.6</td><td>18,394.60</td><td>19,416.60</td><td>18,074.80</td><td>180.79K</td><td>4.21% </td></tr>\n",
       "\t<tr><td>Nov 25, 2020</td><td>18723.0</td><td>19,151.50</td><td>19,486.70</td><td>18,527.70</td><td>146.12K</td><td>-2.24%</td></tr>\n",
       "\t<tr><td>Nov 26, 2020</td><td>17162.0</td><td>18,721.90</td><td>18,894.90</td><td>16,235.20</td><td>312.07K</td><td>-8.34%</td></tr>\n",
       "\t<tr><td>Nov 27, 2020</td><td>17127.1</td><td>17,160.90</td><td>17,450.30</td><td>16,481.60</td><td>138.80K</td><td>-0.20%</td></tr>\n",
       "\t<tr><td>Nov 28, 2020</td><td>17730.7</td><td>17,142.60</td><td>17,874.40</td><td>16,874.40</td><td>95.20K </td><td>3.52% </td></tr>\n",
       "\t<tr><td>Nov 29, 2020</td><td>18185.5</td><td>17,729.70</td><td>18,336.30</td><td>17,530.40</td><td>79.12K </td><td>2.57% </td></tr>\n",
       "\t<tr><td>Nov 30, 2020</td><td>19698.1</td><td>18,186.00</td><td>19,831.20</td><td>18,186.00</td><td>185.59K</td><td>8.32% </td></tr>\n",
       "\t<tr><td>Dec 01, 2020</td><td>18770.7</td><td>19,697.80</td><td>19,897.40</td><td>18,257.00</td><td>208.72K</td><td>-4.71%</td></tr>\n",
       "\t<tr><td>Dec 02, 2020</td><td>19218.8</td><td>18,767.90</td><td>19,335.50</td><td>18,346.70</td><td>91.92K </td><td>2.39% </td></tr>\n",
       "\t<tr><td>Dec 03, 2020</td><td>19433.3</td><td>19,219.80</td><td>19,596.60</td><td>18,883.70</td><td>99.97K </td><td>1.12% </td></tr>\n",
       "\t<tr><td>Dec 04, 2020</td><td>18658.1</td><td>19,431.10</td><td>19,529.50</td><td>18,610.80</td><td>110.63K</td><td>-3.99%</td></tr>\n",
       "\t<tr><td>Dec 05, 2020</td><td>19146.5</td><td>18,657.50</td><td>19,172.70</td><td>18,507.10</td><td>59.44K </td><td>2.62% </td></tr>\n",
       "\t<tr><td>Dec 06, 2020</td><td>19379.9</td><td>19,146.00</td><td>19,417.10</td><td>18,873.00</td><td>54.56K </td><td>1.22% </td></tr>\n",
       "\t<tr><td>Dec 07, 2020</td><td>19170.7</td><td>19,368.40</td><td>19,424.60</td><td>18,908.80</td><td>61.98K </td><td>-1.08%</td></tr>\n",
       "\t<tr><td>Dec 08, 2020</td><td>18326.6</td><td>19,170.80</td><td>19,288.60</td><td>18,229.20</td><td>101.41K</td><td>-4.40%</td></tr>\n",
       "\t<tr><td>Dec 09, 2020</td><td>18546.0</td><td>18,322.40</td><td>18,637.90</td><td>17,658.80</td><td>129.72K</td><td>1.20% </td></tr>\n",
       "\t<tr><td>Dec 10, 2020</td><td>18247.2</td><td>18,546.10</td><td>18,551.80</td><td>17,926.80</td><td>85.31K </td><td>-1.61%</td></tr>\n",
       "\t<tr><td>Dec 11, 2020</td><td>18023.6</td><td>18,250.50</td><td>18,288.30</td><td>17,600.10</td><td>111.53K</td><td>-1.23%</td></tr>\n",
       "\t<tr><td>Dec 12, 2020</td><td>18808.9</td><td>18,026.70</td><td>18,936.20</td><td>18,025.10</td><td>71.37K </td><td>4.36% </td></tr>\n",
       "\t<tr><td>Dec 13, 2020</td><td>19176.8</td><td>18,808.10</td><td>19,403.60</td><td>18,716.80</td><td>82.45K </td><td>1.96% </td></tr>\n",
       "\t<tr><td>Dec 14, 2020</td><td>19273.8</td><td>19,176.40</td><td>19,346.50</td><td>19,007.00</td><td>67.11K </td><td>0.51% </td></tr>\n",
       "\t<tr><td>Dec 15, 2020</td><td>19434.9</td><td>19,273.90</td><td>19,556.30</td><td>19,076.20</td><td>98.39K </td><td>0.84% </td></tr>\n",
       "\t<tr><td>Dec 16, 2020</td><td>21352.2</td><td>19,434.70</td><td>21,525.30</td><td>19,299.70</td><td>199.81K</td><td>9.87% </td></tr>\n",
       "\t<tr><td>...</td><td>...</td><td>...</td><td>...</td><td>...</td><td>...</td><td>...</td></tr>\n",
       "\t<tr><td>Feb 16, 2021</td><td>49169.7</td><td>47,934.20</td><td>50,515.80</td><td>47,044.40</td><td>141.37K</td><td>2.57% </td></tr>\n",
       "\t<tr><td>Feb 17, 2021</td><td>52079.2</td><td>49,161.30</td><td>52,577.70</td><td>49,018.10</td><td>140.03K</td><td>5.92% </td></tr>\n",
       "\t<tr><td>Feb 18, 2021</td><td>51582.2</td><td>52,094.50</td><td>52,524.00</td><td>50,941.60</td><td>94.35K </td><td>-0.95%</td></tr>\n",
       "\t<tr><td>Feb 19, 2021</td><td>55906.6</td><td>51,590.10</td><td>56,238.50</td><td>50,816.80</td><td>139.43K</td><td>8.38% </td></tr>\n",
       "\t<tr><td>Feb 20, 2021</td><td>55923.7</td><td>55,922.00</td><td>57,523.80</td><td>54,124.10</td><td>127.85K</td><td>0.03% </td></tr>\n",
       "\t<tr><td>Feb 21, 2021</td><td>57433.8</td><td>55,907.60</td><td>58,335.10</td><td>55,502.70</td><td>87.26K </td><td>2.70% </td></tr>\n",
       "\t<tr><td>Feb 22, 2021</td><td>54111.8</td><td>57,437.60</td><td>57,480.80</td><td>48,353.80</td><td>244.95K</td><td>-5.78%</td></tr>\n",
       "\t<tr><td>Feb 23, 2021</td><td>48911.2</td><td>54,114.10</td><td>54,115.00</td><td>45,093.80</td><td>315.07K</td><td>-9.61%</td></tr>\n",
       "\t<tr><td>Feb 24, 2021</td><td>49697.5</td><td>48,911.10</td><td>51,311.80</td><td>47,031.70</td><td>153.75K</td><td>1.61% </td></tr>\n",
       "\t<tr><td>Feb 25, 2021</td><td>46928.5</td><td>49,695.90</td><td>52,013.80</td><td>46,773.70</td><td>83.22K </td><td>-5.57%</td></tr>\n",
       "\t<tr><td>Feb 26, 2021</td><td>46345.6</td><td>46,928.50</td><td>48,413.90</td><td>44,248.20</td><td>189.41K</td><td>-1.24%</td></tr>\n",
       "\t<tr><td>Feb 27, 2021</td><td>46136.7</td><td>46,333.10</td><td>48,335.10</td><td>45,059.40</td><td>98.75K </td><td>-0.45%</td></tr>\n",
       "\t<tr><td>Feb 28, 2021</td><td>45164.0</td><td>46,136.00</td><td>46,582.00</td><td>43,100.60</td><td>135.08K</td><td>-2.11%</td></tr>\n",
       "\t<tr><td>Mar 01, 2021</td><td>49595.5</td><td>45,160.50</td><td>49,774.00</td><td>45,008.80</td><td>137.52K</td><td>9.81% </td></tr>\n",
       "\t<tr><td>Mar 02, 2021</td><td>48424.2</td><td>49,595.60</td><td>50,191.90</td><td>47,100.60</td><td>102.10K</td><td>-2.36%</td></tr>\n",
       "\t<tr><td>Mar 03, 2021</td><td>50395.1</td><td>48,422.20</td><td>52,567.90</td><td>48,159.20</td><td>44.93K </td><td>4.07% </td></tr>\n",
       "\t<tr><td>Mar 04, 2021</td><td>48428.0</td><td>50,388.00</td><td>51,757.70</td><td>47,521.80</td><td>9.56K  </td><td>-3.90%</td></tr>\n",
       "\t<tr><td>Mar 05, 2021</td><td>48792.5</td><td>48,363.60</td><td>49,429.40</td><td>46,370.10</td><td>113.64K</td><td>0.75% </td></tr>\n",
       "\t<tr><td>Mar 06, 2021</td><td>48855.6</td><td>48,798.70</td><td>49,191.80</td><td>47,132.80</td><td>66.66K </td><td>0.13% </td></tr>\n",
       "\t<tr><td>Mar 07, 2021</td><td>50982.3</td><td>48,899.00</td><td>51,434.10</td><td>48,890.60</td><td>82.91K </td><td>4.35% </td></tr>\n",
       "\t<tr><td>Mar 08, 2021</td><td>52311.0</td><td>50,988.90</td><td>52,384.90</td><td>49,338.10</td><td>68.14K </td><td>2.61% </td></tr>\n",
       "\t<tr><td>Mar 09, 2021</td><td>54879.0</td><td>52,352.40</td><td>54,880.60</td><td>51,941.30</td><td>114.06K</td><td>4.91% </td></tr>\n",
       "\t<tr><td>Mar 10, 2021</td><td>55851.9</td><td>54,882.70</td><td>57,328.70</td><td>53,073.60</td><td>140.96K</td><td>1.77% </td></tr>\n",
       "\t<tr><td>Mar 11, 2021</td><td>57799.5</td><td>55,851.20</td><td>58,135.00</td><td>54,351.80</td><td>129.63K</td><td>3.49% </td></tr>\n",
       "\t<tr><td>Mar 12, 2021</td><td>57265.1</td><td>57,806.20</td><td>58,052.30</td><td>55,134.50</td><td>116.96K</td><td>-0.92%</td></tr>\n",
       "\t<tr><td>Mar 13, 2021</td><td>61195.3</td><td>57,267.40</td><td>61,795.80</td><td>56,118.80</td><td>134.64K</td><td>6.86% </td></tr>\n",
       "\t<tr><td>Mar 14, 2021</td><td>59113.7</td><td>61,192.70</td><td>61,673.70</td><td>59,113.70</td><td>80.29K </td><td>-3.40%</td></tr>\n",
       "\t<tr><td>Mar 15, 2021</td><td>55791.3</td><td>59,117.40</td><td>60,565.90</td><td>55,088.80</td><td>117.71K</td><td>-5.62%</td></tr>\n",
       "\t<tr><td>Mar 16, 2021</td><td>56889.7</td><td>55,619.50</td><td>56,889.70</td><td>53,342.60</td><td>128.51K</td><td>1.97% </td></tr>\n",
       "\t<tr><td>Mar 17, 2021</td><td>58913.5</td><td>56,892.90</td><td>58,933.20</td><td>54,253.20</td><td>118.26K</td><td>3.56% </td></tr>\n",
       "</tbody>\n",
       "</table>\n"
      ],
      "text/latex": [
       "A data.frame: 121 × 7\n",
       "\\begin{tabular}{lllllll}\n",
       " ï..Date & Price & Open & High & Low & Vol. & Change..\\\\\n",
       " <chr> & <dbl> & <chr> & <chr> & <chr> & <chr> & <chr>\\\\\n",
       "\\hline\n",
       "\t Nov 17, 2020 & 17662.3 & 16,715.80 & 17,845.40 & 16,562.00 & 175.87K & 5.66\\% \\\\\n",
       "\t Nov 18, 2020 & 17774.6 & 17,662.30 & 18,466.10 & 17,258.90 & 233.43K & 0.64\\% \\\\\n",
       "\t Nov 19, 2020 & 17803.5 & 17,775.10 & 18,166.00 & 17,380.10 & 135.94K & 0.16\\% \\\\\n",
       "\t Nov 20, 2020 & 18675.2 & 17,805.50 & 18,811.00 & 17,758.40 & 134.42K & 4.90\\% \\\\\n",
       "\t Nov 21, 2020 & 18687.2 & 18,673.80 & 18,966.00 & 18,397.50 & 108.91K & 0.06\\% \\\\\n",
       "\t Nov 22, 2020 & 18412.9 & 18,689.30 & 18,751.50 & 17,644.60 & 121.76K & -1.47\\%\\\\\n",
       "\t Nov 23, 2020 & 18379.6 & 18,428.10 & 18,756.80 & 18,016.00 & 127.35K & -0.18\\%\\\\\n",
       "\t Nov 24, 2020 & 19152.6 & 18,394.60 & 19,416.60 & 18,074.80 & 180.79K & 4.21\\% \\\\\n",
       "\t Nov 25, 2020 & 18723.0 & 19,151.50 & 19,486.70 & 18,527.70 & 146.12K & -2.24\\%\\\\\n",
       "\t Nov 26, 2020 & 17162.0 & 18,721.90 & 18,894.90 & 16,235.20 & 312.07K & -8.34\\%\\\\\n",
       "\t Nov 27, 2020 & 17127.1 & 17,160.90 & 17,450.30 & 16,481.60 & 138.80K & -0.20\\%\\\\\n",
       "\t Nov 28, 2020 & 17730.7 & 17,142.60 & 17,874.40 & 16,874.40 & 95.20K  & 3.52\\% \\\\\n",
       "\t Nov 29, 2020 & 18185.5 & 17,729.70 & 18,336.30 & 17,530.40 & 79.12K  & 2.57\\% \\\\\n",
       "\t Nov 30, 2020 & 19698.1 & 18,186.00 & 19,831.20 & 18,186.00 & 185.59K & 8.32\\% \\\\\n",
       "\t Dec 01, 2020 & 18770.7 & 19,697.80 & 19,897.40 & 18,257.00 & 208.72K & -4.71\\%\\\\\n",
       "\t Dec 02, 2020 & 19218.8 & 18,767.90 & 19,335.50 & 18,346.70 & 91.92K  & 2.39\\% \\\\\n",
       "\t Dec 03, 2020 & 19433.3 & 19,219.80 & 19,596.60 & 18,883.70 & 99.97K  & 1.12\\% \\\\\n",
       "\t Dec 04, 2020 & 18658.1 & 19,431.10 & 19,529.50 & 18,610.80 & 110.63K & -3.99\\%\\\\\n",
       "\t Dec 05, 2020 & 19146.5 & 18,657.50 & 19,172.70 & 18,507.10 & 59.44K  & 2.62\\% \\\\\n",
       "\t Dec 06, 2020 & 19379.9 & 19,146.00 & 19,417.10 & 18,873.00 & 54.56K  & 1.22\\% \\\\\n",
       "\t Dec 07, 2020 & 19170.7 & 19,368.40 & 19,424.60 & 18,908.80 & 61.98K  & -1.08\\%\\\\\n",
       "\t Dec 08, 2020 & 18326.6 & 19,170.80 & 19,288.60 & 18,229.20 & 101.41K & -4.40\\%\\\\\n",
       "\t Dec 09, 2020 & 18546.0 & 18,322.40 & 18,637.90 & 17,658.80 & 129.72K & 1.20\\% \\\\\n",
       "\t Dec 10, 2020 & 18247.2 & 18,546.10 & 18,551.80 & 17,926.80 & 85.31K  & -1.61\\%\\\\\n",
       "\t Dec 11, 2020 & 18023.6 & 18,250.50 & 18,288.30 & 17,600.10 & 111.53K & -1.23\\%\\\\\n",
       "\t Dec 12, 2020 & 18808.9 & 18,026.70 & 18,936.20 & 18,025.10 & 71.37K  & 4.36\\% \\\\\n",
       "\t Dec 13, 2020 & 19176.8 & 18,808.10 & 19,403.60 & 18,716.80 & 82.45K  & 1.96\\% \\\\\n",
       "\t Dec 14, 2020 & 19273.8 & 19,176.40 & 19,346.50 & 19,007.00 & 67.11K  & 0.51\\% \\\\\n",
       "\t Dec 15, 2020 & 19434.9 & 19,273.90 & 19,556.30 & 19,076.20 & 98.39K  & 0.84\\% \\\\\n",
       "\t Dec 16, 2020 & 21352.2 & 19,434.70 & 21,525.30 & 19,299.70 & 199.81K & 9.87\\% \\\\\n",
       "\t ... & ... & ... & ... & ... & ... & ...\\\\\n",
       "\t Feb 16, 2021 & 49169.7 & 47,934.20 & 50,515.80 & 47,044.40 & 141.37K & 2.57\\% \\\\\n",
       "\t Feb 17, 2021 & 52079.2 & 49,161.30 & 52,577.70 & 49,018.10 & 140.03K & 5.92\\% \\\\\n",
       "\t Feb 18, 2021 & 51582.2 & 52,094.50 & 52,524.00 & 50,941.60 & 94.35K  & -0.95\\%\\\\\n",
       "\t Feb 19, 2021 & 55906.6 & 51,590.10 & 56,238.50 & 50,816.80 & 139.43K & 8.38\\% \\\\\n",
       "\t Feb 20, 2021 & 55923.7 & 55,922.00 & 57,523.80 & 54,124.10 & 127.85K & 0.03\\% \\\\\n",
       "\t Feb 21, 2021 & 57433.8 & 55,907.60 & 58,335.10 & 55,502.70 & 87.26K  & 2.70\\% \\\\\n",
       "\t Feb 22, 2021 & 54111.8 & 57,437.60 & 57,480.80 & 48,353.80 & 244.95K & -5.78\\%\\\\\n",
       "\t Feb 23, 2021 & 48911.2 & 54,114.10 & 54,115.00 & 45,093.80 & 315.07K & -9.61\\%\\\\\n",
       "\t Feb 24, 2021 & 49697.5 & 48,911.10 & 51,311.80 & 47,031.70 & 153.75K & 1.61\\% \\\\\n",
       "\t Feb 25, 2021 & 46928.5 & 49,695.90 & 52,013.80 & 46,773.70 & 83.22K  & -5.57\\%\\\\\n",
       "\t Feb 26, 2021 & 46345.6 & 46,928.50 & 48,413.90 & 44,248.20 & 189.41K & -1.24\\%\\\\\n",
       "\t Feb 27, 2021 & 46136.7 & 46,333.10 & 48,335.10 & 45,059.40 & 98.75K  & -0.45\\%\\\\\n",
       "\t Feb 28, 2021 & 45164.0 & 46,136.00 & 46,582.00 & 43,100.60 & 135.08K & -2.11\\%\\\\\n",
       "\t Mar 01, 2021 & 49595.5 & 45,160.50 & 49,774.00 & 45,008.80 & 137.52K & 9.81\\% \\\\\n",
       "\t Mar 02, 2021 & 48424.2 & 49,595.60 & 50,191.90 & 47,100.60 & 102.10K & -2.36\\%\\\\\n",
       "\t Mar 03, 2021 & 50395.1 & 48,422.20 & 52,567.90 & 48,159.20 & 44.93K  & 4.07\\% \\\\\n",
       "\t Mar 04, 2021 & 48428.0 & 50,388.00 & 51,757.70 & 47,521.80 & 9.56K   & -3.90\\%\\\\\n",
       "\t Mar 05, 2021 & 48792.5 & 48,363.60 & 49,429.40 & 46,370.10 & 113.64K & 0.75\\% \\\\\n",
       "\t Mar 06, 2021 & 48855.6 & 48,798.70 & 49,191.80 & 47,132.80 & 66.66K  & 0.13\\% \\\\\n",
       "\t Mar 07, 2021 & 50982.3 & 48,899.00 & 51,434.10 & 48,890.60 & 82.91K  & 4.35\\% \\\\\n",
       "\t Mar 08, 2021 & 52311.0 & 50,988.90 & 52,384.90 & 49,338.10 & 68.14K  & 2.61\\% \\\\\n",
       "\t Mar 09, 2021 & 54879.0 & 52,352.40 & 54,880.60 & 51,941.30 & 114.06K & 4.91\\% \\\\\n",
       "\t Mar 10, 2021 & 55851.9 & 54,882.70 & 57,328.70 & 53,073.60 & 140.96K & 1.77\\% \\\\\n",
       "\t Mar 11, 2021 & 57799.5 & 55,851.20 & 58,135.00 & 54,351.80 & 129.63K & 3.49\\% \\\\\n",
       "\t Mar 12, 2021 & 57265.1 & 57,806.20 & 58,052.30 & 55,134.50 & 116.96K & -0.92\\%\\\\\n",
       "\t Mar 13, 2021 & 61195.3 & 57,267.40 & 61,795.80 & 56,118.80 & 134.64K & 6.86\\% \\\\\n",
       "\t Mar 14, 2021 & 59113.7 & 61,192.70 & 61,673.70 & 59,113.70 & 80.29K  & -3.40\\%\\\\\n",
       "\t Mar 15, 2021 & 55791.3 & 59,117.40 & 60,565.90 & 55,088.80 & 117.71K & -5.62\\%\\\\\n",
       "\t Mar 16, 2021 & 56889.7 & 55,619.50 & 56,889.70 & 53,342.60 & 128.51K & 1.97\\% \\\\\n",
       "\t Mar 17, 2021 & 58913.5 & 56,892.90 & 58,933.20 & 54,253.20 & 118.26K & 3.56\\% \\\\\n",
       "\\end{tabular}\n"
      ],
      "text/markdown": [
       "\n",
       "A data.frame: 121 × 7\n",
       "\n",
       "| ï..Date &lt;chr&gt; | Price &lt;dbl&gt; | Open &lt;chr&gt; | High &lt;chr&gt; | Low &lt;chr&gt; | Vol. &lt;chr&gt; | Change.. &lt;chr&gt; |\n",
       "|---|---|---|---|---|---|---|\n",
       "| Nov 17, 2020 | 17662.3 | 16,715.80 | 17,845.40 | 16,562.00 | 175.87K | 5.66%  |\n",
       "| Nov 18, 2020 | 17774.6 | 17,662.30 | 18,466.10 | 17,258.90 | 233.43K | 0.64%  |\n",
       "| Nov 19, 2020 | 17803.5 | 17,775.10 | 18,166.00 | 17,380.10 | 135.94K | 0.16%  |\n",
       "| Nov 20, 2020 | 18675.2 | 17,805.50 | 18,811.00 | 17,758.40 | 134.42K | 4.90%  |\n",
       "| Nov 21, 2020 | 18687.2 | 18,673.80 | 18,966.00 | 18,397.50 | 108.91K | 0.06%  |\n",
       "| Nov 22, 2020 | 18412.9 | 18,689.30 | 18,751.50 | 17,644.60 | 121.76K | -1.47% |\n",
       "| Nov 23, 2020 | 18379.6 | 18,428.10 | 18,756.80 | 18,016.00 | 127.35K | -0.18% |\n",
       "| Nov 24, 2020 | 19152.6 | 18,394.60 | 19,416.60 | 18,074.80 | 180.79K | 4.21%  |\n",
       "| Nov 25, 2020 | 18723.0 | 19,151.50 | 19,486.70 | 18,527.70 | 146.12K | -2.24% |\n",
       "| Nov 26, 2020 | 17162.0 | 18,721.90 | 18,894.90 | 16,235.20 | 312.07K | -8.34% |\n",
       "| Nov 27, 2020 | 17127.1 | 17,160.90 | 17,450.30 | 16,481.60 | 138.80K | -0.20% |\n",
       "| Nov 28, 2020 | 17730.7 | 17,142.60 | 17,874.40 | 16,874.40 | 95.20K  | 3.52%  |\n",
       "| Nov 29, 2020 | 18185.5 | 17,729.70 | 18,336.30 | 17,530.40 | 79.12K  | 2.57%  |\n",
       "| Nov 30, 2020 | 19698.1 | 18,186.00 | 19,831.20 | 18,186.00 | 185.59K | 8.32%  |\n",
       "| Dec 01, 2020 | 18770.7 | 19,697.80 | 19,897.40 | 18,257.00 | 208.72K | -4.71% |\n",
       "| Dec 02, 2020 | 19218.8 | 18,767.90 | 19,335.50 | 18,346.70 | 91.92K  | 2.39%  |\n",
       "| Dec 03, 2020 | 19433.3 | 19,219.80 | 19,596.60 | 18,883.70 | 99.97K  | 1.12%  |\n",
       "| Dec 04, 2020 | 18658.1 | 19,431.10 | 19,529.50 | 18,610.80 | 110.63K | -3.99% |\n",
       "| Dec 05, 2020 | 19146.5 | 18,657.50 | 19,172.70 | 18,507.10 | 59.44K  | 2.62%  |\n",
       "| Dec 06, 2020 | 19379.9 | 19,146.00 | 19,417.10 | 18,873.00 | 54.56K  | 1.22%  |\n",
       "| Dec 07, 2020 | 19170.7 | 19,368.40 | 19,424.60 | 18,908.80 | 61.98K  | -1.08% |\n",
       "| Dec 08, 2020 | 18326.6 | 19,170.80 | 19,288.60 | 18,229.20 | 101.41K | -4.40% |\n",
       "| Dec 09, 2020 | 18546.0 | 18,322.40 | 18,637.90 | 17,658.80 | 129.72K | 1.20%  |\n",
       "| Dec 10, 2020 | 18247.2 | 18,546.10 | 18,551.80 | 17,926.80 | 85.31K  | -1.61% |\n",
       "| Dec 11, 2020 | 18023.6 | 18,250.50 | 18,288.30 | 17,600.10 | 111.53K | -1.23% |\n",
       "| Dec 12, 2020 | 18808.9 | 18,026.70 | 18,936.20 | 18,025.10 | 71.37K  | 4.36%  |\n",
       "| Dec 13, 2020 | 19176.8 | 18,808.10 | 19,403.60 | 18,716.80 | 82.45K  | 1.96%  |\n",
       "| Dec 14, 2020 | 19273.8 | 19,176.40 | 19,346.50 | 19,007.00 | 67.11K  | 0.51%  |\n",
       "| Dec 15, 2020 | 19434.9 | 19,273.90 | 19,556.30 | 19,076.20 | 98.39K  | 0.84%  |\n",
       "| Dec 16, 2020 | 21352.2 | 19,434.70 | 21,525.30 | 19,299.70 | 199.81K | 9.87%  |\n",
       "| ... | ... | ... | ... | ... | ... | ... |\n",
       "| Feb 16, 2021 | 49169.7 | 47,934.20 | 50,515.80 | 47,044.40 | 141.37K | 2.57%  |\n",
       "| Feb 17, 2021 | 52079.2 | 49,161.30 | 52,577.70 | 49,018.10 | 140.03K | 5.92%  |\n",
       "| Feb 18, 2021 | 51582.2 | 52,094.50 | 52,524.00 | 50,941.60 | 94.35K  | -0.95% |\n",
       "| Feb 19, 2021 | 55906.6 | 51,590.10 | 56,238.50 | 50,816.80 | 139.43K | 8.38%  |\n",
       "| Feb 20, 2021 | 55923.7 | 55,922.00 | 57,523.80 | 54,124.10 | 127.85K | 0.03%  |\n",
       "| Feb 21, 2021 | 57433.8 | 55,907.60 | 58,335.10 | 55,502.70 | 87.26K  | 2.70%  |\n",
       "| Feb 22, 2021 | 54111.8 | 57,437.60 | 57,480.80 | 48,353.80 | 244.95K | -5.78% |\n",
       "| Feb 23, 2021 | 48911.2 | 54,114.10 | 54,115.00 | 45,093.80 | 315.07K | -9.61% |\n",
       "| Feb 24, 2021 | 49697.5 | 48,911.10 | 51,311.80 | 47,031.70 | 153.75K | 1.61%  |\n",
       "| Feb 25, 2021 | 46928.5 | 49,695.90 | 52,013.80 | 46,773.70 | 83.22K  | -5.57% |\n",
       "| Feb 26, 2021 | 46345.6 | 46,928.50 | 48,413.90 | 44,248.20 | 189.41K | -1.24% |\n",
       "| Feb 27, 2021 | 46136.7 | 46,333.10 | 48,335.10 | 45,059.40 | 98.75K  | -0.45% |\n",
       "| Feb 28, 2021 | 45164.0 | 46,136.00 | 46,582.00 | 43,100.60 | 135.08K | -2.11% |\n",
       "| Mar 01, 2021 | 49595.5 | 45,160.50 | 49,774.00 | 45,008.80 | 137.52K | 9.81%  |\n",
       "| Mar 02, 2021 | 48424.2 | 49,595.60 | 50,191.90 | 47,100.60 | 102.10K | -2.36% |\n",
       "| Mar 03, 2021 | 50395.1 | 48,422.20 | 52,567.90 | 48,159.20 | 44.93K  | 4.07%  |\n",
       "| Mar 04, 2021 | 48428.0 | 50,388.00 | 51,757.70 | 47,521.80 | 9.56K   | -3.90% |\n",
       "| Mar 05, 2021 | 48792.5 | 48,363.60 | 49,429.40 | 46,370.10 | 113.64K | 0.75%  |\n",
       "| Mar 06, 2021 | 48855.6 | 48,798.70 | 49,191.80 | 47,132.80 | 66.66K  | 0.13%  |\n",
       "| Mar 07, 2021 | 50982.3 | 48,899.00 | 51,434.10 | 48,890.60 | 82.91K  | 4.35%  |\n",
       "| Mar 08, 2021 | 52311.0 | 50,988.90 | 52,384.90 | 49,338.10 | 68.14K  | 2.61%  |\n",
       "| Mar 09, 2021 | 54879.0 | 52,352.40 | 54,880.60 | 51,941.30 | 114.06K | 4.91%  |\n",
       "| Mar 10, 2021 | 55851.9 | 54,882.70 | 57,328.70 | 53,073.60 | 140.96K | 1.77%  |\n",
       "| Mar 11, 2021 | 57799.5 | 55,851.20 | 58,135.00 | 54,351.80 | 129.63K | 3.49%  |\n",
       "| Mar 12, 2021 | 57265.1 | 57,806.20 | 58,052.30 | 55,134.50 | 116.96K | -0.92% |\n",
       "| Mar 13, 2021 | 61195.3 | 57,267.40 | 61,795.80 | 56,118.80 | 134.64K | 6.86%  |\n",
       "| Mar 14, 2021 | 59113.7 | 61,192.70 | 61,673.70 | 59,113.70 | 80.29K  | -3.40% |\n",
       "| Mar 15, 2021 | 55791.3 | 59,117.40 | 60,565.90 | 55,088.80 | 117.71K | -5.62% |\n",
       "| Mar 16, 2021 | 56889.7 | 55,619.50 | 56,889.70 | 53,342.60 | 128.51K | 1.97%  |\n",
       "| Mar 17, 2021 | 58913.5 | 56,892.90 | 58,933.20 | 54,253.20 | 118.26K | 3.56%  |\n",
       "\n"
      ],
      "text/plain": [
       "    ï..Date      Price   Open      High      Low       Vol.    Change..\n",
       "1   Nov 17, 2020 17662.3 16,715.80 17,845.40 16,562.00 175.87K 5.66%   \n",
       "2   Nov 18, 2020 17774.6 17,662.30 18,466.10 17,258.90 233.43K 0.64%   \n",
       "3   Nov 19, 2020 17803.5 17,775.10 18,166.00 17,380.10 135.94K 0.16%   \n",
       "4   Nov 20, 2020 18675.2 17,805.50 18,811.00 17,758.40 134.42K 4.90%   \n",
       "5   Nov 21, 2020 18687.2 18,673.80 18,966.00 18,397.50 108.91K 0.06%   \n",
       "6   Nov 22, 2020 18412.9 18,689.30 18,751.50 17,644.60 121.76K -1.47%  \n",
       "7   Nov 23, 2020 18379.6 18,428.10 18,756.80 18,016.00 127.35K -0.18%  \n",
       "8   Nov 24, 2020 19152.6 18,394.60 19,416.60 18,074.80 180.79K 4.21%   \n",
       "9   Nov 25, 2020 18723.0 19,151.50 19,486.70 18,527.70 146.12K -2.24%  \n",
       "10  Nov 26, 2020 17162.0 18,721.90 18,894.90 16,235.20 312.07K -8.34%  \n",
       "11  Nov 27, 2020 17127.1 17,160.90 17,450.30 16,481.60 138.80K -0.20%  \n",
       "12  Nov 28, 2020 17730.7 17,142.60 17,874.40 16,874.40 95.20K  3.52%   \n",
       "13  Nov 29, 2020 18185.5 17,729.70 18,336.30 17,530.40 79.12K  2.57%   \n",
       "14  Nov 30, 2020 19698.1 18,186.00 19,831.20 18,186.00 185.59K 8.32%   \n",
       "15  Dec 01, 2020 18770.7 19,697.80 19,897.40 18,257.00 208.72K -4.71%  \n",
       "16  Dec 02, 2020 19218.8 18,767.90 19,335.50 18,346.70 91.92K  2.39%   \n",
       "17  Dec 03, 2020 19433.3 19,219.80 19,596.60 18,883.70 99.97K  1.12%   \n",
       "18  Dec 04, 2020 18658.1 19,431.10 19,529.50 18,610.80 110.63K -3.99%  \n",
       "19  Dec 05, 2020 19146.5 18,657.50 19,172.70 18,507.10 59.44K  2.62%   \n",
       "20  Dec 06, 2020 19379.9 19,146.00 19,417.10 18,873.00 54.56K  1.22%   \n",
       "21  Dec 07, 2020 19170.7 19,368.40 19,424.60 18,908.80 61.98K  -1.08%  \n",
       "22  Dec 08, 2020 18326.6 19,170.80 19,288.60 18,229.20 101.41K -4.40%  \n",
       "23  Dec 09, 2020 18546.0 18,322.40 18,637.90 17,658.80 129.72K 1.20%   \n",
       "24  Dec 10, 2020 18247.2 18,546.10 18,551.80 17,926.80 85.31K  -1.61%  \n",
       "25  Dec 11, 2020 18023.6 18,250.50 18,288.30 17,600.10 111.53K -1.23%  \n",
       "26  Dec 12, 2020 18808.9 18,026.70 18,936.20 18,025.10 71.37K  4.36%   \n",
       "27  Dec 13, 2020 19176.8 18,808.10 19,403.60 18,716.80 82.45K  1.96%   \n",
       "28  Dec 14, 2020 19273.8 19,176.40 19,346.50 19,007.00 67.11K  0.51%   \n",
       "29  Dec 15, 2020 19434.9 19,273.90 19,556.30 19,076.20 98.39K  0.84%   \n",
       "30  Dec 16, 2020 21352.2 19,434.70 21,525.30 19,299.70 199.81K 9.87%   \n",
       "... ...          ...     ...       ...       ...       ...     ...     \n",
       "92  Feb 16, 2021 49169.7 47,934.20 50,515.80 47,044.40 141.37K 2.57%   \n",
       "93  Feb 17, 2021 52079.2 49,161.30 52,577.70 49,018.10 140.03K 5.92%   \n",
       "94  Feb 18, 2021 51582.2 52,094.50 52,524.00 50,941.60 94.35K  -0.95%  \n",
       "95  Feb 19, 2021 55906.6 51,590.10 56,238.50 50,816.80 139.43K 8.38%   \n",
       "96  Feb 20, 2021 55923.7 55,922.00 57,523.80 54,124.10 127.85K 0.03%   \n",
       "97  Feb 21, 2021 57433.8 55,907.60 58,335.10 55,502.70 87.26K  2.70%   \n",
       "98  Feb 22, 2021 54111.8 57,437.60 57,480.80 48,353.80 244.95K -5.78%  \n",
       "99  Feb 23, 2021 48911.2 54,114.10 54,115.00 45,093.80 315.07K -9.61%  \n",
       "100 Feb 24, 2021 49697.5 48,911.10 51,311.80 47,031.70 153.75K 1.61%   \n",
       "101 Feb 25, 2021 46928.5 49,695.90 52,013.80 46,773.70 83.22K  -5.57%  \n",
       "102 Feb 26, 2021 46345.6 46,928.50 48,413.90 44,248.20 189.41K -1.24%  \n",
       "103 Feb 27, 2021 46136.7 46,333.10 48,335.10 45,059.40 98.75K  -0.45%  \n",
       "104 Feb 28, 2021 45164.0 46,136.00 46,582.00 43,100.60 135.08K -2.11%  \n",
       "105 Mar 01, 2021 49595.5 45,160.50 49,774.00 45,008.80 137.52K 9.81%   \n",
       "106 Mar 02, 2021 48424.2 49,595.60 50,191.90 47,100.60 102.10K -2.36%  \n",
       "107 Mar 03, 2021 50395.1 48,422.20 52,567.90 48,159.20 44.93K  4.07%   \n",
       "108 Mar 04, 2021 48428.0 50,388.00 51,757.70 47,521.80 9.56K   -3.90%  \n",
       "109 Mar 05, 2021 48792.5 48,363.60 49,429.40 46,370.10 113.64K 0.75%   \n",
       "110 Mar 06, 2021 48855.6 48,798.70 49,191.80 47,132.80 66.66K  0.13%   \n",
       "111 Mar 07, 2021 50982.3 48,899.00 51,434.10 48,890.60 82.91K  4.35%   \n",
       "112 Mar 08, 2021 52311.0 50,988.90 52,384.90 49,338.10 68.14K  2.61%   \n",
       "113 Mar 09, 2021 54879.0 52,352.40 54,880.60 51,941.30 114.06K 4.91%   \n",
       "114 Mar 10, 2021 55851.9 54,882.70 57,328.70 53,073.60 140.96K 1.77%   \n",
       "115 Mar 11, 2021 57799.5 55,851.20 58,135.00 54,351.80 129.63K 3.49%   \n",
       "116 Mar 12, 2021 57265.1 57,806.20 58,052.30 55,134.50 116.96K -0.92%  \n",
       "117 Mar 13, 2021 61195.3 57,267.40 61,795.80 56,118.80 134.64K 6.86%   \n",
       "118 Mar 14, 2021 59113.7 61,192.70 61,673.70 59,113.70 80.29K  -3.40%  \n",
       "119 Mar 15, 2021 55791.3 59,117.40 60,565.90 55,088.80 117.71K -5.62%  \n",
       "120 Mar 16, 2021 56889.7 55,619.50 56,889.70 53,342.60 128.51K 1.97%   \n",
       "121 Mar 17, 2021 58913.5 56,892.90 58,933.20 54,253.20 118.26K 3.56%   "
      ]
     },
     "metadata": {},
     "output_type": "display_data"
    }
   ],
   "source": [
    "transform(bc_order, Price = as.numeric(Price))"
   ]
  },
  {
   "cell_type": "markdown",
   "metadata": {},
   "source": [
    "**Convertir a serie**"
   ]
  },
  {
   "cell_type": "code",
   "execution_count": 4,
   "metadata": {},
   "outputs": [
    {
     "data": {
      "text/html": [
       "<style>\n",
       ".list-inline {list-style: none; margin:0; padding: 0}\n",
       ".list-inline>li {display: inline-block}\n",
       ".list-inline>li:not(:last-child)::after {content: \"\\00b7\"; padding: 0 .5ex}\n",
       "</style>\n",
       "<ol class=list-inline><li>17662.3</li><li>17774.6</li><li>17803.5</li><li>18675.2</li><li>18687.2</li><li>18412.9</li><li>18379.6</li><li>19152.6</li><li>18723</li><li>17162</li><li>17127.1</li><li>17730.7</li></ol>\n"
      ],
      "text/latex": [
       "\\begin{enumerate*}\n",
       "\\item 17662.3\n",
       "\\item 17774.6\n",
       "\\item 17803.5\n",
       "\\item 18675.2\n",
       "\\item 18687.2\n",
       "\\item 18412.9\n",
       "\\item 18379.6\n",
       "\\item 19152.6\n",
       "\\item 18723\n",
       "\\item 17162\n",
       "\\item 17127.1\n",
       "\\item 17730.7\n",
       "\\end{enumerate*}\n"
      ],
      "text/markdown": [
       "1. 17662.3\n",
       "2. 17774.6\n",
       "3. 17803.5\n",
       "4. 18675.2\n",
       "5. 18687.2\n",
       "6. 18412.9\n",
       "7. 18379.6\n",
       "8. 19152.6\n",
       "9. 18723\n",
       "10. 17162\n",
       "11. 17127.1\n",
       "12. 17730.7\n",
       "\n",
       "\n"
      ],
      "text/plain": [
       " [1] 17662.3 17774.6 17803.5 18675.2 18687.2 18412.9 18379.6 19152.6 18723.0\n",
       "[10] 17162.0 17127.1 17730.7"
      ]
     },
     "metadata": {},
     "output_type": "display_data"
    }
   ],
   "source": [
    "bc_l <- ts(as.numeric(bc_order[,2]), start =c(2020,322), end = c(2021,77), frequency=365)\n",
    "head(bc_l, 12)"
   ]
  },
  {
   "cell_type": "markdown",
   "metadata": {},
   "source": [
    "**Análisis descriptivo**"
   ]
  },
  {
   "cell_type": "code",
   "execution_count": 5,
   "metadata": {
    "scrolled": true
   },
   "outputs": [
    {
     "data": {
      "text/html": [
       "<style>\n",
       ".list-inline {list-style: none; margin:0; padding: 0}\n",
       ".list-inline>li {display: inline-block}\n",
       ".list-inline>li:not(:last-child)::after {content: \"\\00b7\"; padding: 0 .5ex}\n",
       "</style>\n",
       "<ol class=list-inline><li>2020</li><li>322</li></ol>\n"
      ],
      "text/latex": [
       "\\begin{enumerate*}\n",
       "\\item 2020\n",
       "\\item 322\n",
       "\\end{enumerate*}\n"
      ],
      "text/markdown": [
       "1. 2020\n",
       "2. 322\n",
       "\n",
       "\n"
      ],
      "text/plain": [
       "[1] 2020  322"
      ]
     },
     "metadata": {},
     "output_type": "display_data"
    },
    {
     "data": {
      "text/html": [
       "<style>\n",
       ".list-inline {list-style: none; margin:0; padding: 0}\n",
       ".list-inline>li {display: inline-block}\n",
       ".list-inline>li:not(:last-child)::after {content: \"\\00b7\"; padding: 0 .5ex}\n",
       "</style>\n",
       "<ol class=list-inline><li>2021</li><li>77</li></ol>\n"
      ],
      "text/latex": [
       "\\begin{enumerate*}\n",
       "\\item 2021\n",
       "\\item 77\n",
       "\\end{enumerate*}\n"
      ],
      "text/markdown": [
       "1. 2021\n",
       "2. 77\n",
       "\n",
       "\n"
      ],
      "text/plain": [
       "[1] 2021   77"
      ]
     },
     "metadata": {},
     "output_type": "display_data"
    },
    {
     "data": {
      "text/html": [
       "'ts'"
      ],
      "text/latex": [
       "'ts'"
      ],
      "text/markdown": [
       "'ts'"
      ],
      "text/plain": [
       "[1] \"ts\""
      ]
     },
     "metadata": {},
     "output_type": "display_data"
    },
    {
     "data": {
      "text/html": [
       "<style>\n",
       ".list-inline {list-style: none; margin:0; padding: 0}\n",
       ".list-inline>li {display: inline-block}\n",
       ".list-inline>li:not(:last-child)::after {content: \"\\00b7\"; padding: 0 .5ex}\n",
       "</style>\n",
       "<ol class=list-inline><li>2020.87945205479</li><li>2020.88219178082</li><li>2020.88493150685</li><li>2020.88767123288</li><li>2020.8904109589</li><li>2020.89315068493</li><li>2020.89589041096</li><li>2020.89863013699</li><li>2020.90136986301</li><li>2020.90410958904</li><li>2020.90684931507</li><li>2020.9095890411</li></ol>\n"
      ],
      "text/latex": [
       "\\begin{enumerate*}\n",
       "\\item 2020.87945205479\n",
       "\\item 2020.88219178082\n",
       "\\item 2020.88493150685\n",
       "\\item 2020.88767123288\n",
       "\\item 2020.8904109589\n",
       "\\item 2020.89315068493\n",
       "\\item 2020.89589041096\n",
       "\\item 2020.89863013699\n",
       "\\item 2020.90136986301\n",
       "\\item 2020.90410958904\n",
       "\\item 2020.90684931507\n",
       "\\item 2020.9095890411\n",
       "\\end{enumerate*}\n"
      ],
      "text/markdown": [
       "1. 2020.87945205479\n",
       "2. 2020.88219178082\n",
       "3. 2020.88493150685\n",
       "4. 2020.88767123288\n",
       "5. 2020.8904109589\n",
       "6. 2020.89315068493\n",
       "7. 2020.89589041096\n",
       "8. 2020.89863013699\n",
       "9. 2020.90136986301\n",
       "10. 2020.90410958904\n",
       "11. 2020.90684931507\n",
       "12. 2020.9095890411\n",
       "\n",
       "\n"
      ],
      "text/plain": [
       " [1] 2020.879 2020.882 2020.885 2020.888 2020.890 2020.893 2020.896 2020.899\n",
       " [9] 2020.901 2020.904 2020.907 2020.910"
      ]
     },
     "metadata": {},
     "output_type": "display_data"
    },
    {
     "data": {
      "text/html": [
       "<style>\n",
       ".list-inline {list-style: none; margin:0; padding: 0}\n",
       ".list-inline>li {display: inline-block}\n",
       ".list-inline>li:not(:last-child)::after {content: \"\\00b7\"; padding: 0 .5ex}\n",
       "</style>\n",
       "<ol class=list-inline><li>17662.3</li><li>17774.6</li><li>17803.5</li><li>18675.2</li><li>18687.2</li><li>18412.9</li><li>18379.6</li><li>19152.6</li><li>18723</li><li>17162</li><li>17127.1</li><li>17730.7</li></ol>\n"
      ],
      "text/latex": [
       "\\begin{enumerate*}\n",
       "\\item 17662.3\n",
       "\\item 17774.6\n",
       "\\item 17803.5\n",
       "\\item 18675.2\n",
       "\\item 18687.2\n",
       "\\item 18412.9\n",
       "\\item 18379.6\n",
       "\\item 19152.6\n",
       "\\item 18723\n",
       "\\item 17162\n",
       "\\item 17127.1\n",
       "\\item 17730.7\n",
       "\\end{enumerate*}\n"
      ],
      "text/markdown": [
       "1. 17662.3\n",
       "2. 17774.6\n",
       "3. 17803.5\n",
       "4. 18675.2\n",
       "5. 18687.2\n",
       "6. 18412.9\n",
       "7. 18379.6\n",
       "8. 19152.6\n",
       "9. 18723\n",
       "10. 17162\n",
       "11. 17127.1\n",
       "12. 17730.7\n",
       "\n",
       "\n"
      ],
      "text/plain": [
       " [1] 17662.3 17774.6 17803.5 18675.2 18687.2 18412.9 18379.6 19152.6 18723.0\n",
       "[10] 17162.0 17127.1 17730.7"
      ]
     },
     "metadata": {},
     "output_type": "display_data"
    }
   ],
   "source": [
    "start(bc_l)\n",
    "end(bc_l)\n",
    "class(bc_l)\n",
    "head(time(bc_l),12)\n",
    "head(bc_l, 12)"
   ]
  },
  {
   "cell_type": "code",
   "execution_count": 6,
   "metadata": {},
   "outputs": [
    {
     "data": {
      "image/png": "[encoded data removed]",
      "text/plain": [
       "Plot with title \"Gráfico de los datos originales\""
      ]
     },
     "metadata": {
      "image/png": {
       "height": 420,
       "width": 420
      }
     },
     "output_type": "display_data"
    }
   ],
   "source": [
    "plot(bc_l,\n",
    "    main = 'Gráfico de los datos originales',\n",
    "    xlab = \"Fecha\",\n",
    "    ylab = \"Precio\")"
   ]
  },
  {
   "cell_type": "markdown",
   "metadata": {},
   "source": [
    "### Clasificación"
   ]
  },
  {
   "cell_type": "markdown",
   "metadata": {},
   "source": [
    "**Tendencia lineal**\n",
    "\n",
    "Modelo: y = $\\beta_0 + \\beta_1 x$"
   ]
  },
  {
   "cell_type": "markdown",
   "metadata": {},
   "source": [
    "**$H_0:$** $\\beta_1$ igual a 0.\n",
    "\n",
    "**$H_a:$** $\\beta_1$ diferente de 0.\n",
    "\n",
    "$\\alpha = 0.05$ "
   ]
  },
  {
   "cell_type": "code",
   "execution_count": 7,
   "metadata": {},
   "outputs": [],
   "source": [
    "tend<-lm(bc_l~time(bc_l), data=bc_l)"
   ]
  },
  {
   "cell_type": "code",
   "execution_count": 8,
   "metadata": {},
   "outputs": [
    {
     "data": {
      "text/plain": [
       "\n",
       "Call:\n",
       "lm(formula = bc_l ~ time(bc_l), data = bc_l)\n",
       "\n",
       "Residuals:\n",
       "   Min     1Q Median     3Q    Max \n",
       " -8470  -3040     29   2748   9577 \n",
       "\n",
       "Coefficients:\n",
       "              Estimate Std. Error t value Pr(>|t|)    \n",
       "(Intercept) -265034458    7377100  -35.93   <2e-16 ***\n",
       "time(bc_l)      131155       3650   35.93   <2e-16 ***\n",
       "---\n",
       "Signif. codes:  0 '***' 0.001 '**' 0.01 '*' 0.05 '.' 0.1 ' ' 1\n",
       "\n",
       "Residual standard error: 3842 on 119 degrees of freedom\n",
       "Multiple R-squared:  0.9156,\tAdjusted R-squared:  0.9149 \n",
       "F-statistic:  1291 on 1 and 119 DF,  p-value: < 2.2e-16\n"
      ]
     },
     "metadata": {},
     "output_type": "display_data"
    }
   ],
   "source": [
    "summary(tend)"
   ]
  },
  {
   "cell_type": "markdown",
   "metadata": {},
   "source": [
    "* **p-valor:** 2.2e^-16\n",
    "* **R^2 ajustada:** 0.9149 por lo que se ajusta al modelo lineal lo suficiente.\n",
    "* **Conclusión:** Se rechazo Ho, dado que el p-valor muy pequeño y menor que alfa. Por lo que si hay relación entre las variables y existe tendencia lineal."
   ]
  },
  {
   "cell_type": "markdown",
   "metadata": {},
   "source": [
    "**Modelo de tendencia logarítmica**\n",
    "\n",
    "Modelo:  y = $\\beta_0 + \\beta_1 \\log(x)$"
   ]
  },
  {
   "cell_type": "markdown",
   "metadata": {},
   "source": [
    "**$H_0:$** $\\beta_1$ igual a 0.\n",
    "\n",
    "**$H_a:$** $\\beta_1$ diferente de 0.\n",
    "\n",
    "$\\alpha = 0.05$ "
   ]
  },
  {
   "cell_type": "code",
   "execution_count": 9,
   "metadata": {},
   "outputs": [
    {
     "data": {
      "text/plain": [
       "\n",
       "Call:\n",
       "lm(formula = bc_l ~ logtime)\n",
       "\n",
       "Residuals:\n",
       "    Min      1Q  Median      3Q     Max \n",
       "-8470.2 -3039.7    29.5  2748.4  9576.7 \n",
       "\n",
       "Coefficients:\n",
       "              Estimate Std. Error t value Pr(>|t|)    \n",
       "(Intercept) -2.018e+09  5.615e+07  -35.93   <2e-16 ***\n",
       "logtime      2.651e+08  7.377e+06   35.93   <2e-16 ***\n",
       "---\n",
       "Signif. codes:  0 '***' 0.001 '**' 0.01 '*' 0.05 '.' 0.1 ' ' 1\n",
       "\n",
       "Residual standard error: 3842 on 119 degrees of freedom\n",
       "Multiple R-squared:  0.9156,\tAdjusted R-squared:  0.9149 \n",
       "F-statistic:  1291 on 1 and 119 DF,  p-value: < 2.2e-16\n"
      ]
     },
     "metadata": {},
     "output_type": "display_data"
    }
   ],
   "source": [
    "logtime <-log(time(bc_l))\n",
    "tlog<-lm(bc_l~logtime)\n",
    "summary(tlog)"
   ]
  },
  {
   "cell_type": "markdown",
   "metadata": {},
   "source": [
    "* **p-valor:** 2.2^-16\n",
    "* **R^2 ajustada:** 0.9149, por lo que se ajusta al modelo logarítico lo suficiente.\n",
    "* **Conclusión:** Se rechazo Ho, dado que el p-valor muy pequeño y menor que alfa. Por lo que si hay relación entre las variables y existe tendencia logaritmica."
   ]
  },
  {
   "cell_type": "markdown",
   "metadata": {},
   "source": [
    "**Modelo de tendencia exponencial**\n",
    "\n",
    "Modelo:  y = $\\beta_0  e^{\\beta_1  x}$"
   ]
  },
  {
   "cell_type": "markdown",
   "metadata": {},
   "source": [
    "**$H_0:$** $\\beta_1$ igual a 0.\n",
    "\n",
    "**$H_a:$** $\\beta_1$ diferente de 0.\n",
    "\n",
    "$\\alpha = 0.05$ "
   ]
  },
  {
   "cell_type": "code",
   "execution_count": 10,
   "metadata": {},
   "outputs": [
    {
     "data": {
      "text/plain": [
       "\n",
       "Call:\n",
       "lm(formula = logPrice ~ time(bc_l))\n",
       "\n",
       "Residuals:\n",
       "     Min       1Q   Median       3Q      Max \n",
       "-0.19311 -0.08419 -0.02992  0.07151  0.31348 \n",
       "\n",
       "Coefficients:\n",
       "              Estimate Std. Error t value Pr(>|t|)    \n",
       "(Intercept) -8037.7455   212.0867  -37.90   <2e-16 ***\n",
       "time(bc_l)      3.9822     0.1049   37.95   <2e-16 ***\n",
       "---\n",
       "Signif. codes:  0 '***' 0.001 '**' 0.01 '*' 0.05 '.' 0.1 ' ' 1\n",
       "\n",
       "Residual standard error: 0.1105 on 119 degrees of freedom\n",
       "Multiple R-squared:  0.9237,\tAdjusted R-squared:  0.923 \n",
       "F-statistic:  1440 on 1 and 119 DF,  p-value: < 2.2e-16\n"
      ]
     },
     "metadata": {},
     "output_type": "display_data"
    }
   ],
   "source": [
    "logPrice <- log(bc_l)\n",
    "te <- lm(logPrice~time(bc_l))\n",
    "summary(te)"
   ]
  },
  {
   "cell_type": "markdown",
   "metadata": {},
   "source": [
    "* **p-valor:** 2.2e^-16,\n",
    "* **R^2 ajustada:** 0.923, por lo que se ajusta al modelo de tendencia exponencial \n",
    "* **Conclusión:** Se rechazo Ho, dado que el p-valor muy pequeño y menor que alfa. Por lo que si hay relación entre las variables por el modelo de tendencia exponencial."
   ]
  },
  {
   "cell_type": "markdown",
   "metadata": {},
   "source": [
    "**Modelo de tendencia polinómica**\n",
    "\n",
    "Modelo: $y = \\beta_0 + \\beta_1 x + \\beta_2 x^2 + \\beta_3 x^3$"
   ]
  },
  {
   "cell_type": "markdown",
   "metadata": {},
   "source": [
    "**$H_0:$** $\\beta_1, \\beta_2, \\beta_3$ igual a 0.\n",
    "\n",
    "**$H_a:$** $\\beta_1, \\beta_2, \\beta_3$ alguna diferente de 0.\n",
    "\n",
    "$\\alpha = 0.05$ "
   ]
  },
  {
   "cell_type": "code",
   "execution_count": 11,
   "metadata": {},
   "outputs": [
    {
     "data": {
      "text/plain": [
       "\n",
       "Call:\n",
       "lm(formula = bc_l ~ poly(tc, degree = 2))\n",
       "\n",
       "Residuals:\n",
       "    Min      1Q  Median      3Q     Max \n",
       "-7592.3 -2927.6  -350.3  2272.5  9516.0 \n",
       "\n",
       "Coefficients:\n",
       "                      Estimate Std. Error t value Pr(>|t|)    \n",
       "(Intercept)            34921.3      341.5 102.264   <2e-16 ***\n",
       "poly(tc, degree = 2)1 138058.6     3756.3  36.754   <2e-16 ***\n",
       "poly(tc, degree = 2)2   9584.5     3756.3   2.552    0.012 *  \n",
       "---\n",
       "Signif. codes:  0 '***' 0.001 '**' 0.01 '*' 0.05 '.' 0.1 ' ' 1\n",
       "\n",
       "Residual standard error: 3756 on 118 degrees of freedom\n",
       "Multiple R-squared:   0.92,\tAdjusted R-squared:  0.9187 \n",
       "F-statistic: 678.7 on 2 and 118 DF,  p-value: < 2.2e-16\n"
      ]
     },
     "metadata": {},
     "output_type": "display_data"
    }
   ],
   "source": [
    "tc<-as.numeric(time(bc_l))\n",
    "tenc<-lm(bc_l~poly(tc, degree=2))\n",
    "summary(tenc)"
   ]
  },
  {
   "cell_type": "markdown",
   "metadata": {},
   "source": [
    "* **p-valor:** 2.2e^-16,\n",
    "* **R^2 ajustada:** 0.9188, por lo que se ajusta al modelo de tendencia polinómica de buena manera.\n",
    "* **Conclusión:** Se rechazo Ho, dado que el p-valor es muy pequeño y menor que alfa. Por lo que si hay relación entre las variables por el modelo de tendencia polinómica de grado 2."
   ]
  },
  {
   "cell_type": "code",
   "execution_count": 12,
   "metadata": {},
   "outputs": [
    {
     "data": {
      "image/png": "[encoded data removed]",
      "text/plain": [
       "Plot with title \"Regresión lineal\""
      ]
     },
     "metadata": {
      "image/png": {
       "height": 420,
       "width": 420
      }
     },
     "output_type": "display_data"
    },
    {
     "data": {
      "image/png": "[encoded data removed]",
      "text/plain": [
       "Plot with title \"Regresión exponencial\""
      ]
     },
     "metadata": {
      "image/png": {
       "height": 420,
       "width": 420
      }
     },
     "output_type": "display_data"
    }
   ],
   "source": [
    "plot(bc_l,\n",
    "    main = 'Regresión lineal',\n",
    "    ylab = 'Precios',\n",
    "    xlab = 'Fecha')\n",
    "abline(tend, col=\"red\")\n",
    "legend('topleft', \n",
    "       legend = c('Lineal', 'y = -265,034,458 + 131,155 x'),\n",
    "        col = c('red', 'white'),\n",
    "      lty = 1)\n",
    "\n",
    "plot(log(bc_l),\n",
    "     main = 'Regresión exponencial',\n",
    "    ylab = 'Logaritmo de los Precios',\n",
    "    xlab = 'Fecha')\n",
    "lines(tc, fitted.values(te),\n",
    "     col = 'blue')\n",
    "legend('topleft', \n",
    "       legend = c('Exponencial', 'y = -8037.74 * exp(3.98 x)'),\n",
    "        col = c('blue', 'white'),\n",
    "      lty = 1)"
   ]
  },
  {
   "cell_type": "markdown",
   "metadata": {},
   "source": [
    "**Conclusión de media:** El modelo de tendencia exponenciaal y lineal se ajustan de buena manera por lo que la serie **No es estacionaria en media**"
   ]
  },
  {
   "cell_type": "markdown",
   "metadata": {},
   "source": [
    "**Varianza**"
   ]
  },
  {
   "cell_type": "markdown",
   "metadata": {},
   "source": [
    "**$H_0:$** La serie NO es estacionaria en varianza\n",
    "\n",
    "**$H_a:$** La serie SI es estacionaria en varianza\n",
    "\n",
    "$\\alpha = 0.05$ "
   ]
  },
  {
   "cell_type": "code",
   "execution_count": 13,
   "metadata": {},
   "outputs": [
    {
     "data": {
      "text/plain": [
       "\n",
       "\tAugmented Dickey-Fuller Test\n",
       "\n",
       "data:  bc_l\n",
       "Dickey-Fuller = -2.7205, Lag order = 4, p-value = 0.2773\n",
       "alternative hypothesis: stationary\n"
      ]
     },
     "metadata": {},
     "output_type": "display_data"
    }
   ],
   "source": [
    "adf.test(bc_l, alternative=\"stationary\")"
   ]
  },
  {
   "cell_type": "markdown",
   "metadata": {},
   "source": [
    "**Conclusión de varianza:** La serie **No es estacionaria varianza**"
   ]
  },
  {
   "cell_type": "markdown",
   "metadata": {},
   "source": [
    "### Conclusión general de serie original: \n",
    "**No es estacionaria en media ni varianza**"
   ]
  },
  {
   "cell_type": "markdown",
   "metadata": {},
   "source": [
    "## Correcciones"
   ]
  },
  {
   "cell_type": "markdown",
   "metadata": {},
   "source": [
    "**Corrección 1**"
   ]
  },
  {
   "cell_type": "code",
   "execution_count": 14,
   "metadata": {},
   "outputs": [],
   "source": [
    "c1 <- diff(log(bc_l))"
   ]
  },
  {
   "cell_type": "code",
   "execution_count": 15,
   "metadata": {},
   "outputs": [
    {
     "data": {
      "image/png": "[encoded data removed]",
      "text/plain": [
       "Plot with title \"Gráfico de corrección 1. Diferencia y Logaritmo\""
      ]
     },
     "metadata": {
      "image/png": {
       "height": 420,
       "width": 420
      }
     },
     "output_type": "display_data"
    }
   ],
   "source": [
    "plot(c1,\n",
    "    main = 'Gráfico de corrección 1. Diferencia y Logaritmo')"
   ]
  },
  {
   "cell_type": "markdown",
   "metadata": {},
   "source": [
    "**Tendencia**"
   ]
  },
  {
   "cell_type": "markdown",
   "metadata": {},
   "source": [
    "**Tendencia lineal**\n",
    "\n",
    "Modelo: y = $\\beta_0 + \\beta_1 x$"
   ]
  },
  {
   "cell_type": "markdown",
   "metadata": {},
   "source": [
    "**$H_0:$** $\\beta_1$ igual a 0.\n",
    "\n",
    "**$H_a:$** $\\beta_1$ diferente de 0.\n",
    "\n",
    "$\\alpha = 0.05$ "
   ]
  },
  {
   "cell_type": "code",
   "execution_count": 16,
   "metadata": {},
   "outputs": [
    {
     "data": {
      "text/plain": [
       "\n",
       "Call:\n",
       "lm(formula = c1 ~ time(c1))\n",
       "\n",
       "Residuals:\n",
       "      Min        1Q    Median        3Q       Max \n",
       "-0.150008 -0.025184 -0.002056  0.025010  0.167457 \n",
       "\n",
       "Coefficients:\n",
       "             Estimate Std. Error t value Pr(>|t|)\n",
       "(Intercept)  2.367192  88.764728   0.027    0.979\n",
       "time(c1)    -0.001166   0.043920  -0.027    0.979\n",
       "\n",
       "Residual standard error: 0.04566 on 118 degrees of freedom\n",
       "Multiple R-squared:  5.976e-06,\tAdjusted R-squared:  -0.008469 \n",
       "F-statistic: 0.0007052 on 1 and 118 DF,  p-value: 0.9789\n"
      ]
     },
     "metadata": {},
     "output_type": "display_data"
    }
   ],
   "source": [
    "tn<-lm(c1~time(c1))\n",
    "summary(tn)"
   ]
  },
  {
   "cell_type": "markdown",
   "metadata": {},
   "source": [
    "**Modelo de tendencia polinómica**\n",
    "\n",
    "Modelo: $y = \\beta_0 + \\beta_1 x + \\beta_2 x^2 + \\beta_3 x^3$"
   ]
  },
  {
   "cell_type": "markdown",
   "metadata": {},
   "source": [
    "**$H_0:$** $\\beta_1, \\beta_2, \\beta_3$ igual a 0.\n",
    "\n",
    "**$H_a:$** $\\beta_1, \\beta_2, \\beta_3$ alguna diferente de 0.\n",
    "\n",
    "$\\alpha = 0.05$ "
   ]
  },
  {
   "cell_type": "code",
   "execution_count": 17,
   "metadata": {},
   "outputs": [
    {
     "data": {
      "text/plain": [
       "\n",
       "Call:\n",
       "lm(formula = c1 ~ poly(tc, degree = 3))\n",
       "\n",
       "Residuals:\n",
       "     Min       1Q   Median       3Q      Max \n",
       "-0.15137 -0.02636 -0.00081  0.02517  0.16940 \n",
       "\n",
       "Coefficients:\n",
       "                       Estimate Std. Error t value Pr(>|t|)  \n",
       "(Intercept)            0.010039   0.004192   2.395   0.0182 *\n",
       "poly(tc, degree = 3)1 -0.001213   0.045917  -0.026   0.9790  \n",
       "poly(tc, degree = 3)2 -0.021885   0.045917  -0.477   0.6345  \n",
       "poly(tc, degree = 3)3  0.031060   0.045917   0.676   0.5001  \n",
       "---\n",
       "Signif. codes:  0 '***' 0.001 '**' 0.01 '*' 0.05 '.' 0.1 ' ' 1\n",
       "\n",
       "Residual standard error: 0.04592 on 116 degrees of freedom\n",
       "Multiple R-squared:  0.005874,\tAdjusted R-squared:  -0.01984 \n",
       "F-statistic: 0.2285 on 3 and 116 DF,  p-value: 0.8764\n"
      ]
     },
     "metadata": {},
     "output_type": "display_data"
    }
   ],
   "source": [
    "tc<-as.numeric(time(c1))\n",
    "summary(lm(c1~poly(tc, degree=3)))"
   ]
  },
  {
   "cell_type": "markdown",
   "metadata": {},
   "source": [
    "**Conclusión de media:** Los modelos de tendencia no se ajustan. **Es estacionaria en media**"
   ]
  },
  {
   "cell_type": "markdown",
   "metadata": {},
   "source": [
    "**Varianza**"
   ]
  },
  {
   "cell_type": "code",
   "execution_count": 18,
   "metadata": {},
   "outputs": [
    {
     "name": "stderr",
     "output_type": "stream",
     "text": [
      "Warning message in adf.test(c1, alternative = \"stationary\"):\n",
      "\"p-value smaller than printed p-value\"\n"
     ]
    },
    {
     "data": {
      "text/plain": [
       "\n",
       "\tAugmented Dickey-Fuller Test\n",
       "\n",
       "data:  c1\n",
       "Dickey-Fuller = -4.5556, Lag order = 4, p-value = 0.01\n",
       "alternative hypothesis: stationary\n"
      ]
     },
     "metadata": {},
     "output_type": "display_data"
    }
   ],
   "source": [
    "adf.test(c1, alternative=\"stationary\")"
   ]
  },
  {
   "cell_type": "markdown",
   "metadata": {},
   "source": [
    "**Conclusión de varianza:** La serie de la corrección 1 **Es estacionaria varianza**"
   ]
  },
  {
   "cell_type": "markdown",
   "metadata": {},
   "source": [
    "### Conclusión general de correción 1 de la serie: \n",
    "**Es estacionaria en media y en varianza**"
   ]
  },
  {
   "cell_type": "markdown",
   "metadata": {},
   "source": [
    "## Modelado"
   ]
  },
  {
   "cell_type": "code",
   "execution_count": 19,
   "metadata": {
    "scrolled": false
   },
   "outputs": [
    {
     "data": {
      "image/png": "[encoded data removed]",
      "text/plain": [
       "Plot with title \"Autocorrelograma\""
      ]
     },
     "metadata": {
      "image/png": {
       "height": 420,
       "width": 420
      }
     },
     "output_type": "display_data"
    },
    {
     "data": {
      "image/png": "[encoded data removed]",
      "text/plain": [
       "Plot with title \"Autocorrelograma Parcial\""
      ]
     },
     "metadata": {
      "image/png": {
       "height": 420,
       "width": 420
      }
     },
     "output_type": "display_data"
    }
   ],
   "source": [
    "acf(c1,\n",
    "   main = 'Autocorrelograma') \n",
    "pacf(c1,\n",
    "    main = 'Autocorrelograma Parcial') "
   ]
  },
  {
   "cell_type": "markdown",
   "metadata": {},
   "source": [
    "**MODELO AR(𝑝)**"
   ]
  },
  {
   "cell_type": "code",
   "execution_count": 20,
   "metadata": {},
   "outputs": [
    {
     "data": {
      "text/plain": [
       "\n",
       "Call:\n",
       "ar(x = c1)\n",
       "\n",
       "\n",
       "Order selected 0  sigma^2 estimated as  0.002067"
      ]
     },
     "metadata": {},
     "output_type": "display_data"
    }
   ],
   "source": [
    "ar(c1)"
   ]
  },
  {
   "cell_type": "code",
   "execution_count": 21,
   "metadata": {},
   "outputs": [
    {
     "data": {
      "text/html": [
       "-396.267041676691"
      ],
      "text/latex": [
       "-396.267041676691"
      ],
      "text/markdown": [
       "-396.267041676691"
      ],
      "text/plain": [
       "[1] -396.267"
      ]
     },
     "metadata": {},
     "output_type": "display_data"
    }
   ],
   "source": [
    "AIC(arima(c1, order=c(1,0,0), method=\"ML\"))"
   ]
  },
  {
   "cell_type": "markdown",
   "metadata": {},
   "source": [
    "* El orden del mejor AR: 1\n",
    "\n",
    "* AIC del mejor AR: -398.2670"
   ]
  },
  {
   "cell_type": "markdown",
   "metadata": {},
   "source": [
    "**MODELO MA(𝑞)**"
   ]
  },
  {
   "cell_type": "code",
   "execution_count": 22,
   "metadata": {},
   "outputs": [
    {
     "data": {
      "text/html": [
       "1"
      ],
      "text/latex": [
       "1"
      ],
      "text/markdown": [
       "1"
      ],
      "text/plain": [
       "[1] 1"
      ]
     },
     "metadata": {},
     "output_type": "display_data"
    },
    {
     "data": {
      "text/html": [
       "-396.268710292009"
      ],
      "text/latex": [
       "-396.268710292009"
      ],
      "text/markdown": [
       "-396.268710292009"
      ],
      "text/plain": [
       "[1] -396.2687"
      ]
     },
     "metadata": {},
     "output_type": "display_data"
    }
   ],
   "source": [
    "aic0<-Inf # le das un numero muy grande\n",
    "for (i in 1:20)\n",
    "{\n",
    "  aic1<-AIC(arima(c1, order = c(0,0,i), method =\"ML\" ))\n",
    "  if(aic1<aic0)\n",
    "  {\n",
    "    aic0<-aic1\n",
    "    MA.mejor<-i\n",
    "  }\n",
    "}\n",
    "MA.mejor\n",
    "aic0 "
   ]
  },
  {
   "cell_type": "markdown",
   "metadata": {},
   "source": [
    "* El orden del mejor MA: 1\n",
    "* AIC del mejor MA: -396.2687"
   ]
  },
  {
   "cell_type": "code",
   "execution_count": 23,
   "metadata": {},
   "outputs": [],
   "source": [
    "defaultW <- getOption(\"warn\") \n",
    "\n",
    "options(warn = -1) "
   ]
  },
  {
   "cell_type": "markdown",
   "metadata": {},
   "source": [
    "**MODELO ARMA(p,q)**"
   ]
  },
  {
   "cell_type": "code",
   "execution_count": 24,
   "metadata": {
    "scrolled": true
   },
   "outputs": [
    {
     "data": {
      "text/html": [
       "<style>\n",
       ".list-inline {list-style: none; margin:0; padding: 0}\n",
       ".list-inline>li {display: inline-block}\n",
       ".list-inline>li:not(:last-child)::after {content: \"\\00b7\"; padding: 0 .5ex}\n",
       "</style>\n",
       "<ol class=list-inline><li>2</li><li>2</li></ol>\n"
      ],
      "text/latex": [
       "\\begin{enumerate*}\n",
       "\\item 2\n",
       "\\item 2\n",
       "\\end{enumerate*}\n"
      ],
      "text/markdown": [
       "1. 2\n",
       "2. 2\n",
       "\n",
       "\n"
      ],
      "text/plain": [
       "[1] 2 2"
      ]
     },
     "metadata": {},
     "output_type": "display_data"
    },
    {
     "data": {
      "text/html": [
       "-394.447649393123"
      ],
      "text/latex": [
       "-394.447649393123"
      ],
      "text/markdown": [
       "-394.447649393123"
      ],
      "text/plain": [
       "[1] -394.4476"
      ]
     },
     "metadata": {},
     "output_type": "display_data"
    }
   ],
   "source": [
    "arma.aic<-Inf\n",
    "for(j in 1:10)\n",
    "{\n",
    "  for (i in 1:10)\n",
    "  {\n",
    "    aux<-AIC(arima(c1, order = c(j,0,i), method =\"ML\" ))\n",
    "    if(aux<arma.aic)\n",
    "    {\n",
    "      arma.aic<-aux\n",
    "      ARMA.mejor<-c(j,i)\n",
    "    }\n",
    "  }\n",
    "}\n",
    "ARMA.mejor\n",
    "arma.aic"
   ]
  },
  {
   "cell_type": "code",
   "execution_count": 25,
   "metadata": {},
   "outputs": [],
   "source": [
    "options(warn = defaultW)"
   ]
  },
  {
   "cell_type": "markdown",
   "metadata": {},
   "source": [
    "* El orden del mejor MA: 1\n",
    "* AIC del mejor ARMA: -394.44"
   ]
  },
  {
   "cell_type": "markdown",
   "metadata": {},
   "source": [
    "### Mejor modelo:\n",
    "**MA(1)**"
   ]
  },
  {
   "cell_type": "markdown",
   "metadata": {},
   "source": [
    "## Ruido blanco"
   ]
  },
  {
   "cell_type": "code",
   "execution_count": 26,
   "metadata": {},
   "outputs": [],
   "source": [
    "res<-residuals(arima(c1, order=c(2,0,4), method = 'ML'))"
   ]
  },
  {
   "cell_type": "markdown",
   "metadata": {},
   "source": [
    "**Media**"
   ]
  },
  {
   "cell_type": "code",
   "execution_count": 27,
   "metadata": {},
   "outputs": [
    {
     "data": {
      "text/html": [
       "1.79745960926477e-05"
      ],
      "text/latex": [
       "1.79745960926477e-05"
      ],
      "text/markdown": [
       "1.79745960926477e-05"
      ],
      "text/plain": [
       "[1] 1.79746e-05"
      ]
     },
     "metadata": {},
     "output_type": "display_data"
    }
   ],
   "source": [
    "mean(res)"
   ]
  },
  {
   "cell_type": "code",
   "execution_count": 28,
   "metadata": {},
   "outputs": [
    {
     "data": {
      "image/png": "[encoded data removed]",
      "text/plain": [
       "Plot with title \"Gráfica de residuos de correción 1\""
      ]
     },
     "metadata": {
      "image/png": {
       "height": 420,
       "width": 420
      }
     },
     "output_type": "display_data"
    }
   ],
   "source": [
    "plot(res,\n",
    "     main = 'Gráfica de residuos de correción 1',\n",
    "     type=\"p\")"
   ]
  },
  {
   "cell_type": "markdown",
   "metadata": {},
   "source": [
    "La media es aproximadamente 0.\n",
    "\n",
    "La varianza en el gráfico se ve lo suficientemente dispersa"
   ]
  },
  {
   "cell_type": "markdown",
   "metadata": {},
   "source": [
    "**Incorrelación**"
   ]
  },
  {
   "cell_type": "code",
   "execution_count": 29,
   "metadata": {},
   "outputs": [
    {
     "data": {
      "image/png": "[encoded data removed]",
      "text/plain": [
       "Plot with title \"Incorrelación al 95%\""
      ]
     },
     "metadata": {
      "image/png": {
       "height": 420,
       "width": 420
      }
     },
     "output_type": "display_data"
    },
    {
     "data": {
      "image/png": "[encoded data removed]",
      "text/plain": [
       "Plot with title \"Incorrelación al 95%. Parcial\""
      ]
     },
     "metadata": {
      "image/png": {
       "height": 420,
       "width": 420
      }
     },
     "output_type": "display_data"
    }
   ],
   "source": [
    "acf(res,\n",
    "   main = 'Incorrelación al 95%') \n",
    "pacf(res,\n",
    "     ci = .95,\n",
    "    main = 'Incorrelación al 95%. Parcial') "
   ]
  },
  {
   "cell_type": "markdown",
   "metadata": {},
   "source": [
    "**Incorrelación de forma analítica**"
   ]
  },
  {
   "cell_type": "markdown",
   "metadata": {},
   "source": [
    "**$H_0:$** Son independientes\n",
    "\n",
    "**$H_a:$** Muestran alguna dependencia\n",
    "\n",
    "$\\alpha = 0.05$"
   ]
  },
  {
   "cell_type": "code",
   "execution_count": 30,
   "metadata": {},
   "outputs": [
    {
     "data": {
      "text/plain": [
       "\n",
       "\tBox-Pierce test\n",
       "\n",
       "data:  res\n",
       "X-squared = 3.2355e-05, df = 1, p-value = 0.9955\n"
      ]
     },
     "metadata": {},
     "output_type": "display_data"
    }
   ],
   "source": [
    "Box.test(res)"
   ]
  },
  {
   "cell_type": "markdown",
   "metadata": {},
   "source": [
    "La incorrelación de forma analítica apunta a independencia en los residuos."
   ]
  },
  {
   "cell_type": "markdown",
   "metadata": {},
   "source": [
    "**Normalidad**"
   ]
  },
  {
   "cell_type": "markdown",
   "metadata": {},
   "source": [
    "**$H_0:$** Siguen una distribución normal\n",
    "\n",
    "**$H_a:$** No sigue una distribución normal\n",
    "\n",
    "$\\alpha = 0.05$"
   ]
  },
  {
   "cell_type": "code",
   "execution_count": 31,
   "metadata": {},
   "outputs": [
    {
     "data": {
      "text/plain": [
       "\n",
       "\tShapiro-Wilk normality test\n",
       "\n",
       "data:  res\n",
       "W = 0.98616, p-value = 0.2604\n"
      ]
     },
     "metadata": {},
     "output_type": "display_data"
    }
   ],
   "source": [
    "shapiro.test(res)"
   ]
  },
  {
   "cell_type": "markdown",
   "metadata": {},
   "source": [
    "Existe normalidad en los residuos"
   ]
  },
  {
   "cell_type": "markdown",
   "metadata": {},
   "source": [
    "**Conclusión de Ruido Blanco:** Según las pruebas realizadas, se demuestra que los residuales cumplen con un comportamiento de ruido blanco."
   ]
  },
  {
   "cell_type": "markdown",
   "metadata": {},
   "source": [
    "## Predicciones"
   ]
  },
  {
   "cell_type": "code",
   "execution_count": 32,
   "metadata": {
    "scrolled": false
   },
   "outputs": [
    {
     "data": {
      "text/html": [
       "<style>\n",
       ".list-inline {list-style: none; margin:0; padding: 0}\n",
       ".list-inline>li {display: inline-block}\n",
       ".list-inline>li:not(:last-child)::after {content: \"\\00b7\"; padding: 0 .5ex}\n",
       "</style>\n",
       "<ol class=list-inline><li>58929.0864795627</li><li>58929.0864795627</li><li>58929.0864795627</li><li>58929.0864795627</li><li>58929.0864795627</li><li>58929.0864795627</li></ol>\n"
      ],
      "text/latex": [
       "\\begin{enumerate*}\n",
       "\\item 58929.0864795627\n",
       "\\item 58929.0864795627\n",
       "\\item 58929.0864795627\n",
       "\\item 58929.0864795627\n",
       "\\item 58929.0864795627\n",
       "\\item 58929.0864795627\n",
       "\\end{enumerate*}\n"
      ],
      "text/markdown": [
       "1. 58929.0864795627\n",
       "2. 58929.0864795627\n",
       "3. 58929.0864795627\n",
       "4. 58929.0864795627\n",
       "5. 58929.0864795627\n",
       "6. 58929.0864795627\n",
       "\n",
       "\n"
      ],
      "text/plain": [
       "[1] 58929.09 58929.09 58929.09 58929.09 58929.09 58929.09"
      ]
     },
     "metadata": {},
     "output_type": "display_data"
    }
   ],
   "source": [
    "Pred <- predict(arima(bc_l, order=c(0, 1,1), method=\"ML\"), n.ahead=20)$pred\n",
    "head(Pred)"
   ]
  },
  {
   "cell_type": "code",
   "execution_count": 33,
   "metadata": {},
   "outputs": [
    {
     "data": {
      "image/png": "[encoded data removed]",
      "text/plain": [
       "Plot with title \"Predicciones a 20 dias al futuro\""
      ]
     },
     "metadata": {
      "image/png": {
       "height": 420,
       "width": 420
      }
     },
     "output_type": "display_data"
    }
   ],
   "source": [
    "plot(bc_l,\n",
    "    main = 'Predicciones a 20 dias al futuro',\n",
    "    xlab = 'Fecha',\n",
    "    ylab = 'Precio',\n",
    "    xlim = c(2020.8, 2021.27))\n",
    "lines(Pred, \n",
    "      col=\"red\")\n",
    "legend('topleft', \n",
    "       legend = c('Predicción Modelo ARIMA(0,1,1)'),\n",
    "        col = c('red'),\n",
    "      lty = 1)"
   ]
  },
  {
   "cell_type": "code",
   "execution_count": 34,
   "metadata": {},
   "outputs": [
    {
     "data": {
      "image/png": "[encoded data removed]",
      "text/plain": [
       "Plot with title \"Predicciones a 20 dias al futuro. Gráfico aumentado.\""
      ]
     },
     "metadata": {
      "image/png": {
       "height": 420,
       "width": 420
      }
     },
     "output_type": "display_data"
    }
   ],
   "source": [
    "plot(bc_l,\n",
    "    main = 'Predicciones a 20 dias al futuro. Gráfico aumentado.',\n",
    "    xlab = 'Fecha',\n",
    "    ylab = 'Precio',\n",
    "    xlim = c(2021, 2021.3),\n",
    "    ylim = c(40000,62000))\n",
    "lines(Pred, \n",
    "      col=\"red\")\n",
    "legend('bottomright', \n",
    "       legend = c('Predicción Modelo ARIMA(0,1,1)'),\n",
    "        col = c('red'),\n",
    "      lty = 1)"
   ]
  }
 ],
 "metadata": {
  "kernelspec": {
   "display_name": "R",
   "language": "R",
   "name": "ir"
  },
  "language_info": {
   "codemirror_mode": "r",
   "file_extension": ".r",
   "mimetype": "text/x-r-source",
   "name": "R",
   "pygments_lexer": "r",
   "version": "4.0.3"
  }
 },
 "nbformat": 4,
 "nbformat_minor": 5
}
