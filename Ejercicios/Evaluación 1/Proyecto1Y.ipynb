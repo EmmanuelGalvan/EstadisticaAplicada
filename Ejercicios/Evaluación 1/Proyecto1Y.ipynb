{
 "cells": [
  {
   "cell_type": "markdown",
   "metadata": {},
   "source": [
    "**Librerías**"
   ]
  },
  {
   "cell_type": "code",
   "execution_count": 1,
   "metadata": {},
   "outputs": [
    {
     "name": "stderr",
     "output_type": "stream",
     "text": [
      "Registered S3 method overwritten by 'quantmod':\n",
      "  method            from\n",
      "  as.zoo.data.frame zoo \n",
      "\n",
      "Warning message:\n",
      "\"package 'TSA' was built under R version 4.0.4\"\n",
      "\n",
      "Attaching package: 'TSA'\n",
      "\n",
      "\n",
      "The following objects are masked from 'package:stats':\n",
      "\n",
      "    acf, arima\n",
      "\n",
      "\n",
      "The following object is masked from 'package:utils':\n",
      "\n",
      "    tar\n",
      "\n",
      "\n"
     ]
    }
   ],
   "source": [
    "library(tseries)\n",
    "library(TSA)"
   ]
  },
  {
   "cell_type": "markdown",
   "metadata": {},
   "source": [
    "**Apertura y corrección de datos**"
   ]
  },
  {
   "cell_type": "code",
   "execution_count": 2,
   "metadata": {},
   "outputs": [],
   "source": [
    "bc<-data.frame(read.table(\"BitcoinHD-1Y.csv\", sep=\",\", header = TRUE ))\n",
    "bc_order <- apply(bc,2,rev)"
   ]
  },
  {
   "cell_type": "code",
   "execution_count": 3,
   "metadata": {},
   "outputs": [
    {
     "data": {
      "text/html": [
       "<table>\n",
       "<caption>A data.frame: 366 × 7</caption>\n",
       "<thead>\n",
       "\t<tr><th scope=col>ï..Date</th><th scope=col>Price</th><th scope=col>Open</th><th scope=col>High</th><th scope=col>Low</th><th scope=col>Vol.</th><th scope=col>Change..</th></tr>\n",
       "\t<tr><th scope=col>&lt;chr&gt;</th><th scope=col>&lt;dbl&gt;</th><th scope=col>&lt;chr&gt;</th><th scope=col>&lt;chr&gt;</th><th scope=col>&lt;chr&gt;</th><th scope=col>&lt;chr&gt;</th><th scope=col>&lt;chr&gt;</th></tr>\n",
       "</thead>\n",
       "<tbody>\n",
       "\t<tr><td>Mar 17, 2020</td><td>5261.1</td><td>5,030.20</td><td>5,432.80</td><td>4,946.50</td><td>1.89M  </td><td>4.59% </td></tr>\n",
       "\t<tr><td>Mar 18, 2020</td><td>5361.4</td><td>5,260.70</td><td>5,373.10</td><td>5,020.90</td><td>1.80M  </td><td>1.91% </td></tr>\n",
       "\t<tr><td>Mar 19, 2020</td><td>6172.0</td><td>5,359.20</td><td>6,379.50</td><td>5,256.00</td><td>2.18M  </td><td>15.12%</td></tr>\n",
       "\t<tr><td>Mar 20, 2020</td><td>6205.3</td><td>6,171.60</td><td>6,858.10</td><td>5,748.20</td><td>2.22M  </td><td>0.54% </td></tr>\n",
       "\t<tr><td>Mar 21, 2020</td><td>6186.2</td><td>6,205.60</td><td>6,438.30</td><td>5,887.00</td><td>1.64M  </td><td>-0.31%</td></tr>\n",
       "\t<tr><td>Mar 22, 2020</td><td>5822.1</td><td>6,186.90</td><td>6,394.40</td><td>5,771.20</td><td>1.48M  </td><td>-5.89%</td></tr>\n",
       "\t<tr><td>Mar 23, 2020</td><td>6468.9</td><td>5,822.00</td><td>6,564.70</td><td>5,710.80</td><td>1.88M  </td><td>11.11%</td></tr>\n",
       "\t<tr><td>Mar 24, 2020</td><td>6744.6</td><td>6,468.80</td><td>6,814.20</td><td>6,380.80</td><td>1.73M  </td><td>4.26% </td></tr>\n",
       "\t<tr><td>Mar 25, 2020</td><td>6678.9</td><td>6,744.80</td><td>6,930.20</td><td>6,474.60</td><td>1.52M  </td><td>-0.97%</td></tr>\n",
       "\t<tr><td>Mar 26, 2020</td><td>6725.1</td><td>6,677.90</td><td>6,772.90</td><td>6,541.70</td><td>1.18M  </td><td>0.69% </td></tr>\n",
       "\t<tr><td>Mar 27, 2020</td><td>6373.4</td><td>6,725.50</td><td>6,813.70</td><td>6,322.30</td><td>1.16M  </td><td>-5.23%</td></tr>\n",
       "\t<tr><td>Mar 28, 2020</td><td>6233.7</td><td>6,373.40</td><td>6,374.30</td><td>6,046.50</td><td>1.26M  </td><td>-2.19%</td></tr>\n",
       "\t<tr><td>Mar 29, 2020</td><td>5890.4</td><td>6,233.20</td><td>6,258.80</td><td>5,889.30</td><td>916.17K</td><td>-5.51%</td></tr>\n",
       "\t<tr><td>Mar 30, 2020</td><td>6391.0</td><td>5,890.40</td><td>6,576.50</td><td>5,872.50</td><td>1.43M  </td><td>8.50% </td></tr>\n",
       "\t<tr><td>Mar 31, 2020</td><td>6412.5</td><td>6,391.10</td><td>6,513.10</td><td>6,346.30</td><td>1.05M  </td><td>0.34% </td></tr>\n",
       "\t<tr><td>Apr 01, 2020</td><td>6638.5</td><td>6,412.40</td><td>6,661.30</td><td>6,157.40</td><td>1.40M  </td><td>3.52% </td></tr>\n",
       "\t<tr><td>Apr 02, 2020</td><td>6800.5</td><td>6,638.80</td><td>7,182.70</td><td>6,567.90</td><td>1.74M  </td><td>2.44% </td></tr>\n",
       "\t<tr><td>Apr 03, 2020</td><td>6735.9</td><td>6,799.90</td><td>7,026.30</td><td>6,623.60</td><td>1.35M  </td><td>-0.95%</td></tr>\n",
       "\t<tr><td>Apr 04, 2020</td><td>6857.4</td><td>6,735.90</td><td>6,958.60</td><td>6,679.10</td><td>1.05M  </td><td>1.80% </td></tr>\n",
       "\t<tr><td>Apr 05, 2020</td><td>6772.7</td><td>6,857.50</td><td>6,889.40</td><td>6,686.00</td><td>842.33K</td><td>-1.23%</td></tr>\n",
       "\t<tr><td>Apr 06, 2020</td><td>7332.3</td><td>6,772.80</td><td>7,335.00</td><td>6,770.10</td><td>1.53M  </td><td>8.26% </td></tr>\n",
       "\t<tr><td>Apr 07, 2020</td><td>7185.2</td><td>7,332.30</td><td>7,440.30</td><td>7,101.70</td><td>1.32M  </td><td>-2.01%</td></tr>\n",
       "\t<tr><td>Apr 08, 2020</td><td>7361.2</td><td>7,185.60</td><td>7,396.10</td><td>7,153.10</td><td>983.94K</td><td>2.45% </td></tr>\n",
       "\t<tr><td>Apr 09, 2020</td><td>7289.0</td><td>7,361.10</td><td>7,361.10</td><td>7,140.30</td><td>963.55K</td><td>-0.98%</td></tr>\n",
       "\t<tr><td>Apr 10, 2020</td><td>6863.1</td><td>7,289.00</td><td>7,294.40</td><td>6,756.10</td><td>1.37M  </td><td>-5.84%</td></tr>\n",
       "\t<tr><td>Apr 11, 2020</td><td>6867.8</td><td>6,862.70</td><td>6,931.40</td><td>6,765.10</td><td>845.58K</td><td>0.07% </td></tr>\n",
       "\t<tr><td>Apr 12, 2020</td><td>6917.6</td><td>6,867.90</td><td>7,158.80</td><td>6,785.10</td><td>1.10M  </td><td>0.73% </td></tr>\n",
       "\t<tr><td>Apr 13, 2020</td><td>6841.3</td><td>6,918.10</td><td>6,920.30</td><td>6,618.50</td><td>1.25M  </td><td>-1.10%</td></tr>\n",
       "\t<tr><td>Apr 14, 2020</td><td>6850.9</td><td>6,841.80</td><td>6,970.80</td><td>6,768.60</td><td>999.53K</td><td>0.14% </td></tr>\n",
       "\t<tr><td>Apr 15, 2020</td><td>6629.1</td><td>6,851.30</td><td>6,929.50</td><td>6,615.90</td><td>1.00M  </td><td>-3.24%</td></tr>\n",
       "\t<tr><td>...</td><td>...</td><td>...</td><td>...</td><td>...</td><td>...</td><td>...</td></tr>\n",
       "\t<tr><td>Feb 16, 2021</td><td>49169.7</td><td>47,934.20</td><td>50,515.80</td><td>47,044.40</td><td>141.37K</td><td>2.57% </td></tr>\n",
       "\t<tr><td>Feb 17, 2021</td><td>52079.2</td><td>49,161.30</td><td>52,577.70</td><td>49,018.10</td><td>140.03K</td><td>5.92% </td></tr>\n",
       "\t<tr><td>Feb 18, 2021</td><td>51582.2</td><td>52,094.50</td><td>52,524.00</td><td>50,941.60</td><td>94.35K </td><td>-0.95%</td></tr>\n",
       "\t<tr><td>Feb 19, 2021</td><td>55906.6</td><td>51,590.10</td><td>56,238.50</td><td>50,816.80</td><td>139.43K</td><td>8.38% </td></tr>\n",
       "\t<tr><td>Feb 20, 2021</td><td>55923.7</td><td>55,922.00</td><td>57,523.80</td><td>54,124.10</td><td>127.85K</td><td>0.03% </td></tr>\n",
       "\t<tr><td>Feb 21, 2021</td><td>57433.8</td><td>55,907.60</td><td>58,335.10</td><td>55,502.70</td><td>87.26K </td><td>2.70% </td></tr>\n",
       "\t<tr><td>Feb 22, 2021</td><td>54111.8</td><td>57,437.60</td><td>57,480.80</td><td>48,353.80</td><td>244.95K</td><td>-5.78%</td></tr>\n",
       "\t<tr><td>Feb 23, 2021</td><td>48911.2</td><td>54,114.10</td><td>54,115.00</td><td>45,093.80</td><td>315.07K</td><td>-9.61%</td></tr>\n",
       "\t<tr><td>Feb 24, 2021</td><td>49697.5</td><td>48,911.10</td><td>51,311.80</td><td>47,031.70</td><td>153.75K</td><td>1.61% </td></tr>\n",
       "\t<tr><td>Feb 25, 2021</td><td>46928.5</td><td>49,695.90</td><td>52,013.80</td><td>46,773.70</td><td>83.22K </td><td>-5.57%</td></tr>\n",
       "\t<tr><td>Feb 26, 2021</td><td>46345.6</td><td>46,928.50</td><td>48,413.90</td><td>44,248.20</td><td>189.41K</td><td>-1.24%</td></tr>\n",
       "\t<tr><td>Feb 27, 2021</td><td>46136.7</td><td>46,333.10</td><td>48,335.10</td><td>45,059.40</td><td>98.75K </td><td>-0.45%</td></tr>\n",
       "\t<tr><td>Feb 28, 2021</td><td>45164.0</td><td>46,136.00</td><td>46,582.00</td><td>43,100.60</td><td>135.08K</td><td>-2.11%</td></tr>\n",
       "\t<tr><td>Mar 01, 2021</td><td>49595.5</td><td>45,160.50</td><td>49,774.00</td><td>45,008.80</td><td>137.52K</td><td>9.81% </td></tr>\n",
       "\t<tr><td>Mar 02, 2021</td><td>48424.2</td><td>49,595.60</td><td>50,191.90</td><td>47,100.60</td><td>102.10K</td><td>-2.36%</td></tr>\n",
       "\t<tr><td>Mar 03, 2021</td><td>50395.1</td><td>48,422.20</td><td>52,567.90</td><td>48,159.20</td><td>44.93K </td><td>4.07% </td></tr>\n",
       "\t<tr><td>Mar 04, 2021</td><td>48428.0</td><td>50,388.00</td><td>51,757.70</td><td>47,521.80</td><td>9.56K  </td><td>-3.90%</td></tr>\n",
       "\t<tr><td>Mar 05, 2021</td><td>48792.5</td><td>48,363.60</td><td>49,429.40</td><td>46,370.10</td><td>113.64K</td><td>0.75% </td></tr>\n",
       "\t<tr><td>Mar 06, 2021</td><td>48855.6</td><td>48,798.70</td><td>49,191.80</td><td>47,132.80</td><td>66.66K </td><td>0.13% </td></tr>\n",
       "\t<tr><td>Mar 07, 2021</td><td>50982.3</td><td>48,899.00</td><td>51,434.10</td><td>48,890.60</td><td>82.91K </td><td>4.35% </td></tr>\n",
       "\t<tr><td>Mar 08, 2021</td><td>52311.0</td><td>50,988.90</td><td>52,384.90</td><td>49,338.10</td><td>68.14K </td><td>2.61% </td></tr>\n",
       "\t<tr><td>Mar 09, 2021</td><td>54879.0</td><td>52,352.40</td><td>54,880.60</td><td>51,941.30</td><td>114.06K</td><td>4.91% </td></tr>\n",
       "\t<tr><td>Mar 10, 2021</td><td>55851.9</td><td>54,882.70</td><td>57,328.70</td><td>53,073.60</td><td>140.96K</td><td>1.77% </td></tr>\n",
       "\t<tr><td>Mar 11, 2021</td><td>57799.5</td><td>55,851.20</td><td>58,135.00</td><td>54,351.80</td><td>129.63K</td><td>3.49% </td></tr>\n",
       "\t<tr><td>Mar 12, 2021</td><td>57265.1</td><td>57,806.20</td><td>58,052.30</td><td>55,134.50</td><td>116.96K</td><td>-0.92%</td></tr>\n",
       "\t<tr><td>Mar 13, 2021</td><td>61195.3</td><td>57,267.40</td><td>61,795.80</td><td>56,118.80</td><td>134.64K</td><td>6.86% </td></tr>\n",
       "\t<tr><td>Mar 14, 2021</td><td>59113.7</td><td>61,192.70</td><td>61,673.70</td><td>59,113.70</td><td>80.29K </td><td>-3.40%</td></tr>\n",
       "\t<tr><td>Mar 15, 2021</td><td>55791.3</td><td>59,117.40</td><td>60,565.90</td><td>55,088.80</td><td>117.71K</td><td>-5.62%</td></tr>\n",
       "\t<tr><td>Mar 16, 2021</td><td>56889.7</td><td>55,619.50</td><td>56,889.70</td><td>53,342.60</td><td>128.51K</td><td>1.97% </td></tr>\n",
       "\t<tr><td>Mar 17, 2021</td><td>58913.5</td><td>56,892.90</td><td>58,933.20</td><td>54,253.20</td><td>118.26K</td><td>3.56% </td></tr>\n",
       "</tbody>\n",
       "</table>\n"
      ],
      "text/latex": [
       "A data.frame: 366 × 7\n",
       "\\begin{tabular}{lllllll}\n",
       " ï..Date & Price & Open & High & Low & Vol. & Change..\\\\\n",
       " <chr> & <dbl> & <chr> & <chr> & <chr> & <chr> & <chr>\\\\\n",
       "\\hline\n",
       "\t Mar 17, 2020 & 5261.1 & 5,030.20 & 5,432.80 & 4,946.50 & 1.89M   & 4.59\\% \\\\\n",
       "\t Mar 18, 2020 & 5361.4 & 5,260.70 & 5,373.10 & 5,020.90 & 1.80M   & 1.91\\% \\\\\n",
       "\t Mar 19, 2020 & 6172.0 & 5,359.20 & 6,379.50 & 5,256.00 & 2.18M   & 15.12\\%\\\\\n",
       "\t Mar 20, 2020 & 6205.3 & 6,171.60 & 6,858.10 & 5,748.20 & 2.22M   & 0.54\\% \\\\\n",
       "\t Mar 21, 2020 & 6186.2 & 6,205.60 & 6,438.30 & 5,887.00 & 1.64M   & -0.31\\%\\\\\n",
       "\t Mar 22, 2020 & 5822.1 & 6,186.90 & 6,394.40 & 5,771.20 & 1.48M   & -5.89\\%\\\\\n",
       "\t Mar 23, 2020 & 6468.9 & 5,822.00 & 6,564.70 & 5,710.80 & 1.88M   & 11.11\\%\\\\\n",
       "\t Mar 24, 2020 & 6744.6 & 6,468.80 & 6,814.20 & 6,380.80 & 1.73M   & 4.26\\% \\\\\n",
       "\t Mar 25, 2020 & 6678.9 & 6,744.80 & 6,930.20 & 6,474.60 & 1.52M   & -0.97\\%\\\\\n",
       "\t Mar 26, 2020 & 6725.1 & 6,677.90 & 6,772.90 & 6,541.70 & 1.18M   & 0.69\\% \\\\\n",
       "\t Mar 27, 2020 & 6373.4 & 6,725.50 & 6,813.70 & 6,322.30 & 1.16M   & -5.23\\%\\\\\n",
       "\t Mar 28, 2020 & 6233.7 & 6,373.40 & 6,374.30 & 6,046.50 & 1.26M   & -2.19\\%\\\\\n",
       "\t Mar 29, 2020 & 5890.4 & 6,233.20 & 6,258.80 & 5,889.30 & 916.17K & -5.51\\%\\\\\n",
       "\t Mar 30, 2020 & 6391.0 & 5,890.40 & 6,576.50 & 5,872.50 & 1.43M   & 8.50\\% \\\\\n",
       "\t Mar 31, 2020 & 6412.5 & 6,391.10 & 6,513.10 & 6,346.30 & 1.05M   & 0.34\\% \\\\\n",
       "\t Apr 01, 2020 & 6638.5 & 6,412.40 & 6,661.30 & 6,157.40 & 1.40M   & 3.52\\% \\\\\n",
       "\t Apr 02, 2020 & 6800.5 & 6,638.80 & 7,182.70 & 6,567.90 & 1.74M   & 2.44\\% \\\\\n",
       "\t Apr 03, 2020 & 6735.9 & 6,799.90 & 7,026.30 & 6,623.60 & 1.35M   & -0.95\\%\\\\\n",
       "\t Apr 04, 2020 & 6857.4 & 6,735.90 & 6,958.60 & 6,679.10 & 1.05M   & 1.80\\% \\\\\n",
       "\t Apr 05, 2020 & 6772.7 & 6,857.50 & 6,889.40 & 6,686.00 & 842.33K & -1.23\\%\\\\\n",
       "\t Apr 06, 2020 & 7332.3 & 6,772.80 & 7,335.00 & 6,770.10 & 1.53M   & 8.26\\% \\\\\n",
       "\t Apr 07, 2020 & 7185.2 & 7,332.30 & 7,440.30 & 7,101.70 & 1.32M   & -2.01\\%\\\\\n",
       "\t Apr 08, 2020 & 7361.2 & 7,185.60 & 7,396.10 & 7,153.10 & 983.94K & 2.45\\% \\\\\n",
       "\t Apr 09, 2020 & 7289.0 & 7,361.10 & 7,361.10 & 7,140.30 & 963.55K & -0.98\\%\\\\\n",
       "\t Apr 10, 2020 & 6863.1 & 7,289.00 & 7,294.40 & 6,756.10 & 1.37M   & -5.84\\%\\\\\n",
       "\t Apr 11, 2020 & 6867.8 & 6,862.70 & 6,931.40 & 6,765.10 & 845.58K & 0.07\\% \\\\\n",
       "\t Apr 12, 2020 & 6917.6 & 6,867.90 & 7,158.80 & 6,785.10 & 1.10M   & 0.73\\% \\\\\n",
       "\t Apr 13, 2020 & 6841.3 & 6,918.10 & 6,920.30 & 6,618.50 & 1.25M   & -1.10\\%\\\\\n",
       "\t Apr 14, 2020 & 6850.9 & 6,841.80 & 6,970.80 & 6,768.60 & 999.53K & 0.14\\% \\\\\n",
       "\t Apr 15, 2020 & 6629.1 & 6,851.30 & 6,929.50 & 6,615.90 & 1.00M   & -3.24\\%\\\\\n",
       "\t ... & ... & ... & ... & ... & ... & ...\\\\\n",
       "\t Feb 16, 2021 & 49169.7 & 47,934.20 & 50,515.80 & 47,044.40 & 141.37K & 2.57\\% \\\\\n",
       "\t Feb 17, 2021 & 52079.2 & 49,161.30 & 52,577.70 & 49,018.10 & 140.03K & 5.92\\% \\\\\n",
       "\t Feb 18, 2021 & 51582.2 & 52,094.50 & 52,524.00 & 50,941.60 & 94.35K  & -0.95\\%\\\\\n",
       "\t Feb 19, 2021 & 55906.6 & 51,590.10 & 56,238.50 & 50,816.80 & 139.43K & 8.38\\% \\\\\n",
       "\t Feb 20, 2021 & 55923.7 & 55,922.00 & 57,523.80 & 54,124.10 & 127.85K & 0.03\\% \\\\\n",
       "\t Feb 21, 2021 & 57433.8 & 55,907.60 & 58,335.10 & 55,502.70 & 87.26K  & 2.70\\% \\\\\n",
       "\t Feb 22, 2021 & 54111.8 & 57,437.60 & 57,480.80 & 48,353.80 & 244.95K & -5.78\\%\\\\\n",
       "\t Feb 23, 2021 & 48911.2 & 54,114.10 & 54,115.00 & 45,093.80 & 315.07K & -9.61\\%\\\\\n",
       "\t Feb 24, 2021 & 49697.5 & 48,911.10 & 51,311.80 & 47,031.70 & 153.75K & 1.61\\% \\\\\n",
       "\t Feb 25, 2021 & 46928.5 & 49,695.90 & 52,013.80 & 46,773.70 & 83.22K  & -5.57\\%\\\\\n",
       "\t Feb 26, 2021 & 46345.6 & 46,928.50 & 48,413.90 & 44,248.20 & 189.41K & -1.24\\%\\\\\n",
       "\t Feb 27, 2021 & 46136.7 & 46,333.10 & 48,335.10 & 45,059.40 & 98.75K  & -0.45\\%\\\\\n",
       "\t Feb 28, 2021 & 45164.0 & 46,136.00 & 46,582.00 & 43,100.60 & 135.08K & -2.11\\%\\\\\n",
       "\t Mar 01, 2021 & 49595.5 & 45,160.50 & 49,774.00 & 45,008.80 & 137.52K & 9.81\\% \\\\\n",
       "\t Mar 02, 2021 & 48424.2 & 49,595.60 & 50,191.90 & 47,100.60 & 102.10K & -2.36\\%\\\\\n",
       "\t Mar 03, 2021 & 50395.1 & 48,422.20 & 52,567.90 & 48,159.20 & 44.93K  & 4.07\\% \\\\\n",
       "\t Mar 04, 2021 & 48428.0 & 50,388.00 & 51,757.70 & 47,521.80 & 9.56K   & -3.90\\%\\\\\n",
       "\t Mar 05, 2021 & 48792.5 & 48,363.60 & 49,429.40 & 46,370.10 & 113.64K & 0.75\\% \\\\\n",
       "\t Mar 06, 2021 & 48855.6 & 48,798.70 & 49,191.80 & 47,132.80 & 66.66K  & 0.13\\% \\\\\n",
       "\t Mar 07, 2021 & 50982.3 & 48,899.00 & 51,434.10 & 48,890.60 & 82.91K  & 4.35\\% \\\\\n",
       "\t Mar 08, 2021 & 52311.0 & 50,988.90 & 52,384.90 & 49,338.10 & 68.14K  & 2.61\\% \\\\\n",
       "\t Mar 09, 2021 & 54879.0 & 52,352.40 & 54,880.60 & 51,941.30 & 114.06K & 4.91\\% \\\\\n",
       "\t Mar 10, 2021 & 55851.9 & 54,882.70 & 57,328.70 & 53,073.60 & 140.96K & 1.77\\% \\\\\n",
       "\t Mar 11, 2021 & 57799.5 & 55,851.20 & 58,135.00 & 54,351.80 & 129.63K & 3.49\\% \\\\\n",
       "\t Mar 12, 2021 & 57265.1 & 57,806.20 & 58,052.30 & 55,134.50 & 116.96K & -0.92\\%\\\\\n",
       "\t Mar 13, 2021 & 61195.3 & 57,267.40 & 61,795.80 & 56,118.80 & 134.64K & 6.86\\% \\\\\n",
       "\t Mar 14, 2021 & 59113.7 & 61,192.70 & 61,673.70 & 59,113.70 & 80.29K  & -3.40\\%\\\\\n",
       "\t Mar 15, 2021 & 55791.3 & 59,117.40 & 60,565.90 & 55,088.80 & 117.71K & -5.62\\%\\\\\n",
       "\t Mar 16, 2021 & 56889.7 & 55,619.50 & 56,889.70 & 53,342.60 & 128.51K & 1.97\\% \\\\\n",
       "\t Mar 17, 2021 & 58913.5 & 56,892.90 & 58,933.20 & 54,253.20 & 118.26K & 3.56\\% \\\\\n",
       "\\end{tabular}\n"
      ],
      "text/markdown": [
       "\n",
       "A data.frame: 366 × 7\n",
       "\n",
       "| ï..Date &lt;chr&gt; | Price &lt;dbl&gt; | Open &lt;chr&gt; | High &lt;chr&gt; | Low &lt;chr&gt; | Vol. &lt;chr&gt; | Change.. &lt;chr&gt; |\n",
       "|---|---|---|---|---|---|---|\n",
       "| Mar 17, 2020 | 5261.1 | 5,030.20 | 5,432.80 | 4,946.50 | 1.89M   | 4.59%  |\n",
       "| Mar 18, 2020 | 5361.4 | 5,260.70 | 5,373.10 | 5,020.90 | 1.80M   | 1.91%  |\n",
       "| Mar 19, 2020 | 6172.0 | 5,359.20 | 6,379.50 | 5,256.00 | 2.18M   | 15.12% |\n",
       "| Mar 20, 2020 | 6205.3 | 6,171.60 | 6,858.10 | 5,748.20 | 2.22M   | 0.54%  |\n",
       "| Mar 21, 2020 | 6186.2 | 6,205.60 | 6,438.30 | 5,887.00 | 1.64M   | -0.31% |\n",
       "| Mar 22, 2020 | 5822.1 | 6,186.90 | 6,394.40 | 5,771.20 | 1.48M   | -5.89% |\n",
       "| Mar 23, 2020 | 6468.9 | 5,822.00 | 6,564.70 | 5,710.80 | 1.88M   | 11.11% |\n",
       "| Mar 24, 2020 | 6744.6 | 6,468.80 | 6,814.20 | 6,380.80 | 1.73M   | 4.26%  |\n",
       "| Mar 25, 2020 | 6678.9 | 6,744.80 | 6,930.20 | 6,474.60 | 1.52M   | -0.97% |\n",
       "| Mar 26, 2020 | 6725.1 | 6,677.90 | 6,772.90 | 6,541.70 | 1.18M   | 0.69%  |\n",
       "| Mar 27, 2020 | 6373.4 | 6,725.50 | 6,813.70 | 6,322.30 | 1.16M   | -5.23% |\n",
       "| Mar 28, 2020 | 6233.7 | 6,373.40 | 6,374.30 | 6,046.50 | 1.26M   | -2.19% |\n",
       "| Mar 29, 2020 | 5890.4 | 6,233.20 | 6,258.80 | 5,889.30 | 916.17K | -5.51% |\n",
       "| Mar 30, 2020 | 6391.0 | 5,890.40 | 6,576.50 | 5,872.50 | 1.43M   | 8.50%  |\n",
       "| Mar 31, 2020 | 6412.5 | 6,391.10 | 6,513.10 | 6,346.30 | 1.05M   | 0.34%  |\n",
       "| Apr 01, 2020 | 6638.5 | 6,412.40 | 6,661.30 | 6,157.40 | 1.40M   | 3.52%  |\n",
       "| Apr 02, 2020 | 6800.5 | 6,638.80 | 7,182.70 | 6,567.90 | 1.74M   | 2.44%  |\n",
       "| Apr 03, 2020 | 6735.9 | 6,799.90 | 7,026.30 | 6,623.60 | 1.35M   | -0.95% |\n",
       "| Apr 04, 2020 | 6857.4 | 6,735.90 | 6,958.60 | 6,679.10 | 1.05M   | 1.80%  |\n",
       "| Apr 05, 2020 | 6772.7 | 6,857.50 | 6,889.40 | 6,686.00 | 842.33K | -1.23% |\n",
       "| Apr 06, 2020 | 7332.3 | 6,772.80 | 7,335.00 | 6,770.10 | 1.53M   | 8.26%  |\n",
       "| Apr 07, 2020 | 7185.2 | 7,332.30 | 7,440.30 | 7,101.70 | 1.32M   | -2.01% |\n",
       "| Apr 08, 2020 | 7361.2 | 7,185.60 | 7,396.10 | 7,153.10 | 983.94K | 2.45%  |\n",
       "| Apr 09, 2020 | 7289.0 | 7,361.10 | 7,361.10 | 7,140.30 | 963.55K | -0.98% |\n",
       "| Apr 10, 2020 | 6863.1 | 7,289.00 | 7,294.40 | 6,756.10 | 1.37M   | -5.84% |\n",
       "| Apr 11, 2020 | 6867.8 | 6,862.70 | 6,931.40 | 6,765.10 | 845.58K | 0.07%  |\n",
       "| Apr 12, 2020 | 6917.6 | 6,867.90 | 7,158.80 | 6,785.10 | 1.10M   | 0.73%  |\n",
       "| Apr 13, 2020 | 6841.3 | 6,918.10 | 6,920.30 | 6,618.50 | 1.25M   | -1.10% |\n",
       "| Apr 14, 2020 | 6850.9 | 6,841.80 | 6,970.80 | 6,768.60 | 999.53K | 0.14%  |\n",
       "| Apr 15, 2020 | 6629.1 | 6,851.30 | 6,929.50 | 6,615.90 | 1.00M   | -3.24% |\n",
       "| ... | ... | ... | ... | ... | ... | ... |\n",
       "| Feb 16, 2021 | 49169.7 | 47,934.20 | 50,515.80 | 47,044.40 | 141.37K | 2.57%  |\n",
       "| Feb 17, 2021 | 52079.2 | 49,161.30 | 52,577.70 | 49,018.10 | 140.03K | 5.92%  |\n",
       "| Feb 18, 2021 | 51582.2 | 52,094.50 | 52,524.00 | 50,941.60 | 94.35K  | -0.95% |\n",
       "| Feb 19, 2021 | 55906.6 | 51,590.10 | 56,238.50 | 50,816.80 | 139.43K | 8.38%  |\n",
       "| Feb 20, 2021 | 55923.7 | 55,922.00 | 57,523.80 | 54,124.10 | 127.85K | 0.03%  |\n",
       "| Feb 21, 2021 | 57433.8 | 55,907.60 | 58,335.10 | 55,502.70 | 87.26K  | 2.70%  |\n",
       "| Feb 22, 2021 | 54111.8 | 57,437.60 | 57,480.80 | 48,353.80 | 244.95K | -5.78% |\n",
       "| Feb 23, 2021 | 48911.2 | 54,114.10 | 54,115.00 | 45,093.80 | 315.07K | -9.61% |\n",
       "| Feb 24, 2021 | 49697.5 | 48,911.10 | 51,311.80 | 47,031.70 | 153.75K | 1.61%  |\n",
       "| Feb 25, 2021 | 46928.5 | 49,695.90 | 52,013.80 | 46,773.70 | 83.22K  | -5.57% |\n",
       "| Feb 26, 2021 | 46345.6 | 46,928.50 | 48,413.90 | 44,248.20 | 189.41K | -1.24% |\n",
       "| Feb 27, 2021 | 46136.7 | 46,333.10 | 48,335.10 | 45,059.40 | 98.75K  | -0.45% |\n",
       "| Feb 28, 2021 | 45164.0 | 46,136.00 | 46,582.00 | 43,100.60 | 135.08K | -2.11% |\n",
       "| Mar 01, 2021 | 49595.5 | 45,160.50 | 49,774.00 | 45,008.80 | 137.52K | 9.81%  |\n",
       "| Mar 02, 2021 | 48424.2 | 49,595.60 | 50,191.90 | 47,100.60 | 102.10K | -2.36% |\n",
       "| Mar 03, 2021 | 50395.1 | 48,422.20 | 52,567.90 | 48,159.20 | 44.93K  | 4.07%  |\n",
       "| Mar 04, 2021 | 48428.0 | 50,388.00 | 51,757.70 | 47,521.80 | 9.56K   | -3.90% |\n",
       "| Mar 05, 2021 | 48792.5 | 48,363.60 | 49,429.40 | 46,370.10 | 113.64K | 0.75%  |\n",
       "| Mar 06, 2021 | 48855.6 | 48,798.70 | 49,191.80 | 47,132.80 | 66.66K  | 0.13%  |\n",
       "| Mar 07, 2021 | 50982.3 | 48,899.00 | 51,434.10 | 48,890.60 | 82.91K  | 4.35%  |\n",
       "| Mar 08, 2021 | 52311.0 | 50,988.90 | 52,384.90 | 49,338.10 | 68.14K  | 2.61%  |\n",
       "| Mar 09, 2021 | 54879.0 | 52,352.40 | 54,880.60 | 51,941.30 | 114.06K | 4.91%  |\n",
       "| Mar 10, 2021 | 55851.9 | 54,882.70 | 57,328.70 | 53,073.60 | 140.96K | 1.77%  |\n",
       "| Mar 11, 2021 | 57799.5 | 55,851.20 | 58,135.00 | 54,351.80 | 129.63K | 3.49%  |\n",
       "| Mar 12, 2021 | 57265.1 | 57,806.20 | 58,052.30 | 55,134.50 | 116.96K | -0.92% |\n",
       "| Mar 13, 2021 | 61195.3 | 57,267.40 | 61,795.80 | 56,118.80 | 134.64K | 6.86%  |\n",
       "| Mar 14, 2021 | 59113.7 | 61,192.70 | 61,673.70 | 59,113.70 | 80.29K  | -3.40% |\n",
       "| Mar 15, 2021 | 55791.3 | 59,117.40 | 60,565.90 | 55,088.80 | 117.71K | -5.62% |\n",
       "| Mar 16, 2021 | 56889.7 | 55,619.50 | 56,889.70 | 53,342.60 | 128.51K | 1.97%  |\n",
       "| Mar 17, 2021 | 58913.5 | 56,892.90 | 58,933.20 | 54,253.20 | 118.26K | 3.56%  |\n",
       "\n"
      ],
      "text/plain": [
       "    ï..Date      Price   Open      High      Low       Vol.    Change..\n",
       "1   Mar 17, 2020 5261.1  5,030.20  5,432.80  4,946.50  1.89M   4.59%   \n",
       "2   Mar 18, 2020 5361.4  5,260.70  5,373.10  5,020.90  1.80M   1.91%   \n",
       "3   Mar 19, 2020 6172.0  5,359.20  6,379.50  5,256.00  2.18M   15.12%  \n",
       "4   Mar 20, 2020 6205.3  6,171.60  6,858.10  5,748.20  2.22M   0.54%   \n",
       "5   Mar 21, 2020 6186.2  6,205.60  6,438.30  5,887.00  1.64M   -0.31%  \n",
       "6   Mar 22, 2020 5822.1  6,186.90  6,394.40  5,771.20  1.48M   -5.89%  \n",
       "7   Mar 23, 2020 6468.9  5,822.00  6,564.70  5,710.80  1.88M   11.11%  \n",
       "8   Mar 24, 2020 6744.6  6,468.80  6,814.20  6,380.80  1.73M   4.26%   \n",
       "9   Mar 25, 2020 6678.9  6,744.80  6,930.20  6,474.60  1.52M   -0.97%  \n",
       "10  Mar 26, 2020 6725.1  6,677.90  6,772.90  6,541.70  1.18M   0.69%   \n",
       "11  Mar 27, 2020 6373.4  6,725.50  6,813.70  6,322.30  1.16M   -5.23%  \n",
       "12  Mar 28, 2020 6233.7  6,373.40  6,374.30  6,046.50  1.26M   -2.19%  \n",
       "13  Mar 29, 2020 5890.4  6,233.20  6,258.80  5,889.30  916.17K -5.51%  \n",
       "14  Mar 30, 2020 6391.0  5,890.40  6,576.50  5,872.50  1.43M   8.50%   \n",
       "15  Mar 31, 2020 6412.5  6,391.10  6,513.10  6,346.30  1.05M   0.34%   \n",
       "16  Apr 01, 2020 6638.5  6,412.40  6,661.30  6,157.40  1.40M   3.52%   \n",
       "17  Apr 02, 2020 6800.5  6,638.80  7,182.70  6,567.90  1.74M   2.44%   \n",
       "18  Apr 03, 2020 6735.9  6,799.90  7,026.30  6,623.60  1.35M   -0.95%  \n",
       "19  Apr 04, 2020 6857.4  6,735.90  6,958.60  6,679.10  1.05M   1.80%   \n",
       "20  Apr 05, 2020 6772.7  6,857.50  6,889.40  6,686.00  842.33K -1.23%  \n",
       "21  Apr 06, 2020 7332.3  6,772.80  7,335.00  6,770.10  1.53M   8.26%   \n",
       "22  Apr 07, 2020 7185.2  7,332.30  7,440.30  7,101.70  1.32M   -2.01%  \n",
       "23  Apr 08, 2020 7361.2  7,185.60  7,396.10  7,153.10  983.94K 2.45%   \n",
       "24  Apr 09, 2020 7289.0  7,361.10  7,361.10  7,140.30  963.55K -0.98%  \n",
       "25  Apr 10, 2020 6863.1  7,289.00  7,294.40  6,756.10  1.37M   -5.84%  \n",
       "26  Apr 11, 2020 6867.8  6,862.70  6,931.40  6,765.10  845.58K 0.07%   \n",
       "27  Apr 12, 2020 6917.6  6,867.90  7,158.80  6,785.10  1.10M   0.73%   \n",
       "28  Apr 13, 2020 6841.3  6,918.10  6,920.30  6,618.50  1.25M   -1.10%  \n",
       "29  Apr 14, 2020 6850.9  6,841.80  6,970.80  6,768.60  999.53K 0.14%   \n",
       "30  Apr 15, 2020 6629.1  6,851.30  6,929.50  6,615.90  1.00M   -3.24%  \n",
       "... ...          ...     ...       ...       ...       ...     ...     \n",
       "337 Feb 16, 2021 49169.7 47,934.20 50,515.80 47,044.40 141.37K 2.57%   \n",
       "338 Feb 17, 2021 52079.2 49,161.30 52,577.70 49,018.10 140.03K 5.92%   \n",
       "339 Feb 18, 2021 51582.2 52,094.50 52,524.00 50,941.60 94.35K  -0.95%  \n",
       "340 Feb 19, 2021 55906.6 51,590.10 56,238.50 50,816.80 139.43K 8.38%   \n",
       "341 Feb 20, 2021 55923.7 55,922.00 57,523.80 54,124.10 127.85K 0.03%   \n",
       "342 Feb 21, 2021 57433.8 55,907.60 58,335.10 55,502.70 87.26K  2.70%   \n",
       "343 Feb 22, 2021 54111.8 57,437.60 57,480.80 48,353.80 244.95K -5.78%  \n",
       "344 Feb 23, 2021 48911.2 54,114.10 54,115.00 45,093.80 315.07K -9.61%  \n",
       "345 Feb 24, 2021 49697.5 48,911.10 51,311.80 47,031.70 153.75K 1.61%   \n",
       "346 Feb 25, 2021 46928.5 49,695.90 52,013.80 46,773.70 83.22K  -5.57%  \n",
       "347 Feb 26, 2021 46345.6 46,928.50 48,413.90 44,248.20 189.41K -1.24%  \n",
       "348 Feb 27, 2021 46136.7 46,333.10 48,335.10 45,059.40 98.75K  -0.45%  \n",
       "349 Feb 28, 2021 45164.0 46,136.00 46,582.00 43,100.60 135.08K -2.11%  \n",
       "350 Mar 01, 2021 49595.5 45,160.50 49,774.00 45,008.80 137.52K 9.81%   \n",
       "351 Mar 02, 2021 48424.2 49,595.60 50,191.90 47,100.60 102.10K -2.36%  \n",
       "352 Mar 03, 2021 50395.1 48,422.20 52,567.90 48,159.20 44.93K  4.07%   \n",
       "353 Mar 04, 2021 48428.0 50,388.00 51,757.70 47,521.80 9.56K   -3.90%  \n",
       "354 Mar 05, 2021 48792.5 48,363.60 49,429.40 46,370.10 113.64K 0.75%   \n",
       "355 Mar 06, 2021 48855.6 48,798.70 49,191.80 47,132.80 66.66K  0.13%   \n",
       "356 Mar 07, 2021 50982.3 48,899.00 51,434.10 48,890.60 82.91K  4.35%   \n",
       "357 Mar 08, 2021 52311.0 50,988.90 52,384.90 49,338.10 68.14K  2.61%   \n",
       "358 Mar 09, 2021 54879.0 52,352.40 54,880.60 51,941.30 114.06K 4.91%   \n",
       "359 Mar 10, 2021 55851.9 54,882.70 57,328.70 53,073.60 140.96K 1.77%   \n",
       "360 Mar 11, 2021 57799.5 55,851.20 58,135.00 54,351.80 129.63K 3.49%   \n",
       "361 Mar 12, 2021 57265.1 57,806.20 58,052.30 55,134.50 116.96K -0.92%  \n",
       "362 Mar 13, 2021 61195.3 57,267.40 61,795.80 56,118.80 134.64K 6.86%   \n",
       "363 Mar 14, 2021 59113.7 61,192.70 61,673.70 59,113.70 80.29K  -3.40%  \n",
       "364 Mar 15, 2021 55791.3 59,117.40 60,565.90 55,088.80 117.71K -5.62%  \n",
       "365 Mar 16, 2021 56889.7 55,619.50 56,889.70 53,342.60 128.51K 1.97%   \n",
       "366 Mar 17, 2021 58913.5 56,892.90 58,933.20 54,253.20 118.26K 3.56%   "
      ]
     },
     "metadata": {},
     "output_type": "display_data"
    }
   ],
   "source": [
    "transform(bc_order, Price = as.numeric(Price))"
   ]
  },
  {
   "cell_type": "markdown",
   "metadata": {},
   "source": [
    "**Convertir a serie**"
   ]
  },
  {
   "cell_type": "code",
   "execution_count": 4,
   "metadata": {},
   "outputs": [
    {
     "data": {
      "text/html": [
       "<style>\n",
       ".list-inline {list-style: none; margin:0; padding: 0}\n",
       ".list-inline>li {display: inline-block}\n",
       ".list-inline>li:not(:last-child)::after {content: \"\\00b7\"; padding: 0 .5ex}\n",
       "</style>\n",
       "<ol class=list-inline><li>5261.1</li><li>5361.4</li><li>6172</li><li>6205.3</li><li>6186.2</li><li>5822.1</li><li>6468.9</li><li>6744.6</li><li>6678.9</li><li>6725.1</li><li>6373.4</li><li>6233.7</li></ol>\n"
      ],
      "text/latex": [
       "\\begin{enumerate*}\n",
       "\\item 5261.1\n",
       "\\item 5361.4\n",
       "\\item 6172\n",
       "\\item 6205.3\n",
       "\\item 6186.2\n",
       "\\item 5822.1\n",
       "\\item 6468.9\n",
       "\\item 6744.6\n",
       "\\item 6678.9\n",
       "\\item 6725.1\n",
       "\\item 6373.4\n",
       "\\item 6233.7\n",
       "\\end{enumerate*}\n"
      ],
      "text/markdown": [
       "1. 5261.1\n",
       "2. 5361.4\n",
       "3. 6172\n",
       "4. 6205.3\n",
       "5. 6186.2\n",
       "6. 5822.1\n",
       "7. 6468.9\n",
       "8. 6744.6\n",
       "9. 6678.9\n",
       "10. 6725.1\n",
       "11. 6373.4\n",
       "12. 6233.7\n",
       "\n",
       "\n"
      ],
      "text/plain": [
       " [1] 5261.1 5361.4 6172.0 6205.3 6186.2 5822.1 6468.9 6744.6 6678.9 6725.1\n",
       "[11] 6373.4 6233.7"
      ]
     },
     "metadata": {},
     "output_type": "display_data"
    }
   ],
   "source": [
    "bc_l <- ts(as.numeric(bc_order[,2]), start =c(2020,3, 17), end = c(2021,3,17), frequency=365)\n",
    "head(bc_l, 12)"
   ]
  },
  {
   "cell_type": "markdown",
   "metadata": {},
   "source": [
    "**Análisis descriptivo**"
   ]
  },
  {
   "cell_type": "code",
   "execution_count": 5,
   "metadata": {},
   "outputs": [
    {
     "data": {
      "text/html": [
       "<style>\n",
       ".list-inline {list-style: none; margin:0; padding: 0}\n",
       ".list-inline>li {display: inline-block}\n",
       ".list-inline>li:not(:last-child)::after {content: \"\\00b7\"; padding: 0 .5ex}\n",
       "</style>\n",
       "<ol class=list-inline><li>2020</li><li>3</li></ol>\n"
      ],
      "text/latex": [
       "\\begin{enumerate*}\n",
       "\\item 2020\n",
       "\\item 3\n",
       "\\end{enumerate*}\n"
      ],
      "text/markdown": [
       "1. 2020\n",
       "2. 3\n",
       "\n",
       "\n"
      ],
      "text/plain": [
       "[1] 2020    3"
      ]
     },
     "metadata": {},
     "output_type": "display_data"
    },
    {
     "data": {
      "text/html": [
       "<style>\n",
       ".list-inline {list-style: none; margin:0; padding: 0}\n",
       ".list-inline>li {display: inline-block}\n",
       ".list-inline>li:not(:last-child)::after {content: \"\\00b7\"; padding: 0 .5ex}\n",
       "</style>\n",
       "<ol class=list-inline><li>2021</li><li>3</li></ol>\n"
      ],
      "text/latex": [
       "\\begin{enumerate*}\n",
       "\\item 2021\n",
       "\\item 3\n",
       "\\end{enumerate*}\n"
      ],
      "text/markdown": [
       "1. 2021\n",
       "2. 3\n",
       "\n",
       "\n"
      ],
      "text/plain": [
       "[1] 2021    3"
      ]
     },
     "metadata": {},
     "output_type": "display_data"
    },
    {
     "data": {
      "text/html": [
       "'ts'"
      ],
      "text/latex": [
       "'ts'"
      ],
      "text/markdown": [
       "'ts'"
      ],
      "text/plain": [
       "[1] \"ts\""
      ]
     },
     "metadata": {},
     "output_type": "display_data"
    },
    {
     "data": {
      "text/html": [
       "<style>\n",
       ".list-inline {list-style: none; margin:0; padding: 0}\n",
       ".list-inline>li {display: inline-block}\n",
       ".list-inline>li:not(:last-child)::after {content: \"\\00b7\"; padding: 0 .5ex}\n",
       "</style>\n",
       "<ol class=list-inline><li>2020.00547945205</li><li>2020.00821917808</li><li>2020.01095890411</li><li>2020.01369863014</li><li>2020.01643835616</li><li>2020.01917808219</li><li>2020.02191780822</li><li>2020.02465753425</li><li>2020.02739726027</li><li>2020.0301369863</li><li>2020.03287671233</li><li>2020.03561643836</li></ol>\n"
      ],
      "text/latex": [
       "\\begin{enumerate*}\n",
       "\\item 2020.00547945205\n",
       "\\item 2020.00821917808\n",
       "\\item 2020.01095890411\n",
       "\\item 2020.01369863014\n",
       "\\item 2020.01643835616\n",
       "\\item 2020.01917808219\n",
       "\\item 2020.02191780822\n",
       "\\item 2020.02465753425\n",
       "\\item 2020.02739726027\n",
       "\\item 2020.0301369863\n",
       "\\item 2020.03287671233\n",
       "\\item 2020.03561643836\n",
       "\\end{enumerate*}\n"
      ],
      "text/markdown": [
       "1. 2020.00547945205\n",
       "2. 2020.00821917808\n",
       "3. 2020.01095890411\n",
       "4. 2020.01369863014\n",
       "5. 2020.01643835616\n",
       "6. 2020.01917808219\n",
       "7. 2020.02191780822\n",
       "8. 2020.02465753425\n",
       "9. 2020.02739726027\n",
       "10. 2020.0301369863\n",
       "11. 2020.03287671233\n",
       "12. 2020.03561643836\n",
       "\n",
       "\n"
      ],
      "text/plain": [
       " [1] 2020.005 2020.008 2020.011 2020.014 2020.016 2020.019 2020.022 2020.025\n",
       " [9] 2020.027 2020.030 2020.033 2020.036"
      ]
     },
     "metadata": {},
     "output_type": "display_data"
    }
   ],
   "source": [
    "start(bc_l)\n",
    "end(bc_l)\n",
    "class(bc_l)\n",
    "head(time(bc_l),12)"
   ]
  },
  {
   "cell_type": "code",
   "execution_count": 6,
   "metadata": {},
   "outputs": [
    {
     "data": {
      "image/png": "[encoded data removed]",
      "text/plain": [
       "plot without title"
      ]
     },
     "metadata": {
      "image/png": {
       "height": 420,
       "width": 420
      }
     },
     "output_type": "display_data"
    }
   ],
   "source": [
    "plot(bc_l)"
   ]
  },
  {
   "cell_type": "markdown",
   "metadata": {},
   "source": [
    "### Clasificación"
   ]
  },
  {
   "cell_type": "markdown",
   "metadata": {},
   "source": [
    "**Tendencia lineal**"
   ]
  },
  {
   "cell_type": "markdown",
   "metadata": {},
   "source": [
    "**HO:** B1 igual a 0.\n",
    "\n",
    "**Ha:** B1 diferente de 0.\n",
    "\n",
    "alfa=0.05"
   ]
  },
  {
   "cell_type": "code",
   "execution_count": 7,
   "metadata": {},
   "outputs": [],
   "source": [
    "tend<-lm(bc_l~time(bc_l), data=bc_l)"
   ]
  },
  {
   "cell_type": "code",
   "execution_count": 8,
   "metadata": {},
   "outputs": [
    {
     "data": {
      "text/plain": [
       "\n",
       "Call:\n",
       "lm(formula = bc_l ~ time(bc_l), data = bc_l)\n",
       "\n",
       "Residuals:\n",
       "     Min       1Q   Median       3Q      Max \n",
       "-10448.2  -7389.3   -945.9   5356.7  22989.2 \n",
       "\n",
       "Coefficients:\n",
       "             Estimate Std. Error t value Pr(>|t|)    \n",
       "(Intercept) -82237472    2782405  -29.56   <2e-16 ***\n",
       "time(bc_l)      40711       1377   29.56   <2e-16 ***\n",
       "---\n",
       "Signif. codes:  0 '***' 0.001 '**' 0.01 '*' 0.05 '.' 0.1 ' ' 1\n",
       "\n",
       "Residual standard error: 7626 on 364 degrees of freedom\n",
       "Multiple R-squared:  0.706,\tAdjusted R-squared:  0.7052 \n",
       "F-statistic:   874 on 1 and 364 DF,  p-value: < 2.2e-16\n"
      ]
     },
     "metadata": {},
     "output_type": "display_data"
    }
   ],
   "source": [
    "summary(tend)"
   ]
  },
  {
   "cell_type": "markdown",
   "metadata": {},
   "source": [
    "*Modelo estimado*"
   ]
  },
  {
   "cell_type": "code",
   "execution_count": null,
   "metadata": {},
   "outputs": [],
   "source": []
  },
  {
   "cell_type": "markdown",
   "metadata": {},
   "source": [
    "* **p-valor:** 2.2e^-16\n",
    "* **R^2 ajustada:** 0.7052 por lo que se ajusta al modelo lineal de buena manera.\n",
    "* **Conclusión:** Se rechazo Ho, dado que el p-valor muy pequeño y menor que alfa. Por lo que si hay relación entre las variables y existe tendencia lineal."
   ]
  },
  {
   "cell_type": "markdown",
   "metadata": {},
   "source": [
    "**Modelo de tendencia polinómica**"
   ]
  },
  {
   "cell_type": "markdown",
   "metadata": {},
   "source": [
    "**HO:** B1 igual a 0.\n",
    "\n",
    "**Ha:** B1 diferente de 0.\n",
    "\n",
    "alfa=0.05"
   ]
  },
  {
   "cell_type": "code",
   "execution_count": 9,
   "metadata": {},
   "outputs": [
    {
     "data": {
      "text/plain": [
       "\n",
       "Call:\n",
       "lm(formula = bc_l ~ poly(tc, degree = 3))\n",
       "\n",
       "Residuals:\n",
       "    Min      1Q  Median      3Q     Max \n",
       "-6260.0  -981.5  -219.6   571.5 10730.1 \n",
       "\n",
       "Coefficients:\n",
       "                      Estimate Std. Error t value Pr(>|t|)    \n",
       "(Intercept)            18296.9      123.8  147.76   <2e-16 ***\n",
       "poly(tc, degree = 3)1 225446.2     2369.1   95.16   <2e-16 ***\n",
       "poly(tc, degree = 3)2 126830.6     2369.1   53.54   <2e-16 ***\n",
       "poly(tc, degree = 3)3  55236.2     2369.1   23.32   <2e-16 ***\n",
       "---\n",
       "Signif. codes:  0 '***' 0.001 '**' 0.01 '*' 0.05 '.' 0.1 ' ' 1\n",
       "\n",
       "Residual standard error: 2369 on 362 degrees of freedom\n",
       "Multiple R-squared:  0.9718,\tAdjusted R-squared:  0.9715 \n",
       "F-statistic:  4155 on 3 and 362 DF,  p-value: < 2.2e-16\n"
      ]
     },
     "metadata": {},
     "output_type": "display_data"
    }
   ],
   "source": [
    "tc<-as.numeric(time(bc_l))\n",
    "tenc<-lm(bc_l~poly(tc, degree=3))\n",
    "summary(tenc)"
   ]
  },
  {
   "cell_type": "markdown",
   "metadata": {},
   "source": [
    "* **p-valor:** 2.2e^-16,\n",
    "* **R^2 ajustada:** 0.9715, por lo que se ajusta al modelo de tendencia polinómica de buena manera.\n",
    "* **MSE:** \n",
    "* **Conclusión:** Se rechazo Ho, dado que el p-valor es muy pequeño y menor que alfa. Por lo que si hay relación entre las variables por el modelo de tendencia polinómica cubica."
   ]
  },
  {
   "cell_type": "code",
   "execution_count": 10,
   "metadata": {},
   "outputs": [
    {
     "data": {
      "image/png": "[encoded data removed]",
      "text/plain": [
       "Plot with title \"Tendencias\""
      ]
     },
     "metadata": {
      "image/png": {
       "height": 420,
       "width": 420
      }
     },
     "output_type": "display_data"
    }
   ],
   "source": [
    "plot(bc_l,\n",
    "    main = 'Tendencias',\n",
    "    ylab = 'Precios',\n",
    "    xlab = 'Fecha')\n",
    "abline(tend, col=\"red\")\n",
    "lines(tc, fitted.values(tenc), \n",
    "      col=\"blue\")\n",
    "legend('topleft', \n",
    "       legend = c('Regresión lineal', 'Regresión polinómica'),\n",
    "        col = c('red', 'blue'),\n",
    "      lty = 1)"
   ]
  },
  {
   "cell_type": "markdown",
   "metadata": {},
   "source": [
    "**Varianza**"
   ]
  },
  {
   "cell_type": "markdown",
   "metadata": {},
   "source": [
    "**HO:** La serie NO es estacionaria en varianza\n",
    "\n",
    "**Ha:** La serie SI es estacionaria en varianza\n",
    "\n",
    "alfa=0.05"
   ]
  },
  {
   "cell_type": "code",
   "execution_count": 11,
   "metadata": {},
   "outputs": [
    {
     "name": "stderr",
     "output_type": "stream",
     "text": [
      "Warning message in adf.test(bc_l, alternative = \"stationary\"):\n",
      "\"p-value greater than printed p-value\"\n"
     ]
    },
    {
     "data": {
      "text/plain": [
       "\n",
       "\tAugmented Dickey-Fuller Test\n",
       "\n",
       "data:  bc_l\n",
       "Dickey-Fuller = 0.066434, Lag order = 7, p-value = 0.99\n",
       "alternative hypothesis: stationary\n"
      ]
     },
     "metadata": {},
     "output_type": "display_data"
    }
   ],
   "source": [
    "adf.test(bc_l, alternative=\"stationary\")"
   ]
  },
  {
   "cell_type": "markdown",
   "metadata": {},
   "source": [
    "Dado que el p-valor es mayor que alfa, No se rechaza Ho, por lo que la serie NO es estacionaria en Varianza."
   ]
  },
  {
   "cell_type": "markdown",
   "metadata": {},
   "source": [
    "**Conclusión:** La serie es NO estacionaria en media ni varianza"
   ]
  },
  {
   "cell_type": "markdown",
   "metadata": {},
   "source": [
    "## Correcciones"
   ]
  },
  {
   "cell_type": "markdown",
   "metadata": {},
   "source": [
    "**Corrección 1**"
   ]
  },
  {
   "cell_type": "code",
   "execution_count": 12,
   "metadata": {},
   "outputs": [],
   "source": [
    "c1 <- diff(log(bc_l))"
   ]
  },
  {
   "cell_type": "code",
   "execution_count": 13,
   "metadata": {},
   "outputs": [
    {
     "data": {
      "image/png": "[encoded data removed]",
      "text/plain": [
       "plot without title"
      ]
     },
     "metadata": {
      "image/png": {
       "height": 420,
       "width": 420
      }
     },
     "output_type": "display_data"
    }
   ],
   "source": [
    "plot(c1)"
   ]
  },
  {
   "cell_type": "markdown",
   "metadata": {},
   "source": [
    "**Tendencia**"
   ]
  },
  {
   "cell_type": "code",
   "execution_count": 14,
   "metadata": {},
   "outputs": [
    {
     "data": {
      "text/plain": [
       "\n",
       "Call:\n",
       "lm(formula = c1 ~ time(c1))\n",
       "\n",
       "Residuals:\n",
       "      Min        1Q    Median        3Q       Max \n",
       "-0.148759 -0.017729 -0.001304  0.015331  0.168344 \n",
       "\n",
       "Coefficients:\n",
       "              Estimate Std. Error t value Pr(>|t|)\n",
       "(Intercept) -12.515061  13.409865  -0.933    0.351\n",
       "time(c1)      0.006197   0.006637   0.934    0.351\n",
       "\n",
       "Residual standard error: 0.0366 on 363 degrees of freedom\n",
       "Multiple R-squared:  0.002396,\tAdjusted R-squared:  -0.000352 \n",
       "F-statistic: 0.8719 on 1 and 363 DF,  p-value: 0.351\n"
      ]
     },
     "metadata": {},
     "output_type": "display_data"
    }
   ],
   "source": [
    "tn<-lm(c1~time(c1))\n",
    "summary(tn)"
   ]
  },
  {
   "cell_type": "code",
   "execution_count": 15,
   "metadata": {},
   "outputs": [
    {
     "data": {
      "text/plain": [
       "\n",
       "Call:\n",
       "lm(formula = c1 ~ poly(tc, degree = 3))\n",
       "\n",
       "Residuals:\n",
       "      Min        1Q    Median        3Q       Max \n",
       "-0.151669 -0.018166  0.000028  0.015964  0.166520 \n",
       "\n",
       "Coefficients:\n",
       "                       Estimate Std. Error t value Pr(>|t|)    \n",
       "(Intercept)            0.006618   0.001910   3.466 0.000592 ***\n",
       "poly(tc, degree = 3)1  0.034179   0.036484   0.937 0.349480    \n",
       "poly(tc, degree = 3)2  0.044992   0.036484   1.233 0.218302    \n",
       "poly(tc, degree = 3)3 -0.061625   0.036484  -1.689 0.092065 .  \n",
       "---\n",
       "Signif. codes:  0 '***' 0.001 '**' 0.01 '*' 0.05 '.' 0.1 ' ' 1\n",
       "\n",
       "Residual standard error: 0.03648 on 361 degrees of freedom\n",
       "Multiple R-squared:  0.01434,\tAdjusted R-squared:  0.006147 \n",
       "F-statistic:  1.75 on 3 and 361 DF,  p-value: 0.1563\n"
      ]
     },
     "metadata": {},
     "output_type": "display_data"
    }
   ],
   "source": [
    "tc<-as.numeric(time(c1))\n",
    "summary(lm(c1~poly(tc, degree=3)))"
   ]
  },
  {
   "cell_type": "markdown",
   "metadata": {},
   "source": [
    "No tiene tendencia lineal, entonces es estacionaria."
   ]
  },
  {
   "cell_type": "markdown",
   "metadata": {},
   "source": [
    "**Varianza**"
   ]
  },
  {
   "cell_type": "code",
   "execution_count": 16,
   "metadata": {},
   "outputs": [
    {
     "name": "stderr",
     "output_type": "stream",
     "text": [
      "Warning message in adf.test(c1, alternative = \"stationary\"):\n",
      "\"p-value smaller than printed p-value\"\n"
     ]
    },
    {
     "data": {
      "text/plain": [
       "\n",
       "\tAugmented Dickey-Fuller Test\n",
       "\n",
       "data:  c1\n",
       "Dickey-Fuller = -6.8406, Lag order = 7, p-value = 0.01\n",
       "alternative hypothesis: stationary\n"
      ]
     },
     "metadata": {},
     "output_type": "display_data"
    }
   ],
   "source": [
    "adf.test(c1, alternative=\"stationary\")"
   ]
  },
  {
   "cell_type": "markdown",
   "metadata": {},
   "source": [
    "La serie es estacionaria en varianza"
   ]
  },
  {
   "cell_type": "markdown",
   "metadata": {},
   "source": [
    "**Clasificación:** La serie C1 es estacionaria en media y varianza"
   ]
  },
  {
   "cell_type": "markdown",
   "metadata": {},
   "source": [
    "## Modelado"
   ]
  },
  {
   "cell_type": "code",
   "execution_count": 17,
   "metadata": {},
   "outputs": [
    {
     "data": {
      "image/png": "[encoded data removed]",
      "text/plain": [
       "Plot with title \"Series c1\""
      ]
     },
     "metadata": {
      "image/png": {
       "height": 420,
       "width": 420
      }
     },
     "output_type": "display_data"
    },
    {
     "data": {
      "image/png": "[encoded data removed]",
      "text/plain": [
       "Plot with title \"Series  c1\""
      ]
     },
     "metadata": {
      "image/png": {
       "height": 420,
       "width": 420
      }
     },
     "output_type": "display_data"
    }
   ],
   "source": [
    "acf(c1) \n",
    "pacf(c1) "
   ]
  },
  {
   "cell_type": "markdown",
   "metadata": {},
   "source": [
    "**MODELO AR(𝑝)**"
   ]
  },
  {
   "cell_type": "code",
   "execution_count": 18,
   "metadata": {},
   "outputs": [
    {
     "data": {
      "text/plain": [
       "\n",
       "Call:\n",
       "ar(x = c1)\n",
       "\n",
       "\n",
       "Order selected 0  sigma^2 estimated as  0.001339"
      ]
     },
     "metadata": {},
     "output_type": "display_data"
    }
   ],
   "source": [
    "ar(c1)"
   ]
  },
  {
   "cell_type": "code",
   "execution_count": 39,
   "metadata": {},
   "outputs": [
    {
     "data": {
      "text/html": [
       "-1375.86834405637"
      ],
      "text/latex": [
       "-1375.86834405637"
      ],
      "text/markdown": [
       "-1375.86834405637"
      ],
      "text/plain": [
       "[1] -1375.868"
      ]
     },
     "metadata": {},
     "output_type": "display_data"
    }
   ],
   "source": [
    "AIC(arima(c1, order=c(0,0,0), method=\"ML\"))"
   ]
  },
  {
   "cell_type": "markdown",
   "metadata": {},
   "source": [
    "* El orden del mejor AR: 0\n",
    "\n",
    "* AIC del mejor AR: -1375.86"
   ]
  },
  {
   "cell_type": "markdown",
   "metadata": {},
   "source": [
    "**MODELO MA(𝑞)**"
   ]
  },
  {
   "cell_type": "code",
   "execution_count": 42,
   "metadata": {},
   "outputs": [
    {
     "data": {
      "text/html": [
       "1"
      ],
      "text/latex": [
       "1"
      ],
      "text/markdown": [
       "1"
      ],
      "text/plain": [
       "[1] 1"
      ]
     },
     "metadata": {},
     "output_type": "display_data"
    },
    {
     "data": {
      "text/html": [
       "-1374.91296368818"
      ],
      "text/latex": [
       "-1374.91296368818"
      ],
      "text/markdown": [
       "-1374.91296368818"
      ],
      "text/plain": [
       "[1] -1374.913"
      ]
     },
     "metadata": {},
     "output_type": "display_data"
    }
   ],
   "source": [
    "aic0<-Inf # le das un numero muy grande\n",
    "for (i in 1:20)\n",
    "{\n",
    "  aic1<-AIC(arima(c1, order = c(0,0,i), method =\"ML\" ))\n",
    "  if(aic1<aic0)\n",
    "  {\n",
    "    aic0<-aic1\n",
    "    MA.mejor<-i\n",
    "  }\n",
    "}\n",
    "MA.mejor\n",
    "aic0 "
   ]
  },
  {
   "cell_type": "markdown",
   "metadata": {},
   "source": [
    "* El orden del mejor MA: 1\n",
    "* AIC del mejor MA: -1374.91"
   ]
  },
  {
   "cell_type": "markdown",
   "metadata": {},
   "source": [
    "**MODELO ARMA(p,q)**"
   ]
  },
  {
   "cell_type": "code",
   "execution_count": 46,
   "metadata": {
    "scrolled": true
   },
   "outputs": [
    {
     "name": "stdout",
     "output_type": "stream",
     "text": [
      "[1] 1\n",
      "[1] 1\n",
      "[1] 1\n",
      "[1] 1\n",
      "[1] 1\n",
      "[1] 1\n",
      "[1] 1\n",
      "[1] 1\n",
      "[1] 1\n",
      "[1] 1\n",
      "[1] 1\n",
      "[1] 1\n",
      "[1] 1\n",
      "[1] 1\n",
      "[1] 1\n",
      "[1] 2\n",
      "[1] 2\n",
      "[1] 2\n",
      "[1] 2\n",
      "[1] 2\n",
      "[1] 2\n",
      "[1] 2\n",
      "[1] 2\n",
      "[1] 2\n",
      "[1] 2\n",
      "[1] 2\n",
      "[1] 2\n",
      "[1] 2\n",
      "[1] 2\n",
      "[1] 2\n",
      "[1] 3\n",
      "[1] 3\n",
      "[1] 3\n",
      "[1] 3\n"
     ]
    },
    {
     "name": "stderr",
     "output_type": "stream",
     "text": [
      "Warning message in stats::arima(x = x, order = order, seasonal = seasonal, xreg = xreg, :\n",
      "\"possible convergence problem: optim gave code = 1\"\n"
     ]
    },
    {
     "name": "stdout",
     "output_type": "stream",
     "text": [
      "[1] 3\n",
      "[1] 3\n",
      "[1] 3\n"
     ]
    },
    {
     "name": "stderr",
     "output_type": "stream",
     "text": [
      "Warning message in stats::arima(x = x, order = order, seasonal = seasonal, xreg = xreg, :\n",
      "\"possible convergence problem: optim gave code = 1\"\n"
     ]
    },
    {
     "name": "stdout",
     "output_type": "stream",
     "text": [
      "[1] 3\n",
      "[1] 3\n",
      "[1] 3\n"
     ]
    },
    {
     "name": "stderr",
     "output_type": "stream",
     "text": [
      "Warning message in log(s2):\n",
      "\"Se han producido NaNs\"\n",
      "Warning message in log(s2):\n",
      "\"Se han producido NaNs\"\n",
      "Warning message in log(s2):\n",
      "\"Se han producido NaNs\"\n",
      "Warning message in log(s2):\n",
      "\"Se han producido NaNs\"\n",
      "Warning message in log(s2):\n",
      "\"Se han producido NaNs\"\n"
     ]
    },
    {
     "name": "stdout",
     "output_type": "stream",
     "text": [
      "[1] 3\n",
      "[1] 3\n",
      "[1] 3\n",
      "[1] 3\n",
      "[1] 3\n",
      "[1] 4\n",
      "[1] 4\n",
      "[1] 4\n"
     ]
    },
    {
     "name": "stderr",
     "output_type": "stream",
     "text": [
      "Warning message in stats::arima(x = x, order = order, seasonal = seasonal, xreg = xreg, :\n",
      "\"possible convergence problem: optim gave code = 1\"\n"
     ]
    },
    {
     "name": "stdout",
     "output_type": "stream",
     "text": [
      "[1] 4\n",
      "[1] 4\n",
      "[1] 4\n"
     ]
    },
    {
     "name": "stderr",
     "output_type": "stream",
     "text": [
      "Warning message in stats::arima(x = x, order = order, seasonal = seasonal, xreg = xreg, :\n",
      "\"possible convergence problem: optim gave code = 1\"\n"
     ]
    },
    {
     "name": "stdout",
     "output_type": "stream",
     "text": [
      "[1] 4\n",
      "[1] 4\n",
      "[1] 4\n"
     ]
    },
    {
     "name": "stderr",
     "output_type": "stream",
     "text": [
      "Warning message in stats::arima(x = x, order = order, seasonal = seasonal, xreg = xreg, :\n",
      "\"possible convergence problem: optim gave code = 1\"\n"
     ]
    },
    {
     "name": "stdout",
     "output_type": "stream",
     "text": [
      "[1] 4\n"
     ]
    },
    {
     "name": "stderr",
     "output_type": "stream",
     "text": [
      "Warning message in stats::arima(x = x, order = order, seasonal = seasonal, xreg = xreg, :\n",
      "\"possible convergence problem: optim gave code = 1\"\n"
     ]
    },
    {
     "name": "stdout",
     "output_type": "stream",
     "text": [
      "[1] 4\n"
     ]
    },
    {
     "name": "stderr",
     "output_type": "stream",
     "text": [
      "Warning message in stats::arima(x = x, order = order, seasonal = seasonal, xreg = xreg, :\n",
      "\"possible convergence problem: optim gave code = 1\"\n"
     ]
    },
    {
     "name": "stdout",
     "output_type": "stream",
     "text": [
      "[1] 4\n",
      "[1] 4\n"
     ]
    },
    {
     "name": "stderr",
     "output_type": "stream",
     "text": [
      "Warning message in stats::arima(x = x, order = order, seasonal = seasonal, xreg = xreg, :\n",
      "\"possible convergence problem: optim gave code = 1\"\n"
     ]
    },
    {
     "name": "stdout",
     "output_type": "stream",
     "text": [
      "[1] 4\n"
     ]
    },
    {
     "name": "stderr",
     "output_type": "stream",
     "text": [
      "Warning message in stats::arima(x = x, order = order, seasonal = seasonal, xreg = xreg, :\n",
      "\"possible convergence problem: optim gave code = 1\"\n"
     ]
    },
    {
     "name": "stdout",
     "output_type": "stream",
     "text": [
      "[1] 4\n"
     ]
    },
    {
     "name": "stderr",
     "output_type": "stream",
     "text": [
      "Warning message in stats::arima(x = x, order = order, seasonal = seasonal, xreg = xreg, :\n",
      "\"possible convergence problem: optim gave code = 1\"\n"
     ]
    },
    {
     "name": "stdout",
     "output_type": "stream",
     "text": [
      "[1] 5\n",
      "[1] 5\n",
      "[1] 5\n",
      "[1] 5\n",
      "[1] 5\n",
      "[1] 5\n",
      "[1] 5\n",
      "[1] 5\n",
      "[1] 5\n"
     ]
    },
    {
     "name": "stderr",
     "output_type": "stream",
     "text": [
      "Warning message in stats::arima(x = x, order = order, seasonal = seasonal, xreg = xreg, :\n",
      "\"possible convergence problem: optim gave code = 1\"\n"
     ]
    },
    {
     "name": "stdout",
     "output_type": "stream",
     "text": [
      "[1] 5\n"
     ]
    },
    {
     "name": "stderr",
     "output_type": "stream",
     "text": [
      "Warning message in stats::arima(x = x, order = order, seasonal = seasonal, xreg = xreg, :\n",
      "\"possible convergence problem: optim gave code = 1\"\n"
     ]
    },
    {
     "name": "stdout",
     "output_type": "stream",
     "text": [
      "[1] 5\n",
      "[1] 5\n"
     ]
    },
    {
     "name": "stderr",
     "output_type": "stream",
     "text": [
      "Warning message in stats::arima(x = x, order = order, seasonal = seasonal, xreg = xreg, :\n",
      "\"possible convergence problem: optim gave code = 1\"\n"
     ]
    },
    {
     "name": "stdout",
     "output_type": "stream",
     "text": [
      "[1] 5\n"
     ]
    },
    {
     "name": "stderr",
     "output_type": "stream",
     "text": [
      "Warning message in stats::arima(x = x, order = order, seasonal = seasonal, xreg = xreg, :\n",
      "\"possible convergence problem: optim gave code = 1\"\n"
     ]
    },
    {
     "name": "stdout",
     "output_type": "stream",
     "text": [
      "[1] 5\n"
     ]
    },
    {
     "name": "stderr",
     "output_type": "stream",
     "text": [
      "Warning message in stats::arima(x = x, order = order, seasonal = seasonal, xreg = xreg, :\n",
      "\"possible convergence problem: optim gave code = 1\"\n"
     ]
    },
    {
     "name": "stdout",
     "output_type": "stream",
     "text": [
      "[1] 5\n"
     ]
    },
    {
     "name": "stderr",
     "output_type": "stream",
     "text": [
      "Warning message in stats::arima(x = x, order = order, seasonal = seasonal, xreg = xreg, :\n",
      "\"possible convergence problem: optim gave code = 1\"\n"
     ]
    },
    {
     "name": "stdout",
     "output_type": "stream",
     "text": [
      "[1] 6\n",
      "[1] 6\n",
      "[1] 6\n",
      "[1] 6\n",
      "[1] 6\n",
      "[1] 6\n",
      "[1] 6\n",
      "[1] 6\n",
      "[1] 6\n"
     ]
    },
    {
     "name": "stderr",
     "output_type": "stream",
     "text": [
      "Warning message in stats::arima(x = x, order = order, seasonal = seasonal, xreg = xreg, :\n",
      "\"possible convergence problem: optim gave code = 1\"\n"
     ]
    },
    {
     "name": "stdout",
     "output_type": "stream",
     "text": [
      "[1] 6\n"
     ]
    },
    {
     "name": "stderr",
     "output_type": "stream",
     "text": [
      "Warning message in stats::arima(x = x, order = order, seasonal = seasonal, xreg = xreg, :\n",
      "\"possible convergence problem: optim gave code = 1\"\n"
     ]
    },
    {
     "name": "stdout",
     "output_type": "stream",
     "text": [
      "[1] 6\n"
     ]
    },
    {
     "name": "stderr",
     "output_type": "stream",
     "text": [
      "Warning message in stats::arima(x = x, order = order, seasonal = seasonal, xreg = xreg, :\n",
      "\"possible convergence problem: optim gave code = 1\"\n"
     ]
    },
    {
     "name": "stdout",
     "output_type": "stream",
     "text": [
      "[1] 6\n"
     ]
    },
    {
     "name": "stderr",
     "output_type": "stream",
     "text": [
      "Warning message in stats::arima(x = x, order = order, seasonal = seasonal, xreg = xreg, :\n",
      "\"possible convergence problem: optim gave code = 1\"\n"
     ]
    },
    {
     "name": "stdout",
     "output_type": "stream",
     "text": [
      "[1] 6\n"
     ]
    },
    {
     "name": "stderr",
     "output_type": "stream",
     "text": [
      "Warning message in stats::arima(x = x, order = order, seasonal = seasonal, xreg = xreg, :\n",
      "\"possible convergence problem: optim gave code = 1\"\n"
     ]
    },
    {
     "name": "stdout",
     "output_type": "stream",
     "text": [
      "[1] 6\n"
     ]
    },
    {
     "name": "stderr",
     "output_type": "stream",
     "text": [
      "Warning message in stats::arima(x = x, order = order, seasonal = seasonal, xreg = xreg, :\n",
      "\"possible convergence problem: optim gave code = 1\"\n"
     ]
    },
    {
     "name": "stdout",
     "output_type": "stream",
     "text": [
      "[1] 6\n"
     ]
    },
    {
     "name": "stderr",
     "output_type": "stream",
     "text": [
      "Warning message in log(s2):\n",
      "\"Se han producido NaNs\"\n",
      "Warning message in log(s2):\n",
      "\"Se han producido NaNs\"\n",
      "Warning message in stats::arima(x = x, order = order, seasonal = seasonal, xreg = xreg, :\n",
      "\"possible convergence problem: optim gave code = 1\"\n"
     ]
    },
    {
     "name": "stdout",
     "output_type": "stream",
     "text": [
      "[1] 7\n",
      "[1] 7\n",
      "[1] 7\n",
      "[1] 7\n",
      "[1] 7\n",
      "[1] 7\n",
      "[1] 7\n"
     ]
    },
    {
     "name": "stderr",
     "output_type": "stream",
     "text": [
      "Warning message in stats::arima(x = x, order = order, seasonal = seasonal, xreg = xreg, :\n",
      "\"possible convergence problem: optim gave code = 1\"\n"
     ]
    },
    {
     "name": "stdout",
     "output_type": "stream",
     "text": [
      "[1] 7\n",
      "[1] 7\n"
     ]
    },
    {
     "name": "stderr",
     "output_type": "stream",
     "text": [
      "Warning message in stats::arima(x = x, order = order, seasonal = seasonal, xreg = xreg, :\n",
      "\"possible convergence problem: optim gave code = 1\"\n"
     ]
    },
    {
     "name": "stdout",
     "output_type": "stream",
     "text": [
      "[1] 7\n"
     ]
    },
    {
     "name": "stderr",
     "output_type": "stream",
     "text": [
      "Warning message in stats::arima(x = x, order = order, seasonal = seasonal, xreg = xreg, :\n",
      "\"possible convergence problem: optim gave code = 1\"\n"
     ]
    },
    {
     "name": "stdout",
     "output_type": "stream",
     "text": [
      "[1] 7\n"
     ]
    },
    {
     "name": "stderr",
     "output_type": "stream",
     "text": [
      "Warning message in stats::arima(x = x, order = order, seasonal = seasonal, xreg = xreg, :\n",
      "\"possible convergence problem: optim gave code = 1\"\n"
     ]
    },
    {
     "name": "stdout",
     "output_type": "stream",
     "text": [
      "[1] 7\n"
     ]
    },
    {
     "name": "stderr",
     "output_type": "stream",
     "text": [
      "Warning message in stats::arima(x = x, order = order, seasonal = seasonal, xreg = xreg, :\n",
      "\"possible convergence problem: optim gave code = 1\"\n"
     ]
    },
    {
     "name": "stdout",
     "output_type": "stream",
     "text": [
      "[1] 7\n"
     ]
    },
    {
     "name": "stderr",
     "output_type": "stream",
     "text": [
      "Warning message in stats::arima(x = x, order = order, seasonal = seasonal, xreg = xreg, :\n",
      "\"possible convergence problem: optim gave code = 1\"\n"
     ]
    },
    {
     "name": "stdout",
     "output_type": "stream",
     "text": [
      "[1] 7\n"
     ]
    },
    {
     "name": "stderr",
     "output_type": "stream",
     "text": [
      "Warning message in stats::arima(x = x, order = order, seasonal = seasonal, xreg = xreg, :\n",
      "\"possible convergence problem: optim gave code = 1\"\n"
     ]
    },
    {
     "name": "stdout",
     "output_type": "stream",
     "text": [
      "[1] 7\n"
     ]
    },
    {
     "name": "stderr",
     "output_type": "stream",
     "text": [
      "Warning message in stats::arima(x = x, order = order, seasonal = seasonal, xreg = xreg, :\n",
      "\"possible convergence problem: optim gave code = 1\"\n"
     ]
    },
    {
     "name": "stdout",
     "output_type": "stream",
     "text": [
      "[1] 8\n",
      "[1] 8\n",
      "[1] 8\n",
      "[1] 8\n"
     ]
    },
    {
     "name": "stderr",
     "output_type": "stream",
     "text": [
      "Warning message in stats::arima(x = x, order = order, seasonal = seasonal, xreg = xreg, :\n",
      "\"possible convergence problem: optim gave code = 1\"\n"
     ]
    },
    {
     "name": "stdout",
     "output_type": "stream",
     "text": [
      "[1] 8\n"
     ]
    },
    {
     "name": "stderr",
     "output_type": "stream",
     "text": [
      "Warning message in stats::arima(x = x, order = order, seasonal = seasonal, xreg = xreg, :\n",
      "\"possible convergence problem: optim gave code = 1\"\n"
     ]
    },
    {
     "name": "stdout",
     "output_type": "stream",
     "text": [
      "[1] 8\n"
     ]
    },
    {
     "name": "stderr",
     "output_type": "stream",
     "text": [
      "Warning message in stats::arima(x = x, order = order, seasonal = seasonal, xreg = xreg, :\n",
      "\"possible convergence problem: optim gave code = 1\"\n"
     ]
    },
    {
     "name": "stdout",
     "output_type": "stream",
     "text": [
      "[1] 8\n"
     ]
    },
    {
     "name": "stderr",
     "output_type": "stream",
     "text": [
      "Warning message in stats::arima(x = x, order = order, seasonal = seasonal, xreg = xreg, :\n",
      "\"possible convergence problem: optim gave code = 1\"\n"
     ]
    },
    {
     "name": "stdout",
     "output_type": "stream",
     "text": [
      "[1] 8\n"
     ]
    },
    {
     "name": "stderr",
     "output_type": "stream",
     "text": [
      "Warning message in stats::arima(x = x, order = order, seasonal = seasonal, xreg = xreg, :\n",
      "\"possible convergence problem: optim gave code = 1\"\n"
     ]
    },
    {
     "name": "stdout",
     "output_type": "stream",
     "text": [
      "[1] 8\n"
     ]
    },
    {
     "name": "stderr",
     "output_type": "stream",
     "text": [
      "Warning message in stats::arima(x = x, order = order, seasonal = seasonal, xreg = xreg, :\n",
      "\"possible convergence problem: optim gave code = 1\"\n"
     ]
    },
    {
     "name": "stdout",
     "output_type": "stream",
     "text": [
      "[1] 8\n"
     ]
    },
    {
     "name": "stderr",
     "output_type": "stream",
     "text": [
      "Warning message in stats::arima(x = x, order = order, seasonal = seasonal, xreg = xreg, :\n",
      "\"possible convergence problem: optim gave code = 1\"\n"
     ]
    },
    {
     "name": "stdout",
     "output_type": "stream",
     "text": [
      "[1] 8\n"
     ]
    },
    {
     "name": "stderr",
     "output_type": "stream",
     "text": [
      "Warning message in stats::arima(x = x, order = order, seasonal = seasonal, xreg = xreg, :\n",
      "\"possible convergence problem: optim gave code = 1\"\n"
     ]
    },
    {
     "name": "stdout",
     "output_type": "stream",
     "text": [
      "[1] 8\n"
     ]
    },
    {
     "name": "stderr",
     "output_type": "stream",
     "text": [
      "Warning message in stats::arima(x = x, order = order, seasonal = seasonal, xreg = xreg, :\n",
      "\"possible convergence problem: optim gave code = 1\"\n"
     ]
    },
    {
     "name": "stdout",
     "output_type": "stream",
     "text": [
      "[1] 8\n"
     ]
    },
    {
     "name": "stderr",
     "output_type": "stream",
     "text": [
      "Warning message in stats::arima(x = x, order = order, seasonal = seasonal, xreg = xreg, :\n",
      "\"possible convergence problem: optim gave code = 1\"\n"
     ]
    },
    {
     "name": "stdout",
     "output_type": "stream",
     "text": [
      "[1] 8\n"
     ]
    },
    {
     "name": "stderr",
     "output_type": "stream",
     "text": [
      "Warning message in stats::arima(x = x, order = order, seasonal = seasonal, xreg = xreg, :\n",
      "\"possible convergence problem: optim gave code = 1\"\n"
     ]
    },
    {
     "name": "stdout",
     "output_type": "stream",
     "text": [
      "[1] 8\n"
     ]
    },
    {
     "name": "stderr",
     "output_type": "stream",
     "text": [
      "Warning message in stats::arima(x = x, order = order, seasonal = seasonal, xreg = xreg, :\n",
      "\"possible convergence problem: optim gave code = 1\"\n"
     ]
    },
    {
     "data": {
      "text/html": [
       "<style>\n",
       ".list-inline {list-style: none; margin:0; padding: 0}\n",
       ".list-inline>li {display: inline-block}\n",
       ".list-inline>li:not(:last-child)::after {content: \"\\00b7\"; padding: 0 .5ex}\n",
       "</style>\n",
       "<ol class=list-inline><li>2</li><li>4</li></ol>\n"
      ],
      "text/latex": [
       "\\begin{enumerate*}\n",
       "\\item 2\n",
       "\\item 4\n",
       "\\end{enumerate*}\n"
      ],
      "text/markdown": [
       "1. 2\n",
       "2. 4\n",
       "\n",
       "\n"
      ],
      "text/plain": [
       "[1] 2 4"
      ]
     },
     "metadata": {},
     "output_type": "display_data"
    },
    {
     "data": {
      "text/html": [
       "-1374.65718249288"
      ],
      "text/latex": [
       "-1374.65718249288"
      ],
      "text/markdown": [
       "-1374.65718249288"
      ],
      "text/plain": [
       "[1] -1374.657"
      ]
     },
     "metadata": {},
     "output_type": "display_data"
    }
   ],
   "source": [
    "arma.aic<-Inf\n",
    "for(j in 1:8)\n",
    "{\n",
    "  for (i in 1:15)\n",
    "  {\n",
    "    print(j,i)\n",
    "    aux<-AIC(arima(c1, order = c(j,0,i), method =\"ML\" ))\n",
    "    if(aux<arma.aic)\n",
    "    {\n",
    "      arma.aic<-aux\n",
    "      ARMA.mejor<-c(j,i)\n",
    "    }\n",
    "  }\n",
    "}\n",
    "ARMA.mejor\n",
    "arma.aic"
   ]
  },
  {
   "cell_type": "markdown",
   "metadata": {},
   "source": [
    "* El orden del mejor ARMA: 2,4\n",
    "* AIC del mejor ARMA: -1374.65"
   ]
  },
  {
   "cell_type": "markdown",
   "metadata": {},
   "source": [
    "## Ruido blanco"
   ]
  },
  {
   "cell_type": "code",
   "execution_count": 47,
   "metadata": {},
   "outputs": [],
   "source": [
    "res<-residuals(arima(c1, order=c(0,0,1), method = 'ML'))"
   ]
  },
  {
   "cell_type": "markdown",
   "metadata": {},
   "source": [
    "**Media**"
   ]
  },
  {
   "cell_type": "code",
   "execution_count": 48,
   "metadata": {},
   "outputs": [
    {
     "data": {
      "text/html": [
       "6.29011463956135e-08"
      ],
      "text/latex": [
       "6.29011463956135e-08"
      ],
      "text/markdown": [
       "6.29011463956135e-08"
      ],
      "text/plain": [
       "[1] 6.290115e-08"
      ]
     },
     "metadata": {},
     "output_type": "display_data"
    }
   ],
   "source": [
    "mean(res)"
   ]
  },
  {
   "cell_type": "code",
   "execution_count": 49,
   "metadata": {},
   "outputs": [
    {
     "data": {
      "image/png": "[encoded data removed]",
      "text/plain": [
       "plot without title"
      ]
     },
     "metadata": {
      "image/png": {
       "height": 420,
       "width": 420
      }
     },
     "output_type": "display_data"
    }
   ],
   "source": [
    "plot(res, type=\"p\")"
   ]
  },
  {
   "cell_type": "markdown",
   "metadata": {},
   "source": [
    "**Incorrelación**"
   ]
  },
  {
   "cell_type": "code",
   "execution_count": 25,
   "metadata": {},
   "outputs": [
    {
     "data": {
      "image/png": "[encoded data removed]",
      "text/plain": [
       "Plot with title \"Series res\""
      ]
     },
     "metadata": {
      "image/png": {
       "height": 420,
       "width": 420
      }
     },
     "output_type": "display_data"
    },
    {
     "data": {
      "image/png": "[encoded data removed]",
      "text/plain": [
       "Plot with title \"Series  res\""
      ]
     },
     "metadata": {
      "image/png": {
       "height": 420,
       "width": 420
      }
     },
     "output_type": "display_data"
    }
   ],
   "source": [
    "acf(res) \n",
    "pacf(res) "
   ]
  },
  {
   "cell_type": "markdown",
   "metadata": {},
   "source": [
    "**Incorrelación de forma analítica**"
   ]
  },
  {
   "cell_type": "markdown",
   "metadata": {},
   "source": [
    "**HO:** Son independientes\n",
    "\n",
    "**Ha:** Muestran alguna dependencia\n",
    "\n",
    "alfa=0.05"
   ]
  },
  {
   "cell_type": "code",
   "execution_count": 50,
   "metadata": {},
   "outputs": [
    {
     "data": {
      "text/plain": [
       "\n",
       "\tBox-Pierce test\n",
       "\n",
       "data:  res\n",
       "X-squared = 9.9959e-07, df = 1, p-value = 0.9992\n"
      ]
     },
     "metadata": {},
     "output_type": "display_data"
    }
   ],
   "source": [
    "Box.test(res)"
   ]
  },
  {
   "cell_type": "markdown",
   "metadata": {},
   "source": [
    "**Normalidad**"
   ]
  },
  {
   "cell_type": "markdown",
   "metadata": {},
   "source": [
    "**HO:** Sigue una distribución normal\n",
    "\n",
    "**Ha:** NO sigue una distribución normal\n",
    "\n",
    "alfa=0.05"
   ]
  },
  {
   "cell_type": "code",
   "execution_count": 51,
   "metadata": {},
   "outputs": [
    {
     "data": {
      "text/plain": [
       "\n",
       "\tShapiro-Wilk normality test\n",
       "\n",
       "data:  res\n",
       "W = 0.95029, p-value = 9.572e-10\n"
      ]
     },
     "metadata": {},
     "output_type": "display_data"
    }
   ],
   "source": [
    "shapiro.test(res)"
   ]
  },
  {
   "cell_type": "markdown",
   "metadata": {},
   "source": [
    "## Predicciones"
   ]
  },
  {
   "cell_type": "code",
   "execution_count": 55,
   "metadata": {
    "scrolled": false
   },
   "outputs": [
    {
     "data": {
      "text/html": [
       "<style>\n",
       ".list-inline {list-style: none; margin:0; padding: 0}\n",
       ".list-inline>li {display: inline-block}\n",
       ".list-inline>li:not(:last-child)::after {content: \"\\00b7\"; padding: 0 .5ex}\n",
       "</style>\n",
       "<ol class=list-inline><li>58921.8709961012</li><li>58921.8709961012</li><li>58921.8709961012</li><li>58921.8709961012</li><li>58921.8709961012</li><li>58921.8709961012</li></ol>\n"
      ],
      "text/latex": [
       "\\begin{enumerate*}\n",
       "\\item 58921.8709961012\n",
       "\\item 58921.8709961012\n",
       "\\item 58921.8709961012\n",
       "\\item 58921.8709961012\n",
       "\\item 58921.8709961012\n",
       "\\item 58921.8709961012\n",
       "\\end{enumerate*}\n"
      ],
      "text/markdown": [
       "1. 58921.8709961012\n",
       "2. 58921.8709961012\n",
       "3. 58921.8709961012\n",
       "4. 58921.8709961012\n",
       "5. 58921.8709961012\n",
       "6. 58921.8709961012\n",
       "\n",
       "\n"
      ],
      "text/plain": [
       "[1] 58921.87 58921.87 58921.87 58921.87 58921.87 58921.87"
      ]
     },
     "metadata": {},
     "output_type": "display_data"
    }
   ],
   "source": [
    "Pred <- predict(arima(bc_l, order=c(0, 1,1), method=\"ML\"), n.ahead=20)$pred\n",
    "head(Pred)"
   ]
  },
  {
   "cell_type": "code",
   "execution_count": 56,
   "metadata": {},
   "outputs": [
    {
     "data": {
      "image/png": "[encoded data removed]",
      "text/plain": [
       "Plot with title \"Predicciones a 20 dias al futuro\""
      ]
     },
     "metadata": {
      "image/png": {
       "height": 420,
       "width": 420
      }
     },
     "output_type": "display_data"
    }
   ],
   "source": [
    "plot(bc_l,\n",
    "    main = 'Predicciones a 20 dias al futuro',\n",
    "    xlab = 'Fecha',\n",
    "    ylab = 'Precio',\n",
    "    xlim = c(2020.00547945205, 2021.1))\n",
    "lines(Pred, \n",
    "      col=\"red\")\n",
    "legend('topleft', \n",
    "       legend = c('Predicción'),\n",
    "        col = c('red'),\n",
    "      lty = 1)"
   ]
  },
  {
   "cell_type": "code",
   "execution_count": 57,
   "metadata": {},
   "outputs": [
    {
     "data": {
      "image/png": "[encoded data removed]",
      "text/plain": [
       "Plot with title \"Predicciones a 20 dias al futuro. Gráfico aumentado.\""
      ]
     },
     "metadata": {
      "image/png": {
       "height": 420,
       "width": 420
      }
     },
     "output_type": "display_data"
    }
   ],
   "source": [
    "plot(bc_l,\n",
    "    main = 'Predicciones a 20 dias al futuro. Gráfico aumentado.',\n",
    "    xlab = 'Fecha',\n",
    "    ylab = 'Precio',\n",
    "    xlim = c(2020.80547945205, 2021.1),\n",
    "    ylim = c(25000, 62000))\n",
    "lines(Pred, \n",
    "      col=\"red\")\n",
    "legend('bottomright', \n",
    "       legend = c('Predicción'),\n",
    "        col = c('red'),\n",
    "      lty = 1)"
   ]
  },
  {
   "cell_type": "code",
   "execution_count": null,
   "metadata": {},
   "outputs": [],
   "source": []
  }
 ],
 "metadata": {
  "kernelspec": {
   "display_name": "R",
   "language": "R",
   "name": "ir"
  },
  "language_info": {
   "codemirror_mode": "r",
   "file_extension": ".r",
   "mimetype": "text/x-r-source",
   "name": "R",
   "pygments_lexer": "r",
   "version": "4.0.3"
  }
 },
 "nbformat": 4,
 "nbformat_minor": 5
}
