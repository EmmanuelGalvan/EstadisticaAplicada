{
 "cells": [
  {
   "cell_type": "markdown",
   "metadata": {},
   "source": [
    "# Prediccion con series de tiempo\n",
    "\n",
    "**Data: oilfilters**"
   ]
  },
  {
   "cell_type": "code",
   "execution_count": 1,
   "metadata": {},
   "outputs": [
    {
     "name": "stderr",
     "output_type": "stream",
     "text": [
      "\n",
      "Attaching package: 'TSA'\n",
      "\n",
      "\n",
      "The following objects are masked from 'package:stats':\n",
      "\n",
      "    acf, arima\n",
      "\n",
      "\n",
      "The following object is masked from 'package:utils':\n",
      "\n",
      "    tar\n",
      "\n",
      "\n"
     ]
    }
   ],
   "source": [
    "library(TSA)\n",
    "library(tseries)"
   ]
  },
  {
   "cell_type": "code",
   "execution_count": 2,
   "metadata": {},
   "outputs": [],
   "source": [
    "data('oilfilters')"
   ]
  },
  {
   "cell_type": "code",
   "execution_count": 3,
   "metadata": {},
   "outputs": [
    {
     "data": {
      "text/html": [
       "<table>\n",
       "<caption>A Time Series: 5 × 12</caption>\n",
       "<thead>\n",
       "\t<tr><th></th><th scope=col>Jan</th><th scope=col>Feb</th><th scope=col>Mar</th><th scope=col>Apr</th><th scope=col>May</th><th scope=col>Jun</th><th scope=col>Jul</th><th scope=col>Aug</th><th scope=col>Sep</th><th scope=col>Oct</th><th scope=col>Nov</th><th scope=col>Dec</th></tr>\n",
       "</thead>\n",
       "<tbody>\n",
       "\t<tr><th scope=row>1983</th><td>    </td><td>    </td><td>    </td><td>    </td><td>    </td><td>    </td><td>2385</td><td>3302</td><td>3958</td><td>3302</td><td>2441</td><td>3107</td></tr>\n",
       "\t<tr><th scope=row>1984</th><td>5862</td><td>4536</td><td>4625</td><td>4492</td><td>4486</td><td>4005</td><td>3744</td><td>2546</td><td>1954</td><td>2285</td><td>1778</td><td>3222</td></tr>\n",
       "\t<tr><th scope=row>1985</th><td>5472</td><td>5310</td><td>1965</td><td>3791</td><td>3622</td><td>3726</td><td>3370</td><td>2535</td><td>1572</td><td>2146</td><td>2249</td><td>1721</td></tr>\n",
       "\t<tr><th scope=row>1986</th><td>5357</td><td>5811</td><td>2436</td><td>4608</td><td>2871</td><td>3349</td><td>2909</td><td>2324</td><td>1603</td><td>2148</td><td>2245</td><td>1586</td></tr>\n",
       "\t<tr><th scope=row>1987</th><td>5332</td><td>5787</td><td>2886</td><td>5475</td><td>3843</td><td>2537</td><td>    </td><td>    </td><td>    </td><td>    </td><td>    </td><td>    </td></tr>\n",
       "</tbody>\n",
       "</table>\n"
      ],
      "text/latex": [
       "A Time Series: 5 × 12\n",
       "\\begin{tabular}{r|llllllllllll}\n",
       "  & Jan & Feb & Mar & Apr & May & Jun & Jul & Aug & Sep & Oct & Nov & Dec\\\\\n",
       "\\hline\n",
       "\t1983 &      &      &      &      &      &      & 2385 & 3302 & 3958 & 3302 & 2441 & 3107\\\\\n",
       "\t1984 & 5862 & 4536 & 4625 & 4492 & 4486 & 4005 & 3744 & 2546 & 1954 & 2285 & 1778 & 3222\\\\\n",
       "\t1985 & 5472 & 5310 & 1965 & 3791 & 3622 & 3726 & 3370 & 2535 & 1572 & 2146 & 2249 & 1721\\\\\n",
       "\t1986 & 5357 & 5811 & 2436 & 4608 & 2871 & 3349 & 2909 & 2324 & 1603 & 2148 & 2245 & 1586\\\\\n",
       "\t1987 & 5332 & 5787 & 2886 & 5475 & 3843 & 2537 &      &      &      &      &      &     \\\\\n",
       "\\end{tabular}\n"
      ],
      "text/markdown": [
       "\n",
       "A Time Series: 5 × 12\n",
       "\n",
       "| <!--/--> | Jan | Feb | Mar | Apr | May | Jun | Jul | Aug | Sep | Oct | Nov | Dec |\n",
       "|---|---|---|---|---|---|---|---|---|---|---|---|---|\n",
       "| 1983 | <!----> | <!----> | <!----> | <!----> | <!----> | <!----> | 2385 | 3302 | 3958 | 3302 | 2441 | 3107 |\n",
       "| 1984 | 5862 | 4536 | 4625 | 4492 | 4486 | 4005 | 3744 | 2546 | 1954 | 2285 | 1778 | 3222 |\n",
       "| 1985 | 5472 | 5310 | 1965 | 3791 | 3622 | 3726 | 3370 | 2535 | 1572 | 2146 | 2249 | 1721 |\n",
       "| 1986 | 5357 | 5811 | 2436 | 4608 | 2871 | 3349 | 2909 | 2324 | 1603 | 2148 | 2245 | 1586 |\n",
       "| 1987 | 5332 | 5787 | 2886 | 5475 | 3843 | 2537 | <!----> | <!----> | <!----> | <!----> | <!----> | <!----> |\n",
       "\n"
      ],
      "text/plain": [
       "     Jan  Feb  Mar  Apr  May  Jun  Jul  Aug  Sep  Oct  Nov  Dec \n",
       "1983                               2385 3302 3958 3302 2441 3107\n",
       "1984 5862 4536 4625 4492 4486 4005 3744 2546 1954 2285 1778 3222\n",
       "1985 5472 5310 1965 3791 3622 3726 3370 2535 1572 2146 2249 1721\n",
       "1986 5357 5811 2436 4608 2871 3349 2909 2324 1603 2148 2245 1586\n",
       "1987 5332 5787 2886 5475 3843 2537                              "
      ]
     },
     "metadata": {},
     "output_type": "display_data"
    }
   ],
   "source": [
    "oilfilters"
   ]
  },
  {
   "cell_type": "markdown",
   "metadata": {},
   "source": [
    "## Estacionariedad\n",
    "\n",
    "**Descriptiva**"
   ]
  },
  {
   "cell_type": "code",
   "execution_count": 4,
   "metadata": {},
   "outputs": [
    {
     "data": {
      "image/png": "[encoded data removed]",
      "text/plain": [
       "plot without title"
      ]
     },
     "metadata": {
      "image/png": {
       "height": 420,
       "width": 420
      }
     },
     "output_type": "display_data"
    }
   ],
   "source": [
    "plot(oilfilters)"
   ]
  },
  {
   "cell_type": "markdown",
   "metadata": {},
   "source": [
    "### Tendencia\n",
    "\n",
    "Con un alfa de .10 NO se rechaza H0 por lo que no es significativo\n",
    "\n",
    "Las variables no se relacionan, no muestran tendencia lineal."
   ]
  },
  {
   "cell_type": "code",
   "execution_count": 7,
   "metadata": {},
   "outputs": [
    {
     "data": {
      "text/plain": [
       "\n",
       "Call:\n",
       "lm(formula = oilfilters ~ time(oilfilters))\n",
       "\n",
       "Residuals:\n",
       "    Min      1Q  Median      3Q     Max \n",
       "-1799.2 -1084.5  -228.7  1008.0  2528.7 \n",
       "\n",
       "Coefficients:\n",
       "                  Estimate Std. Error t value Pr(>|t|)\n",
       "(Intercept)      161664.99  324443.17   0.498    0.621\n",
       "time(oilfilters)    -79.72     163.41  -0.488    0.628\n",
       "\n",
       "Residual standard error: 1307 on 46 degrees of freedom\n",
       "Multiple R-squared:  0.005147,\tAdjusted R-squared:  -0.01648 \n",
       "F-statistic: 0.238 on 1 and 46 DF,  p-value: 0.628\n"
      ]
     },
     "metadata": {},
     "output_type": "display_data"
    }
   ],
   "source": [
    "Tend.OF <- lm(oilfilters~time(oilfilters))\n",
    "summary(Tend.OF)"
   ]
  },
  {
   "cell_type": "markdown",
   "metadata": {},
   "source": [
    "**Regresion lineal polinomica**\n",
    "\n",
    "NO se rechaza H0 por lo que NO tiene tendencia polinomica."
   ]
  },
  {
   "cell_type": "code",
   "execution_count": 13,
   "metadata": {},
   "outputs": [
    {
     "data": {
      "text/plain": [
       "\n",
       "Call:\n",
       "lm(formula = oilfilters ~ poly(Tiempo.OF, degree = 4))\n",
       "\n",
       "Residuals:\n",
       "    Min      1Q  Median      3Q     Max \n",
       "-1861.5 -1143.0  -194.3   609.3  2862.4 \n",
       "\n",
       "Coefficients:\n",
       "                             Estimate Std. Error t value Pr(>|t|)    \n",
       "(Intercept)                    3387.8      189.1  17.919   <2e-16 ***\n",
       "poly(Tiempo.OF, degree = 4)1   -637.6     1309.9  -0.487    0.629    \n",
       "poly(Tiempo.OF, degree = 4)2   1001.1     1309.9   0.764    0.449    \n",
       "poly(Tiempo.OF, degree = 4)3   1693.8     1309.9   1.293    0.203    \n",
       "poly(Tiempo.OF, degree = 4)4   -964.4     1309.9  -0.736    0.466    \n",
       "---\n",
       "Signif. codes:  0 '***' 0.001 '**' 0.01 '*' 0.05 '.' 0.1 ' ' 1\n",
       "\n",
       "Residual standard error: 1310 on 43 degrees of freedom\n",
       "Multiple R-squared:  0.06593,\tAdjusted R-squared:  -0.02096 \n",
       "F-statistic: 0.7588 on 4 and 43 DF,  p-value: 0.5578\n"
      ]
     },
     "metadata": {},
     "output_type": "display_data"
    }
   ],
   "source": [
    "Tiempo.OF <- as.numeric(time(oilfilters))\n",
    "TendP.OF <- lm(oilfilters~poly(Tiempo.OF, degree = 4))\n",
    "summary(TendP.OF)"
   ]
  },
  {
   "cell_type": "markdown",
   "metadata": {},
   "source": [
    "### Estacionariedad en varianza\n",
    "\n",
    "Con alfa de 0.05 y 0.1 se rechaza H0\n",
    "\n",
    "Por lo que la varianza es estacionaria con 90% y 95% de confianza."
   ]
  },
  {
   "cell_type": "code",
   "execution_count": 19,
   "metadata": {},
   "outputs": [
    {
     "data": {
      "text/plain": [
       "\n",
       "\tAugmented Dickey-Fuller Test\n",
       "\n",
       "data:  oilfilters\n",
       "Dickey-Fuller = -3.8077, Lag order = 3, p-value = 0.02584\n",
       "alternative hypothesis: stationary\n"
      ]
     },
     "metadata": {},
     "output_type": "display_data"
    }
   ],
   "source": [
    "adf.test(oilfilters, alternative = 'stationary')"
   ]
  },
  {
   "cell_type": "markdown",
   "metadata": {},
   "source": [
    "### Correlograma\n",
    "\n",
    "**Completo**"
   ]
  },
  {
   "cell_type": "code",
   "execution_count": 20,
   "metadata": {},
   "outputs": [
    {
     "data": {
      "image/png": "[encoded data removed]",
      "text/plain": [
       "Plot with title \"Series oilfilters\""
      ]
     },
     "metadata": {
      "image/png": {
       "height": 420,
       "width": 420
      }
     },
     "output_type": "display_data"
    }
   ],
   "source": [
    "acf(oilfilters)"
   ]
  },
  {
   "cell_type": "markdown",
   "metadata": {},
   "source": [
    "**Parcial**"
   ]
  },
  {
   "cell_type": "code",
   "execution_count": 21,
   "metadata": {},
   "outputs": [
    {
     "data": {
      "image/png": "[encoded data removed]",
      "text/plain": [
       "Plot with title \"Series  oilfilters\""
      ]
     },
     "metadata": {
      "image/png": {
       "height": 420,
       "width": 420
      }
     },
     "output_type": "display_data"
    }
   ],
   "source": [
    "pacf(oilfilters)"
   ]
  },
  {
   "cell_type": "markdown",
   "metadata": {},
   "source": [
    "### Modelo sugerido ARMA\n",
    "\n",
    "**Prueba de AR**\n",
    "\n",
    "Mejor AR = 12\n",
    "\n",
    "AIC = 807.70"
   ]
  },
  {
   "cell_type": "code",
   "execution_count": 26,
   "metadata": {},
   "outputs": [
    {
     "data": {
      "text/plain": [
       "\n",
       "Call:\n",
       "ar(x = oilfilters)\n",
       "\n",
       "Coefficients:\n",
       "      1        2        3        4        5        6        7        8  \n",
       " 0.2406  -0.1208   0.1008  -0.1728  -0.0677  -0.0755  -0.0054  -0.0996  \n",
       "      9       10       11       12  \n",
       " 0.0419  -0.1199  -0.0050   0.4588  \n",
       "\n",
       "Order selected 12  sigma^2 estimated as  1237438"
      ]
     },
     "metadata": {},
     "output_type": "display_data"
    },
    {
     "data": {
      "text/html": [
       "807.704017816642"
      ],
      "text/latex": [
       "807.704017816642"
      ],
      "text/markdown": [
       "807.704017816642"
      ],
      "text/plain": [
       "[1] 807.704"
      ]
     },
     "metadata": {},
     "output_type": "display_data"
    }
   ],
   "source": [
    "ar(oilfilters)\n",
    "AIC(arima(oilfilters, order=c(12,0,0), method = 'ML'))"
   ]
  },
  {
   "cell_type": "markdown",
   "metadata": {},
   "source": [
    "**Prueba de MA**\n",
    "\n",
    "Mejor MA = 13\n",
    "\n",
    "AIC = 819.31"
   ]
  },
  {
   "cell_type": "code",
   "execution_count": 24,
   "metadata": {},
   "outputs": [
    {
     "data": {
      "text/html": [
       "13"
      ],
      "text/latex": [
       "13"
      ],
      "text/markdown": [
       "13"
      ],
      "text/plain": [
       "[1] 13"
      ]
     },
     "metadata": {},
     "output_type": "display_data"
    },
    {
     "data": {
      "text/html": [
       "819.313050858656"
      ],
      "text/latex": [
       "819.313050858656"
      ],
      "text/markdown": [
       "819.313050858656"
      ],
      "text/plain": [
       "[1] 819.3131"
      ]
     },
     "metadata": {},
     "output_type": "display_data"
    }
   ],
   "source": [
    "aux <- Inf\n",
    "for(i in 1:15){\n",
    "    if(AIC(arima(oilfilters, order=c(0,0,i), method = 'ML')) < aux){\n",
    "        aux <- AIC(arima(oilfilters, order=c(0,0,i), method = 'ML'))\n",
    "        MA.mejor <- i\n",
    "    }\n",
    "}\n",
    "MA.mejor\n",
    "aux"
   ]
  },
  {
   "cell_type": "markdown",
   "metadata": {},
   "source": [
    "**Prueba de ARMA**\n",
    "\n",
    "Mejor ARMA = 12, 6\n",
    "\n",
    "AIC = "
   ]
  },
  {
   "cell_type": "code",
   "execution_count": 38,
   "metadata": {
    "scrolled": true
   },
   "outputs": [
    {
     "name": "stderr",
     "output_type": "stream",
     "text": [
      "Warning message in log(s2):\n",
      "\"Se han producido NaNs\"\n",
      "Warning message in log(s2):\n",
      "\"Se han producido NaNs\"\n",
      "Warning message in log(s2):\n",
      "\"Se han producido NaNs\"\n",
      "Warning message in stats::arima(x = x, order = order, seasonal = seasonal, xreg = xreg, :\n",
      "\"possible convergence problem: optim gave code = 1\"\n",
      "Warning message in stats::arima(x = x, order = order, seasonal = seasonal, xreg = xreg, :\n",
      "\"possible convergence problem: optim gave code = 1\"\n",
      "Warning message in stats::arima(x = x, order = order, seasonal = seasonal, xreg = xreg, :\n",
      "\"possible convergence problem: optim gave code = 1\"\n",
      "Warning message in stats::arima(x = x, order = order, seasonal = seasonal, xreg = xreg, :\n",
      "\"possible convergence problem: optim gave code = 1\"\n",
      "Warning message in stats::arima(x = x, order = order, seasonal = seasonal, xreg = xreg, :\n",
      "\"possible convergence problem: optim gave code = 1\"\n",
      "Warning message in stats::arima(x = x, order = order, seasonal = seasonal, xreg = xreg, :\n",
      "\"possible convergence problem: optim gave code = 1\"\n",
      "Warning message in stats::arima(x = x, order = order, seasonal = seasonal, xreg = xreg, :\n",
      "\"possible convergence problem: optim gave code = 1\"\n",
      "Warning message in stats::arima(x = x, order = order, seasonal = seasonal, xreg = xreg, :\n",
      "\"possible convergence problem: optim gave code = 1\"\n",
      "Warning message in stats::arima(x = x, order = order, seasonal = seasonal, xreg = xreg, :\n",
      "\"possible convergence problem: optim gave code = 1\"\n",
      "Warning message in stats::arima(x = x, order = order, seasonal = seasonal, xreg = xreg, :\n",
      "\"possible convergence problem: optim gave code = 1\"\n",
      "Warning message in stats::arima(x = x, order = order, seasonal = seasonal, xreg = xreg, :\n",
      "\"possible convergence problem: optim gave code = 1\"\n",
      "Warning message in stats::arima(x = x, order = order, seasonal = seasonal, xreg = xreg, :\n",
      "\"possible convergence problem: optim gave code = 1\"\n",
      "Warning message in stats::arima(x = x, order = order, seasonal = seasonal, xreg = xreg, :\n",
      "\"possible convergence problem: optim gave code = 1\"\n",
      "Warning message in stats::arima(x = x, order = order, seasonal = seasonal, xreg = xreg, :\n",
      "\"possible convergence problem: optim gave code = 1\"\n",
      "Warning message in stats::arima(x = x, order = order, seasonal = seasonal, xreg = xreg, :\n",
      "\"possible convergence problem: optim gave code = 1\"\n",
      "Warning message in stats::arima(x = x, order = order, seasonal = seasonal, xreg = xreg, :\n",
      "\"possible convergence problem: optim gave code = 1\"\n",
      "Warning message in stats::arima(x = x, order = order, seasonal = seasonal, xreg = xreg, :\n",
      "\"possible convergence problem: optim gave code = 1\"\n",
      "Warning message in stats::arima(x = x, order = order, seasonal = seasonal, xreg = xreg, :\n",
      "\"possible convergence problem: optim gave code = 1\"\n",
      "Warning message in stats::arima(x = x, order = order, seasonal = seasonal, xreg = xreg, :\n",
      "\"possible convergence problem: optim gave code = 1\"\n",
      "Warning message in stats::arima(x = x, order = order, seasonal = seasonal, xreg = xreg, :\n",
      "\"possible convergence problem: optim gave code = 1\"\n",
      "Warning message in stats::arima(x = x, order = order, seasonal = seasonal, xreg = xreg, :\n",
      "\"possible convergence problem: optim gave code = 1\"\n",
      "Warning message in stats::arima(x = x, order = order, seasonal = seasonal, xreg = xreg, :\n",
      "\"possible convergence problem: optim gave code = 1\"\n",
      "Warning message in stats::arima(x = x, order = order, seasonal = seasonal, xreg = xreg, :\n",
      "\"possible convergence problem: optim gave code = 1\"\n",
      "Warning message in stats::arima(x = x, order = order, seasonal = seasonal, xreg = xreg, :\n",
      "\"possible convergence problem: optim gave code = 1\"\n"
     ]
    },
    {
     "data": {
      "text/html": [
       "<style>\n",
       ".list-inline {list-style: none; margin:0; padding: 0}\n",
       ".list-inline>li {display: inline-block}\n",
       ".list-inline>li:not(:last-child)::after {content: \"\\00b7\"; padding: 0 .5ex}\n",
       "</style>\n",
       "<ol class=list-inline><li>10</li><li>8</li></ol>\n"
      ],
      "text/latex": [
       "\\begin{enumerate*}\n",
       "\\item 10\n",
       "\\item 8\n",
       "\\end{enumerate*}\n"
      ],
      "text/markdown": [
       "1. 10\n",
       "2. 8\n",
       "\n",
       "\n"
      ],
      "text/plain": [
       "[1] 10  8"
      ]
     },
     "metadata": {},
     "output_type": "display_data"
    },
    {
     "data": {
      "text/html": [
       "809.404466499343"
      ],
      "text/latex": [
       "809.404466499343"
      ],
      "text/markdown": [
       "809.404466499343"
      ],
      "text/plain": [
       "[1] 809.4045"
      ]
     },
     "metadata": {},
     "output_type": "display_data"
    }
   ],
   "source": [
    "arma.aic <- Inf\n",
    "for(j in 1:10){\n",
    "    for(i in 1:10){\n",
    "        if(AIC(arima(oilfilters, order=c(j,0,i), method = 'ML')) < arma.aic){\n",
    "            arma.aic <- AIC(arima(oilfilters, order=c(j,0,i), method = 'ML'))\n",
    "            ARMA.mejor <- c(j,i)\n",
    "        }\n",
    "    }\n",
    "}\n",
    "ARMA.mejor\n",
    "arma.aic"
   ]
  },
  {
   "cell_type": "markdown",
   "metadata": {},
   "source": [
    "### Modelo ARMA: Grafico"
   ]
  },
  {
   "cell_type": "code",
   "execution_count": 35,
   "metadata": {},
   "outputs": [],
   "source": [
    "Prediccion.OF <- predict(arima(oilfilters, order = c(12,0,6), method = 'ML'), n.ahead = 30)$pred"
   ]
  },
  {
   "cell_type": "code",
   "execution_count": 36,
   "metadata": {},
   "outputs": [
    {
     "data": {
      "image/png": "[encoded data removed]",
      "text/plain": [
       "Plot with title \"Grafico Modelo ARMA\""
      ]
     },
     "metadata": {
      "image/png": {
       "height": 420,
       "width": 420
      }
     },
     "output_type": "display_data"
    }
   ],
   "source": [
    "plot(oilfilters,\n",
    "    xlim = c(1983.5, 1990),\n",
    "    ylim = c(1350, 6001),\n",
    "    main = 'Grafico Modelo ARMA')\n",
    "lines(Prediccion.OF,\n",
    "     col = 'blue')"
   ]
  },
  {
   "cell_type": "code",
   "execution_count": null,
   "metadata": {},
   "outputs": [],
   "source": []
  }
 ],
 "metadata": {
  "kernelspec": {
   "display_name": "R",
   "language": "R",
   "name": "ir"
  },
  "language_info": {
   "codemirror_mode": "r",
   "file_extension": ".r",
   "mimetype": "text/x-r-source",
   "name": "R",
   "pygments_lexer": "r",
   "version": "4.0.3"
  }
 },
 "nbformat": 4,
 "nbformat_minor": 4
}
