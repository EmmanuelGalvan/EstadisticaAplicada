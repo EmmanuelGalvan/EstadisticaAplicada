{
 "cells": [
  {
   "cell_type": "markdown",
   "metadata": {},
   "source": [
    "# Corrección, modelo y ruido blanco"
   ]
  },
  {
   "cell_type": "code",
   "execution_count": 1,
   "metadata": {},
   "outputs": [
    {
     "name": "stderr",
     "output_type": "stream",
     "text": [
      "Registered S3 method overwritten by 'quantmod':\n",
      "  method            from\n",
      "  as.zoo.data.frame zoo \n",
      "\n"
     ]
    }
   ],
   "source": [
    "library(tseries)"
   ]
  },
  {
   "cell_type": "markdown",
   "metadata": {},
   "source": [
    "### Descriptiva"
   ]
  },
  {
   "cell_type": "code",
   "execution_count": 6,
   "metadata": {},
   "outputs": [
    {
     "data": {
      "text/html": [
       "<table>\n",
       "<caption>A Time Series: 23 × 4</caption>\n",
       "<thead>\n",
       "\t<tr><th></th><th scope=col>Qtr1</th><th scope=col>Qtr2</th><th scope=col>Qtr3</th><th scope=col>Qtr4</th></tr>\n",
       "</thead>\n",
       "<tbody>\n",
       "\t<tr><th scope=row>1971</th><td>       </td><td>13067.3</td><td>13130.5</td><td>13198.4</td></tr>\n",
       "\t<tr><th scope=row>1972</th><td>13254.2</td><td>13303.7</td><td>13353.9</td><td>13409.3</td></tr>\n",
       "\t<tr><th scope=row>1973</th><td>13459.2</td><td>13504.5</td><td>13552.6</td><td>13614.3</td></tr>\n",
       "\t<tr><th scope=row>1974</th><td>13669.5</td><td>13722.6</td><td>13772.1</td><td>13832.0</td></tr>\n",
       "\t<tr><th scope=row>1975</th><td>13862.6</td><td>13893.0</td><td>13926.8</td><td>13968.9</td></tr>\n",
       "\t<tr><th scope=row>1976</th><td>14004.7</td><td>14033.1</td><td>14066.0</td><td>14110.1</td></tr>\n",
       "\t<tr><th scope=row>1977</th><td>14155.6</td><td>14192.2</td><td>14231.7</td><td>14281.5</td></tr>\n",
       "\t<tr><th scope=row>1978</th><td>14330.3</td><td>14359.3</td><td>14396.6</td><td>14430.8</td></tr>\n",
       "\t<tr><th scope=row>1979</th><td>14478.4</td><td>14515.7</td><td>14554.9</td><td>14602.5</td></tr>\n",
       "\t<tr><th scope=row>1980</th><td>14646.4</td><td>14695.4</td><td>14746.6</td><td>14807.4</td></tr>\n",
       "\t<tr><th scope=row>1981</th><td>14874.4</td><td>14923.3</td><td>14988.7</td><td>15054.1</td></tr>\n",
       "\t<tr><th scope=row>1982</th><td>15121.7</td><td>15184.2</td><td>15239.3</td><td>15288.9</td></tr>\n",
       "\t<tr><th scope=row>1983</th><td>15346.2</td><td>15393.5</td><td>15439.0</td><td>15483.5</td></tr>\n",
       "\t<tr><th scope=row>1984</th><td>15531.5</td><td>15579.4</td><td>15628.5</td><td>15677.3</td></tr>\n",
       "\t<tr><th scope=row>1985</th><td>15736.7</td><td>15788.3</td><td>15839.7</td><td>15900.6</td></tr>\n",
       "\t<tr><th scope=row>1986</th><td>15961.5</td><td>16018.3</td><td>16076.9</td><td>16139.0</td></tr>\n",
       "\t<tr><th scope=row>1987</th><td>16203.0</td><td>16263.3</td><td>16327.9</td><td>16398.9</td></tr>\n",
       "\t<tr><th scope=row>1988</th><td>16478.3</td><td>16538.2</td><td>16621.6</td><td>16697.0</td></tr>\n",
       "\t<tr><th scope=row>1989</th><td>16777.2</td><td>16833.1</td><td>16891.6</td><td>16956.8</td></tr>\n",
       "\t<tr><th scope=row>1990</th><td>17026.3</td><td>17085.4</td><td>17106.9</td><td>17169.4</td></tr>\n",
       "\t<tr><th scope=row>1991</th><td>17239.4</td><td>17292.0</td><td>17354.2</td><td>17414.2</td></tr>\n",
       "\t<tr><th scope=row>1992</th><td>17447.3</td><td>17482.6</td><td>17526.0</td><td>17568.7</td></tr>\n",
       "\t<tr><th scope=row>1993</th><td>17627.1</td><td>17661.5</td><td>       </td><td>       </td></tr>\n",
       "</tbody>\n",
       "</table>\n"
      ],
      "text/latex": [
       "A Time Series: 23 × 4\n",
       "\\begin{tabular}{r|llll}\n",
       "  & Qtr1 & Qtr2 & Qtr3 & Qtr4\\\\\n",
       "\\hline\n",
       "\t1971 &         & 13067.3 & 13130.5 & 13198.4\\\\\n",
       "\t1972 & 13254.2 & 13303.7 & 13353.9 & 13409.3\\\\\n",
       "\t1973 & 13459.2 & 13504.5 & 13552.6 & 13614.3\\\\\n",
       "\t1974 & 13669.5 & 13722.6 & 13772.1 & 13832.0\\\\\n",
       "\t1975 & 13862.6 & 13893.0 & 13926.8 & 13968.9\\\\\n",
       "\t1976 & 14004.7 & 14033.1 & 14066.0 & 14110.1\\\\\n",
       "\t1977 & 14155.6 & 14192.2 & 14231.7 & 14281.5\\\\\n",
       "\t1978 & 14330.3 & 14359.3 & 14396.6 & 14430.8\\\\\n",
       "\t1979 & 14478.4 & 14515.7 & 14554.9 & 14602.5\\\\\n",
       "\t1980 & 14646.4 & 14695.4 & 14746.6 & 14807.4\\\\\n",
       "\t1981 & 14874.4 & 14923.3 & 14988.7 & 15054.1\\\\\n",
       "\t1982 & 15121.7 & 15184.2 & 15239.3 & 15288.9\\\\\n",
       "\t1983 & 15346.2 & 15393.5 & 15439.0 & 15483.5\\\\\n",
       "\t1984 & 15531.5 & 15579.4 & 15628.5 & 15677.3\\\\\n",
       "\t1985 & 15736.7 & 15788.3 & 15839.7 & 15900.6\\\\\n",
       "\t1986 & 15961.5 & 16018.3 & 16076.9 & 16139.0\\\\\n",
       "\t1987 & 16203.0 & 16263.3 & 16327.9 & 16398.9\\\\\n",
       "\t1988 & 16478.3 & 16538.2 & 16621.6 & 16697.0\\\\\n",
       "\t1989 & 16777.2 & 16833.1 & 16891.6 & 16956.8\\\\\n",
       "\t1990 & 17026.3 & 17085.4 & 17106.9 & 17169.4\\\\\n",
       "\t1991 & 17239.4 & 17292.0 & 17354.2 & 17414.2\\\\\n",
       "\t1992 & 17447.3 & 17482.6 & 17526.0 & 17568.7\\\\\n",
       "\t1993 & 17627.1 & 17661.5 &         &        \\\\\n",
       "\\end{tabular}\n"
      ],
      "text/markdown": [
       "\n",
       "A Time Series: 23 × 4\n",
       "\n",
       "| <!--/--> | Qtr1 | Qtr2 | Qtr3 | Qtr4 |\n",
       "|---|---|---|---|---|\n",
       "| 1971 | <!----> | 13067.3 | 13130.5 | 13198.4 |\n",
       "| 1972 | 13254.2 | 13303.7 | 13353.9 | 13409.3 |\n",
       "| 1973 | 13459.2 | 13504.5 | 13552.6 | 13614.3 |\n",
       "| 1974 | 13669.5 | 13722.6 | 13772.1 | 13832.0 |\n",
       "| 1975 | 13862.6 | 13893.0 | 13926.8 | 13968.9 |\n",
       "| 1976 | 14004.7 | 14033.1 | 14066.0 | 14110.1 |\n",
       "| 1977 | 14155.6 | 14192.2 | 14231.7 | 14281.5 |\n",
       "| 1978 | 14330.3 | 14359.3 | 14396.6 | 14430.8 |\n",
       "| 1979 | 14478.4 | 14515.7 | 14554.9 | 14602.5 |\n",
       "| 1980 | 14646.4 | 14695.4 | 14746.6 | 14807.4 |\n",
       "| 1981 | 14874.4 | 14923.3 | 14988.7 | 15054.1 |\n",
       "| 1982 | 15121.7 | 15184.2 | 15239.3 | 15288.9 |\n",
       "| 1983 | 15346.2 | 15393.5 | 15439.0 | 15483.5 |\n",
       "| 1984 | 15531.5 | 15579.4 | 15628.5 | 15677.3 |\n",
       "| 1985 | 15736.7 | 15788.3 | 15839.7 | 15900.6 |\n",
       "| 1986 | 15961.5 | 16018.3 | 16076.9 | 16139.0 |\n",
       "| 1987 | 16203.0 | 16263.3 | 16327.9 | 16398.9 |\n",
       "| 1988 | 16478.3 | 16538.2 | 16621.6 | 16697.0 |\n",
       "| 1989 | 16777.2 | 16833.1 | 16891.6 | 16956.8 |\n",
       "| 1990 | 17026.3 | 17085.4 | 17106.9 | 17169.4 |\n",
       "| 1991 | 17239.4 | 17292.0 | 17354.2 | 17414.2 |\n",
       "| 1992 | 17447.3 | 17482.6 | 17526.0 | 17568.7 |\n",
       "| 1993 | 17627.1 | 17661.5 | <!----> | <!----> |\n",
       "\n"
      ],
      "text/plain": [
       "     Qtr1    Qtr2    Qtr3    Qtr4   \n",
       "1971         13067.3 13130.5 13198.4\n",
       "1972 13254.2 13303.7 13353.9 13409.3\n",
       "1973 13459.2 13504.5 13552.6 13614.3\n",
       "1974 13669.5 13722.6 13772.1 13832.0\n",
       "1975 13862.6 13893.0 13926.8 13968.9\n",
       "1976 14004.7 14033.1 14066.0 14110.1\n",
       "1977 14155.6 14192.2 14231.7 14281.5\n",
       "1978 14330.3 14359.3 14396.6 14430.8\n",
       "1979 14478.4 14515.7 14554.9 14602.5\n",
       "1980 14646.4 14695.4 14746.6 14807.4\n",
       "1981 14874.4 14923.3 14988.7 15054.1\n",
       "1982 15121.7 15184.2 15239.3 15288.9\n",
       "1983 15346.2 15393.5 15439.0 15483.5\n",
       "1984 15531.5 15579.4 15628.5 15677.3\n",
       "1985 15736.7 15788.3 15839.7 15900.6\n",
       "1986 15961.5 16018.3 16076.9 16139.0\n",
       "1987 16203.0 16263.3 16327.9 16398.9\n",
       "1988 16478.3 16538.2 16621.6 16697.0\n",
       "1989 16777.2 16833.1 16891.6 16956.8\n",
       "1990 17026.3 17085.4 17106.9 17169.4\n",
       "1991 17239.4 17292.0 17354.2 17414.2\n",
       "1992 17447.3 17482.6 17526.0 17568.7\n",
       "1993 17627.1 17661.5                "
      ]
     },
     "metadata": {},
     "output_type": "display_data"
    }
   ],
   "source": [
    "data(austres)\n",
    "austres"
   ]
  },
  {
   "cell_type": "code",
   "execution_count": 7,
   "metadata": {},
   "outputs": [
    {
     "data": {
      "image/png": "[encoded data removed]",
      "text/plain": [
       "plot without title"
      ]
     },
     "metadata": {
      "image/png": {
       "height": 420,
       "width": 420
      }
     },
     "output_type": "display_data"
    }
   ],
   "source": [
    "plot(austres)"
   ]
  },
  {
   "cell_type": "markdown",
   "metadata": {},
   "source": [
    "El gráfico muestra tendencia, serie NO estacionaria."
   ]
  },
  {
   "cell_type": "markdown",
   "metadata": {},
   "source": [
    "#### Tendencia"
   ]
  },
  {
   "cell_type": "code",
   "execution_count": 8,
   "metadata": {},
   "outputs": [
    {
     "data": {
      "text/plain": [
       "\n",
       "Call:\n",
       "lm(formula = austres ~ time(austres))\n",
       "\n",
       "Residuals:\n",
       "    Min      1Q  Median      3Q     Max \n",
       "-160.35  -99.39  -11.51  111.63  151.21 \n",
       "\n",
       "Coefficients:\n",
       "                Estimate Std. Error t value Pr(>|t|)    \n",
       "(Intercept)   -3.999e+05  3.480e+03  -114.9   <2e-16 ***\n",
       "time(austres)  2.094e+02  1.756e+00   119.3   <2e-16 ***\n",
       "---\n",
       "Signif. codes:  0 '***' 0.001 '**' 0.01 '*' 0.05 '.' 0.1 ' ' 1\n",
       "\n",
       "Residual standard error: 106.4 on 87 degrees of freedom\n",
       "Multiple R-squared:  0.9939,\tAdjusted R-squared:  0.9939 \n",
       "F-statistic: 1.423e+04 on 1 and 87 DF,  p-value: < 2.2e-16\n"
      ]
     },
     "metadata": {},
     "output_type": "display_data"
    }
   ],
   "source": [
    "summary(lm(austres~time(austres)))"
   ]
  },
  {
   "cell_type": "markdown",
   "metadata": {},
   "source": [
    "La serie muestra tendencia lineal. **No estacionaria en media**"
   ]
  },
  {
   "cell_type": "markdown",
   "metadata": {},
   "source": [
    "#### Estacionariedad en Varianza"
   ]
  },
  {
   "cell_type": "code",
   "execution_count": 9,
   "metadata": {},
   "outputs": [
    {
     "data": {
      "text/plain": [
       "\n",
       "\tAugmented Dickey-Fuller Test\n",
       "\n",
       "data:  austres\n",
       "Dickey-Fuller = -2.5512, Lag order = 4, p-value = 0.3493\n",
       "alternative hypothesis: stationary\n"
      ]
     },
     "metadata": {},
     "output_type": "display_data"
    }
   ],
   "source": [
    "adf.test(austres, alternative = 'stationary')"
   ]
  },
  {
   "cell_type": "markdown",
   "metadata": {},
   "source": [
    "La serie NO es estacionaria en varianza.\n",
    "**La serie es NO estacionaria**"
   ]
  },
  {
   "cell_type": "markdown",
   "metadata": {},
   "source": [
    "## Correcciones\n",
    "### Correccion 1"
   ]
  },
  {
   "cell_type": "code",
   "execution_count": 10,
   "metadata": {},
   "outputs": [
    {
     "data": {
      "text/html": [
       "<table>\n",
       "<caption>A Time Series: 23 × 4</caption>\n",
       "<thead>\n",
       "\t<tr><th></th><th scope=col>Qtr1</th><th scope=col>Qtr2</th><th scope=col>Qtr3</th><th scope=col>Qtr4</th></tr>\n",
       "</thead>\n",
       "<tbody>\n",
       "\t<tr><th scope=row>1971</th><td>       </td><td>13067.3</td><td>13130.5</td><td>13198.4</td></tr>\n",
       "\t<tr><th scope=row>1972</th><td>13254.2</td><td>13303.7</td><td>13353.9</td><td>13409.3</td></tr>\n",
       "\t<tr><th scope=row>1973</th><td>13459.2</td><td>13504.5</td><td>13552.6</td><td>13614.3</td></tr>\n",
       "\t<tr><th scope=row>1974</th><td>13669.5</td><td>13722.6</td><td>13772.1</td><td>13832.0</td></tr>\n",
       "\t<tr><th scope=row>1975</th><td>13862.6</td><td>13893.0</td><td>13926.8</td><td>13968.9</td></tr>\n",
       "\t<tr><th scope=row>1976</th><td>14004.7</td><td>14033.1</td><td>14066.0</td><td>14110.1</td></tr>\n",
       "\t<tr><th scope=row>1977</th><td>14155.6</td><td>14192.2</td><td>14231.7</td><td>14281.5</td></tr>\n",
       "\t<tr><th scope=row>1978</th><td>14330.3</td><td>14359.3</td><td>14396.6</td><td>14430.8</td></tr>\n",
       "\t<tr><th scope=row>1979</th><td>14478.4</td><td>14515.7</td><td>14554.9</td><td>14602.5</td></tr>\n",
       "\t<tr><th scope=row>1980</th><td>14646.4</td><td>14695.4</td><td>14746.6</td><td>14807.4</td></tr>\n",
       "\t<tr><th scope=row>1981</th><td>14874.4</td><td>14923.3</td><td>14988.7</td><td>15054.1</td></tr>\n",
       "\t<tr><th scope=row>1982</th><td>15121.7</td><td>15184.2</td><td>15239.3</td><td>15288.9</td></tr>\n",
       "\t<tr><th scope=row>1983</th><td>15346.2</td><td>15393.5</td><td>15439.0</td><td>15483.5</td></tr>\n",
       "\t<tr><th scope=row>1984</th><td>15531.5</td><td>15579.4</td><td>15628.5</td><td>15677.3</td></tr>\n",
       "\t<tr><th scope=row>1985</th><td>15736.7</td><td>15788.3</td><td>15839.7</td><td>15900.6</td></tr>\n",
       "\t<tr><th scope=row>1986</th><td>15961.5</td><td>16018.3</td><td>16076.9</td><td>16139.0</td></tr>\n",
       "\t<tr><th scope=row>1987</th><td>16203.0</td><td>16263.3</td><td>16327.9</td><td>16398.9</td></tr>\n",
       "\t<tr><th scope=row>1988</th><td>16478.3</td><td>16538.2</td><td>16621.6</td><td>16697.0</td></tr>\n",
       "\t<tr><th scope=row>1989</th><td>16777.2</td><td>16833.1</td><td>16891.6</td><td>16956.8</td></tr>\n",
       "\t<tr><th scope=row>1990</th><td>17026.3</td><td>17085.4</td><td>17106.9</td><td>17169.4</td></tr>\n",
       "\t<tr><th scope=row>1991</th><td>17239.4</td><td>17292.0</td><td>17354.2</td><td>17414.2</td></tr>\n",
       "\t<tr><th scope=row>1992</th><td>17447.3</td><td>17482.6</td><td>17526.0</td><td>17568.7</td></tr>\n",
       "\t<tr><th scope=row>1993</th><td>17627.1</td><td>17661.5</td><td>       </td><td>       </td></tr>\n",
       "</tbody>\n",
       "</table>\n"
      ],
      "text/latex": [
       "A Time Series: 23 × 4\n",
       "\\begin{tabular}{r|llll}\n",
       "  & Qtr1 & Qtr2 & Qtr3 & Qtr4\\\\\n",
       "\\hline\n",
       "\t1971 &         & 13067.3 & 13130.5 & 13198.4\\\\\n",
       "\t1972 & 13254.2 & 13303.7 & 13353.9 & 13409.3\\\\\n",
       "\t1973 & 13459.2 & 13504.5 & 13552.6 & 13614.3\\\\\n",
       "\t1974 & 13669.5 & 13722.6 & 13772.1 & 13832.0\\\\\n",
       "\t1975 & 13862.6 & 13893.0 & 13926.8 & 13968.9\\\\\n",
       "\t1976 & 14004.7 & 14033.1 & 14066.0 & 14110.1\\\\\n",
       "\t1977 & 14155.6 & 14192.2 & 14231.7 & 14281.5\\\\\n",
       "\t1978 & 14330.3 & 14359.3 & 14396.6 & 14430.8\\\\\n",
       "\t1979 & 14478.4 & 14515.7 & 14554.9 & 14602.5\\\\\n",
       "\t1980 & 14646.4 & 14695.4 & 14746.6 & 14807.4\\\\\n",
       "\t1981 & 14874.4 & 14923.3 & 14988.7 & 15054.1\\\\\n",
       "\t1982 & 15121.7 & 15184.2 & 15239.3 & 15288.9\\\\\n",
       "\t1983 & 15346.2 & 15393.5 & 15439.0 & 15483.5\\\\\n",
       "\t1984 & 15531.5 & 15579.4 & 15628.5 & 15677.3\\\\\n",
       "\t1985 & 15736.7 & 15788.3 & 15839.7 & 15900.6\\\\\n",
       "\t1986 & 15961.5 & 16018.3 & 16076.9 & 16139.0\\\\\n",
       "\t1987 & 16203.0 & 16263.3 & 16327.9 & 16398.9\\\\\n",
       "\t1988 & 16478.3 & 16538.2 & 16621.6 & 16697.0\\\\\n",
       "\t1989 & 16777.2 & 16833.1 & 16891.6 & 16956.8\\\\\n",
       "\t1990 & 17026.3 & 17085.4 & 17106.9 & 17169.4\\\\\n",
       "\t1991 & 17239.4 & 17292.0 & 17354.2 & 17414.2\\\\\n",
       "\t1992 & 17447.3 & 17482.6 & 17526.0 & 17568.7\\\\\n",
       "\t1993 & 17627.1 & 17661.5 &         &        \\\\\n",
       "\\end{tabular}\n"
      ],
      "text/markdown": [
       "\n",
       "A Time Series: 23 × 4\n",
       "\n",
       "| <!--/--> | Qtr1 | Qtr2 | Qtr3 | Qtr4 |\n",
       "|---|---|---|---|---|\n",
       "| 1971 | <!----> | 13067.3 | 13130.5 | 13198.4 |\n",
       "| 1972 | 13254.2 | 13303.7 | 13353.9 | 13409.3 |\n",
       "| 1973 | 13459.2 | 13504.5 | 13552.6 | 13614.3 |\n",
       "| 1974 | 13669.5 | 13722.6 | 13772.1 | 13832.0 |\n",
       "| 1975 | 13862.6 | 13893.0 | 13926.8 | 13968.9 |\n",
       "| 1976 | 14004.7 | 14033.1 | 14066.0 | 14110.1 |\n",
       "| 1977 | 14155.6 | 14192.2 | 14231.7 | 14281.5 |\n",
       "| 1978 | 14330.3 | 14359.3 | 14396.6 | 14430.8 |\n",
       "| 1979 | 14478.4 | 14515.7 | 14554.9 | 14602.5 |\n",
       "| 1980 | 14646.4 | 14695.4 | 14746.6 | 14807.4 |\n",
       "| 1981 | 14874.4 | 14923.3 | 14988.7 | 15054.1 |\n",
       "| 1982 | 15121.7 | 15184.2 | 15239.3 | 15288.9 |\n",
       "| 1983 | 15346.2 | 15393.5 | 15439.0 | 15483.5 |\n",
       "| 1984 | 15531.5 | 15579.4 | 15628.5 | 15677.3 |\n",
       "| 1985 | 15736.7 | 15788.3 | 15839.7 | 15900.6 |\n",
       "| 1986 | 15961.5 | 16018.3 | 16076.9 | 16139.0 |\n",
       "| 1987 | 16203.0 | 16263.3 | 16327.9 | 16398.9 |\n",
       "| 1988 | 16478.3 | 16538.2 | 16621.6 | 16697.0 |\n",
       "| 1989 | 16777.2 | 16833.1 | 16891.6 | 16956.8 |\n",
       "| 1990 | 17026.3 | 17085.4 | 17106.9 | 17169.4 |\n",
       "| 1991 | 17239.4 | 17292.0 | 17354.2 | 17414.2 |\n",
       "| 1992 | 17447.3 | 17482.6 | 17526.0 | 17568.7 |\n",
       "| 1993 | 17627.1 | 17661.5 | <!----> | <!----> |\n",
       "\n"
      ],
      "text/plain": [
       "     Qtr1    Qtr2    Qtr3    Qtr4   \n",
       "1971         13067.3 13130.5 13198.4\n",
       "1972 13254.2 13303.7 13353.9 13409.3\n",
       "1973 13459.2 13504.5 13552.6 13614.3\n",
       "1974 13669.5 13722.6 13772.1 13832.0\n",
       "1975 13862.6 13893.0 13926.8 13968.9\n",
       "1976 14004.7 14033.1 14066.0 14110.1\n",
       "1977 14155.6 14192.2 14231.7 14281.5\n",
       "1978 14330.3 14359.3 14396.6 14430.8\n",
       "1979 14478.4 14515.7 14554.9 14602.5\n",
       "1980 14646.4 14695.4 14746.6 14807.4\n",
       "1981 14874.4 14923.3 14988.7 15054.1\n",
       "1982 15121.7 15184.2 15239.3 15288.9\n",
       "1983 15346.2 15393.5 15439.0 15483.5\n",
       "1984 15531.5 15579.4 15628.5 15677.3\n",
       "1985 15736.7 15788.3 15839.7 15900.6\n",
       "1986 15961.5 16018.3 16076.9 16139.0\n",
       "1987 16203.0 16263.3 16327.9 16398.9\n",
       "1988 16478.3 16538.2 16621.6 16697.0\n",
       "1989 16777.2 16833.1 16891.6 16956.8\n",
       "1990 17026.3 17085.4 17106.9 17169.4\n",
       "1991 17239.4 17292.0 17354.2 17414.2\n",
       "1992 17447.3 17482.6 17526.0 17568.7\n",
       "1993 17627.1 17661.5                "
      ]
     },
     "metadata": {},
     "output_type": "display_data"
    },
    {
     "data": {
      "text/html": [
       "<table>\n",
       "<caption>A Time Series: 23 × 4</caption>\n",
       "<thead>\n",
       "\t<tr><th></th><th scope=col>Qtr1</th><th scope=col>Qtr2</th><th scope=col>Qtr3</th><th scope=col>Qtr4</th></tr>\n",
       "</thead>\n",
       "<tbody>\n",
       "\t<tr><th scope=row>1971</th><td>    </td><td>    </td><td>63.2</td><td>67.9</td></tr>\n",
       "\t<tr><th scope=row>1972</th><td>55.8</td><td>49.5</td><td>50.2</td><td>55.4</td></tr>\n",
       "\t<tr><th scope=row>1973</th><td>49.9</td><td>45.3</td><td>48.1</td><td>61.7</td></tr>\n",
       "\t<tr><th scope=row>1974</th><td>55.2</td><td>53.1</td><td>49.5</td><td>59.9</td></tr>\n",
       "\t<tr><th scope=row>1975</th><td>30.6</td><td>30.4</td><td>33.8</td><td>42.1</td></tr>\n",
       "\t<tr><th scope=row>1976</th><td>35.8</td><td>28.4</td><td>32.9</td><td>44.1</td></tr>\n",
       "\t<tr><th scope=row>1977</th><td>45.5</td><td>36.6</td><td>39.5</td><td>49.8</td></tr>\n",
       "\t<tr><th scope=row>1978</th><td>48.8</td><td>29.0</td><td>37.3</td><td>34.2</td></tr>\n",
       "\t<tr><th scope=row>1979</th><td>47.6</td><td>37.3</td><td>39.2</td><td>47.6</td></tr>\n",
       "\t<tr><th scope=row>1980</th><td>43.9</td><td>49.0</td><td>51.2</td><td>60.8</td></tr>\n",
       "\t<tr><th scope=row>1981</th><td>67.0</td><td>48.9</td><td>65.4</td><td>65.4</td></tr>\n",
       "\t<tr><th scope=row>1982</th><td>67.6</td><td>62.5</td><td>55.1</td><td>49.6</td></tr>\n",
       "\t<tr><th scope=row>1983</th><td>57.3</td><td>47.3</td><td>45.5</td><td>44.5</td></tr>\n",
       "\t<tr><th scope=row>1984</th><td>48.0</td><td>47.9</td><td>49.1</td><td>48.8</td></tr>\n",
       "\t<tr><th scope=row>1985</th><td>59.4</td><td>51.6</td><td>51.4</td><td>60.9</td></tr>\n",
       "\t<tr><th scope=row>1986</th><td>60.9</td><td>56.8</td><td>58.6</td><td>62.1</td></tr>\n",
       "\t<tr><th scope=row>1987</th><td>64.0</td><td>60.3</td><td>64.6</td><td>71.0</td></tr>\n",
       "\t<tr><th scope=row>1988</th><td>79.4</td><td>59.9</td><td>83.4</td><td>75.4</td></tr>\n",
       "\t<tr><th scope=row>1989</th><td>80.2</td><td>55.9</td><td>58.5</td><td>65.2</td></tr>\n",
       "\t<tr><th scope=row>1990</th><td>69.5</td><td>59.1</td><td>21.5</td><td>62.5</td></tr>\n",
       "\t<tr><th scope=row>1991</th><td>70.0</td><td>52.6</td><td>62.2</td><td>60.0</td></tr>\n",
       "\t<tr><th scope=row>1992</th><td>33.1</td><td>35.3</td><td>43.4</td><td>42.7</td></tr>\n",
       "\t<tr><th scope=row>1993</th><td>58.4</td><td>34.4</td><td>    </td><td>    </td></tr>\n",
       "</tbody>\n",
       "</table>\n"
      ],
      "text/latex": [
       "A Time Series: 23 × 4\n",
       "\\begin{tabular}{r|llll}\n",
       "  & Qtr1 & Qtr2 & Qtr3 & Qtr4\\\\\n",
       "\\hline\n",
       "\t1971 &      &      & 63.2 & 67.9\\\\\n",
       "\t1972 & 55.8 & 49.5 & 50.2 & 55.4\\\\\n",
       "\t1973 & 49.9 & 45.3 & 48.1 & 61.7\\\\\n",
       "\t1974 & 55.2 & 53.1 & 49.5 & 59.9\\\\\n",
       "\t1975 & 30.6 & 30.4 & 33.8 & 42.1\\\\\n",
       "\t1976 & 35.8 & 28.4 & 32.9 & 44.1\\\\\n",
       "\t1977 & 45.5 & 36.6 & 39.5 & 49.8\\\\\n",
       "\t1978 & 48.8 & 29.0 & 37.3 & 34.2\\\\\n",
       "\t1979 & 47.6 & 37.3 & 39.2 & 47.6\\\\\n",
       "\t1980 & 43.9 & 49.0 & 51.2 & 60.8\\\\\n",
       "\t1981 & 67.0 & 48.9 & 65.4 & 65.4\\\\\n",
       "\t1982 & 67.6 & 62.5 & 55.1 & 49.6\\\\\n",
       "\t1983 & 57.3 & 47.3 & 45.5 & 44.5\\\\\n",
       "\t1984 & 48.0 & 47.9 & 49.1 & 48.8\\\\\n",
       "\t1985 & 59.4 & 51.6 & 51.4 & 60.9\\\\\n",
       "\t1986 & 60.9 & 56.8 & 58.6 & 62.1\\\\\n",
       "\t1987 & 64.0 & 60.3 & 64.6 & 71.0\\\\\n",
       "\t1988 & 79.4 & 59.9 & 83.4 & 75.4\\\\\n",
       "\t1989 & 80.2 & 55.9 & 58.5 & 65.2\\\\\n",
       "\t1990 & 69.5 & 59.1 & 21.5 & 62.5\\\\\n",
       "\t1991 & 70.0 & 52.6 & 62.2 & 60.0\\\\\n",
       "\t1992 & 33.1 & 35.3 & 43.4 & 42.7\\\\\n",
       "\t1993 & 58.4 & 34.4 &      &     \\\\\n",
       "\\end{tabular}\n"
      ],
      "text/markdown": [
       "\n",
       "A Time Series: 23 × 4\n",
       "\n",
       "| <!--/--> | Qtr1 | Qtr2 | Qtr3 | Qtr4 |\n",
       "|---|---|---|---|---|\n",
       "| 1971 | <!----> | <!----> | 63.2 | 67.9 |\n",
       "| 1972 | 55.8 | 49.5 | 50.2 | 55.4 |\n",
       "| 1973 | 49.9 | 45.3 | 48.1 | 61.7 |\n",
       "| 1974 | 55.2 | 53.1 | 49.5 | 59.9 |\n",
       "| 1975 | 30.6 | 30.4 | 33.8 | 42.1 |\n",
       "| 1976 | 35.8 | 28.4 | 32.9 | 44.1 |\n",
       "| 1977 | 45.5 | 36.6 | 39.5 | 49.8 |\n",
       "| 1978 | 48.8 | 29.0 | 37.3 | 34.2 |\n",
       "| 1979 | 47.6 | 37.3 | 39.2 | 47.6 |\n",
       "| 1980 | 43.9 | 49.0 | 51.2 | 60.8 |\n",
       "| 1981 | 67.0 | 48.9 | 65.4 | 65.4 |\n",
       "| 1982 | 67.6 | 62.5 | 55.1 | 49.6 |\n",
       "| 1983 | 57.3 | 47.3 | 45.5 | 44.5 |\n",
       "| 1984 | 48.0 | 47.9 | 49.1 | 48.8 |\n",
       "| 1985 | 59.4 | 51.6 | 51.4 | 60.9 |\n",
       "| 1986 | 60.9 | 56.8 | 58.6 | 62.1 |\n",
       "| 1987 | 64.0 | 60.3 | 64.6 | 71.0 |\n",
       "| 1988 | 79.4 | 59.9 | 83.4 | 75.4 |\n",
       "| 1989 | 80.2 | 55.9 | 58.5 | 65.2 |\n",
       "| 1990 | 69.5 | 59.1 | 21.5 | 62.5 |\n",
       "| 1991 | 70.0 | 52.6 | 62.2 | 60.0 |\n",
       "| 1992 | 33.1 | 35.3 | 43.4 | 42.7 |\n",
       "| 1993 | 58.4 | 34.4 | <!----> | <!----> |\n",
       "\n"
      ],
      "text/plain": [
       "     Qtr1 Qtr2 Qtr3 Qtr4\n",
       "1971           63.2 67.9\n",
       "1972 55.8 49.5 50.2 55.4\n",
       "1973 49.9 45.3 48.1 61.7\n",
       "1974 55.2 53.1 49.5 59.9\n",
       "1975 30.6 30.4 33.8 42.1\n",
       "1976 35.8 28.4 32.9 44.1\n",
       "1977 45.5 36.6 39.5 49.8\n",
       "1978 48.8 29.0 37.3 34.2\n",
       "1979 47.6 37.3 39.2 47.6\n",
       "1980 43.9 49.0 51.2 60.8\n",
       "1981 67.0 48.9 65.4 65.4\n",
       "1982 67.6 62.5 55.1 49.6\n",
       "1983 57.3 47.3 45.5 44.5\n",
       "1984 48.0 47.9 49.1 48.8\n",
       "1985 59.4 51.6 51.4 60.9\n",
       "1986 60.9 56.8 58.6 62.1\n",
       "1987 64.0 60.3 64.6 71.0\n",
       "1988 79.4 59.9 83.4 75.4\n",
       "1989 80.2 55.9 58.5 65.2\n",
       "1990 69.5 59.1 21.5 62.5\n",
       "1991 70.0 52.6 62.2 60.0\n",
       "1992 33.1 35.3 43.4 42.7\n",
       "1993 58.4 34.4          "
      ]
     },
     "metadata": {},
     "output_type": "display_data"
    }
   ],
   "source": [
    "austres\n",
    "diff(austres) # Aplicar las diferencias"
   ]
  },
  {
   "cell_type": "markdown",
   "metadata": {},
   "source": [
    "Por ser NO estacionaria en media ni en varianza se aplica diferencias del logaritmo"
   ]
  },
  {
   "cell_type": "code",
   "execution_count": 11,
   "metadata": {},
   "outputs": [],
   "source": [
    "Correccion1 <- diff(log(austres))"
   ]
  },
  {
   "cell_type": "code",
   "execution_count": 14,
   "metadata": {},
   "outputs": [
    {
     "data": {
      "image/png": "[encoded data removed]",
      "text/plain": [
       "plot without title"
      ]
     },
     "metadata": {
      "image/png": {
       "height": 420,
       "width": 420
      }
     },
     "output_type": "display_data"
    }
   ],
   "source": [
    "# Plot sin zoom\n",
    "plot(Correccion1,\n",
    "    ylim = c(0.001, 0.01))"
   ]
  },
  {
   "cell_type": "markdown",
   "metadata": {},
   "source": [
    "Revisar que la corrección sea efectiva.\n",
    "\n",
    "* Se revisa nueva tendencia\n",
    "* Se revisa estacionariedad en varianza"
   ]
  },
  {
   "cell_type": "code",
   "execution_count": 16,
   "metadata": {},
   "outputs": [
    {
     "data": {
      "text/plain": [
       "\n",
       "Call:\n",
       "lm(formula = Correccion1 ~ time(Correccion1))\n",
       "\n",
       "Residuals:\n",
       "       Min         1Q     Median         3Q        Max \n",
       "-2.091e-03 -4.483e-04  4.328e-05  5.093e-04  1.663e-03 \n",
       "\n",
       "Coefficients:\n",
       "                    Estimate Std. Error t value Pr(>|t|)\n",
       "(Intercept)        2.182e-02  2.634e-02   0.828    0.410\n",
       "time(Correccion1) -9.280e-06  1.329e-05  -0.698    0.487\n",
       "\n",
       "Residual standard error: 0.0007916 on 86 degrees of freedom\n",
       "Multiple R-squared:  0.005639,\tAdjusted R-squared:  -0.005923 \n",
       "F-statistic: 0.4877 on 1 and 86 DF,  p-value: 0.4868\n"
      ]
     },
     "metadata": {},
     "output_type": "display_data"
    }
   ],
   "source": [
    "summary(lm(Correccion1~time(Correccion1)))"
   ]
  },
  {
   "cell_type": "markdown",
   "metadata": {},
   "source": [
    "No muestra tendencia lineal"
   ]
  },
  {
   "cell_type": "code",
   "execution_count": 17,
   "metadata": {},
   "outputs": [
    {
     "data": {
      "text/plain": [
       "\n",
       "\tAugmented Dickey-Fuller Test\n",
       "\n",
       "data:  Correccion1\n",
       "Dickey-Fuller = -2.041, Lag order = 4, p-value = 0.5592\n",
       "alternative hypothesis: stationary\n"
      ]
     },
     "metadata": {},
     "output_type": "display_data"
    }
   ],
   "source": [
    "adf.test(Correccion1, alternative = 'stationary')"
   ]
  },
  {
   "cell_type": "markdown",
   "metadata": {},
   "source": [
    "La varianza NO es estacionaria. **La serie NO es estacionaria**"
   ]
  },
  {
   "cell_type": "markdown",
   "metadata": {},
   "source": [
    "### Corrección 2"
   ]
  },
  {
   "cell_type": "code",
   "execution_count": 18,
   "metadata": {},
   "outputs": [],
   "source": [
    "Correccion2 <- diff(Correccion1)"
   ]
  },
  {
   "cell_type": "code",
   "execution_count": 21,
   "metadata": {},
   "outputs": [
    {
     "data": {
      "image/png": "[encoded data removed]",
      "text/plain": [
       "plot without title"
      ]
     },
     "metadata": {
      "image/png": {
       "height": 420,
       "width": 420
      }
     },
     "output_type": "display_data"
    }
   ],
   "source": [
    "plot(Correccion2,\n",
    "    ylim = c(-.01, 0.01))"
   ]
  },
  {
   "cell_type": "markdown",
   "metadata": {},
   "source": [
    "Revisar que la corrección sea efectiva.\n",
    "\n",
    "* Se revisa nueva tendencia\n",
    "* Se revisa estacionariedad en varianza"
   ]
  },
  {
   "cell_type": "code",
   "execution_count": 22,
   "metadata": {},
   "outputs": [
    {
     "data": {
      "text/plain": [
       "\n",
       "Call:\n",
       "lm(formula = Correccion2 ~ time(Correccion2))\n",
       "\n",
       "Residuals:\n",
       "       Min         1Q     Median         3Q        Max \n",
       "-0.0021726 -0.0003672  0.0001008  0.0004134  0.0024242 \n",
       "\n",
       "Coefficients:\n",
       "                    Estimate Std. Error t value Pr(>|t|)\n",
       "(Intercept)        4.290e-04  2.463e-02   0.017    0.986\n",
       "time(Correccion2) -2.331e-07  1.242e-05  -0.019    0.985\n",
       "\n",
       "Residual standard error: 0.0007276 on 85 degrees of freedom\n",
       "Multiple R-squared:  4.14e-06,\tAdjusted R-squared:  -0.01176 \n",
       "F-statistic: 0.0003519 on 1 and 85 DF,  p-value: 0.9851\n"
      ]
     },
     "metadata": {},
     "output_type": "display_data"
    }
   ],
   "source": [
    "summary(lm(Correccion2~time(Correccion2)))"
   ]
  },
  {
   "cell_type": "markdown",
   "metadata": {},
   "source": [
    "No muestra tendencia lineal. **Es estacionaria en media**"
   ]
  },
  {
   "cell_type": "code",
   "execution_count": 23,
   "metadata": {},
   "outputs": [
    {
     "name": "stderr",
     "output_type": "stream",
     "text": [
      "Warning message in adf.test(Correccion2, alternative = \"stationary\"):\n",
      "\"p-value smaller than printed p-value\"\n"
     ]
    },
    {
     "data": {
      "text/plain": [
       "\n",
       "\tAugmented Dickey-Fuller Test\n",
       "\n",
       "data:  Correccion2\n",
       "Dickey-Fuller = -4.3979, Lag order = 4, p-value = 0.01\n",
       "alternative hypothesis: stationary\n"
      ]
     },
     "metadata": {},
     "output_type": "display_data"
    }
   ],
   "source": [
    "adf.test(Correccion2, alternative = 'stationary')"
   ]
  },
  {
   "cell_type": "markdown",
   "metadata": {},
   "source": [
    "La varianza es estacionaria. **La correccion 2 es estacionaria**"
   ]
  },
  {
   "cell_type": "markdown",
   "metadata": {},
   "source": [
    "## Modelado "
   ]
  },
  {
   "cell_type": "markdown",
   "metadata": {},
   "source": [
    "#### Modelo AR"
   ]
  },
  {
   "cell_type": "code",
   "execution_count": 24,
   "metadata": {},
   "outputs": [
    {
     "data": {
      "text/plain": [
       "\n",
       "Call:\n",
       "ar(x = Correccion2)\n",
       "\n",
       "Coefficients:\n",
       "      1        2        3  \n",
       "-0.5043  -0.4332  -0.2603  \n",
       "\n",
       "Order selected 3  sigma^2 estimated as  4.068e-07"
      ]
     },
     "metadata": {},
     "output_type": "display_data"
    }
   ],
   "source": [
    "ar(Correccion2)"
   ]
  },
  {
   "cell_type": "code",
   "execution_count": 25,
   "metadata": {},
   "outputs": [
    {
     "data": {
      "text/html": [
       "-1028.05762062656"
      ],
      "text/latex": [
       "-1028.05762062656"
      ],
      "text/markdown": [
       "-1028.05762062656"
      ],
      "text/plain": [
       "[1] -1028.058"
      ]
     },
     "metadata": {},
     "output_type": "display_data"
    }
   ],
   "source": [
    "AIC(arima(Correccion2, order = c(3,0,0), method = 'ML'))"
   ]
  },
  {
   "cell_type": "markdown",
   "metadata": {},
   "source": [
    "#### Modelo MA"
   ]
  },
  {
   "cell_type": "code",
   "execution_count": 26,
   "metadata": {},
   "outputs": [
    {
     "data": {
      "text/html": [
       "1"
      ],
      "text/latex": [
       "1"
      ],
      "text/markdown": [
       "1"
      ],
      "text/plain": [
       "[1] 1"
      ]
     },
     "metadata": {},
     "output_type": "display_data"
    },
    {
     "data": {
      "text/html": [
       "-1026.33237724729"
      ],
      "text/latex": [
       "-1026.33237724729"
      ],
      "text/markdown": [
       "-1026.33237724729"
      ],
      "text/plain": [
       "[1] -1026.332"
      ]
     },
     "metadata": {},
     "output_type": "display_data"
    }
   ],
   "source": [
    "aux <- Inf\n",
    "for(i in 1:15){\n",
    "    if(AIC(arima(Correccion2, order=c(0,0,i), method = 'ML')) < aux){\n",
    "        aux <- AIC(arima(Correccion2, order=c(0,0,i), method = 'ML'))\n",
    "        MA.mejor <- i\n",
    "    }\n",
    "}\n",
    "MA.mejor\n",
    "aux"
   ]
  },
  {
   "cell_type": "markdown",
   "metadata": {},
   "source": [
    "#### Modelo ARMA"
   ]
  },
  {
   "cell_type": "code",
   "execution_count": 29,
   "metadata": {},
   "outputs": [],
   "source": [
    "defaultW <- getOption(\"warn\") \n",
    "\n",
    "options(warn = -1) "
   ]
  },
  {
   "cell_type": "code",
   "execution_count": 30,
   "metadata": {},
   "outputs": [
    {
     "data": {
      "text/html": [
       "<style>\n",
       ".list-inline {list-style: none; margin:0; padding: 0}\n",
       ".list-inline>li {display: inline-block}\n",
       ".list-inline>li:not(:last-child)::after {content: \"\\00b7\"; padding: 0 .5ex}\n",
       "</style>\n",
       "<ol class=list-inline><li>2</li><li>3</li></ol>\n"
      ],
      "text/latex": [
       "\\begin{enumerate*}\n",
       "\\item 2\n",
       "\\item 3\n",
       "\\end{enumerate*}\n"
      ],
      "text/markdown": [
       "1. 2\n",
       "2. 3\n",
       "\n",
       "\n"
      ],
      "text/plain": [
       "[1] 2 3"
      ]
     },
     "metadata": {},
     "output_type": "display_data"
    },
    {
     "data": {
      "text/html": [
       "-1036.90985381036"
      ],
      "text/latex": [
       "-1036.90985381036"
      ],
      "text/markdown": [
       "-1036.90985381036"
      ],
      "text/plain": [
       "[1] -1036.91"
      ]
     },
     "metadata": {},
     "output_type": "display_data"
    }
   ],
   "source": [
    "arma.aic <- Inf\n",
    "for(j in 1:10){\n",
    "    for(i in 1:10){\n",
    "        if(AIC(arima(Correccion2, order=c(j,0,i), method = 'ML')) < arma.aic){\n",
    "            arma.aic <- AIC(arima(Correccion2, order=c(j,0,i), method = 'ML'))\n",
    "            ARMA.mejor <- c(j,i)\n",
    "        }\n",
    "    }\n",
    "}\n",
    "ARMA.mejor\n",
    "arma.aic"
   ]
  },
  {
   "cell_type": "code",
   "execution_count": 31,
   "metadata": {},
   "outputs": [],
   "source": [
    "options(warn = defaultW)"
   ]
  },
  {
   "cell_type": "markdown",
   "metadata": {},
   "source": [
    "## Ruido Blanco\n",
    "\n",
    "Revisar:\n",
    "\n",
    "* Ruido blanco de residuales\n",
    "* Media cero\n",
    "* Varianza constante"
   ]
  },
  {
   "cell_type": "markdown",
   "metadata": {},
   "source": [
    "#### Ruido blanco de residuales"
   ]
  },
  {
   "cell_type": "code",
   "execution_count": 32,
   "metadata": {},
   "outputs": [],
   "source": [
    "Res23 <- residuals(arima(Correccion2, order = c(2,0,3), method = 'ML'))"
   ]
  },
  {
   "cell_type": "markdown",
   "metadata": {},
   "source": [
    "#### Media"
   ]
  },
  {
   "cell_type": "code",
   "execution_count": 35,
   "metadata": {},
   "outputs": [
    {
     "data": {
      "text/html": [
       "-3.80328281039968e-06"
      ],
      "text/latex": [
       "-3.80328281039968e-06"
      ],
      "text/markdown": [
       "-3.80328281039968e-06"
      ],
      "text/plain": [
       "[1] -3.803283e-06"
      ]
     },
     "metadata": {},
     "output_type": "display_data"
    }
   ],
   "source": [
    "mean(Res23)"
   ]
  },
  {
   "cell_type": "markdown",
   "metadata": {},
   "source": [
    "#### Varianza Constante"
   ]
  },
  {
   "cell_type": "code",
   "execution_count": 36,
   "metadata": {},
   "outputs": [
    {
     "data": {
      "image/png": "[encoded data removed]",
      "text/plain": [
       "plot without title"
      ]
     },
     "metadata": {
      "image/png": {
       "height": 420,
       "width": 420
      }
     },
     "output_type": "display_data"
    }
   ],
   "source": [
    "plot(Res23,\n",
    "    type = 'p')"
   ]
  },
  {
   "cell_type": "markdown",
   "metadata": {},
   "source": [
    "#### Incorrelacion\n",
    "\n",
    "**Nota:** Las barras no deben superar la linea azul"
   ]
  },
  {
   "cell_type": "code",
   "execution_count": 37,
   "metadata": {},
   "outputs": [
    {
     "data": {
      "image/png": "[encoded data removed]",
      "text/plain": [
       "Plot with title \"Series  Res23\""
      ]
     },
     "metadata": {
      "image/png": {
       "height": 420,
       "width": 420
      }
     },
     "output_type": "display_data"
    }
   ],
   "source": [
    "acf(Res23)"
   ]
  },
  {
   "cell_type": "code",
   "execution_count": 38,
   "metadata": {},
   "outputs": [
    {
     "data": {
      "image/png": "[encoded data removed]",
      "text/plain": [
       "Plot with title \"Series  Res23\""
      ]
     },
     "metadata": {
      "image/png": {
       "height": 420,
       "width": 420
      }
     },
     "output_type": "display_data"
    }
   ],
   "source": [
    "pacf(Res23)"
   ]
  },
  {
   "cell_type": "markdown",
   "metadata": {},
   "source": [
    "### Prueba analitica"
   ]
  },
  {
   "cell_type": "code",
   "execution_count": 39,
   "metadata": {},
   "outputs": [
    {
     "data": {
      "text/plain": [
       "\n",
       "\tBox-Pierce test\n",
       "\n",
       "data:  Res23\n",
       "X-squared = 0.056392, df = 1, p-value = 0.8123\n"
      ]
     },
     "metadata": {},
     "output_type": "display_data"
    }
   ],
   "source": [
    "Box.test(Res23)"
   ]
  },
  {
   "cell_type": "markdown",
   "metadata": {},
   "source": [
    "No rechazo H0. **Los residuales no muestran independencia**"
   ]
  },
  {
   "cell_type": "markdown",
   "metadata": {},
   "source": [
    "#### Normailidad"
   ]
  },
  {
   "cell_type": "code",
   "execution_count": 40,
   "metadata": {},
   "outputs": [
    {
     "data": {
      "text/plain": [
       "\n",
       "\tShapiro-Wilk normality test\n",
       "\n",
       "data:  Res23\n",
       "W = 0.92558, p-value = 9.125e-05\n"
      ]
     },
     "metadata": {},
     "output_type": "display_data"
    }
   ],
   "source": [
    "shapiro.test(Res23)"
   ]
  },
  {
   "cell_type": "markdown",
   "metadata": {},
   "source": [
    "No siguen distribucion normal"
   ]
  },
  {
   "cell_type": "markdown",
   "metadata": {},
   "source": [
    "**Residuales como ruido blanco. Se puede proceder a predecir**"
   ]
  },
  {
   "cell_type": "markdown",
   "metadata": {},
   "source": [
    "### Predicciones"
   ]
  },
  {
   "cell_type": "markdown",
   "metadata": {},
   "source": [
    "* Se debe de escribir en el 2do parametro del orden la cantidad de diferenciaciones usadas."
   ]
  },
  {
   "cell_type": "code",
   "execution_count": 45,
   "metadata": {},
   "outputs": [
    {
     "name": "stderr",
     "output_type": "stream",
     "text": [
      "Warning message in log(s2):\n",
      "\"Se han producido NaNs\"\n"
     ]
    },
    {
     "data": {
      "text/html": [
       "<table>\n",
       "<caption>A Time Series: 6 × 4</caption>\n",
       "<thead>\n",
       "\t<tr><th></th><th scope=col>Qtr1</th><th scope=col>Qtr2</th><th scope=col>Qtr3</th><th scope=col>Qtr4</th></tr>\n",
       "</thead>\n",
       "<tbody>\n",
       "\t<tr><th scope=row>1993</th><td>        </td><td>        </td><td>17699.10</td><td>17743.43</td></tr>\n",
       "\t<tr><th scope=row>1994</th><td>17790.79</td><td>17831.51</td><td>17869.03</td><td>17913.13</td></tr>\n",
       "\t<tr><th scope=row>1995</th><td>17960.57</td><td>18001.51</td><td>18038.96</td><td>18082.83</td></tr>\n",
       "\t<tr><th scope=row>1996</th><td>18130.33</td><td>18171.51</td><td>18208.91</td><td>18252.54</td></tr>\n",
       "\t<tr><th scope=row>1997</th><td>18300.09</td><td>18341.50</td><td>18378.85</td><td>18422.25</td></tr>\n",
       "\t<tr><th scope=row>1998</th><td>18469.84</td><td>18511.49</td><td>        </td><td>        </td></tr>\n",
       "</tbody>\n",
       "</table>\n"
      ],
      "text/latex": [
       "A Time Series: 6 × 4\n",
       "\\begin{tabular}{r|llll}\n",
       "  & Qtr1 & Qtr2 & Qtr3 & Qtr4\\\\\n",
       "\\hline\n",
       "\t1993 &          &          & 17699.10 & 17743.43\\\\\n",
       "\t1994 & 17790.79 & 17831.51 & 17869.03 & 17913.13\\\\\n",
       "\t1995 & 17960.57 & 18001.51 & 18038.96 & 18082.83\\\\\n",
       "\t1996 & 18130.33 & 18171.51 & 18208.91 & 18252.54\\\\\n",
       "\t1997 & 18300.09 & 18341.50 & 18378.85 & 18422.25\\\\\n",
       "\t1998 & 18469.84 & 18511.49 &          &         \\\\\n",
       "\\end{tabular}\n"
      ],
      "text/markdown": [
       "\n",
       "A Time Series: 6 × 4\n",
       "\n",
       "| <!--/--> | Qtr1 | Qtr2 | Qtr3 | Qtr4 |\n",
       "|---|---|---|---|---|\n",
       "| 1993 | <!----> | <!----> | 17699.10 | 17743.43 |\n",
       "| 1994 | 17790.79 | 17831.51 | 17869.03 | 17913.13 |\n",
       "| 1995 | 17960.57 | 18001.51 | 18038.96 | 18082.83 |\n",
       "| 1996 | 18130.33 | 18171.51 | 18208.91 | 18252.54 |\n",
       "| 1997 | 18300.09 | 18341.50 | 18378.85 | 18422.25 |\n",
       "| 1998 | 18469.84 | 18511.49 | <!----> | <!----> |\n",
       "\n"
      ],
      "text/plain": [
       "     Qtr1     Qtr2     Qtr3     Qtr4    \n",
       "1993                   17699.10 17743.43\n",
       "1994 17790.79 17831.51 17869.03 17913.13\n",
       "1995 17960.57 18001.51 18038.96 18082.83\n",
       "1996 18130.33 18171.51 18208.91 18252.54\n",
       "1997 18300.09 18341.50 18378.85 18422.25\n",
       "1998 18469.84 18511.49                  "
      ]
     },
     "metadata": {},
     "output_type": "display_data"
    }
   ],
   "source": [
    "predict(arima(austres, order = c(2,2,3), method = 'ML'), n.ahead = 20)$pred"
   ]
  },
  {
   "cell_type": "code",
   "execution_count": 53,
   "metadata": {},
   "outputs": [
    {
     "data": {
      "image/png": "[encoded data removed]",
      "text/plain": [
       "plot without title"
      ]
     },
     "metadata": {
      "image/png": {
       "height": 420,
       "width": 420
      }
     },
     "output_type": "display_data"
    }
   ],
   "source": [
    "plot(Correccion2,\n",
    "    xlim = c(1971, 1998))\n",
    "lines(predict(arima(Correccion2, order = c(2,0,3), method = 'ML'), n.ahead = 20)$pred,\n",
    "     col = 'red')"
   ]
  },
  {
   "cell_type": "code",
   "execution_count": 54,
   "metadata": {},
   "outputs": [
    {
     "data": {
      "image/png": "[encoded data removed]",
      "text/plain": [
       "plot without title"
      ]
     },
     "metadata": {
      "image/png": {
       "height": 420,
       "width": 420
      }
     },
     "output_type": "display_data"
    }
   ],
   "source": [
    "plot(Correccion1,\n",
    "    xlim = c(1971, 1998))\n",
    "lines(predict(arima(Correccion1, order = c(2,1,3), method = 'ML'), n.ahead = 20)$pred,\n",
    "     col = 'red')"
   ]
  },
  {
   "cell_type": "code",
   "execution_count": 55,
   "metadata": {},
   "outputs": [
    {
     "data": {
      "image/png": "[encoded data removed]",
      "text/plain": [
       "plot without title"
      ]
     },
     "metadata": {
      "image/png": {
       "height": 420,
       "width": 420
      }
     },
     "output_type": "display_data"
    }
   ],
   "source": [
    "plot(log(austres),\n",
    "    xlim = c(1971, 1998),\n",
    "    ylim = c(9,11))\n",
    "lines(predict(arima(log(austres), order = c(2,2,3), method = 'ML'), n.ahead = 20)$pred,\n",
    "     col = 'red')"
   ]
  },
  {
   "cell_type": "code",
   "execution_count": 61,
   "metadata": {},
   "outputs": [
    {
     "name": "stderr",
     "output_type": "stream",
     "text": [
      "Warning message in log(s2):\n",
      "\"Se han producido NaNs\"\n"
     ]
    },
    {
     "data": {
      "image/png": "[encoded data removed]",
      "text/plain": [
       "plot without title"
      ]
     },
     "metadata": {
      "image/png": {
       "height": 420,
       "width": 420
      }
     },
     "output_type": "display_data"
    }
   ],
   "source": [
    "plot(austres,\n",
    "    xlim = c(1971, 1998),\n",
    "    ylim = c(13000,18500))\n",
    "lines(predict(arima(austres, order = c(2,2,3), method = 'ML'), n.ahead = 20)$pred,\n",
    "     col = 'red')"
   ]
  },
  {
   "cell_type": "markdown",
   "metadata": {},
   "source": [
    "## El modelo elegido es el ARIMA(2,2,3)"
   ]
  }
 ],
 "metadata": {
  "kernelspec": {
   "display_name": "R",
   "language": "R",
   "name": "ir"
  },
  "language_info": {
   "codemirror_mode": "r",
   "file_extension": ".r",
   "mimetype": "text/x-r-source",
   "name": "R",
   "pygments_lexer": "r",
   "version": "4.0.3"
  }
 },
 "nbformat": 4,
 "nbformat_minor": 4
}
