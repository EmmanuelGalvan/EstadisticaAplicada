{
 "cells": [
  {
   "cell_type": "markdown",
   "metadata": {},
   "source": [
    "# Proyecto Final.\n",
    "## Datos: Pruebas sobre el uso del UDCA en pacientes con cirrosis biliar primaria."
   ]
  },
  {
   "cell_type": "markdown",
   "metadata": {},
   "source": [
    "**Grupo:** 001.\n",
    "\n",
    "**Integrantes:**\n",
    " \n",
    "* 1808039   Ana Karen Gómez Alonzo.\n",
    "* 1937881   Alma Cecilia Villarreal Duarte.\n",
    "* 1741418   Angel Emmanuel Hernández Galván.\n",
    "* 1802780   Sahori Verónica Ramírez Medellín."
   ]
  },
  {
   "cell_type": "markdown",
   "metadata": {},
   "source": [
    "**Librerías.**"
   ]
  },
  {
   "cell_type": "code",
   "execution_count": 1,
   "metadata": {},
   "outputs": [],
   "source": [
    "library(survival)"
   ]
  },
  {
   "cell_type": "markdown",
   "metadata": {},
   "source": [
    "**Apertura de datos.**"
   ]
  },
  {
   "cell_type": "code",
   "execution_count": 2,
   "metadata": {},
   "outputs": [],
   "source": [
    "data(udca)"
   ]
  },
  {
   "cell_type": "code",
   "execution_count": 3,
   "metadata": {},
   "outputs": [
    {
     "data": {
      "text/html": [
       "<table class=\"dataframe\">\n",
       "<caption>A data.frame: 170 × 15</caption>\n",
       "<thead>\n",
       "\t<tr><th scope=col>id</th><th scope=col>trt</th><th scope=col>entry.dt</th><th scope=col>last.dt</th><th scope=col>stage</th><th scope=col>bili</th><th scope=col>riskscore</th><th scope=col>death.dt</th><th scope=col>tx.dt</th><th scope=col>hprogress.dt</th><th scope=col>varices.dt</th><th scope=col>ascites.dt</th><th scope=col>enceph.dt</th><th scope=col>double.dt</th><th scope=col>worsen.dt</th></tr>\n",
       "\t<tr><th scope=col>&lt;int&gt;</th><th scope=col>&lt;int&gt;</th><th scope=col>&lt;date&gt;</th><th scope=col>&lt;date&gt;</th><th scope=col>&lt;int&gt;</th><th scope=col>&lt;dbl&gt;</th><th scope=col>&lt;dbl&gt;</th><th scope=col>&lt;date&gt;</th><th scope=col>&lt;date&gt;</th><th scope=col>&lt;date&gt;</th><th scope=col>&lt;date&gt;</th><th scope=col>&lt;date&gt;</th><th scope=col>&lt;date&gt;</th><th scope=col>&lt;date&gt;</th><th scope=col>&lt;date&gt;</th></tr>\n",
       "</thead>\n",
       "<tbody>\n",
       "\t<tr><td> 1</td><td>1</td><td>1988-04-21</td><td>1993-06-30</td><td>1</td><td>1.0</td><td>5.1</td><td>NA</td><td>NA</td><td>NA</td><td>NA</td><td>NA</td><td>NA</td><td>NA</td><td>NA</td></tr>\n",
       "\t<tr><td> 2</td><td>0</td><td>1988-04-27</td><td>1993-06-30</td><td>1</td><td>1.7</td><td>4.2</td><td>NA</td><td>NA</td><td>NA</td><td>NA</td><td>NA</td><td>NA</td><td>NA</td><td>1992-04-22</td></tr>\n",
       "\t<tr><td> 3</td><td>1</td><td>1988-04-25</td><td>1993-06-30</td><td>0</td><td>0.5</td><td>3.4</td><td>NA</td><td>NA</td><td>NA</td><td>NA</td><td>NA</td><td>NA</td><td>NA</td><td>NA</td></tr>\n",
       "\t<tr><td> 4</td><td>1</td><td>1988-04-27</td><td>1989-04-05</td><td>1</td><td>1.4</td><td>5.0</td><td>NA</td><td>NA</td><td>NA</td><td>NA</td><td>NA</td><td>NA</td><td>NA</td><td>NA</td></tr>\n",
       "\t<tr><td> 5</td><td>0</td><td>1988-05-12</td><td>1993-06-30</td><td>1</td><td>1.1</td><td>4.3</td><td>NA</td><td>NA</td><td>NA</td><td>NA</td><td>NA</td><td>NA</td><td>NA</td><td>NA</td></tr>\n",
       "\t<tr><td> 6</td><td>1</td><td>1988-05-18</td><td>1990-06-25</td><td>1</td><td>1.4</td><td>5.9</td><td>1992-01-24</td><td>NA</td><td>NA</td><td>1990-06-25</td><td>NA</td><td>NA</td><td>NA</td><td>NA</td></tr>\n",
       "\t<tr><td> 7</td><td>0</td><td>1988-05-18</td><td>1993-06-30</td><td>1</td><td>0.6</td><td>3.8</td><td>NA</td><td>NA</td><td>NA</td><td>NA</td><td>NA</td><td>NA</td><td>NA</td><td>NA</td></tr>\n",
       "\t<tr><td> 8</td><td>0</td><td>1988-05-25</td><td>1990-07-02</td><td>1</td><td>5.1</td><td>7.4</td><td>1990-07-22</td><td>NA</td><td>NA</td><td>NA</td><td>1990-07-02</td><td>1990-07-02</td><td>1990-07-02</td><td>1990-07-02</td></tr>\n",
       "\t<tr><td> 9</td><td>0</td><td>1988-05-27</td><td>1992-08-26</td><td>1</td><td>1.6</td><td>5.3</td><td>NA</td><td>NA</td><td>NA</td><td>NA</td><td>NA</td><td>NA</td><td>NA</td><td>NA</td></tr>\n",
       "\t<tr><td>10</td><td>1</td><td>1988-05-26</td><td>1993-06-30</td><td>0</td><td>0.5</td><td>4.0</td><td>NA</td><td>NA</td><td>NA</td><td>1990-05-31</td><td>NA</td><td>NA</td><td>NA</td><td>NA</td></tr>\n",
       "\t<tr><td>11</td><td>1</td><td>1988-06-10</td><td>1993-06-30</td><td>1</td><td>1.7</td><td>4.5</td><td>NA</td><td>NA</td><td>NA</td><td>NA</td><td>NA</td><td>NA</td><td>NA</td><td>NA</td></tr>\n",
       "\t<tr><td>12</td><td>1</td><td>1988-06-16</td><td>1991-06-20</td><td>0</td><td>4.1</td><td>7.1</td><td>1991-07-07</td><td>NA</td><td>NA</td><td>NA</td><td>NA</td><td>1991-06-20</td><td>NA</td><td>1991-06-20</td></tr>\n",
       "\t<tr><td>13</td><td>0</td><td>1988-06-03</td><td>1991-04-03</td><td>0</td><td>0.5</td><td>3.5</td><td>NA</td><td>NA</td><td>NA</td><td>NA</td><td>NA</td><td>NA</td><td>NA</td><td>1991-04-03</td></tr>\n",
       "\t<tr><td>14</td><td>0</td><td>1988-06-15</td><td>1991-12-02</td><td>0</td><td>1.4</td><td>4.6</td><td>NA</td><td>NA</td><td>1991-12-02</td><td>1990-06-11</td><td>NA</td><td>NA</td><td>1989-06-12</td><td>NA</td></tr>\n",
       "\t<tr><td>15</td><td>1</td><td>1988-06-22</td><td>1993-06-30</td><td>1</td><td>1.0</td><td>4.6</td><td>NA</td><td>NA</td><td>NA</td><td>NA</td><td>NA</td><td>NA</td><td>NA</td><td>NA</td></tr>\n",
       "\t<tr><td>16</td><td>0</td><td>1988-06-22</td><td>1993-06-30</td><td>1</td><td>1.3</td><td>5.3</td><td>NA</td><td>NA</td><td>NA</td><td>NA</td><td>NA</td><td>NA</td><td>NA</td><td>NA</td></tr>\n",
       "\t<tr><td>17</td><td>0</td><td>1988-06-28</td><td>1993-06-30</td><td>1</td><td>0.8</td><td>4.8</td><td>NA</td><td>NA</td><td>1990-07-18</td><td>NA</td><td>NA</td><td>NA</td><td>NA</td><td>NA</td></tr>\n",
       "\t<tr><td>18</td><td>0</td><td>1988-06-29</td><td>1990-08-01</td><td>1</td><td>1.2</td><td>4.2</td><td>NA</td><td>NA</td><td>NA</td><td>1990-08-01</td><td>NA</td><td>NA</td><td>1989-07-25</td><td>1989-07-25</td></tr>\n",
       "\t<tr><td>19</td><td>1</td><td>1988-06-30</td><td>1993-06-30</td><td>1</td><td>2.2</td><td>6.3</td><td>NA</td><td>NA</td><td>NA</td><td>NA</td><td>NA</td><td>NA</td><td>NA</td><td>NA</td></tr>\n",
       "\t<tr><td>20</td><td>0</td><td>1988-06-30</td><td>1991-03-19</td><td>1</td><td>3.3</td><td>6.5</td><td>NA</td><td>1991-06-06</td><td>NA</td><td>NA</td><td>NA</td><td>NA</td><td>NA</td><td>NA</td></tr>\n",
       "\t<tr><td>21</td><td>1</td><td>1988-07-05</td><td>1992-08-11</td><td>1</td><td>3.8</td><td>5.8</td><td>1992-08-11</td><td>NA</td><td>1990-10-09</td><td>NA</td><td>NA</td><td>NA</td><td>NA</td><td>NA</td></tr>\n",
       "\t<tr><td>22</td><td>1</td><td>1988-07-22</td><td>1993-06-30</td><td>1</td><td>1.7</td><td>4.7</td><td>NA</td><td>NA</td><td>NA</td><td>NA</td><td>NA</td><td>NA</td><td>NA</td><td>NA</td></tr>\n",
       "\t<tr><td>23</td><td>1</td><td>1988-07-20</td><td>1992-08-15</td><td>1</td><td>0.5</td><td>4.9</td><td>NA</td><td>NA</td><td>NA</td><td>NA</td><td>NA</td><td>NA</td><td>NA</td><td>NA</td></tr>\n",
       "\t<tr><td>24</td><td>0</td><td>1988-07-28</td><td>1993-06-30</td><td>1</td><td>3.4</td><td>5.6</td><td>NA</td><td>NA</td><td>NA</td><td>1990-08-01</td><td>NA</td><td>NA</td><td>NA</td><td>NA</td></tr>\n",
       "\t<tr><td>25</td><td>0</td><td>1988-07-26</td><td>1993-06-30</td><td>1</td><td>0.6</td><td>4.7</td><td>NA</td><td>NA</td><td>NA</td><td>1992-09-14</td><td>NA</td><td>NA</td><td>NA</td><td>NA</td></tr>\n",
       "\t<tr><td>26</td><td>0</td><td>1988-07-27</td><td>1992-11-01</td><td>1</td><td>0.7</td><td>3.0</td><td>NA</td><td>1993-05-05</td><td>1990-08-06</td><td>1990-08-06</td><td>NA</td><td>NA</td><td>1989-08-01</td><td>1992-08-18</td></tr>\n",
       "\t<tr><td>27</td><td>1</td><td>1988-07-29</td><td>1993-06-30</td><td>0</td><td>1.6</td><td>5.7</td><td>NA</td><td>NA</td><td>1990-07-30</td><td>NA</td><td>NA</td><td>NA</td><td>NA</td><td>NA</td></tr>\n",
       "\t<tr><td>28</td><td>1</td><td>1988-07-28</td><td>1990-04-22</td><td>1</td><td>2.7</td><td>5.9</td><td>NA</td><td>1990-04-22</td><td>NA</td><td>NA</td><td>NA</td><td>NA</td><td>NA</td><td>NA</td></tr>\n",
       "\t<tr><td>29</td><td>0</td><td>1988-07-27</td><td>1993-06-30</td><td>0</td><td>0.7</td><td>4.6</td><td>NA</td><td>NA</td><td>1990-06-12</td><td>1990-06-12</td><td>NA</td><td>NA</td><td>NA</td><td>NA</td></tr>\n",
       "\t<tr><td>30</td><td>1</td><td>1988-08-18</td><td>1993-06-30</td><td>1</td><td>2.1</td><td>5.6</td><td>NA</td><td>NA</td><td>NA</td><td>1990-07-30</td><td>NA</td><td>NA</td><td>NA</td><td>NA</td></tr>\n",
       "\t<tr><td>...</td><td>...</td><td>...</td><td>...</td><td>...</td><td>...</td><td>...</td><td>...</td><td>...</td><td>...</td><td>...</td><td>...</td><td>...</td><td>...</td><td>...</td></tr>\n",
       "\t<tr><td>141</td><td>1</td><td>1990-05-30</td><td>1993-06-30</td><td>0</td><td>1.6</td><td>5.7</td><td>NA</td><td>NA</td><td>NA</td><td>NA</td><td>NA</td><td>NA</td><td>NA</td><td>NA</td></tr>\n",
       "\t<tr><td>142</td><td>0</td><td>1990-06-19</td><td>1993-06-30</td><td>1</td><td>0.4</td><td>4.0</td><td>NA</td><td>NA</td><td>NA</td><td>NA</td><td>NA</td><td>NA</td><td>NA</td><td>NA</td></tr>\n",
       "\t<tr><td>143</td><td>0</td><td>1990-07-10</td><td>1993-06-30</td><td>1</td><td>1.0</td><td>5.2</td><td>NA</td><td>NA</td><td>NA</td><td>1992-08-11</td><td>NA</td><td>NA</td><td>NA</td><td>NA</td></tr>\n",
       "\t<tr><td>144</td><td>0</td><td>1990-07-12</td><td>1991-07-11</td><td>0</td><td>1.2</td><td>5.2</td><td>1991-07-31</td><td>NA</td><td>NA</td><td>NA</td><td>NA</td><td>NA</td><td>1991-07-11</td><td>NA</td></tr>\n",
       "\t<tr><td>145</td><td>0</td><td>1990-07-12</td><td>1993-06-30</td><td>1</td><td>1.5</td><td>5.4</td><td>NA</td><td>NA</td><td>NA</td><td>NA</td><td>NA</td><td>NA</td><td>NA</td><td>NA</td></tr>\n",
       "\t<tr><td>146</td><td>1</td><td>1990-07-11</td><td>1993-06-30</td><td>0</td><td>0.7</td><td>2.9</td><td>NA</td><td>NA</td><td>NA</td><td>NA</td><td>NA</td><td>NA</td><td>NA</td><td>1992-10-22</td></tr>\n",
       "\t<tr><td>147</td><td>1</td><td>1990-07-18</td><td>1993-06-30</td><td>0</td><td>0.5</td><td>4.0</td><td>NA</td><td>NA</td><td>NA</td><td>NA</td><td>NA</td><td>NA</td><td>NA</td><td>NA</td></tr>\n",
       "\t<tr><td>148</td><td>1</td><td>1990-08-07</td><td>1993-06-30</td><td>0</td><td>0.3</td><td>4.2</td><td>NA</td><td>NA</td><td>NA</td><td>NA</td><td>NA</td><td>NA</td><td>NA</td><td>NA</td></tr>\n",
       "\t<tr><td>149</td><td>1</td><td>1990-08-09</td><td>1993-06-30</td><td>1</td><td>0.5</td><td>4.2</td><td>NA</td><td>NA</td><td>NA</td><td>NA</td><td>NA</td><td>NA</td><td>NA</td><td>NA</td></tr>\n",
       "\t<tr><td>150</td><td>0</td><td>1990-09-12</td><td>1993-06-30</td><td>1</td><td>1.0</td><td>5.0</td><td>NA</td><td>NA</td><td>NA</td><td>1992-08-17</td><td>NA</td><td>NA</td><td>NA</td><td>NA</td></tr>\n",
       "\t<tr><td>151</td><td>1</td><td>1990-03-20</td><td>1990-03-20</td><td>0</td><td>0.7</td><td> NA</td><td>NA</td><td>NA</td><td>NA</td><td>NA</td><td>NA</td><td>NA</td><td>NA</td><td>NA</td></tr>\n",
       "\t<tr><td>152</td><td>1</td><td>1990-08-24</td><td>1991-01-15</td><td>1</td><td>1.7</td><td>4.6</td><td>NA</td><td>1991-01-15</td><td>NA</td><td>NA</td><td>NA</td><td>NA</td><td>NA</td><td>NA</td></tr>\n",
       "\t<tr><td>153</td><td>0</td><td>1990-06-27</td><td>1991-02-15</td><td>1</td><td>0.8</td><td>3.3</td><td>NA</td><td>NA</td><td>NA</td><td>NA</td><td>NA</td><td>NA</td><td>NA</td><td>NA</td></tr>\n",
       "\t<tr><td>154</td><td>0</td><td>1990-10-29</td><td>1993-06-30</td><td>1</td><td>4.2</td><td>5.1</td><td>NA</td><td>NA</td><td>1992-06-24</td><td>1992-06-24</td><td>NA</td><td>NA</td><td>NA</td><td>NA</td></tr>\n",
       "\t<tr><td>155</td><td>0</td><td>1990-11-02</td><td>1993-06-30</td><td>0</td><td>0.4</td><td>4.4</td><td>NA</td><td>NA</td><td>NA</td><td>NA</td><td>NA</td><td>NA</td><td>NA</td><td>NA</td></tr>\n",
       "\t<tr><td>156</td><td>1</td><td>1990-11-27</td><td>1993-06-30</td><td>0</td><td>0.5</td><td>3.9</td><td>NA</td><td>NA</td><td>NA</td><td>NA</td><td>NA</td><td>NA</td><td>NA</td><td>NA</td></tr>\n",
       "\t<tr><td>157</td><td>0</td><td>1990-11-28</td><td>1993-06-30</td><td>1</td><td>2.7</td><td>6.0</td><td>NA</td><td>NA</td><td>NA</td><td>NA</td><td>NA</td><td>NA</td><td>1992-09-29</td><td>NA</td></tr>\n",
       "\t<tr><td>158</td><td>0</td><td>1990-11-27</td><td>1993-06-30</td><td>0</td><td>0.6</td><td>4.8</td><td>NA</td><td>NA</td><td>NA</td><td>NA</td><td>NA</td><td>NA</td><td>NA</td><td>NA</td></tr>\n",
       "\t<tr><td>159</td><td>0</td><td>1990-12-06</td><td>1993-04-08</td><td>1</td><td>2.0</td><td>6.1</td><td>NA</td><td>NA</td><td>NA</td><td>NA</td><td>1991-12-16</td><td>NA</td><td>NA</td><td>NA</td></tr>\n",
       "\t<tr><td>160</td><td>1</td><td>1990-12-06</td><td>1993-06-30</td><td>1</td><td>1.5</td><td>5.3</td><td>NA</td><td>NA</td><td>NA</td><td>NA</td><td>NA</td><td>1992-10-19</td><td>NA</td><td>1992-10-19</td></tr>\n",
       "\t<tr><td>161</td><td>1</td><td>1990-12-06</td><td>1993-06-30</td><td>1</td><td>0.6</td><td>4.7</td><td>NA</td><td>NA</td><td>NA</td><td>NA</td><td>NA</td><td>NA</td><td>NA</td><td>NA</td></tr>\n",
       "\t<tr><td>162</td><td>1</td><td>1991-01-07</td><td>1993-06-30</td><td>0</td><td>1.8</td><td>5.7</td><td>NA</td><td>NA</td><td>NA</td><td>NA</td><td>NA</td><td>NA</td><td>NA</td><td>NA</td></tr>\n",
       "\t<tr><td>163</td><td>0</td><td>1991-01-16</td><td>1993-06-30</td><td>0</td><td>0.4</td><td>3.8</td><td>NA</td><td>NA</td><td>1993-04-07</td><td>NA</td><td>NA</td><td>NA</td><td>NA</td><td>NA</td></tr>\n",
       "\t<tr><td>164</td><td>1</td><td>1991-01-24</td><td>1993-06-30</td><td>1</td><td>3.2</td><td>5.5</td><td>NA</td><td>NA</td><td>NA</td><td>NA</td><td>NA</td><td>NA</td><td>NA</td><td>NA</td></tr>\n",
       "\t<tr><td>165</td><td>0</td><td>1991-01-31</td><td>1993-06-30</td><td>1</td><td>1.7</td><td>6.2</td><td>NA</td><td>NA</td><td>NA</td><td>NA</td><td>1993-03-17</td><td>NA</td><td>NA</td><td>NA</td></tr>\n",
       "\t<tr><td>166</td><td>0</td><td>1991-02-13</td><td>1993-06-30</td><td>1</td><td>0.5</td><td>4.4</td><td>NA</td><td>NA</td><td>NA</td><td>NA</td><td>NA</td><td>NA</td><td>NA</td><td>NA</td></tr>\n",
       "\t<tr><td>167</td><td>1</td><td>1991-03-07</td><td>1993-06-30</td><td>0</td><td>0.7</td><td>3.8</td><td>NA</td><td>NA</td><td>NA</td><td>NA</td><td>NA</td><td>NA</td><td>NA</td><td>1993-05-25</td></tr>\n",
       "\t<tr><td>168</td><td>1</td><td>1991-03-28</td><td>1993-06-30</td><td>1</td><td>0.9</td><td>4.0</td><td>NA</td><td>NA</td><td>NA</td><td>NA</td><td>NA</td><td>NA</td><td>NA</td><td>NA</td></tr>\n",
       "\t<tr><td>169</td><td>0</td><td>1991-04-19</td><td>1993-06-30</td><td>0</td><td>1.0</td><td>5.1</td><td>NA</td><td>NA</td><td>NA</td><td>NA</td><td>NA</td><td>NA</td><td>NA</td><td>NA</td></tr>\n",
       "\t<tr><td>170</td><td>1</td><td>1991-05-01</td><td>1993-06-30</td><td>0</td><td>0.4</td><td>4.2</td><td>NA</td><td>NA</td><td>NA</td><td>NA</td><td>NA</td><td>NA</td><td>NA</td><td>NA</td></tr>\n",
       "</tbody>\n",
       "</table>\n"
      ],
      "text/latex": [
       "A data.frame: 170 × 15\n",
       "\\begin{tabular}{lllllllllllllll}\n",
       " id & trt & entry.dt & last.dt & stage & bili & riskscore & death.dt & tx.dt & hprogress.dt & varices.dt & ascites.dt & enceph.dt & double.dt & worsen.dt\\\\\n",
       " <int> & <int> & <date> & <date> & <int> & <dbl> & <dbl> & <date> & <date> & <date> & <date> & <date> & <date> & <date> & <date>\\\\\n",
       "\\hline\n",
       "\t  1 & 1 & 1988-04-21 & 1993-06-30 & 1 & 1.0 & 5.1 & NA & NA & NA & NA & NA & NA & NA & NA\\\\\n",
       "\t  2 & 0 & 1988-04-27 & 1993-06-30 & 1 & 1.7 & 4.2 & NA & NA & NA & NA & NA & NA & NA & 1992-04-22\\\\\n",
       "\t  3 & 1 & 1988-04-25 & 1993-06-30 & 0 & 0.5 & 3.4 & NA & NA & NA & NA & NA & NA & NA & NA\\\\\n",
       "\t  4 & 1 & 1988-04-27 & 1989-04-05 & 1 & 1.4 & 5.0 & NA & NA & NA & NA & NA & NA & NA & NA\\\\\n",
       "\t  5 & 0 & 1988-05-12 & 1993-06-30 & 1 & 1.1 & 4.3 & NA & NA & NA & NA & NA & NA & NA & NA\\\\\n",
       "\t  6 & 1 & 1988-05-18 & 1990-06-25 & 1 & 1.4 & 5.9 & 1992-01-24 & NA & NA & 1990-06-25 & NA & NA & NA & NA\\\\\n",
       "\t  7 & 0 & 1988-05-18 & 1993-06-30 & 1 & 0.6 & 3.8 & NA & NA & NA & NA & NA & NA & NA & NA\\\\\n",
       "\t  8 & 0 & 1988-05-25 & 1990-07-02 & 1 & 5.1 & 7.4 & 1990-07-22 & NA & NA & NA & 1990-07-02 & 1990-07-02 & 1990-07-02 & 1990-07-02\\\\\n",
       "\t  9 & 0 & 1988-05-27 & 1992-08-26 & 1 & 1.6 & 5.3 & NA & NA & NA & NA & NA & NA & NA & NA\\\\\n",
       "\t 10 & 1 & 1988-05-26 & 1993-06-30 & 0 & 0.5 & 4.0 & NA & NA & NA & 1990-05-31 & NA & NA & NA & NA\\\\\n",
       "\t 11 & 1 & 1988-06-10 & 1993-06-30 & 1 & 1.7 & 4.5 & NA & NA & NA & NA & NA & NA & NA & NA\\\\\n",
       "\t 12 & 1 & 1988-06-16 & 1991-06-20 & 0 & 4.1 & 7.1 & 1991-07-07 & NA & NA & NA & NA & 1991-06-20 & NA & 1991-06-20\\\\\n",
       "\t 13 & 0 & 1988-06-03 & 1991-04-03 & 0 & 0.5 & 3.5 & NA & NA & NA & NA & NA & NA & NA & 1991-04-03\\\\\n",
       "\t 14 & 0 & 1988-06-15 & 1991-12-02 & 0 & 1.4 & 4.6 & NA & NA & 1991-12-02 & 1990-06-11 & NA & NA & 1989-06-12 & NA\\\\\n",
       "\t 15 & 1 & 1988-06-22 & 1993-06-30 & 1 & 1.0 & 4.6 & NA & NA & NA & NA & NA & NA & NA & NA\\\\\n",
       "\t 16 & 0 & 1988-06-22 & 1993-06-30 & 1 & 1.3 & 5.3 & NA & NA & NA & NA & NA & NA & NA & NA\\\\\n",
       "\t 17 & 0 & 1988-06-28 & 1993-06-30 & 1 & 0.8 & 4.8 & NA & NA & 1990-07-18 & NA & NA & NA & NA & NA\\\\\n",
       "\t 18 & 0 & 1988-06-29 & 1990-08-01 & 1 & 1.2 & 4.2 & NA & NA & NA & 1990-08-01 & NA & NA & 1989-07-25 & 1989-07-25\\\\\n",
       "\t 19 & 1 & 1988-06-30 & 1993-06-30 & 1 & 2.2 & 6.3 & NA & NA & NA & NA & NA & NA & NA & NA\\\\\n",
       "\t 20 & 0 & 1988-06-30 & 1991-03-19 & 1 & 3.3 & 6.5 & NA & 1991-06-06 & NA & NA & NA & NA & NA & NA\\\\\n",
       "\t 21 & 1 & 1988-07-05 & 1992-08-11 & 1 & 3.8 & 5.8 & 1992-08-11 & NA & 1990-10-09 & NA & NA & NA & NA & NA\\\\\n",
       "\t 22 & 1 & 1988-07-22 & 1993-06-30 & 1 & 1.7 & 4.7 & NA & NA & NA & NA & NA & NA & NA & NA\\\\\n",
       "\t 23 & 1 & 1988-07-20 & 1992-08-15 & 1 & 0.5 & 4.9 & NA & NA & NA & NA & NA & NA & NA & NA\\\\\n",
       "\t 24 & 0 & 1988-07-28 & 1993-06-30 & 1 & 3.4 & 5.6 & NA & NA & NA & 1990-08-01 & NA & NA & NA & NA\\\\\n",
       "\t 25 & 0 & 1988-07-26 & 1993-06-30 & 1 & 0.6 & 4.7 & NA & NA & NA & 1992-09-14 & NA & NA & NA & NA\\\\\n",
       "\t 26 & 0 & 1988-07-27 & 1992-11-01 & 1 & 0.7 & 3.0 & NA & 1993-05-05 & 1990-08-06 & 1990-08-06 & NA & NA & 1989-08-01 & 1992-08-18\\\\\n",
       "\t 27 & 1 & 1988-07-29 & 1993-06-30 & 0 & 1.6 & 5.7 & NA & NA & 1990-07-30 & NA & NA & NA & NA & NA\\\\\n",
       "\t 28 & 1 & 1988-07-28 & 1990-04-22 & 1 & 2.7 & 5.9 & NA & 1990-04-22 & NA & NA & NA & NA & NA & NA\\\\\n",
       "\t 29 & 0 & 1988-07-27 & 1993-06-30 & 0 & 0.7 & 4.6 & NA & NA & 1990-06-12 & 1990-06-12 & NA & NA & NA & NA\\\\\n",
       "\t 30 & 1 & 1988-08-18 & 1993-06-30 & 1 & 2.1 & 5.6 & NA & NA & NA & 1990-07-30 & NA & NA & NA & NA\\\\\n",
       "\t ... & ... & ... & ... & ... & ... & ... & ... & ... & ... & ... & ... & ... & ... & ...\\\\\n",
       "\t 141 & 1 & 1990-05-30 & 1993-06-30 & 0 & 1.6 & 5.7 & NA & NA & NA & NA & NA & NA & NA & NA\\\\\n",
       "\t 142 & 0 & 1990-06-19 & 1993-06-30 & 1 & 0.4 & 4.0 & NA & NA & NA & NA & NA & NA & NA & NA\\\\\n",
       "\t 143 & 0 & 1990-07-10 & 1993-06-30 & 1 & 1.0 & 5.2 & NA & NA & NA & 1992-08-11 & NA & NA & NA & NA\\\\\n",
       "\t 144 & 0 & 1990-07-12 & 1991-07-11 & 0 & 1.2 & 5.2 & 1991-07-31 & NA & NA & NA & NA & NA & 1991-07-11 & NA\\\\\n",
       "\t 145 & 0 & 1990-07-12 & 1993-06-30 & 1 & 1.5 & 5.4 & NA & NA & NA & NA & NA & NA & NA & NA\\\\\n",
       "\t 146 & 1 & 1990-07-11 & 1993-06-30 & 0 & 0.7 & 2.9 & NA & NA & NA & NA & NA & NA & NA & 1992-10-22\\\\\n",
       "\t 147 & 1 & 1990-07-18 & 1993-06-30 & 0 & 0.5 & 4.0 & NA & NA & NA & NA & NA & NA & NA & NA\\\\\n",
       "\t 148 & 1 & 1990-08-07 & 1993-06-30 & 0 & 0.3 & 4.2 & NA & NA & NA & NA & NA & NA & NA & NA\\\\\n",
       "\t 149 & 1 & 1990-08-09 & 1993-06-30 & 1 & 0.5 & 4.2 & NA & NA & NA & NA & NA & NA & NA & NA\\\\\n",
       "\t 150 & 0 & 1990-09-12 & 1993-06-30 & 1 & 1.0 & 5.0 & NA & NA & NA & 1992-08-17 & NA & NA & NA & NA\\\\\n",
       "\t 151 & 1 & 1990-03-20 & 1990-03-20 & 0 & 0.7 &  NA & NA & NA & NA & NA & NA & NA & NA & NA\\\\\n",
       "\t 152 & 1 & 1990-08-24 & 1991-01-15 & 1 & 1.7 & 4.6 & NA & 1991-01-15 & NA & NA & NA & NA & NA & NA\\\\\n",
       "\t 153 & 0 & 1990-06-27 & 1991-02-15 & 1 & 0.8 & 3.3 & NA & NA & NA & NA & NA & NA & NA & NA\\\\\n",
       "\t 154 & 0 & 1990-10-29 & 1993-06-30 & 1 & 4.2 & 5.1 & NA & NA & 1992-06-24 & 1992-06-24 & NA & NA & NA & NA\\\\\n",
       "\t 155 & 0 & 1990-11-02 & 1993-06-30 & 0 & 0.4 & 4.4 & NA & NA & NA & NA & NA & NA & NA & NA\\\\\n",
       "\t 156 & 1 & 1990-11-27 & 1993-06-30 & 0 & 0.5 & 3.9 & NA & NA & NA & NA & NA & NA & NA & NA\\\\\n",
       "\t 157 & 0 & 1990-11-28 & 1993-06-30 & 1 & 2.7 & 6.0 & NA & NA & NA & NA & NA & NA & 1992-09-29 & NA\\\\\n",
       "\t 158 & 0 & 1990-11-27 & 1993-06-30 & 0 & 0.6 & 4.8 & NA & NA & NA & NA & NA & NA & NA & NA\\\\\n",
       "\t 159 & 0 & 1990-12-06 & 1993-04-08 & 1 & 2.0 & 6.1 & NA & NA & NA & NA & 1991-12-16 & NA & NA & NA\\\\\n",
       "\t 160 & 1 & 1990-12-06 & 1993-06-30 & 1 & 1.5 & 5.3 & NA & NA & NA & NA & NA & 1992-10-19 & NA & 1992-10-19\\\\\n",
       "\t 161 & 1 & 1990-12-06 & 1993-06-30 & 1 & 0.6 & 4.7 & NA & NA & NA & NA & NA & NA & NA & NA\\\\\n",
       "\t 162 & 1 & 1991-01-07 & 1993-06-30 & 0 & 1.8 & 5.7 & NA & NA & NA & NA & NA & NA & NA & NA\\\\\n",
       "\t 163 & 0 & 1991-01-16 & 1993-06-30 & 0 & 0.4 & 3.8 & NA & NA & 1993-04-07 & NA & NA & NA & NA & NA\\\\\n",
       "\t 164 & 1 & 1991-01-24 & 1993-06-30 & 1 & 3.2 & 5.5 & NA & NA & NA & NA & NA & NA & NA & NA\\\\\n",
       "\t 165 & 0 & 1991-01-31 & 1993-06-30 & 1 & 1.7 & 6.2 & NA & NA & NA & NA & 1993-03-17 & NA & NA & NA\\\\\n",
       "\t 166 & 0 & 1991-02-13 & 1993-06-30 & 1 & 0.5 & 4.4 & NA & NA & NA & NA & NA & NA & NA & NA\\\\\n",
       "\t 167 & 1 & 1991-03-07 & 1993-06-30 & 0 & 0.7 & 3.8 & NA & NA & NA & NA & NA & NA & NA & 1993-05-25\\\\\n",
       "\t 168 & 1 & 1991-03-28 & 1993-06-30 & 1 & 0.9 & 4.0 & NA & NA & NA & NA & NA & NA & NA & NA\\\\\n",
       "\t 169 & 0 & 1991-04-19 & 1993-06-30 & 0 & 1.0 & 5.1 & NA & NA & NA & NA & NA & NA & NA & NA\\\\\n",
       "\t 170 & 1 & 1991-05-01 & 1993-06-30 & 0 & 0.4 & 4.2 & NA & NA & NA & NA & NA & NA & NA & NA\\\\\n",
       "\\end{tabular}\n"
      ],
      "text/markdown": [
       "\n",
       "A data.frame: 170 × 15\n",
       "\n",
       "| id &lt;int&gt; | trt &lt;int&gt; | entry.dt &lt;date&gt; | last.dt &lt;date&gt; | stage &lt;int&gt; | bili &lt;dbl&gt; | riskscore &lt;dbl&gt; | death.dt &lt;date&gt; | tx.dt &lt;date&gt; | hprogress.dt &lt;date&gt; | varices.dt &lt;date&gt; | ascites.dt &lt;date&gt; | enceph.dt &lt;date&gt; | double.dt &lt;date&gt; | worsen.dt &lt;date&gt; |\n",
       "|---|---|---|---|---|---|---|---|---|---|---|---|---|---|---|\n",
       "|  1 | 1 | 1988-04-21 | 1993-06-30 | 1 | 1.0 | 5.1 | NA | NA | NA | NA | NA | NA | NA | NA |\n",
       "|  2 | 0 | 1988-04-27 | 1993-06-30 | 1 | 1.7 | 4.2 | NA | NA | NA | NA | NA | NA | NA | 1992-04-22 |\n",
       "|  3 | 1 | 1988-04-25 | 1993-06-30 | 0 | 0.5 | 3.4 | NA | NA | NA | NA | NA | NA | NA | NA |\n",
       "|  4 | 1 | 1988-04-27 | 1989-04-05 | 1 | 1.4 | 5.0 | NA | NA | NA | NA | NA | NA | NA | NA |\n",
       "|  5 | 0 | 1988-05-12 | 1993-06-30 | 1 | 1.1 | 4.3 | NA | NA | NA | NA | NA | NA | NA | NA |\n",
       "|  6 | 1 | 1988-05-18 | 1990-06-25 | 1 | 1.4 | 5.9 | 1992-01-24 | NA | NA | 1990-06-25 | NA | NA | NA | NA |\n",
       "|  7 | 0 | 1988-05-18 | 1993-06-30 | 1 | 0.6 | 3.8 | NA | NA | NA | NA | NA | NA | NA | NA |\n",
       "|  8 | 0 | 1988-05-25 | 1990-07-02 | 1 | 5.1 | 7.4 | 1990-07-22 | NA | NA | NA | 1990-07-02 | 1990-07-02 | 1990-07-02 | 1990-07-02 |\n",
       "|  9 | 0 | 1988-05-27 | 1992-08-26 | 1 | 1.6 | 5.3 | NA | NA | NA | NA | NA | NA | NA | NA |\n",
       "| 10 | 1 | 1988-05-26 | 1993-06-30 | 0 | 0.5 | 4.0 | NA | NA | NA | 1990-05-31 | NA | NA | NA | NA |\n",
       "| 11 | 1 | 1988-06-10 | 1993-06-30 | 1 | 1.7 | 4.5 | NA | NA | NA | NA | NA | NA | NA | NA |\n",
       "| 12 | 1 | 1988-06-16 | 1991-06-20 | 0 | 4.1 | 7.1 | 1991-07-07 | NA | NA | NA | NA | 1991-06-20 | NA | 1991-06-20 |\n",
       "| 13 | 0 | 1988-06-03 | 1991-04-03 | 0 | 0.5 | 3.5 | NA | NA | NA | NA | NA | NA | NA | 1991-04-03 |\n",
       "| 14 | 0 | 1988-06-15 | 1991-12-02 | 0 | 1.4 | 4.6 | NA | NA | 1991-12-02 | 1990-06-11 | NA | NA | 1989-06-12 | NA |\n",
       "| 15 | 1 | 1988-06-22 | 1993-06-30 | 1 | 1.0 | 4.6 | NA | NA | NA | NA | NA | NA | NA | NA |\n",
       "| 16 | 0 | 1988-06-22 | 1993-06-30 | 1 | 1.3 | 5.3 | NA | NA | NA | NA | NA | NA | NA | NA |\n",
       "| 17 | 0 | 1988-06-28 | 1993-06-30 | 1 | 0.8 | 4.8 | NA | NA | 1990-07-18 | NA | NA | NA | NA | NA |\n",
       "| 18 | 0 | 1988-06-29 | 1990-08-01 | 1 | 1.2 | 4.2 | NA | NA | NA | 1990-08-01 | NA | NA | 1989-07-25 | 1989-07-25 |\n",
       "| 19 | 1 | 1988-06-30 | 1993-06-30 | 1 | 2.2 | 6.3 | NA | NA | NA | NA | NA | NA | NA | NA |\n",
       "| 20 | 0 | 1988-06-30 | 1991-03-19 | 1 | 3.3 | 6.5 | NA | 1991-06-06 | NA | NA | NA | NA | NA | NA |\n",
       "| 21 | 1 | 1988-07-05 | 1992-08-11 | 1 | 3.8 | 5.8 | 1992-08-11 | NA | 1990-10-09 | NA | NA | NA | NA | NA |\n",
       "| 22 | 1 | 1988-07-22 | 1993-06-30 | 1 | 1.7 | 4.7 | NA | NA | NA | NA | NA | NA | NA | NA |\n",
       "| 23 | 1 | 1988-07-20 | 1992-08-15 | 1 | 0.5 | 4.9 | NA | NA | NA | NA | NA | NA | NA | NA |\n",
       "| 24 | 0 | 1988-07-28 | 1993-06-30 | 1 | 3.4 | 5.6 | NA | NA | NA | 1990-08-01 | NA | NA | NA | NA |\n",
       "| 25 | 0 | 1988-07-26 | 1993-06-30 | 1 | 0.6 | 4.7 | NA | NA | NA | 1992-09-14 | NA | NA | NA | NA |\n",
       "| 26 | 0 | 1988-07-27 | 1992-11-01 | 1 | 0.7 | 3.0 | NA | 1993-05-05 | 1990-08-06 | 1990-08-06 | NA | NA | 1989-08-01 | 1992-08-18 |\n",
       "| 27 | 1 | 1988-07-29 | 1993-06-30 | 0 | 1.6 | 5.7 | NA | NA | 1990-07-30 | NA | NA | NA | NA | NA |\n",
       "| 28 | 1 | 1988-07-28 | 1990-04-22 | 1 | 2.7 | 5.9 | NA | 1990-04-22 | NA | NA | NA | NA | NA | NA |\n",
       "| 29 | 0 | 1988-07-27 | 1993-06-30 | 0 | 0.7 | 4.6 | NA | NA | 1990-06-12 | 1990-06-12 | NA | NA | NA | NA |\n",
       "| 30 | 1 | 1988-08-18 | 1993-06-30 | 1 | 2.1 | 5.6 | NA | NA | NA | 1990-07-30 | NA | NA | NA | NA |\n",
       "| ... | ... | ... | ... | ... | ... | ... | ... | ... | ... | ... | ... | ... | ... | ... |\n",
       "| 141 | 1 | 1990-05-30 | 1993-06-30 | 0 | 1.6 | 5.7 | NA | NA | NA | NA | NA | NA | NA | NA |\n",
       "| 142 | 0 | 1990-06-19 | 1993-06-30 | 1 | 0.4 | 4.0 | NA | NA | NA | NA | NA | NA | NA | NA |\n",
       "| 143 | 0 | 1990-07-10 | 1993-06-30 | 1 | 1.0 | 5.2 | NA | NA | NA | 1992-08-11 | NA | NA | NA | NA |\n",
       "| 144 | 0 | 1990-07-12 | 1991-07-11 | 0 | 1.2 | 5.2 | 1991-07-31 | NA | NA | NA | NA | NA | 1991-07-11 | NA |\n",
       "| 145 | 0 | 1990-07-12 | 1993-06-30 | 1 | 1.5 | 5.4 | NA | NA | NA | NA | NA | NA | NA | NA |\n",
       "| 146 | 1 | 1990-07-11 | 1993-06-30 | 0 | 0.7 | 2.9 | NA | NA | NA | NA | NA | NA | NA | 1992-10-22 |\n",
       "| 147 | 1 | 1990-07-18 | 1993-06-30 | 0 | 0.5 | 4.0 | NA | NA | NA | NA | NA | NA | NA | NA |\n",
       "| 148 | 1 | 1990-08-07 | 1993-06-30 | 0 | 0.3 | 4.2 | NA | NA | NA | NA | NA | NA | NA | NA |\n",
       "| 149 | 1 | 1990-08-09 | 1993-06-30 | 1 | 0.5 | 4.2 | NA | NA | NA | NA | NA | NA | NA | NA |\n",
       "| 150 | 0 | 1990-09-12 | 1993-06-30 | 1 | 1.0 | 5.0 | NA | NA | NA | 1992-08-17 | NA | NA | NA | NA |\n",
       "| 151 | 1 | 1990-03-20 | 1990-03-20 | 0 | 0.7 |  NA | NA | NA | NA | NA | NA | NA | NA | NA |\n",
       "| 152 | 1 | 1990-08-24 | 1991-01-15 | 1 | 1.7 | 4.6 | NA | 1991-01-15 | NA | NA | NA | NA | NA | NA |\n",
       "| 153 | 0 | 1990-06-27 | 1991-02-15 | 1 | 0.8 | 3.3 | NA | NA | NA | NA | NA | NA | NA | NA |\n",
       "| 154 | 0 | 1990-10-29 | 1993-06-30 | 1 | 4.2 | 5.1 | NA | NA | 1992-06-24 | 1992-06-24 | NA | NA | NA | NA |\n",
       "| 155 | 0 | 1990-11-02 | 1993-06-30 | 0 | 0.4 | 4.4 | NA | NA | NA | NA | NA | NA | NA | NA |\n",
       "| 156 | 1 | 1990-11-27 | 1993-06-30 | 0 | 0.5 | 3.9 | NA | NA | NA | NA | NA | NA | NA | NA |\n",
       "| 157 | 0 | 1990-11-28 | 1993-06-30 | 1 | 2.7 | 6.0 | NA | NA | NA | NA | NA | NA | 1992-09-29 | NA |\n",
       "| 158 | 0 | 1990-11-27 | 1993-06-30 | 0 | 0.6 | 4.8 | NA | NA | NA | NA | NA | NA | NA | NA |\n",
       "| 159 | 0 | 1990-12-06 | 1993-04-08 | 1 | 2.0 | 6.1 | NA | NA | NA | NA | 1991-12-16 | NA | NA | NA |\n",
       "| 160 | 1 | 1990-12-06 | 1993-06-30 | 1 | 1.5 | 5.3 | NA | NA | NA | NA | NA | 1992-10-19 | NA | 1992-10-19 |\n",
       "| 161 | 1 | 1990-12-06 | 1993-06-30 | 1 | 0.6 | 4.7 | NA | NA | NA | NA | NA | NA | NA | NA |\n",
       "| 162 | 1 | 1991-01-07 | 1993-06-30 | 0 | 1.8 | 5.7 | NA | NA | NA | NA | NA | NA | NA | NA |\n",
       "| 163 | 0 | 1991-01-16 | 1993-06-30 | 0 | 0.4 | 3.8 | NA | NA | 1993-04-07 | NA | NA | NA | NA | NA |\n",
       "| 164 | 1 | 1991-01-24 | 1993-06-30 | 1 | 3.2 | 5.5 | NA | NA | NA | NA | NA | NA | NA | NA |\n",
       "| 165 | 0 | 1991-01-31 | 1993-06-30 | 1 | 1.7 | 6.2 | NA | NA | NA | NA | 1993-03-17 | NA | NA | NA |\n",
       "| 166 | 0 | 1991-02-13 | 1993-06-30 | 1 | 0.5 | 4.4 | NA | NA | NA | NA | NA | NA | NA | NA |\n",
       "| 167 | 1 | 1991-03-07 | 1993-06-30 | 0 | 0.7 | 3.8 | NA | NA | NA | NA | NA | NA | NA | 1993-05-25 |\n",
       "| 168 | 1 | 1991-03-28 | 1993-06-30 | 1 | 0.9 | 4.0 | NA | NA | NA | NA | NA | NA | NA | NA |\n",
       "| 169 | 0 | 1991-04-19 | 1993-06-30 | 0 | 1.0 | 5.1 | NA | NA | NA | NA | NA | NA | NA | NA |\n",
       "| 170 | 1 | 1991-05-01 | 1993-06-30 | 0 | 0.4 | 4.2 | NA | NA | NA | NA | NA | NA | NA | NA |\n",
       "\n"
      ],
      "text/plain": [
       "    id  trt entry.dt   last.dt    stage bili riskscore death.dt   tx.dt     \n",
       "1    1  1   1988-04-21 1993-06-30 1     1.0  5.1       <NA>       <NA>      \n",
       "2    2  0   1988-04-27 1993-06-30 1     1.7  4.2       <NA>       <NA>      \n",
       "3    3  1   1988-04-25 1993-06-30 0     0.5  3.4       <NA>       <NA>      \n",
       "4    4  1   1988-04-27 1989-04-05 1     1.4  5.0       <NA>       <NA>      \n",
       "5    5  0   1988-05-12 1993-06-30 1     1.1  4.3       <NA>       <NA>      \n",
       "6    6  1   1988-05-18 1990-06-25 1     1.4  5.9       1992-01-24 <NA>      \n",
       "7    7  0   1988-05-18 1993-06-30 1     0.6  3.8       <NA>       <NA>      \n",
       "8    8  0   1988-05-25 1990-07-02 1     5.1  7.4       1990-07-22 <NA>      \n",
       "9    9  0   1988-05-27 1992-08-26 1     1.6  5.3       <NA>       <NA>      \n",
       "10  10  1   1988-05-26 1993-06-30 0     0.5  4.0       <NA>       <NA>      \n",
       "11  11  1   1988-06-10 1993-06-30 1     1.7  4.5       <NA>       <NA>      \n",
       "12  12  1   1988-06-16 1991-06-20 0     4.1  7.1       1991-07-07 <NA>      \n",
       "13  13  0   1988-06-03 1991-04-03 0     0.5  3.5       <NA>       <NA>      \n",
       "14  14  0   1988-06-15 1991-12-02 0     1.4  4.6       <NA>       <NA>      \n",
       "15  15  1   1988-06-22 1993-06-30 1     1.0  4.6       <NA>       <NA>      \n",
       "16  16  0   1988-06-22 1993-06-30 1     1.3  5.3       <NA>       <NA>      \n",
       "17  17  0   1988-06-28 1993-06-30 1     0.8  4.8       <NA>       <NA>      \n",
       "18  18  0   1988-06-29 1990-08-01 1     1.2  4.2       <NA>       <NA>      \n",
       "19  19  1   1988-06-30 1993-06-30 1     2.2  6.3       <NA>       <NA>      \n",
       "20  20  0   1988-06-30 1991-03-19 1     3.3  6.5       <NA>       1991-06-06\n",
       "21  21  1   1988-07-05 1992-08-11 1     3.8  5.8       1992-08-11 <NA>      \n",
       "22  22  1   1988-07-22 1993-06-30 1     1.7  4.7       <NA>       <NA>      \n",
       "23  23  1   1988-07-20 1992-08-15 1     0.5  4.9       <NA>       <NA>      \n",
       "24  24  0   1988-07-28 1993-06-30 1     3.4  5.6       <NA>       <NA>      \n",
       "25  25  0   1988-07-26 1993-06-30 1     0.6  4.7       <NA>       <NA>      \n",
       "26  26  0   1988-07-27 1992-11-01 1     0.7  3.0       <NA>       1993-05-05\n",
       "27  27  1   1988-07-29 1993-06-30 0     1.6  5.7       <NA>       <NA>      \n",
       "28  28  1   1988-07-28 1990-04-22 1     2.7  5.9       <NA>       1990-04-22\n",
       "29  29  0   1988-07-27 1993-06-30 0     0.7  4.6       <NA>       <NA>      \n",
       "30  30  1   1988-08-18 1993-06-30 1     2.1  5.6       <NA>       <NA>      \n",
       "... ... ... ...        ...        ...   ...  ...       ...        ...       \n",
       "141 141 1   1990-05-30 1993-06-30 0     1.6  5.7       <NA>       <NA>      \n",
       "142 142 0   1990-06-19 1993-06-30 1     0.4  4.0       <NA>       <NA>      \n",
       "143 143 0   1990-07-10 1993-06-30 1     1.0  5.2       <NA>       <NA>      \n",
       "144 144 0   1990-07-12 1991-07-11 0     1.2  5.2       1991-07-31 <NA>      \n",
       "145 145 0   1990-07-12 1993-06-30 1     1.5  5.4       <NA>       <NA>      \n",
       "146 146 1   1990-07-11 1993-06-30 0     0.7  2.9       <NA>       <NA>      \n",
       "147 147 1   1990-07-18 1993-06-30 0     0.5  4.0       <NA>       <NA>      \n",
       "148 148 1   1990-08-07 1993-06-30 0     0.3  4.2       <NA>       <NA>      \n",
       "149 149 1   1990-08-09 1993-06-30 1     0.5  4.2       <NA>       <NA>      \n",
       "150 150 0   1990-09-12 1993-06-30 1     1.0  5.0       <NA>       <NA>      \n",
       "151 151 1   1990-03-20 1990-03-20 0     0.7   NA       <NA>       <NA>      \n",
       "152 152 1   1990-08-24 1991-01-15 1     1.7  4.6       <NA>       1991-01-15\n",
       "153 153 0   1990-06-27 1991-02-15 1     0.8  3.3       <NA>       <NA>      \n",
       "154 154 0   1990-10-29 1993-06-30 1     4.2  5.1       <NA>       <NA>      \n",
       "155 155 0   1990-11-02 1993-06-30 0     0.4  4.4       <NA>       <NA>      \n",
       "156 156 1   1990-11-27 1993-06-30 0     0.5  3.9       <NA>       <NA>      \n",
       "157 157 0   1990-11-28 1993-06-30 1     2.7  6.0       <NA>       <NA>      \n",
       "158 158 0   1990-11-27 1993-06-30 0     0.6  4.8       <NA>       <NA>      \n",
       "159 159 0   1990-12-06 1993-04-08 1     2.0  6.1       <NA>       <NA>      \n",
       "160 160 1   1990-12-06 1993-06-30 1     1.5  5.3       <NA>       <NA>      \n",
       "161 161 1   1990-12-06 1993-06-30 1     0.6  4.7       <NA>       <NA>      \n",
       "162 162 1   1991-01-07 1993-06-30 0     1.8  5.7       <NA>       <NA>      \n",
       "163 163 0   1991-01-16 1993-06-30 0     0.4  3.8       <NA>       <NA>      \n",
       "164 164 1   1991-01-24 1993-06-30 1     3.2  5.5       <NA>       <NA>      \n",
       "165 165 0   1991-01-31 1993-06-30 1     1.7  6.2       <NA>       <NA>      \n",
       "166 166 0   1991-02-13 1993-06-30 1     0.5  4.4       <NA>       <NA>      \n",
       "167 167 1   1991-03-07 1993-06-30 0     0.7  3.8       <NA>       <NA>      \n",
       "168 168 1   1991-03-28 1993-06-30 1     0.9  4.0       <NA>       <NA>      \n",
       "169 169 0   1991-04-19 1993-06-30 0     1.0  5.1       <NA>       <NA>      \n",
       "170 170 1   1991-05-01 1993-06-30 0     0.4  4.2       <NA>       <NA>      \n",
       "    hprogress.dt varices.dt ascites.dt enceph.dt  double.dt  worsen.dt \n",
       "1   <NA>         <NA>       <NA>       <NA>       <NA>       <NA>      \n",
       "2   <NA>         <NA>       <NA>       <NA>       <NA>       1992-04-22\n",
       "3   <NA>         <NA>       <NA>       <NA>       <NA>       <NA>      \n",
       "4   <NA>         <NA>       <NA>       <NA>       <NA>       <NA>      \n",
       "5   <NA>         <NA>       <NA>       <NA>       <NA>       <NA>      \n",
       "6   <NA>         1990-06-25 <NA>       <NA>       <NA>       <NA>      \n",
       "7   <NA>         <NA>       <NA>       <NA>       <NA>       <NA>      \n",
       "8   <NA>         <NA>       1990-07-02 1990-07-02 1990-07-02 1990-07-02\n",
       "9   <NA>         <NA>       <NA>       <NA>       <NA>       <NA>      \n",
       "10  <NA>         1990-05-31 <NA>       <NA>       <NA>       <NA>      \n",
       "11  <NA>         <NA>       <NA>       <NA>       <NA>       <NA>      \n",
       "12  <NA>         <NA>       <NA>       1991-06-20 <NA>       1991-06-20\n",
       "13  <NA>         <NA>       <NA>       <NA>       <NA>       1991-04-03\n",
       "14  1991-12-02   1990-06-11 <NA>       <NA>       1989-06-12 <NA>      \n",
       "15  <NA>         <NA>       <NA>       <NA>       <NA>       <NA>      \n",
       "16  <NA>         <NA>       <NA>       <NA>       <NA>       <NA>      \n",
       "17  1990-07-18   <NA>       <NA>       <NA>       <NA>       <NA>      \n",
       "18  <NA>         1990-08-01 <NA>       <NA>       1989-07-25 1989-07-25\n",
       "19  <NA>         <NA>       <NA>       <NA>       <NA>       <NA>      \n",
       "20  <NA>         <NA>       <NA>       <NA>       <NA>       <NA>      \n",
       "21  1990-10-09   <NA>       <NA>       <NA>       <NA>       <NA>      \n",
       "22  <NA>         <NA>       <NA>       <NA>       <NA>       <NA>      \n",
       "23  <NA>         <NA>       <NA>       <NA>       <NA>       <NA>      \n",
       "24  <NA>         1990-08-01 <NA>       <NA>       <NA>       <NA>      \n",
       "25  <NA>         1992-09-14 <NA>       <NA>       <NA>       <NA>      \n",
       "26  1990-08-06   1990-08-06 <NA>       <NA>       1989-08-01 1992-08-18\n",
       "27  1990-07-30   <NA>       <NA>       <NA>       <NA>       <NA>      \n",
       "28  <NA>         <NA>       <NA>       <NA>       <NA>       <NA>      \n",
       "29  1990-06-12   1990-06-12 <NA>       <NA>       <NA>       <NA>      \n",
       "30  <NA>         1990-07-30 <NA>       <NA>       <NA>       <NA>      \n",
       "... ...          ...        ...        ...        ...        ...       \n",
       "141 <NA>         <NA>       <NA>       <NA>       <NA>       <NA>      \n",
       "142 <NA>         <NA>       <NA>       <NA>       <NA>       <NA>      \n",
       "143 <NA>         1992-08-11 <NA>       <NA>       <NA>       <NA>      \n",
       "144 <NA>         <NA>       <NA>       <NA>       1991-07-11 <NA>      \n",
       "145 <NA>         <NA>       <NA>       <NA>       <NA>       <NA>      \n",
       "146 <NA>         <NA>       <NA>       <NA>       <NA>       1992-10-22\n",
       "147 <NA>         <NA>       <NA>       <NA>       <NA>       <NA>      \n",
       "148 <NA>         <NA>       <NA>       <NA>       <NA>       <NA>      \n",
       "149 <NA>         <NA>       <NA>       <NA>       <NA>       <NA>      \n",
       "150 <NA>         1992-08-17 <NA>       <NA>       <NA>       <NA>      \n",
       "151 <NA>         <NA>       <NA>       <NA>       <NA>       <NA>      \n",
       "152 <NA>         <NA>       <NA>       <NA>       <NA>       <NA>      \n",
       "153 <NA>         <NA>       <NA>       <NA>       <NA>       <NA>      \n",
       "154 1992-06-24   1992-06-24 <NA>       <NA>       <NA>       <NA>      \n",
       "155 <NA>         <NA>       <NA>       <NA>       <NA>       <NA>      \n",
       "156 <NA>         <NA>       <NA>       <NA>       <NA>       <NA>      \n",
       "157 <NA>         <NA>       <NA>       <NA>       1992-09-29 <NA>      \n",
       "158 <NA>         <NA>       <NA>       <NA>       <NA>       <NA>      \n",
       "159 <NA>         <NA>       1991-12-16 <NA>       <NA>       <NA>      \n",
       "160 <NA>         <NA>       <NA>       1992-10-19 <NA>       1992-10-19\n",
       "161 <NA>         <NA>       <NA>       <NA>       <NA>       <NA>      \n",
       "162 <NA>         <NA>       <NA>       <NA>       <NA>       <NA>      \n",
       "163 1993-04-07   <NA>       <NA>       <NA>       <NA>       <NA>      \n",
       "164 <NA>         <NA>       <NA>       <NA>       <NA>       <NA>      \n",
       "165 <NA>         <NA>       1993-03-17 <NA>       <NA>       <NA>      \n",
       "166 <NA>         <NA>       <NA>       <NA>       <NA>       <NA>      \n",
       "167 <NA>         <NA>       <NA>       <NA>       <NA>       1993-05-25\n",
       "168 <NA>         <NA>       <NA>       <NA>       <NA>       <NA>      \n",
       "169 <NA>         <NA>       <NA>       <NA>       <NA>       <NA>      \n",
       "170 <NA>         <NA>       <NA>       <NA>       <NA>       <NA>      "
      ]
     },
     "metadata": {},
     "output_type": "display_data"
    }
   ],
   "source": [
    "udca"
   ]
  },
  {
   "cell_type": "code",
   "execution_count": 4,
   "metadata": {},
   "outputs": [
    {
     "name": "stderr",
     "output_type": "stream",
     "text": [
      "Warning message in data(udca1):\n",
      "\"data set 'udca1' not found\"\n"
     ]
    }
   ],
   "source": [
    "data(udca1)"
   ]
  },
  {
   "cell_type": "code",
   "execution_count": 5,
   "metadata": {},
   "outputs": [
    {
     "data": {
      "text/html": [
       "<table class=\"dataframe\">\n",
       "<caption>A data.frame: 6 × 7</caption>\n",
       "<thead>\n",
       "\t<tr><th></th><th scope=col>id</th><th scope=col>trt</th><th scope=col>stage</th><th scope=col>bili</th><th scope=col>riskscore</th><th scope=col>futime</th><th scope=col>status</th></tr>\n",
       "\t<tr><th></th><th scope=col>&lt;int&gt;</th><th scope=col>&lt;int&gt;</th><th scope=col>&lt;int&gt;</th><th scope=col>&lt;dbl&gt;</th><th scope=col>&lt;dbl&gt;</th><th scope=col>&lt;dbl&gt;</th><th scope=col>&lt;dbl&gt;</th></tr>\n",
       "</thead>\n",
       "<tbody>\n",
       "\t<tr><th scope=row>1</th><td>1</td><td>1</td><td>1</td><td>1.0</td><td>5.1</td><td>1896</td><td>0</td></tr>\n",
       "\t<tr><th scope=row>2</th><td>2</td><td>0</td><td>1</td><td>1.7</td><td>4.2</td><td>1456</td><td>1</td></tr>\n",
       "\t<tr><th scope=row>3</th><td>3</td><td>1</td><td>0</td><td>0.5</td><td>3.4</td><td>1892</td><td>0</td></tr>\n",
       "\t<tr><th scope=row>4</th><td>4</td><td>1</td><td>1</td><td>1.4</td><td>5.0</td><td> 343</td><td>0</td></tr>\n",
       "\t<tr><th scope=row>5</th><td>5</td><td>0</td><td>1</td><td>1.1</td><td>4.3</td><td>1875</td><td>0</td></tr>\n",
       "\t<tr><th scope=row>6</th><td>6</td><td>1</td><td>1</td><td>1.4</td><td>5.9</td><td> 768</td><td>1</td></tr>\n",
       "</tbody>\n",
       "</table>\n"
      ],
      "text/latex": [
       "A data.frame: 6 × 7\n",
       "\\begin{tabular}{r|lllllll}\n",
       "  & id & trt & stage & bili & riskscore & futime & status\\\\\n",
       "  & <int> & <int> & <int> & <dbl> & <dbl> & <dbl> & <dbl>\\\\\n",
       "\\hline\n",
       "\t1 & 1 & 1 & 1 & 1.0 & 5.1 & 1896 & 0\\\\\n",
       "\t2 & 2 & 0 & 1 & 1.7 & 4.2 & 1456 & 1\\\\\n",
       "\t3 & 3 & 1 & 0 & 0.5 & 3.4 & 1892 & 0\\\\\n",
       "\t4 & 4 & 1 & 1 & 1.4 & 5.0 &  343 & 0\\\\\n",
       "\t5 & 5 & 0 & 1 & 1.1 & 4.3 & 1875 & 0\\\\\n",
       "\t6 & 6 & 1 & 1 & 1.4 & 5.9 &  768 & 1\\\\\n",
       "\\end{tabular}\n"
      ],
      "text/markdown": [
       "\n",
       "A data.frame: 6 × 7\n",
       "\n",
       "| <!--/--> | id &lt;int&gt; | trt &lt;int&gt; | stage &lt;int&gt; | bili &lt;dbl&gt; | riskscore &lt;dbl&gt; | futime &lt;dbl&gt; | status &lt;dbl&gt; |\n",
       "|---|---|---|---|---|---|---|---|\n",
       "| 1 | 1 | 1 | 1 | 1.0 | 5.1 | 1896 | 0 |\n",
       "| 2 | 2 | 0 | 1 | 1.7 | 4.2 | 1456 | 1 |\n",
       "| 3 | 3 | 1 | 0 | 0.5 | 3.4 | 1892 | 0 |\n",
       "| 4 | 4 | 1 | 1 | 1.4 | 5.0 |  343 | 0 |\n",
       "| 5 | 5 | 0 | 1 | 1.1 | 4.3 | 1875 | 0 |\n",
       "| 6 | 6 | 1 | 1 | 1.4 | 5.9 |  768 | 1 |\n",
       "\n"
      ],
      "text/plain": [
       "  id trt stage bili riskscore futime status\n",
       "1 1  1   1     1.0  5.1       1896   0     \n",
       "2 2  0   1     1.7  4.2       1456   1     \n",
       "3 3  1   0     0.5  3.4       1892   0     \n",
       "4 4  1   1     1.4  5.0        343   0     \n",
       "5 5  0   1     1.1  4.3       1875   0     \n",
       "6 6  1   1     1.4  5.9        768   1     "
      ]
     },
     "metadata": {},
     "output_type": "display_data"
    }
   ],
   "source": [
    "head(udca1)"
   ]
  },
  {
   "cell_type": "markdown",
   "metadata": {},
   "source": [
    "**Descripción de datos.**"
   ]
  },
  {
   "cell_type": "code",
   "execution_count": 6,
   "metadata": {},
   "outputs": [
    {
     "data": {
      "text/html": [
       "<style>\n",
       ".list-inline {list-style: none; margin:0; padding: 0}\n",
       ".list-inline>li {display: inline-block}\n",
       ".list-inline>li:not(:last-child)::after {content: \"\\00b7\"; padding: 0 .5ex}\n",
       "</style>\n",
       "<ol class=list-inline><li>170</li><li>7</li></ol>\n"
      ],
      "text/latex": [
       "\\begin{enumerate*}\n",
       "\\item 170\n",
       "\\item 7\n",
       "\\end{enumerate*}\n"
      ],
      "text/markdown": [
       "1. 170\n",
       "2. 7\n",
       "\n",
       "\n"
      ],
      "text/plain": [
       "[1] 170   7"
      ]
     },
     "metadata": {},
     "output_type": "display_data"
    },
    {
     "data": {
      "text/html": [
       "'data.frame'"
      ],
      "text/latex": [
       "'data.frame'"
      ],
      "text/markdown": [
       "'data.frame'"
      ],
      "text/plain": [
       "[1] \"data.frame\""
      ]
     },
     "metadata": {},
     "output_type": "display_data"
    }
   ],
   "source": [
    "dim(udca1) \n",
    "class(udca1) "
   ]
  },
  {
   "cell_type": "code",
   "execution_count": 7,
   "metadata": {},
   "outputs": [],
   "source": [
    "help(udca1)"
   ]
  },
  {
   "cell_type": "markdown",
   "metadata": {},
   "source": [
    "**Limpieza de datos.**"
   ]
  },
  {
   "cell_type": "markdown",
   "metadata": {},
   "source": [
    "**Revisión de NA´s,**"
   ]
  },
  {
   "cell_type": "code",
   "execution_count": 8,
   "metadata": {},
   "outputs": [
    {
     "data": {
      "text/html": [
       "1"
      ],
      "text/latex": [
       "1"
      ],
      "text/markdown": [
       "1"
      ],
      "text/plain": [
       "[1] 1"
      ]
     },
     "metadata": {},
     "output_type": "display_data"
    }
   ],
   "source": [
    "sum(is.na(udca1))"
   ]
  },
  {
   "cell_type": "code",
   "execution_count": 9,
   "metadata": {},
   "outputs": [
    {
     "data": {
      "text/html": [
       "<style>\n",
       ".dl-inline {width: auto; margin:0; padding: 0}\n",
       ".dl-inline>dt, .dl-inline>dd {float: none; width: auto; display: inline-block}\n",
       ".dl-inline>dt::after {content: \":\\0020\"; padding-right: .5ex}\n",
       ".dl-inline>dt:not(:first-of-type) {padding-left: .5ex}\n",
       "</style><dl class=dl-inline><dt>id</dt><dd>0</dd><dt>trt</dt><dd>0</dd><dt>stage</dt><dd>0</dd><dt>bili</dt><dd>0</dd><dt>riskscore</dt><dd>1</dd><dt>futime</dt><dd>0</dd><dt>status</dt><dd>0</dd></dl>\n"
      ],
      "text/latex": [
       "\\begin{description*}\n",
       "\\item[id] 0\n",
       "\\item[trt] 0\n",
       "\\item[stage] 0\n",
       "\\item[bili] 0\n",
       "\\item[riskscore] 1\n",
       "\\item[futime] 0\n",
       "\\item[status] 0\n",
       "\\end{description*}\n"
      ],
      "text/markdown": [
       "id\n",
       ":   0trt\n",
       ":   0stage\n",
       ":   0bili\n",
       ":   0riskscore\n",
       ":   1futime\n",
       ":   0status\n",
       ":   0\n",
       "\n"
      ],
      "text/plain": [
       "       id       trt     stage      bili riskscore    futime    status \n",
       "        0         0         0         0         1         0         0 "
      ]
     },
     "metadata": {},
     "output_type": "display_data"
    }
   ],
   "source": [
    "sapply(udca1, function(x) sum(is.na(x)))"
   ]
  },
  {
   "cell_type": "markdown",
   "metadata": {},
   "source": [
    "*Hay un NA es riskscore.*"
   ]
  },
  {
   "cell_type": "code",
   "execution_count": 10,
   "metadata": {},
   "outputs": [],
   "source": [
    "udca1<-na.omit(udca1)"
   ]
  },
  {
   "cell_type": "markdown",
   "metadata": {},
   "source": [
    "**Nota:** Se omite ese dato NA, para el análisis de la base."
   ]
  },
  {
   "cell_type": "code",
   "execution_count": 11,
   "metadata": {},
   "outputs": [
    {
     "data": {
      "text/html": [
       "0"
      ],
      "text/latex": [
       "0"
      ],
      "text/markdown": [
       "0"
      ],
      "text/plain": [
       "[1] 0"
      ]
     },
     "metadata": {},
     "output_type": "display_data"
    }
   ],
   "source": [
    "sum(is.na(udca1))"
   ]
  },
  {
   "cell_type": "markdown",
   "metadata": {},
   "source": [
    "## Objetivos."
   ]
  },
  {
   "cell_type": "markdown",
   "metadata": {},
   "source": [
    "* Determinar si hay diferencia significativa en la sobrevivencia del hígado al que se le dio como tratamiento UDCA de los que tomaron el placebo.  \n"
   ]
  },
  {
   "cell_type": "markdown",
   "metadata": {},
   "source": [
    "## Análisis."
   ]
  },
  {
   "cell_type": "markdown",
   "metadata": {},
   "source": [
    "### Análisis descriptivo de los datos."
   ]
  },
  {
   "cell_type": "markdown",
   "metadata": {},
   "source": [
    "**Número de eventos de interés.**"
   ]
  },
  {
   "cell_type": "code",
   "execution_count": 12,
   "metadata": {},
   "outputs": [
    {
     "data": {
      "text/html": [
       "97"
      ],
      "text/latex": [
       "97"
      ],
      "text/markdown": [
       "97"
      ],
      "text/plain": [
       "[1] 97"
      ]
     },
     "metadata": {},
     "output_type": "display_data"
    }
   ],
   "source": [
    "length(udca1$status)-sum(udca1$status)"
   ]
  },
  {
   "cell_type": "markdown",
   "metadata": {},
   "source": [
    "**Nota:** De los 170 datos, 97 son de nuestro evento de interés."
   ]
  },
  {
   "cell_type": "markdown",
   "metadata": {},
   "source": [
    "**Promedio de tiempo de eventos.**"
   ]
  },
  {
   "cell_type": "markdown",
   "metadata": {},
   "source": [
    "*Censurados.*"
   ]
  },
  {
   "cell_type": "code",
   "execution_count": 13,
   "metadata": {},
   "outputs": [
    {
     "data": {
      "text/html": [
       "1263.0206185567"
      ],
      "text/latex": [
       "1263.0206185567"
      ],
      "text/markdown": [
       "1263.0206185567"
      ],
      "text/plain": [
       "[1] 1263.021"
      ]
     },
     "metadata": {},
     "output_type": "display_data"
    }
   ],
   "source": [
    "mean(udca1$futime[udca1$status==0])"
   ]
  },
  {
   "cell_type": "markdown",
   "metadata": {},
   "source": [
    "*Evento de interés.*"
   ]
  },
  {
   "cell_type": "code",
   "execution_count": 14,
   "metadata": {},
   "outputs": [
    {
     "data": {
      "text/html": [
       "742.777777777778"
      ],
      "text/latex": [
       "742.777777777778"
      ],
      "text/markdown": [
       "742.777777777778"
      ],
      "text/plain": [
       "[1] 742.7778"
      ]
     },
     "metadata": {},
     "output_type": "display_data"
    }
   ],
   "source": [
    "mean(udca1$futime[udca1$status==1])"
   ]
  },
  {
   "cell_type": "markdown",
   "metadata": {},
   "source": [
    "**Tablas de contingencia.**"
   ]
  },
  {
   "cell_type": "markdown",
   "metadata": {},
   "source": [
    "* **Por tratamiento.**"
   ]
  },
  {
   "cell_type": "markdown",
   "metadata": {},
   "source": [
    "* 0: placebo.\n",
    "* 1: UDCA."
   ]
  },
  {
   "cell_type": "code",
   "execution_count": 15,
   "metadata": {},
   "outputs": [
    {
     "data": {
      "text/plain": [
       "       tratamiento\n",
       "estatus  0  1\n",
       "      0 39 58\n",
       "      1 45 27"
      ]
     },
     "metadata": {},
     "output_type": "display_data"
    }
   ],
   "source": [
    "table(udca1$status,udca1$trt, dnn = c('estatus','tratamiento'))"
   ]
  },
  {
   "cell_type": "code",
   "execution_count": 16,
   "metadata": {},
   "outputs": [
    {
     "data": {
      "text/plain": [
       "tratamiento\n",
       "Placebo    UDCA \n",
       "     84      85 "
      ]
     },
     "metadata": {},
     "output_type": "display_data"
    }
   ],
   "source": [
    "tratamiento <- factor(udca1$trt)\n",
    "levels(tratamiento) <- c('Placebo', 'UDCA')\n",
    "table(tratamiento)"
   ]
  },
  {
   "cell_type": "markdown",
   "metadata": {},
   "source": [
    "**Histogramas.**"
   ]
  },
  {
   "cell_type": "code",
   "execution_count": 17,
   "metadata": {},
   "outputs": [],
   "source": [
    "# Histograma de el tiempo en los eventos de interes."
   ]
  },
  {
   "cell_type": "code",
   "execution_count": null,
   "metadata": {},
   "outputs": [],
   "source": []
  },
  {
   "cell_type": "markdown",
   "metadata": {},
   "source": [
    "**Gráficas de pastel.**"
   ]
  },
  {
   "cell_type": "code",
   "execution_count": 18,
   "metadata": {},
   "outputs": [
    {
     "data": {
      "image/png": "[encoded data removed]",
      "text/plain": [
       "Plot with title \"Proporciones por tratamiento\""
      ]
     },
     "metadata": {
      "image/png": {
       "height": 420,
       "width": 420
      }
     },
     "output_type": "display_data"
    }
   ],
   "source": [
    "pie(table(tratamiento),\n",
    "    col = c('green', 'purple'),\n",
    "   main = 'Proporciones por tratamiento')"
   ]
  },
  {
   "cell_type": "code",
   "execution_count": null,
   "metadata": {},
   "outputs": [],
   "source": []
  },
  {
   "cell_type": "markdown",
   "metadata": {},
   "source": [
    "### Análisis de regresión para selección de variables."
   ]
  },
  {
   "cell_type": "markdown",
   "metadata": {},
   "source": [
    "**Regresión Logística.**"
   ]
  },
  {
   "cell_type": "markdown",
   "metadata": {},
   "source": [
    "* **H0:** El modelo NO es significativo.\n",
    "\n",
    "* **Ha:** El modelo es significativo.\n",
    "* **Alfa:** 0.1."
   ]
  },
  {
   "cell_type": "code",
   "execution_count": 32,
   "metadata": {},
   "outputs": [
    {
     "data": {
      "text/plain": [
       "\n",
       "Call:\n",
       "glm(formula = udca1$status ~ udca1$futime + udca1$trt + udca1$stage + \n",
       "    udca1$bili + udca1$riskscore, family = \"binomial\", data = udca1)\n",
       "\n",
       "Deviance Residuals: \n",
       "    Min       1Q   Median       3Q      Max  \n",
       "-2.4117  -0.6884  -0.3304   0.8107   2.3741  \n",
       "\n",
       "Coefficients:\n",
       "                  Estimate Std. Error z value Pr(>|z|)    \n",
       "(Intercept)     -0.4579294  1.1848208  -0.386  0.69913    \n",
       "udca1$futime    -0.0030495  0.0005418  -5.628 1.82e-08 ***\n",
       "udca1$trt       -0.2954990  0.4063177  -0.727  0.46707    \n",
       "udca1$stage      0.1670474  0.4334694   0.385  0.69996    \n",
       "udca1$bili      -0.2148857  0.1188711  -1.808  0.07065 .  \n",
       "udca1$riskscore  0.7073148  0.2579847   2.742  0.00611 ** \n",
       "---\n",
       "Signif. codes:  0 '***' 0.001 '**' 0.01 '*' 0.05 '.' 0.1 ' ' 1\n",
       "\n",
       "(Dispersion parameter for binomial family taken to be 1)\n",
       "\n",
       "    Null deviance: 230.57  on 168  degrees of freedom\n",
       "Residual deviance: 163.69  on 163  degrees of freedom\n",
       "AIC: 175.69\n",
       "\n",
       "Number of Fisher Scoring iterations: 5\n"
      ]
     },
     "metadata": {},
     "output_type": "display_data"
    }
   ],
   "source": [
    "summary(glm(udca1$status ~ udca1$futime+udca1$trt+udca1$stage+udca1$bili+udca1$riskscore, data = udca1, family = \"binomial\"))"
   ]
  },
  {
   "cell_type": "code",
   "execution_count": 33,
   "metadata": {},
   "outputs": [
    {
     "data": {
      "text/plain": [
       "\n",
       "Call:\n",
       "glm(formula = udca1$status ~ udca1$futime + udca1$trt + udca1$bili + \n",
       "    udca1$riskscore, family = \"binomial\", data = udca1)\n",
       "\n",
       "Deviance Residuals: \n",
       "    Min       1Q   Median       3Q      Max  \n",
       "-2.4052  -0.7129  -0.3448   0.8285   2.4108  \n",
       "\n",
       "Coefficients:\n",
       "                  Estimate Std. Error z value Pr(>|z|)    \n",
       "(Intercept)     -0.4434105  1.1790137  -0.376  0.70685    \n",
       "udca1$futime    -0.0030468  0.0005416  -5.626 1.85e-08 ***\n",
       "udca1$trt       -0.3100582  0.4040576  -0.767  0.44287    \n",
       "udca1$bili      -0.2119566  0.1182345  -1.793  0.07302 .  \n",
       "udca1$riskscore  0.7259504  0.2527301   2.872  0.00407 ** \n",
       "---\n",
       "Signif. codes:  0 '***' 0.001 '**' 0.01 '*' 0.05 '.' 0.1 ' ' 1\n",
       "\n",
       "(Dispersion parameter for binomial family taken to be 1)\n",
       "\n",
       "    Null deviance: 230.57  on 168  degrees of freedom\n",
       "Residual deviance: 163.84  on 164  degrees of freedom\n",
       "AIC: 173.84\n",
       "\n",
       "Number of Fisher Scoring iterations: 5\n"
      ]
     },
     "metadata": {},
     "output_type": "display_data"
    }
   ],
   "source": [
    "summary(glm(udca1$status ~ udca1$futime+udca1$trt+udca1$bili+udca1$riskscore, data = udca1, family = \"binomial\"))"
   ]
  },
  {
   "cell_type": "code",
   "execution_count": 34,
   "metadata": {},
   "outputs": [
    {
     "data": {
      "text/plain": [
       "\n",
       "Call:\n",
       "glm(formula = udca1$status ~ udca1$futime + udca1$bili + udca1$riskscore, \n",
       "    family = \"binomial\", data = udca1)\n",
       "\n",
       "Deviance Residuals: \n",
       "    Min       1Q   Median       3Q      Max  \n",
       "-2.4935  -0.7041  -0.3340   0.8226   2.4894  \n",
       "\n",
       "Coefficients:\n",
       "                  Estimate Std. Error z value Pr(>|z|)    \n",
       "(Intercept)     -0.4586607  1.1712295  -0.392  0.69535    \n",
       "udca1$futime    -0.0031743  0.0005238  -6.060 1.36e-09 ***\n",
       "udca1$bili      -0.2194551  0.1176075  -1.866  0.06204 .  \n",
       "udca1$riskscore  0.7262256  0.2520722   2.881  0.00396 ** \n",
       "---\n",
       "Signif. codes:  0 '***' 0.001 '**' 0.01 '*' 0.05 '.' 0.1 ' ' 1\n",
       "\n",
       "(Dispersion parameter for binomial family taken to be 1)\n",
       "\n",
       "    Null deviance: 230.57  on 168  degrees of freedom\n",
       "Residual deviance: 164.42  on 165  degrees of freedom\n",
       "AIC: 172.42\n",
       "\n",
       "Number of Fisher Scoring iterations: 5\n"
      ]
     },
     "metadata": {},
     "output_type": "display_data"
    }
   ],
   "source": [
    "summary(glm(udca1$status ~ udca1$futime+udca1$bili+udca1$riskscore, data = udca1, family = \"binomial\"))"
   ]
  },
  {
   "cell_type": "markdown",
   "metadata": {},
   "source": [
    "**Modelo seleccionado con las varibales futime, bili y riskscore**\n",
    "* Todas las variables son significativas"
   ]
  },
  {
   "cell_type": "code",
   "execution_count": 35,
   "metadata": {},
   "outputs": [
    {
     "data": {
      "text/plain": [
       "\n",
       "Call:\n",
       "glm(formula = udca1$status ~ udca1$futime + udca1$bili + udca1$riskscore, \n",
       "    family = \"binomial\", data = udca1)\n",
       "\n",
       "Deviance Residuals: \n",
       "    Min       1Q   Median       3Q      Max  \n",
       "-2.4935  -0.7041  -0.3340   0.8226   2.4894  \n",
       "\n",
       "Coefficients:\n",
       "                  Estimate Std. Error z value Pr(>|z|)    \n",
       "(Intercept)     -0.4586607  1.1712295  -0.392  0.69535    \n",
       "udca1$futime    -0.0031743  0.0005238  -6.060 1.36e-09 ***\n",
       "udca1$bili      -0.2194551  0.1176075  -1.866  0.06204 .  \n",
       "udca1$riskscore  0.7262256  0.2520722   2.881  0.00396 ** \n",
       "---\n",
       "Signif. codes:  0 '***' 0.001 '**' 0.01 '*' 0.05 '.' 0.1 ' ' 1\n",
       "\n",
       "(Dispersion parameter for binomial family taken to be 1)\n",
       "\n",
       "    Null deviance: 230.57  on 168  degrees of freedom\n",
       "Residual deviance: 164.42  on 165  degrees of freedom\n",
       "AIC: 172.42\n",
       "\n",
       "Number of Fisher Scoring iterations: 5\n"
      ]
     },
     "metadata": {},
     "output_type": "display_data"
    }
   ],
   "source": [
    "modelo_logistico <- glm(udca1$status ~ udca1$futime+udca1$bili+udca1$riskscore, data = udca1, family = \"binomial\")\n",
    "summary(modelo_logistico)"
   ]
  },
  {
   "cell_type": "markdown",
   "metadata": {},
   "source": [
    "[Consulta](https://rpubs.com/Joaquin_AR/229736#:~:text=La%20Regresi%C3%B3n%20Log%C3%ADstica%20Simple%2C%20desarrollada,funci%C3%B3n%20de%20una%20variable%20cuantitativa.&text=La%20asignaci%C3%B3n%20final%20se%20hace%20en%20funci%C3%B3n%20de%20las%20probabilidades%20predichas.)"
   ]
  },
  {
   "cell_type": "markdown",
   "metadata": {},
   "source": [
    "### Análisis de supervivencia de forma."
   ]
  },
  {
   "cell_type": "markdown",
   "metadata": {},
   "source": [
    "**Respuesta compuesta.**"
   ]
  },
  {
   "cell_type": "code",
   "execution_count": null,
   "metadata": {},
   "outputs": [],
   "source": [
    "Obj_surv <- Surv(udca1$futime, udca1$status == 1)"
   ]
  },
  {
   "cell_type": "markdown",
   "metadata": {},
   "source": [
    "**Modelo de Cox.**"
   ]
  },
  {
   "cell_type": "markdown",
   "metadata": {},
   "source": [
    "**Modelo con todas las variables.**"
   ]
  },
  {
   "cell_type": "markdown",
   "metadata": {},
   "source": [
    "* **H0:** ninguna variable es importe en el modelo.\n",
    "\n",
    "* **Ha:** Al menos una es significativa.\n",
    "* **Alfa:** 0.1."
   ]
  },
  {
   "cell_type": "code",
   "execution_count": null,
   "metadata": {},
   "outputs": [],
   "source": [
    "summary(coxph(Obj_surv~udca1$trt+udca1$stage+udca1$bili+udca1$riskscore))"
   ]
  },
  {
   "cell_type": "markdown",
   "metadata": {},
   "source": [
    "*Conclusión:* \n",
    "* Dado que el p-valor es menor que alfa, se rechaza H0, por lo que al menos una de las variables es significativa. \n",
    "* Analizando la significancia de todas la variables, se tiene que stage y bili no son significativas para el modelo, dado que sus p-valor son msyores que alfa."
   ]
  },
  {
   "cell_type": "markdown",
   "metadata": {},
   "source": [
    "**Modelo sin variable stage.**"
   ]
  },
  {
   "cell_type": "markdown",
   "metadata": {},
   "source": [
    "* **H0:** ninguna variable es importe en el modelo.\n",
    "\n",
    "* **Ha:** Al menos una es significativa.\n",
    "* **Alfa:** 0.1."
   ]
  },
  {
   "cell_type": "code",
   "execution_count": null,
   "metadata": {},
   "outputs": [],
   "source": [
    "summary(coxph(Obj_surv~udca1$trt+udca1$bili+udca1$riskscore))"
   ]
  },
  {
   "cell_type": "markdown",
   "metadata": {},
   "source": [
    "*Conclusión:* \n",
    "* Dado que el p-valor es menor que alfa, se rechaza H0, por lo que al menos una de las variables es significativa. \n",
    "* Analizando la significancia de todas la variables, se tiene que bili no es significativas para el modelo, dado que su p-valor es mayor que alfa."
   ]
  },
  {
   "cell_type": "markdown",
   "metadata": {},
   "source": [
    "**Modelo sin stage ni bili.**"
   ]
  },
  {
   "cell_type": "markdown",
   "metadata": {},
   "source": [
    "* **H0:** ninguna variable es importe en el modelo.\n",
    "* **Ha:** Al menos una es significativa.\n",
    "* **Alfa:** 0.1."
   ]
  },
  {
   "cell_type": "code",
   "execution_count": null,
   "metadata": {},
   "outputs": [],
   "source": [
    "summary(coxph(Obj_surv~udca1$trt+udca1$riskscore))"
   ]
  },
  {
   "cell_type": "markdown",
   "metadata": {},
   "source": [
    "*Conclusión:* \n",
    "* Dado que el p-valor es menor que alfa, se rechaza H0, por lo que al menos una de las variables es significativa. \n",
    "* Analizando la significancia de todas la variables, se tiene que todas las variables son significativas para el modelo, dado que su p-valor es menor que alfa."
   ]
  },
  {
   "cell_type": "markdown",
   "metadata": {},
   "source": [
    "**Modelo elegido.**"
   ]
  },
  {
   "cell_type": "code",
   "execution_count": null,
   "metadata": {},
   "outputs": [],
   "source": [
    "Modelo_cox <- coxph(Obj_surv~udca1$trt+udca1$riskscore)"
   ]
  },
  {
   "cell_type": "markdown",
   "metadata": {},
   "source": [
    "**Residuales de Martingala**"
   ]
  },
  {
   "cell_type": "code",
   "execution_count": null,
   "metadata": {},
   "outputs": [],
   "source": [
    "resid(Modelo_cox, type = 'martingale')"
   ]
  },
  {
   "cell_type": "code",
   "execution_count": null,
   "metadata": {},
   "outputs": [],
   "source": [
    "plot(resid(Modelo_cox, type = 'martingale'))"
   ]
  },
  {
   "cell_type": "markdown",
   "metadata": {},
   "source": [
    "**Residuales de Desviación.**"
   ]
  },
  {
   "cell_type": "code",
   "execution_count": null,
   "metadata": {},
   "outputs": [],
   "source": [
    "plot(resid(Modelo_cox, type = 'deviance'))"
   ]
  },
  {
   "cell_type": "code",
   "execution_count": null,
   "metadata": {},
   "outputs": [],
   "source": [
    "# Escoger cual es el limite para descartar residuos\n",
    "Desvios <- resid(Modelo_cox, type = 'deviance')\n",
    "Desvios[abs(Desvios)>2.5]"
   ]
  },
  {
   "cell_type": "code",
   "execution_count": null,
   "metadata": {},
   "outputs": [],
   "source": [
    "# Cambiar limites\n",
    "plot(Desvios, ylim = c(-3,  3))\n",
    "abline(h = c(-2.5,2.5),\n",
    "      col = 'purple')"
   ]
  },
  {
   "cell_type": "code",
   "execution_count": null,
   "metadata": {},
   "outputs": [],
   "source": [
    "# SDA = Sin Dato Atipico\n",
    "# Revisar que dato atipico hay\n",
    "# Introducir ID de datos aticipos en la siguiente variable\n",
    "DA <- c()\n",
    "Desvios_SDA <- Desvios[-c(63,151)]\n",
    "plot(Desvios_SDA, \n",
    "    ylim = c(-3,3))\n",
    "abline(h = c(-2.5,2.5),\n",
    "      col = 'purple')"
   ]
  },
  {
   "cell_type": "code",
   "execution_count": null,
   "metadata": {},
   "outputs": [],
   "source": [
    "# Modelo SDA si es que aplica\n",
    "Modelo_cox_SDA <- coxph(Obj_surv[-c(63,151)]~udca1$trt[-c(63,151)]+udca1$riskscore[-c(63,151)])"
   ]
  },
  {
   "cell_type": "code",
   "execution_count": null,
   "metadata": {},
   "outputs": [],
   "source": [
    "plot(resid(Modelo_cox_SDA, type = 'deviance'),\n",
    "    ylim = c(-3,3))\n",
    "abline(h =c(-2.5,2.5),\n",
    "      col = 'purple')"
   ]
  },
  {
   "cell_type": "markdown",
   "metadata": {},
   "source": [
    "**Residuales de Schoenfeld**"
   ]
  },
  {
   "cell_type": "code",
   "execution_count": null,
   "metadata": {
    "scrolled": false
   },
   "outputs": [],
   "source": [
    "Scho <- resid(Modelo_cox, type = 'schoenfeld')\n",
    "head(Scho)"
   ]
  },
  {
   "cell_type": "code",
   "execution_count": null,
   "metadata": {},
   "outputs": [],
   "source": [
    "plot(udca1$trt[udca1$status == 1], Scho[,1])"
   ]
  },
  {
   "cell_type": "code",
   "execution_count": null,
   "metadata": {},
   "outputs": [],
   "source": [
    "plot(udca1$riskscore[udca1$status == 1], Scho[,2])"
   ]
  },
  {
   "cell_type": "markdown",
   "metadata": {},
   "source": [
    "**Residuales de puntaje**"
   ]
  },
  {
   "cell_type": "code",
   "execution_count": null,
   "metadata": {},
   "outputs": [],
   "source": [
    "Puntajes <- resid(Modelo_cox, type = 'score')"
   ]
  },
  {
   "cell_type": "code",
   "execution_count": null,
   "metadata": {},
   "outputs": [],
   "source": [
    "head(Puntajes)"
   ]
  },
  {
   "cell_type": "code",
   "execution_count": null,
   "metadata": {},
   "outputs": [],
   "source": [
    "plot(Puntajes[,1], Puntajes[,2])"
   ]
  },
  {
   "cell_type": "markdown",
   "metadata": {},
   "source": [
    "**Modelo de Kaplan Meier**"
   ]
  },
  {
   "cell_type": "code",
   "execution_count": null,
   "metadata": {},
   "outputs": [],
   "source": [
    "summary(survfit(Modelo_cox))"
   ]
  },
  {
   "cell_type": "code",
   "execution_count": null,
   "metadata": {},
   "outputs": [],
   "source": [
    "plot(survfit(Modelo_cox))"
   ]
  },
  {
   "cell_type": "markdown",
   "metadata": {},
   "source": [
    "**Estimación de modelo de Kaplan Meir por tratamiento.**"
   ]
  },
  {
   "cell_type": "code",
   "execution_count": null,
   "metadata": {},
   "outputs": [],
   "source": [
    "KM_Tratamiento <- survfit(Obj_surv~udca1$trt)\n",
    "summary(KM_Tratamiento)"
   ]
  },
  {
   "cell_type": "code",
   "execution_count": null,
   "metadata": {},
   "outputs": [],
   "source": [
    "plot(KM_Tratamiento, \n",
    "     col = c('magenta', 'green'),\n",
    "    main = 'Comparación por tipo de tratamiento')"
   ]
  },
  {
   "cell_type": "markdown",
   "metadata": {},
   "source": [
    "**Modelos paramétricos.**"
   ]
  },
  {
   "cell_type": "code",
   "execution_count": null,
   "metadata": {},
   "outputs": [],
   "source": []
  },
  {
   "cell_type": "markdown",
   "metadata": {},
   "source": [
    "**Comparación de modelos.**"
   ]
  },
  {
   "cell_type": "code",
   "execution_count": null,
   "metadata": {},
   "outputs": [],
   "source": []
  }
 ],
 "metadata": {
  "kernelspec": {
   "display_name": "R",
   "language": "R",
   "name": "ir"
  },
  "language_info": {
   "codemirror_mode": "r",
   "file_extension": ".r",
   "mimetype": "text/x-r-source",
   "name": "R",
   "pygments_lexer": "r",
   "version": "4.1.0"
  }
 },
 "nbformat": 4,
 "nbformat_minor": 5
}
