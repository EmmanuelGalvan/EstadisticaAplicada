{
 "cells": [
  {
   "cell_type": "markdown",
   "id": "matched-process",
   "metadata": {},
   "source": [
    "# Proyecto Final.\n",
    "## Datos: Pruebas sobre el uso del UDCA en pacientes con cirrosis biliar primaria."
   ]
  },
  {
   "cell_type": "markdown",
   "id": "obvious-mixture",
   "metadata": {},
   "source": [
    "**Grupo:** 001.\n",
    "\n",
    "**Integrantes:**\n",
    " \n",
    "* 1808039   Ana Karen Gómez Alonzo.\n",
    "* 1937881   Alma Cecilia Villarreal Duarte.\n",
    "* 1741418   Angel Emmanuel Hernández Galván.\n",
    "* 1802780   Sahori Verónica Ramírez Medellín."
   ]
  },
  {
   "cell_type": "markdown",
   "id": "included-moore",
   "metadata": {},
   "source": [
    "**Librerías.**"
   ]
  },
  {
   "cell_type": "code",
   "execution_count": 1,
   "id": "native-communications",
   "metadata": {},
   "outputs": [
    {
     "name": "stderr",
     "output_type": "stream",
     "text": [
      "Warning message:\n",
      "\"package 'survival' was built under R version 3.6.3\""
     ]
    }
   ],
   "source": [
    "library(survival)"
   ]
  },
  {
   "cell_type": "markdown",
   "id": "sealed-experiment",
   "metadata": {},
   "source": [
    "**Apertura de datos.**"
   ]
  },
  {
   "cell_type": "code",
   "execution_count": 2,
   "id": "celtic-setting",
   "metadata": {},
   "outputs": [],
   "source": [
    "data(udca)"
   ]
  },
  {
   "cell_type": "code",
   "execution_count": 3,
   "id": "unavailable-liechtenstein",
   "metadata": {},
   "outputs": [
    {
     "data": {
      "text/html": [
       "<table>\n",
       "<thead><tr><th scope=col>id</th><th scope=col>trt</th><th scope=col>entry.dt</th><th scope=col>last.dt</th><th scope=col>stage</th><th scope=col>bili</th><th scope=col>riskscore</th><th scope=col>death.dt</th><th scope=col>tx.dt</th><th scope=col>hprogress.dt</th><th scope=col>varices.dt</th><th scope=col>ascites.dt</th><th scope=col>enceph.dt</th><th scope=col>double.dt</th><th scope=col>worsen.dt</th></tr></thead>\n",
       "<tbody>\n",
       "\t<tr><td> 1        </td><td>1         </td><td>1988-04-21</td><td>1993-06-30</td><td>1         </td><td>1.0       </td><td>5.1       </td><td>NA        </td><td>NA        </td><td>NA        </td><td>NA        </td><td>NA        </td><td>NA        </td><td>NA        </td><td>NA        </td></tr>\n",
       "\t<tr><td> 2        </td><td>0         </td><td>1988-04-27</td><td>1993-06-30</td><td>1         </td><td>1.7       </td><td>4.2       </td><td>NA        </td><td>NA        </td><td>NA        </td><td>NA        </td><td>NA        </td><td>NA        </td><td>NA        </td><td>1992-04-22</td></tr>\n",
       "\t<tr><td> 3        </td><td>1         </td><td>1988-04-25</td><td>1993-06-30</td><td>0         </td><td>0.5       </td><td>3.4       </td><td>NA        </td><td>NA        </td><td>NA        </td><td>NA        </td><td>NA        </td><td>NA        </td><td>NA        </td><td>NA        </td></tr>\n",
       "\t<tr><td> 4        </td><td>1         </td><td>1988-04-27</td><td>1989-04-05</td><td>1         </td><td>1.4       </td><td>5.0       </td><td>NA        </td><td>NA        </td><td>NA        </td><td>NA        </td><td>NA        </td><td>NA        </td><td>NA        </td><td>NA        </td></tr>\n",
       "\t<tr><td> 5        </td><td>0         </td><td>1988-05-12</td><td>1993-06-30</td><td>1         </td><td>1.1       </td><td>4.3       </td><td>NA        </td><td>NA        </td><td>NA        </td><td>NA        </td><td>NA        </td><td>NA        </td><td>NA        </td><td>NA        </td></tr>\n",
       "\t<tr><td> 6        </td><td>1         </td><td>1988-05-18</td><td>1990-06-25</td><td>1         </td><td>1.4       </td><td>5.9       </td><td>1992-01-24</td><td>NA        </td><td>NA        </td><td>1990-06-25</td><td>NA        </td><td>NA        </td><td>NA        </td><td>NA        </td></tr>\n",
       "\t<tr><td> 7        </td><td>0         </td><td>1988-05-18</td><td>1993-06-30</td><td>1         </td><td>0.6       </td><td>3.8       </td><td>NA        </td><td>NA        </td><td>NA        </td><td>NA        </td><td>NA        </td><td>NA        </td><td>NA        </td><td>NA        </td></tr>\n",
       "\t<tr><td> 8        </td><td>0         </td><td>1988-05-25</td><td>1990-07-02</td><td>1         </td><td>5.1       </td><td>7.4       </td><td>1990-07-22</td><td>NA        </td><td>NA        </td><td>NA        </td><td>1990-07-02</td><td>1990-07-02</td><td>1990-07-02</td><td>1990-07-02</td></tr>\n",
       "\t<tr><td> 9        </td><td>0         </td><td>1988-05-27</td><td>1992-08-26</td><td>1         </td><td>1.6       </td><td>5.3       </td><td>NA        </td><td>NA        </td><td>NA        </td><td>NA        </td><td>NA        </td><td>NA        </td><td>NA        </td><td>NA        </td></tr>\n",
       "\t<tr><td>10        </td><td>1         </td><td>1988-05-26</td><td>1993-06-30</td><td>0         </td><td>0.5       </td><td>4.0       </td><td>NA        </td><td>NA        </td><td>NA        </td><td>1990-05-31</td><td>NA        </td><td>NA        </td><td>NA        </td><td>NA        </td></tr>\n",
       "\t<tr><td>11        </td><td>1         </td><td>1988-06-10</td><td>1993-06-30</td><td>1         </td><td>1.7       </td><td>4.5       </td><td>NA        </td><td>NA        </td><td>NA        </td><td>NA        </td><td>NA        </td><td>NA        </td><td>NA        </td><td>NA        </td></tr>\n",
       "\t<tr><td>12        </td><td>1         </td><td>1988-06-16</td><td>1991-06-20</td><td>0         </td><td>4.1       </td><td>7.1       </td><td>1991-07-07</td><td>NA        </td><td>NA        </td><td>NA        </td><td>NA        </td><td>1991-06-20</td><td>NA        </td><td>1991-06-20</td></tr>\n",
       "\t<tr><td>13        </td><td>0         </td><td>1988-06-03</td><td>1991-04-03</td><td>0         </td><td>0.5       </td><td>3.5       </td><td>NA        </td><td>NA        </td><td>NA        </td><td>NA        </td><td>NA        </td><td>NA        </td><td>NA        </td><td>1991-04-03</td></tr>\n",
       "\t<tr><td>14        </td><td>0         </td><td>1988-06-15</td><td>1991-12-02</td><td>0         </td><td>1.4       </td><td>4.6       </td><td>NA        </td><td>NA        </td><td>1991-12-02</td><td>1990-06-11</td><td>NA        </td><td>NA        </td><td>1989-06-12</td><td>NA        </td></tr>\n",
       "\t<tr><td>15        </td><td>1         </td><td>1988-06-22</td><td>1993-06-30</td><td>1         </td><td>1.0       </td><td>4.6       </td><td>NA        </td><td>NA        </td><td>NA        </td><td>NA        </td><td>NA        </td><td>NA        </td><td>NA        </td><td>NA        </td></tr>\n",
       "\t<tr><td>16        </td><td>0         </td><td>1988-06-22</td><td>1993-06-30</td><td>1         </td><td>1.3       </td><td>5.3       </td><td>NA        </td><td>NA        </td><td>NA        </td><td>NA        </td><td>NA        </td><td>NA        </td><td>NA        </td><td>NA        </td></tr>\n",
       "\t<tr><td>17        </td><td>0         </td><td>1988-06-28</td><td>1993-06-30</td><td>1         </td><td>0.8       </td><td>4.8       </td><td>NA        </td><td>NA        </td><td>1990-07-18</td><td>NA        </td><td>NA        </td><td>NA        </td><td>NA        </td><td>NA        </td></tr>\n",
       "\t<tr><td>18        </td><td>0         </td><td>1988-06-29</td><td>1990-08-01</td><td>1         </td><td>1.2       </td><td>4.2       </td><td>NA        </td><td>NA        </td><td>NA        </td><td>1990-08-01</td><td>NA        </td><td>NA        </td><td>1989-07-25</td><td>1989-07-25</td></tr>\n",
       "\t<tr><td>19        </td><td>1         </td><td>1988-06-30</td><td>1993-06-30</td><td>1         </td><td>2.2       </td><td>6.3       </td><td>NA        </td><td>NA        </td><td>NA        </td><td>NA        </td><td>NA        </td><td>NA        </td><td>NA        </td><td>NA        </td></tr>\n",
       "\t<tr><td>20        </td><td>0         </td><td>1988-06-30</td><td>1991-03-19</td><td>1         </td><td>3.3       </td><td>6.5       </td><td>NA        </td><td>1991-06-06</td><td>NA        </td><td>NA        </td><td>NA        </td><td>NA        </td><td>NA        </td><td>NA        </td></tr>\n",
       "\t<tr><td>21        </td><td>1         </td><td>1988-07-05</td><td>1992-08-11</td><td>1         </td><td>3.8       </td><td>5.8       </td><td>1992-08-11</td><td>NA        </td><td>1990-10-09</td><td>NA        </td><td>NA        </td><td>NA        </td><td>NA        </td><td>NA        </td></tr>\n",
       "\t<tr><td>22        </td><td>1         </td><td>1988-07-22</td><td>1993-06-30</td><td>1         </td><td>1.7       </td><td>4.7       </td><td>NA        </td><td>NA        </td><td>NA        </td><td>NA        </td><td>NA        </td><td>NA        </td><td>NA        </td><td>NA        </td></tr>\n",
       "\t<tr><td>23        </td><td>1         </td><td>1988-07-20</td><td>1992-08-15</td><td>1         </td><td>0.5       </td><td>4.9       </td><td>NA        </td><td>NA        </td><td>NA        </td><td>NA        </td><td>NA        </td><td>NA        </td><td>NA        </td><td>NA        </td></tr>\n",
       "\t<tr><td>24        </td><td>0         </td><td>1988-07-28</td><td>1993-06-30</td><td>1         </td><td>3.4       </td><td>5.6       </td><td>NA        </td><td>NA        </td><td>NA        </td><td>1990-08-01</td><td>NA        </td><td>NA        </td><td>NA        </td><td>NA        </td></tr>\n",
       "\t<tr><td>25        </td><td>0         </td><td>1988-07-26</td><td>1993-06-30</td><td>1         </td><td>0.6       </td><td>4.7       </td><td>NA        </td><td>NA        </td><td>NA        </td><td>1992-09-14</td><td>NA        </td><td>NA        </td><td>NA        </td><td>NA        </td></tr>\n",
       "\t<tr><td>26        </td><td>0         </td><td>1988-07-27</td><td>1992-11-01</td><td>1         </td><td>0.7       </td><td>3.0       </td><td>NA        </td><td>1993-05-05</td><td>1990-08-06</td><td>1990-08-06</td><td>NA        </td><td>NA        </td><td>1989-08-01</td><td>1992-08-18</td></tr>\n",
       "\t<tr><td>27        </td><td>1         </td><td>1988-07-29</td><td>1993-06-30</td><td>0         </td><td>1.6       </td><td>5.7       </td><td>NA        </td><td>NA        </td><td>1990-07-30</td><td>NA        </td><td>NA        </td><td>NA        </td><td>NA        </td><td>NA        </td></tr>\n",
       "\t<tr><td>28        </td><td>1         </td><td>1988-07-28</td><td>1990-04-22</td><td>1         </td><td>2.7       </td><td>5.9       </td><td>NA        </td><td>1990-04-22</td><td>NA        </td><td>NA        </td><td>NA        </td><td>NA        </td><td>NA        </td><td>NA        </td></tr>\n",
       "\t<tr><td>29        </td><td>0         </td><td>1988-07-27</td><td>1993-06-30</td><td>0         </td><td>0.7       </td><td>4.6       </td><td>NA        </td><td>NA        </td><td>1990-06-12</td><td>1990-06-12</td><td>NA        </td><td>NA        </td><td>NA        </td><td>NA        </td></tr>\n",
       "\t<tr><td>30        </td><td>1         </td><td>1988-08-18</td><td>1993-06-30</td><td>1         </td><td>2.1       </td><td>5.6       </td><td>NA        </td><td>NA        </td><td>NA        </td><td>1990-07-30</td><td>NA        </td><td>NA        </td><td>NA        </td><td>NA        </td></tr>\n",
       "\t<tr><td>...</td><td>...</td><td>...</td><td>...</td><td>...</td><td>...</td><td>...</td><td>...</td><td>...</td><td>...</td><td>...</td><td>...</td><td>...</td><td>...</td><td>...</td></tr>\n",
       "\t<tr><td>141       </td><td>1         </td><td>1990-05-30</td><td>1993-06-30</td><td>0         </td><td>1.6       </td><td>5.7       </td><td>NA        </td><td>NA        </td><td>NA        </td><td>NA        </td><td>NA        </td><td>NA        </td><td>NA        </td><td>NA        </td></tr>\n",
       "\t<tr><td>142       </td><td>0         </td><td>1990-06-19</td><td>1993-06-30</td><td>1         </td><td>0.4       </td><td>4.0       </td><td>NA        </td><td>NA        </td><td>NA        </td><td>NA        </td><td>NA        </td><td>NA        </td><td>NA        </td><td>NA        </td></tr>\n",
       "\t<tr><td>143       </td><td>0         </td><td>1990-07-10</td><td>1993-06-30</td><td>1         </td><td>1.0       </td><td>5.2       </td><td>NA        </td><td>NA        </td><td>NA        </td><td>1992-08-11</td><td>NA        </td><td>NA        </td><td>NA        </td><td>NA        </td></tr>\n",
       "\t<tr><td>144       </td><td>0         </td><td>1990-07-12</td><td>1991-07-11</td><td>0         </td><td>1.2       </td><td>5.2       </td><td>1991-07-31</td><td>NA        </td><td>NA        </td><td>NA        </td><td>NA        </td><td>NA        </td><td>1991-07-11</td><td>NA        </td></tr>\n",
       "\t<tr><td>145       </td><td>0         </td><td>1990-07-12</td><td>1993-06-30</td><td>1         </td><td>1.5       </td><td>5.4       </td><td>NA        </td><td>NA        </td><td>NA        </td><td>NA        </td><td>NA        </td><td>NA        </td><td>NA        </td><td>NA        </td></tr>\n",
       "\t<tr><td>146       </td><td>1         </td><td>1990-07-11</td><td>1993-06-30</td><td>0         </td><td>0.7       </td><td>2.9       </td><td>NA        </td><td>NA        </td><td>NA        </td><td>NA        </td><td>NA        </td><td>NA        </td><td>NA        </td><td>1992-10-22</td></tr>\n",
       "\t<tr><td>147       </td><td>1         </td><td>1990-07-18</td><td>1993-06-30</td><td>0         </td><td>0.5       </td><td>4.0       </td><td>NA        </td><td>NA        </td><td>NA        </td><td>NA        </td><td>NA        </td><td>NA        </td><td>NA        </td><td>NA        </td></tr>\n",
       "\t<tr><td>148       </td><td>1         </td><td>1990-08-07</td><td>1993-06-30</td><td>0         </td><td>0.3       </td><td>4.2       </td><td>NA        </td><td>NA        </td><td>NA        </td><td>NA        </td><td>NA        </td><td>NA        </td><td>NA        </td><td>NA        </td></tr>\n",
       "\t<tr><td>149       </td><td>1         </td><td>1990-08-09</td><td>1993-06-30</td><td>1         </td><td>0.5       </td><td>4.2       </td><td>NA        </td><td>NA        </td><td>NA        </td><td>NA        </td><td>NA        </td><td>NA        </td><td>NA        </td><td>NA        </td></tr>\n",
       "\t<tr><td>150       </td><td>0         </td><td>1990-09-12</td><td>1993-06-30</td><td>1         </td><td>1.0       </td><td>5.0       </td><td>NA        </td><td>NA        </td><td>NA        </td><td>1992-08-17</td><td>NA        </td><td>NA        </td><td>NA        </td><td>NA        </td></tr>\n",
       "\t<tr><td>151       </td><td>1         </td><td>1990-03-20</td><td>1990-03-20</td><td>0         </td><td>0.7       </td><td> NA       </td><td>NA        </td><td>NA        </td><td>NA        </td><td>NA        </td><td>NA        </td><td>NA        </td><td>NA        </td><td>NA        </td></tr>\n",
       "\t<tr><td>152       </td><td>1         </td><td>1990-08-24</td><td>1991-01-15</td><td>1         </td><td>1.7       </td><td>4.6       </td><td>NA        </td><td>1991-01-15</td><td>NA        </td><td>NA        </td><td>NA        </td><td>NA        </td><td>NA        </td><td>NA        </td></tr>\n",
       "\t<tr><td>153       </td><td>0         </td><td>1990-06-27</td><td>1991-02-15</td><td>1         </td><td>0.8       </td><td>3.3       </td><td>NA        </td><td>NA        </td><td>NA        </td><td>NA        </td><td>NA        </td><td>NA        </td><td>NA        </td><td>NA        </td></tr>\n",
       "\t<tr><td>154       </td><td>0         </td><td>1990-10-29</td><td>1993-06-30</td><td>1         </td><td>4.2       </td><td>5.1       </td><td>NA        </td><td>NA        </td><td>1992-06-24</td><td>1992-06-24</td><td>NA        </td><td>NA        </td><td>NA        </td><td>NA        </td></tr>\n",
       "\t<tr><td>155       </td><td>0         </td><td>1990-11-02</td><td>1993-06-30</td><td>0         </td><td>0.4       </td><td>4.4       </td><td>NA        </td><td>NA        </td><td>NA        </td><td>NA        </td><td>NA        </td><td>NA        </td><td>NA        </td><td>NA        </td></tr>\n",
       "\t<tr><td>156       </td><td>1         </td><td>1990-11-27</td><td>1993-06-30</td><td>0         </td><td>0.5       </td><td>3.9       </td><td>NA        </td><td>NA        </td><td>NA        </td><td>NA        </td><td>NA        </td><td>NA        </td><td>NA        </td><td>NA        </td></tr>\n",
       "\t<tr><td>157       </td><td>0         </td><td>1990-11-28</td><td>1993-06-30</td><td>1         </td><td>2.7       </td><td>6.0       </td><td>NA        </td><td>NA        </td><td>NA        </td><td>NA        </td><td>NA        </td><td>NA        </td><td>1992-09-29</td><td>NA        </td></tr>\n",
       "\t<tr><td>158       </td><td>0         </td><td>1990-11-27</td><td>1993-06-30</td><td>0         </td><td>0.6       </td><td>4.8       </td><td>NA        </td><td>NA        </td><td>NA        </td><td>NA        </td><td>NA        </td><td>NA        </td><td>NA        </td><td>NA        </td></tr>\n",
       "\t<tr><td>159       </td><td>0         </td><td>1990-12-06</td><td>1993-04-08</td><td>1         </td><td>2.0       </td><td>6.1       </td><td>NA        </td><td>NA        </td><td>NA        </td><td>NA        </td><td>1991-12-16</td><td>NA        </td><td>NA        </td><td>NA        </td></tr>\n",
       "\t<tr><td>160       </td><td>1         </td><td>1990-12-06</td><td>1993-06-30</td><td>1         </td><td>1.5       </td><td>5.3       </td><td>NA        </td><td>NA        </td><td>NA        </td><td>NA        </td><td>NA        </td><td>1992-10-19</td><td>NA        </td><td>1992-10-19</td></tr>\n",
       "\t<tr><td>161       </td><td>1         </td><td>1990-12-06</td><td>1993-06-30</td><td>1         </td><td>0.6       </td><td>4.7       </td><td>NA        </td><td>NA        </td><td>NA        </td><td>NA        </td><td>NA        </td><td>NA        </td><td>NA        </td><td>NA        </td></tr>\n",
       "\t<tr><td>162       </td><td>1         </td><td>1991-01-07</td><td>1993-06-30</td><td>0         </td><td>1.8       </td><td>5.7       </td><td>NA        </td><td>NA        </td><td>NA        </td><td>NA        </td><td>NA        </td><td>NA        </td><td>NA        </td><td>NA        </td></tr>\n",
       "\t<tr><td>163       </td><td>0         </td><td>1991-01-16</td><td>1993-06-30</td><td>0         </td><td>0.4       </td><td>3.8       </td><td>NA        </td><td>NA        </td><td>1993-04-07</td><td>NA        </td><td>NA        </td><td>NA        </td><td>NA        </td><td>NA        </td></tr>\n",
       "\t<tr><td>164       </td><td>1         </td><td>1991-01-24</td><td>1993-06-30</td><td>1         </td><td>3.2       </td><td>5.5       </td><td>NA        </td><td>NA        </td><td>NA        </td><td>NA        </td><td>NA        </td><td>NA        </td><td>NA        </td><td>NA        </td></tr>\n",
       "\t<tr><td>165       </td><td>0         </td><td>1991-01-31</td><td>1993-06-30</td><td>1         </td><td>1.7       </td><td>6.2       </td><td>NA        </td><td>NA        </td><td>NA        </td><td>NA        </td><td>1993-03-17</td><td>NA        </td><td>NA        </td><td>NA        </td></tr>\n",
       "\t<tr><td>166       </td><td>0         </td><td>1991-02-13</td><td>1993-06-30</td><td>1         </td><td>0.5       </td><td>4.4       </td><td>NA        </td><td>NA        </td><td>NA        </td><td>NA        </td><td>NA        </td><td>NA        </td><td>NA        </td><td>NA        </td></tr>\n",
       "\t<tr><td>167       </td><td>1         </td><td>1991-03-07</td><td>1993-06-30</td><td>0         </td><td>0.7       </td><td>3.8       </td><td>NA        </td><td>NA        </td><td>NA        </td><td>NA        </td><td>NA        </td><td>NA        </td><td>NA        </td><td>1993-05-25</td></tr>\n",
       "\t<tr><td>168       </td><td>1         </td><td>1991-03-28</td><td>1993-06-30</td><td>1         </td><td>0.9       </td><td>4.0       </td><td>NA        </td><td>NA        </td><td>NA        </td><td>NA        </td><td>NA        </td><td>NA        </td><td>NA        </td><td>NA        </td></tr>\n",
       "\t<tr><td>169       </td><td>0         </td><td>1991-04-19</td><td>1993-06-30</td><td>0         </td><td>1.0       </td><td>5.1       </td><td>NA        </td><td>NA        </td><td>NA        </td><td>NA        </td><td>NA        </td><td>NA        </td><td>NA        </td><td>NA        </td></tr>\n",
       "\t<tr><td>170       </td><td>1         </td><td>1991-05-01</td><td>1993-06-30</td><td>0         </td><td>0.4       </td><td>4.2       </td><td>NA        </td><td>NA        </td><td>NA        </td><td>NA        </td><td>NA        </td><td>NA        </td><td>NA        </td><td>NA        </td></tr>\n",
       "</tbody>\n",
       "</table>\n"
      ],
      "text/latex": [
       "\\begin{tabular}{r|lllllllllllllll}\n",
       " id & trt & entry.dt & last.dt & stage & bili & riskscore & death.dt & tx.dt & hprogress.dt & varices.dt & ascites.dt & enceph.dt & double.dt & worsen.dt\\\\\n",
       "\\hline\n",
       "\t  1         & 1          & 1988-04-21 & 1993-06-30 & 1          & 1.0        & 5.1        & NA         & NA         & NA         & NA         & NA         & NA         & NA         & NA        \\\\\n",
       "\t  2         & 0          & 1988-04-27 & 1993-06-30 & 1          & 1.7        & 4.2        & NA         & NA         & NA         & NA         & NA         & NA         & NA         & 1992-04-22\\\\\n",
       "\t  3         & 1          & 1988-04-25 & 1993-06-30 & 0          & 0.5        & 3.4        & NA         & NA         & NA         & NA         & NA         & NA         & NA         & NA        \\\\\n",
       "\t  4         & 1          & 1988-04-27 & 1989-04-05 & 1          & 1.4        & 5.0        & NA         & NA         & NA         & NA         & NA         & NA         & NA         & NA        \\\\\n",
       "\t  5         & 0          & 1988-05-12 & 1993-06-30 & 1          & 1.1        & 4.3        & NA         & NA         & NA         & NA         & NA         & NA         & NA         & NA        \\\\\n",
       "\t  6         & 1          & 1988-05-18 & 1990-06-25 & 1          & 1.4        & 5.9        & 1992-01-24 & NA         & NA         & 1990-06-25 & NA         & NA         & NA         & NA        \\\\\n",
       "\t  7         & 0          & 1988-05-18 & 1993-06-30 & 1          & 0.6        & 3.8        & NA         & NA         & NA         & NA         & NA         & NA         & NA         & NA        \\\\\n",
       "\t  8         & 0          & 1988-05-25 & 1990-07-02 & 1          & 5.1        & 7.4        & 1990-07-22 & NA         & NA         & NA         & 1990-07-02 & 1990-07-02 & 1990-07-02 & 1990-07-02\\\\\n",
       "\t  9         & 0          & 1988-05-27 & 1992-08-26 & 1          & 1.6        & 5.3        & NA         & NA         & NA         & NA         & NA         & NA         & NA         & NA        \\\\\n",
       "\t 10         & 1          & 1988-05-26 & 1993-06-30 & 0          & 0.5        & 4.0        & NA         & NA         & NA         & 1990-05-31 & NA         & NA         & NA         & NA        \\\\\n",
       "\t 11         & 1          & 1988-06-10 & 1993-06-30 & 1          & 1.7        & 4.5        & NA         & NA         & NA         & NA         & NA         & NA         & NA         & NA        \\\\\n",
       "\t 12         & 1          & 1988-06-16 & 1991-06-20 & 0          & 4.1        & 7.1        & 1991-07-07 & NA         & NA         & NA         & NA         & 1991-06-20 & NA         & 1991-06-20\\\\\n",
       "\t 13         & 0          & 1988-06-03 & 1991-04-03 & 0          & 0.5        & 3.5        & NA         & NA         & NA         & NA         & NA         & NA         & NA         & 1991-04-03\\\\\n",
       "\t 14         & 0          & 1988-06-15 & 1991-12-02 & 0          & 1.4        & 4.6        & NA         & NA         & 1991-12-02 & 1990-06-11 & NA         & NA         & 1989-06-12 & NA        \\\\\n",
       "\t 15         & 1          & 1988-06-22 & 1993-06-30 & 1          & 1.0        & 4.6        & NA         & NA         & NA         & NA         & NA         & NA         & NA         & NA        \\\\\n",
       "\t 16         & 0          & 1988-06-22 & 1993-06-30 & 1          & 1.3        & 5.3        & NA         & NA         & NA         & NA         & NA         & NA         & NA         & NA        \\\\\n",
       "\t 17         & 0          & 1988-06-28 & 1993-06-30 & 1          & 0.8        & 4.8        & NA         & NA         & 1990-07-18 & NA         & NA         & NA         & NA         & NA        \\\\\n",
       "\t 18         & 0          & 1988-06-29 & 1990-08-01 & 1          & 1.2        & 4.2        & NA         & NA         & NA         & 1990-08-01 & NA         & NA         & 1989-07-25 & 1989-07-25\\\\\n",
       "\t 19         & 1          & 1988-06-30 & 1993-06-30 & 1          & 2.2        & 6.3        & NA         & NA         & NA         & NA         & NA         & NA         & NA         & NA        \\\\\n",
       "\t 20         & 0          & 1988-06-30 & 1991-03-19 & 1          & 3.3        & 6.5        & NA         & 1991-06-06 & NA         & NA         & NA         & NA         & NA         & NA        \\\\\n",
       "\t 21         & 1          & 1988-07-05 & 1992-08-11 & 1          & 3.8        & 5.8        & 1992-08-11 & NA         & 1990-10-09 & NA         & NA         & NA         & NA         & NA        \\\\\n",
       "\t 22         & 1          & 1988-07-22 & 1993-06-30 & 1          & 1.7        & 4.7        & NA         & NA         & NA         & NA         & NA         & NA         & NA         & NA        \\\\\n",
       "\t 23         & 1          & 1988-07-20 & 1992-08-15 & 1          & 0.5        & 4.9        & NA         & NA         & NA         & NA         & NA         & NA         & NA         & NA        \\\\\n",
       "\t 24         & 0          & 1988-07-28 & 1993-06-30 & 1          & 3.4        & 5.6        & NA         & NA         & NA         & 1990-08-01 & NA         & NA         & NA         & NA        \\\\\n",
       "\t 25         & 0          & 1988-07-26 & 1993-06-30 & 1          & 0.6        & 4.7        & NA         & NA         & NA         & 1992-09-14 & NA         & NA         & NA         & NA        \\\\\n",
       "\t 26         & 0          & 1988-07-27 & 1992-11-01 & 1          & 0.7        & 3.0        & NA         & 1993-05-05 & 1990-08-06 & 1990-08-06 & NA         & NA         & 1989-08-01 & 1992-08-18\\\\\n",
       "\t 27         & 1          & 1988-07-29 & 1993-06-30 & 0          & 1.6        & 5.7        & NA         & NA         & 1990-07-30 & NA         & NA         & NA         & NA         & NA        \\\\\n",
       "\t 28         & 1          & 1988-07-28 & 1990-04-22 & 1          & 2.7        & 5.9        & NA         & 1990-04-22 & NA         & NA         & NA         & NA         & NA         & NA        \\\\\n",
       "\t 29         & 0          & 1988-07-27 & 1993-06-30 & 0          & 0.7        & 4.6        & NA         & NA         & 1990-06-12 & 1990-06-12 & NA         & NA         & NA         & NA        \\\\\n",
       "\t 30         & 1          & 1988-08-18 & 1993-06-30 & 1          & 2.1        & 5.6        & NA         & NA         & NA         & 1990-07-30 & NA         & NA         & NA         & NA        \\\\\n",
       "\t ... & ... & ... & ... & ... & ... & ... & ... & ... & ... & ... & ... & ... & ... & ...\\\\\n",
       "\t 141        & 1          & 1990-05-30 & 1993-06-30 & 0          & 1.6        & 5.7        & NA         & NA         & NA         & NA         & NA         & NA         & NA         & NA        \\\\\n",
       "\t 142        & 0          & 1990-06-19 & 1993-06-30 & 1          & 0.4        & 4.0        & NA         & NA         & NA         & NA         & NA         & NA         & NA         & NA        \\\\\n",
       "\t 143        & 0          & 1990-07-10 & 1993-06-30 & 1          & 1.0        & 5.2        & NA         & NA         & NA         & 1992-08-11 & NA         & NA         & NA         & NA        \\\\\n",
       "\t 144        & 0          & 1990-07-12 & 1991-07-11 & 0          & 1.2        & 5.2        & 1991-07-31 & NA         & NA         & NA         & NA         & NA         & 1991-07-11 & NA        \\\\\n",
       "\t 145        & 0          & 1990-07-12 & 1993-06-30 & 1          & 1.5        & 5.4        & NA         & NA         & NA         & NA         & NA         & NA         & NA         & NA        \\\\\n",
       "\t 146        & 1          & 1990-07-11 & 1993-06-30 & 0          & 0.7        & 2.9        & NA         & NA         & NA         & NA         & NA         & NA         & NA         & 1992-10-22\\\\\n",
       "\t 147        & 1          & 1990-07-18 & 1993-06-30 & 0          & 0.5        & 4.0        & NA         & NA         & NA         & NA         & NA         & NA         & NA         & NA        \\\\\n",
       "\t 148        & 1          & 1990-08-07 & 1993-06-30 & 0          & 0.3        & 4.2        & NA         & NA         & NA         & NA         & NA         & NA         & NA         & NA        \\\\\n",
       "\t 149        & 1          & 1990-08-09 & 1993-06-30 & 1          & 0.5        & 4.2        & NA         & NA         & NA         & NA         & NA         & NA         & NA         & NA        \\\\\n",
       "\t 150        & 0          & 1990-09-12 & 1993-06-30 & 1          & 1.0        & 5.0        & NA         & NA         & NA         & 1992-08-17 & NA         & NA         & NA         & NA        \\\\\n",
       "\t 151        & 1          & 1990-03-20 & 1990-03-20 & 0          & 0.7        &  NA        & NA         & NA         & NA         & NA         & NA         & NA         & NA         & NA        \\\\\n",
       "\t 152        & 1          & 1990-08-24 & 1991-01-15 & 1          & 1.7        & 4.6        & NA         & 1991-01-15 & NA         & NA         & NA         & NA         & NA         & NA        \\\\\n",
       "\t 153        & 0          & 1990-06-27 & 1991-02-15 & 1          & 0.8        & 3.3        & NA         & NA         & NA         & NA         & NA         & NA         & NA         & NA        \\\\\n",
       "\t 154        & 0          & 1990-10-29 & 1993-06-30 & 1          & 4.2        & 5.1        & NA         & NA         & 1992-06-24 & 1992-06-24 & NA         & NA         & NA         & NA        \\\\\n",
       "\t 155        & 0          & 1990-11-02 & 1993-06-30 & 0          & 0.4        & 4.4        & NA         & NA         & NA         & NA         & NA         & NA         & NA         & NA        \\\\\n",
       "\t 156        & 1          & 1990-11-27 & 1993-06-30 & 0          & 0.5        & 3.9        & NA         & NA         & NA         & NA         & NA         & NA         & NA         & NA        \\\\\n",
       "\t 157        & 0          & 1990-11-28 & 1993-06-30 & 1          & 2.7        & 6.0        & NA         & NA         & NA         & NA         & NA         & NA         & 1992-09-29 & NA        \\\\\n",
       "\t 158        & 0          & 1990-11-27 & 1993-06-30 & 0          & 0.6        & 4.8        & NA         & NA         & NA         & NA         & NA         & NA         & NA         & NA        \\\\\n",
       "\t 159        & 0          & 1990-12-06 & 1993-04-08 & 1          & 2.0        & 6.1        & NA         & NA         & NA         & NA         & 1991-12-16 & NA         & NA         & NA        \\\\\n",
       "\t 160        & 1          & 1990-12-06 & 1993-06-30 & 1          & 1.5        & 5.3        & NA         & NA         & NA         & NA         & NA         & 1992-10-19 & NA         & 1992-10-19\\\\\n",
       "\t 161        & 1          & 1990-12-06 & 1993-06-30 & 1          & 0.6        & 4.7        & NA         & NA         & NA         & NA         & NA         & NA         & NA         & NA        \\\\\n",
       "\t 162        & 1          & 1991-01-07 & 1993-06-30 & 0          & 1.8        & 5.7        & NA         & NA         & NA         & NA         & NA         & NA         & NA         & NA        \\\\\n",
       "\t 163        & 0          & 1991-01-16 & 1993-06-30 & 0          & 0.4        & 3.8        & NA         & NA         & 1993-04-07 & NA         & NA         & NA         & NA         & NA        \\\\\n",
       "\t 164        & 1          & 1991-01-24 & 1993-06-30 & 1          & 3.2        & 5.5        & NA         & NA         & NA         & NA         & NA         & NA         & NA         & NA        \\\\\n",
       "\t 165        & 0          & 1991-01-31 & 1993-06-30 & 1          & 1.7        & 6.2        & NA         & NA         & NA         & NA         & 1993-03-17 & NA         & NA         & NA        \\\\\n",
       "\t 166        & 0          & 1991-02-13 & 1993-06-30 & 1          & 0.5        & 4.4        & NA         & NA         & NA         & NA         & NA         & NA         & NA         & NA        \\\\\n",
       "\t 167        & 1          & 1991-03-07 & 1993-06-30 & 0          & 0.7        & 3.8        & NA         & NA         & NA         & NA         & NA         & NA         & NA         & 1993-05-25\\\\\n",
       "\t 168        & 1          & 1991-03-28 & 1993-06-30 & 1          & 0.9        & 4.0        & NA         & NA         & NA         & NA         & NA         & NA         & NA         & NA        \\\\\n",
       "\t 169        & 0          & 1991-04-19 & 1993-06-30 & 0          & 1.0        & 5.1        & NA         & NA         & NA         & NA         & NA         & NA         & NA         & NA        \\\\\n",
       "\t 170        & 1          & 1991-05-01 & 1993-06-30 & 0          & 0.4        & 4.2        & NA         & NA         & NA         & NA         & NA         & NA         & NA         & NA        \\\\\n",
       "\\end{tabular}\n"
      ],
      "text/markdown": [
       "\n",
       "| id | trt | entry.dt | last.dt | stage | bili | riskscore | death.dt | tx.dt | hprogress.dt | varices.dt | ascites.dt | enceph.dt | double.dt | worsen.dt |\n",
       "|---|---|---|---|---|---|---|---|---|---|---|---|---|---|---|\n",
       "|  1         | 1          | 1988-04-21 | 1993-06-30 | 1          | 1.0        | 5.1        | NA         | NA         | NA         | NA         | NA         | NA         | NA         | NA         |\n",
       "|  2         | 0          | 1988-04-27 | 1993-06-30 | 1          | 1.7        | 4.2        | NA         | NA         | NA         | NA         | NA         | NA         | NA         | 1992-04-22 |\n",
       "|  3         | 1          | 1988-04-25 | 1993-06-30 | 0          | 0.5        | 3.4        | NA         | NA         | NA         | NA         | NA         | NA         | NA         | NA         |\n",
       "|  4         | 1          | 1988-04-27 | 1989-04-05 | 1          | 1.4        | 5.0        | NA         | NA         | NA         | NA         | NA         | NA         | NA         | NA         |\n",
       "|  5         | 0          | 1988-05-12 | 1993-06-30 | 1          | 1.1        | 4.3        | NA         | NA         | NA         | NA         | NA         | NA         | NA         | NA         |\n",
       "|  6         | 1          | 1988-05-18 | 1990-06-25 | 1          | 1.4        | 5.9        | 1992-01-24 | NA         | NA         | 1990-06-25 | NA         | NA         | NA         | NA         |\n",
       "|  7         | 0          | 1988-05-18 | 1993-06-30 | 1          | 0.6        | 3.8        | NA         | NA         | NA         | NA         | NA         | NA         | NA         | NA         |\n",
       "|  8         | 0          | 1988-05-25 | 1990-07-02 | 1          | 5.1        | 7.4        | 1990-07-22 | NA         | NA         | NA         | 1990-07-02 | 1990-07-02 | 1990-07-02 | 1990-07-02 |\n",
       "|  9         | 0          | 1988-05-27 | 1992-08-26 | 1          | 1.6        | 5.3        | NA         | NA         | NA         | NA         | NA         | NA         | NA         | NA         |\n",
       "| 10         | 1          | 1988-05-26 | 1993-06-30 | 0          | 0.5        | 4.0        | NA         | NA         | NA         | 1990-05-31 | NA         | NA         | NA         | NA         |\n",
       "| 11         | 1          | 1988-06-10 | 1993-06-30 | 1          | 1.7        | 4.5        | NA         | NA         | NA         | NA         | NA         | NA         | NA         | NA         |\n",
       "| 12         | 1          | 1988-06-16 | 1991-06-20 | 0          | 4.1        | 7.1        | 1991-07-07 | NA         | NA         | NA         | NA         | 1991-06-20 | NA         | 1991-06-20 |\n",
       "| 13         | 0          | 1988-06-03 | 1991-04-03 | 0          | 0.5        | 3.5        | NA         | NA         | NA         | NA         | NA         | NA         | NA         | 1991-04-03 |\n",
       "| 14         | 0          | 1988-06-15 | 1991-12-02 | 0          | 1.4        | 4.6        | NA         | NA         | 1991-12-02 | 1990-06-11 | NA         | NA         | 1989-06-12 | NA         |\n",
       "| 15         | 1          | 1988-06-22 | 1993-06-30 | 1          | 1.0        | 4.6        | NA         | NA         | NA         | NA         | NA         | NA         | NA         | NA         |\n",
       "| 16         | 0          | 1988-06-22 | 1993-06-30 | 1          | 1.3        | 5.3        | NA         | NA         | NA         | NA         | NA         | NA         | NA         | NA         |\n",
       "| 17         | 0          | 1988-06-28 | 1993-06-30 | 1          | 0.8        | 4.8        | NA         | NA         | 1990-07-18 | NA         | NA         | NA         | NA         | NA         |\n",
       "| 18         | 0          | 1988-06-29 | 1990-08-01 | 1          | 1.2        | 4.2        | NA         | NA         | NA         | 1990-08-01 | NA         | NA         | 1989-07-25 | 1989-07-25 |\n",
       "| 19         | 1          | 1988-06-30 | 1993-06-30 | 1          | 2.2        | 6.3        | NA         | NA         | NA         | NA         | NA         | NA         | NA         | NA         |\n",
       "| 20         | 0          | 1988-06-30 | 1991-03-19 | 1          | 3.3        | 6.5        | NA         | 1991-06-06 | NA         | NA         | NA         | NA         | NA         | NA         |\n",
       "| 21         | 1          | 1988-07-05 | 1992-08-11 | 1          | 3.8        | 5.8        | 1992-08-11 | NA         | 1990-10-09 | NA         | NA         | NA         | NA         | NA         |\n",
       "| 22         | 1          | 1988-07-22 | 1993-06-30 | 1          | 1.7        | 4.7        | NA         | NA         | NA         | NA         | NA         | NA         | NA         | NA         |\n",
       "| 23         | 1          | 1988-07-20 | 1992-08-15 | 1          | 0.5        | 4.9        | NA         | NA         | NA         | NA         | NA         | NA         | NA         | NA         |\n",
       "| 24         | 0          | 1988-07-28 | 1993-06-30 | 1          | 3.4        | 5.6        | NA         | NA         | NA         | 1990-08-01 | NA         | NA         | NA         | NA         |\n",
       "| 25         | 0          | 1988-07-26 | 1993-06-30 | 1          | 0.6        | 4.7        | NA         | NA         | NA         | 1992-09-14 | NA         | NA         | NA         | NA         |\n",
       "| 26         | 0          | 1988-07-27 | 1992-11-01 | 1          | 0.7        | 3.0        | NA         | 1993-05-05 | 1990-08-06 | 1990-08-06 | NA         | NA         | 1989-08-01 | 1992-08-18 |\n",
       "| 27         | 1          | 1988-07-29 | 1993-06-30 | 0          | 1.6        | 5.7        | NA         | NA         | 1990-07-30 | NA         | NA         | NA         | NA         | NA         |\n",
       "| 28         | 1          | 1988-07-28 | 1990-04-22 | 1          | 2.7        | 5.9        | NA         | 1990-04-22 | NA         | NA         | NA         | NA         | NA         | NA         |\n",
       "| 29         | 0          | 1988-07-27 | 1993-06-30 | 0          | 0.7        | 4.6        | NA         | NA         | 1990-06-12 | 1990-06-12 | NA         | NA         | NA         | NA         |\n",
       "| 30         | 1          | 1988-08-18 | 1993-06-30 | 1          | 2.1        | 5.6        | NA         | NA         | NA         | 1990-07-30 | NA         | NA         | NA         | NA         |\n",
       "| ... | ... | ... | ... | ... | ... | ... | ... | ... | ... | ... | ... | ... | ... | ... |\n",
       "| 141        | 1          | 1990-05-30 | 1993-06-30 | 0          | 1.6        | 5.7        | NA         | NA         | NA         | NA         | NA         | NA         | NA         | NA         |\n",
       "| 142        | 0          | 1990-06-19 | 1993-06-30 | 1          | 0.4        | 4.0        | NA         | NA         | NA         | NA         | NA         | NA         | NA         | NA         |\n",
       "| 143        | 0          | 1990-07-10 | 1993-06-30 | 1          | 1.0        | 5.2        | NA         | NA         | NA         | 1992-08-11 | NA         | NA         | NA         | NA         |\n",
       "| 144        | 0          | 1990-07-12 | 1991-07-11 | 0          | 1.2        | 5.2        | 1991-07-31 | NA         | NA         | NA         | NA         | NA         | 1991-07-11 | NA         |\n",
       "| 145        | 0          | 1990-07-12 | 1993-06-30 | 1          | 1.5        | 5.4        | NA         | NA         | NA         | NA         | NA         | NA         | NA         | NA         |\n",
       "| 146        | 1          | 1990-07-11 | 1993-06-30 | 0          | 0.7        | 2.9        | NA         | NA         | NA         | NA         | NA         | NA         | NA         | 1992-10-22 |\n",
       "| 147        | 1          | 1990-07-18 | 1993-06-30 | 0          | 0.5        | 4.0        | NA         | NA         | NA         | NA         | NA         | NA         | NA         | NA         |\n",
       "| 148        | 1          | 1990-08-07 | 1993-06-30 | 0          | 0.3        | 4.2        | NA         | NA         | NA         | NA         | NA         | NA         | NA         | NA         |\n",
       "| 149        | 1          | 1990-08-09 | 1993-06-30 | 1          | 0.5        | 4.2        | NA         | NA         | NA         | NA         | NA         | NA         | NA         | NA         |\n",
       "| 150        | 0          | 1990-09-12 | 1993-06-30 | 1          | 1.0        | 5.0        | NA         | NA         | NA         | 1992-08-17 | NA         | NA         | NA         | NA         |\n",
       "| 151        | 1          | 1990-03-20 | 1990-03-20 | 0          | 0.7        |  NA        | NA         | NA         | NA         | NA         | NA         | NA         | NA         | NA         |\n",
       "| 152        | 1          | 1990-08-24 | 1991-01-15 | 1          | 1.7        | 4.6        | NA         | 1991-01-15 | NA         | NA         | NA         | NA         | NA         | NA         |\n",
       "| 153        | 0          | 1990-06-27 | 1991-02-15 | 1          | 0.8        | 3.3        | NA         | NA         | NA         | NA         | NA         | NA         | NA         | NA         |\n",
       "| 154        | 0          | 1990-10-29 | 1993-06-30 | 1          | 4.2        | 5.1        | NA         | NA         | 1992-06-24 | 1992-06-24 | NA         | NA         | NA         | NA         |\n",
       "| 155        | 0          | 1990-11-02 | 1993-06-30 | 0          | 0.4        | 4.4        | NA         | NA         | NA         | NA         | NA         | NA         | NA         | NA         |\n",
       "| 156        | 1          | 1990-11-27 | 1993-06-30 | 0          | 0.5        | 3.9        | NA         | NA         | NA         | NA         | NA         | NA         | NA         | NA         |\n",
       "| 157        | 0          | 1990-11-28 | 1993-06-30 | 1          | 2.7        | 6.0        | NA         | NA         | NA         | NA         | NA         | NA         | 1992-09-29 | NA         |\n",
       "| 158        | 0          | 1990-11-27 | 1993-06-30 | 0          | 0.6        | 4.8        | NA         | NA         | NA         | NA         | NA         | NA         | NA         | NA         |\n",
       "| 159        | 0          | 1990-12-06 | 1993-04-08 | 1          | 2.0        | 6.1        | NA         | NA         | NA         | NA         | 1991-12-16 | NA         | NA         | NA         |\n",
       "| 160        | 1          | 1990-12-06 | 1993-06-30 | 1          | 1.5        | 5.3        | NA         | NA         | NA         | NA         | NA         | 1992-10-19 | NA         | 1992-10-19 |\n",
       "| 161        | 1          | 1990-12-06 | 1993-06-30 | 1          | 0.6        | 4.7        | NA         | NA         | NA         | NA         | NA         | NA         | NA         | NA         |\n",
       "| 162        | 1          | 1991-01-07 | 1993-06-30 | 0          | 1.8        | 5.7        | NA         | NA         | NA         | NA         | NA         | NA         | NA         | NA         |\n",
       "| 163        | 0          | 1991-01-16 | 1993-06-30 | 0          | 0.4        | 3.8        | NA         | NA         | 1993-04-07 | NA         | NA         | NA         | NA         | NA         |\n",
       "| 164        | 1          | 1991-01-24 | 1993-06-30 | 1          | 3.2        | 5.5        | NA         | NA         | NA         | NA         | NA         | NA         | NA         | NA         |\n",
       "| 165        | 0          | 1991-01-31 | 1993-06-30 | 1          | 1.7        | 6.2        | NA         | NA         | NA         | NA         | 1993-03-17 | NA         | NA         | NA         |\n",
       "| 166        | 0          | 1991-02-13 | 1993-06-30 | 1          | 0.5        | 4.4        | NA         | NA         | NA         | NA         | NA         | NA         | NA         | NA         |\n",
       "| 167        | 1          | 1991-03-07 | 1993-06-30 | 0          | 0.7        | 3.8        | NA         | NA         | NA         | NA         | NA         | NA         | NA         | 1993-05-25 |\n",
       "| 168        | 1          | 1991-03-28 | 1993-06-30 | 1          | 0.9        | 4.0        | NA         | NA         | NA         | NA         | NA         | NA         | NA         | NA         |\n",
       "| 169        | 0          | 1991-04-19 | 1993-06-30 | 0          | 1.0        | 5.1        | NA         | NA         | NA         | NA         | NA         | NA         | NA         | NA         |\n",
       "| 170        | 1          | 1991-05-01 | 1993-06-30 | 0          | 0.4        | 4.2        | NA         | NA         | NA         | NA         | NA         | NA         | NA         | NA         |\n",
       "\n"
      ],
      "text/plain": [
       "    id  trt entry.dt   last.dt    stage bili riskscore death.dt   tx.dt     \n",
       "1    1  1   1988-04-21 1993-06-30 1     1.0  5.1       <NA>       <NA>      \n",
       "2    2  0   1988-04-27 1993-06-30 1     1.7  4.2       <NA>       <NA>      \n",
       "3    3  1   1988-04-25 1993-06-30 0     0.5  3.4       <NA>       <NA>      \n",
       "4    4  1   1988-04-27 1989-04-05 1     1.4  5.0       <NA>       <NA>      \n",
       "5    5  0   1988-05-12 1993-06-30 1     1.1  4.3       <NA>       <NA>      \n",
       "6    6  1   1988-05-18 1990-06-25 1     1.4  5.9       1992-01-24 <NA>      \n",
       "7    7  0   1988-05-18 1993-06-30 1     0.6  3.8       <NA>       <NA>      \n",
       "8    8  0   1988-05-25 1990-07-02 1     5.1  7.4       1990-07-22 <NA>      \n",
       "9    9  0   1988-05-27 1992-08-26 1     1.6  5.3       <NA>       <NA>      \n",
       "10  10  1   1988-05-26 1993-06-30 0     0.5  4.0       <NA>       <NA>      \n",
       "11  11  1   1988-06-10 1993-06-30 1     1.7  4.5       <NA>       <NA>      \n",
       "12  12  1   1988-06-16 1991-06-20 0     4.1  7.1       1991-07-07 <NA>      \n",
       "13  13  0   1988-06-03 1991-04-03 0     0.5  3.5       <NA>       <NA>      \n",
       "14  14  0   1988-06-15 1991-12-02 0     1.4  4.6       <NA>       <NA>      \n",
       "15  15  1   1988-06-22 1993-06-30 1     1.0  4.6       <NA>       <NA>      \n",
       "16  16  0   1988-06-22 1993-06-30 1     1.3  5.3       <NA>       <NA>      \n",
       "17  17  0   1988-06-28 1993-06-30 1     0.8  4.8       <NA>       <NA>      \n",
       "18  18  0   1988-06-29 1990-08-01 1     1.2  4.2       <NA>       <NA>      \n",
       "19  19  1   1988-06-30 1993-06-30 1     2.2  6.3       <NA>       <NA>      \n",
       "20  20  0   1988-06-30 1991-03-19 1     3.3  6.5       <NA>       1991-06-06\n",
       "21  21  1   1988-07-05 1992-08-11 1     3.8  5.8       1992-08-11 <NA>      \n",
       "22  22  1   1988-07-22 1993-06-30 1     1.7  4.7       <NA>       <NA>      \n",
       "23  23  1   1988-07-20 1992-08-15 1     0.5  4.9       <NA>       <NA>      \n",
       "24  24  0   1988-07-28 1993-06-30 1     3.4  5.6       <NA>       <NA>      \n",
       "25  25  0   1988-07-26 1993-06-30 1     0.6  4.7       <NA>       <NA>      \n",
       "26  26  0   1988-07-27 1992-11-01 1     0.7  3.0       <NA>       1993-05-05\n",
       "27  27  1   1988-07-29 1993-06-30 0     1.6  5.7       <NA>       <NA>      \n",
       "28  28  1   1988-07-28 1990-04-22 1     2.7  5.9       <NA>       1990-04-22\n",
       "29  29  0   1988-07-27 1993-06-30 0     0.7  4.6       <NA>       <NA>      \n",
       "30  30  1   1988-08-18 1993-06-30 1     2.1  5.6       <NA>       <NA>      \n",
       "... ... ... ...        ...        ...   ...  ...       ...        ...       \n",
       "141 141 1   1990-05-30 1993-06-30 0     1.6  5.7       <NA>       <NA>      \n",
       "142 142 0   1990-06-19 1993-06-30 1     0.4  4.0       <NA>       <NA>      \n",
       "143 143 0   1990-07-10 1993-06-30 1     1.0  5.2       <NA>       <NA>      \n",
       "144 144 0   1990-07-12 1991-07-11 0     1.2  5.2       1991-07-31 <NA>      \n",
       "145 145 0   1990-07-12 1993-06-30 1     1.5  5.4       <NA>       <NA>      \n",
       "146 146 1   1990-07-11 1993-06-30 0     0.7  2.9       <NA>       <NA>      \n",
       "147 147 1   1990-07-18 1993-06-30 0     0.5  4.0       <NA>       <NA>      \n",
       "148 148 1   1990-08-07 1993-06-30 0     0.3  4.2       <NA>       <NA>      \n",
       "149 149 1   1990-08-09 1993-06-30 1     0.5  4.2       <NA>       <NA>      \n",
       "150 150 0   1990-09-12 1993-06-30 1     1.0  5.0       <NA>       <NA>      \n",
       "151 151 1   1990-03-20 1990-03-20 0     0.7   NA       <NA>       <NA>      \n",
       "152 152 1   1990-08-24 1991-01-15 1     1.7  4.6       <NA>       1991-01-15\n",
       "153 153 0   1990-06-27 1991-02-15 1     0.8  3.3       <NA>       <NA>      \n",
       "154 154 0   1990-10-29 1993-06-30 1     4.2  5.1       <NA>       <NA>      \n",
       "155 155 0   1990-11-02 1993-06-30 0     0.4  4.4       <NA>       <NA>      \n",
       "156 156 1   1990-11-27 1993-06-30 0     0.5  3.9       <NA>       <NA>      \n",
       "157 157 0   1990-11-28 1993-06-30 1     2.7  6.0       <NA>       <NA>      \n",
       "158 158 0   1990-11-27 1993-06-30 0     0.6  4.8       <NA>       <NA>      \n",
       "159 159 0   1990-12-06 1993-04-08 1     2.0  6.1       <NA>       <NA>      \n",
       "160 160 1   1990-12-06 1993-06-30 1     1.5  5.3       <NA>       <NA>      \n",
       "161 161 1   1990-12-06 1993-06-30 1     0.6  4.7       <NA>       <NA>      \n",
       "162 162 1   1991-01-07 1993-06-30 0     1.8  5.7       <NA>       <NA>      \n",
       "163 163 0   1991-01-16 1993-06-30 0     0.4  3.8       <NA>       <NA>      \n",
       "164 164 1   1991-01-24 1993-06-30 1     3.2  5.5       <NA>       <NA>      \n",
       "165 165 0   1991-01-31 1993-06-30 1     1.7  6.2       <NA>       <NA>      \n",
       "166 166 0   1991-02-13 1993-06-30 1     0.5  4.4       <NA>       <NA>      \n",
       "167 167 1   1991-03-07 1993-06-30 0     0.7  3.8       <NA>       <NA>      \n",
       "168 168 1   1991-03-28 1993-06-30 1     0.9  4.0       <NA>       <NA>      \n",
       "169 169 0   1991-04-19 1993-06-30 0     1.0  5.1       <NA>       <NA>      \n",
       "170 170 1   1991-05-01 1993-06-30 0     0.4  4.2       <NA>       <NA>      \n",
       "    hprogress.dt varices.dt ascites.dt enceph.dt  double.dt  worsen.dt \n",
       "1   <NA>         <NA>       <NA>       <NA>       <NA>       <NA>      \n",
       "2   <NA>         <NA>       <NA>       <NA>       <NA>       1992-04-22\n",
       "3   <NA>         <NA>       <NA>       <NA>       <NA>       <NA>      \n",
       "4   <NA>         <NA>       <NA>       <NA>       <NA>       <NA>      \n",
       "5   <NA>         <NA>       <NA>       <NA>       <NA>       <NA>      \n",
       "6   <NA>         1990-06-25 <NA>       <NA>       <NA>       <NA>      \n",
       "7   <NA>         <NA>       <NA>       <NA>       <NA>       <NA>      \n",
       "8   <NA>         <NA>       1990-07-02 1990-07-02 1990-07-02 1990-07-02\n",
       "9   <NA>         <NA>       <NA>       <NA>       <NA>       <NA>      \n",
       "10  <NA>         1990-05-31 <NA>       <NA>       <NA>       <NA>      \n",
       "11  <NA>         <NA>       <NA>       <NA>       <NA>       <NA>      \n",
       "12  <NA>         <NA>       <NA>       1991-06-20 <NA>       1991-06-20\n",
       "13  <NA>         <NA>       <NA>       <NA>       <NA>       1991-04-03\n",
       "14  1991-12-02   1990-06-11 <NA>       <NA>       1989-06-12 <NA>      \n",
       "15  <NA>         <NA>       <NA>       <NA>       <NA>       <NA>      \n",
       "16  <NA>         <NA>       <NA>       <NA>       <NA>       <NA>      \n",
       "17  1990-07-18   <NA>       <NA>       <NA>       <NA>       <NA>      \n",
       "18  <NA>         1990-08-01 <NA>       <NA>       1989-07-25 1989-07-25\n",
       "19  <NA>         <NA>       <NA>       <NA>       <NA>       <NA>      \n",
       "20  <NA>         <NA>       <NA>       <NA>       <NA>       <NA>      \n",
       "21  1990-10-09   <NA>       <NA>       <NA>       <NA>       <NA>      \n",
       "22  <NA>         <NA>       <NA>       <NA>       <NA>       <NA>      \n",
       "23  <NA>         <NA>       <NA>       <NA>       <NA>       <NA>      \n",
       "24  <NA>         1990-08-01 <NA>       <NA>       <NA>       <NA>      \n",
       "25  <NA>         1992-09-14 <NA>       <NA>       <NA>       <NA>      \n",
       "26  1990-08-06   1990-08-06 <NA>       <NA>       1989-08-01 1992-08-18\n",
       "27  1990-07-30   <NA>       <NA>       <NA>       <NA>       <NA>      \n",
       "28  <NA>         <NA>       <NA>       <NA>       <NA>       <NA>      \n",
       "29  1990-06-12   1990-06-12 <NA>       <NA>       <NA>       <NA>      \n",
       "30  <NA>         1990-07-30 <NA>       <NA>       <NA>       <NA>      \n",
       "... ...          ...        ...        ...        ...        ...       \n",
       "141 <NA>         <NA>       <NA>       <NA>       <NA>       <NA>      \n",
       "142 <NA>         <NA>       <NA>       <NA>       <NA>       <NA>      \n",
       "143 <NA>         1992-08-11 <NA>       <NA>       <NA>       <NA>      \n",
       "144 <NA>         <NA>       <NA>       <NA>       1991-07-11 <NA>      \n",
       "145 <NA>         <NA>       <NA>       <NA>       <NA>       <NA>      \n",
       "146 <NA>         <NA>       <NA>       <NA>       <NA>       1992-10-22\n",
       "147 <NA>         <NA>       <NA>       <NA>       <NA>       <NA>      \n",
       "148 <NA>         <NA>       <NA>       <NA>       <NA>       <NA>      \n",
       "149 <NA>         <NA>       <NA>       <NA>       <NA>       <NA>      \n",
       "150 <NA>         1992-08-17 <NA>       <NA>       <NA>       <NA>      \n",
       "151 <NA>         <NA>       <NA>       <NA>       <NA>       <NA>      \n",
       "152 <NA>         <NA>       <NA>       <NA>       <NA>       <NA>      \n",
       "153 <NA>         <NA>       <NA>       <NA>       <NA>       <NA>      \n",
       "154 1992-06-24   1992-06-24 <NA>       <NA>       <NA>       <NA>      \n",
       "155 <NA>         <NA>       <NA>       <NA>       <NA>       <NA>      \n",
       "156 <NA>         <NA>       <NA>       <NA>       <NA>       <NA>      \n",
       "157 <NA>         <NA>       <NA>       <NA>       1992-09-29 <NA>      \n",
       "158 <NA>         <NA>       <NA>       <NA>       <NA>       <NA>      \n",
       "159 <NA>         <NA>       1991-12-16 <NA>       <NA>       <NA>      \n",
       "160 <NA>         <NA>       <NA>       1992-10-19 <NA>       1992-10-19\n",
       "161 <NA>         <NA>       <NA>       <NA>       <NA>       <NA>      \n",
       "162 <NA>         <NA>       <NA>       <NA>       <NA>       <NA>      \n",
       "163 1993-04-07   <NA>       <NA>       <NA>       <NA>       <NA>      \n",
       "164 <NA>         <NA>       <NA>       <NA>       <NA>       <NA>      \n",
       "165 <NA>         <NA>       1993-03-17 <NA>       <NA>       <NA>      \n",
       "166 <NA>         <NA>       <NA>       <NA>       <NA>       <NA>      \n",
       "167 <NA>         <NA>       <NA>       <NA>       <NA>       1993-05-25\n",
       "168 <NA>         <NA>       <NA>       <NA>       <NA>       <NA>      \n",
       "169 <NA>         <NA>       <NA>       <NA>       <NA>       <NA>      \n",
       "170 <NA>         <NA>       <NA>       <NA>       <NA>       <NA>      "
      ]
     },
     "metadata": {},
     "output_type": "display_data"
    }
   ],
   "source": [
    "udca"
   ]
  },
  {
   "cell_type": "code",
   "execution_count": 4,
   "id": "covered-opportunity",
   "metadata": {},
   "outputs": [
    {
     "name": "stderr",
     "output_type": "stream",
     "text": [
      "Warning message in data(udca1):\n",
      "\"data set 'udca1' not found\""
     ]
    }
   ],
   "source": [
    "data(udca1)"
   ]
  },
  {
   "cell_type": "code",
   "execution_count": 5,
   "id": "worth-application",
   "metadata": {},
   "outputs": [
    {
     "data": {
      "text/html": [
       "<table>\n",
       "<thead><tr><th scope=col>id</th><th scope=col>trt</th><th scope=col>stage</th><th scope=col>bili</th><th scope=col>riskscore</th><th scope=col>futime</th><th scope=col>status</th></tr></thead>\n",
       "<tbody>\n",
       "\t<tr><td>1   </td><td>1   </td><td>1   </td><td>1.0 </td><td>5.1 </td><td>1896</td><td>0   </td></tr>\n",
       "\t<tr><td>2   </td><td>0   </td><td>1   </td><td>1.7 </td><td>4.2 </td><td>1456</td><td>1   </td></tr>\n",
       "\t<tr><td>3   </td><td>1   </td><td>0   </td><td>0.5 </td><td>3.4 </td><td>1892</td><td>0   </td></tr>\n",
       "\t<tr><td>4   </td><td>1   </td><td>1   </td><td>1.4 </td><td>5.0 </td><td> 343</td><td>0   </td></tr>\n",
       "\t<tr><td>5   </td><td>0   </td><td>1   </td><td>1.1 </td><td>4.3 </td><td>1875</td><td>0   </td></tr>\n",
       "\t<tr><td>6   </td><td>1   </td><td>1   </td><td>1.4 </td><td>5.9 </td><td> 768</td><td>1   </td></tr>\n",
       "</tbody>\n",
       "</table>\n"
      ],
      "text/latex": [
       "\\begin{tabular}{r|lllllll}\n",
       " id & trt & stage & bili & riskscore & futime & status\\\\\n",
       "\\hline\n",
       "\t 1    & 1    & 1    & 1.0  & 5.1  & 1896 & 0   \\\\\n",
       "\t 2    & 0    & 1    & 1.7  & 4.2  & 1456 & 1   \\\\\n",
       "\t 3    & 1    & 0    & 0.5  & 3.4  & 1892 & 0   \\\\\n",
       "\t 4    & 1    & 1    & 1.4  & 5.0  &  343 & 0   \\\\\n",
       "\t 5    & 0    & 1    & 1.1  & 4.3  & 1875 & 0   \\\\\n",
       "\t 6    & 1    & 1    & 1.4  & 5.9  &  768 & 1   \\\\\n",
       "\\end{tabular}\n"
      ],
      "text/markdown": [
       "\n",
       "| id | trt | stage | bili | riskscore | futime | status |\n",
       "|---|---|---|---|---|---|---|\n",
       "| 1    | 1    | 1    | 1.0  | 5.1  | 1896 | 0    |\n",
       "| 2    | 0    | 1    | 1.7  | 4.2  | 1456 | 1    |\n",
       "| 3    | 1    | 0    | 0.5  | 3.4  | 1892 | 0    |\n",
       "| 4    | 1    | 1    | 1.4  | 5.0  |  343 | 0    |\n",
       "| 5    | 0    | 1    | 1.1  | 4.3  | 1875 | 0    |\n",
       "| 6    | 1    | 1    | 1.4  | 5.9  |  768 | 1    |\n",
       "\n"
      ],
      "text/plain": [
       "  id trt stage bili riskscore futime status\n",
       "1 1  1   1     1.0  5.1       1896   0     \n",
       "2 2  0   1     1.7  4.2       1456   1     \n",
       "3 3  1   0     0.5  3.4       1892   0     \n",
       "4 4  1   1     1.4  5.0        343   0     \n",
       "5 5  0   1     1.1  4.3       1875   0     \n",
       "6 6  1   1     1.4  5.9        768   1     "
      ]
     },
     "metadata": {},
     "output_type": "display_data"
    }
   ],
   "source": [
    "head(udca1)"
   ]
  },
  {
   "cell_type": "markdown",
   "id": "large-semester",
   "metadata": {},
   "source": [
    "**Descripción de datos.**"
   ]
  },
  {
   "cell_type": "code",
   "execution_count": 6,
   "id": "postal-chaos",
   "metadata": {},
   "outputs": [
    {
     "data": {
      "text/html": [
       "<ol class=list-inline>\n",
       "\t<li>170</li>\n",
       "\t<li>7</li>\n",
       "</ol>\n"
      ],
      "text/latex": [
       "\\begin{enumerate*}\n",
       "\\item 170\n",
       "\\item 7\n",
       "\\end{enumerate*}\n"
      ],
      "text/markdown": [
       "1. 170\n",
       "2. 7\n",
       "\n",
       "\n"
      ],
      "text/plain": [
       "[1] 170   7"
      ]
     },
     "metadata": {},
     "output_type": "display_data"
    },
    {
     "data": {
      "text/html": [
       "'data.frame'"
      ],
      "text/latex": [
       "'data.frame'"
      ],
      "text/markdown": [
       "'data.frame'"
      ],
      "text/plain": [
       "[1] \"data.frame\""
      ]
     },
     "metadata": {},
     "output_type": "display_data"
    }
   ],
   "source": [
    "dim(udca1) \n",
    "class(udca1) "
   ]
  },
  {
   "cell_type": "code",
   "execution_count": 7,
   "id": "sophisticated-investor",
   "metadata": {},
   "outputs": [],
   "source": [
    "help(udca1)"
   ]
  },
  {
   "cell_type": "markdown",
   "id": "advance-creature",
   "metadata": {},
   "source": [
    "**Limpieza de datos.**"
   ]
  },
  {
   "cell_type": "markdown",
   "id": "auburn-button",
   "metadata": {},
   "source": [
    "**Revisión de NA´s,**"
   ]
  },
  {
   "cell_type": "code",
   "execution_count": 8,
   "id": "valued-campaign",
   "metadata": {},
   "outputs": [
    {
     "data": {
      "text/html": [
       "1"
      ],
      "text/latex": [
       "1"
      ],
      "text/markdown": [
       "1"
      ],
      "text/plain": [
       "[1] 1"
      ]
     },
     "metadata": {},
     "output_type": "display_data"
    }
   ],
   "source": [
    "sum(is.na(udca1))"
   ]
  },
  {
   "cell_type": "code",
   "execution_count": 9,
   "id": "verbal-failure",
   "metadata": {},
   "outputs": [
    {
     "data": {
      "text/html": [
       "<dl class=dl-horizontal>\n",
       "\t<dt>id</dt>\n",
       "\t\t<dd>0</dd>\n",
       "\t<dt>trt</dt>\n",
       "\t\t<dd>0</dd>\n",
       "\t<dt>stage</dt>\n",
       "\t\t<dd>0</dd>\n",
       "\t<dt>bili</dt>\n",
       "\t\t<dd>0</dd>\n",
       "\t<dt>riskscore</dt>\n",
       "\t\t<dd>1</dd>\n",
       "\t<dt>futime</dt>\n",
       "\t\t<dd>0</dd>\n",
       "\t<dt>status</dt>\n",
       "\t\t<dd>0</dd>\n",
       "</dl>\n"
      ],
      "text/latex": [
       "\\begin{description*}\n",
       "\\item[id] 0\n",
       "\\item[trt] 0\n",
       "\\item[stage] 0\n",
       "\\item[bili] 0\n",
       "\\item[riskscore] 1\n",
       "\\item[futime] 0\n",
       "\\item[status] 0\n",
       "\\end{description*}\n"
      ],
      "text/markdown": [
       "id\n",
       ":   0trt\n",
       ":   0stage\n",
       ":   0bili\n",
       ":   0riskscore\n",
       ":   1futime\n",
       ":   0status\n",
       ":   0\n",
       "\n"
      ],
      "text/plain": [
       "       id       trt     stage      bili riskscore    futime    status \n",
       "        0         0         0         0         1         0         0 "
      ]
     },
     "metadata": {},
     "output_type": "display_data"
    }
   ],
   "source": [
    "sapply(udca1, function(x) sum(is.na(x)))"
   ]
  },
  {
   "cell_type": "markdown",
   "id": "cutting-sigma",
   "metadata": {},
   "source": [
    "*Hay un NA es riskscore.*"
   ]
  },
  {
   "cell_type": "code",
   "execution_count": 10,
   "id": "synthetic-gnome",
   "metadata": {},
   "outputs": [],
   "source": [
    "udca1<-na.omit(udca1)"
   ]
  },
  {
   "cell_type": "markdown",
   "id": "trying-march",
   "metadata": {},
   "source": [
    "**Nota:** Se omite ese dato NA, para el análisis de la base."
   ]
  },
  {
   "cell_type": "code",
   "execution_count": 11,
   "id": "flying-breath",
   "metadata": {},
   "outputs": [
    {
     "data": {
      "text/html": [
       "0"
      ],
      "text/latex": [
       "0"
      ],
      "text/markdown": [
       "0"
      ],
      "text/plain": [
       "[1] 0"
      ]
     },
     "metadata": {},
     "output_type": "display_data"
    }
   ],
   "source": [
    "sum(is.na(udca1))"
   ]
  },
  {
   "cell_type": "markdown",
   "id": "concerned-measure",
   "metadata": {},
   "source": [
    "## Objetivos."
   ]
  },
  {
   "cell_type": "markdown",
   "id": "signal-laptop",
   "metadata": {},
   "source": [
    "* Determinar si hay diferencia significativa en el mantenimiento de las funciones del hígado al que se le dio como tratamiento UDCA de los que tomaron el placebo. \n",
    "\n",
    "* Determinar que variables son significativas para el mantenimiento de las funciones del hígado. "
   ]
  },
  {
   "cell_type": "markdown",
   "id": "subtle-politics",
   "metadata": {},
   "source": [
    "## Análisis."
   ]
  },
  {
   "cell_type": "markdown",
   "id": "vital-wrestling",
   "metadata": {},
   "source": [
    "### Análisis descriptivo de los datos."
   ]
  },
  {
   "cell_type": "markdown",
   "id": "proof-bernard",
   "metadata": {},
   "source": [
    "**Número de eventos de interés.**"
   ]
  },
  {
   "cell_type": "code",
   "execution_count": 12,
   "id": "initial-roman",
   "metadata": {},
   "outputs": [
    {
     "data": {
      "text/html": [
       "72"
      ],
      "text/latex": [
       "72"
      ],
      "text/markdown": [
       "72"
      ],
      "text/plain": [
       "[1] 72"
      ]
     },
     "metadata": {},
     "output_type": "display_data"
    }
   ],
   "source": [
    "sum(udca1$status)"
   ]
  },
  {
   "cell_type": "markdown",
   "id": "minus-university",
   "metadata": {},
   "source": [
    "**Nota:** De los 169 datos, 72 son de nuestro evento de interés."
   ]
  },
  {
   "cell_type": "markdown",
   "id": "later-supervisor",
   "metadata": {},
   "source": [
    "**Promedio de tiempo de eventos.**"
   ]
  },
  {
   "cell_type": "markdown",
   "id": "criminal-privilege",
   "metadata": {},
   "source": [
    "*Evento de interés.*"
   ]
  },
  {
   "cell_type": "code",
   "execution_count": 13,
   "id": "faced-palestinian",
   "metadata": {},
   "outputs": [
    {
     "data": {
      "text/html": [
       "742.777777777778"
      ],
      "text/latex": [
       "742.777777777778"
      ],
      "text/markdown": [
       "742.777777777778"
      ],
      "text/plain": [
       "[1] 742.7778"
      ]
     },
     "metadata": {},
     "output_type": "display_data"
    }
   ],
   "source": [
    "mean(udca1$futime[udca1$status==1])"
   ]
  },
  {
   "cell_type": "markdown",
   "id": "adjacent-administration",
   "metadata": {},
   "source": [
    "**Tablas de contingencia.**"
   ]
  },
  {
   "cell_type": "markdown",
   "id": "eight-lingerie",
   "metadata": {},
   "source": [
    "* **Por tratamiento.**"
   ]
  },
  {
   "cell_type": "markdown",
   "id": "handed-filling",
   "metadata": {},
   "source": [
    "* 0: placebo.\n",
    "* 1: UDCA."
   ]
  },
  {
   "cell_type": "code",
   "execution_count": 14,
   "id": "cheap-butler",
   "metadata": {},
   "outputs": [
    {
     "data": {
      "text/plain": [
       "       tratamiento\n",
       "estatus  0  1\n",
       "      0 39 58\n",
       "      1 45 27"
      ]
     },
     "metadata": {},
     "output_type": "display_data"
    }
   ],
   "source": [
    "table(udca1$status,udca1$trt, dnn = c('estatus','tratamiento'))"
   ]
  },
  {
   "cell_type": "code",
   "execution_count": 15,
   "id": "chubby-morocco",
   "metadata": {},
   "outputs": [
    {
     "data": {
      "text/plain": [
       "tratamiento\n",
       "Placebo    UDCA \n",
       "     84      85 "
      ]
     },
     "metadata": {},
     "output_type": "display_data"
    }
   ],
   "source": [
    "tratamiento <- factor(udca1$trt)\n",
    "levels(tratamiento) <- c('Placebo', 'UDCA')\n",
    "table(tratamiento)"
   ]
  },
  {
   "cell_type": "markdown",
   "id": "better-trout",
   "metadata": {},
   "source": [
    "* **Por etapa.**"
   ]
  },
  {
   "cell_type": "code",
   "execution_count": 16,
   "id": "theoretical-asset",
   "metadata": {},
   "outputs": [
    {
     "data": {
      "text/plain": [
       "       etapa\n",
       "estatus  0  1\n",
       "      0 34 63\n",
       "      1 18 54"
      ]
     },
     "metadata": {},
     "output_type": "display_data"
    }
   ],
   "source": [
    "table(udca1$status,udca1$stage, dnn = c('estatus','etapa'))"
   ]
  },
  {
   "cell_type": "code",
   "execution_count": 17,
   "id": "sunset-necklace",
   "metadata": {},
   "outputs": [
    {
     "data": {
      "text/plain": [
       "etapa\n",
       "etapa 1 etapa 2 \n",
       "     52     117 "
      ]
     },
     "metadata": {},
     "output_type": "display_data"
    }
   ],
   "source": [
    "etapa <- factor(udca1$stage)\n",
    "levels(etapa) <- c('etapa 1', 'etapa 2')\n",
    "table(etapa)"
   ]
  },
  {
   "cell_type": "markdown",
   "id": "impressive-gallery",
   "metadata": {},
   "source": [
    "**Gráficos de mosaicos.**"
   ]
  },
  {
   "cell_type": "markdown",
   "id": "indie-stadium",
   "metadata": {},
   "source": [
    "* **Por tratamiento.**"
   ]
  },
  {
   "cell_type": "code",
   "execution_count": 18,
   "id": "stupid-frequency",
   "metadata": {},
   "outputs": [
    {
     "data": {
      "image/png": "[encoded data removed]",
      "text/plain": [
       "Plot with title \"table(udca1$status, udca1$trt)\""
      ]
     },
     "metadata": {},
     "output_type": "display_data"
    }
   ],
   "source": [
    "mosaicplot(table(udca1$status,udca1$trt), color=c(\"green\", \"magenta\"))"
   ]
  },
  {
   "cell_type": "markdown",
   "id": "meaning-consolidation",
   "metadata": {},
   "source": [
    "* **Por etapa.**"
   ]
  },
  {
   "cell_type": "code",
   "execution_count": 19,
   "id": "laden-virginia",
   "metadata": {},
   "outputs": [
    {
     "data": {
      "image/png": "[encoded data removed]",
      "text/plain": [
       "Plot with title \"table(udca1$status, udca1$stage)\""
      ]
     },
     "metadata": {},
     "output_type": "display_data"
    }
   ],
   "source": [
    "mosaicplot(table(udca1$status,udca1$stage), color=c(\"green\", \"magenta\"))"
   ]
  },
  {
   "cell_type": "markdown",
   "id": "corrected-spencer",
   "metadata": {},
   "source": [
    "**Gráficos de anális de eventos por variable.**"
   ]
  },
  {
   "cell_type": "markdown",
   "id": "magnetic-vertex",
   "metadata": {},
   "source": [
    "* **Por tiempo.**"
   ]
  },
  {
   "cell_type": "code",
   "execution_count": 20,
   "id": "capable-accuracy",
   "metadata": {},
   "outputs": [
    {
     "data": {
      "image/png": "[encoded data removed]",
      "text/plain": [
       "plot without title"
      ]
     },
     "metadata": {},
     "output_type": "display_data"
    }
   ],
   "source": [
    "plot(udca1$futime, udca1$status)"
   ]
  },
  {
   "cell_type": "markdown",
   "id": "strange-fireplace",
   "metadata": {},
   "source": [
    "* **Por bilirrubina.**"
   ]
  },
  {
   "cell_type": "code",
   "execution_count": 21,
   "id": "supposed-communications",
   "metadata": {},
   "outputs": [
    {
     "data": {
      "image/png": "[encoded data removed]",
      "text/plain": [
       "plot without title"
      ]
     },
     "metadata": {},
     "output_type": "display_data"
    }
   ],
   "source": [
    "plot(udca1$bili, udca1$status)"
   ]
  },
  {
   "cell_type": "markdown",
   "id": "authorized-arabic",
   "metadata": {},
   "source": [
    "* **Por puntuación de riesgo**."
   ]
  },
  {
   "cell_type": "code",
   "execution_count": 22,
   "id": "danish-commonwealth",
   "metadata": {},
   "outputs": [
    {
     "data": {
      "image/png": "[encoded data removed]",
      "text/plain": [
       "plot without title"
      ]
     },
     "metadata": {},
     "output_type": "display_data"
    }
   ],
   "source": [
    "plot(udca1$riskscore, udca1$status)"
   ]
  },
  {
   "cell_type": "markdown",
   "id": "hindu-northeast",
   "metadata": {},
   "source": [
    "### Análisis de regresión para selección de variables."
   ]
  },
  {
   "cell_type": "markdown",
   "id": "instant-petite",
   "metadata": {},
   "source": [
    "**Selección del modelo.**"
   ]
  },
  {
   "cell_type": "code",
   "execution_count": 23,
   "id": "floral-effects",
   "metadata": {},
   "outputs": [],
   "source": [
    "m2<-glm(udca1$status ~ udca1$futime+udca1$trt+udca1$stage+udca1$bili+udca1$riskscore, data = udca1, family = \"binomial\")"
   ]
  },
  {
   "cell_type": "code",
   "execution_count": 24,
   "id": "recreational-dryer",
   "metadata": {},
   "outputs": [
    {
     "name": "stdout",
     "output_type": "stream",
     "text": [
      "Start:  AIC=175.69\n",
      "udca1$status ~ udca1$futime + udca1$trt + udca1$stage + udca1$bili + \n",
      "    udca1$riskscore\n",
      "\n",
      "                  Df Deviance    AIC\n",
      "- udca1$stage      1   163.84 173.84\n",
      "- udca1$trt        1   164.22 174.22\n",
      "<none>                 163.69 175.69\n",
      "- udca1$bili       1   166.73 176.73\n",
      "- udca1$riskscore  1   171.75 181.75\n",
      "- udca1$futime     1   209.75 219.75\n",
      "\n",
      "Step:  AIC=173.84\n",
      "udca1$status ~ udca1$futime + udca1$trt + udca1$bili + udca1$riskscore\n",
      "\n",
      "                  Df Deviance    AIC\n",
      "- udca1$trt        1   164.42 172.42\n",
      "<none>                 163.84 173.84\n",
      "- udca1$bili       1   166.83 174.83\n",
      "- udca1$riskscore  1   172.87 180.87\n",
      "- udca1$futime     1   209.80 217.80\n",
      "\n",
      "Step:  AIC=172.42\n",
      "udca1$status ~ udca1$futime + udca1$bili + udca1$riskscore\n",
      "\n",
      "                  Df Deviance    AIC\n",
      "<none>                 164.42 172.42\n",
      "- udca1$bili       1   167.66 173.66\n",
      "- udca1$riskscore  1   173.48 179.48\n",
      "- udca1$futime     1   219.46 225.46\n"
     ]
    },
    {
     "data": {
      "text/plain": [
       "\n",
       "Call:  glm(formula = udca1$status ~ udca1$futime + udca1$bili + udca1$riskscore, \n",
       "    family = \"binomial\", data = udca1)\n",
       "\n",
       "Coefficients:\n",
       "    (Intercept)     udca1$futime       udca1$bili  udca1$riskscore  \n",
       "      -0.458661        -0.003174        -0.219455         0.726226  \n",
       "\n",
       "Degrees of Freedom: 168 Total (i.e. Null);  165 Residual\n",
       "Null Deviance:\t    230.6 \n",
       "Residual Deviance: 164.4 \tAIC: 172.4"
      ]
     },
     "metadata": {},
     "output_type": "display_data"
    }
   ],
   "source": [
    "step(m2, direction=\"backward\")"
   ]
  },
  {
   "cell_type": "markdown",
   "id": "adjacent-steps",
   "metadata": {},
   "source": [
    "**Regresión Logística.**"
   ]
  },
  {
   "cell_type": "markdown",
   "id": "prime-spouse",
   "metadata": {},
   "source": [
    "**Modelo con todas las variables.**"
   ]
  },
  {
   "cell_type": "markdown",
   "id": "august-hawaii",
   "metadata": {},
   "source": [
    "* **H0:** El modelo NO sigue una una regresión logistica\n",
    "* **Ha:** El modelo sigue una una regresión logistica\n",
    "* **Alfa:** 0.1."
   ]
  },
  {
   "cell_type": "markdown",
   "id": "authentic-province",
   "metadata": {},
   "source": [
    "**Nota:** Para la selección del modelo, también hay que ver cual tiene mejor AIC (valor más pequeño)"
   ]
  },
  {
   "cell_type": "code",
   "execution_count": 25,
   "id": "established-arrow",
   "metadata": {},
   "outputs": [
    {
     "data": {
      "text/plain": [
       "\n",
       "Call:\n",
       "glm(formula = udca1$status ~ udca1$futime + udca1$trt + udca1$stage + \n",
       "    udca1$bili + udca1$riskscore, family = \"binomial\", data = udca1)\n",
       "\n",
       "Deviance Residuals: \n",
       "    Min       1Q   Median       3Q      Max  \n",
       "-2.4117  -0.6884  -0.3304   0.8107   2.3741  \n",
       "\n",
       "Coefficients:\n",
       "                  Estimate Std. Error z value Pr(>|z|)    \n",
       "(Intercept)     -0.4579294  1.1848208  -0.386  0.69913    \n",
       "udca1$futime    -0.0030495  0.0005418  -5.628 1.82e-08 ***\n",
       "udca1$trt       -0.2954990  0.4063177  -0.727  0.46707    \n",
       "udca1$stage      0.1670474  0.4334694   0.385  0.69996    \n",
       "udca1$bili      -0.2148857  0.1188711  -1.808  0.07065 .  \n",
       "udca1$riskscore  0.7073148  0.2579847   2.742  0.00611 ** \n",
       "---\n",
       "Signif. codes:  0 '***' 0.001 '**' 0.01 '*' 0.05 '.' 0.1 ' ' 1\n",
       "\n",
       "(Dispersion parameter for binomial family taken to be 1)\n",
       "\n",
       "    Null deviance: 230.57  on 168  degrees of freedom\n",
       "Residual deviance: 163.69  on 163  degrees of freedom\n",
       "AIC: 175.69\n",
       "\n",
       "Number of Fisher Scoring iterations: 5\n"
      ]
     },
     "metadata": {},
     "output_type": "display_data"
    }
   ],
   "source": [
    "summary(glm(udca1$status ~ udca1$futime+udca1$trt+udca1$stage+udca1$bili+udca1$riskscore, data = udca1, family = \"binomial\"))"
   ]
  },
  {
   "cell_type": "markdown",
   "id": "played-blond",
   "metadata": {},
   "source": [
    "*Conclusión:* La variable \"stage\" no es significativa para el modelo."
   ]
  },
  {
   "cell_type": "markdown",
   "id": "cutting-brunei",
   "metadata": {},
   "source": [
    "**Modelo sin variable \"stage\".**"
   ]
  },
  {
   "cell_type": "markdown",
   "id": "athletic-number",
   "metadata": {},
   "source": [
    "* **H0:** El modelo NO sigue una una regresión logistica\n",
    "* **Ha:** El modelo sigue una una regresión logistica\n",
    "* **Alfa:** 0.1."
   ]
  },
  {
   "cell_type": "code",
   "execution_count": 26,
   "id": "active-model",
   "metadata": {},
   "outputs": [
    {
     "data": {
      "text/plain": [
       "\n",
       "Call:\n",
       "glm(formula = udca1$status ~ udca1$futime + udca1$trt + udca1$bili + \n",
       "    udca1$riskscore, family = \"binomial\", data = udca1)\n",
       "\n",
       "Deviance Residuals: \n",
       "    Min       1Q   Median       3Q      Max  \n",
       "-2.4052  -0.7129  -0.3448   0.8285   2.4108  \n",
       "\n",
       "Coefficients:\n",
       "                  Estimate Std. Error z value Pr(>|z|)    \n",
       "(Intercept)     -0.4434105  1.1790137  -0.376  0.70685    \n",
       "udca1$futime    -0.0030468  0.0005416  -5.626 1.85e-08 ***\n",
       "udca1$trt       -0.3100582  0.4040576  -0.767  0.44287    \n",
       "udca1$bili      -0.2119566  0.1182345  -1.793  0.07302 .  \n",
       "udca1$riskscore  0.7259504  0.2527301   2.872  0.00407 ** \n",
       "---\n",
       "Signif. codes:  0 '***' 0.001 '**' 0.01 '*' 0.05 '.' 0.1 ' ' 1\n",
       "\n",
       "(Dispersion parameter for binomial family taken to be 1)\n",
       "\n",
       "    Null deviance: 230.57  on 168  degrees of freedom\n",
       "Residual deviance: 163.84  on 164  degrees of freedom\n",
       "AIC: 173.84\n",
       "\n",
       "Number of Fisher Scoring iterations: 5\n"
      ]
     },
     "metadata": {},
     "output_type": "display_data"
    }
   ],
   "source": [
    "summary(glm(udca1$status ~ udca1$futime+udca1$trt+udca1$bili+udca1$riskscore, data = udca1, family = \"binomial\"))"
   ]
  },
  {
   "cell_type": "markdown",
   "id": "increased-extension",
   "metadata": {},
   "source": [
    "*Conclusión:* La variable \"trt\" no es significativa para el modelo."
   ]
  },
  {
   "cell_type": "markdown",
   "id": "outdoor-installation",
   "metadata": {},
   "source": [
    "**Modelo sin las variables \"stage\" y \"trt\".**"
   ]
  },
  {
   "cell_type": "code",
   "execution_count": 27,
   "id": "skilled-organ",
   "metadata": {},
   "outputs": [
    {
     "data": {
      "text/plain": [
       "\n",
       "Call:\n",
       "glm(formula = udca1$status ~ udca1$futime + udca1$bili + udca1$riskscore, \n",
       "    family = \"binomial\", data = udca1)\n",
       "\n",
       "Deviance Residuals: \n",
       "    Min       1Q   Median       3Q      Max  \n",
       "-2.4935  -0.7041  -0.3340   0.8226   2.4894  \n",
       "\n",
       "Coefficients:\n",
       "                  Estimate Std. Error z value Pr(>|z|)    \n",
       "(Intercept)     -0.4586607  1.1712295  -0.392  0.69535    \n",
       "udca1$futime    -0.0031743  0.0005238  -6.060 1.36e-09 ***\n",
       "udca1$bili      -0.2194551  0.1176075  -1.866  0.06204 .  \n",
       "udca1$riskscore  0.7262256  0.2520722   2.881  0.00396 ** \n",
       "---\n",
       "Signif. codes:  0 '***' 0.001 '**' 0.01 '*' 0.05 '.' 0.1 ' ' 1\n",
       "\n",
       "(Dispersion parameter for binomial family taken to be 1)\n",
       "\n",
       "    Null deviance: 230.57  on 168  degrees of freedom\n",
       "Residual deviance: 164.42  on 165  degrees of freedom\n",
       "AIC: 172.42\n",
       "\n",
       "Number of Fisher Scoring iterations: 5\n"
      ]
     },
     "metadata": {},
     "output_type": "display_data"
    }
   ],
   "source": [
    "summary(glm(udca1$status ~ udca1$futime+udca1$bili+udca1$riskscore, data = udca1, family = \"binomial\"))"
   ]
  },
  {
   "cell_type": "markdown",
   "id": "ruled-italian",
   "metadata": {},
   "source": [
    "*Conclusión:* Todas las variables son significativas con un  nivel de confianza del 90%."
   ]
  },
  {
   "cell_type": "markdown",
   "id": "considerable-restriction",
   "metadata": {},
   "source": [
    "**Modelo seleccionado con las variables futime, bili y riskscore.**"
   ]
  },
  {
   "cell_type": "code",
   "execution_count": 28,
   "id": "photographic-glory",
   "metadata": {},
   "outputs": [
    {
     "data": {
      "text/plain": [
       "\n",
       "Call:\n",
       "glm(formula = udca1$status ~ udca1$futime + udca1$bili + udca1$riskscore, \n",
       "    family = \"binomial\", data = udca1)\n",
       "\n",
       "Deviance Residuals: \n",
       "    Min       1Q   Median       3Q      Max  \n",
       "-2.4935  -0.7041  -0.3340   0.8226   2.4894  \n",
       "\n",
       "Coefficients:\n",
       "                  Estimate Std. Error z value Pr(>|z|)    \n",
       "(Intercept)     -0.4586607  1.1712295  -0.392  0.69535    \n",
       "udca1$futime    -0.0031743  0.0005238  -6.060 1.36e-09 ***\n",
       "udca1$bili      -0.2194551  0.1176075  -1.866  0.06204 .  \n",
       "udca1$riskscore  0.7262256  0.2520722   2.881  0.00396 ** \n",
       "---\n",
       "Signif. codes:  0 '***' 0.001 '**' 0.01 '*' 0.05 '.' 0.1 ' ' 1\n",
       "\n",
       "(Dispersion parameter for binomial family taken to be 1)\n",
       "\n",
       "    Null deviance: 230.57  on 168  degrees of freedom\n",
       "Residual deviance: 164.42  on 165  degrees of freedom\n",
       "AIC: 172.42\n",
       "\n",
       "Number of Fisher Scoring iterations: 5\n"
      ]
     },
     "metadata": {},
     "output_type": "display_data"
    }
   ],
   "source": [
    "modelo_logistico <- glm(udca1$status ~ udca1$futime+udca1$bili+udca1$riskscore, data = udca1, family = \"binomial\")\n",
    "summary(modelo_logistico)"
   ]
  },
  {
   "cell_type": "markdown",
   "id": "apparent-vancouver",
   "metadata": {},
   "source": [
    "*Conclusión:* El modelo logistico seleccionado sigue la siguiente ecuación: "
   ]
  },
  {
   "cell_type": "markdown",
   "id": "premium-seeking",
   "metadata": {},
   "source": [
    "**Gráfico**"
   ]
  },
  {
   "cell_type": "code",
   "execution_count": 29,
   "id": "sticky-campus",
   "metadata": {},
   "outputs": [
    {
     "data": {
      "image/png": "[encoded data removed]",
      "text/plain": [
       "Plot with title \"Modelo regresión logística\""
      ]
     },
     "metadata": {},
     "output_type": "display_data"
    },
    {
     "data": {
      "image/png": "[encoded data removed]",
      "text/plain": [
       "Plot with title \"Modelo regresión logística\""
      ]
     },
     "metadata": {},
     "output_type": "display_data"
    },
    {
     "data": {
      "image/png": "[encoded data removed]",
      "text/plain": [
       "Plot with title \"Modelo regresión logística\""
      ]
     },
     "metadata": {},
     "output_type": "display_data"
    },
    {
     "data": {
      "image/png": "[encoded data removed]",
      "text/plain": [
       "Plot with title \"Modelo regresión logística\""
      ]
     },
     "metadata": {},
     "output_type": "display_data"
    }
   ],
   "source": [
    "plot(modelo_logistico, col = \"darkblue\",\n",
    "     main = \"Modelo regresión logística\",\n",
    "    pch = \"I\")"
   ]
  },
  {
   "cell_type": "markdown",
   "id": "motivated-sierra",
   "metadata": {},
   "source": [
    "**Coeficientes del modelo.**"
   ]
  },
  {
   "cell_type": "code",
   "execution_count": 30,
   "id": "statistical-guinea",
   "metadata": {},
   "outputs": [
    {
     "data": {
      "text/html": [
       "<dl class=dl-horizontal>\n",
       "\t<dt>(Intercept)</dt>\n",
       "\t\t<dd>0.6321296938416</dd>\n",
       "\t<dt>udca1$futime</dt>\n",
       "\t\t<dd>0.996830705015335</dd>\n",
       "\t<dt>udca1$bili</dt>\n",
       "\t\t<dd>0.802956241068207</dd>\n",
       "\t<dt>udca1$riskscore</dt>\n",
       "\t\t<dd>2.06726320356718</dd>\n",
       "</dl>\n"
      ],
      "text/latex": [
       "\\begin{description*}\n",
       "\\item[(Intercept)] 0.6321296938416\n",
       "\\item[udca1\\textbackslash{}\\$futime] 0.996830705015335\n",
       "\\item[udca1\\textbackslash{}\\$bili] 0.802956241068207\n",
       "\\item[udca1\\textbackslash{}\\$riskscore] 2.06726320356718\n",
       "\\end{description*}\n"
      ],
      "text/markdown": [
       "(Intercept)\n",
       ":   0.6321296938416udca1$futime\n",
       ":   0.996830705015335udca1$bili\n",
       ":   0.802956241068207udca1$riskscore\n",
       ":   2.06726320356718\n",
       "\n"
      ],
      "text/plain": [
       "    (Intercept)    udca1$futime      udca1$bili udca1$riskscore \n",
       "      0.6321297       0.9968307       0.8029562       2.0672632 "
      ]
     },
     "metadata": {},
     "output_type": "display_data"
    }
   ],
   "source": [
    "exp(modelo_logistico$coefficients)"
   ]
  },
  {
   "cell_type": "markdown",
   "id": "friendly-combination",
   "metadata": {},
   "source": [
    "**Nota:** Hay una asociación positiva ente la puntuación de riesgo y el estus, es decir, a mayor puntuación de riesgo, mayor es la probabilidad de sobrevivir.\n",
    "Por otro, lado, a menor tiempo, y bilirrubina mayor es la probabilidad de sobrevivir."
   ]
  },
  {
   "cell_type": "markdown",
   "id": "irish-departure",
   "metadata": {},
   "source": [
    "**Probabilidades estimadas por número de evento.**"
   ]
  },
  {
   "cell_type": "code",
   "execution_count": 31,
   "id": "civic-ultimate",
   "metadata": {},
   "outputs": [
    {
     "data": {
      "text/html": [
       "<dl class=dl-horizontal>\n",
       "\t<dt>1</dt>\n",
       "\t\t<dd>0.0477480816297909</dd>\n",
       "\t<dt>2</dt>\n",
       "\t\t<dd>0.0829131829266038</dd>\n",
       "\t<dt>3</dt>\n",
       "\t\t<dd>0.0162217206301067</dd>\n",
       "\t<dt>4</dt>\n",
       "\t\t<dd>0.855256203190744</dd>\n",
       "\t<dt>5</dt>\n",
       "\t\t<dd>0.0284939465324625</dd>\n",
       "\t<dt>6</dt>\n",
       "\t\t<dd>0.74667363160135</dd>\n",
       "\t<dt>7</dt>\n",
       "\t\t<dd>0.0226763542292345</dd>\n",
       "\t<dt>8</dt>\n",
       "\t\t<dd>0.795483950957271</dd>\n",
       "\t<dt>9</dt>\n",
       "\t\t<dd>0.131546931182769</dd>\n",
       "\t<dt>10</dt>\n",
       "\t\t<dd>0.500845811713423</dd>\n",
       "\t<dt>11</dt>\n",
       "\t\t<dd>0.0315681857042195</dd>\n",
       "\t<dt>12</dt>\n",
       "\t\t<dd>0.57668731372234</dd>\n",
       "\t<dt>13</dt>\n",
       "\t\t<dd>0.212678745345689</dd>\n",
       "\t<dt>14</dt>\n",
       "\t\t<dd>0.806220028180887</dd>\n",
       "\t<dt>15</dt>\n",
       "\t\t<dd>0.0407304864115078</dd>\n",
       "\t<dt>16</dt>\n",
       "\t\t<dd>0.0619966133256163</dd>\n",
       "\t<dt>17</dt>\n",
       "\t\t<dd>0.61559966310281</dd>\n",
       "\t<dt>18</dt>\n",
       "\t\t<dd>0.747812346367831</dd>\n",
       "\t<dt>19</dt>\n",
       "\t\t<dd>0.103163068825294</dd>\n",
       "\t<dt>20</dt>\n",
       "\t\t<dd>0.595962691939591</dd>\n",
       "\t<dt>21</dt>\n",
       "\t\t<dd>0.57383708071397</dd>\n",
       "\t<dt>22</dt>\n",
       "\t\t<dd>0.0412902745934829</dd>\n",
       "\t<dt>23</dt>\n",
       "\t\t<dd>0.150573735794396</dd>\n",
       "\t<dt>24</dt>\n",
       "\t\t<dd>0.629972508126048</dd>\n",
       "\t<dt>25</dt>\n",
       "\t\t<dd>0.122015298893671</dd>\n",
       "\t<dt>26</dt>\n",
       "\t\t<dd>0.596739108954109</dd>\n",
       "\t<dt>27</dt>\n",
       "\t\t<dd>0.732875995978949</dd>\n",
       "\t<dt>28</dt>\n",
       "\t\t<dd>0.772800459301039</dd>\n",
       "\t<dt>29</dt>\n",
       "\t\t<dd>0.635050142964755</dd>\n",
       "\t<dt>30</dt>\n",
       "\t\t<dd>0.708972710516593</dd>\n",
       "\t<dt>31</dt>\n",
       "\t\t<dd>0.0834435221174343</dd>\n",
       "\t<dt>32</dt>\n",
       "\t\t<dd>0.0589689984066729</dd>\n",
       "\t<dt>33</dt>\n",
       "\t\t<dd>0.0680383030574271</dd>\n",
       "\t<dt>34</dt>\n",
       "\t\t<dd>0.053963017105487</dd>\n",
       "\t<dt>35</dt>\n",
       "\t\t<dd>0.045113454230617</dd>\n",
       "\t<dt>36</dt>\n",
       "\t\t<dd>0.102508034565292</dd>\n",
       "\t<dt>37</dt>\n",
       "\t\t<dd>0.122328054058856</dd>\n",
       "\t<dt>38</dt>\n",
       "\t\t<dd>0.115137770979533</dd>\n",
       "\t<dt>39</dt>\n",
       "\t\t<dd>0.0971488425114735</dd>\n",
       "\t<dt>40</dt>\n",
       "\t\t<dd>0.335029372919887</dd>\n",
       "\t<dt>41</dt>\n",
       "\t\t<dd>0.770724940160479</dd>\n",
       "\t<dt>42</dt>\n",
       "\t\t<dd>0.0778217432420216</dd>\n",
       "\t<dt>43</dt>\n",
       "\t\t<dd>0.567479452040822</dd>\n",
       "\t<dt>44</dt>\n",
       "\t\t<dd>0.787227775523888</dd>\n",
       "\t<dt>45</dt>\n",
       "\t\t<dd>0.0506887734079536</dd>\n",
       "\t<dt>46</dt>\n",
       "\t\t<dd>0.835903864174474</dd>\n",
       "\t<dt>47</dt>\n",
       "\t\t<dd>0.0374680133434892</dd>\n",
       "\t<dt>48</dt>\n",
       "\t\t<dd>0.126278022430766</dd>\n",
       "\t<dt>49</dt>\n",
       "\t\t<dd>0.0937756734383073</dd>\n",
       "\t<dt>50</dt>\n",
       "\t\t<dd>0.809659187806323</dd>\n",
       "\t<dt>51</dt>\n",
       "\t\t<dd>0.38926168928614</dd>\n",
       "\t<dt>52</dt>\n",
       "\t\t<dd>0.88071597837317</dd>\n",
       "\t<dt>53</dt>\n",
       "\t\t<dd>0.445333584694648</dd>\n",
       "\t<dt>54</dt>\n",
       "\t\t<dd>0.565118429295773</dd>\n",
       "\t<dt>55</dt>\n",
       "\t\t<dd>0.0466058622430982</dd>\n",
       "\t<dt>56</dt>\n",
       "\t\t<dd>0.887659963033309</dd>\n",
       "\t<dt>57</dt>\n",
       "\t\t<dd>0.678892867889832</dd>\n",
       "\t<dt>58</dt>\n",
       "\t\t<dd>0.048461495002589</dd>\n",
       "\t<dt>59</dt>\n",
       "\t\t<dd>0.126091432268271</dd>\n",
       "\t<dt>60</dt>\n",
       "\t\t<dd>0.353660721472339</dd>\n",
       "\t<dt>61</dt>\n",
       "\t\t<dd>0.30427942599471</dd>\n",
       "\t<dt>62</dt>\n",
       "\t\t<dd>0.742511979921422</dd>\n",
       "\t<dt>63</dt>\n",
       "\t\t<dd>0.976476865267435</dd>\n",
       "\t<dt>64</dt>\n",
       "\t\t<dd>0.202814470319192</dd>\n",
       "\t<dt>65</dt>\n",
       "\t\t<dd>0.778899840414466</dd>\n",
       "\t<dt>66</dt>\n",
       "\t\t<dd>0.712949912633399</dd>\n",
       "\t<dt>67</dt>\n",
       "\t\t<dd>0.642763329308027</dd>\n",
       "\t<dt>68</dt>\n",
       "\t\t<dd>0.128781027432257</dd>\n",
       "\t<dt>69</dt>\n",
       "\t\t<dd>0.468687887386381</dd>\n",
       "\t<dt>70</dt>\n",
       "\t\t<dd>0.955343450182632</dd>\n",
       "\t<dt>71</dt>\n",
       "\t\t<dd>0.0553237406265216</dd>\n",
       "\t<dt>72</dt>\n",
       "\t\t<dd>0.618709041631023</dd>\n",
       "\t<dt>73</dt>\n",
       "\t\t<dd>0.856232404542407</dd>\n",
       "\t<dt>74</dt>\n",
       "\t\t<dd>0.837563243172315</dd>\n",
       "\t<dt>75</dt>\n",
       "\t\t<dd>0.429786561654247</dd>\n",
       "\t<dt>76</dt>\n",
       "\t\t<dd>0.0542615620653024</dd>\n",
       "\t<dt>77</dt>\n",
       "\t\t<dd>0.581717640797589</dd>\n",
       "\t<dt>78</dt>\n",
       "\t\t<dd>0.154220426208693</dd>\n",
       "\t<dt>79</dt>\n",
       "\t\t<dd>0.146475794767602</dd>\n",
       "\t<dt>80</dt>\n",
       "\t\t<dd>0.129621525091732</dd>\n",
       "\t<dt>81</dt>\n",
       "\t\t<dd>0.44149957623782</dd>\n",
       "\t<dt>82</dt>\n",
       "\t\t<dd>0.169566987754335</dd>\n",
       "\t<dt>83</dt>\n",
       "\t\t<dd>0.283154944830132</dd>\n",
       "\t<dt>84</dt>\n",
       "\t\t<dd>0.951382082405223</dd>\n",
       "\t<dt>85</dt>\n",
       "\t\t<dd>0.200217325416147</dd>\n",
       "\t<dt>86</dt>\n",
       "\t\t<dd>0.20832985462673</dd>\n",
       "\t<dt>87</dt>\n",
       "\t\t<dd>0.168422576589067</dd>\n",
       "\t<dt>88</dt>\n",
       "\t\t<dd>0.0912562713272239</dd>\n",
       "\t<dt>89</dt>\n",
       "\t\t<dd>0.199088101637631</dd>\n",
       "\t<dt>90</dt>\n",
       "\t\t<dd>0.120790122230084</dd>\n",
       "\t<dt>91</dt>\n",
       "\t\t<dd>0.151445922123226</dd>\n",
       "\t<dt>92</dt>\n",
       "\t\t<dd>0.517187096575786</dd>\n",
       "\t<dt>93</dt>\n",
       "\t\t<dd>0.0839972295547779</dd>\n",
       "\t<dt>94</dt>\n",
       "\t\t<dd>0.143525776072809</dd>\n",
       "\t<dt>95</dt>\n",
       "\t\t<dd>0.253256810606772</dd>\n",
       "\t<dt>96</dt>\n",
       "\t\t<dd>0.773880867273587</dd>\n",
       "\t<dt>97</dt>\n",
       "\t\t<dd>0.278286803092177</dd>\n",
       "\t<dt>98</dt>\n",
       "\t\t<dd>0.152849412260192</dd>\n",
       "\t<dt>99</dt>\n",
       "\t\t<dd>0.637768751940355</dd>\n",
       "\t<dt>100</dt>\n",
       "\t\t<dd>0.059441203019911</dd>\n",
       "\t<dt>101</dt>\n",
       "\t\t<dd>0.10145461492934</dd>\n",
       "\t<dt>102</dt>\n",
       "\t\t<dd>0.854678314700378</dd>\n",
       "\t<dt>103</dt>\n",
       "\t\t<dd>0.549594052533444</dd>\n",
       "\t<dt>104</dt>\n",
       "\t\t<dd>0.968181622536705</dd>\n",
       "\t<dt>105</dt>\n",
       "\t\t<dd>0.134528880161714</dd>\n",
       "\t<dt>106</dt>\n",
       "\t\t<dd>0.706064247413839</dd>\n",
       "\t<dt>107</dt>\n",
       "\t\t<dd>0.853594581086681</dd>\n",
       "\t<dt>108</dt>\n",
       "\t\t<dd>0.902736656148289</dd>\n",
       "\t<dt>109</dt>\n",
       "\t\t<dd>0.162196001382719</dd>\n",
       "\t<dt>110</dt>\n",
       "\t\t<dd>0.791395745967129</dd>\n",
       "\t<dt>111</dt>\n",
       "\t\t<dd>0.258826803274643</dd>\n",
       "\t<dt>112</dt>\n",
       "\t\t<dd>0.703361475093659</dd>\n",
       "\t<dt>113</dt>\n",
       "\t\t<dd>0.179548716541671</dd>\n",
       "\t<dt>114</dt>\n",
       "\t\t<dd>0.891099128037335</dd>\n",
       "\t<dt>115</dt>\n",
       "\t\t<dd>0.107234539015665</dd>\n",
       "\t<dt>116</dt>\n",
       "\t\t<dd>0.799752539262531</dd>\n",
       "\t<dt>117</dt>\n",
       "\t\t<dd>0.488397325602846</dd>\n",
       "\t<dt>118</dt>\n",
       "\t\t<dd>0.214766887744031</dd>\n",
       "\t<dt>119</dt>\n",
       "\t\t<dd>0.947824631527578</dd>\n",
       "\t<dt>120</dt>\n",
       "\t\t<dd>0.312266716385698</dd>\n",
       "\t<dt>121</dt>\n",
       "\t\t<dd>0.20164456621159</dd>\n",
       "\t<dt>122</dt>\n",
       "\t\t<dd>0.912831823951568</dd>\n",
       "\t<dt>123</dt>\n",
       "\t\t<dd>0.217419676680459</dd>\n",
       "\t<dt>124</dt>\n",
       "\t\t<dd>0.434152963378406</dd>\n",
       "\t<dt>125</dt>\n",
       "\t\t<dd>0.454125802780475</dd>\n",
       "\t<dt>126</dt>\n",
       "\t\t<dd>0.77263111824935</dd>\n",
       "\t<dt>127</dt>\n",
       "\t\t<dd>0.220123665815033</dd>\n",
       "\t<dt>128</dt>\n",
       "\t\t<dd>0.445066118136775</dd>\n",
       "\t<dt>129</dt>\n",
       "\t\t<dd>0.17565377992465</dd>\n",
       "\t<dt>130</dt>\n",
       "\t\t<dd>0.181709306456165</dd>\n",
       "\t<dt>131</dt>\n",
       "\t\t<dd>0.251447447199871</dd>\n",
       "\t<dt>132</dt>\n",
       "\t\t<dd>0.666772826509129</dd>\n",
       "\t<dt>133</dt>\n",
       "\t\t<dd>0.227935377838708</dd>\n",
       "\t<dt>134</dt>\n",
       "\t\t<dd>0.219534005818978</dd>\n",
       "\t<dt>135</dt>\n",
       "\t\t<dd>0.659321573898789</dd>\n",
       "\t<dt>136</dt>\n",
       "\t\t<dd>0.627609783365372</dd>\n",
       "\t<dt>137</dt>\n",
       "\t\t<dd>0.521871579839997</dd>\n",
       "\t<dt>138</dt>\n",
       "\t\t<dd>0.25690566045344</dd>\n",
       "\t<dt>139</dt>\n",
       "\t\t<dd>0.627618705366058</dd>\n",
       "\t<dt>140</dt>\n",
       "\t\t<dd>0.361740819532832</dd>\n",
       "\t<dt>141</dt>\n",
       "\t\t<dd>0.438372381595283</dd>\n",
       "\t<dt>142</dt>\n",
       "\t\t<dd>0.239482058932462</dd>\n",
       "\t<dt>143</dt>\n",
       "\t\t<dd>0.662900166162595</dd>\n",
       "\t<dt>144</dt>\n",
       "\t\t<dd>0.869768230064834</dd>\n",
       "\t<dt>145</dt>\n",
       "\t\t<dd>0.423799219356178</dd>\n",
       "\t<dt>146</dt>\n",
       "\t\t<dd>0.239829519804228</dd>\n",
       "\t<dt>147</dt>\n",
       "\t\t<dd>0.252483364241809</dd>\n",
       "\t<dt>148</dt>\n",
       "\t\t<dd>0.303055778025437</dd>\n",
       "\t<dt>149</dt>\n",
       "\t\t<dd>0.295185460806115</dd>\n",
       "\t<dt>150</dt>\n",
       "\t\t<dd>0.671529554846185</dd>\n",
       "\t<dt>152</dt>\n",
       "\t\t<dd>0.886129402021406</dd>\n",
       "\t<dt>153</dt>\n",
       "\t\t<dd>0.735498461383379</dd>\n",
       "\t<dt>154</dt>\n",
       "\t\t<dd>0.6001486786963</dd>\n",
       "\t<dt>155</dt>\n",
       "\t\t<dd>0.393333260027566</dd>\n",
       "\t<dt>156</dt>\n",
       "\t\t<dd>0.323217936504791</dd>\n",
       "\t<dt>157</dt>\n",
       "\t\t<dd>0.764262120991017</dd>\n",
       "\t<dt>158</dt>\n",
       "\t\t<dd>0.473184518418223</dd>\n",
       "\t<dt>159</dt>\n",
       "\t\t<dd>0.912298837796314</dd>\n",
       "\t<dt>160</dt>\n",
       "\t\t<dd>0.709526712674577</dd>\n",
       "\t<dt>161</dt>\n",
       "\t\t<dd>0.46221752258382</dd>\n",
       "\t<dt>162</dt>\n",
       "\t\t<dd>0.601816463139549</dd>\n",
       "\t<dt>163</dt>\n",
       "\t\t<dd>0.409909476383983</dd>\n",
       "\t<dt>164</dt>\n",
       "\t\t<dd>0.503630146157291</dd>\n",
       "\t<dt>165</dt>\n",
       "\t\t<dd>0.769871554126432</dd>\n",
       "\t<dt>166</dt>\n",
       "\t\t<dd>0.467965911523372</dd>\n",
       "\t<dt>167</dt>\n",
       "\t\t<dd>0.39560123354452</dd>\n",
       "\t<dt>168</dt>\n",
       "\t\t<dd>0.408519690289856</dd>\n",
       "\t<dt>169</dt>\n",
       "\t\t<dd>0.616956414221796</dd>\n",
       "\t<dt>170</dt>\n",
       "\t\t<dd>0.498202887498894</dd>\n",
       "</dl>\n"
      ],
      "text/latex": [
       "\\begin{description*}\n",
       "\\item[1] 0.0477480816297909\n",
       "\\item[2] 0.0829131829266038\n",
       "\\item[3] 0.0162217206301067\n",
       "\\item[4] 0.855256203190744\n",
       "\\item[5] 0.0284939465324625\n",
       "\\item[6] 0.74667363160135\n",
       "\\item[7] 0.0226763542292345\n",
       "\\item[8] 0.795483950957271\n",
       "\\item[9] 0.131546931182769\n",
       "\\item[10] 0.500845811713423\n",
       "\\item[11] 0.0315681857042195\n",
       "\\item[12] 0.57668731372234\n",
       "\\item[13] 0.212678745345689\n",
       "\\item[14] 0.806220028180887\n",
       "\\item[15] 0.0407304864115078\n",
       "\\item[16] 0.0619966133256163\n",
       "\\item[17] 0.61559966310281\n",
       "\\item[18] 0.747812346367831\n",
       "\\item[19] 0.103163068825294\n",
       "\\item[20] 0.595962691939591\n",
       "\\item[21] 0.57383708071397\n",
       "\\item[22] 0.0412902745934829\n",
       "\\item[23] 0.150573735794396\n",
       "\\item[24] 0.629972508126048\n",
       "\\item[25] 0.122015298893671\n",
       "\\item[26] 0.596739108954109\n",
       "\\item[27] 0.732875995978949\n",
       "\\item[28] 0.772800459301039\n",
       "\\item[29] 0.635050142964755\n",
       "\\item[30] 0.708972710516593\n",
       "\\item[31] 0.0834435221174343\n",
       "\\item[32] 0.0589689984066729\n",
       "\\item[33] 0.0680383030574271\n",
       "\\item[34] 0.053963017105487\n",
       "\\item[35] 0.045113454230617\n",
       "\\item[36] 0.102508034565292\n",
       "\\item[37] 0.122328054058856\n",
       "\\item[38] 0.115137770979533\n",
       "\\item[39] 0.0971488425114735\n",
       "\\item[40] 0.335029372919887\n",
       "\\item[41] 0.770724940160479\n",
       "\\item[42] 0.0778217432420216\n",
       "\\item[43] 0.567479452040822\n",
       "\\item[44] 0.787227775523888\n",
       "\\item[45] 0.0506887734079536\n",
       "\\item[46] 0.835903864174474\n",
       "\\item[47] 0.0374680133434892\n",
       "\\item[48] 0.126278022430766\n",
       "\\item[49] 0.0937756734383073\n",
       "\\item[50] 0.809659187806323\n",
       "\\item[51] 0.38926168928614\n",
       "\\item[52] 0.88071597837317\n",
       "\\item[53] 0.445333584694648\n",
       "\\item[54] 0.565118429295773\n",
       "\\item[55] 0.0466058622430982\n",
       "\\item[56] 0.887659963033309\n",
       "\\item[57] 0.678892867889832\n",
       "\\item[58] 0.048461495002589\n",
       "\\item[59] 0.126091432268271\n",
       "\\item[60] 0.353660721472339\n",
       "\\item[61] 0.30427942599471\n",
       "\\item[62] 0.742511979921422\n",
       "\\item[63] 0.976476865267435\n",
       "\\item[64] 0.202814470319192\n",
       "\\item[65] 0.778899840414466\n",
       "\\item[66] 0.712949912633399\n",
       "\\item[67] 0.642763329308027\n",
       "\\item[68] 0.128781027432257\n",
       "\\item[69] 0.468687887386381\n",
       "\\item[70] 0.955343450182632\n",
       "\\item[71] 0.0553237406265216\n",
       "\\item[72] 0.618709041631023\n",
       "\\item[73] 0.856232404542407\n",
       "\\item[74] 0.837563243172315\n",
       "\\item[75] 0.429786561654247\n",
       "\\item[76] 0.0542615620653024\n",
       "\\item[77] 0.581717640797589\n",
       "\\item[78] 0.154220426208693\n",
       "\\item[79] 0.146475794767602\n",
       "\\item[80] 0.129621525091732\n",
       "\\item[81] 0.44149957623782\n",
       "\\item[82] 0.169566987754335\n",
       "\\item[83] 0.283154944830132\n",
       "\\item[84] 0.951382082405223\n",
       "\\item[85] 0.200217325416147\n",
       "\\item[86] 0.20832985462673\n",
       "\\item[87] 0.168422576589067\n",
       "\\item[88] 0.0912562713272239\n",
       "\\item[89] 0.199088101637631\n",
       "\\item[90] 0.120790122230084\n",
       "\\item[91] 0.151445922123226\n",
       "\\item[92] 0.517187096575786\n",
       "\\item[93] 0.0839972295547779\n",
       "\\item[94] 0.143525776072809\n",
       "\\item[95] 0.253256810606772\n",
       "\\item[96] 0.773880867273587\n",
       "\\item[97] 0.278286803092177\n",
       "\\item[98] 0.152849412260192\n",
       "\\item[99] 0.637768751940355\n",
       "\\item[100] 0.059441203019911\n",
       "\\item[101] 0.10145461492934\n",
       "\\item[102] 0.854678314700378\n",
       "\\item[103] 0.549594052533444\n",
       "\\item[104] 0.968181622536705\n",
       "\\item[105] 0.134528880161714\n",
       "\\item[106] 0.706064247413839\n",
       "\\item[107] 0.853594581086681\n",
       "\\item[108] 0.902736656148289\n",
       "\\item[109] 0.162196001382719\n",
       "\\item[110] 0.791395745967129\n",
       "\\item[111] 0.258826803274643\n",
       "\\item[112] 0.703361475093659\n",
       "\\item[113] 0.179548716541671\n",
       "\\item[114] 0.891099128037335\n",
       "\\item[115] 0.107234539015665\n",
       "\\item[116] 0.799752539262531\n",
       "\\item[117] 0.488397325602846\n",
       "\\item[118] 0.214766887744031\n",
       "\\item[119] 0.947824631527578\n",
       "\\item[120] 0.312266716385698\n",
       "\\item[121] 0.20164456621159\n",
       "\\item[122] 0.912831823951568\n",
       "\\item[123] 0.217419676680459\n",
       "\\item[124] 0.434152963378406\n",
       "\\item[125] 0.454125802780475\n",
       "\\item[126] 0.77263111824935\n",
       "\\item[127] 0.220123665815033\n",
       "\\item[128] 0.445066118136775\n",
       "\\item[129] 0.17565377992465\n",
       "\\item[130] 0.181709306456165\n",
       "\\item[131] 0.251447447199871\n",
       "\\item[132] 0.666772826509129\n",
       "\\item[133] 0.227935377838708\n",
       "\\item[134] 0.219534005818978\n",
       "\\item[135] 0.659321573898789\n",
       "\\item[136] 0.627609783365372\n",
       "\\item[137] 0.521871579839997\n",
       "\\item[138] 0.25690566045344\n",
       "\\item[139] 0.627618705366058\n",
       "\\item[140] 0.361740819532832\n",
       "\\item[141] 0.438372381595283\n",
       "\\item[142] 0.239482058932462\n",
       "\\item[143] 0.662900166162595\n",
       "\\item[144] 0.869768230064834\n",
       "\\item[145] 0.423799219356178\n",
       "\\item[146] 0.239829519804228\n",
       "\\item[147] 0.252483364241809\n",
       "\\item[148] 0.303055778025437\n",
       "\\item[149] 0.295185460806115\n",
       "\\item[150] 0.671529554846185\n",
       "\\item[152] 0.886129402021406\n",
       "\\item[153] 0.735498461383379\n",
       "\\item[154] 0.6001486786963\n",
       "\\item[155] 0.393333260027566\n",
       "\\item[156] 0.323217936504791\n",
       "\\item[157] 0.764262120991017\n",
       "\\item[158] 0.473184518418223\n",
       "\\item[159] 0.912298837796314\n",
       "\\item[160] 0.709526712674577\n",
       "\\item[161] 0.46221752258382\n",
       "\\item[162] 0.601816463139549\n",
       "\\item[163] 0.409909476383983\n",
       "\\item[164] 0.503630146157291\n",
       "\\item[165] 0.769871554126432\n",
       "\\item[166] 0.467965911523372\n",
       "\\item[167] 0.39560123354452\n",
       "\\item[168] 0.408519690289856\n",
       "\\item[169] 0.616956414221796\n",
       "\\item[170] 0.498202887498894\n",
       "\\end{description*}\n"
      ],
      "text/markdown": [
       "1\n",
       ":   0.04774808162979092\n",
       ":   0.08291318292660383\n",
       ":   0.01622172063010674\n",
       ":   0.8552562031907445\n",
       ":   0.02849394653246256\n",
       ":   0.746673631601357\n",
       ":   0.02267635422923458\n",
       ":   0.7954839509572719\n",
       ":   0.13154693118276910\n",
       ":   0.50084581171342311\n",
       ":   0.031568185704219512\n",
       ":   0.5766873137223413\n",
       ":   0.21267874534568914\n",
       ":   0.80622002818088715\n",
       ":   0.040730486411507816\n",
       ":   0.061996613325616317\n",
       ":   0.6155996631028118\n",
       ":   0.74781234636783119\n",
       ":   0.10316306882529420\n",
       ":   0.59596269193959121\n",
       ":   0.5738370807139722\n",
       ":   0.041290274593482923\n",
       ":   0.15057373579439624\n",
       ":   0.62997250812604825\n",
       ":   0.12201529889367126\n",
       ":   0.59673910895410927\n",
       ":   0.73287599597894928\n",
       ":   0.77280045930103929\n",
       ":   0.63505014296475530\n",
       ":   0.70897271051659331\n",
       ":   0.083443522117434332\n",
       ":   0.058968998406672933\n",
       ":   0.068038303057427134\n",
       ":   0.05396301710548735\n",
       ":   0.04511345423061736\n",
       ":   0.10250803456529237\n",
       ":   0.12232805405885638\n",
       ":   0.11513777097953339\n",
       ":   0.097148842511473540\n",
       ":   0.33502937291988741\n",
       ":   0.77072494016047942\n",
       ":   0.077821743242021643\n",
       ":   0.56747945204082244\n",
       ":   0.78722777552388845\n",
       ":   0.050688773407953646\n",
       ":   0.83590386417447447\n",
       ":   0.037468013343489248\n",
       ":   0.12627802243076649\n",
       ":   0.093775673438307350\n",
       ":   0.80965918780632351\n",
       ":   0.3892616892861452\n",
       ":   0.8807159783731753\n",
       ":   0.44533358469464854\n",
       ":   0.56511842929577355\n",
       ":   0.046605862243098256\n",
       ":   0.88765996303330957\n",
       ":   0.67889286788983258\n",
       ":   0.04846149500258959\n",
       ":   0.12609143226827160\n",
       ":   0.35366072147233961\n",
       ":   0.3042794259947162\n",
       ":   0.74251197992142263\n",
       ":   0.97647686526743564\n",
       ":   0.20281447031919265\n",
       ":   0.77889984041446666\n",
       ":   0.71294991263339967\n",
       ":   0.64276332930802768\n",
       ":   0.12878102743225769\n",
       ":   0.46868788738638170\n",
       ":   0.95534345018263271\n",
       ":   0.055323740626521672\n",
       ":   0.61870904163102373\n",
       ":   0.85623240454240774\n",
       ":   0.83756324317231575\n",
       ":   0.42978656165424776\n",
       ":   0.054261562065302477\n",
       ":   0.58171764079758978\n",
       ":   0.15422042620869379\n",
       ":   0.14647579476760280\n",
       ":   0.12962152509173281\n",
       ":   0.4414995762378282\n",
       ":   0.16956698775433583\n",
       ":   0.28315494483013284\n",
       ":   0.95138208240522385\n",
       ":   0.20021732541614786\n",
       ":   0.2083298546267387\n",
       ":   0.16842257658906788\n",
       ":   0.091256271327223989\n",
       ":   0.19908810163763190\n",
       ":   0.12079012223008491\n",
       ":   0.15144592212322692\n",
       ":   0.51718709657578693\n",
       ":   0.083997229554777994\n",
       ":   0.14352577607280995\n",
       ":   0.25325681060677296\n",
       ":   0.77388086727358797\n",
       ":   0.27828680309217798\n",
       ":   0.15284941226019299\n",
       ":   0.637768751940355100\n",
       ":   0.059441203019911101\n",
       ":   0.10145461492934102\n",
       ":   0.854678314700378103\n",
       ":   0.549594052533444104\n",
       ":   0.968181622536705105\n",
       ":   0.134528880161714106\n",
       ":   0.706064247413839107\n",
       ":   0.853594581086681108\n",
       ":   0.902736656148289109\n",
       ":   0.162196001382719110\n",
       ":   0.791395745967129111\n",
       ":   0.258826803274643112\n",
       ":   0.703361475093659113\n",
       ":   0.179548716541671114\n",
       ":   0.891099128037335115\n",
       ":   0.107234539015665116\n",
       ":   0.799752539262531117\n",
       ":   0.488397325602846118\n",
       ":   0.214766887744031119\n",
       ":   0.947824631527578120\n",
       ":   0.312266716385698121\n",
       ":   0.20164456621159122\n",
       ":   0.912831823951568123\n",
       ":   0.217419676680459124\n",
       ":   0.434152963378406125\n",
       ":   0.454125802780475126\n",
       ":   0.77263111824935127\n",
       ":   0.220123665815033128\n",
       ":   0.445066118136775129\n",
       ":   0.17565377992465130\n",
       ":   0.181709306456165131\n",
       ":   0.251447447199871132\n",
       ":   0.666772826509129133\n",
       ":   0.227935377838708134\n",
       ":   0.219534005818978135\n",
       ":   0.659321573898789136\n",
       ":   0.627609783365372137\n",
       ":   0.521871579839997138\n",
       ":   0.25690566045344139\n",
       ":   0.627618705366058140\n",
       ":   0.361740819532832141\n",
       ":   0.438372381595283142\n",
       ":   0.239482058932462143\n",
       ":   0.662900166162595144\n",
       ":   0.869768230064834145\n",
       ":   0.423799219356178146\n",
       ":   0.239829519804228147\n",
       ":   0.252483364241809148\n",
       ":   0.303055778025437149\n",
       ":   0.295185460806115150\n",
       ":   0.671529554846185152\n",
       ":   0.886129402021406153\n",
       ":   0.735498461383379154\n",
       ":   0.6001486786963155\n",
       ":   0.393333260027566156\n",
       ":   0.323217936504791157\n",
       ":   0.764262120991017158\n",
       ":   0.473184518418223159\n",
       ":   0.912298837796314160\n",
       ":   0.709526712674577161\n",
       ":   0.46221752258382162\n",
       ":   0.601816463139549163\n",
       ":   0.409909476383983164\n",
       ":   0.503630146157291165\n",
       ":   0.769871554126432166\n",
       ":   0.467965911523372167\n",
       ":   0.39560123354452168\n",
       ":   0.408519690289856169\n",
       ":   0.616956414221796170\n",
       ":   0.498202887498894\n",
       "\n"
      ],
      "text/plain": [
       "         1          2          3          4          5          6          7 \n",
       "0.04774808 0.08291318 0.01622172 0.85525620 0.02849395 0.74667363 0.02267635 \n",
       "         8          9         10         11         12         13         14 \n",
       "0.79548395 0.13154693 0.50084581 0.03156819 0.57668731 0.21267875 0.80622003 \n",
       "        15         16         17         18         19         20         21 \n",
       "0.04073049 0.06199661 0.61559966 0.74781235 0.10316307 0.59596269 0.57383708 \n",
       "        22         23         24         25         26         27         28 \n",
       "0.04129027 0.15057374 0.62997251 0.12201530 0.59673911 0.73287600 0.77280046 \n",
       "        29         30         31         32         33         34         35 \n",
       "0.63505014 0.70897271 0.08344352 0.05896900 0.06803830 0.05396302 0.04511345 \n",
       "        36         37         38         39         40         41         42 \n",
       "0.10250803 0.12232805 0.11513777 0.09714884 0.33502937 0.77072494 0.07782174 \n",
       "        43         44         45         46         47         48         49 \n",
       "0.56747945 0.78722778 0.05068877 0.83590386 0.03746801 0.12627802 0.09377567 \n",
       "        50         51         52         53         54         55         56 \n",
       "0.80965919 0.38926169 0.88071598 0.44533358 0.56511843 0.04660586 0.88765996 \n",
       "        57         58         59         60         61         62         63 \n",
       "0.67889287 0.04846150 0.12609143 0.35366072 0.30427943 0.74251198 0.97647687 \n",
       "        64         65         66         67         68         69         70 \n",
       "0.20281447 0.77889984 0.71294991 0.64276333 0.12878103 0.46868789 0.95534345 \n",
       "        71         72         73         74         75         76         77 \n",
       "0.05532374 0.61870904 0.85623240 0.83756324 0.42978656 0.05426156 0.58171764 \n",
       "        78         79         80         81         82         83         84 \n",
       "0.15422043 0.14647579 0.12962153 0.44149958 0.16956699 0.28315494 0.95138208 \n",
       "        85         86         87         88         89         90         91 \n",
       "0.20021733 0.20832985 0.16842258 0.09125627 0.19908810 0.12079012 0.15144592 \n",
       "        92         93         94         95         96         97         98 \n",
       "0.51718710 0.08399723 0.14352578 0.25325681 0.77388087 0.27828680 0.15284941 \n",
       "        99        100        101        102        103        104        105 \n",
       "0.63776875 0.05944120 0.10145461 0.85467831 0.54959405 0.96818162 0.13452888 \n",
       "       106        107        108        109        110        111        112 \n",
       "0.70606425 0.85359458 0.90273666 0.16219600 0.79139575 0.25882680 0.70336148 \n",
       "       113        114        115        116        117        118        119 \n",
       "0.17954872 0.89109913 0.10723454 0.79975254 0.48839733 0.21476689 0.94782463 \n",
       "       120        121        122        123        124        125        126 \n",
       "0.31226672 0.20164457 0.91283182 0.21741968 0.43415296 0.45412580 0.77263112 \n",
       "       127        128        129        130        131        132        133 \n",
       "0.22012367 0.44506612 0.17565378 0.18170931 0.25144745 0.66677283 0.22793538 \n",
       "       134        135        136        137        138        139        140 \n",
       "0.21953401 0.65932157 0.62760978 0.52187158 0.25690566 0.62761871 0.36174082 \n",
       "       141        142        143        144        145        146        147 \n",
       "0.43837238 0.23948206 0.66290017 0.86976823 0.42379922 0.23982952 0.25248336 \n",
       "       148        149        150        152        153        154        155 \n",
       "0.30305578 0.29518546 0.67152955 0.88612940 0.73549846 0.60014868 0.39333326 \n",
       "       156        157        158        159        160        161        162 \n",
       "0.32321794 0.76426212 0.47318452 0.91229884 0.70952671 0.46221752 0.60181646 \n",
       "       163        164        165        166        167        168        169 \n",
       "0.40990948 0.50363015 0.76987155 0.46796591 0.39560123 0.40851969 0.61695641 \n",
       "       170 \n",
       "0.49820289 "
      ]
     },
     "metadata": {},
     "output_type": "display_data"
    }
   ],
   "source": [
    "predicciones<-predict(modelo_logistico, type=\"response\")\n",
    "predicciones"
   ]
  },
  {
   "cell_type": "code",
   "execution_count": 32,
   "id": "separated-tomorrow",
   "metadata": {},
   "outputs": [
    {
     "data": {
      "image/png": "[encoded data removed]",
      "text/plain": [
       "Plot with title \"Predicciones estimadas\""
      ]
     },
     "metadata": {},
     "output_type": "display_data"
    }
   ],
   "source": [
    "plot(predicciones, main=\"Predicciones estimadas\")"
   ]
  },
  {
   "cell_type": "markdown",
   "id": "acoustic-printer",
   "metadata": {},
   "source": [
    "**Evaluación del modelo.**"
   ]
  },
  {
   "cell_type": "markdown",
   "id": "authentic-monday",
   "metadata": {},
   "source": [
    "* **H0:** El modelo NO es significativo.\n",
    "* **Ha:** El modelo si es significativo.\n",
    "* **alfa:** 0.1"
   ]
  },
  {
   "cell_type": "markdown",
   "id": "civic-spyware",
   "metadata": {},
   "source": [
    "*El análisis mediante la función ANOVA ayuda a comprobar la validez del modelo.*"
   ]
  },
  {
   "cell_type": "code",
   "execution_count": 33,
   "id": "grave-tourism",
   "metadata": {},
   "outputs": [
    {
     "data": {
      "text/html": [
       "<table>\n",
       "<thead><tr><th></th><th scope=col>Df</th><th scope=col>Deviance</th><th scope=col>Resid. Df</th><th scope=col>Resid. Dev</th><th scope=col>Pr(&gt;Chi)</th></tr></thead>\n",
       "<tbody>\n",
       "\t<tr><th scope=row>NULL</th><td>NA          </td><td>        NA  </td><td>168         </td><td>230.5719    </td><td>          NA</td></tr>\n",
       "\t<tr><th scope=row>udca1$futime</th><td> 1          </td><td>56.9154302  </td><td>167         </td><td>173.6565    </td><td>4.549620e-14</td></tr>\n",
       "\t<tr><th scope=row>udca1$bili</th><td> 1          </td><td> 0.1786797  </td><td>166         </td><td>173.4778    </td><td>6.725103e-01</td></tr>\n",
       "\t<tr><th scope=row>udca1$riskscore</th><td> 1          </td><td> 9.0533625  </td><td>165         </td><td>164.4244    </td><td>2.622121e-03</td></tr>\n",
       "</tbody>\n",
       "</table>\n"
      ],
      "text/latex": [
       "\\begin{tabular}{r|lllll}\n",
       "  & Df & Deviance & Resid. Df & Resid. Dev & Pr(>Chi)\\\\\n",
       "\\hline\n",
       "\tNULL & NA           &         NA   & 168          & 230.5719     &           NA\\\\\n",
       "\tudca1\\$futime &  1           & 56.9154302   & 167          & 173.6565     & 4.549620e-14\\\\\n",
       "\tudca1\\$bili &  1           &  0.1786797   & 166          & 173.4778     & 6.725103e-01\\\\\n",
       "\tudca1\\$riskscore &  1           &  9.0533625   & 165          & 164.4244     & 2.622121e-03\\\\\n",
       "\\end{tabular}\n"
      ],
      "text/markdown": [
       "\n",
       "| <!--/--> | Df | Deviance | Resid. Df | Resid. Dev | Pr(>Chi) |\n",
       "|---|---|---|---|---|---|\n",
       "| NULL | NA           |         NA   | 168          | 230.5719     |           NA |\n",
       "| udca1$futime |  1           | 56.9154302   | 167          | 173.6565     | 4.549620e-14 |\n",
       "| udca1$bili |  1           |  0.1786797   | 166          | 173.4778     | 6.725103e-01 |\n",
       "| udca1$riskscore |  1           |  9.0533625   | 165          | 164.4244     | 2.622121e-03 |\n",
       "\n"
      ],
      "text/plain": [
       "                Df Deviance   Resid. Df Resid. Dev Pr(>Chi)    \n",
       "NULL            NA         NA 168       230.5719             NA\n",
       "udca1$futime     1 56.9154302 167       173.6565   4.549620e-14\n",
       "udca1$bili       1  0.1786797 166       173.4778   6.725103e-01\n",
       "udca1$riskscore  1  9.0533625 165       164.4244   2.622121e-03"
      ]
     },
     "metadata": {},
     "output_type": "display_data"
    }
   ],
   "source": [
    "anova(modelo_logistico, test ='Chisq')"
   ]
  },
  {
   "cell_type": "markdown",
   "id": "cellular-candidate",
   "metadata": {},
   "source": [
    "*Conclusión:* Con una significancia del 90%, se rechaza H0, por lo que el modelo si es significativo."
   ]
  },
  {
   "cell_type": "markdown",
   "id": "connected-receiver",
   "metadata": {},
   "source": [
    "[Consulta](https://rpubs.com/Joaquin_AR/229736#:~:text=La%20Regresi%C3%B3n%20Log%C3%ADstica%20Simple%2C%20desarrollada,funci%C3%B3n%20de%20una%20variable%20cuantitativa.&text=La%20asignaci%C3%B3n%20final%20se%20hace%20en%20funci%C3%B3n%20de%20las%20probabilidades%20predichas.)"
   ]
  },
  {
   "cell_type": "markdown",
   "id": "spiritual-ontario",
   "metadata": {},
   "source": [
    "[Consulta2](https://www.youtube.com/watch?v=xgast8Jgisc)"
   ]
  },
  {
   "cell_type": "markdown",
   "id": "electoral-survival",
   "metadata": {},
   "source": [
    "[Consulta3](https://rpubs.com/Cristina_Gil/Regresion_Logistica)"
   ]
  },
  {
   "cell_type": "markdown",
   "id": "interpreted-drove",
   "metadata": {},
   "source": [
    "### Análisis de supervivencia de forma."
   ]
  },
  {
   "cell_type": "markdown",
   "id": "varied-given",
   "metadata": {},
   "source": [
    "**Respuesta compuesta.**"
   ]
  },
  {
   "cell_type": "code",
   "execution_count": 34,
   "id": "sacred-knife",
   "metadata": {},
   "outputs": [],
   "source": [
    "Obj_surv <- Surv(udca1$futime, udca1$status == 1)"
   ]
  },
  {
   "cell_type": "markdown",
   "id": "demanding-gauge",
   "metadata": {},
   "source": [
    "**Modelo de Cox.**"
   ]
  },
  {
   "cell_type": "markdown",
   "id": "raised-prediction",
   "metadata": {},
   "source": [
    "**Modelo con todas las variables.**"
   ]
  },
  {
   "cell_type": "markdown",
   "id": "smaller-gamma",
   "metadata": {},
   "source": [
    "* **H0:** ninguna variable es importe en el modelo.\n",
    "\n",
    "* **Ha:** Al menos una es significativa.\n",
    "* **Alfa:** 0.1."
   ]
  },
  {
   "cell_type": "code",
   "execution_count": 35,
   "id": "forty-necessity",
   "metadata": {},
   "outputs": [
    {
     "data": {
      "text/plain": [
       "Call:\n",
       "coxph(formula = Obj_surv ~ udca1$trt + udca1$stage + udca1$bili + \n",
       "    udca1$riskscore)\n",
       "\n",
       "  n= 169, number of events= 72 \n",
       "\n",
       "                    coef exp(coef) se(coef)      z Pr(>|z|)    \n",
       "udca1$trt       -1.01636   0.36191  0.25628 -3.966 7.31e-05 ***\n",
       "udca1$stage      0.03453   1.03514  0.28768  0.120   0.9045    \n",
       "udca1$bili       0.08971   1.09385  0.07827  1.146   0.2518    \n",
       "udca1$riskscore  0.30950   1.36275  0.16142  1.917   0.0552 .  \n",
       "---\n",
       "Signif. codes:  0 '***' 0.001 '**' 0.01 '*' 0.05 '.' 0.1 ' ' 1\n",
       "\n",
       "                exp(coef) exp(-coef) lower .95 upper .95\n",
       "udca1$trt          0.3619     2.7631    0.2190    0.5981\n",
       "udca1$stage        1.0351     0.9661    0.5890    1.8192\n",
       "udca1$bili         1.0939     0.9142    0.9383    1.2752\n",
       "udca1$riskscore    1.3628     0.7338    0.9932    1.8699\n",
       "\n",
       "Concordance= 0.684  (se = 0.031 )\n",
       "Likelihood ratio test= 30.32  on 4 df,   p=4e-06\n",
       "Wald test            = 29.86  on 4 df,   p=5e-06\n",
       "Score (logrank) test = 31.47  on 4 df,   p=2e-06\n"
      ]
     },
     "metadata": {},
     "output_type": "display_data"
    }
   ],
   "source": [
    "summary(coxph(Obj_surv~udca1$trt+udca1$stage+udca1$bili+udca1$riskscore))"
   ]
  },
  {
   "cell_type": "markdown",
   "id": "religious-exemption",
   "metadata": {},
   "source": [
    "*Conclusión:* \n",
    "* Dado que el p-valor es menor que alfa, se rechaza H0, por lo que al menos una de las variables es significativa. \n",
    "* Analizando la significancia de todas la variables, se tiene que stage y bili no son significativas para el modelo, dado que sus p-valor son msyores que alfa."
   ]
  },
  {
   "cell_type": "markdown",
   "id": "anticipated-vault",
   "metadata": {},
   "source": [
    "**Modelo sin variable stage.**"
   ]
  },
  {
   "cell_type": "markdown",
   "id": "lyric-picking",
   "metadata": {},
   "source": [
    "* **H0:** ninguna variable es importe en el modelo.\n",
    "\n",
    "* **Ha:** Al menos una es significativa.\n",
    "* **Alfa:** 0.1."
   ]
  },
  {
   "cell_type": "code",
   "execution_count": 36,
   "id": "declared-license",
   "metadata": {},
   "outputs": [
    {
     "data": {
      "text/plain": [
       "Call:\n",
       "coxph(formula = Obj_surv ~ udca1$trt + udca1$bili + udca1$riskscore)\n",
       "\n",
       "  n= 169, number of events= 72 \n",
       "\n",
       "                    coef exp(coef) se(coef)      z Pr(>|z|)    \n",
       "udca1$trt       -1.01972   0.36069  0.25485 -4.001  6.3e-05 ***\n",
       "udca1$bili       0.08913   1.09322  0.07790  1.144   0.2526    \n",
       "udca1$riskscore  0.31446   1.36952  0.15594  2.017   0.0437 *  \n",
       "---\n",
       "Signif. codes:  0 '***' 0.001 '**' 0.01 '*' 0.05 '.' 0.1 ' ' 1\n",
       "\n",
       "                exp(coef) exp(-coef) lower .95 upper .95\n",
       "udca1$trt          0.3607     2.7724    0.2189    0.5944\n",
       "udca1$bili         1.0932     0.9147    0.9384    1.2736\n",
       "udca1$riskscore    1.3695     0.7302    1.0089    1.8591\n",
       "\n",
       "Concordance= 0.684  (se = 0.032 )\n",
       "Likelihood ratio test= 30.3  on 3 df,   p=1e-06\n",
       "Wald test            = 29.83  on 3 df,   p=1e-06\n",
       "Score (logrank) test = 31.46  on 3 df,   p=7e-07\n"
      ]
     },
     "metadata": {},
     "output_type": "display_data"
    }
   ],
   "source": [
    "summary(coxph(Obj_surv~udca1$trt+udca1$bili+udca1$riskscore))"
   ]
  },
  {
   "cell_type": "markdown",
   "id": "opposite-montana",
   "metadata": {},
   "source": [
    "*Conclusión:* \n",
    "* Dado que el p-valor es menor que alfa, se rechaza H0, por lo que al menos una de las variables es significativa. \n",
    "* Analizando la significancia de todas la variables, se tiene que bili no es significativas para el modelo, dado que su p-valor es mayor que alfa."
   ]
  },
  {
   "cell_type": "markdown",
   "id": "latter-material",
   "metadata": {},
   "source": [
    "**Modelo sin stage ni bili.**"
   ]
  },
  {
   "cell_type": "markdown",
   "id": "recreational-chocolate",
   "metadata": {},
   "source": [
    "* **H0:** ninguna variable es importe en el modelo.\n",
    "* **Ha:** Al menos una es significativa.\n",
    "* **Alfa:** 0.1."
   ]
  },
  {
   "cell_type": "code",
   "execution_count": 37,
   "id": "characteristic-battle",
   "metadata": {},
   "outputs": [
    {
     "data": {
      "text/plain": [
       "Call:\n",
       "coxph(formula = Obj_surv ~ udca1$trt + udca1$riskscore)\n",
       "\n",
       "  n= 169, number of events= 72 \n",
       "\n",
       "                   coef exp(coef) se(coef)      z Pr(>|z|)    \n",
       "udca1$trt       -0.9656    0.3808   0.2473 -3.904 9.47e-05 ***\n",
       "udca1$riskscore  0.4421    1.5560   0.1069  4.136 3.53e-05 ***\n",
       "---\n",
       "Signif. codes:  0 '***' 0.001 '**' 0.01 '*' 0.05 '.' 0.1 ' ' 1\n",
       "\n",
       "                exp(coef) exp(-coef) lower .95 upper .95\n",
       "udca1$trt          0.3808     2.6263    0.2345    0.6183\n",
       "udca1$riskscore    1.5560     0.6427    1.2619    1.9186\n",
       "\n",
       "Concordance= 0.681  (se = 0.032 )\n",
       "Likelihood ratio test= 29.11  on 2 df,   p=5e-07\n",
       "Wald test            = 28.46  on 2 df,   p=7e-07\n",
       "Score (logrank) test = 29.46  on 2 df,   p=4e-07\n"
      ]
     },
     "metadata": {},
     "output_type": "display_data"
    }
   ],
   "source": [
    "summary(coxph(Obj_surv~udca1$trt+udca1$riskscore))"
   ]
  },
  {
   "cell_type": "markdown",
   "id": "invisible-handbook",
   "metadata": {},
   "source": [
    "*Conclusión:* \n",
    "* Dado que el p-valor es menor que alfa, se rechaza H0, por lo que al menos una de las variables es significativa. \n",
    "* Analizando la significancia de todas la variables, se tiene que todas las variables son significativas para el modelo, dado que su p-valor es menor que alfa."
   ]
  },
  {
   "cell_type": "markdown",
   "id": "healthy-dallas",
   "metadata": {},
   "source": [
    "**Modelo elegido.**"
   ]
  },
  {
   "cell_type": "code",
   "execution_count": 38,
   "id": "coupled-excerpt",
   "metadata": {},
   "outputs": [],
   "source": [
    "Modelo_cox <- coxph(Obj_surv~udca1$trt+udca1$riskscore)"
   ]
  },
  {
   "cell_type": "markdown",
   "id": "numerous-billion",
   "metadata": {},
   "source": [
    "**Residuales de Martingala**"
   ]
  },
  {
   "cell_type": "code",
   "execution_count": 39,
   "id": "colonial-catalyst",
   "metadata": {},
   "outputs": [
    {
     "data": {
      "text/html": [
       "<dl class=dl-horizontal>\n",
       "\t<dt>1</dt>\n",
       "\t\t<dd>-0.418921917113577</dd>\n",
       "\t<dt>2</dt>\n",
       "\t\t<dd>0.327997309699067</dd>\n",
       "\t<dt>3</dt>\n",
       "\t\t<dd>-0.197565487281536</dd>\n",
       "\t<dt>4</dt>\n",
       "\t\t<dd>-0.0141975106432766</dd>\n",
       "\t<dt>5</dt>\n",
       "\t\t<dd>-0.772457302615705</dd>\n",
       "\t<dt>6</dt>\n",
       "\t\t<dd>0.741595071550306</dd>\n",
       "\t<dt>7</dt>\n",
       "\t\t<dd>-0.619252847053293</dd>\n",
       "\t<dt>8</dt>\n",
       "\t\t<dd>-0.317261386504189</dd>\n",
       "\t<dt>9</dt>\n",
       "\t\t<dd>-1.20195283404807</dd>\n",
       "\t<dt>10</dt>\n",
       "\t\t<dd>0.91186122001471</dd>\n",
       "\t<dt>11</dt>\n",
       "\t\t<dd>-0.321310795079757</dd>\n",
       "\t<dt>12</dt>\n",
       "\t\t<dd>0.244775341087742</dd>\n",
       "\t<dt>13</dt>\n",
       "\t\t<dd>0.6390628054873</dd>\n",
       "\t<dt>14</dt>\n",
       "\t\t<dd>0.94789872235056</dd>\n",
       "\t<dt>15</dt>\n",
       "\t\t<dd>-0.335835507007519</dd>\n",
       "\t<dt>16</dt>\n",
       "\t\t<dd>-1.20195283404807</dd>\n",
       "\t<dt>17</dt>\n",
       "\t\t<dd>0.636266120909231</dd>\n",
       "\t<dt>18</dt>\n",
       "\t\t<dd>0.920059221148147</dd>\n",
       "\t<dt>19</dt>\n",
       "\t\t<dd>-0.712112506927461</dd>\n",
       "\t<dt>20</dt>\n",
       "\t\t<dd>-0.287125560087988</dd>\n",
       "\t<dt>21</dt>\n",
       "\t\t<dd>0.685028559023904</dd>\n",
       "\t<dt>22</dt>\n",
       "\t\t<dd>-0.351016802093442</dd>\n",
       "\t<dt>23</dt>\n",
       "\t\t<dd>-0.348681027053471</dd>\n",
       "\t<dt>24</dt>\n",
       "\t\t<dd>0.546271373490364</dd>\n",
       "\t<dt>25</dt>\n",
       "\t\t<dd>0.0781088193777969</dd>\n",
       "\t<dt>26</dt>\n",
       "\t\t<dd>0.967320906360727</dd>\n",
       "\t<dt>27</dt>\n",
       "\t\t<dd>0.831285958188702</dd>\n",
       "\t<dt>28</dt>\n",
       "\t\t<dd>0.893345192144266</dd>\n",
       "\t<dt>29</dt>\n",
       "\t\t<dd>0.817242836961657</dd>\n",
       "\t<dt>30</dt>\n",
       "\t\t<dd>0.871122123450576</dd>\n",
       "\t<dt>31</dt>\n",
       "\t\t<dd>-0.478340292874332</dd>\n",
       "\t<dt>32</dt>\n",
       "\t\t<dd>-0.921891180622203</dd>\n",
       "\t<dt>33</dt>\n",
       "\t\t<dd>-0.418921917113577</dd>\n",
       "\t<dt>34</dt>\n",
       "\t\t<dd>-0.882019864016652</dd>\n",
       "\t<dt>35</dt>\n",
       "\t\t<dd>0.650734530578766</dd>\n",
       "\t<dt>36</dt>\n",
       "\t\t<dd>-1.31307645599015</dd>\n",
       "\t<dt>37</dt>\n",
       "\t\t<dd>-0.570876468956722</dd>\n",
       "\t<dt>38</dt>\n",
       "\t\t<dd>-1.49931849078793</dd>\n",
       "\t<dt>39</dt>\n",
       "\t\t<dd>-0.478340292874332</dd>\n",
       "\t<dt>40</dt>\n",
       "\t\t<dd>0.425984347682097</dd>\n",
       "\t<dt>41</dt>\n",
       "\t\t<dd>0.428042339814731</dd>\n",
       "\t<dt>42</dt>\n",
       "\t\t<dd>0.754168236993035</dd>\n",
       "\t<dt>43</dt>\n",
       "\t\t<dd>-0.090806947761996</dd>\n",
       "\t<dt>44</dt>\n",
       "\t\t<dd>0.915776111343881</dd>\n",
       "\t<dt>45</dt>\n",
       "\t\t<dd>-0.29411876132158</dd>\n",
       "\t<dt>46</dt>\n",
       "\t\t<dd>0.784328718851037</dd>\n",
       "\t<dt>47</dt>\n",
       "\t\t<dd>-0.235785045598549</dd>\n",
       "\t<dt>48</dt>\n",
       "\t\t<dd>-1.26521822385008</dd>\n",
       "\t<dt>49</dt>\n",
       "\t\t<dd>-0.478340292874332</dd>\n",
       "\t<dt>50</dt>\n",
       "\t\t<dd>0.55694749773444</dd>\n",
       "\t<dt>51</dt>\n",
       "\t\t<dd>0.279560745720142</dd>\n",
       "\t<dt>52</dt>\n",
       "\t\t<dd>0.952430483875121</dd>\n",
       "\t<dt>53</dt>\n",
       "\t\t<dd>0.816554239781267</dd>\n",
       "\t<dt>54</dt>\n",
       "\t\t<dd>-0.41440691168915</dd>\n",
       "\t<dt>55</dt>\n",
       "\t\t<dd>-0.676504360850841</dd>\n",
       "\t<dt>56</dt>\n",
       "\t\t<dd>0.922267378469196</dd>\n",
       "\t<dt>57</dt>\n",
       "\t\t<dd>0.961651931805456</dd>\n",
       "\t<dt>58</dt>\n",
       "\t\t<dd>-0.257583977740042</dd>\n",
       "\t<dt>59</dt>\n",
       "\t\t<dd>-0.208399212404058</dd>\n",
       "\t<dt>60</dt>\n",
       "\t\t<dd>0.375999056132562</dd>\n",
       "\t<dt>61</dt>\n",
       "\t\t<dd>-0.444283956376571</dd>\n",
       "\t<dt>62</dt>\n",
       "\t\t<dd>0.597969628730647</dd>\n",
       "\t<dt>63</dt>\n",
       "\t\t<dd>0.987366346556149</dd>\n",
       "\t<dt>64</dt>\n",
       "\t\t<dd>0.581846256096468</dd>\n",
       "\t<dt>65</dt>\n",
       "\t\t<dd>0.962712440627437</dd>\n",
       "\t<dt>66</dt>\n",
       "\t\t<dd>0.876758742843693</dd>\n",
       "\t<dt>67</dt>\n",
       "\t\t<dd>0.940799312075326</dd>\n",
       "\t<dt>68</dt>\n",
       "\t\t<dd>-0.570876468956722</dd>\n",
       "\t<dt>69</dt>\n",
       "\t\t<dd>-0.469446649025174</dd>\n",
       "\t<dt>70</dt>\n",
       "\t\t<dd>-0.0320772392276185</dd>\n",
       "\t<dt>71</dt>\n",
       "\t\t<dd>-0.257583977740042</dd>\n",
       "\t<dt>72</dt>\n",
       "\t\t<dd>-0.0437508494146566</dd>\n",
       "\t<dt>73</dt>\n",
       "\t\t<dd>-0.00961391098259338</dd>\n",
       "\t<dt>74</dt>\n",
       "\t\t<dd>-1.14821538021539</dd>\n",
       "\t<dt>75</dt>\n",
       "\t\t<dd>0.179391152095685</dd>\n",
       "\t<dt>76</dt>\n",
       "\t\t<dd>-0.225587464363886</dd>\n",
       "\t<dt>77</dt>\n",
       "\t\t<dd>0.673850638408421</dd>\n",
       "\t<dt>78</dt>\n",
       "\t\t<dd>-1.14996899582659</dd>\n",
       "\t<dt>79</dt>\n",
       "\t\t<dd>-1.37243349457844</dd>\n",
       "\t<dt>80</dt>\n",
       "\t\t<dd>-0.366884360887868</dd>\n",
       "\t<dt>81</dt>\n",
       "\t\t<dd>0.847466064695848</dd>\n",
       "\t<dt>82</dt>\n",
       "\t\t<dd>-1.14996899582659</dd>\n",
       "\t<dt>83</dt>\n",
       "\t\t<dd>-0.856255404733602</dd>\n",
       "\t<dt>84</dt>\n",
       "\t\t<dd>0.80484785511585</dd>\n",
       "\t<dt>85</dt>\n",
       "\t\t<dd>-0.183499440963812</dd>\n",
       "\t<dt>86</dt>\n",
       "\t\t<dd>-0.416900696254835</dd>\n",
       "\t<dt>87</dt>\n",
       "\t\t<dd>-0.398136687976774</dd>\n",
       "\t<dt>88</dt>\n",
       "\t\t<dd>-0.642938921617642</dd>\n",
       "\t<dt>89</dt>\n",
       "\t\t<dd>-0.54255186303056</dd>\n",
       "\t<dt>90</dt>\n",
       "\t\t<dd>-0.398136687976774</dd>\n",
       "\t<dt>91</dt>\n",
       "\t\t<dd>-0.110172552681178</dd>\n",
       "\t<dt>92</dt>\n",
       "\t\t<dd>0.254021751321458</dd>\n",
       "\t<dt>93</dt>\n",
       "\t\t<dd>-0.615132145893259</dd>\n",
       "\t<dt>94</dt>\n",
       "\t\t<dd>-0.876150629350842</dd>\n",
       "\t<dt>95</dt>\n",
       "\t\t<dd>-0.54255186303056</dd>\n",
       "\t<dt>96</dt>\n",
       "\t\t<dd>0.303045438893661</dd>\n",
       "\t<dt>97</dt>\n",
       "\t\t<dd>-0.558916834266818</dd>\n",
       "\t<dt>98</dt>\n",
       "\t\t<dd>-0.336535648672552</dd>\n",
       "\t<dt>99</dt>\n",
       "\t\t<dd>0.301231532879156</dd>\n",
       "\t<dt>100</dt>\n",
       "\t\t<dd>-0.599963775193373</dd>\n",
       "\t<dt>101</dt>\n",
       "\t\t<dd>-0.70238027375212</dd>\n",
       "\t<dt>102</dt>\n",
       "\t\t<dd>0.871734982323261</dd>\n",
       "\t<dt>103</dt>\n",
       "\t\t<dd>0.892465871098396</dd>\n",
       "\t<dt>104</dt>\n",
       "\t\t<dd>0.793685234549886</dd>\n",
       "\t<dt>105</dt>\n",
       "\t\t<dd>-0.237957806034557</dd>\n",
       "\t<dt>106</dt>\n",
       "\t\t<dd>-0.783771331766662</dd>\n",
       "\t<dt>107</dt>\n",
       "\t\t<dd>0.899324025140519</dd>\n",
       "\t<dt>108</dt>\n",
       "\t\t<dd>0.597193172309877</dd>\n",
       "\t<dt>109</dt>\n",
       "\t\t<dd>-0.271708884115135</dd>\n",
       "\t<dt>110</dt>\n",
       "\t\t<dd>0.615153879416511</dd>\n",
       "\t<dt>111</dt>\n",
       "\t\t<dd>-0.354251423771956</dd>\n",
       "\t<dt>112</dt>\n",
       "\t\t<dd>0.790048188297721</dd>\n",
       "\t<dt>113</dt>\n",
       "\t\t<dd>-0.167970168154736</dd>\n",
       "\t<dt>114</dt>\n",
       "\t\t<dd>-0.0291553108294817</dd>\n",
       "\t<dt>115</dt>\n",
       "\t\t<dd>-0.190762710594457</dd>\n",
       "\t<dt>116</dt>\n",
       "\t\t<dd>0.852428270406349</dd>\n",
       "\t<dt>117</dt>\n",
       "\t\t<dd>-0.25015475774053</dd>\n",
       "\t<dt>118</dt>\n",
       "\t\t<dd>-0.9013248370907</dd>\n",
       "\t<dt>119</dt>\n",
       "\t\t<dd>0.814468991612416</dd>\n",
       "\t<dt>120</dt>\n",
       "\t\t<dd>-0.605438020473908</dd>\n",
       "\t<dt>121</dt>\n",
       "\t\t<dd>-0.250059757280621</dd>\n",
       "\t<dt>122</dt>\n",
       "\t\t<dd>0</dd>\n",
       "\t<dt>123</dt>\n",
       "\t\t<dd>-0.273178423124932</dd>\n",
       "\t<dt>124</dt>\n",
       "\t\t<dd>-0.789364254529394</dd>\n",
       "\t<dt>125</dt>\n",
       "\t\t<dd>0.64567782975746</dd>\n",
       "\t<dt>126</dt>\n",
       "\t\t<dd>-0.128812323504595</dd>\n",
       "\t<dt>127</dt>\n",
       "\t\t<dd>-0.65674316297875</dd>\n",
       "\t<dt>128</dt>\n",
       "\t\t<dd>-1.27472051156524</dd>\n",
       "\t<dt>129</dt>\n",
       "\t\t<dd>-0.200464434869247</dd>\n",
       "\t<dt>130</dt>\n",
       "\t\t<dd>-0.200464434869247</dd>\n",
       "\t<dt>131</dt>\n",
       "\t\t<dd>-0.250059757280621</dd>\n",
       "\t<dt>132</dt>\n",
       "\t\t<dd>-0.192548917157167</dd>\n",
       "\t<dt>133</dt>\n",
       "\t\t<dd>-0.601164008678201</dd>\n",
       "\t<dt>134</dt>\n",
       "\t\t<dd>-0.261363597658364</dd>\n",
       "\t<dt>135</dt>\n",
       "\t\t<dd>0.664710527113705</dd>\n",
       "\t<dt>136</dt>\n",
       "\t\t<dd>0.717740538317696</dd>\n",
       "\t<dt>137</dt>\n",
       "\t\t<dd>0.612594160554297</dd>\n",
       "\t<dt>138</dt>\n",
       "\t\t<dd>-0.228897588235388</dd>\n",
       "\t<dt>139</dt>\n",
       "\t\t<dd>0.543592880444526</dd>\n",
       "\t<dt>140</dt>\n",
       "\t\t<dd>-0.326025500907776</dd>\n",
       "\t<dt>141</dt>\n",
       "\t\t<dd>-0.406684894891539</dd>\n",
       "\t<dt>142</dt>\n",
       "\t\t<dd>-0.503718376240233</dd>\n",
       "\t<dt>143</dt>\n",
       "\t\t<dd>0.523768117694289</dd>\n",
       "\t<dt>144</dt>\n",
       "\t\t<dd>0.922859864093678</dd>\n",
       "\t<dt>145</dt>\n",
       "\t\t<dd>-0.836096160746976</dd>\n",
       "\t<dt>146</dt>\n",
       "\t\t<dd>0.90790944834857</dd>\n",
       "\t<dt>147</dt>\n",
       "\t\t<dd>-0.17142981428364</dd>\n",
       "\t<dt>148</dt>\n",
       "\t\t<dd>-0.187278940249671</dd>\n",
       "\t<dt>149</dt>\n",
       "\t\t<dd>-0.187278940249671</dd>\n",
       "\t<dt>150</dt>\n",
       "\t\t<dd>0.76138171200465</dd>\n",
       "\t<dt>151</dt>\n",
       "\t\t<dd>0.995433801228187</dd>\n",
       "\t<dt>152</dt>\n",
       "\t\t<dd>-0.0101705345323342</dd>\n",
       "\t<dt>153</dt>\n",
       "\t\t<dd>0.813593849009171</dd>\n",
       "\t<dt>154</dt>\n",
       "\t\t<dd>-0.481791832925324</dd>\n",
       "\t<dt>155</dt>\n",
       "\t\t<dd>-0.147062250444956</dd>\n",
       "\t<dt>156</dt>\n",
       "\t\t<dd>0.691870958534243</dd>\n",
       "\t<dt>157</dt>\n",
       "\t\t<dd>-0.574995718424362</dd>\n",
       "\t<dt>158</dt>\n",
       "\t\t<dd>0.857431433204559</dd>\n",
       "\t<dt>159</dt>\n",
       "\t\t<dd>0.90954917186766</dd>\n",
       "\t<dt>160</dt>\n",
       "\t\t<dd>-0.20946504607395</dd>\n",
       "\t<dt>161</dt>\n",
       "\t\t<dd>-0.325930125730001</dd>\n",
       "\t<dt>162</dt>\n",
       "\t\t<dd>0.676401586711761</dd>\n",
       "\t<dt>163</dt>\n",
       "\t\t<dd>-0.298347165190325</dd>\n",
       "\t<dt>164</dt>\n",
       "\t\t<dd>0.190112873538425</dd>\n",
       "\t<dt>165</dt>\n",
       "\t\t<dd>-0.469446649025174</dd>\n",
       "\t<dt>166</dt>\n",
       "\t\t<dd>0.881847561407594</dd>\n",
       "\t<dt>167</dt>\n",
       "\t\t<dd>-0.138330346721168</dd>\n",
       "\t<dt>168</dt>\n",
       "\t\t<dd>-0.527928639303007</dd>\n",
       "\t<dt>169</dt>\n",
       "\t\t<dd>-0.131147747407305</dd>\n",
       "</dl>\n"
      ],
      "text/latex": [
       "\\begin{description*}\n",
       "\\item[1] -0.418921917113577\n",
       "\\item[2] 0.327997309699067\n",
       "\\item[3] -0.197565487281536\n",
       "\\item[4] -0.0141975106432766\n",
       "\\item[5] -0.772457302615705\n",
       "\\item[6] 0.741595071550306\n",
       "\\item[7] -0.619252847053293\n",
       "\\item[8] -0.317261386504189\n",
       "\\item[9] -1.20195283404807\n",
       "\\item[10] 0.91186122001471\n",
       "\\item[11] -0.321310795079757\n",
       "\\item[12] 0.244775341087742\n",
       "\\item[13] 0.6390628054873\n",
       "\\item[14] 0.94789872235056\n",
       "\\item[15] -0.335835507007519\n",
       "\\item[16] -1.20195283404807\n",
       "\\item[17] 0.636266120909231\n",
       "\\item[18] 0.920059221148147\n",
       "\\item[19] -0.712112506927461\n",
       "\\item[20] -0.287125560087988\n",
       "\\item[21] 0.685028559023904\n",
       "\\item[22] -0.351016802093442\n",
       "\\item[23] -0.348681027053471\n",
       "\\item[24] 0.546271373490364\n",
       "\\item[25] 0.0781088193777969\n",
       "\\item[26] 0.967320906360727\n",
       "\\item[27] 0.831285958188702\n",
       "\\item[28] 0.893345192144266\n",
       "\\item[29] 0.817242836961657\n",
       "\\item[30] 0.871122123450576\n",
       "\\item[31] -0.478340292874332\n",
       "\\item[32] -0.921891180622203\n",
       "\\item[33] -0.418921917113577\n",
       "\\item[34] -0.882019864016652\n",
       "\\item[35] 0.650734530578766\n",
       "\\item[36] -1.31307645599015\n",
       "\\item[37] -0.570876468956722\n",
       "\\item[38] -1.49931849078793\n",
       "\\item[39] -0.478340292874332\n",
       "\\item[40] 0.425984347682097\n",
       "\\item[41] 0.428042339814731\n",
       "\\item[42] 0.754168236993035\n",
       "\\item[43] -0.090806947761996\n",
       "\\item[44] 0.915776111343881\n",
       "\\item[45] -0.29411876132158\n",
       "\\item[46] 0.784328718851037\n",
       "\\item[47] -0.235785045598549\n",
       "\\item[48] -1.26521822385008\n",
       "\\item[49] -0.478340292874332\n",
       "\\item[50] 0.55694749773444\n",
       "\\item[51] 0.279560745720142\n",
       "\\item[52] 0.952430483875121\n",
       "\\item[53] 0.816554239781267\n",
       "\\item[54] -0.41440691168915\n",
       "\\item[55] -0.676504360850841\n",
       "\\item[56] 0.922267378469196\n",
       "\\item[57] 0.961651931805456\n",
       "\\item[58] -0.257583977740042\n",
       "\\item[59] -0.208399212404058\n",
       "\\item[60] 0.375999056132562\n",
       "\\item[61] -0.444283956376571\n",
       "\\item[62] 0.597969628730647\n",
       "\\item[63] 0.987366346556149\n",
       "\\item[64] 0.581846256096468\n",
       "\\item[65] 0.962712440627437\n",
       "\\item[66] 0.876758742843693\n",
       "\\item[67] 0.940799312075326\n",
       "\\item[68] -0.570876468956722\n",
       "\\item[69] -0.469446649025174\n",
       "\\item[70] -0.0320772392276185\n",
       "\\item[71] -0.257583977740042\n",
       "\\item[72] -0.0437508494146566\n",
       "\\item[73] -0.00961391098259338\n",
       "\\item[74] -1.14821538021539\n",
       "\\item[75] 0.179391152095685\n",
       "\\item[76] -0.225587464363886\n",
       "\\item[77] 0.673850638408421\n",
       "\\item[78] -1.14996899582659\n",
       "\\item[79] -1.37243349457844\n",
       "\\item[80] -0.366884360887868\n",
       "\\item[81] 0.847466064695848\n",
       "\\item[82] -1.14996899582659\n",
       "\\item[83] -0.856255404733602\n",
       "\\item[84] 0.80484785511585\n",
       "\\item[85] -0.183499440963812\n",
       "\\item[86] -0.416900696254835\n",
       "\\item[87] -0.398136687976774\n",
       "\\item[88] -0.642938921617642\n",
       "\\item[89] -0.54255186303056\n",
       "\\item[90] -0.398136687976774\n",
       "\\item[91] -0.110172552681178\n",
       "\\item[92] 0.254021751321458\n",
       "\\item[93] -0.615132145893259\n",
       "\\item[94] -0.876150629350842\n",
       "\\item[95] -0.54255186303056\n",
       "\\item[96] 0.303045438893661\n",
       "\\item[97] -0.558916834266818\n",
       "\\item[98] -0.336535648672552\n",
       "\\item[99] 0.301231532879156\n",
       "\\item[100] -0.599963775193373\n",
       "\\item[101] -0.70238027375212\n",
       "\\item[102] 0.871734982323261\n",
       "\\item[103] 0.892465871098396\n",
       "\\item[104] 0.793685234549886\n",
       "\\item[105] -0.237957806034557\n",
       "\\item[106] -0.783771331766662\n",
       "\\item[107] 0.899324025140519\n",
       "\\item[108] 0.597193172309877\n",
       "\\item[109] -0.271708884115135\n",
       "\\item[110] 0.615153879416511\n",
       "\\item[111] -0.354251423771956\n",
       "\\item[112] 0.790048188297721\n",
       "\\item[113] -0.167970168154736\n",
       "\\item[114] -0.0291553108294817\n",
       "\\item[115] -0.190762710594457\n",
       "\\item[116] 0.852428270406349\n",
       "\\item[117] -0.25015475774053\n",
       "\\item[118] -0.9013248370907\n",
       "\\item[119] 0.814468991612416\n",
       "\\item[120] -0.605438020473908\n",
       "\\item[121] -0.250059757280621\n",
       "\\item[122] 0\n",
       "\\item[123] -0.273178423124932\n",
       "\\item[124] -0.789364254529394\n",
       "\\item[125] 0.64567782975746\n",
       "\\item[126] -0.128812323504595\n",
       "\\item[127] -0.65674316297875\n",
       "\\item[128] -1.27472051156524\n",
       "\\item[129] -0.200464434869247\n",
       "\\item[130] -0.200464434869247\n",
       "\\item[131] -0.250059757280621\n",
       "\\item[132] -0.192548917157167\n",
       "\\item[133] -0.601164008678201\n",
       "\\item[134] -0.261363597658364\n",
       "\\item[135] 0.664710527113705\n",
       "\\item[136] 0.717740538317696\n",
       "\\item[137] 0.612594160554297\n",
       "\\item[138] -0.228897588235388\n",
       "\\item[139] 0.543592880444526\n",
       "\\item[140] -0.326025500907776\n",
       "\\item[141] -0.406684894891539\n",
       "\\item[142] -0.503718376240233\n",
       "\\item[143] 0.523768117694289\n",
       "\\item[144] 0.922859864093678\n",
       "\\item[145] -0.836096160746976\n",
       "\\item[146] 0.90790944834857\n",
       "\\item[147] -0.17142981428364\n",
       "\\item[148] -0.187278940249671\n",
       "\\item[149] -0.187278940249671\n",
       "\\item[150] 0.76138171200465\n",
       "\\item[151] 0.995433801228187\n",
       "\\item[152] -0.0101705345323342\n",
       "\\item[153] 0.813593849009171\n",
       "\\item[154] -0.481791832925324\n",
       "\\item[155] -0.147062250444956\n",
       "\\item[156] 0.691870958534243\n",
       "\\item[157] -0.574995718424362\n",
       "\\item[158] 0.857431433204559\n",
       "\\item[159] 0.90954917186766\n",
       "\\item[160] -0.20946504607395\n",
       "\\item[161] -0.325930125730001\n",
       "\\item[162] 0.676401586711761\n",
       "\\item[163] -0.298347165190325\n",
       "\\item[164] 0.190112873538425\n",
       "\\item[165] -0.469446649025174\n",
       "\\item[166] 0.881847561407594\n",
       "\\item[167] -0.138330346721168\n",
       "\\item[168] -0.527928639303007\n",
       "\\item[169] -0.131147747407305\n",
       "\\end{description*}\n"
      ],
      "text/markdown": [
       "1\n",
       ":   -0.4189219171135772\n",
       ":   0.3279973096990673\n",
       ":   -0.1975654872815364\n",
       ":   -0.01419751064327665\n",
       ":   -0.7724573026157056\n",
       ":   0.7415950715503067\n",
       ":   -0.6192528470532938\n",
       ":   -0.3172613865041899\n",
       ":   -1.2019528340480710\n",
       ":   0.9118612200147111\n",
       ":   -0.32131079507975712\n",
       ":   0.24477534108774213\n",
       ":   0.639062805487314\n",
       ":   0.9478987223505615\n",
       ":   -0.33583550700751916\n",
       ":   -1.2019528340480717\n",
       ":   0.63626612090923118\n",
       ":   0.92005922114814719\n",
       ":   -0.71211250692746120\n",
       ":   -0.28712556008798821\n",
       ":   0.68502855902390422\n",
       ":   -0.35101680209344223\n",
       ":   -0.34868102705347124\n",
       ":   0.54627137349036425\n",
       ":   0.078108819377796926\n",
       ":   0.96732090636072727\n",
       ":   0.83128595818870228\n",
       ":   0.89334519214426629\n",
       ":   0.81724283696165730\n",
       ":   0.87112212345057631\n",
       ":   -0.47834029287433232\n",
       ":   -0.92189118062220333\n",
       ":   -0.41892191711357734\n",
       ":   -0.88201986401665235\n",
       ":   0.65073453057876636\n",
       ":   -1.3130764559901537\n",
       ":   -0.57087646895672238\n",
       ":   -1.4993184907879339\n",
       ":   -0.47834029287433240\n",
       ":   0.42598434768209741\n",
       ":   0.42804233981473142\n",
       ":   0.75416823699303543\n",
       ":   -0.09080694776199644\n",
       ":   0.91577611134388145\n",
       ":   -0.2941187613215846\n",
       ":   0.78432871885103747\n",
       ":   -0.23578504559854948\n",
       ":   -1.2652182238500849\n",
       ":   -0.47834029287433250\n",
       ":   0.5569474977344451\n",
       ":   0.27956074572014252\n",
       ":   0.95243048387512153\n",
       ":   0.81655423978126754\n",
       ":   -0.4144069116891555\n",
       ":   -0.67650436085084156\n",
       ":   0.92226737846919657\n",
       ":   0.96165193180545658\n",
       ":   -0.25758397774004259\n",
       ":   -0.20839921240405860\n",
       ":   0.37599905613256261\n",
       ":   -0.44428395637657162\n",
       ":   0.59796962873064763\n",
       ":   0.98736634655614964\n",
       ":   0.58184625609646865\n",
       ":   0.96271244062743766\n",
       ":   0.87675874284369367\n",
       ":   0.94079931207532668\n",
       ":   -0.57087646895672269\n",
       ":   -0.46944664902517470\n",
       ":   -0.032077239227618571\n",
       ":   -0.25758397774004272\n",
       ":   -0.043750849414656673\n",
       ":   -0.0096139109825933874\n",
       ":   -1.1482153802153975\n",
       ":   0.17939115209568576\n",
       ":   -0.22558746436388677\n",
       ":   0.67385063840842178\n",
       ":   -1.1499689958265979\n",
       ":   -1.3724334945784480\n",
       ":   -0.36688436088786881\n",
       ":   0.84746606469584882\n",
       ":   -1.1499689958265983\n",
       ":   -0.85625540473360284\n",
       ":   0.8048478551158585\n",
       ":   -0.18349944096381286\n",
       ":   -0.41690069625483587\n",
       ":   -0.39813668797677488\n",
       ":   -0.64293892161764289\n",
       ":   -0.5425518630305690\n",
       ":   -0.39813668797677491\n",
       ":   -0.11017255268117892\n",
       ":   0.25402175132145893\n",
       ":   -0.61513214589325994\n",
       ":   -0.87615062935084295\n",
       ":   -0.5425518630305696\n",
       ":   0.30304543889366197\n",
       ":   -0.55891683426681898\n",
       ":   -0.33653564867255299\n",
       ":   0.301231532879156100\n",
       ":   -0.599963775193373101\n",
       ":   -0.70238027375212102\n",
       ":   0.871734982323261103\n",
       ":   0.892465871098396104\n",
       ":   0.793685234549886105\n",
       ":   -0.237957806034557106\n",
       ":   -0.783771331766662107\n",
       ":   0.899324025140519108\n",
       ":   0.597193172309877109\n",
       ":   -0.271708884115135110\n",
       ":   0.615153879416511111\n",
       ":   -0.354251423771956112\n",
       ":   0.790048188297721113\n",
       ":   -0.167970168154736114\n",
       ":   -0.0291553108294817115\n",
       ":   -0.190762710594457116\n",
       ":   0.852428270406349117\n",
       ":   -0.25015475774053118\n",
       ":   -0.9013248370907119\n",
       ":   0.814468991612416120\n",
       ":   -0.605438020473908121\n",
       ":   -0.250059757280621122\n",
       ":   0123\n",
       ":   -0.273178423124932124\n",
       ":   -0.789364254529394125\n",
       ":   0.64567782975746126\n",
       ":   -0.128812323504595127\n",
       ":   -0.65674316297875128\n",
       ":   -1.27472051156524129\n",
       ":   -0.200464434869247130\n",
       ":   -0.200464434869247131\n",
       ":   -0.250059757280621132\n",
       ":   -0.192548917157167133\n",
       ":   -0.601164008678201134\n",
       ":   -0.261363597658364135\n",
       ":   0.664710527113705136\n",
       ":   0.717740538317696137\n",
       ":   0.612594160554297138\n",
       ":   -0.228897588235388139\n",
       ":   0.543592880444526140\n",
       ":   -0.326025500907776141\n",
       ":   -0.406684894891539142\n",
       ":   -0.503718376240233143\n",
       ":   0.523768117694289144\n",
       ":   0.922859864093678145\n",
       ":   -0.836096160746976146\n",
       ":   0.90790944834857147\n",
       ":   -0.17142981428364148\n",
       ":   -0.187278940249671149\n",
       ":   -0.187278940249671150\n",
       ":   0.76138171200465151\n",
       ":   0.995433801228187152\n",
       ":   -0.0101705345323342153\n",
       ":   0.813593849009171154\n",
       ":   -0.481791832925324155\n",
       ":   -0.147062250444956156\n",
       ":   0.691870958534243157\n",
       ":   -0.574995718424362158\n",
       ":   0.857431433204559159\n",
       ":   0.90954917186766160\n",
       ":   -0.20946504607395161\n",
       ":   -0.325930125730001162\n",
       ":   0.676401586711761163\n",
       ":   -0.298347165190325164\n",
       ":   0.190112873538425165\n",
       ":   -0.469446649025174166\n",
       ":   0.881847561407594167\n",
       ":   -0.138330346721168168\n",
       ":   -0.527928639303007169\n",
       ":   -0.131147747407305\n",
       "\n"
      ],
      "text/plain": [
       "           1            2            3            4            5            6 \n",
       "-0.418921917  0.327997310 -0.197565487 -0.014197511 -0.772457303  0.741595072 \n",
       "           7            8            9           10           11           12 \n",
       "-0.619252847 -0.317261387 -1.201952834  0.911861220 -0.321310795  0.244775341 \n",
       "          13           14           15           16           17           18 \n",
       " 0.639062805  0.947898722 -0.335835507 -1.201952834  0.636266121  0.920059221 \n",
       "          19           20           21           22           23           24 \n",
       "-0.712112507 -0.287125560  0.685028559 -0.351016802 -0.348681027  0.546271373 \n",
       "          25           26           27           28           29           30 \n",
       " 0.078108819  0.967320906  0.831285958  0.893345192  0.817242837  0.871122123 \n",
       "          31           32           33           34           35           36 \n",
       "-0.478340293 -0.921891181 -0.418921917 -0.882019864  0.650734531 -1.313076456 \n",
       "          37           38           39           40           41           42 \n",
       "-0.570876469 -1.499318491 -0.478340293  0.425984348  0.428042340  0.754168237 \n",
       "          43           44           45           46           47           48 \n",
       "-0.090806948  0.915776111 -0.294118761  0.784328719 -0.235785046 -1.265218224 \n",
       "          49           50           51           52           53           54 \n",
       "-0.478340293  0.556947498  0.279560746  0.952430484  0.816554240 -0.414406912 \n",
       "          55           56           57           58           59           60 \n",
       "-0.676504361  0.922267378  0.961651932 -0.257583978 -0.208399212  0.375999056 \n",
       "          61           62           63           64           65           66 \n",
       "-0.444283956  0.597969629  0.987366347  0.581846256  0.962712441  0.876758743 \n",
       "          67           68           69           70           71           72 \n",
       " 0.940799312 -0.570876469 -0.469446649 -0.032077239 -0.257583978 -0.043750849 \n",
       "          73           74           75           76           77           78 \n",
       "-0.009613911 -1.148215380  0.179391152 -0.225587464  0.673850638 -1.149968996 \n",
       "          79           80           81           82           83           84 \n",
       "-1.372433495 -0.366884361  0.847466065 -1.149968996 -0.856255405  0.804847855 \n",
       "          85           86           87           88           89           90 \n",
       "-0.183499441 -0.416900696 -0.398136688 -0.642938922 -0.542551863 -0.398136688 \n",
       "          91           92           93           94           95           96 \n",
       "-0.110172553  0.254021751 -0.615132146 -0.876150629 -0.542551863  0.303045439 \n",
       "          97           98           99          100          101          102 \n",
       "-0.558916834 -0.336535649  0.301231533 -0.599963775 -0.702380274  0.871734982 \n",
       "         103          104          105          106          107          108 \n",
       " 0.892465871  0.793685235 -0.237957806 -0.783771332  0.899324025  0.597193172 \n",
       "         109          110          111          112          113          114 \n",
       "-0.271708884  0.615153879 -0.354251424  0.790048188 -0.167970168 -0.029155311 \n",
       "         115          116          117          118          119          120 \n",
       "-0.190762711  0.852428270 -0.250154758 -0.901324837  0.814468992 -0.605438020 \n",
       "         121          122          123          124          125          126 \n",
       "-0.250059757  0.000000000 -0.273178423 -0.789364255  0.645677830 -0.128812324 \n",
       "         127          128          129          130          131          132 \n",
       "-0.656743163 -1.274720512 -0.200464435 -0.200464435 -0.250059757 -0.192548917 \n",
       "         133          134          135          136          137          138 \n",
       "-0.601164009 -0.261363598  0.664710527  0.717740538  0.612594161 -0.228897588 \n",
       "         139          140          141          142          143          144 \n",
       " 0.543592880 -0.326025501 -0.406684895 -0.503718376  0.523768118  0.922859864 \n",
       "         145          146          147          148          149          150 \n",
       "-0.836096161  0.907909448 -0.171429814 -0.187278940 -0.187278940  0.761381712 \n",
       "         151          152          153          154          155          156 \n",
       " 0.995433801 -0.010170535  0.813593849 -0.481791833 -0.147062250  0.691870959 \n",
       "         157          158          159          160          161          162 \n",
       "-0.574995718  0.857431433  0.909549172 -0.209465046 -0.325930126  0.676401587 \n",
       "         163          164          165          166          167          168 \n",
       "-0.298347165  0.190112874 -0.469446649  0.881847561 -0.138330347 -0.527928639 \n",
       "         169 \n",
       "-0.131147747 "
      ]
     },
     "metadata": {},
     "output_type": "display_data"
    }
   ],
   "source": [
    "resid(Modelo_cox, type = 'martingale')"
   ]
  },
  {
   "cell_type": "code",
   "execution_count": 40,
   "id": "collect-teaching",
   "metadata": {},
   "outputs": [
    {
     "data": {
      "image/png": "[encoded data removed]",
      "text/plain": [
       "plot without title"
      ]
     },
     "metadata": {},
     "output_type": "display_data"
    }
   ],
   "source": [
    "plot(resid(Modelo_cox, type = 'martingale'))"
   ]
  },
  {
   "cell_type": "markdown",
   "id": "hungarian-spirituality",
   "metadata": {},
   "source": [
    "**Residuales de Desviación.**"
   ]
  },
  {
   "cell_type": "code",
   "execution_count": 41,
   "id": "encouraging-validity",
   "metadata": {},
   "outputs": [
    {
     "data": {
      "image/png": "[encoded data removed]",
      "text/plain": [
       "plot without title"
      ]
     },
     "metadata": {},
     "output_type": "display_data"
    }
   ],
   "source": [
    "plot(resid(Modelo_cox, type = 'deviance'))"
   ]
  },
  {
   "cell_type": "code",
   "execution_count": 42,
   "id": "worth-measurement",
   "metadata": {},
   "outputs": [
    {
     "data": {
      "text/html": [
       "<dl class=dl-horizontal>\n",
       "\t<dt>63</dt>\n",
       "\t\t<dd>2.60154752820828</dd>\n",
       "\t<dt>151</dt>\n",
       "\t\t<dd>2.9643347980835</dd>\n",
       "</dl>\n"
      ],
      "text/latex": [
       "\\begin{description*}\n",
       "\\item[63] 2.60154752820828\n",
       "\\item[151] 2.9643347980835\n",
       "\\end{description*}\n"
      ],
      "text/markdown": [
       "63\n",
       ":   2.60154752820828151\n",
       ":   2.9643347980835\n",
       "\n"
      ],
      "text/plain": [
       "      63      151 \n",
       "2.601548 2.964335 "
      ]
     },
     "metadata": {},
     "output_type": "display_data"
    }
   ],
   "source": [
    "# Escoger cual es el limite para descartar residuos\n",
    "Desvios <- resid(Modelo_cox, type = 'deviance')\n",
    "Desvios[abs(Desvios)>2.5]"
   ]
  },
  {
   "cell_type": "code",
   "execution_count": 44,
   "id": "proved-arthur",
   "metadata": {},
   "outputs": [
    {
     "data": {
      "image/png": "[encoded data removed]",
      "text/plain": [
       "plot without title"
      ]
     },
     "metadata": {},
     "output_type": "display_data"
    }
   ],
   "source": [
    "# Cambiar limites\n",
    "plot(Desvios, ylim = c(-2,3))\n",
    "abline(h = c(2.5),\n",
    "      col = 'purple')"
   ]
  },
  {
   "cell_type": "code",
   "execution_count": 45,
   "id": "requested-producer",
   "metadata": {},
   "outputs": [
    {
     "data": {
      "image/png": "[encoded data removed]",
      "text/plain": [
       "plot without title"
      ]
     },
     "metadata": {},
     "output_type": "display_data"
    }
   ],
   "source": [
    "# SDA = Sin Dato Atipico\n",
    "# Revisar que dato atipico hay\n",
    "# Introducir ID de datos aticipos en la siguiente variable\n",
    "DA <- c()\n",
    "Desvios_SDA <- Desvios[-c(63,151)]\n",
    "plot(Desvios_SDA, \n",
    "    ylim = c(-2,3))\n",
    "abline(h = 2.5,\n",
    "      col = 'purple')"
   ]
  },
  {
   "cell_type": "code",
   "execution_count": 46,
   "id": "removed-cyprus",
   "metadata": {},
   "outputs": [],
   "source": [
    "# Modelo SDA si es que aplica\n",
    "Modelo_cox_SDA <- coxph(Obj_surv[-c(63,151)]~udca1$trt[-c(63,151)]+udca1$riskscore[-c(63,151)])"
   ]
  },
  {
   "cell_type": "code",
   "execution_count": 47,
   "id": "thirty-surname",
   "metadata": {},
   "outputs": [
    {
     "data": {
      "image/png": "[encoded data removed]",
      "text/plain": [
       "plot without title"
      ]
     },
     "metadata": {},
     "output_type": "display_data"
    }
   ],
   "source": [
    "plot(resid(Modelo_cox_SDA, type = 'deviance'),\n",
    "    ylim = c(-2,3))\n",
    "abline(h =2.5,\n",
    "      col = 'purple')"
   ]
  },
  {
   "cell_type": "markdown",
   "id": "sustainable-preference",
   "metadata": {},
   "source": [
    "**Residuales de Schoenfeld**"
   ]
  },
  {
   "cell_type": "code",
   "execution_count": 48,
   "id": "magnetic-while",
   "metadata": {
    "scrolled": false
   },
   "outputs": [
    {
     "data": {
      "text/html": [
       "<table>\n",
       "<thead><tr><th></th><th scope=col>udca1$trt</th><th scope=col>udca1$riskscore</th></tr></thead>\n",
       "<tbody>\n",
       "\t<tr><th scope=row>47</th><td>-0.2857708</td><td> 0.4738683</td></tr>\n",
       "\t<tr><th scope=row>144</th><td> 0.7105727</td><td>-1.2200684</td></tr>\n",
       "\t<tr><th scope=row>189</th><td>-0.2891931</td><td> 2.0687276</td></tr>\n",
       "\t<tr><th scope=row>272</th><td>-0.3025920</td><td> 3.5280955</td></tr>\n",
       "\t<tr><th scope=row>340</th><td>-0.3152841</td><td>-0.5715683</td></tr>\n",
       "\t<tr><th scope=row>351</th><td>-0.3157329</td><td>-0.4780591</td></tr>\n",
       "</tbody>\n",
       "</table>\n"
      ],
      "text/latex": [
       "\\begin{tabular}{r|ll}\n",
       "  & udca1\\$trt & udca1\\$riskscore\\\\\n",
       "\\hline\n",
       "\t47 & -0.2857708 &  0.4738683\\\\\n",
       "\t144 &  0.7105727 & -1.2200684\\\\\n",
       "\t189 & -0.2891931 &  2.0687276\\\\\n",
       "\t272 & -0.3025920 &  3.5280955\\\\\n",
       "\t340 & -0.3152841 & -0.5715683\\\\\n",
       "\t351 & -0.3157329 & -0.4780591\\\\\n",
       "\\end{tabular}\n"
      ],
      "text/markdown": [
       "\n",
       "| <!--/--> | udca1$trt | udca1$riskscore |\n",
       "|---|---|---|\n",
       "| 47 | -0.2857708 |  0.4738683 |\n",
       "| 144 |  0.7105727 | -1.2200684 |\n",
       "| 189 | -0.2891931 |  2.0687276 |\n",
       "| 272 | -0.3025920 |  3.5280955 |\n",
       "| 340 | -0.3152841 | -0.5715683 |\n",
       "| 351 | -0.3157329 | -0.4780591 |\n",
       "\n"
      ],
      "text/plain": [
       "    udca1$trt  udca1$riskscore\n",
       "47  -0.2857708  0.4738683     \n",
       "144  0.7105727 -1.2200684     \n",
       "189 -0.2891931  2.0687276     \n",
       "272 -0.3025920  3.5280955     \n",
       "340 -0.3152841 -0.5715683     \n",
       "351 -0.3157329 -0.4780591     "
      ]
     },
     "metadata": {},
     "output_type": "display_data"
    }
   ],
   "source": [
    "Scho <- resid(Modelo_cox, type = 'schoenfeld')\n",
    "head(Scho)"
   ]
  },
  {
   "cell_type": "code",
   "execution_count": 49,
   "id": "taken-liver",
   "metadata": {},
   "outputs": [
    {
     "data": {
      "image/png": "[encoded data removed]",
      "text/plain": [
       "plot without title"
      ]
     },
     "metadata": {},
     "output_type": "display_data"
    }
   ],
   "source": [
    "plot(udca1$trt[udca1$status == 1], Scho[,1])"
   ]
  },
  {
   "cell_type": "code",
   "execution_count": 50,
   "id": "increased-photography",
   "metadata": {},
   "outputs": [
    {
     "data": {
      "image/png": "[encoded data removed]",
      "text/plain": [
       "plot without title"
      ]
     },
     "metadata": {},
     "output_type": "display_data"
    }
   ],
   "source": [
    "plot(udca1$riskscore[udca1$status == 1], Scho[,2])"
   ]
  },
  {
   "cell_type": "markdown",
   "id": "integral-rouge",
   "metadata": {},
   "source": [
    "**Residuales de puntaje**"
   ]
  },
  {
   "cell_type": "code",
   "execution_count": 51,
   "id": "computational-plenty",
   "metadata": {},
   "outputs": [],
   "source": [
    "Puntajes <- resid(Modelo_cox, type = 'score')"
   ]
  },
  {
   "cell_type": "code",
   "execution_count": 52,
   "id": "ultimate-sensitivity",
   "metadata": {},
   "outputs": [
    {
     "data": {
      "text/html": [
       "<table>\n",
       "<thead><tr><th scope=col>udca1$trt</th><th scope=col>udca1$riskscore</th></tr></thead>\n",
       "<tbody>\n",
       "\t<tr><td>-0.254801016</td><td> 0.11800018 </td></tr>\n",
       "\t<tr><td>-0.120122845</td><td>-0.09985493 </td></tr>\n",
       "\t<tr><td>-0.120165322</td><td> 0.39151075 </td></tr>\n",
       "\t<tr><td>-0.009980804</td><td> 0.01078165 </td></tr>\n",
       "\t<tr><td> 0.302625342</td><td> 0.83554839 </td></tr>\n",
       "\t<tr><td> 0.432285148</td><td> 0.38743165 </td></tr>\n",
       "</tbody>\n",
       "</table>\n"
      ],
      "text/latex": [
       "\\begin{tabular}{r|ll}\n",
       " udca1\\$trt & udca1\\$riskscore\\\\\n",
       "\\hline\n",
       "\t -0.254801016 &  0.11800018 \\\\\n",
       "\t -0.120122845 & -0.09985493 \\\\\n",
       "\t -0.120165322 &  0.39151075 \\\\\n",
       "\t -0.009980804 &  0.01078165 \\\\\n",
       "\t  0.302625342 &  0.83554839 \\\\\n",
       "\t  0.432285148 &  0.38743165 \\\\\n",
       "\\end{tabular}\n"
      ],
      "text/markdown": [
       "\n",
       "| udca1$trt | udca1$riskscore |\n",
       "|---|---|\n",
       "| -0.254801016 |  0.11800018  |\n",
       "| -0.120122845 | -0.09985493  |\n",
       "| -0.120165322 |  0.39151075  |\n",
       "| -0.009980804 |  0.01078165  |\n",
       "|  0.302625342 |  0.83554839  |\n",
       "|  0.432285148 |  0.38743165  |\n",
       "\n"
      ],
      "text/plain": [
       "  udca1$trt    udca1$riskscore\n",
       "1 -0.254801016  0.11800018    \n",
       "2 -0.120122845 -0.09985493    \n",
       "3 -0.120165322  0.39151075    \n",
       "4 -0.009980804  0.01078165    \n",
       "5  0.302625342  0.83554839    \n",
       "6  0.432285148  0.38743165    "
      ]
     },
     "metadata": {},
     "output_type": "display_data"
    }
   ],
   "source": [
    "head(Puntajes)"
   ]
  },
  {
   "cell_type": "code",
   "execution_count": 53,
   "id": "monthly-campbell",
   "metadata": {},
   "outputs": [
    {
     "data": {
      "image/png": "[encoded data removed]",
      "text/plain": [
       "plot without title"
      ]
     },
     "metadata": {},
     "output_type": "display_data"
    }
   ],
   "source": [
    "plot(Puntajes[,1], Puntajes[,2])"
   ]
  },
  {
   "cell_type": "markdown",
   "id": "social-bailey",
   "metadata": {},
   "source": [
    "**Modelo de Kaplan Meier**"
   ]
  },
  {
   "cell_type": "code",
   "execution_count": 54,
   "id": "marked-stone",
   "metadata": {},
   "outputs": [
    {
     "data": {
      "text/plain": [
       "Call: survfit(formula = Modelo_cox)\n",
       "\n",
       " time n.risk n.event survival std.err lower 95% CI upper 95% CI\n",
       "   47    168       1    0.993  0.0075        0.978        1.000\n",
       "  144    167       1    0.985  0.0106        0.964        1.000\n",
       "  189    165       1    0.977  0.0131        0.952        1.000\n",
       "  272    162       1    0.970  0.0152        0.940        1.000\n",
       "  340    159       1    0.961  0.0173        0.928        0.996\n",
       "  351    157       1    0.953  0.0192        0.916        0.991\n",
       "  361    156       1    0.945  0.0209        0.905        0.987\n",
       "  362    155       1    0.936  0.0225        0.893        0.982\n",
       "  364    154       1    0.928  0.0240        0.882        0.976\n",
       "  370    153       1    0.920  0.0253        0.871        0.971\n",
       "  375    152       1    0.911  0.0266        0.861        0.965\n",
       "  377    151       1    0.903  0.0278        0.850        0.959\n",
       "  383    150       1    0.895  0.0290        0.840        0.954\n",
       "  391    149       1    0.887  0.0301        0.829        0.948\n",
       "  395    148       1    0.878  0.0312        0.819        0.942\n",
       "  462    147       1    0.870  0.0322        0.809        0.935\n",
       "  499    146       1    0.862  0.0332        0.799        0.929\n",
       "  530    144       1    0.853  0.0342        0.789        0.923\n",
       "  536    143       1    0.845  0.0351        0.779        0.917\n",
       "  559    142       1    0.837  0.0360        0.769        0.910\n",
       "  604    139       1    0.828  0.0369        0.759        0.904\n",
       "  633    138       1    0.820  0.0378        0.749        0.897\n",
       "  671    137       1    0.811  0.0386        0.739        0.890\n",
       "  683    136       1    0.802  0.0394        0.729        0.884\n",
       "  685    135       1    0.794  0.0402        0.719        0.877\n",
       "  686    134       1    0.785  0.0410        0.709        0.870\n",
       "  705    133       1    0.777  0.0417        0.699        0.863\n",
       "  709    132       1    0.768  0.0424        0.690        0.856\n",
       "  711    131       1    0.760  0.0431        0.680        0.849\n",
       "  714    130       1    0.751  0.0438        0.670        0.842\n",
       "  717    129       1    0.743  0.0444        0.661        0.835\n",
       "  726    128       1    0.734  0.0451        0.651        0.828\n",
       "  727    127       2    0.717  0.0463        0.632        0.814\n",
       "  731    125       1    0.709  0.0469        0.623        0.807\n",
       "  733    124       1    0.701  0.0474        0.614        0.800\n",
       "  734    123       1    0.692  0.0479        0.604        0.793\n",
       "  735    121       1    0.683  0.0485        0.594        0.785\n",
       "  737    120       1    0.674  0.0491        0.585        0.778\n",
       "  742    118       1    0.666  0.0496        0.575        0.770\n",
       "  750    117       1    0.657  0.0501        0.566        0.763\n",
       "  755    116       1    0.648  0.0506        0.556        0.755\n",
       "  761    115       1    0.639  0.0511        0.547        0.748\n",
       "  763    114       1    0.631  0.0516        0.537        0.740\n",
       "  768    113       2    0.613  0.0525        0.518        0.725\n",
       "  776    111       1    0.604  0.0529        0.509        0.717\n",
       "  783    110       1    0.595  0.0533        0.499        0.709\n",
       "  800    108       1    0.586  0.0537        0.490        0.701\n",
       "  810    106       2    0.568  0.0546        0.470        0.686\n",
       "  812    104       1    0.559  0.0550        0.461        0.678\n",
       "  816    103       1    0.550  0.0553        0.451        0.670\n",
       "  826    101       1    0.541  0.0556        0.442        0.662\n",
       "  833    100       1    0.532  0.0559        0.433        0.654\n",
       "  834     99       1    0.523  0.0562        0.424        0.646\n",
       "  876     96       1    0.515  0.0565        0.415        0.638\n",
       "  973     89       1    0.505  0.0567        0.406        0.630\n",
       "  992     88       1    0.496  0.0570        0.396        0.621\n",
       " 1033     87       1    0.486  0.0573        0.386        0.613\n",
       " 1034     86       1    0.477  0.0576        0.376        0.604\n",
       " 1086     80       1    0.467  0.0579        0.366        0.595\n",
       " 1087     79       1    0.457  0.0582        0.356        0.586\n",
       " 1092     77       1    0.447  0.0585        0.346        0.577\n",
       " 1099     75       1    0.436  0.0588        0.335        0.568\n",
       " 1336     54       1    0.422  0.0595        0.320        0.557\n",
       " 1416     48       1    0.408  0.0600        0.305        0.544\n",
       " 1446     46       1    0.393  0.0605        0.290        0.531\n",
       " 1453     44       1    0.378  0.0608        0.276        0.518\n",
       " 1456     43       1    0.363  0.0609        0.262        0.505\n",
       " 1508     33       1    0.346  0.0613        0.244        0.489\n",
       " 1511     32       1    0.328  0.0615        0.227        0.474"
      ]
     },
     "metadata": {},
     "output_type": "display_data"
    }
   ],
   "source": [
    "summary(survfit(Modelo_cox))"
   ]
  },
  {
   "cell_type": "code",
   "execution_count": 55,
   "id": "unlike-conversion",
   "metadata": {},
   "outputs": [
    {
     "data": {
      "image/png": "[encoded data removed]",
      "text/plain": [
       "plot without title"
      ]
     },
     "metadata": {},
     "output_type": "display_data"
    }
   ],
   "source": [
    "plot(survfit(Modelo_cox))"
   ]
  },
  {
   "cell_type": "markdown",
   "id": "systematic-roman",
   "metadata": {},
   "source": [
    "**Estimación de modelo de Kaplan Meir por tratamiento.**"
   ]
  },
  {
   "cell_type": "code",
   "execution_count": 56,
   "id": "rough-wiring",
   "metadata": {},
   "outputs": [
    {
     "data": {
      "text/plain": [
       "Call: survfit(formula = Obj_surv ~ udca1$trt)\n",
       "\n",
       "                udca1$trt=0 \n",
       " time n.risk n.event survival std.err lower 95% CI upper 95% CI\n",
       "   47     83       1    0.988  0.0120        0.965        1.000\n",
       "  189     81       1    0.976  0.0169        0.943        1.000\n",
       "  272     78       1    0.963  0.0208        0.923        1.000\n",
       "  340     76       1    0.951  0.0241        0.904        0.999\n",
       "  351     75       1    0.938  0.0269        0.887        0.992\n",
       "  362     74       1    0.925  0.0294        0.869        0.985\n",
       "  364     73       1    0.913  0.0316        0.853        0.977\n",
       "  370     72       1    0.900  0.0336        0.836        0.968\n",
       "  375     71       1    0.887  0.0354        0.820        0.959\n",
       "  377     70       1    0.875  0.0371        0.805        0.950\n",
       "  383     69       1    0.862  0.0387        0.789        0.941\n",
       "  391     68       1    0.849  0.0401        0.774        0.932\n",
       "  395     67       1    0.837  0.0415        0.759        0.922\n",
       "  499     66       1    0.824  0.0428        0.744        0.912\n",
       "  536     64       1    0.811  0.0440        0.729        0.902\n",
       "  604     61       1    0.798  0.0452        0.714        0.891\n",
       "  671     60       1    0.784  0.0464        0.699        0.881\n",
       "  685     59       1    0.771  0.0475        0.683        0.870\n",
       "  686     58       1    0.758  0.0485        0.668        0.859\n",
       "  705     57       1    0.744  0.0494        0.654        0.848\n",
       "  714     56       1    0.731  0.0503        0.639        0.837\n",
       "  717     55       1    0.718  0.0511        0.624        0.825\n",
       "  727     54       2    0.691  0.0526        0.596        0.802\n",
       "  733     52       1    0.678  0.0532        0.581        0.791\n",
       "  734     51       1    0.665  0.0538        0.567        0.779\n",
       "  737     49       1    0.651  0.0544        0.553        0.767\n",
       "  750     47       1    0.637  0.0550        0.538        0.755\n",
       "  755     46       1    0.623  0.0555        0.524        0.742\n",
       "  763     45       1    0.610  0.0560        0.509        0.730\n",
       "  768     44       1    0.596  0.0564        0.495        0.717\n",
       "  776     43       1    0.582  0.0567        0.481        0.704\n",
       "  783     42       1    0.568  0.0571        0.467        0.692\n",
       "  800     41       1    0.554  0.0573        0.452        0.679\n",
       "  810     39       1    0.540  0.0576        0.438        0.665\n",
       "  812     38       1    0.526  0.0578        0.424        0.652\n",
       "  973     33       1    0.510  0.0582        0.408        0.638\n",
       "  992     32       1    0.494  0.0585        0.392        0.623\n",
       " 1033     31       1    0.478  0.0588        0.376        0.608\n",
       " 1034     30       1    0.462  0.0589        0.360        0.593\n",
       " 1086     28       1    0.446  0.0591        0.344        0.578\n",
       " 1092     26       1    0.428  0.0592        0.327        0.562\n",
       " 1446     19       1    0.406  0.0603        0.303        0.543\n",
       " 1456     18       1    0.383  0.0610        0.281        0.524\n",
       " 1511     13       1    0.354  0.0630        0.250        0.502\n",
       "\n",
       "                udca1$trt=1 \n",
       " time n.risk n.event survival std.err lower 95% CI upper 95% CI\n",
       "  144     85       1    0.988  0.0117        0.966        1.000\n",
       "  361     82       1    0.976  0.0166        0.944        1.000\n",
       "  462     81       1    0.964  0.0203        0.925        1.000\n",
       "  530     80       1    0.952  0.0234        0.907        0.999\n",
       "  559     79       1    0.940  0.0260        0.890        0.992\n",
       "  633     78       1    0.928  0.0283        0.874        0.985\n",
       "  683     77       1    0.916  0.0304        0.858        0.978\n",
       "  709     76       1    0.904  0.0323        0.843        0.969\n",
       "  711     75       1    0.892  0.0341        0.828        0.961\n",
       "  726     74       1    0.880  0.0357        0.813        0.953\n",
       "  731     73       1    0.868  0.0372        0.798        0.944\n",
       "  735     72       1    0.856  0.0385        0.783        0.935\n",
       "  742     71       1    0.844  0.0398        0.769        0.925\n",
       "  761     70       1    0.832  0.0411        0.755        0.916\n",
       "  768     69       1    0.820  0.0422        0.741        0.907\n",
       "  810     67       1    0.807  0.0433        0.727        0.897\n",
       "  816     66       1    0.795  0.0443        0.713        0.887\n",
       "  826     64       1    0.783  0.0454        0.699        0.877\n",
       "  833     63       1    0.770  0.0463        0.685        0.867\n",
       "  834     62       1    0.758  0.0472        0.671        0.856\n",
       "  876     61       1    0.745  0.0480        0.657        0.846\n",
       " 1087     52       1    0.731  0.0492        0.641        0.834\n",
       " 1099     51       1    0.717  0.0503        0.625        0.822\n",
       " 1336     35       1    0.696  0.0528        0.600        0.808\n",
       " 1416     29       1    0.672  0.0562        0.571        0.792\n",
       " 1453     26       1    0.646  0.0597        0.539        0.775\n",
       " 1508     20       1    0.614  0.0649        0.499        0.755\n"
      ]
     },
     "metadata": {},
     "output_type": "display_data"
    }
   ],
   "source": [
    "KM_Tratamiento <- survfit(Obj_surv~udca1$trt)\n",
    "summary(KM_Tratamiento)"
   ]
  },
  {
   "cell_type": "code",
   "execution_count": 57,
   "id": "narrative-consumer",
   "metadata": {},
   "outputs": [
    {
     "data": {
      "image/png": "[encoded data removed]",
      "text/plain": [
       "Plot with title \"Comparación por tipo de tratamiento\""
      ]
     },
     "metadata": {},
     "output_type": "display_data"
    }
   ],
   "source": [
    "plot(KM_Tratamiento, \n",
    "     col = c('magenta', 'green'),\n",
    "    main = 'Comparación por tipo de tratamiento')"
   ]
  },
  {
   "cell_type": "markdown",
   "id": "supreme-cisco",
   "metadata": {},
   "source": [
    "## Modelos paramétricos."
   ]
  },
  {
   "cell_type": "code",
   "execution_count": 58,
   "id": "weighted-pearl",
   "metadata": {},
   "outputs": [],
   "source": [
    "supervivencia.estimada<-survfit(Modelo_cox)"
   ]
  },
  {
   "cell_type": "code",
   "execution_count": 59,
   "id": "inappropriate-ready",
   "metadata": {},
   "outputs": [
    {
     "data": {
      "image/png": "[encoded data removed]",
      "text/plain": [
       "plot without title"
      ]
     },
     "metadata": {},
     "output_type": "display_data"
    }
   ],
   "source": [
    "plot(supervivencia.estimada)"
   ]
  },
  {
   "cell_type": "code",
   "execution_count": 60,
   "id": "following-extension",
   "metadata": {},
   "outputs": [
    {
     "data": {
      "text/plain": [
       "Call: survfit(formula = Modelo_cox)\n",
       "\n",
       " time n.risk n.event survival std.err lower 95% CI upper 95% CI\n",
       "   47    168       1    0.993  0.0075        0.978        1.000\n",
       "  144    167       1    0.985  0.0106        0.964        1.000\n",
       "  189    165       1    0.977  0.0131        0.952        1.000\n",
       "  272    162       1    0.970  0.0152        0.940        1.000\n",
       "  340    159       1    0.961  0.0173        0.928        0.996\n",
       "  351    157       1    0.953  0.0192        0.916        0.991\n",
       "  361    156       1    0.945  0.0209        0.905        0.987\n",
       "  362    155       1    0.936  0.0225        0.893        0.982\n",
       "  364    154       1    0.928  0.0240        0.882        0.976\n",
       "  370    153       1    0.920  0.0253        0.871        0.971\n",
       "  375    152       1    0.911  0.0266        0.861        0.965\n",
       "  377    151       1    0.903  0.0278        0.850        0.959\n",
       "  383    150       1    0.895  0.0290        0.840        0.954\n",
       "  391    149       1    0.887  0.0301        0.829        0.948\n",
       "  395    148       1    0.878  0.0312        0.819        0.942\n",
       "  462    147       1    0.870  0.0322        0.809        0.935\n",
       "  499    146       1    0.862  0.0332        0.799        0.929\n",
       "  530    144       1    0.853  0.0342        0.789        0.923\n",
       "  536    143       1    0.845  0.0351        0.779        0.917\n",
       "  559    142       1    0.837  0.0360        0.769        0.910\n",
       "  604    139       1    0.828  0.0369        0.759        0.904\n",
       "  633    138       1    0.820  0.0378        0.749        0.897\n",
       "  671    137       1    0.811  0.0386        0.739        0.890\n",
       "  683    136       1    0.802  0.0394        0.729        0.884\n",
       "  685    135       1    0.794  0.0402        0.719        0.877\n",
       "  686    134       1    0.785  0.0410        0.709        0.870\n",
       "  705    133       1    0.777  0.0417        0.699        0.863\n",
       "  709    132       1    0.768  0.0424        0.690        0.856\n",
       "  711    131       1    0.760  0.0431        0.680        0.849\n",
       "  714    130       1    0.751  0.0438        0.670        0.842\n",
       "  717    129       1    0.743  0.0444        0.661        0.835\n",
       "  726    128       1    0.734  0.0451        0.651        0.828\n",
       "  727    127       2    0.717  0.0463        0.632        0.814\n",
       "  731    125       1    0.709  0.0469        0.623        0.807\n",
       "  733    124       1    0.701  0.0474        0.614        0.800\n",
       "  734    123       1    0.692  0.0479        0.604        0.793\n",
       "  735    121       1    0.683  0.0485        0.594        0.785\n",
       "  737    120       1    0.674  0.0491        0.585        0.778\n",
       "  742    118       1    0.666  0.0496        0.575        0.770\n",
       "  750    117       1    0.657  0.0501        0.566        0.763\n",
       "  755    116       1    0.648  0.0506        0.556        0.755\n",
       "  761    115       1    0.639  0.0511        0.547        0.748\n",
       "  763    114       1    0.631  0.0516        0.537        0.740\n",
       "  768    113       2    0.613  0.0525        0.518        0.725\n",
       "  776    111       1    0.604  0.0529        0.509        0.717\n",
       "  783    110       1    0.595  0.0533        0.499        0.709\n",
       "  800    108       1    0.586  0.0537        0.490        0.701\n",
       "  810    106       2    0.568  0.0546        0.470        0.686\n",
       "  812    104       1    0.559  0.0550        0.461        0.678\n",
       "  816    103       1    0.550  0.0553        0.451        0.670\n",
       "  826    101       1    0.541  0.0556        0.442        0.662\n",
       "  833    100       1    0.532  0.0559        0.433        0.654\n",
       "  834     99       1    0.523  0.0562        0.424        0.646\n",
       "  876     96       1    0.515  0.0565        0.415        0.638\n",
       "  973     89       1    0.505  0.0567        0.406        0.630\n",
       "  992     88       1    0.496  0.0570        0.396        0.621\n",
       " 1033     87       1    0.486  0.0573        0.386        0.613\n",
       " 1034     86       1    0.477  0.0576        0.376        0.604\n",
       " 1086     80       1    0.467  0.0579        0.366        0.595\n",
       " 1087     79       1    0.457  0.0582        0.356        0.586\n",
       " 1092     77       1    0.447  0.0585        0.346        0.577\n",
       " 1099     75       1    0.436  0.0588        0.335        0.568\n",
       " 1336     54       1    0.422  0.0595        0.320        0.557\n",
       " 1416     48       1    0.408  0.0600        0.305        0.544\n",
       " 1446     46       1    0.393  0.0605        0.290        0.531\n",
       " 1453     44       1    0.378  0.0608        0.276        0.518\n",
       " 1456     43       1    0.363  0.0609        0.262        0.505\n",
       " 1508     33       1    0.346  0.0613        0.244        0.489\n",
       " 1511     32       1    0.328  0.0615        0.227        0.474"
      ]
     },
     "metadata": {},
     "output_type": "display_data"
    }
   ],
   "source": [
    "summary(supervivencia.estimada)"
   ]
  },
  {
   "cell_type": "markdown",
   "id": "piano-owner",
   "metadata": {},
   "source": [
    "**Solo supervivencia.**"
   ]
  },
  {
   "cell_type": "code",
   "execution_count": 61,
   "id": "hawaiian-stanford",
   "metadata": {},
   "outputs": [],
   "source": [
    "supervivencia.solo<-supervivencia.estimada$surv"
   ]
  },
  {
   "cell_type": "markdown",
   "id": "charitable-heather",
   "metadata": {},
   "source": [
    "**Solo tiempo.**"
   ]
  },
  {
   "cell_type": "code",
   "execution_count": 62,
   "id": "reduced-figure",
   "metadata": {},
   "outputs": [],
   "source": [
    "tiempo.solo<-supervivencia.estimada$time"
   ]
  },
  {
   "cell_type": "markdown",
   "id": "medieval-rogers",
   "metadata": {},
   "source": [
    "**Riesgo.**"
   ]
  },
  {
   "cell_type": "code",
   "execution_count": 63,
   "id": "false-scholar",
   "metadata": {},
   "outputs": [],
   "source": [
    "riesgo<-rep(0, length(supervivencia.solo))"
   ]
  },
  {
   "cell_type": "code",
   "execution_count": 64,
   "id": "accessible-following",
   "metadata": {},
   "outputs": [],
   "source": [
    "for(i in 2: length(supervivencia.solo))\n",
    "    {riesgo[i]<-(supervivencia.solo[i-1]-supervivencia.solo[i])/supervivencia.solo[i]}"
   ]
  },
  {
   "cell_type": "code",
   "execution_count": 65,
   "id": "spectacular-winter",
   "metadata": {},
   "outputs": [
    {
     "data": {
      "text/html": [
       "<ol class=list-inline>\n",
       "\t<li>0</li>\n",
       "\t<li>0.00755047451518218</li>\n",
       "\t<li>0.00764745361913256</li>\n",
       "\t<li>0</li>\n",
       "\t<li>0.00770262241571848</li>\n",
       "\t<li>0</li>\n",
       "\t<li>0</li>\n",
       "\t<li>0.00806093530321018</li>\n",
       "\t<li>0</li>\n",
       "\t<li>0</li>\n",
       "\t<li>0.00863988043515264</li>\n",
       "\t<li>0</li>\n",
       "\t<li>0.00873842389347163</li>\n",
       "\t<li>0.00881452710329292</li>\n",
       "\t<li>0.00889608134899136</li>\n",
       "\t<li>0.00895921091274251</li>\n",
       "\t<li>0.00904287679109943</li>\n",
       "\t<li>0.00907491680941551</li>\n",
       "\t<li>0.00920331847664813</li>\n",
       "\t<li>0.00928777372122938</li>\n",
       "\t<li>0.00935360821995034</li>\n",
       "\t<li>0.00941203629466787</li>\n",
       "\t<li>0.00950038397643191</li>\n",
       "\t<li>0.00963599545226721</li>\n",
       "\t<li>0</li>\n",
       "\t<li>0.00979581839206082</li>\n",
       "\t<li>0.00981907341110101</li>\n",
       "\t<li>0.0100552625267508</li>\n",
       "\t<li>0</li>\n",
       "\t<li>0.0103282350931202</li>\n",
       "\t<li>0.0104347171788356</li>\n",
       "\t<li>0.0104933883446481</li>\n",
       "\t<li>0.0106578892160186</li>\n",
       "\t<li>0.010704778027903</li>\n",
       "\t<li>0.0107963191822408</li>\n",
       "\t<li>0.0110145058491949</li>\n",
       "\t<li>0.0111303952006503</li>\n",
       "\t<li>0.0112002129603271</li>\n",
       "\t<li>0.0112593916057365</li>\n",
       "\t<li>0.0114327089952628</li>\n",
       "\t<li>0.0115820946922923</li>\n",
       "\t<li>0.023635961514241</li>\n",
       "\t<li>0.0119697698870561</li>\n",
       "\t<li>0.0120404591279546</li>\n",
       "\t<li>0.0122780083069677</li>\n",
       "\t<li>0.0129709981400766</li>\n",
       "\t<li>0.0130100330686446</li>\n",
       "\t<li>0</li>\n",
       "\t<li>0.0132624388259862</li>\n",
       "\t<li>0.013309059221128</li>\n",
       "\t<li>0.0134641151961265</li>\n",
       "\t<li>0.0137618543915583</li>\n",
       "\t<li>0.0138513062180733</li>\n",
       "\t<li>0.0286369010525184</li>\n",
       "\t<li>0.0147285432020353</li>\n",
       "\t<li>0.0150855705291987</li>\n",
       "\t<li>0</li>\n",
       "\t<li>0.0154584803741211</li>\n",
       "\t<li>0</li>\n",
       "\t<li>0.0321192620481476</li>\n",
       "\t<li>0.0160953722418702</li>\n",
       "\t<li>0.016240735347086</li>\n",
       "\t<li>0</li>\n",
       "\t<li>0.0165073530837034</li>\n",
       "\t<li>0.0166482387694166</li>\n",
       "\t<li>0.0167155189531804</li>\n",
       "\t<li>0</li>\n",
       "\t<li>0</li>\n",
       "\t<li>0.0171725812526059</li>\n",
       "\t<li>0</li>\n",
       "\t<li>0</li>\n",
       "\t<li>0</li>\n",
       "\t<li>0</li>\n",
       "\t<li>0</li>\n",
       "\t<li>0.0182182450743196</li>\n",
       "\t<li>0.0191289713387389</li>\n",
       "\t<li>0.0198247607929162</li>\n",
       "\t<li>0.0201707686376582</li>\n",
       "\t<li>0</li>\n",
       "\t<li>0</li>\n",
       "\t<li>0</li>\n",
       "\t<li>0</li>\n",
       "\t<li>0</li>\n",
       "\t<li>0.0212421596086244</li>\n",
       "\t<li>0.0216774334139178</li>\n",
       "\t<li>0</li>\n",
       "\t<li>0.0223979711470722</li>\n",
       "\t<li>0</li>\n",
       "\t<li>0.023697882878402</li>\n",
       "\t<li>0</li>\n",
       "\t<li>0</li>\n",
       "\t<li>0</li>\n",
       "\t<li>0</li>\n",
       "\t<li>0</li>\n",
       "\t<li>0</li>\n",
       "\t<li>0</li>\n",
       "\t<li>0</li>\n",
       "\t<li>0</li>\n",
       "\t<li>0</li>\n",
       "\t<li>0</li>\n",
       "\t<li>0</li>\n",
       "\t<li>0</li>\n",
       "\t<li>0</li>\n",
       "\t<li>0</li>\n",
       "\t<li>0</li>\n",
       "\t<li>0</li>\n",
       "\t<li>0</li>\n",
       "\t<li>0</li>\n",
       "\t<li>0.033363522293123</li>\n",
       "\t<li>0</li>\n",
       "\t<li>0</li>\n",
       "\t<li>0</li>\n",
       "\t<li>0</li>\n",
       "\t<li>0</li>\n",
       "\t<li>0.0362901247431123</li>\n",
       "\t<li>0</li>\n",
       "\t<li>0.0380982101311399</li>\n",
       "\t<li>0</li>\n",
       "\t<li>0.0391933059591042</li>\n",
       "\t<li>0.0398643765807253</li>\n",
       "\t<li>0</li>\n",
       "\t<li>0</li>\n",
       "\t<li>0</li>\n",
       "\t<li>0</li>\n",
       "\t<li>0</li>\n",
       "\t<li>0</li>\n",
       "\t<li>0</li>\n",
       "\t<li>0</li>\n",
       "\t<li>0.0514976870514064</li>\n",
       "\t<li>0.0521184047493753</li>\n",
       "\t<li>0</li>\n",
       "\t<li>0</li>\n",
       "\t<li>0</li>\n",
       "\t<li>0</li>\n",
       "\t<li>0</li>\n",
       "\t<li>0</li>\n",
       "\t<li>0</li>\n",
       "\t<li>0</li>\n",
       "\t<li>0</li>\n",
       "\t<li>0</li>\n",
       "\t<li>0</li>\n",
       "\t<li>0</li>\n",
       "\t<li>0</li>\n",
       "\t<li>0</li>\n",
       "\t<li>0</li>\n",
       "\t<li>0</li>\n",
       "\t<li>0</li>\n",
       "\t<li>0</li>\n",
       "\t<li>0</li>\n",
       "\t<li>0</li>\n",
       "\t<li>0</li>\n",
       "\t<li>0</li>\n",
       "\t<li>0</li>\n",
       "\t<li>0</li>\n",
       "\t<li>0</li>\n",
       "\t<li>0</li>\n",
       "\t<li>0</li>\n",
       "\t<li>0</li>\n",
       "</ol>\n"
      ],
      "text/latex": [
       "\\begin{enumerate*}\n",
       "\\item 0\n",
       "\\item 0.00755047451518218\n",
       "\\item 0.00764745361913256\n",
       "\\item 0\n",
       "\\item 0.00770262241571848\n",
       "\\item 0\n",
       "\\item 0\n",
       "\\item 0.00806093530321018\n",
       "\\item 0\n",
       "\\item 0\n",
       "\\item 0.00863988043515264\n",
       "\\item 0\n",
       "\\item 0.00873842389347163\n",
       "\\item 0.00881452710329292\n",
       "\\item 0.00889608134899136\n",
       "\\item 0.00895921091274251\n",
       "\\item 0.00904287679109943\n",
       "\\item 0.00907491680941551\n",
       "\\item 0.00920331847664813\n",
       "\\item 0.00928777372122938\n",
       "\\item 0.00935360821995034\n",
       "\\item 0.00941203629466787\n",
       "\\item 0.00950038397643191\n",
       "\\item 0.00963599545226721\n",
       "\\item 0\n",
       "\\item 0.00979581839206082\n",
       "\\item 0.00981907341110101\n",
       "\\item 0.0100552625267508\n",
       "\\item 0\n",
       "\\item 0.0103282350931202\n",
       "\\item 0.0104347171788356\n",
       "\\item 0.0104933883446481\n",
       "\\item 0.0106578892160186\n",
       "\\item 0.010704778027903\n",
       "\\item 0.0107963191822408\n",
       "\\item 0.0110145058491949\n",
       "\\item 0.0111303952006503\n",
       "\\item 0.0112002129603271\n",
       "\\item 0.0112593916057365\n",
       "\\item 0.0114327089952628\n",
       "\\item 0.0115820946922923\n",
       "\\item 0.023635961514241\n",
       "\\item 0.0119697698870561\n",
       "\\item 0.0120404591279546\n",
       "\\item 0.0122780083069677\n",
       "\\item 0.0129709981400766\n",
       "\\item 0.0130100330686446\n",
       "\\item 0\n",
       "\\item 0.0132624388259862\n",
       "\\item 0.013309059221128\n",
       "\\item 0.0134641151961265\n",
       "\\item 0.0137618543915583\n",
       "\\item 0.0138513062180733\n",
       "\\item 0.0286369010525184\n",
       "\\item 0.0147285432020353\n",
       "\\item 0.0150855705291987\n",
       "\\item 0\n",
       "\\item 0.0154584803741211\n",
       "\\item 0\n",
       "\\item 0.0321192620481476\n",
       "\\item 0.0160953722418702\n",
       "\\item 0.016240735347086\n",
       "\\item 0\n",
       "\\item 0.0165073530837034\n",
       "\\item 0.0166482387694166\n",
       "\\item 0.0167155189531804\n",
       "\\item 0\n",
       "\\item 0\n",
       "\\item 0.0171725812526059\n",
       "\\item 0\n",
       "\\item 0\n",
       "\\item 0\n",
       "\\item 0\n",
       "\\item 0\n",
       "\\item 0.0182182450743196\n",
       "\\item 0.0191289713387389\n",
       "\\item 0.0198247607929162\n",
       "\\item 0.0201707686376582\n",
       "\\item 0\n",
       "\\item 0\n",
       "\\item 0\n",
       "\\item 0\n",
       "\\item 0\n",
       "\\item 0.0212421596086244\n",
       "\\item 0.0216774334139178\n",
       "\\item 0\n",
       "\\item 0.0223979711470722\n",
       "\\item 0\n",
       "\\item 0.023697882878402\n",
       "\\item 0\n",
       "\\item 0\n",
       "\\item 0\n",
       "\\item 0\n",
       "\\item 0\n",
       "\\item 0\n",
       "\\item 0\n",
       "\\item 0\n",
       "\\item 0\n",
       "\\item 0\n",
       "\\item 0\n",
       "\\item 0\n",
       "\\item 0\n",
       "\\item 0\n",
       "\\item 0\n",
       "\\item 0\n",
       "\\item 0\n",
       "\\item 0\n",
       "\\item 0\n",
       "\\item 0.033363522293123\n",
       "\\item 0\n",
       "\\item 0\n",
       "\\item 0\n",
       "\\item 0\n",
       "\\item 0\n",
       "\\item 0.0362901247431123\n",
       "\\item 0\n",
       "\\item 0.0380982101311399\n",
       "\\item 0\n",
       "\\item 0.0391933059591042\n",
       "\\item 0.0398643765807253\n",
       "\\item 0\n",
       "\\item 0\n",
       "\\item 0\n",
       "\\item 0\n",
       "\\item 0\n",
       "\\item 0\n",
       "\\item 0\n",
       "\\item 0\n",
       "\\item 0.0514976870514064\n",
       "\\item 0.0521184047493753\n",
       "\\item 0\n",
       "\\item 0\n",
       "\\item 0\n",
       "\\item 0\n",
       "\\item 0\n",
       "\\item 0\n",
       "\\item 0\n",
       "\\item 0\n",
       "\\item 0\n",
       "\\item 0\n",
       "\\item 0\n",
       "\\item 0\n",
       "\\item 0\n",
       "\\item 0\n",
       "\\item 0\n",
       "\\item 0\n",
       "\\item 0\n",
       "\\item 0\n",
       "\\item 0\n",
       "\\item 0\n",
       "\\item 0\n",
       "\\item 0\n",
       "\\item 0\n",
       "\\item 0\n",
       "\\item 0\n",
       "\\item 0\n",
       "\\item 0\n",
       "\\item 0\n",
       "\\end{enumerate*}\n"
      ],
      "text/markdown": [
       "1. 0\n",
       "2. 0.00755047451518218\n",
       "3. 0.00764745361913256\n",
       "4. 0\n",
       "5. 0.00770262241571848\n",
       "6. 0\n",
       "7. 0\n",
       "8. 0.00806093530321018\n",
       "9. 0\n",
       "10. 0\n",
       "11. 0.00863988043515264\n",
       "12. 0\n",
       "13. 0.00873842389347163\n",
       "14. 0.00881452710329292\n",
       "15. 0.00889608134899136\n",
       "16. 0.00895921091274251\n",
       "17. 0.00904287679109943\n",
       "18. 0.00907491680941551\n",
       "19. 0.00920331847664813\n",
       "20. 0.00928777372122938\n",
       "21. 0.00935360821995034\n",
       "22. 0.00941203629466787\n",
       "23. 0.00950038397643191\n",
       "24. 0.00963599545226721\n",
       "25. 0\n",
       "26. 0.00979581839206082\n",
       "27. 0.00981907341110101\n",
       "28. 0.0100552625267508\n",
       "29. 0\n",
       "30. 0.0103282350931202\n",
       "31. 0.0104347171788356\n",
       "32. 0.0104933883446481\n",
       "33. 0.0106578892160186\n",
       "34. 0.010704778027903\n",
       "35. 0.0107963191822408\n",
       "36. 0.0110145058491949\n",
       "37. 0.0111303952006503\n",
       "38. 0.0112002129603271\n",
       "39. 0.0112593916057365\n",
       "40. 0.0114327089952628\n",
       "41. 0.0115820946922923\n",
       "42. 0.023635961514241\n",
       "43. 0.0119697698870561\n",
       "44. 0.0120404591279546\n",
       "45. 0.0122780083069677\n",
       "46. 0.0129709981400766\n",
       "47. 0.0130100330686446\n",
       "48. 0\n",
       "49. 0.0132624388259862\n",
       "50. 0.013309059221128\n",
       "51. 0.0134641151961265\n",
       "52. 0.0137618543915583\n",
       "53. 0.0138513062180733\n",
       "54. 0.0286369010525184\n",
       "55. 0.0147285432020353\n",
       "56. 0.0150855705291987\n",
       "57. 0\n",
       "58. 0.0154584803741211\n",
       "59. 0\n",
       "60. 0.0321192620481476\n",
       "61. 0.0160953722418702\n",
       "62. 0.016240735347086\n",
       "63. 0\n",
       "64. 0.0165073530837034\n",
       "65. 0.0166482387694166\n",
       "66. 0.0167155189531804\n",
       "67. 0\n",
       "68. 0\n",
       "69. 0.0171725812526059\n",
       "70. 0\n",
       "71. 0\n",
       "72. 0\n",
       "73. 0\n",
       "74. 0\n",
       "75. 0.0182182450743196\n",
       "76. 0.0191289713387389\n",
       "77. 0.0198247607929162\n",
       "78. 0.0201707686376582\n",
       "79. 0\n",
       "80. 0\n",
       "81. 0\n",
       "82. 0\n",
       "83. 0\n",
       "84. 0.0212421596086244\n",
       "85. 0.0216774334139178\n",
       "86. 0\n",
       "87. 0.0223979711470722\n",
       "88. 0\n",
       "89. 0.023697882878402\n",
       "90. 0\n",
       "91. 0\n",
       "92. 0\n",
       "93. 0\n",
       "94. 0\n",
       "95. 0\n",
       "96. 0\n",
       "97. 0\n",
       "98. 0\n",
       "99. 0\n",
       "100. 0\n",
       "101. 0\n",
       "102. 0\n",
       "103. 0\n",
       "104. 0\n",
       "105. 0\n",
       "106. 0\n",
       "107. 0\n",
       "108. 0\n",
       "109. 0.033363522293123\n",
       "110. 0\n",
       "111. 0\n",
       "112. 0\n",
       "113. 0\n",
       "114. 0\n",
       "115. 0.0362901247431123\n",
       "116. 0\n",
       "117. 0.0380982101311399\n",
       "118. 0\n",
       "119. 0.0391933059591042\n",
       "120. 0.0398643765807253\n",
       "121. 0\n",
       "122. 0\n",
       "123. 0\n",
       "124. 0\n",
       "125. 0\n",
       "126. 0\n",
       "127. 0\n",
       "128. 0\n",
       "129. 0.0514976870514064\n",
       "130. 0.0521184047493753\n",
       "131. 0\n",
       "132. 0\n",
       "133. 0\n",
       "134. 0\n",
       "135. 0\n",
       "136. 0\n",
       "137. 0\n",
       "138. 0\n",
       "139. 0\n",
       "140. 0\n",
       "141. 0\n",
       "142. 0\n",
       "143. 0\n",
       "144. 0\n",
       "145. 0\n",
       "146. 0\n",
       "147. 0\n",
       "148. 0\n",
       "149. 0\n",
       "150. 0\n",
       "151. 0\n",
       "152. 0\n",
       "153. 0\n",
       "154. 0\n",
       "155. 0\n",
       "156. 0\n",
       "157. 0\n",
       "158. 0\n",
       "\n",
       "\n"
      ],
      "text/plain": [
       "  [1] 0.000000000 0.007550475 0.007647454 0.000000000 0.007702622 0.000000000\n",
       "  [7] 0.000000000 0.008060935 0.000000000 0.000000000 0.008639880 0.000000000\n",
       " [13] 0.008738424 0.008814527 0.008896081 0.008959211 0.009042877 0.009074917\n",
       " [19] 0.009203318 0.009287774 0.009353608 0.009412036 0.009500384 0.009635995\n",
       " [25] 0.000000000 0.009795818 0.009819073 0.010055263 0.000000000 0.010328235\n",
       " [31] 0.010434717 0.010493388 0.010657889 0.010704778 0.010796319 0.011014506\n",
       " [37] 0.011130395 0.011200213 0.011259392 0.011432709 0.011582095 0.023635962\n",
       " [43] 0.011969770 0.012040459 0.012278008 0.012970998 0.013010033 0.000000000\n",
       " [49] 0.013262439 0.013309059 0.013464115 0.013761854 0.013851306 0.028636901\n",
       " [55] 0.014728543 0.015085571 0.000000000 0.015458480 0.000000000 0.032119262\n",
       " [61] 0.016095372 0.016240735 0.000000000 0.016507353 0.016648239 0.016715519\n",
       " [67] 0.000000000 0.000000000 0.017172581 0.000000000 0.000000000 0.000000000\n",
       " [73] 0.000000000 0.000000000 0.018218245 0.019128971 0.019824761 0.020170769\n",
       " [79] 0.000000000 0.000000000 0.000000000 0.000000000 0.000000000 0.021242160\n",
       " [85] 0.021677433 0.000000000 0.022397971 0.000000000 0.023697883 0.000000000\n",
       " [91] 0.000000000 0.000000000 0.000000000 0.000000000 0.000000000 0.000000000\n",
       " [97] 0.000000000 0.000000000 0.000000000 0.000000000 0.000000000 0.000000000\n",
       "[103] 0.000000000 0.000000000 0.000000000 0.000000000 0.000000000 0.000000000\n",
       "[109] 0.033363522 0.000000000 0.000000000 0.000000000 0.000000000 0.000000000\n",
       "[115] 0.036290125 0.000000000 0.038098210 0.000000000 0.039193306 0.039864377\n",
       "[121] 0.000000000 0.000000000 0.000000000 0.000000000 0.000000000 0.000000000\n",
       "[127] 0.000000000 0.000000000 0.051497687 0.052118405 0.000000000 0.000000000\n",
       "[133] 0.000000000 0.000000000 0.000000000 0.000000000 0.000000000 0.000000000\n",
       "[139] 0.000000000 0.000000000 0.000000000 0.000000000 0.000000000 0.000000000\n",
       "[145] 0.000000000 0.000000000 0.000000000 0.000000000 0.000000000 0.000000000\n",
       "[151] 0.000000000 0.000000000 0.000000000 0.000000000 0.000000000 0.000000000\n",
       "[157] 0.000000000 0.000000000"
      ]
     },
     "metadata": {},
     "output_type": "display_data"
    }
   ],
   "source": [
    "riesgo"
   ]
  },
  {
   "cell_type": "markdown",
   "id": "caring-blackberry",
   "metadata": {},
   "source": [
    "**Gráficas**\n",
    "*Revisando gráficas para sugerencia de familia.* "
   ]
  },
  {
   "cell_type": "markdown",
   "id": "protecting-nothing",
   "metadata": {},
   "source": [
    "**Familia exponencial**"
   ]
  },
  {
   "cell_type": "code",
   "execution_count": 66,
   "id": "natural-string",
   "metadata": {},
   "outputs": [],
   "source": [
    "regresion<-lm(riesgo~tiempo.solo)"
   ]
  },
  {
   "cell_type": "code",
   "execution_count": 67,
   "id": "third-jones",
   "metadata": {},
   "outputs": [
    {
     "data": {
      "image/png": "[encoded data removed]",
      "text/plain": [
       "Plot with title \"Función del riesgo\""
      ]
     },
     "metadata": {},
     "output_type": "display_data"
    }
   ],
   "source": [
    "plot(tiempo.solo, riesgo, main=\"Función del riesgo\", ylim=c(0,1))\n",
    "abline(regresion)"
   ]
  },
  {
   "cell_type": "markdown",
   "id": "indian-horizon",
   "metadata": {},
   "source": [
    "*Conclusión:* Graficamente parece que el comportamiento de mis datos sigue un comportamiento de una recta horizontal."
   ]
  },
  {
   "cell_type": "code",
   "execution_count": 68,
   "id": "public-retirement",
   "metadata": {},
   "outputs": [
    {
     "data": {
      "text/plain": [
       "\n",
       "Call:\n",
       "lm(formula = riesgo ~ tiempo.solo)\n",
       "\n",
       "Residuals:\n",
       "      Min        1Q    Median        3Q       Max \n",
       "-0.010832 -0.006340 -0.004476  0.002922  0.046748 \n",
       "\n",
       "Coefficients:\n",
       "              Estimate Std. Error t value Pr(>|t|)    \n",
       "(Intercept)  1.096e-02  1.985e-03   5.522 1.37e-07 ***\n",
       "tiempo.solo -3.701e-06  1.741e-06  -2.125   0.0352 *  \n",
       "---\n",
       "Signif. codes:  0 '***' 0.001 '**' 0.01 '*' 0.05 '.' 0.1 ' ' 1\n",
       "\n",
       "Residual standard error: 0.01039 on 156 degrees of freedom\n",
       "Multiple R-squared:  0.02813,\tAdjusted R-squared:  0.0219 \n",
       "F-statistic: 4.516 on 1 and 156 DF,  p-value: 0.03515\n"
      ]
     },
     "metadata": {},
     "output_type": "display_data"
    }
   ],
   "source": [
    "summary(regresion)"
   ]
  },
  {
   "cell_type": "markdown",
   "id": "conditional-optimization",
   "metadata": {},
   "source": [
    "*Conclusión:* Dado, que el p valor es menor que alfa(0.1) y la significancia es de 0.02819, se sugiere que el modelo sigue una recta horizontal, por lo tanto, sugiere una función exponencial."
   ]
  },
  {
   "cell_type": "markdown",
   "id": "conventional-effectiveness",
   "metadata": {},
   "source": [
    "**Familia Weibull**"
   ]
  },
  {
   "cell_type": "code",
   "execution_count": 69,
   "id": "center-howard",
   "metadata": {},
   "outputs": [],
   "source": [
    "weibull<-lm(-log(supervivencia.solo)~tiempo.solo)"
   ]
  },
  {
   "cell_type": "code",
   "execution_count": 70,
   "id": "small-taiwan",
   "metadata": {},
   "outputs": [
    {
     "data": {
      "image/png": "[encoded data removed]",
      "text/plain": [
       "plot without title"
      ]
     },
     "metadata": {},
     "output_type": "display_data"
    }
   ],
   "source": [
    "plot(tiempo.solo, -log(supervivencia.solo),ylim=c(0,1))\n",
    "abline(weibull)"
   ]
  },
  {
   "cell_type": "markdown",
   "id": "intimate-export",
   "metadata": {},
   "source": [
    "*Conclusión:* Graficamente se puede apreciar que la recta no pasa por el origen, por lo que no podemos decir que sigue una Weibull. Como quiera, con el resumen comprobaremos si pasa por el origen o no."
   ]
  },
  {
   "cell_type": "code",
   "execution_count": 71,
   "id": "solved-hearing",
   "metadata": {},
   "outputs": [
    {
     "data": {
      "text/plain": [
       "\n",
       "Call:\n",
       "lm(formula = -log(supervivencia.solo) ~ tiempo.solo)\n",
       "\n",
       "Residuals:\n",
       "      Min        1Q    Median        3Q       Max \n",
       "-0.181584 -0.064099 -0.009186  0.077931  0.155117 \n",
       "\n",
       "Coefficients:\n",
       "              Estimate Std. Error t value Pr(>|t|)    \n",
       "(Intercept) -1.381e-01  1.647e-02  -8.386  2.8e-14 ***\n",
       "tiempo.solo  7.559e-04  1.445e-05  52.330  < 2e-16 ***\n",
       "---\n",
       "Signif. codes:  0 '***' 0.001 '**' 0.01 '*' 0.05 '.' 0.1 ' ' 1\n",
       "\n",
       "Residual standard error: 0.08615 on 156 degrees of freedom\n",
       "Multiple R-squared:  0.9461,\tAdjusted R-squared:  0.9458 \n",
       "F-statistic:  2738 on 1 and 156 DF,  p-value: < 2.2e-16\n"
      ]
     },
     "metadata": {},
     "output_type": "display_data"
    }
   ],
   "source": [
    "summary(weibull)"
   ]
  },
  {
   "cell_type": "markdown",
   "id": "unusual-precipitation",
   "metadata": {},
   "source": [
    "*Aquí vemos que no hay una intercepción que pase al origen.*"
   ]
  },
  {
   "cell_type": "markdown",
   "id": "pressed-bumper",
   "metadata": {},
   "source": [
    "**Modelo LogNormal.**"
   ]
  },
  {
   "cell_type": "code",
   "execution_count": 72,
   "id": "seeing-motivation",
   "metadata": {},
   "outputs": [],
   "source": [
    "lognormal<-lm(qnorm(1-supervivencia.solo)[c(-1, -2)]~log(tiempo.solo)[c(-1, -2)])"
   ]
  },
  {
   "cell_type": "code",
   "execution_count": 73,
   "id": "legal-regulation",
   "metadata": {},
   "outputs": [
    {
     "data": {
      "image/png": "[encoded data removed]",
      "text/plain": [
       "plot without title"
      ]
     },
     "metadata": {},
     "output_type": "display_data"
    }
   ],
   "source": [
    "plot(log(tiempo.solo), qnorm(1-supervivencia.solo))\n",
    "abline(lognormal)"
   ]
  },
  {
   "cell_type": "code",
   "execution_count": 74,
   "id": "intellectual-memphis",
   "metadata": {},
   "outputs": [
    {
     "data": {
      "text/plain": [
       "\n",
       "Call:\n",
       "lm(formula = qnorm(1 - supervivencia.solo)[c(-1, -2)] ~ log(tiempo.solo)[c(-1, \n",
       "    -2)])\n",
       "\n",
       "Residuals:\n",
       "     Min       1Q   Median       3Q      Max \n",
       "-0.31678 -0.10882 -0.00446  0.11521  0.35346 \n",
       "\n",
       "Coefficients:\n",
       "                            Estimate Std. Error t value Pr(>|t|)    \n",
       "(Intercept)                  -8.6692     0.1425  -60.85   <2e-16 ***\n",
       "log(tiempo.solo)[c(-1, -2)]   1.2367     0.0208   59.47   <2e-16 ***\n",
       "---\n",
       "Signif. codes:  0 '***' 0.001 '**' 0.01 '*' 0.05 '.' 0.1 ' ' 1\n",
       "\n",
       "Residual standard error: 0.1438 on 154 degrees of freedom\n",
       "Multiple R-squared:  0.9583,\tAdjusted R-squared:  0.958 \n",
       "F-statistic:  3536 on 1 and 154 DF,  p-value: < 2.2e-16\n"
      ]
     },
     "metadata": {},
     "output_type": "display_data"
    }
   ],
   "source": [
    "summary(lognormal)"
   ]
  },
  {
   "cell_type": "code",
   "execution_count": null,
   "id": "assured-method",
   "metadata": {},
   "outputs": [],
   "source": [
    "*Conclusión:* Dado que para el modelo se dibuja una recta, y esta recta es significativa tanto por tener un p-valor menor que alfa, como un ajuste grande, esto nos sugiere que el modelo sea lognormal."
   ]
  },
  {
   "cell_type": "markdown",
   "id": "decent-sensitivity",
   "metadata": {},
   "source": [
    "**Familia Loglogistica**"
   ]
  },
  {
   "cell_type": "code",
   "execution_count": 75,
   "id": "likely-relation",
   "metadata": {},
   "outputs": [],
   "source": [
    "loglogit<-lm(qlogis(supervivencia.solo)[c(-1, -2)]~log(tiempo.solo)[c(-1, -2)])"
   ]
  },
  {
   "cell_type": "code",
   "execution_count": 76,
   "id": "laden-switch",
   "metadata": {},
   "outputs": [
    {
     "data": {
      "image/png": "[encoded data removed]",
      "text/plain": [
       "plot without title"
      ]
     },
     "metadata": {},
     "output_type": "display_data"
    }
   ],
   "source": [
    "plot(log(tiempo.solo), qlogis(supervivencia.solo))\n",
    "abline(loglogit)"
   ]
  },
  {
   "cell_type": "code",
   "execution_count": 77,
   "id": "circular-custody",
   "metadata": {},
   "outputs": [
    {
     "data": {
      "text/plain": [
       "\n",
       "Call:\n",
       "lm(formula = qlogis(supervivencia.solo)[c(-1, -2)] ~ log(tiempo.solo)[c(-1, \n",
       "    -2)])\n",
       "\n",
       "Residuals:\n",
       "     Min       1Q   Median       3Q      Max \n",
       "-0.53999 -0.21999  0.02553  0.18784  0.65091 \n",
       "\n",
       "Coefficients:\n",
       "                            Estimate Std. Error t value Pr(>|t|)    \n",
       "(Intercept)                 15.29885    0.26457   57.83   <2e-16 ***\n",
       "log(tiempo.solo)[c(-1, -2)] -2.18032    0.03862  -56.45   <2e-16 ***\n",
       "---\n",
       "Signif. codes:  0 '***' 0.001 '**' 0.01 '*' 0.05 '.' 0.1 ' ' 1\n",
       "\n",
       "Residual standard error: 0.2671 on 154 degrees of freedom\n",
       "Multiple R-squared:  0.9539,\tAdjusted R-squared:  0.9536 \n",
       "F-statistic:  3187 on 1 and 154 DF,  p-value: < 2.2e-16\n"
      ]
     },
     "metadata": {},
     "output_type": "display_data"
    }
   ],
   "source": [
    "summary(loglogit)"
   ]
  },
  {
   "cell_type": "markdown",
   "id": "contained-preservation",
   "metadata": {},
   "source": [
    "*Conclusión:* Al graficar el modelo tenemos una lineal recta, además de que el modelo se ajusta muy bien, por lo que podría sugerir un modelo loglogistica."
   ]
  },
  {
   "cell_type": "markdown",
   "id": "tight-shopping",
   "metadata": {},
   "source": [
    "**Comparación de modelos.**"
   ]
  },
  {
   "cell_type": "code",
   "execution_count": 79,
   "id": "fresh-montgomery",
   "metadata": {},
   "outputs": [
    {
     "name": "stderr",
     "output_type": "stream",
     "text": [
      "Warning message:\n",
      "\"package 'flexsurv' was built under R version 3.6.3\""
     ]
    }
   ],
   "source": [
    "library(flexsurv)"
   ]
  },
  {
   "cell_type": "code",
   "execution_count": 82,
   "id": "invalid-animation",
   "metadata": {},
   "outputs": [],
   "source": [
    "exponencial_comparativo<-flexsurv::flexsurvreg(Obj_surv~udca1$trt+udca1$riskscore, dist=\"exp\")"
   ]
  },
  {
   "cell_type": "markdown",
   "id": "enhanced-simpson",
   "metadata": {},
   "source": [
    "**Gráfica de modelo continuo.**"
   ]
  },
  {
   "cell_type": "code",
   "execution_count": 83,
   "id": "interstate-albuquerque",
   "metadata": {},
   "outputs": [
    {
     "data": {
      "image/png": "[encoded data removed]",
      "text/plain": [
       "plot without title"
      ]
     },
     "metadata": {},
     "output_type": "display_data"
    }
   ],
   "source": [
    "plot(exponencial_comparativo)"
   ]
  },
  {
   "cell_type": "markdown",
   "id": "concrete-latitude",
   "metadata": {},
   "source": [
    "**Tiempo y supervivencia.**"
   ]
  },
  {
   "cell_type": "code",
   "execution_count": 84,
   "id": "checked-birmingham",
   "metadata": {},
   "outputs": [
    {
     "data": {
      "text/html": [
       "<ol>\n",
       "\t<li><table>\n",
       "<thead><tr><th scope=col>time</th><th scope=col>est</th><th scope=col>lcl</th><th scope=col>ucl</th></tr></thead>\n",
       "<tbody>\n",
       "\t<tr><td> 35      </td><td>0.9867309</td><td>0.9829512</td><td>0.9895363</td></tr>\n",
       "\t<tr><td> 47      </td><td>0.9822221</td><td>0.9771731</td><td>0.9859740</td></tr>\n",
       "\t<tr><td>144      </td><td>0.9465246</td><td>0.9316963</td><td>0.9576456</td></tr>\n",
       "\t<tr><td>183      </td><td>0.9325403</td><td>0.9140140</td><td>0.9464866</td></tr>\n",
       "\t<tr><td>189      </td><td>0.9304073</td><td>0.9113236</td><td>0.9447814</td></tr>\n",
       "\t<tr><td>233      </td><td>0.9149136</td><td>0.8918344</td><td>0.9323701</td></tr>\n",
       "\t<tr><td>252      </td><td>0.9083031</td><td>0.8835480</td><td>0.9270613</td></tr>\n",
       "\t<tr><td>272      </td><td>0.9013964</td><td>0.8749087</td><td>0.9215056</td></tr>\n",
       "\t<tr><td>275      </td><td>0.9003649</td><td>0.8736201</td><td>0.9206752</td></tr>\n",
       "\t<tr><td>307      </td><td>0.8894356</td><td>0.8599925</td><td>0.9118633</td></tr>\n",
       "\t<tr><td>340      </td><td>0.8783038</td><td>0.8461618</td><td>0.9028643</td></tr>\n",
       "\t<tr><td>343      </td><td>0.8772987</td><td>0.8449155</td><td>0.9020507</td></tr>\n",
       "\t<tr><td>351      </td><td>0.8746242</td><td>0.8416011</td><td>0.8998845</td></tr>\n",
       "\t<tr><td>361      </td><td>0.8712925</td><td>0.8374764</td><td>0.8971840</td></tr>\n",
       "\t<tr><td>362      </td><td>0.8709600</td><td>0.8370650</td><td>0.8969144</td></tr>\n",
       "\t<tr><td>364      </td><td>0.8702955</td><td>0.8362429</td><td>0.8963755</td></tr>\n",
       "\t<tr><td>370      </td><td>0.8683048</td><td>0.8337815</td><td>0.8947606</td></tr>\n",
       "\t<tr><td>375      </td><td>0.8666495</td><td>0.8317357</td><td>0.8934170</td></tr>\n",
       "\t<tr><td>377      </td><td>0.8659882</td><td>0.8309189</td><td>0.8928802</td></tr>\n",
       "\t<tr><td>383      </td><td>0.8640074</td><td>0.8284731</td><td>0.8912716</td></tr>\n",
       "\t<tr><td>391      </td><td>0.8613734</td><td>0.8252232</td><td>0.8891312</td></tr>\n",
       "\t<tr><td>395      </td><td>0.8600594</td><td>0.8236030</td><td>0.8880630</td></tr>\n",
       "\t<tr><td>462      </td><td>0.8383457</td><td>0.7969333</td><td>0.8703598</td></tr>\n",
       "\t<tr><td>499      </td><td>0.8265904</td><td>0.7825772</td><td>0.8607351</td></tr>\n",
       "\t<tr><td>513      </td><td>0.8221856</td><td>0.7772129</td><td>0.8571211</td></tr>\n",
       "\t<tr><td>530      </td><td>0.8168684</td><td>0.7707484</td><td>0.8527531</td></tr>\n",
       "\t<tr><td>536      </td><td>0.8150000</td><td>0.7684797</td><td>0.8512168</td></tr>\n",
       "\t<tr><td>559      </td><td>0.8078772</td><td>0.7598447</td><td>0.8453531</td></tr>\n",
       "\t<tr><td>573      </td><td>0.8035720</td><td>0.7546362</td><td>0.8418038</td></tr>\n",
       "\t<tr><td>604      </td><td>0.7941208</td><td>0.7432298</td><td>0.8339974</td></tr>\n",
       "\t<tr><td>...</td><td>...</td><td>...</td><td>...</td></tr>\n",
       "\t<tr><td>1508     </td><td>0.5624033</td><td>0.4766883</td><td>0.6355837</td></tr>\n",
       "\t<tr><td>1511     </td><td>0.5617597</td><td>0.4759862</td><td>0.6350109</td></tr>\n",
       "\t<tr><td>1518     </td><td>0.5602610</td><td>0.4743520</td><td>0.6336764</td></tr>\n",
       "\t<tr><td>1519     </td><td>0.5600472</td><td>0.4741190</td><td>0.6334860</td></tr>\n",
       "\t<tr><td>1526     </td><td>0.5585530</td><td>0.4724913</td><td>0.6321547</td></tr>\n",
       "\t<tr><td>1552     </td><td>0.5530378</td><td>0.4664940</td><td>0.6272342</td></tr>\n",
       "\t<tr><td>1554     </td><td>0.5526158</td><td>0.4660359</td><td>0.6268573</td></tr>\n",
       "\t<tr><td>1630     </td><td>0.5368170</td><td>0.4489553</td><td>0.6127016</td></tr>\n",
       "\t<tr><td>1674     </td><td>0.5278776</td><td>0.4393541</td><td>0.6046528</td></tr>\n",
       "\t<tr><td>1680     </td><td>0.5266702</td><td>0.4380609</td><td>0.6035635</td></tr>\n",
       "\t<tr><td>1681     </td><td>0.5264692</td><td>0.4378457</td><td>0.6033821</td></tr>\n",
       "\t<tr><td>1688     </td><td>0.5250646</td><td>0.4363425</td><td>0.6021141</td></tr>\n",
       "\t<tr><td>1692     </td><td>0.5242636</td><td>0.4354858</td><td>0.6013907</td></tr>\n",
       "\t<tr><td>1706     </td><td>0.5214699</td><td>0.4325007</td><td>0.5988656</td></tr>\n",
       "\t<tr><td>1707     </td><td>0.5212709</td><td>0.4322882</td><td>0.5986856</td></tr>\n",
       "\t<tr><td>1731     </td><td>0.5165180</td><td>0.4272209</td><td>0.5943829</td></tr>\n",
       "\t<tr><td>1735     </td><td>0.5157301</td><td>0.4263821</td><td>0.5936688</td></tr>\n",
       "\t<tr><td>1741     </td><td>0.5145504</td><td>0.4251270</td><td>0.5925992</td></tr>\n",
       "\t<tr><td>1742     </td><td>0.5143541</td><td>0.4249182</td><td>0.5924212</td></tr>\n",
       "\t<tr><td>1750     </td><td>0.5127860</td><td>0.4232514</td><td>0.5909985</td></tr>\n",
       "\t<tr><td>1755     </td><td>0.5118084</td><td>0.4222129</td><td>0.5901111</td></tr>\n",
       "\t<tr><td>1756     </td><td>0.5116131</td><td>0.4220055</td><td>0.5899338</td></tr>\n",
       "\t<tr><td>1804     </td><td>0.5023260</td><td>0.4121699</td><td>0.5814846</td></tr>\n",
       "\t<tr><td>1826     </td><td>0.4981259</td><td>0.4077388</td><td>0.5776526</td></tr>\n",
       "\t<tr><td>1834     </td><td>0.4966073</td><td>0.4061394</td><td>0.5762654</td></tr>\n",
       "\t<tr><td>1846     </td><td>0.4943381</td><td>0.4037520</td><td>0.5741909</td></tr>\n",
       "\t<tr><td>1869     </td><td>0.4900178</td><td>0.3992152</td><td>0.5702355</td></tr>\n",
       "\t<tr><td>1875     </td><td>0.4888970</td><td>0.3980401</td><td>0.5692082</td></tr>\n",
       "\t<tr><td>1892     </td><td>0.4857352</td><td>0.3947294</td><td>0.5663074</td></tr>\n",
       "\t<tr><td>1896     </td><td>0.4849942</td><td>0.3939545</td><td>0.5656271</td></tr>\n",
       "</tbody>\n",
       "</table>\n",
       "</li>\n",
       "</ol>\n"
      ],
      "text/latex": [
       "\\begin{enumerate}\n",
       "\\item \\begin{tabular}{r|llll}\n",
       " time & est & lcl & ucl\\\\\n",
       "\\hline\n",
       "\t  35       & 0.9867309 & 0.9829512 & 0.9895363\\\\\n",
       "\t  47       & 0.9822221 & 0.9771731 & 0.9859740\\\\\n",
       "\t 144       & 0.9465246 & 0.9316963 & 0.9576456\\\\\n",
       "\t 183       & 0.9325403 & 0.9140140 & 0.9464866\\\\\n",
       "\t 189       & 0.9304073 & 0.9113236 & 0.9447814\\\\\n",
       "\t 233       & 0.9149136 & 0.8918344 & 0.9323701\\\\\n",
       "\t 252       & 0.9083031 & 0.8835480 & 0.9270613\\\\\n",
       "\t 272       & 0.9013964 & 0.8749087 & 0.9215056\\\\\n",
       "\t 275       & 0.9003649 & 0.8736201 & 0.9206752\\\\\n",
       "\t 307       & 0.8894356 & 0.8599925 & 0.9118633\\\\\n",
       "\t 340       & 0.8783038 & 0.8461618 & 0.9028643\\\\\n",
       "\t 343       & 0.8772987 & 0.8449155 & 0.9020507\\\\\n",
       "\t 351       & 0.8746242 & 0.8416011 & 0.8998845\\\\\n",
       "\t 361       & 0.8712925 & 0.8374764 & 0.8971840\\\\\n",
       "\t 362       & 0.8709600 & 0.8370650 & 0.8969144\\\\\n",
       "\t 364       & 0.8702955 & 0.8362429 & 0.8963755\\\\\n",
       "\t 370       & 0.8683048 & 0.8337815 & 0.8947606\\\\\n",
       "\t 375       & 0.8666495 & 0.8317357 & 0.8934170\\\\\n",
       "\t 377       & 0.8659882 & 0.8309189 & 0.8928802\\\\\n",
       "\t 383       & 0.8640074 & 0.8284731 & 0.8912716\\\\\n",
       "\t 391       & 0.8613734 & 0.8252232 & 0.8891312\\\\\n",
       "\t 395       & 0.8600594 & 0.8236030 & 0.8880630\\\\\n",
       "\t 462       & 0.8383457 & 0.7969333 & 0.8703598\\\\\n",
       "\t 499       & 0.8265904 & 0.7825772 & 0.8607351\\\\\n",
       "\t 513       & 0.8221856 & 0.7772129 & 0.8571211\\\\\n",
       "\t 530       & 0.8168684 & 0.7707484 & 0.8527531\\\\\n",
       "\t 536       & 0.8150000 & 0.7684797 & 0.8512168\\\\\n",
       "\t 559       & 0.8078772 & 0.7598447 & 0.8453531\\\\\n",
       "\t 573       & 0.8035720 & 0.7546362 & 0.8418038\\\\\n",
       "\t 604       & 0.7941208 & 0.7432298 & 0.8339974\\\\\n",
       "\t ... & ... & ... & ...\\\\\n",
       "\t 1508      & 0.5624033 & 0.4766883 & 0.6355837\\\\\n",
       "\t 1511      & 0.5617597 & 0.4759862 & 0.6350109\\\\\n",
       "\t 1518      & 0.5602610 & 0.4743520 & 0.6336764\\\\\n",
       "\t 1519      & 0.5600472 & 0.4741190 & 0.6334860\\\\\n",
       "\t 1526      & 0.5585530 & 0.4724913 & 0.6321547\\\\\n",
       "\t 1552      & 0.5530378 & 0.4664940 & 0.6272342\\\\\n",
       "\t 1554      & 0.5526158 & 0.4660359 & 0.6268573\\\\\n",
       "\t 1630      & 0.5368170 & 0.4489553 & 0.6127016\\\\\n",
       "\t 1674      & 0.5278776 & 0.4393541 & 0.6046528\\\\\n",
       "\t 1680      & 0.5266702 & 0.4380609 & 0.6035635\\\\\n",
       "\t 1681      & 0.5264692 & 0.4378457 & 0.6033821\\\\\n",
       "\t 1688      & 0.5250646 & 0.4363425 & 0.6021141\\\\\n",
       "\t 1692      & 0.5242636 & 0.4354858 & 0.6013907\\\\\n",
       "\t 1706      & 0.5214699 & 0.4325007 & 0.5988656\\\\\n",
       "\t 1707      & 0.5212709 & 0.4322882 & 0.5986856\\\\\n",
       "\t 1731      & 0.5165180 & 0.4272209 & 0.5943829\\\\\n",
       "\t 1735      & 0.5157301 & 0.4263821 & 0.5936688\\\\\n",
       "\t 1741      & 0.5145504 & 0.4251270 & 0.5925992\\\\\n",
       "\t 1742      & 0.5143541 & 0.4249182 & 0.5924212\\\\\n",
       "\t 1750      & 0.5127860 & 0.4232514 & 0.5909985\\\\\n",
       "\t 1755      & 0.5118084 & 0.4222129 & 0.5901111\\\\\n",
       "\t 1756      & 0.5116131 & 0.4220055 & 0.5899338\\\\\n",
       "\t 1804      & 0.5023260 & 0.4121699 & 0.5814846\\\\\n",
       "\t 1826      & 0.4981259 & 0.4077388 & 0.5776526\\\\\n",
       "\t 1834      & 0.4966073 & 0.4061394 & 0.5762654\\\\\n",
       "\t 1846      & 0.4943381 & 0.4037520 & 0.5741909\\\\\n",
       "\t 1869      & 0.4900178 & 0.3992152 & 0.5702355\\\\\n",
       "\t 1875      & 0.4888970 & 0.3980401 & 0.5692082\\\\\n",
       "\t 1892      & 0.4857352 & 0.3947294 & 0.5663074\\\\\n",
       "\t 1896      & 0.4849942 & 0.3939545 & 0.5656271\\\\\n",
       "\\end{tabular}\n",
       "\n",
       "\\end{enumerate}\n"
      ],
      "text/markdown": [
       "1. \n",
       "| time | est | lcl | ucl |\n",
       "|---|---|---|---|\n",
       "|  35       | 0.9867309 | 0.9829512 | 0.9895363 |\n",
       "|  47       | 0.9822221 | 0.9771731 | 0.9859740 |\n",
       "| 144       | 0.9465246 | 0.9316963 | 0.9576456 |\n",
       "| 183       | 0.9325403 | 0.9140140 | 0.9464866 |\n",
       "| 189       | 0.9304073 | 0.9113236 | 0.9447814 |\n",
       "| 233       | 0.9149136 | 0.8918344 | 0.9323701 |\n",
       "| 252       | 0.9083031 | 0.8835480 | 0.9270613 |\n",
       "| 272       | 0.9013964 | 0.8749087 | 0.9215056 |\n",
       "| 275       | 0.9003649 | 0.8736201 | 0.9206752 |\n",
       "| 307       | 0.8894356 | 0.8599925 | 0.9118633 |\n",
       "| 340       | 0.8783038 | 0.8461618 | 0.9028643 |\n",
       "| 343       | 0.8772987 | 0.8449155 | 0.9020507 |\n",
       "| 351       | 0.8746242 | 0.8416011 | 0.8998845 |\n",
       "| 361       | 0.8712925 | 0.8374764 | 0.8971840 |\n",
       "| 362       | 0.8709600 | 0.8370650 | 0.8969144 |\n",
       "| 364       | 0.8702955 | 0.8362429 | 0.8963755 |\n",
       "| 370       | 0.8683048 | 0.8337815 | 0.8947606 |\n",
       "| 375       | 0.8666495 | 0.8317357 | 0.8934170 |\n",
       "| 377       | 0.8659882 | 0.8309189 | 0.8928802 |\n",
       "| 383       | 0.8640074 | 0.8284731 | 0.8912716 |\n",
       "| 391       | 0.8613734 | 0.8252232 | 0.8891312 |\n",
       "| 395       | 0.8600594 | 0.8236030 | 0.8880630 |\n",
       "| 462       | 0.8383457 | 0.7969333 | 0.8703598 |\n",
       "| 499       | 0.8265904 | 0.7825772 | 0.8607351 |\n",
       "| 513       | 0.8221856 | 0.7772129 | 0.8571211 |\n",
       "| 530       | 0.8168684 | 0.7707484 | 0.8527531 |\n",
       "| 536       | 0.8150000 | 0.7684797 | 0.8512168 |\n",
       "| 559       | 0.8078772 | 0.7598447 | 0.8453531 |\n",
       "| 573       | 0.8035720 | 0.7546362 | 0.8418038 |\n",
       "| 604       | 0.7941208 | 0.7432298 | 0.8339974 |\n",
       "| ... | ... | ... | ... |\n",
       "| 1508      | 0.5624033 | 0.4766883 | 0.6355837 |\n",
       "| 1511      | 0.5617597 | 0.4759862 | 0.6350109 |\n",
       "| 1518      | 0.5602610 | 0.4743520 | 0.6336764 |\n",
       "| 1519      | 0.5600472 | 0.4741190 | 0.6334860 |\n",
       "| 1526      | 0.5585530 | 0.4724913 | 0.6321547 |\n",
       "| 1552      | 0.5530378 | 0.4664940 | 0.6272342 |\n",
       "| 1554      | 0.5526158 | 0.4660359 | 0.6268573 |\n",
       "| 1630      | 0.5368170 | 0.4489553 | 0.6127016 |\n",
       "| 1674      | 0.5278776 | 0.4393541 | 0.6046528 |\n",
       "| 1680      | 0.5266702 | 0.4380609 | 0.6035635 |\n",
       "| 1681      | 0.5264692 | 0.4378457 | 0.6033821 |\n",
       "| 1688      | 0.5250646 | 0.4363425 | 0.6021141 |\n",
       "| 1692      | 0.5242636 | 0.4354858 | 0.6013907 |\n",
       "| 1706      | 0.5214699 | 0.4325007 | 0.5988656 |\n",
       "| 1707      | 0.5212709 | 0.4322882 | 0.5986856 |\n",
       "| 1731      | 0.5165180 | 0.4272209 | 0.5943829 |\n",
       "| 1735      | 0.5157301 | 0.4263821 | 0.5936688 |\n",
       "| 1741      | 0.5145504 | 0.4251270 | 0.5925992 |\n",
       "| 1742      | 0.5143541 | 0.4249182 | 0.5924212 |\n",
       "| 1750      | 0.5127860 | 0.4232514 | 0.5909985 |\n",
       "| 1755      | 0.5118084 | 0.4222129 | 0.5901111 |\n",
       "| 1756      | 0.5116131 | 0.4220055 | 0.5899338 |\n",
       "| 1804      | 0.5023260 | 0.4121699 | 0.5814846 |\n",
       "| 1826      | 0.4981259 | 0.4077388 | 0.5776526 |\n",
       "| 1834      | 0.4966073 | 0.4061394 | 0.5762654 |\n",
       "| 1846      | 0.4943381 | 0.4037520 | 0.5741909 |\n",
       "| 1869      | 0.4900178 | 0.3992152 | 0.5702355 |\n",
       "| 1875      | 0.4888970 | 0.3980401 | 0.5692082 |\n",
       "| 1892      | 0.4857352 | 0.3947294 | 0.5663074 |\n",
       "| 1896      | 0.4849942 | 0.3939545 | 0.5656271 |\n",
       "\n",
       "\n",
       "\n",
       "\n"
      ],
      "text/plain": [
       " \n",
       "    time       est       lcl       ucl\n",
       "1     35 0.9867309 0.9829512 0.9895363\n",
       "2     47 0.9822221 0.9771731 0.9859740\n",
       "3    144 0.9465246 0.9316963 0.9576456\n",
       "4    183 0.9325403 0.9140140 0.9464866\n",
       "5    189 0.9304073 0.9113236 0.9447814\n",
       "6    233 0.9149136 0.8918344 0.9323701\n",
       "7    252 0.9083031 0.8835480 0.9270613\n",
       "8    272 0.9013964 0.8749087 0.9215056\n",
       "9    275 0.9003649 0.8736201 0.9206752\n",
       "10   307 0.8894356 0.8599925 0.9118633\n",
       "11   340 0.8783038 0.8461618 0.9028643\n",
       "12   343 0.8772987 0.8449155 0.9020507\n",
       "13   351 0.8746242 0.8416011 0.8998845\n",
       "14   361 0.8712925 0.8374764 0.8971840\n",
       "15   362 0.8709600 0.8370650 0.8969144\n",
       "16   364 0.8702955 0.8362429 0.8963755\n",
       "17   370 0.8683048 0.8337815 0.8947606\n",
       "18   375 0.8666495 0.8317357 0.8934170\n",
       "19   377 0.8659882 0.8309189 0.8928802\n",
       "20   383 0.8640074 0.8284731 0.8912716\n",
       "21   391 0.8613734 0.8252232 0.8891312\n",
       "22   395 0.8600594 0.8236030 0.8880630\n",
       "23   462 0.8383457 0.7969333 0.8703598\n",
       "24   499 0.8265904 0.7825772 0.8607351\n",
       "25   513 0.8221856 0.7772129 0.8571211\n",
       "26   530 0.8168684 0.7707484 0.8527531\n",
       "27   536 0.8150000 0.7684797 0.8512168\n",
       "28   559 0.8078772 0.7598447 0.8453531\n",
       "29   573 0.8035720 0.7546362 0.8418038\n",
       "30   604 0.7941208 0.7432298 0.8339974\n",
       "31   633 0.7853799 0.7327154 0.8267602\n",
       "32   671 0.7740718 0.7191627 0.8173719\n",
       "33   683 0.7705348 0.7149352 0.8144294\n",
       "34   685 0.7699468 0.7142330 0.8139400\n",
       "35   686 0.7696530 0.7138822 0.8136954\n",
       "36   705 0.7640921 0.7072492 0.8090623\n",
       "37   709 0.7629265 0.7058607 0.8080902\n",
       "38   711 0.7623444 0.7051674 0.8076047\n",
       "39   714 0.7614720 0.7041289 0.8068768\n",
       "40   717 0.7606007 0.7030918 0.8061497\n",
       "41   726 0.7579926 0.6999897 0.8039721\n",
       "42   727 0.7577033 0.6996459 0.8037305\n",
       "43   731 0.7565475 0.6982723 0.8027649\n",
       "44   733 0.7559702 0.6975865 0.8022825\n",
       "45   734 0.7556818 0.6972438 0.8020414\n",
       "46   735 0.7553934 0.6969014 0.8018004\n",
       "47   737 0.7548170 0.6962169 0.8013186\n",
       "48   739 0.7542411 0.6955331 0.8008371\n",
       "49   742 0.7533780 0.6945087 0.8001154\n",
       "50   750 0.7510813 0.6917844 0.7981940\n",
       "51   755 0.7496494 0.6900870 0.7969955\n",
       "52   761 0.7479347 0.6880558 0.7955596\n",
       "53   763 0.7473640 0.6873800 0.7950815\n",
       "54   768 0.7459392 0.6856935 0.7938877\n",
       "55   776 0.7436651 0.6830037 0.7919812\n",
       "56   783 0.7416810 0.6806588 0.7903168\n",
       "57   791 0.7394199 0.6779887 0.7884189\n",
       "58   800 0.7368845 0.6749974 0.7862893\n",
       "59   803 0.7360412 0.6740033 0.7855807\n",
       "60   810 0.7340775 0.6716892 0.7839297\n",
       "61   812 0.7335173 0.6710296 0.7834587\n",
       "62   816 0.7323984 0.6697121 0.7825174\n",
       "63   825 0.7298870 0.6667573 0.7804037\n",
       "64   826 0.7296085 0.6664298 0.7801692\n",
       "65   833 0.7276619 0.6641418 0.7785296\n",
       "66   834 0.7273842 0.6638156 0.7782956\n",
       "67   868 0.7180065 0.6528190 0.7703833\n",
       "68   874 0.7163642 0.6508974 0.7689954\n",
       "69   876 0.7158176 0.6502582 0.7685333\n",
       "70   888 0.7125467 0.6464357 0.7657666\n",
       "71   905 0.7079386 0.6410590 0.7618641\n",
       "72   937 0.6993451 0.6310592 0.7545723\n",
       "73   946 0.6969471 0.6282750 0.7525340\n",
       "74   971 0.6903288 0.6206052 0.7469011\n",
       "75   973 0.6898021 0.6199957 0.7464523\n",
       "76   992 0.6848181 0.6142351 0.7422020\n",
       "77  1033 0.6741856 0.6019860 0.7331126\n",
       "78  1034 0.6739283 0.6016903 0.7328924\n",
       "79  1056 0.6682935 0.5952218 0.7280626\n",
       "80  1058 0.6677835 0.5946372 0.7276251\n",
       "81  1064 0.6662561 0.5928868 0.7263142\n",
       "82  1078 0.6627057 0.5888228 0.7232646\n",
       "83  1084 0.6611899 0.5870896 0.7219616\n",
       "84  1086 0.6606854 0.5865130 0.7215278\n",
       "85  1087 0.6604333 0.5862249 0.7213109\n",
       "86  1088 0.6601812 0.5859369 0.7210942\n",
       "87  1092 0.6591742 0.5847866 0.7202278\n",
       "88  1098 0.6576664 0.5830652 0.7189303\n",
       "89  1099 0.6574155 0.5827789 0.7187143\n",
       "90  1107 0.6554113 0.5804928 0.7169883\n",
       "91  1108 0.6551612 0.5802076 0.7167729\n",
       "92  1127 0.6504275 0.5748167 0.7126916\n",
       "93  1134 0.6486922 0.5728432 0.7111938\n",
       "94  1148 0.6452353 0.5689165 0.7082078\n",
       "95  1153 0.6440052 0.5675207 0.7071443\n",
       "96  1176 0.6383768 0.5611437 0.7022731\n",
       "97  1199 0.6327976 0.5548384 0.6974355\n",
       "98  1205 0.6313502 0.5532053 0.6961790\n",
       "99  1217 0.6284653 0.5499533 0.6936728\n",
       "100 1233 0.6246393 0.5456471 0.6903452\n",
       "101 1241 0.6227351 0.5435067 0.6886874\n",
       "102 1246 0.6215478 0.5421732 0.6876533\n",
       "103 1258 0.6187077 0.5389861 0.6851777\n",
       "104 1282 0.6130664 0.5326680 0.6802534\n",
       "105 1288 0.6116642 0.5311001 0.6790279\n",
       "106 1293 0.6104980 0.5297971 0.6780082\n",
       "107 1310 0.6065499 0.5253905 0.6745530\n",
       "108 1323 0.6035479 0.5220455 0.6719227\n",
       "109 1336 0.6005608 0.5187218 0.6693026\n",
       "110 1355 0.5962216 0.5139022 0.6654916\n",
       "111 1358 0.5955394 0.5131453 0.6648919\n",
       "112 1367 0.5934973 0.5108813 0.6630959\n",
       "113 1372 0.5923658 0.5096278 0.6621002\n",
       "114 1414 0.5829462 0.4992194 0.6537953\n",
       "115 1416 0.5825014 0.4987291 0.6534025\n",
       "116 1443 0.5765297 0.4921570 0.6481219\n",
       "117 1446 0.5758699 0.4914322 0.6475378\n",
       "118 1449 0.5752110 0.4907084 0.6469542\n",
       "119 1453 0.5743335 0.4897450 0.6461769\n",
       "120 1456 0.5736763 0.4890236 0.6455946\n",
       "121 1463 0.5721457 0.4873447 0.6442378\n",
       "122 1468 0.5710549 0.4861490 0.6432705\n",
       "123 1470 0.5706192 0.4856715 0.6428839\n",
       "124 1471 0.5704015 0.4854330 0.6426908\n",
       "125 1478 0.5688796 0.4837664 0.6413401\n",
       "126 1483 0.5677951 0.4825794 0.6403771\n",
       "127 1486 0.5671454 0.4818687 0.6398000\n",
       "128 1487 0.5669289 0.4816320 0.6396077\n",
       "129 1508 0.5624033 0.4766883 0.6355837\n",
       "130 1511 0.5617597 0.4759862 0.6350109\n",
       "131 1518 0.5602610 0.4743520 0.6336764\n",
       "132 1519 0.5600472 0.4741190 0.6334860\n",
       "133 1526 0.5585530 0.4724913 0.6321547\n",
       "134 1552 0.5530378 0.4664940 0.6272342\n",
       "135 1554 0.5526158 0.4660359 0.6268573\n",
       "136 1630 0.5368170 0.4489553 0.6127016\n",
       "137 1674 0.5278776 0.4393541 0.6046528\n",
       "138 1680 0.5266702 0.4380609 0.6035635\n",
       "139 1681 0.5264692 0.4378457 0.6033821\n",
       "140 1688 0.5250646 0.4363425 0.6021141\n",
       "141 1692 0.5242636 0.4354858 0.6013907\n",
       "142 1706 0.5214699 0.4325007 0.5988656\n",
       "143 1707 0.5212709 0.4322882 0.5986856\n",
       "144 1731 0.5165180 0.4272209 0.5943829\n",
       "145 1735 0.5157301 0.4263821 0.5936688\n",
       "146 1741 0.5145504 0.4251270 0.5925992\n",
       "147 1742 0.5143541 0.4249182 0.5924212\n",
       "148 1750 0.5127860 0.4232514 0.5909985\n",
       "149 1755 0.5118084 0.4222129 0.5901111\n",
       "150 1756 0.5116131 0.4220055 0.5899338\n",
       "151 1804 0.5023260 0.4121699 0.5814846\n",
       "152 1826 0.4981259 0.4077388 0.5776526\n",
       "153 1834 0.4966073 0.4061394 0.5762654\n",
       "154 1846 0.4943381 0.4037520 0.5741909\n",
       "155 1869 0.4900178 0.3992152 0.5702355\n",
       "156 1875 0.4888970 0.3980401 0.5692082\n",
       "157 1892 0.4857352 0.3947294 0.5663074\n",
       "158 1896 0.4849942 0.3939545 0.5656271"
      ]
     },
     "metadata": {},
     "output_type": "display_data"
    }
   ],
   "source": [
    "summary(exponencial_comparativo)"
   ]
  },
  {
   "cell_type": "markdown",
   "id": "unnecessary-philip",
   "metadata": {},
   "source": [
    "**Parámetros.**"
   ]
  },
  {
   "cell_type": "code",
   "execution_count": 85,
   "id": "thermal-crest",
   "metadata": {},
   "outputs": [
    {
     "data": {
      "text/plain": [
       "Call:\n",
       "flexsurv::flexsurvreg(formula = Obj_surv ~ udca1$trt + udca1$riskscore, \n",
       "    dist = \"exp\")\n",
       "\n",
       "Estimates: \n",
       "                 data mean  est        L95%       U95%       se       \n",
       "rate                    NA   8.75e-05   2.91e-05   2.63e-04   4.91e-05\n",
       "udca1$trt         5.03e-01  -8.68e-01  -1.35e+00  -3.89e-01   2.44e-01\n",
       "udca1$riskscore   5.13e+00   3.72e-01   1.75e-01   5.70e-01   1.01e-01\n",
       "                 exp(est)   L95%       U95%     \n",
       "rate                    NA         NA         NA\n",
       "udca1$trt         4.20e-01   2.60e-01   6.78e-01\n",
       "udca1$riskscore   1.45e+00   1.19e+00   1.77e+00\n",
       "\n",
       "N = 169,  Events: 72,  Censored: 97\n",
       "Total time at risk: 175993\n",
       "Log-likelihood = -621.7955, df = 3\n",
       "AIC = 1249.591\n"
      ]
     },
     "metadata": {},
     "output_type": "display_data"
    }
   ],
   "source": [
    "exponencial_comparativo"
   ]
  },
  {
   "cell_type": "code",
   "execution_count": null,
   "id": "grave-violin",
   "metadata": {},
   "outputs": [],
   "source": [
    "#estimacion: est, L95% y U95% limites de la estimación"
   ]
  },
  {
   "cell_type": "code",
   "execution_count": 86,
   "id": "lonely-thanksgiving",
   "metadata": {},
   "outputs": [],
   "source": [
    "weibull_comparativo<-flexsurv::flexsurvreg(Obj_surv~udca1$trt+udca1$riskscore, dist=\"weibull\")"
   ]
  },
  {
   "cell_type": "code",
   "execution_count": 87,
   "id": "becoming-amateur",
   "metadata": {},
   "outputs": [
    {
     "data": {
      "image/png": "[encoded data removed]",
      "text/plain": [
       "plot without title"
      ]
     },
     "metadata": {},
     "output_type": "display_data"
    }
   ],
   "source": [
    "plot(weibull_comparativo)"
   ]
  },
  {
   "cell_type": "code",
   "execution_count": 88,
   "id": "linear-football",
   "metadata": {},
   "outputs": [
    {
     "data": {
      "text/html": [
       "<ol>\n",
       "\t<li><table>\n",
       "<thead><tr><th scope=col>time</th><th scope=col>est</th><th scope=col>lcl</th><th scope=col>ucl</th></tr></thead>\n",
       "<tbody>\n",
       "\t<tr><td> 35      </td><td>0.9988030</td><td>0.9961803</td><td>0.9996970</td></tr>\n",
       "\t<tr><td> 47      </td><td>0.9980369</td><td>0.9942743</td><td>0.9994465</td></tr>\n",
       "\t<tr><td>144      </td><td>0.9871990</td><td>0.9737692</td><td>0.9945295</td></tr>\n",
       "\t<tr><td>183      </td><td>0.9809158</td><td>0.9634880</td><td>0.9910721</td></tr>\n",
       "\t<tr><td>189      </td><td>0.9798640</td><td>0.9617484</td><td>0.9904619</td></tr>\n",
       "\t<tr><td>233      </td><td>0.9715046</td><td>0.9494026</td><td>0.9853349</td></tr>\n",
       "\t<tr><td>252      </td><td>0.9675606</td><td>0.9440081</td><td>0.9828235</td></tr>\n",
       "\t<tr><td>272      </td><td>0.9632037</td><td>0.9379839</td><td>0.9800059</td></tr>\n",
       "\t<tr><td>275      </td><td>0.9625325</td><td>0.9370367</td><td>0.9795657</td></tr>\n",
       "\t<tr><td>307      </td><td>0.9550974</td><td>0.9267212</td><td>0.9745820</td></tr>\n",
       "\t<tr><td>340      </td><td>0.9469250</td><td>0.9154492</td><td>0.9688838</td></tr>\n",
       "\t<tr><td>343      </td><td>0.9461577</td><td>0.9144084</td><td>0.9683294</td></tr>\n",
       "\t<tr><td>351      </td><td>0.9440925</td><td>0.9116110</td><td>0.9668364</td></tr>\n",
       "\t<tr><td>361      </td><td>0.9414722</td><td>0.9080786</td><td>0.9649838</td></tr>\n",
       "\t<tr><td>362      </td><td>0.9412078</td><td>0.9077236</td><td>0.9647960</td></tr>\n",
       "\t<tr><td>364      </td><td>0.9406778</td><td>0.9070127</td><td>0.9644189</td></tr>\n",
       "\t<tr><td>370      </td><td>0.9390777</td><td>0.9048724</td><td>0.9632603</td></tr>\n",
       "\t<tr><td>375      </td><td>0.9377329</td><td>0.9030858</td><td>0.9622779</td></tr>\n",
       "\t<tr><td>377      </td><td>0.9371921</td><td>0.9023705</td><td>0.9618816</td></tr>\n",
       "\t<tr><td>383      </td><td>0.9355598</td><td>0.9001771</td><td>0.9606795</td></tr>\n",
       "\t<tr><td>391      </td><td>0.9333607</td><td>0.8973240</td><td>0.9590501</td></tr>\n",
       "\t<tr><td>395      </td><td>0.9322516</td><td>0.8959468</td><td>0.9582252</td></tr>\n",
       "\t<tr><td>462      </td><td>0.9127722</td><td>0.8729060</td><td>0.9437026</td></tr>\n",
       "\t<tr><td>499      </td><td>0.9013369</td><td>0.8591543</td><td>0.9348524</td></tr>\n",
       "\t<tr><td>513      </td><td>0.8968942</td><td>0.8534158</td><td>0.9313027</td></tr>\n",
       "\t<tr><td>530      </td><td>0.8914182</td><td>0.8467779</td><td>0.9269314</td></tr>\n",
       "\t<tr><td>536      </td><td>0.8894648</td><td>0.8444931</td><td>0.9253996</td></tr>\n",
       "\t<tr><td>559      </td><td>0.8818799</td><td>0.8356979</td><td>0.9192263</td></tr>\n",
       "\t<tr><td>573      </td><td>0.8771901</td><td>0.8303130</td><td>0.9156562</td></tr>\n",
       "\t<tr><td>604      </td><td>0.8666199</td><td>0.8182894</td><td>0.9071707</td></tr>\n",
       "\t<tr><td>...</td><td>...</td><td>...</td><td>...</td></tr>\n",
       "\t<tr><td>1508     </td><td>0.5139980</td><td>0.4144930</td><td>0.5927582</td></tr>\n",
       "\t<tr><td>1511     </td><td>0.5128556</td><td>0.4131537</td><td>0.5917891</td></tr>\n",
       "\t<tr><td>1518     </td><td>0.5101938</td><td>0.4100370</td><td>0.5895299</td></tr>\n",
       "\t<tr><td>1519     </td><td>0.5098140</td><td>0.4095838</td><td>0.5892074</td></tr>\n",
       "\t<tr><td>1526     </td><td>0.5071585</td><td>0.4063815</td><td>0.5869513</td></tr>\n",
       "\t<tr><td>1552     </td><td>0.4973449</td><td>0.3959868</td><td>0.5785967</td></tr>\n",
       "\t<tr><td>1554     </td><td>0.4965933</td><td>0.3952021</td><td>0.5779974</td></tr>\n",
       "\t<tr><td>1630     </td><td>0.4684018</td><td>0.3616715</td><td>0.5534116</td></tr>\n",
       "\t<tr><td>1674     </td><td>0.4524278</td><td>0.3435536</td><td>0.5390856</td></tr>\n",
       "\t<tr><td>1680     </td><td>0.4502703</td><td>0.3411310</td><td>0.5371007</td></tr>\n",
       "\t<tr><td>1681     </td><td>0.4499112</td><td>0.3407282</td><td>0.5367701</td></tr>\n",
       "\t<tr><td>1688     </td><td>0.4474016</td><td>0.3379679</td><td>0.5344581</td></tr>\n",
       "\t<tr><td>1692     </td><td>0.4459706</td><td>0.3365412</td><td>0.5331386</td></tr>\n",
       "\t<tr><td>1706     </td><td>0.4409803</td><td>0.3312982</td><td>0.5285299</td></tr>\n",
       "\t<tr><td>1707     </td><td>0.4406249</td><td>0.3308633</td><td>0.5282012</td></tr>\n",
       "\t<tr><td>1731     </td><td>0.4321398</td><td>0.3217370</td><td>0.5203351</td></tr>\n",
       "\t<tr><td>1735     </td><td>0.4307339</td><td>0.3204091</td><td>0.5190277</td></tr>\n",
       "\t<tr><td>1741     </td><td>0.4286295</td><td>0.3184242</td><td>0.5170690</td></tr>\n",
       "\t<tr><td>1742     </td><td>0.4282793</td><td>0.3180943</td><td>0.5167428</td></tr>\n",
       "\t<tr><td>1750     </td><td>0.4254830</td><td>0.3154230</td><td>0.5141365</td></tr>\n",
       "\t<tr><td>1755     </td><td>0.4237402</td><td>0.3134803</td><td>0.5125102</td></tr>\n",
       "\t<tr><td>1756     </td><td>0.4233921</td><td>0.3130926</td><td>0.5121852</td></tr>\n",
       "\t<tr><td>1804     </td><td>0.4068632</td><td>0.2948240</td><td>0.4977516</td></tr>\n",
       "\t<tr><td>1826     </td><td>0.3994076</td><td>0.2857500</td><td>0.4913615</td></tr>\n",
       "\t<tr><td>1834     </td><td>0.3967155</td><td>0.2828603</td><td>0.4891905</td></tr>\n",
       "\t<tr><td>1846     </td><td>0.3926965</td><td>0.2787249</td><td>0.4858237</td></tr>\n",
       "\t<tr><td>1869     </td><td>0.3850584</td><td>0.2698182</td><td>0.4797839</td></tr>\n",
       "\t<tr><td>1875     </td><td>0.3830801</td><td>0.2677180</td><td>0.4781851</td></tr>\n",
       "\t<tr><td>1892     </td><td>0.3775067</td><td>0.2618255</td><td>0.4736683</td></tr>\n",
       "\t<tr><td>1896     </td><td>0.3762022</td><td>0.2604514</td><td>0.4726062</td></tr>\n",
       "</tbody>\n",
       "</table>\n",
       "</li>\n",
       "</ol>\n"
      ],
      "text/latex": [
       "\\begin{enumerate}\n",
       "\\item \\begin{tabular}{r|llll}\n",
       " time & est & lcl & ucl\\\\\n",
       "\\hline\n",
       "\t  35       & 0.9988030 & 0.9961803 & 0.9996970\\\\\n",
       "\t  47       & 0.9980369 & 0.9942743 & 0.9994465\\\\\n",
       "\t 144       & 0.9871990 & 0.9737692 & 0.9945295\\\\\n",
       "\t 183       & 0.9809158 & 0.9634880 & 0.9910721\\\\\n",
       "\t 189       & 0.9798640 & 0.9617484 & 0.9904619\\\\\n",
       "\t 233       & 0.9715046 & 0.9494026 & 0.9853349\\\\\n",
       "\t 252       & 0.9675606 & 0.9440081 & 0.9828235\\\\\n",
       "\t 272       & 0.9632037 & 0.9379839 & 0.9800059\\\\\n",
       "\t 275       & 0.9625325 & 0.9370367 & 0.9795657\\\\\n",
       "\t 307       & 0.9550974 & 0.9267212 & 0.9745820\\\\\n",
       "\t 340       & 0.9469250 & 0.9154492 & 0.9688838\\\\\n",
       "\t 343       & 0.9461577 & 0.9144084 & 0.9683294\\\\\n",
       "\t 351       & 0.9440925 & 0.9116110 & 0.9668364\\\\\n",
       "\t 361       & 0.9414722 & 0.9080786 & 0.9649838\\\\\n",
       "\t 362       & 0.9412078 & 0.9077236 & 0.9647960\\\\\n",
       "\t 364       & 0.9406778 & 0.9070127 & 0.9644189\\\\\n",
       "\t 370       & 0.9390777 & 0.9048724 & 0.9632603\\\\\n",
       "\t 375       & 0.9377329 & 0.9030858 & 0.9622779\\\\\n",
       "\t 377       & 0.9371921 & 0.9023705 & 0.9618816\\\\\n",
       "\t 383       & 0.9355598 & 0.9001771 & 0.9606795\\\\\n",
       "\t 391       & 0.9333607 & 0.8973240 & 0.9590501\\\\\n",
       "\t 395       & 0.9322516 & 0.8959468 & 0.9582252\\\\\n",
       "\t 462       & 0.9127722 & 0.8729060 & 0.9437026\\\\\n",
       "\t 499       & 0.9013369 & 0.8591543 & 0.9348524\\\\\n",
       "\t 513       & 0.8968942 & 0.8534158 & 0.9313027\\\\\n",
       "\t 530       & 0.8914182 & 0.8467779 & 0.9269314\\\\\n",
       "\t 536       & 0.8894648 & 0.8444931 & 0.9253996\\\\\n",
       "\t 559       & 0.8818799 & 0.8356979 & 0.9192263\\\\\n",
       "\t 573       & 0.8771901 & 0.8303130 & 0.9156562\\\\\n",
       "\t 604       & 0.8666199 & 0.8182894 & 0.9071707\\\\\n",
       "\t ... & ... & ... & ...\\\\\n",
       "\t 1508      & 0.5139980 & 0.4144930 & 0.5927582\\\\\n",
       "\t 1511      & 0.5128556 & 0.4131537 & 0.5917891\\\\\n",
       "\t 1518      & 0.5101938 & 0.4100370 & 0.5895299\\\\\n",
       "\t 1519      & 0.5098140 & 0.4095838 & 0.5892074\\\\\n",
       "\t 1526      & 0.5071585 & 0.4063815 & 0.5869513\\\\\n",
       "\t 1552      & 0.4973449 & 0.3959868 & 0.5785967\\\\\n",
       "\t 1554      & 0.4965933 & 0.3952021 & 0.5779974\\\\\n",
       "\t 1630      & 0.4684018 & 0.3616715 & 0.5534116\\\\\n",
       "\t 1674      & 0.4524278 & 0.3435536 & 0.5390856\\\\\n",
       "\t 1680      & 0.4502703 & 0.3411310 & 0.5371007\\\\\n",
       "\t 1681      & 0.4499112 & 0.3407282 & 0.5367701\\\\\n",
       "\t 1688      & 0.4474016 & 0.3379679 & 0.5344581\\\\\n",
       "\t 1692      & 0.4459706 & 0.3365412 & 0.5331386\\\\\n",
       "\t 1706      & 0.4409803 & 0.3312982 & 0.5285299\\\\\n",
       "\t 1707      & 0.4406249 & 0.3308633 & 0.5282012\\\\\n",
       "\t 1731      & 0.4321398 & 0.3217370 & 0.5203351\\\\\n",
       "\t 1735      & 0.4307339 & 0.3204091 & 0.5190277\\\\\n",
       "\t 1741      & 0.4286295 & 0.3184242 & 0.5170690\\\\\n",
       "\t 1742      & 0.4282793 & 0.3180943 & 0.5167428\\\\\n",
       "\t 1750      & 0.4254830 & 0.3154230 & 0.5141365\\\\\n",
       "\t 1755      & 0.4237402 & 0.3134803 & 0.5125102\\\\\n",
       "\t 1756      & 0.4233921 & 0.3130926 & 0.5121852\\\\\n",
       "\t 1804      & 0.4068632 & 0.2948240 & 0.4977516\\\\\n",
       "\t 1826      & 0.3994076 & 0.2857500 & 0.4913615\\\\\n",
       "\t 1834      & 0.3967155 & 0.2828603 & 0.4891905\\\\\n",
       "\t 1846      & 0.3926965 & 0.2787249 & 0.4858237\\\\\n",
       "\t 1869      & 0.3850584 & 0.2698182 & 0.4797839\\\\\n",
       "\t 1875      & 0.3830801 & 0.2677180 & 0.4781851\\\\\n",
       "\t 1892      & 0.3775067 & 0.2618255 & 0.4736683\\\\\n",
       "\t 1896      & 0.3762022 & 0.2604514 & 0.4726062\\\\\n",
       "\\end{tabular}\n",
       "\n",
       "\\end{enumerate}\n"
      ],
      "text/markdown": [
       "1. \n",
       "| time | est | lcl | ucl |\n",
       "|---|---|---|---|\n",
       "|  35       | 0.9988030 | 0.9961803 | 0.9996970 |\n",
       "|  47       | 0.9980369 | 0.9942743 | 0.9994465 |\n",
       "| 144       | 0.9871990 | 0.9737692 | 0.9945295 |\n",
       "| 183       | 0.9809158 | 0.9634880 | 0.9910721 |\n",
       "| 189       | 0.9798640 | 0.9617484 | 0.9904619 |\n",
       "| 233       | 0.9715046 | 0.9494026 | 0.9853349 |\n",
       "| 252       | 0.9675606 | 0.9440081 | 0.9828235 |\n",
       "| 272       | 0.9632037 | 0.9379839 | 0.9800059 |\n",
       "| 275       | 0.9625325 | 0.9370367 | 0.9795657 |\n",
       "| 307       | 0.9550974 | 0.9267212 | 0.9745820 |\n",
       "| 340       | 0.9469250 | 0.9154492 | 0.9688838 |\n",
       "| 343       | 0.9461577 | 0.9144084 | 0.9683294 |\n",
       "| 351       | 0.9440925 | 0.9116110 | 0.9668364 |\n",
       "| 361       | 0.9414722 | 0.9080786 | 0.9649838 |\n",
       "| 362       | 0.9412078 | 0.9077236 | 0.9647960 |\n",
       "| 364       | 0.9406778 | 0.9070127 | 0.9644189 |\n",
       "| 370       | 0.9390777 | 0.9048724 | 0.9632603 |\n",
       "| 375       | 0.9377329 | 0.9030858 | 0.9622779 |\n",
       "| 377       | 0.9371921 | 0.9023705 | 0.9618816 |\n",
       "| 383       | 0.9355598 | 0.9001771 | 0.9606795 |\n",
       "| 391       | 0.9333607 | 0.8973240 | 0.9590501 |\n",
       "| 395       | 0.9322516 | 0.8959468 | 0.9582252 |\n",
       "| 462       | 0.9127722 | 0.8729060 | 0.9437026 |\n",
       "| 499       | 0.9013369 | 0.8591543 | 0.9348524 |\n",
       "| 513       | 0.8968942 | 0.8534158 | 0.9313027 |\n",
       "| 530       | 0.8914182 | 0.8467779 | 0.9269314 |\n",
       "| 536       | 0.8894648 | 0.8444931 | 0.9253996 |\n",
       "| 559       | 0.8818799 | 0.8356979 | 0.9192263 |\n",
       "| 573       | 0.8771901 | 0.8303130 | 0.9156562 |\n",
       "| 604       | 0.8666199 | 0.8182894 | 0.9071707 |\n",
       "| ... | ... | ... | ... |\n",
       "| 1508      | 0.5139980 | 0.4144930 | 0.5927582 |\n",
       "| 1511      | 0.5128556 | 0.4131537 | 0.5917891 |\n",
       "| 1518      | 0.5101938 | 0.4100370 | 0.5895299 |\n",
       "| 1519      | 0.5098140 | 0.4095838 | 0.5892074 |\n",
       "| 1526      | 0.5071585 | 0.4063815 | 0.5869513 |\n",
       "| 1552      | 0.4973449 | 0.3959868 | 0.5785967 |\n",
       "| 1554      | 0.4965933 | 0.3952021 | 0.5779974 |\n",
       "| 1630      | 0.4684018 | 0.3616715 | 0.5534116 |\n",
       "| 1674      | 0.4524278 | 0.3435536 | 0.5390856 |\n",
       "| 1680      | 0.4502703 | 0.3411310 | 0.5371007 |\n",
       "| 1681      | 0.4499112 | 0.3407282 | 0.5367701 |\n",
       "| 1688      | 0.4474016 | 0.3379679 | 0.5344581 |\n",
       "| 1692      | 0.4459706 | 0.3365412 | 0.5331386 |\n",
       "| 1706      | 0.4409803 | 0.3312982 | 0.5285299 |\n",
       "| 1707      | 0.4406249 | 0.3308633 | 0.5282012 |\n",
       "| 1731      | 0.4321398 | 0.3217370 | 0.5203351 |\n",
       "| 1735      | 0.4307339 | 0.3204091 | 0.5190277 |\n",
       "| 1741      | 0.4286295 | 0.3184242 | 0.5170690 |\n",
       "| 1742      | 0.4282793 | 0.3180943 | 0.5167428 |\n",
       "| 1750      | 0.4254830 | 0.3154230 | 0.5141365 |\n",
       "| 1755      | 0.4237402 | 0.3134803 | 0.5125102 |\n",
       "| 1756      | 0.4233921 | 0.3130926 | 0.5121852 |\n",
       "| 1804      | 0.4068632 | 0.2948240 | 0.4977516 |\n",
       "| 1826      | 0.3994076 | 0.2857500 | 0.4913615 |\n",
       "| 1834      | 0.3967155 | 0.2828603 | 0.4891905 |\n",
       "| 1846      | 0.3926965 | 0.2787249 | 0.4858237 |\n",
       "| 1869      | 0.3850584 | 0.2698182 | 0.4797839 |\n",
       "| 1875      | 0.3830801 | 0.2677180 | 0.4781851 |\n",
       "| 1892      | 0.3775067 | 0.2618255 | 0.4736683 |\n",
       "| 1896      | 0.3762022 | 0.2604514 | 0.4726062 |\n",
       "\n",
       "\n",
       "\n",
       "\n"
      ],
      "text/plain": [
       " \n",
       "    time       est       lcl       ucl\n",
       "1     35 0.9988030 0.9961803 0.9996970\n",
       "2     47 0.9980369 0.9942743 0.9994465\n",
       "3    144 0.9871990 0.9737692 0.9945295\n",
       "4    183 0.9809158 0.9634880 0.9910721\n",
       "5    189 0.9798640 0.9617484 0.9904619\n",
       "6    233 0.9715046 0.9494026 0.9853349\n",
       "7    252 0.9675606 0.9440081 0.9828235\n",
       "8    272 0.9632037 0.9379839 0.9800059\n",
       "9    275 0.9625325 0.9370367 0.9795657\n",
       "10   307 0.9550974 0.9267212 0.9745820\n",
       "11   340 0.9469250 0.9154492 0.9688838\n",
       "12   343 0.9461577 0.9144084 0.9683294\n",
       "13   351 0.9440925 0.9116110 0.9668364\n",
       "14   361 0.9414722 0.9080786 0.9649838\n",
       "15   362 0.9412078 0.9077236 0.9647960\n",
       "16   364 0.9406778 0.9070127 0.9644189\n",
       "17   370 0.9390777 0.9048724 0.9632603\n",
       "18   375 0.9377329 0.9030858 0.9622779\n",
       "19   377 0.9371921 0.9023705 0.9618816\n",
       "20   383 0.9355598 0.9001771 0.9606795\n",
       "21   391 0.9333607 0.8973240 0.9590501\n",
       "22   395 0.9322516 0.8959468 0.9582252\n",
       "23   462 0.9127722 0.8729060 0.9437026\n",
       "24   499 0.9013369 0.8591543 0.9348524\n",
       "25   513 0.8968942 0.8534158 0.9313027\n",
       "26   530 0.8914182 0.8467779 0.9269314\n",
       "27   536 0.8894648 0.8444931 0.9253996\n",
       "28   559 0.8818799 0.8356979 0.9192263\n",
       "29   573 0.8771901 0.8303130 0.9156562\n",
       "30   604 0.8666199 0.8182894 0.9071707\n",
       "31   633 0.8565130 0.8066477 0.8990945\n",
       "32   671 0.8429748 0.7889886 0.8877218\n",
       "33   683 0.8386348 0.7833373 0.8843807\n",
       "34   685 0.8379086 0.7824344 0.8838438\n",
       "35   686 0.8375452 0.7819828 0.8835692\n",
       "36   705 0.8306026 0.7739702 0.8778985\n",
       "37   709 0.8291321 0.7723287 0.8766938\n",
       "38   711 0.8283957 0.7715076 0.8760888\n",
       "39   714 0.8272897 0.7702757 0.8751794\n",
       "40   717 0.8261820 0.7690433 0.8742677\n",
       "41   726 0.8228489 0.7653291 0.8715186\n",
       "42   727 0.8224777 0.7649159 0.8712118\n",
       "43   731 0.8209909 0.7632705 0.8699824\n",
       "44   733 0.8202465 0.7624503 0.8693661\n",
       "45   734 0.8198740 0.7620402 0.8690576\n",
       "46   735 0.8195013 0.7616300 0.8687489\n",
       "47   737 0.8187555 0.7608095 0.8681306\n",
       "48   739 0.8180089 0.7600880 0.8675113\n",
       "49   742 0.8168878 0.7590649 0.8665806\n",
       "50   750 0.8138907 0.7556789 0.8640877\n",
       "51   755 0.8120120 0.7533834 0.8625218\n",
       "52   761 0.8097522 0.7509460 0.8606346\n",
       "53   763 0.8089976 0.7501951 0.8600036\n",
       "54   768 0.8071084 0.7483183 0.8584220\n",
       "55   776 0.8040776 0.7452996 0.8558750\n",
       "56   783 0.8014175 0.7420341 0.8534499\n",
       "57   791 0.7983685 0.7383286 0.8505251\n",
       "58   800 0.7949272 0.7338953 0.8472076\n",
       "59   803 0.7937775 0.7324022 0.8460923\n",
       "60   810 0.7910902 0.7290150 0.8438898\n",
       "61   812 0.7903211 0.7282548 0.8432723\n",
       "62   816 0.7887814 0.7266072 0.8420355\n",
       "63   825 0.7853094 0.7226769 0.8387870\n",
       "64   826 0.7849230 0.7223273 0.8384084\n",
       "65   833 0.7822144 0.7197826 0.8357483\n",
       "66   834 0.7818270 0.7193185 0.8353670\n",
       "67   868 0.7685838 0.7033970 0.8233863\n",
       "68   874 0.7662334 0.7005823 0.8213916\n",
       "69   876 0.7654491 0.6996438 0.8207254\n",
       "70   888 0.7607347 0.6940349 0.8167139\n",
       "71   905 0.7540321 0.6867383 0.8109798\n",
       "72   937 0.7413469 0.6714000 0.8000517\n",
       "73   946 0.7377647 0.6674817 0.7971758\n",
       "74   971 0.7277850 0.6563759 0.7888143\n",
       "75   973 0.7269849 0.6554326 0.7880849\n",
       "76   992 0.7193727 0.6468004 0.7815491\n",
       "77  1033 0.7028874 0.6280614 0.7664412\n",
       "78  1034 0.7024845 0.6276022 0.7660849\n",
       "79  1056 0.6936126 0.6175644 0.7582176\n",
       "80  1058 0.6928054 0.6166549 0.7574998\n",
       "81  1064 0.6903833 0.6139283 0.7553441\n",
       "82  1078 0.6847287 0.6075539 0.7503000\n",
       "83  1084 0.6823043 0.6045925 0.7479754\n",
       "84  1086 0.6814961 0.6035912 0.7471271\n",
       "85  1087 0.6810919 0.6031069 0.7467027\n",
       "86  1088 0.6806877 0.6026094 0.7462781\n",
       "87  1092 0.6790710 0.6006198 0.7445777\n",
       "88  1098 0.6766455 0.5976586 0.7420208\n",
       "89  1099 0.6762412 0.5972516 0.7415936\n",
       "90  1107 0.6730068 0.5939997 0.7381691\n",
       "91  1108 0.6726024 0.5935937 0.7377402\n",
       "92  1127 0.6649195 0.5840191 0.7299948\n",
       "93  1134 0.6620890 0.5799476 0.7272813\n",
       "94  1148 0.6564288 0.5732114 0.7218394\n",
       "95  1153 0.6544077 0.5707484 0.7198913\n",
       "96  1176 0.6451151 0.5606689 0.7112876\n",
       "97  1199 0.6358328 0.5504007 0.7023847\n",
       "98  1205 0.6334135 0.5473547 0.7004531\n",
       "99  1217 0.6285782 0.5420464 0.6965899\n",
       "100 1233 0.6221387 0.5352278 0.6908462\n",
       "101 1241 0.6189225 0.5318256 0.6877218\n",
       "102 1246 0.6169137 0.5297072 0.6860688\n",
       "103 1258 0.6120970 0.5246378 0.6817348\n",
       "104 1282 0.6024841 0.5138484 0.6728548\n",
       "105 1288 0.6000855 0.5107712 0.6707709\n",
       "106 1293 0.5980882 0.5082109 0.6690343\n",
       "107 1310 0.5913083 0.5008613 0.6626463\n",
       "108 1323 0.5861355 0.4947959 0.6580224\n",
       "109 1336 0.5809739 0.4890691 0.6533355\n",
       "110 1355 0.5734510 0.4805312 0.6458291\n",
       "111 1358 0.5722656 0.4792315 0.6448325\n",
       "112 1367 0.5687135 0.4753480 0.6418440\n",
       "113 1372 0.5667427 0.4730842 0.6401847\n",
       "114 1414 0.5502695 0.4550467 0.6253969\n",
       "115 1416 0.5494889 0.4542313 0.6245383\n",
       "116 1443 0.5389860 0.4431346 0.6145379\n",
       "117 1446 0.5378233 0.4418883 0.6136507\n",
       "118 1449 0.5366614 0.4406437 0.6127641\n",
       "119 1453 0.5351137 0.4389872 0.6113086\n",
       "120 1456 0.5339539 0.4377469 0.6101916\n",
       "121 1463 0.5312512 0.4348258 0.6076334\n",
       "122 1468 0.5293237 0.4325444 0.6060878\n",
       "123 1470 0.5285534 0.4316334 0.6054699\n",
       "124 1471 0.5281684 0.4311782 0.6051611\n",
       "125 1478 0.5254764 0.4279981 0.6030005\n",
       "126 1483 0.5235567 0.4257331 0.6014306\n",
       "127 1486 0.5224061 0.4243769 0.6003794\n",
       "128 1487 0.5220228 0.4239252 0.6000289\n",
       "129 1508 0.5139980 0.4144930 0.5927582\n",
       "130 1511 0.5128556 0.4131537 0.5917891\n",
       "131 1518 0.5101938 0.4100370 0.5895299\n",
       "132 1519 0.5098140 0.4095838 0.5892074\n",
       "133 1526 0.5071585 0.4063815 0.5869513\n",
       "134 1552 0.4973449 0.3959868 0.5785967\n",
       "135 1554 0.4965933 0.3952021 0.5779974\n",
       "136 1630 0.4684018 0.3616715 0.5534116\n",
       "137 1674 0.4524278 0.3435536 0.5390856\n",
       "138 1680 0.4502703 0.3411310 0.5371007\n",
       "139 1681 0.4499112 0.3407282 0.5367701\n",
       "140 1688 0.4474016 0.3379679 0.5344581\n",
       "141 1692 0.4459706 0.3365412 0.5331386\n",
       "142 1706 0.4409803 0.3312982 0.5285299\n",
       "143 1707 0.4406249 0.3308633 0.5282012\n",
       "144 1731 0.4321398 0.3217370 0.5203351\n",
       "145 1735 0.4307339 0.3204091 0.5190277\n",
       "146 1741 0.4286295 0.3184242 0.5170690\n",
       "147 1742 0.4282793 0.3180943 0.5167428\n",
       "148 1750 0.4254830 0.3154230 0.5141365\n",
       "149 1755 0.4237402 0.3134803 0.5125102\n",
       "150 1756 0.4233921 0.3130926 0.5121852\n",
       "151 1804 0.4068632 0.2948240 0.4977516\n",
       "152 1826 0.3994076 0.2857500 0.4913615\n",
       "153 1834 0.3967155 0.2828603 0.4891905\n",
       "154 1846 0.3926965 0.2787249 0.4858237\n",
       "155 1869 0.3850584 0.2698182 0.4797839\n",
       "156 1875 0.3830801 0.2677180 0.4781851\n",
       "157 1892 0.3775067 0.2618255 0.4736683\n",
       "158 1896 0.3762022 0.2604514 0.4726062"
      ]
     },
     "metadata": {},
     "output_type": "display_data"
    }
   ],
   "source": [
    "summary(weibull_comparativo)"
   ]
  },
  {
   "cell_type": "code",
   "execution_count": 90,
   "id": "national-nerve",
   "metadata": {},
   "outputs": [],
   "source": [
    "lognormal_comparativo<-flexsurv::flexsurvreg(Obj_surv~udca1$trt+udca1$riskscore, dist=\"lognormal\")"
   ]
  },
  {
   "cell_type": "code",
   "execution_count": 91,
   "id": "driving-contact",
   "metadata": {},
   "outputs": [
    {
     "data": {
      "image/png": "[encoded data removed]",
      "text/plain": [
       "plot without title"
      ]
     },
     "metadata": {},
     "output_type": "display_data"
    }
   ],
   "source": [
    "plot(lognormal_comparativo)"
   ]
  },
  {
   "cell_type": "code",
   "execution_count": 92,
   "id": "simplified-order",
   "metadata": {},
   "outputs": [
    {
     "data": {
      "text/html": [
       "<ol>\n",
       "\t<li><table>\n",
       "<thead><tr><th scope=col>time</th><th scope=col>est</th><th scope=col>lcl</th><th scope=col>ucl</th></tr></thead>\n",
       "<tbody>\n",
       "\t<tr><td> 35      </td><td>0.9999938</td><td>0.9999075</td><td>0.9999998</td></tr>\n",
       "\t<tr><td> 47      </td><td>0.9999719</td><td>0.9997221</td><td>0.9999987</td></tr>\n",
       "\t<tr><td>144      </td><td>0.9968488</td><td>0.9904510</td><td>0.9992379</td></tr>\n",
       "\t<tr><td>183      </td><td>0.9929371</td><td>0.9827870</td><td>0.9977510</td></tr>\n",
       "\t<tr><td>189      </td><td>0.9921688</td><td>0.9813914</td><td>0.9974327</td></tr>\n",
       "\t<tr><td>233      </td><td>0.9851591</td><td>0.9699312</td><td>0.9942334</td></tr>\n",
       "\t<tr><td>252      </td><td>0.9813983</td><td>0.9640438</td><td>0.9922212</td></tr>\n",
       "\t<tr><td>272      </td><td>0.9769829</td><td>0.9577032</td><td>0.9898173</td></tr>\n",
       "\t<tr><td>275      </td><td>0.9762814</td><td>0.9567184</td><td>0.9894232</td></tr>\n",
       "\t<tr><td>307      </td><td>0.9681945</td><td>0.9452005</td><td>0.9846999</td></tr>\n",
       "\t<tr><td>340      </td><td>0.9587762</td><td>0.9323491</td><td>0.9786139</td></tr>\n",
       "\t<tr><td>343      </td><td>0.9578698</td><td>0.9311429</td><td>0.9779621</td></tr>\n",
       "\t<tr><td>351      </td><td>0.9554141</td><td>0.9278992</td><td>0.9762131</td></tr>\n",
       "\t<tr><td>361      </td><td>0.9522676</td><td>0.9239840</td><td>0.9741150</td></tr>\n",
       "\t<tr><td>362      </td><td>0.9519484</td><td>0.9235971</td><td>0.9739222</td></tr>\n",
       "\t<tr><td>364      </td><td>0.9513075</td><td>0.9228222</td><td>0.9735344</td></tr>\n",
       "\t<tr><td>370      </td><td>0.9493654</td><td>0.9204877</td><td>0.9722551</td></tr>\n",
       "\t<tr><td>375      </td><td>0.9477252</td><td>0.9185313</td><td>0.9710252</td></tr>\n",
       "\t<tr><td>377      </td><td>0.9470637</td><td>0.9177461</td><td>0.9705252</td></tr>\n",
       "\t<tr><td>383      </td><td>0.9450608</td><td>0.9153722</td><td>0.9690264</td></tr>\n",
       "\t<tr><td>391      </td><td>0.9423486</td><td>0.9116586</td><td>0.9673515</td></tr>\n",
       "\t<tr><td>395      </td><td>0.9409751</td><td>0.9099400</td><td>0.9664998</td></tr>\n",
       "\t<tr><td>462      </td><td>0.9164470</td><td>0.8801510</td><td>0.9483761</td></tr>\n",
       "\t<tr><td>499      </td><td>0.9018806</td><td>0.8627416</td><td>0.9372832</td></tr>\n",
       "\t<tr><td>513      </td><td>0.8962190</td><td>0.8563929</td><td>0.9323623</td></tr>\n",
       "\t<tr><td>530      </td><td>0.8892487</td><td>0.8485539</td><td>0.9265700</td></tr>\n",
       "\t<tr><td>536      </td><td>0.8867656</td><td>0.8457763</td><td>0.9245132</td></tr>\n",
       "\t<tr><td>559      </td><td>0.8771481</td><td>0.8348982</td><td>0.9170082</td></tr>\n",
       "\t<tr><td>573      </td><td>0.8712250</td><td>0.8282785</td><td>0.9121902</td></tr>\n",
       "\t<tr><td>604      </td><td>0.8579563</td><td>0.8128452</td><td>0.9005504</td></tr>\n",
       "\t<tr><td>...</td><td>...</td><td>...</td><td>...</td></tr>\n",
       "\t<tr><td>1508     </td><td>0.5046137</td><td>0.4176631</td><td>0.5834659</td></tr>\n",
       "\t<tr><td>1511     </td><td>0.5036955</td><td>0.4166316</td><td>0.5826276</td></tr>\n",
       "\t<tr><td>1518     </td><td>0.5015602</td><td>0.4142359</td><td>0.5806764</td></tr>\n",
       "\t<tr><td>1519     </td><td>0.5012559</td><td>0.4138950</td><td>0.5803982</td></tr>\n",
       "\t<tr><td>1526     </td><td>0.4991317</td><td>0.4115168</td><td>0.5784551</td></tr>\n",
       "\t<tr><td>1552     </td><td>0.4913269</td><td>0.4028421</td><td>0.5711927</td></tr>\n",
       "\t<tr><td>1554     </td><td>0.4907321</td><td>0.4021832</td><td>0.5706278</td></tr>\n",
       "\t<tr><td>1630     </td><td>0.4687033</td><td>0.3789211</td><td>0.5504289</td></tr>\n",
       "\t<tr><td>1674     </td><td>0.4564518</td><td>0.3645908</td><td>0.5384839</td></tr>\n",
       "\t<tr><td>1680     </td><td>0.4548090</td><td>0.3628586</td><td>0.5373121</td></tr>\n",
       "\t<tr><td>1681     </td><td>0.4545359</td><td>0.3625972</td><td>0.5371171</td></tr>\n",
       "\t<tr><td>1688     </td><td>0.4526290</td><td>0.3607738</td><td>0.5354567</td></tr>\n",
       "\t<tr><td>1692     </td><td>0.4515434</td><td>0.3597366</td><td>0.5344471</td></tr>\n",
       "\t<tr><td>1706     </td><td>0.4477666</td><td>0.3561338</td><td>0.5309127</td></tr>\n",
       "\t<tr><td>1707     </td><td>0.4474982</td><td>0.3558781</td><td>0.5306609</td></tr>\n",
       "\t<tr><td>1731     </td><td>0.4411107</td><td>0.3497394</td><td>0.5246521</td></tr>\n",
       "\t<tr><td>1735     </td><td>0.4400562</td><td>0.3484842</td><td>0.5236581</td></tr>\n",
       "\t<tr><td>1741     </td><td>0.4384797</td><td>0.3466120</td><td>0.5221712</td></tr>\n",
       "\t<tr><td>1742     </td><td>0.4382176</td><td>0.3463009</td><td>0.5219238</td></tr>\n",
       "\t<tr><td>1750     </td><td>0.4361270</td><td>0.3438228</td><td>0.5199497</td></tr>\n",
       "\t<tr><td>1755     </td><td>0.4348261</td><td>0.3422830</td><td>0.5187203</td></tr>\n",
       "\t<tr><td>1756     </td><td>0.4345665</td><td>0.3419759</td><td>0.5184748</td></tr>\n",
       "\t<tr><td>1804     </td><td>0.4223085</td><td>0.3289743</td><td>0.5071055</td></tr>\n",
       "\t<tr><td>1826     </td><td>0.4168225</td><td>0.3234840</td><td>0.5020934</td></tr>\n",
       "\t<tr><td>1834     </td><td>0.4148479</td><td>0.3216103</td><td>0.5001960</td></tr>\n",
       "\t<tr><td>1846     </td><td>0.4119061</td><td>0.3188374</td><td>0.4973653</td></tr>\n",
       "\t<tr><td>1869     </td><td>0.4063344</td><td>0.3136007</td><td>0.4919913</td></tr>\n",
       "\t<tr><td>1875     </td><td>0.4048952</td><td>0.3120736</td><td>0.4906005</td></tr>\n",
       "\t<tr><td>1892     </td><td>0.4008494</td><td>0.3077026</td><td>0.4866845</td></tr>\n",
       "\t<tr><td>1896     </td><td>0.3999042</td><td>0.3066837</td><td>0.4857684</td></tr>\n",
       "</tbody>\n",
       "</table>\n",
       "</li>\n",
       "</ol>\n"
      ],
      "text/latex": [
       "\\begin{enumerate}\n",
       "\\item \\begin{tabular}{r|llll}\n",
       " time & est & lcl & ucl\\\\\n",
       "\\hline\n",
       "\t  35       & 0.9999938 & 0.9999075 & 0.9999998\\\\\n",
       "\t  47       & 0.9999719 & 0.9997221 & 0.9999987\\\\\n",
       "\t 144       & 0.9968488 & 0.9904510 & 0.9992379\\\\\n",
       "\t 183       & 0.9929371 & 0.9827870 & 0.9977510\\\\\n",
       "\t 189       & 0.9921688 & 0.9813914 & 0.9974327\\\\\n",
       "\t 233       & 0.9851591 & 0.9699312 & 0.9942334\\\\\n",
       "\t 252       & 0.9813983 & 0.9640438 & 0.9922212\\\\\n",
       "\t 272       & 0.9769829 & 0.9577032 & 0.9898173\\\\\n",
       "\t 275       & 0.9762814 & 0.9567184 & 0.9894232\\\\\n",
       "\t 307       & 0.9681945 & 0.9452005 & 0.9846999\\\\\n",
       "\t 340       & 0.9587762 & 0.9323491 & 0.9786139\\\\\n",
       "\t 343       & 0.9578698 & 0.9311429 & 0.9779621\\\\\n",
       "\t 351       & 0.9554141 & 0.9278992 & 0.9762131\\\\\n",
       "\t 361       & 0.9522676 & 0.9239840 & 0.9741150\\\\\n",
       "\t 362       & 0.9519484 & 0.9235971 & 0.9739222\\\\\n",
       "\t 364       & 0.9513075 & 0.9228222 & 0.9735344\\\\\n",
       "\t 370       & 0.9493654 & 0.9204877 & 0.9722551\\\\\n",
       "\t 375       & 0.9477252 & 0.9185313 & 0.9710252\\\\\n",
       "\t 377       & 0.9470637 & 0.9177461 & 0.9705252\\\\\n",
       "\t 383       & 0.9450608 & 0.9153722 & 0.9690264\\\\\n",
       "\t 391       & 0.9423486 & 0.9116586 & 0.9673515\\\\\n",
       "\t 395       & 0.9409751 & 0.9099400 & 0.9664998\\\\\n",
       "\t 462       & 0.9164470 & 0.8801510 & 0.9483761\\\\\n",
       "\t 499       & 0.9018806 & 0.8627416 & 0.9372832\\\\\n",
       "\t 513       & 0.8962190 & 0.8563929 & 0.9323623\\\\\n",
       "\t 530       & 0.8892487 & 0.8485539 & 0.9265700\\\\\n",
       "\t 536       & 0.8867656 & 0.8457763 & 0.9245132\\\\\n",
       "\t 559       & 0.8771481 & 0.8348982 & 0.9170082\\\\\n",
       "\t 573       & 0.8712250 & 0.8282785 & 0.9121902\\\\\n",
       "\t 604       & 0.8579563 & 0.8128452 & 0.9005504\\\\\n",
       "\t ... & ... & ... & ...\\\\\n",
       "\t 1508      & 0.5046137 & 0.4176631 & 0.5834659\\\\\n",
       "\t 1511      & 0.5036955 & 0.4166316 & 0.5826276\\\\\n",
       "\t 1518      & 0.5015602 & 0.4142359 & 0.5806764\\\\\n",
       "\t 1519      & 0.5012559 & 0.4138950 & 0.5803982\\\\\n",
       "\t 1526      & 0.4991317 & 0.4115168 & 0.5784551\\\\\n",
       "\t 1552      & 0.4913269 & 0.4028421 & 0.5711927\\\\\n",
       "\t 1554      & 0.4907321 & 0.4021832 & 0.5706278\\\\\n",
       "\t 1630      & 0.4687033 & 0.3789211 & 0.5504289\\\\\n",
       "\t 1674      & 0.4564518 & 0.3645908 & 0.5384839\\\\\n",
       "\t 1680      & 0.4548090 & 0.3628586 & 0.5373121\\\\\n",
       "\t 1681      & 0.4545359 & 0.3625972 & 0.5371171\\\\\n",
       "\t 1688      & 0.4526290 & 0.3607738 & 0.5354567\\\\\n",
       "\t 1692      & 0.4515434 & 0.3597366 & 0.5344471\\\\\n",
       "\t 1706      & 0.4477666 & 0.3561338 & 0.5309127\\\\\n",
       "\t 1707      & 0.4474982 & 0.3558781 & 0.5306609\\\\\n",
       "\t 1731      & 0.4411107 & 0.3497394 & 0.5246521\\\\\n",
       "\t 1735      & 0.4400562 & 0.3484842 & 0.5236581\\\\\n",
       "\t 1741      & 0.4384797 & 0.3466120 & 0.5221712\\\\\n",
       "\t 1742      & 0.4382176 & 0.3463009 & 0.5219238\\\\\n",
       "\t 1750      & 0.4361270 & 0.3438228 & 0.5199497\\\\\n",
       "\t 1755      & 0.4348261 & 0.3422830 & 0.5187203\\\\\n",
       "\t 1756      & 0.4345665 & 0.3419759 & 0.5184748\\\\\n",
       "\t 1804      & 0.4223085 & 0.3289743 & 0.5071055\\\\\n",
       "\t 1826      & 0.4168225 & 0.3234840 & 0.5020934\\\\\n",
       "\t 1834      & 0.4148479 & 0.3216103 & 0.5001960\\\\\n",
       "\t 1846      & 0.4119061 & 0.3188374 & 0.4973653\\\\\n",
       "\t 1869      & 0.4063344 & 0.3136007 & 0.4919913\\\\\n",
       "\t 1875      & 0.4048952 & 0.3120736 & 0.4906005\\\\\n",
       "\t 1892      & 0.4008494 & 0.3077026 & 0.4866845\\\\\n",
       "\t 1896      & 0.3999042 & 0.3066837 & 0.4857684\\\\\n",
       "\\end{tabular}\n",
       "\n",
       "\\end{enumerate}\n"
      ],
      "text/markdown": [
       "1. \n",
       "| time | est | lcl | ucl |\n",
       "|---|---|---|---|\n",
       "|  35       | 0.9999938 | 0.9999075 | 0.9999998 |\n",
       "|  47       | 0.9999719 | 0.9997221 | 0.9999987 |\n",
       "| 144       | 0.9968488 | 0.9904510 | 0.9992379 |\n",
       "| 183       | 0.9929371 | 0.9827870 | 0.9977510 |\n",
       "| 189       | 0.9921688 | 0.9813914 | 0.9974327 |\n",
       "| 233       | 0.9851591 | 0.9699312 | 0.9942334 |\n",
       "| 252       | 0.9813983 | 0.9640438 | 0.9922212 |\n",
       "| 272       | 0.9769829 | 0.9577032 | 0.9898173 |\n",
       "| 275       | 0.9762814 | 0.9567184 | 0.9894232 |\n",
       "| 307       | 0.9681945 | 0.9452005 | 0.9846999 |\n",
       "| 340       | 0.9587762 | 0.9323491 | 0.9786139 |\n",
       "| 343       | 0.9578698 | 0.9311429 | 0.9779621 |\n",
       "| 351       | 0.9554141 | 0.9278992 | 0.9762131 |\n",
       "| 361       | 0.9522676 | 0.9239840 | 0.9741150 |\n",
       "| 362       | 0.9519484 | 0.9235971 | 0.9739222 |\n",
       "| 364       | 0.9513075 | 0.9228222 | 0.9735344 |\n",
       "| 370       | 0.9493654 | 0.9204877 | 0.9722551 |\n",
       "| 375       | 0.9477252 | 0.9185313 | 0.9710252 |\n",
       "| 377       | 0.9470637 | 0.9177461 | 0.9705252 |\n",
       "| 383       | 0.9450608 | 0.9153722 | 0.9690264 |\n",
       "| 391       | 0.9423486 | 0.9116586 | 0.9673515 |\n",
       "| 395       | 0.9409751 | 0.9099400 | 0.9664998 |\n",
       "| 462       | 0.9164470 | 0.8801510 | 0.9483761 |\n",
       "| 499       | 0.9018806 | 0.8627416 | 0.9372832 |\n",
       "| 513       | 0.8962190 | 0.8563929 | 0.9323623 |\n",
       "| 530       | 0.8892487 | 0.8485539 | 0.9265700 |\n",
       "| 536       | 0.8867656 | 0.8457763 | 0.9245132 |\n",
       "| 559       | 0.8771481 | 0.8348982 | 0.9170082 |\n",
       "| 573       | 0.8712250 | 0.8282785 | 0.9121902 |\n",
       "| 604       | 0.8579563 | 0.8128452 | 0.9005504 |\n",
       "| ... | ... | ... | ... |\n",
       "| 1508      | 0.5046137 | 0.4176631 | 0.5834659 |\n",
       "| 1511      | 0.5036955 | 0.4166316 | 0.5826276 |\n",
       "| 1518      | 0.5015602 | 0.4142359 | 0.5806764 |\n",
       "| 1519      | 0.5012559 | 0.4138950 | 0.5803982 |\n",
       "| 1526      | 0.4991317 | 0.4115168 | 0.5784551 |\n",
       "| 1552      | 0.4913269 | 0.4028421 | 0.5711927 |\n",
       "| 1554      | 0.4907321 | 0.4021832 | 0.5706278 |\n",
       "| 1630      | 0.4687033 | 0.3789211 | 0.5504289 |\n",
       "| 1674      | 0.4564518 | 0.3645908 | 0.5384839 |\n",
       "| 1680      | 0.4548090 | 0.3628586 | 0.5373121 |\n",
       "| 1681      | 0.4545359 | 0.3625972 | 0.5371171 |\n",
       "| 1688      | 0.4526290 | 0.3607738 | 0.5354567 |\n",
       "| 1692      | 0.4515434 | 0.3597366 | 0.5344471 |\n",
       "| 1706      | 0.4477666 | 0.3561338 | 0.5309127 |\n",
       "| 1707      | 0.4474982 | 0.3558781 | 0.5306609 |\n",
       "| 1731      | 0.4411107 | 0.3497394 | 0.5246521 |\n",
       "| 1735      | 0.4400562 | 0.3484842 | 0.5236581 |\n",
       "| 1741      | 0.4384797 | 0.3466120 | 0.5221712 |\n",
       "| 1742      | 0.4382176 | 0.3463009 | 0.5219238 |\n",
       "| 1750      | 0.4361270 | 0.3438228 | 0.5199497 |\n",
       "| 1755      | 0.4348261 | 0.3422830 | 0.5187203 |\n",
       "| 1756      | 0.4345665 | 0.3419759 | 0.5184748 |\n",
       "| 1804      | 0.4223085 | 0.3289743 | 0.5071055 |\n",
       "| 1826      | 0.4168225 | 0.3234840 | 0.5020934 |\n",
       "| 1834      | 0.4148479 | 0.3216103 | 0.5001960 |\n",
       "| 1846      | 0.4119061 | 0.3188374 | 0.4973653 |\n",
       "| 1869      | 0.4063344 | 0.3136007 | 0.4919913 |\n",
       "| 1875      | 0.4048952 | 0.3120736 | 0.4906005 |\n",
       "| 1892      | 0.4008494 | 0.3077026 | 0.4866845 |\n",
       "| 1896      | 0.3999042 | 0.3066837 | 0.4857684 |\n",
       "\n",
       "\n",
       "\n",
       "\n"
      ],
      "text/plain": [
       " \n",
       "    time       est       lcl       ucl\n",
       "1     35 0.9999938 0.9999075 0.9999998\n",
       "2     47 0.9999719 0.9997221 0.9999987\n",
       "3    144 0.9968488 0.9904510 0.9992379\n",
       "4    183 0.9929371 0.9827870 0.9977510\n",
       "5    189 0.9921688 0.9813914 0.9974327\n",
       "6    233 0.9851591 0.9699312 0.9942334\n",
       "7    252 0.9813983 0.9640438 0.9922212\n",
       "8    272 0.9769829 0.9577032 0.9898173\n",
       "9    275 0.9762814 0.9567184 0.9894232\n",
       "10   307 0.9681945 0.9452005 0.9846999\n",
       "11   340 0.9587762 0.9323491 0.9786139\n",
       "12   343 0.9578698 0.9311429 0.9779621\n",
       "13   351 0.9554141 0.9278992 0.9762131\n",
       "14   361 0.9522676 0.9239840 0.9741150\n",
       "15   362 0.9519484 0.9235971 0.9739222\n",
       "16   364 0.9513075 0.9228222 0.9735344\n",
       "17   370 0.9493654 0.9204877 0.9722551\n",
       "18   375 0.9477252 0.9185313 0.9710252\n",
       "19   377 0.9470637 0.9177461 0.9705252\n",
       "20   383 0.9450608 0.9153722 0.9690264\n",
       "21   391 0.9423486 0.9116586 0.9673515\n",
       "22   395 0.9409751 0.9099400 0.9664998\n",
       "23   462 0.9164470 0.8801510 0.9483761\n",
       "24   499 0.9018806 0.8627416 0.9372832\n",
       "25   513 0.8962190 0.8563929 0.9323623\n",
       "26   530 0.8892487 0.8485539 0.9265700\n",
       "27   536 0.8867656 0.8457763 0.9245132\n",
       "28   559 0.8771481 0.8348982 0.9170082\n",
       "29   573 0.8712250 0.8282785 0.9121902\n",
       "30   604 0.8579563 0.8128452 0.9005504\n",
       "31   633 0.8453929 0.7986400 0.8899044\n",
       "32   671 0.8287804 0.7792128 0.8756519\n",
       "33   683 0.8235110 0.7731361 0.8713848\n",
       "34   685 0.8226321 0.7721628 0.8706271\n",
       "35   686 0.8221925 0.7716764 0.8702475\n",
       "36   705 0.8138339 0.7626028 0.8627672\n",
       "37   709 0.8120730 0.7606750 0.8611963\n",
       "38   711 0.8111924 0.7597038 0.8604714\n",
       "39   714 0.8098715 0.7582494 0.8592600\n",
       "40   717 0.8085505 0.7567965 0.8580271\n",
       "41   726 0.8045871 0.7524459 0.8548335\n",
       "42   727 0.8041468 0.7519633 0.8544966\n",
       "43   731 0.8023854 0.7500345 0.8529500\n",
       "44   733 0.8015047 0.7490712 0.8521879\n",
       "45   734 0.8010644 0.7485897 0.8518545\n",
       "46   735 0.8006241 0.7481085 0.8515210\n",
       "47   737 0.7997435 0.7471464 0.8508539\n",
       "48   739 0.7988630 0.7461851 0.8501866\n",
       "49   742 0.7975425 0.7447444 0.8491854\n",
       "50   750 0.7940219 0.7409102 0.8460967\n",
       "51   755 0.7918224 0.7385197 0.8439521\n",
       "52   761 0.7891842 0.7356585 0.8418177\n",
       "53   763 0.7883051 0.7347069 0.8411041\n",
       "54   768 0.7861081 0.7324072 0.8393191\n",
       "55   776 0.7825954 0.7287892 0.8361918\n",
       "56   783 0.7795247 0.7256343 0.8333449\n",
       "57   791 0.7760188 0.7218486 0.8300995\n",
       "58   800 0.7720799 0.7180155 0.8264410\n",
       "59   803 0.7707683 0.7166775 0.8252194\n",
       "60   810 0.7677105 0.7135632 0.8223556\n",
       "61   812 0.7668375 0.7126753 0.8215365\n",
       "62   816 0.7650927 0.7107272 0.8198974\n",
       "63   825 0.7611720 0.7062191 0.8162044\n",
       "64   826 0.7607368 0.7058272 0.8157937\n",
       "65   833 0.7576932 0.7027512 0.8129168\n",
       "66   834 0.7572588 0.7022474 0.8125055\n",
       "67   868 0.7425531 0.6854974 0.7987576\n",
       "68   874 0.7399720 0.6822933 0.7963624\n",
       "69   876 0.7391126 0.6812270 0.7955638\n",
       "70   888 0.7339670 0.6751919 0.7907722\n",
       "71   905 0.7267104 0.6659239 0.7839847\n",
       "72   937 0.7131641 0.6497248 0.7722379\n",
       "73   946 0.7093825 0.6452367 0.7688261\n",
       "74   971 0.6989468 0.6340619 0.7592100\n",
       "75   973 0.6981165 0.6331902 0.7584443\n",
       "76   992 0.6902625 0.6249400 0.7513192\n",
       "77  1033 0.6735339 0.6056022 0.7370484\n",
       "78  1034 0.6731297 0.6051354 0.7367457\n",
       "79  1056 0.6642864 0.5937581 0.7285016\n",
       "80  1058 0.6634870 0.5928939 0.7276111\n",
       "81  1064 0.6610936 0.5903797 0.7249412\n",
       "82  1078 0.6555362 0.5843596 0.7189078\n",
       "83  1084 0.6531663 0.5815533 0.7168494\n",
       "84  1086 0.6523779 0.5805970 0.7161642\n",
       "85  1087 0.6519840 0.5801193 0.7158218\n",
       "86  1088 0.6515903 0.5796420 0.7154795\n",
       "87  1092 0.6500174 0.5777357 0.7141115\n",
       "88  1098 0.6476641 0.5748861 0.7117041\n",
       "89  1099 0.6472726 0.5744122 0.7112672\n",
       "90  1107 0.6441478 0.5706334 0.7078427\n",
       "91  1108 0.6437580 0.5701625 0.7074725\n",
       "92  1127 0.6363921 0.5612892 0.7007344\n",
       "93  1134 0.6336968 0.5580556 0.6982939\n",
       "94  1148 0.6283365 0.5516365 0.6934314\n",
       "95  1153 0.6264318 0.5493596 0.6917009\n",
       "96  1176 0.6177373 0.5389984 0.6838296\n",
       "97  1199 0.6091530 0.5297896 0.6761120\n",
       "98  1205 0.6069319 0.5274739 0.6741367\n",
       "99  1217 0.6025124 0.5228762 0.6703231\n",
       "100 1233 0.5966669 0.5168114 0.6653379\n",
       "101 1241 0.5937645 0.5138095 0.6628491\n",
       "102 1246 0.5919573 0.5119451 0.6612980\n",
       "103 1258 0.5876417 0.5075000 0.6571062\n",
       "104 1282 0.5791020 0.4987332 0.6494028\n",
       "105 1288 0.5769862 0.4965671 0.6475216\n",
       "106 1293 0.5752288 0.4947698 0.6459525\n",
       "107 1310 0.5692933 0.4885147 0.6408481\n",
       "108 1323 0.5647956 0.4836076 0.6370732\n",
       "109 1336 0.5603337 0.4787509 0.6332941\n",
       "110 1355 0.5538765 0.4717428 0.6278127\n",
       "111 1358 0.5528638 0.4706460 0.6269507\n",
       "112 1367 0.5498373 0.4673714 0.6242894\n",
       "113 1372 0.5481633 0.4655624 0.6227942\n",
       "114 1414 0.5343074 0.4506435 0.6101556\n",
       "115 1416 0.5336567 0.4499429 0.6095843\n",
       "116 1443 0.5249538 0.4406051 0.6019238\n",
       "117 1446 0.5239961 0.4395219 0.6010587\n",
       "118 1449 0.5230402 0.4384414 0.6001949\n",
       "119 1453 0.5217686 0.4370049 0.5990451\n",
       "120 1456 0.5208170 0.4359008 0.5981843\n",
       "121 1463 0.5186038 0.4331860 0.5961809\n",
       "122 1468 0.5170291 0.4315345 0.5947542\n",
       "123 1470 0.5164006 0.4308911 0.5941845\n",
       "124 1471 0.5160867 0.4305698 0.5938998\n",
       "125 1478 0.5138949 0.4279030 0.5919115\n",
       "126 1483 0.5123354 0.4259230 0.5904955\n",
       "127 1486 0.5114021 0.4247448 0.5896477\n",
       "128 1487 0.5110915 0.4244531 0.5893654\n",
       "129 1508 0.5046137 0.4176631 0.5834659\n",
       "130 1511 0.5036955 0.4166316 0.5826276\n",
       "131 1518 0.5015602 0.4142359 0.5806764\n",
       "132 1519 0.5012559 0.4138950 0.5803982\n",
       "133 1526 0.4991317 0.4115168 0.5784551\n",
       "134 1552 0.4913269 0.4028421 0.5711927\n",
       "135 1554 0.4907321 0.4021832 0.5706278\n",
       "136 1630 0.4687033 0.3789211 0.5504289\n",
       "137 1674 0.4564518 0.3645908 0.5384839\n",
       "138 1680 0.4548090 0.3628586 0.5373121\n",
       "139 1681 0.4545359 0.3625972 0.5371171\n",
       "140 1688 0.4526290 0.3607738 0.5354567\n",
       "141 1692 0.4515434 0.3597366 0.5344471\n",
       "142 1706 0.4477666 0.3561338 0.5309127\n",
       "143 1707 0.4474982 0.3558781 0.5306609\n",
       "144 1731 0.4411107 0.3497394 0.5246521\n",
       "145 1735 0.4400562 0.3484842 0.5236581\n",
       "146 1741 0.4384797 0.3466120 0.5221712\n",
       "147 1742 0.4382176 0.3463009 0.5219238\n",
       "148 1750 0.4361270 0.3438228 0.5199497\n",
       "149 1755 0.4348261 0.3422830 0.5187203\n",
       "150 1756 0.4345665 0.3419759 0.5184748\n",
       "151 1804 0.4223085 0.3289743 0.5071055\n",
       "152 1826 0.4168225 0.3234840 0.5020934\n",
       "153 1834 0.4148479 0.3216103 0.5001960\n",
       "154 1846 0.4119061 0.3188374 0.4973653\n",
       "155 1869 0.4063344 0.3136007 0.4919913\n",
       "156 1875 0.4048952 0.3120736 0.4906005\n",
       "157 1892 0.4008494 0.3077026 0.4866845\n",
       "158 1896 0.3999042 0.3066837 0.4857684"
      ]
     },
     "metadata": {},
     "output_type": "display_data"
    }
   ],
   "source": [
    "summary(lognormal_comparativo)"
   ]
  },
  {
   "cell_type": "code",
   "execution_count": 93,
   "id": "august-plane",
   "metadata": {},
   "outputs": [
    {
     "data": {
      "text/plain": [
       "Call:\n",
       "flexsurv::flexsurvreg(formula = Obj_surv ~ udca1$trt + udca1$riskscore, \n",
       "    dist = \"lognormal\")\n",
       "\n",
       "Estimates: \n",
       "                 data mean  est      L95%     U95%     se       exp(est)\n",
       "meanlog               NA     8.2774   7.5453   9.0095   0.3735       NA \n",
       "sdlog                 NA     0.8635   0.7231   1.0312   0.0782       NA \n",
       "udca1$trt         0.5030     0.6344   0.3201   0.9486   0.1603   1.8858 \n",
       "udca1$riskscore   5.1272    -0.2473  -0.3795  -0.1151   0.0675   0.7809 \n",
       "                 L95%     U95%   \n",
       "meanlog               NA       NA\n",
       "sdlog                 NA       NA\n",
       "udca1$trt         1.3773   2.5820\n",
       "udca1$riskscore   0.6842   0.8913\n",
       "\n",
       "N = 169,  Events: 72,  Censored: 97\n",
       "Total time at risk: 175993\n",
       "Log-likelihood = -609.8162, df = 4\n",
       "AIC = 1227.632\n"
      ]
     },
     "metadata": {},
     "output_type": "display_data"
    }
   ],
   "source": [
    "lognormal_comparativo"
   ]
  },
  {
   "cell_type": "code",
   "execution_count": 94,
   "id": "cooperative-desktop",
   "metadata": {},
   "outputs": [],
   "source": [
    "loglogistica_comparativo<-flexsurv::flexsurvreg(Obj_surv~udca1$trt+udca1$riskscore, dist=\"llogis\")"
   ]
  },
  {
   "cell_type": "code",
   "execution_count": 95,
   "id": "nasty-measure",
   "metadata": {},
   "outputs": [
    {
     "data": {
      "image/png": "[encoded data removed]",
      "text/plain": [
       "plot without title"
      ]
     },
     "metadata": {},
     "output_type": "display_data"
    }
   ],
   "source": [
    "plot(loglogistica_comparativo)"
   ]
  },
  {
   "cell_type": "code",
   "execution_count": 96,
   "id": "electoral-chicago",
   "metadata": {},
   "outputs": [
    {
     "data": {
      "text/html": [
       "<ol>\n",
       "\t<li><table>\n",
       "<thead><tr><th scope=col>time</th><th scope=col>est</th><th scope=col>lcl</th><th scope=col>ucl</th></tr></thead>\n",
       "<tbody>\n",
       "\t<tr><td> 35      </td><td>0.9996186</td><td>0.9985618</td><td>0.9999136</td></tr>\n",
       "\t<tr><td> 47      </td><td>0.9992913</td><td>0.9976197</td><td>0.9998198</td></tr>\n",
       "\t<tr><td>144      </td><td>0.9925865</td><td>0.9835852</td><td>0.9970113</td></tr>\n",
       "\t<tr><td>183      </td><td>0.9877879</td><td>0.9752839</td><td>0.9945713</td></tr>\n",
       "\t<tr><td>189      </td><td>0.9869420</td><td>0.9738331</td><td>0.9941137</td></tr>\n",
       "\t<tr><td>233      </td><td>0.9798683</td><td>0.9625775</td><td>0.9900271</td></tr>\n",
       "\t<tr><td>252      </td><td>0.9763460</td><td>0.9572793</td><td>0.9878774</td></tr>\n",
       "\t<tr><td>272      </td><td>0.9723393</td><td>0.9514333</td><td>0.9851386</td></tr>\n",
       "\t<tr><td>275      </td><td>0.9717121</td><td>0.9505336</td><td>0.9846979</td></tr>\n",
       "\t<tr><td>307      </td><td>0.9646055</td><td>0.9400391</td><td>0.9800642</td></tr>\n",
       "\t<tr><td>340      </td><td>0.9564982</td><td>0.9288667</td><td>0.9745924</td></tr>\n",
       "\t<tr><td>343      </td><td>0.9557230</td><td>0.9277051</td><td>0.9740892</td></tr>\n",
       "\t<tr><td>351      </td><td>0.9536256</td><td>0.9247336</td><td>0.9725111</td></tr>\n",
       "\t<tr><td>361      </td><td>0.9509422</td><td>0.9212807</td><td>0.9706024</td></tr>\n",
       "\t<tr><td>362      </td><td>0.9506701</td><td>0.9208921</td><td>0.9704035</td></tr>\n",
       "\t<tr><td>364      </td><td>0.9501239</td><td>0.9201298</td><td>0.9700322</td></tr>\n",
       "\t<tr><td>370      </td><td>0.9484694</td><td>0.9181234</td><td>0.9688684</td></tr>\n",
       "\t<tr><td>375      </td><td>0.9470723</td><td>0.9164420</td><td>0.9679130</td></tr>\n",
       "\t<tr><td>377      </td><td>0.9465088</td><td>0.9156771</td><td>0.9675320</td></tr>\n",
       "\t<tr><td>383      </td><td>0.9448026</td><td>0.9130058</td><td>0.9663512</td></tr>\n",
       "\t<tr><td>391      </td><td>0.9424914</td><td>0.9101908</td><td>0.9647077</td></tr>\n",
       "\t<tr><td>395      </td><td>0.9413203</td><td>0.9088123</td><td>0.9638610</td></tr>\n",
       "\t<tr><td>462      </td><td>0.9202488</td><td>0.8831694</td><td>0.9482472</td></tr>\n",
       "\t<tr><td>499      </td><td>0.9075209</td><td>0.8663515</td><td>0.9389812</td></tr>\n",
       "\t<tr><td>513      </td><td>0.9025207</td><td>0.8607101</td><td>0.9351234</td></tr>\n",
       "\t<tr><td>530      </td><td>0.8963210</td><td>0.8535256</td><td>0.9301108</td></tr>\n",
       "\t<tr><td>536      </td><td>0.8941005</td><td>0.8509081</td><td>0.9285511</td></tr>\n",
       "\t<tr><td>559      </td><td>0.8854394</td><td>0.8406125</td><td>0.9220770</td></tr>\n",
       "\t<tr><td>573      </td><td>0.8800566</td><td>0.8340391</td><td>0.9177481</td></tr>\n",
       "\t<tr><td>604      </td><td>0.8678608</td><td>0.8194463</td><td>0.9081758</td></tr>\n",
       "\t<tr><td>...</td><td>...</td><td>...</td><td>...</td></tr>\n",
       "\t<tr><td>1508     </td><td>0.4895594</td><td>0.3922381</td><td>0.5720743</td></tr>\n",
       "\t<tr><td>1511     </td><td>0.4885152</td><td>0.3911821</td><td>0.5709411</td></tr>\n",
       "\t<tr><td>1518     </td><td>0.4860870</td><td>0.3887301</td><td>0.5685683</td></tr>\n",
       "\t<tr><td>1519     </td><td>0.4857411</td><td>0.3883812</td><td>0.5682353</td></tr>\n",
       "\t<tr><td>1526     </td><td>0.4833265</td><td>0.3859181</td><td>0.5659093</td></tr>\n",
       "\t<tr><td>1552     </td><td>0.4744613</td><td>0.3762897</td><td>0.5573378</td></tr>\n",
       "\t<tr><td>1554     </td><td>0.4737861</td><td>0.3756114</td><td>0.5566829</td></tr>\n",
       "\t<tr><td>1630     </td><td>0.4488413</td><td>0.3494123</td><td>0.5341545</td></tr>\n",
       "\t<tr><td>1674     </td><td>0.4350289</td><td>0.3354819</td><td>0.5208685</td></tr>\n",
       "\t<tr><td>1680     </td><td>0.4331807</td><td>0.3336328</td><td>0.5190774</td></tr>\n",
       "\t<tr><td>1681     </td><td>0.4328735</td><td>0.3333258</td><td>0.5187794</td></tr>\n",
       "\t<tr><td>1688     </td><td>0.4307297</td><td>0.3311855</td><td>0.5167020</td></tr>\n",
       "\t<tr><td>1692     </td><td>0.4295097</td><td>0.3299696</td><td>0.5156005</td></tr>\n",
       "\t<tr><td>1706     </td><td>0.4252694</td><td>0.3257542</td><td>0.5117646</td></tr>\n",
       "\t<tr><td>1707     </td><td>0.4249682</td><td>0.3254554</td><td>0.5114917</td></tr>\n",
       "\t<tr><td>1731     </td><td>0.4178102</td><td>0.3183806</td><td>0.5049893</td></tr>\n",
       "\t<tr><td>1735     </td><td>0.4166301</td><td>0.3172189</td><td>0.5039141</td></tr>\n",
       "\t<tr><td>1741     </td><td>0.4148668</td><td>0.3154857</td><td>0.5023059</td></tr>\n",
       "\t<tr><td>1742     </td><td>0.4145738</td><td>0.3151979</td><td>0.5020384</td></tr>\n",
       "\t<tr><td>1750     </td><td>0.4122374</td><td>0.3129065</td><td>0.4999039</td></tr>\n",
       "\t<tr><td>1755     </td><td>0.4107845</td><td>0.3114843</td><td>0.4985747</td></tr>\n",
       "\t<tr><td>1756     </td><td>0.4104946</td><td>0.3112007</td><td>0.4983094</td></tr>\n",
       "\t<tr><td>1804     </td><td>0.3968452</td><td>0.2978569</td><td>0.4859838</td></tr>\n",
       "\t<tr><td>1826     </td><td>0.3907607</td><td>0.2919204</td><td>0.4806580</td></tr>\n",
       "\t<tr><td>1834     </td><td>0.3885745</td><td>0.2898494</td><td>0.4786471</td></tr>\n",
       "\t<tr><td>1846     </td><td>0.3853213</td><td>0.2867760</td><td>0.4754661</td></tr>\n",
       "\t<tr><td>1869     </td><td>0.3791732</td><td>0.2809947</td><td>0.4694216</td></tr>\n",
       "\t<tr><td>1875     </td><td>0.3775880</td><td>0.2795099</td><td>0.4678519</td></tr>\n",
       "\t<tr><td>1892     </td><td>0.3731381</td><td>0.2750079</td><td>0.4636295</td></tr>\n",
       "\t<tr><td>1896     </td><td>0.3720999</td><td>0.2739414</td><td>0.4626528</td></tr>\n",
       "</tbody>\n",
       "</table>\n",
       "</li>\n",
       "</ol>\n"
      ],
      "text/latex": [
       "\\begin{enumerate}\n",
       "\\item \\begin{tabular}{r|llll}\n",
       " time & est & lcl & ucl\\\\\n",
       "\\hline\n",
       "\t  35       & 0.9996186 & 0.9985618 & 0.9999136\\\\\n",
       "\t  47       & 0.9992913 & 0.9976197 & 0.9998198\\\\\n",
       "\t 144       & 0.9925865 & 0.9835852 & 0.9970113\\\\\n",
       "\t 183       & 0.9877879 & 0.9752839 & 0.9945713\\\\\n",
       "\t 189       & 0.9869420 & 0.9738331 & 0.9941137\\\\\n",
       "\t 233       & 0.9798683 & 0.9625775 & 0.9900271\\\\\n",
       "\t 252       & 0.9763460 & 0.9572793 & 0.9878774\\\\\n",
       "\t 272       & 0.9723393 & 0.9514333 & 0.9851386\\\\\n",
       "\t 275       & 0.9717121 & 0.9505336 & 0.9846979\\\\\n",
       "\t 307       & 0.9646055 & 0.9400391 & 0.9800642\\\\\n",
       "\t 340       & 0.9564982 & 0.9288667 & 0.9745924\\\\\n",
       "\t 343       & 0.9557230 & 0.9277051 & 0.9740892\\\\\n",
       "\t 351       & 0.9536256 & 0.9247336 & 0.9725111\\\\\n",
       "\t 361       & 0.9509422 & 0.9212807 & 0.9706024\\\\\n",
       "\t 362       & 0.9506701 & 0.9208921 & 0.9704035\\\\\n",
       "\t 364       & 0.9501239 & 0.9201298 & 0.9700322\\\\\n",
       "\t 370       & 0.9484694 & 0.9181234 & 0.9688684\\\\\n",
       "\t 375       & 0.9470723 & 0.9164420 & 0.9679130\\\\\n",
       "\t 377       & 0.9465088 & 0.9156771 & 0.9675320\\\\\n",
       "\t 383       & 0.9448026 & 0.9130058 & 0.9663512\\\\\n",
       "\t 391       & 0.9424914 & 0.9101908 & 0.9647077\\\\\n",
       "\t 395       & 0.9413203 & 0.9088123 & 0.9638610\\\\\n",
       "\t 462       & 0.9202488 & 0.8831694 & 0.9482472\\\\\n",
       "\t 499       & 0.9075209 & 0.8663515 & 0.9389812\\\\\n",
       "\t 513       & 0.9025207 & 0.8607101 & 0.9351234\\\\\n",
       "\t 530       & 0.8963210 & 0.8535256 & 0.9301108\\\\\n",
       "\t 536       & 0.8941005 & 0.8509081 & 0.9285511\\\\\n",
       "\t 559       & 0.8854394 & 0.8406125 & 0.9220770\\\\\n",
       "\t 573       & 0.8800566 & 0.8340391 & 0.9177481\\\\\n",
       "\t 604       & 0.8678608 & 0.8194463 & 0.9081758\\\\\n",
       "\t ... & ... & ... & ...\\\\\n",
       "\t 1508      & 0.4895594 & 0.3922381 & 0.5720743\\\\\n",
       "\t 1511      & 0.4885152 & 0.3911821 & 0.5709411\\\\\n",
       "\t 1518      & 0.4860870 & 0.3887301 & 0.5685683\\\\\n",
       "\t 1519      & 0.4857411 & 0.3883812 & 0.5682353\\\\\n",
       "\t 1526      & 0.4833265 & 0.3859181 & 0.5659093\\\\\n",
       "\t 1552      & 0.4744613 & 0.3762897 & 0.5573378\\\\\n",
       "\t 1554      & 0.4737861 & 0.3756114 & 0.5566829\\\\\n",
       "\t 1630      & 0.4488413 & 0.3494123 & 0.5341545\\\\\n",
       "\t 1674      & 0.4350289 & 0.3354819 & 0.5208685\\\\\n",
       "\t 1680      & 0.4331807 & 0.3336328 & 0.5190774\\\\\n",
       "\t 1681      & 0.4328735 & 0.3333258 & 0.5187794\\\\\n",
       "\t 1688      & 0.4307297 & 0.3311855 & 0.5167020\\\\\n",
       "\t 1692      & 0.4295097 & 0.3299696 & 0.5156005\\\\\n",
       "\t 1706      & 0.4252694 & 0.3257542 & 0.5117646\\\\\n",
       "\t 1707      & 0.4249682 & 0.3254554 & 0.5114917\\\\\n",
       "\t 1731      & 0.4178102 & 0.3183806 & 0.5049893\\\\\n",
       "\t 1735      & 0.4166301 & 0.3172189 & 0.5039141\\\\\n",
       "\t 1741      & 0.4148668 & 0.3154857 & 0.5023059\\\\\n",
       "\t 1742      & 0.4145738 & 0.3151979 & 0.5020384\\\\\n",
       "\t 1750      & 0.4122374 & 0.3129065 & 0.4999039\\\\\n",
       "\t 1755      & 0.4107845 & 0.3114843 & 0.4985747\\\\\n",
       "\t 1756      & 0.4104946 & 0.3112007 & 0.4983094\\\\\n",
       "\t 1804      & 0.3968452 & 0.2978569 & 0.4859838\\\\\n",
       "\t 1826      & 0.3907607 & 0.2919204 & 0.4806580\\\\\n",
       "\t 1834      & 0.3885745 & 0.2898494 & 0.4786471\\\\\n",
       "\t 1846      & 0.3853213 & 0.2867760 & 0.4754661\\\\\n",
       "\t 1869      & 0.3791732 & 0.2809947 & 0.4694216\\\\\n",
       "\t 1875      & 0.3775880 & 0.2795099 & 0.4678519\\\\\n",
       "\t 1892      & 0.3731381 & 0.2750079 & 0.4636295\\\\\n",
       "\t 1896      & 0.3720999 & 0.2739414 & 0.4626528\\\\\n",
       "\\end{tabular}\n",
       "\n",
       "\\end{enumerate}\n"
      ],
      "text/markdown": [
       "1. \n",
       "| time | est | lcl | ucl |\n",
       "|---|---|---|---|\n",
       "|  35       | 0.9996186 | 0.9985618 | 0.9999136 |\n",
       "|  47       | 0.9992913 | 0.9976197 | 0.9998198 |\n",
       "| 144       | 0.9925865 | 0.9835852 | 0.9970113 |\n",
       "| 183       | 0.9877879 | 0.9752839 | 0.9945713 |\n",
       "| 189       | 0.9869420 | 0.9738331 | 0.9941137 |\n",
       "| 233       | 0.9798683 | 0.9625775 | 0.9900271 |\n",
       "| 252       | 0.9763460 | 0.9572793 | 0.9878774 |\n",
       "| 272       | 0.9723393 | 0.9514333 | 0.9851386 |\n",
       "| 275       | 0.9717121 | 0.9505336 | 0.9846979 |\n",
       "| 307       | 0.9646055 | 0.9400391 | 0.9800642 |\n",
       "| 340       | 0.9564982 | 0.9288667 | 0.9745924 |\n",
       "| 343       | 0.9557230 | 0.9277051 | 0.9740892 |\n",
       "| 351       | 0.9536256 | 0.9247336 | 0.9725111 |\n",
       "| 361       | 0.9509422 | 0.9212807 | 0.9706024 |\n",
       "| 362       | 0.9506701 | 0.9208921 | 0.9704035 |\n",
       "| 364       | 0.9501239 | 0.9201298 | 0.9700322 |\n",
       "| 370       | 0.9484694 | 0.9181234 | 0.9688684 |\n",
       "| 375       | 0.9470723 | 0.9164420 | 0.9679130 |\n",
       "| 377       | 0.9465088 | 0.9156771 | 0.9675320 |\n",
       "| 383       | 0.9448026 | 0.9130058 | 0.9663512 |\n",
       "| 391       | 0.9424914 | 0.9101908 | 0.9647077 |\n",
       "| 395       | 0.9413203 | 0.9088123 | 0.9638610 |\n",
       "| 462       | 0.9202488 | 0.8831694 | 0.9482472 |\n",
       "| 499       | 0.9075209 | 0.8663515 | 0.9389812 |\n",
       "| 513       | 0.9025207 | 0.8607101 | 0.9351234 |\n",
       "| 530       | 0.8963210 | 0.8535256 | 0.9301108 |\n",
       "| 536       | 0.8941005 | 0.8509081 | 0.9285511 |\n",
       "| 559       | 0.8854394 | 0.8406125 | 0.9220770 |\n",
       "| 573       | 0.8800566 | 0.8340391 | 0.9177481 |\n",
       "| 604       | 0.8678608 | 0.8194463 | 0.9081758 |\n",
       "| ... | ... | ... | ... |\n",
       "| 1508      | 0.4895594 | 0.3922381 | 0.5720743 |\n",
       "| 1511      | 0.4885152 | 0.3911821 | 0.5709411 |\n",
       "| 1518      | 0.4860870 | 0.3887301 | 0.5685683 |\n",
       "| 1519      | 0.4857411 | 0.3883812 | 0.5682353 |\n",
       "| 1526      | 0.4833265 | 0.3859181 | 0.5659093 |\n",
       "| 1552      | 0.4744613 | 0.3762897 | 0.5573378 |\n",
       "| 1554      | 0.4737861 | 0.3756114 | 0.5566829 |\n",
       "| 1630      | 0.4488413 | 0.3494123 | 0.5341545 |\n",
       "| 1674      | 0.4350289 | 0.3354819 | 0.5208685 |\n",
       "| 1680      | 0.4331807 | 0.3336328 | 0.5190774 |\n",
       "| 1681      | 0.4328735 | 0.3333258 | 0.5187794 |\n",
       "| 1688      | 0.4307297 | 0.3311855 | 0.5167020 |\n",
       "| 1692      | 0.4295097 | 0.3299696 | 0.5156005 |\n",
       "| 1706      | 0.4252694 | 0.3257542 | 0.5117646 |\n",
       "| 1707      | 0.4249682 | 0.3254554 | 0.5114917 |\n",
       "| 1731      | 0.4178102 | 0.3183806 | 0.5049893 |\n",
       "| 1735      | 0.4166301 | 0.3172189 | 0.5039141 |\n",
       "| 1741      | 0.4148668 | 0.3154857 | 0.5023059 |\n",
       "| 1742      | 0.4145738 | 0.3151979 | 0.5020384 |\n",
       "| 1750      | 0.4122374 | 0.3129065 | 0.4999039 |\n",
       "| 1755      | 0.4107845 | 0.3114843 | 0.4985747 |\n",
       "| 1756      | 0.4104946 | 0.3112007 | 0.4983094 |\n",
       "| 1804      | 0.3968452 | 0.2978569 | 0.4859838 |\n",
       "| 1826      | 0.3907607 | 0.2919204 | 0.4806580 |\n",
       "| 1834      | 0.3885745 | 0.2898494 | 0.4786471 |\n",
       "| 1846      | 0.3853213 | 0.2867760 | 0.4754661 |\n",
       "| 1869      | 0.3791732 | 0.2809947 | 0.4694216 |\n",
       "| 1875      | 0.3775880 | 0.2795099 | 0.4678519 |\n",
       "| 1892      | 0.3731381 | 0.2750079 | 0.4636295 |\n",
       "| 1896      | 0.3720999 | 0.2739414 | 0.4626528 |\n",
       "\n",
       "\n",
       "\n",
       "\n"
      ],
      "text/plain": [
       " \n",
       "    time       est       lcl       ucl\n",
       "1     35 0.9996186 0.9985618 0.9999136\n",
       "2     47 0.9992913 0.9976197 0.9998198\n",
       "3    144 0.9925865 0.9835852 0.9970113\n",
       "4    183 0.9877879 0.9752839 0.9945713\n",
       "5    189 0.9869420 0.9738331 0.9941137\n",
       "6    233 0.9798683 0.9625775 0.9900271\n",
       "7    252 0.9763460 0.9572793 0.9878774\n",
       "8    272 0.9723393 0.9514333 0.9851386\n",
       "9    275 0.9717121 0.9505336 0.9846979\n",
       "10   307 0.9646055 0.9400391 0.9800642\n",
       "11   340 0.9564982 0.9288667 0.9745924\n",
       "12   343 0.9557230 0.9277051 0.9740892\n",
       "13   351 0.9536256 0.9247336 0.9725111\n",
       "14   361 0.9509422 0.9212807 0.9706024\n",
       "15   362 0.9506701 0.9208921 0.9704035\n",
       "16   364 0.9501239 0.9201298 0.9700322\n",
       "17   370 0.9484694 0.9181234 0.9688684\n",
       "18   375 0.9470723 0.9164420 0.9679130\n",
       "19   377 0.9465088 0.9156771 0.9675320\n",
       "20   383 0.9448026 0.9130058 0.9663512\n",
       "21   391 0.9424914 0.9101908 0.9647077\n",
       "22   395 0.9413203 0.9088123 0.9638610\n",
       "23   462 0.9202488 0.8831694 0.9482472\n",
       "24   499 0.9075209 0.8663515 0.9389812\n",
       "25   513 0.9025207 0.8607101 0.9351234\n",
       "26   530 0.8963210 0.8535256 0.9301108\n",
       "27   536 0.8941005 0.8509081 0.9285511\n",
       "28   559 0.8854394 0.8406125 0.9220770\n",
       "29   573 0.8800566 0.8340391 0.9177481\n",
       "30   604 0.8678608 0.8194463 0.9081758\n",
       "31   633 0.8561364 0.8055875 0.8983274\n",
       "32   671 0.8403691 0.7863477 0.8844657\n",
       "33   683 0.8353053 0.7805268 0.8799327\n",
       "34   685 0.8344577 0.7793659 0.8791722\n",
       "35   686 0.8340336 0.7788233 0.8787913\n",
       "36   705 0.8259283 0.7700359 0.8716016\n",
       "37   709 0.8242112 0.7681883 0.8703853\n",
       "38   711 0.8233514 0.7672760 0.8697374\n",
       "39   714 0.8220600 0.7658748 0.8686228\n",
       "40   717 0.8207667 0.7644857 0.8675048\n",
       "41   726 0.8168755 0.7603191 0.8641309\n",
       "42   727 0.8164421 0.7598563 0.8637542\n",
       "43   731 0.8147067 0.7575923 0.8622385\n",
       "44   733 0.8138378 0.7564768 0.8615115\n",
       "45   734 0.8134031 0.7559837 0.8611736\n",
       "46   735 0.8129682 0.7554907 0.8608354\n",
       "47   737 0.8120978 0.7545045 0.8601582\n",
       "48   739 0.8112267 0.7535184 0.8594802\n",
       "49   742 0.8099187 0.7520392 0.8584615\n",
       "50   750 0.8064228 0.7481027 0.8554509\n",
       "51   755 0.8042324 0.7456562 0.8533210\n",
       "52   761 0.8015986 0.7427214 0.8507498\n",
       "53   763 0.8007194 0.7417076 0.8498994\n",
       "54   768 0.7985188 0.7388571 0.8479457\n",
       "55   776 0.7949902 0.7343877 0.8448027\n",
       "56   783 0.7918954 0.7311670 0.8423454\n",
       "57   791 0.7883509 0.7272913 0.8396607\n",
       "58   800 0.7843542 0.7224396 0.8364131\n",
       "59   803 0.7830200 0.7208238 0.8353679\n",
       "60   810 0.7799032 0.7170292 0.8329235\n",
       "61   812 0.7790118 0.7159443 0.8322237\n",
       "62   816 0.7772278 0.7137751 0.8308223\n",
       "63   825 0.7732087 0.7088974 0.8276469\n",
       "64   826 0.7727617 0.7083557 0.8272931\n",
       "65   833 0.7696306 0.7045658 0.8246906\n",
       "66   834 0.7691830 0.7040247 0.8242874\n",
       "67   868 0.7539296 0.6857257 0.8104278\n",
       "68   874 0.7512324 0.6827275 0.8079510\n",
       "69   876 0.7503332 0.6817827 0.8071634\n",
       "70   888 0.7449354 0.6761305 0.8021293\n",
       "71   905 0.7372852 0.6681527 0.7952377\n",
       "72   937 0.7228892 0.6509466 0.7813837\n",
       "73   946 0.7188446 0.6461397 0.7774987\n",
       "74   971 0.7076277 0.6330109 0.7678702\n",
       "75   973 0.7067317 0.6319396 0.7672340\n",
       "76   992 0.6982331 0.6221974 0.7602612\n",
       "77  1033 0.6799927 0.6025423 0.7441229\n",
       "78  1034 0.6795498 0.6020508 0.7437567\n",
       "79  1056 0.6698338 0.5909903 0.7357056\n",
       "80  1058 0.6689533 0.5898159 0.7349741\n",
       "81  1064 0.6663147 0.5869519 0.7327704\n",
       "82  1078 0.6601755 0.5800887 0.7274639\n",
       "83  1084 0.6575522 0.5770565 0.7251909\n",
       "84  1086 0.6566789 0.5760265 0.7244334\n",
       "85  1087 0.6562424 0.5755119 0.7240547\n",
       "86  1088 0.6558061 0.5749977 0.7236760\n",
       "87  1092 0.6540622 0.5729439 0.7221616\n",
       "88  1098 0.6514506 0.5698395 0.7198830\n",
       "89  1099 0.6510158 0.5693444 0.7195032\n",
       "90  1107 0.6475429 0.5652657 0.7162800\n",
       "91  1108 0.6471095 0.5647553 0.7158588\n",
       "92  1127 0.6389028 0.5552508 0.7078733\n",
       "93  1134 0.6358936 0.5522698 0.7049402\n",
       "94  1148 0.6298991 0.5459510 0.6992755\n",
       "95  1153 0.6277662 0.5432811 0.6975297\n",
       "96  1176 0.6180107 0.5310160 0.6891691\n",
       "97  1199 0.6083507 0.5198144 0.6798473\n",
       "98  1205 0.6058470 0.5169483 0.6776646\n",
       "99  1217 0.6008605 0.5112593 0.6733086\n",
       "100 1233 0.5942558 0.5037719 0.6675211\n",
       "101 1241 0.5909727 0.5000637 0.6646295\n",
       "102 1246 0.5889274 0.4977297 0.6628223\n",
       "103 1258 0.5840396 0.4919898 0.6584742\n",
       "104 1282 0.5743546 0.4814350 0.6499173\n",
       "105 1288 0.5719526 0.4787619 0.6477901\n",
       "106 1293 0.5699568 0.4765448 0.6460205\n",
       "107 1310 0.5632122 0.4693348 0.6400144\n",
       "108 1323 0.5580976 0.4642685 0.6354203\n",
       "109 1336 0.5530208 0.4592599 0.6307852\n",
       "110 1355 0.5456698 0.4519852 0.6242307\n",
       "111 1358 0.5445167 0.4507147 0.6231897\n",
       "112 1367 0.5410697 0.4469239 0.6200736\n",
       "113 1372 0.5391628 0.4448314 0.6184210\n",
       "114 1414 0.5233750 0.4269384 0.6040349\n",
       "115 1416 0.5226336 0.4261638 0.6033361\n",
       "116 1443 0.5127170 0.4161441 0.5941896\n",
       "117 1446 0.5116258 0.4149740 0.5931855\n",
       "118 1449 0.5105369 0.4138072 0.5921827\n",
       "119 1453 0.5090883 0.4122568 0.5908476\n",
       "120 1456 0.5080043 0.4110980 0.5898479\n",
       "121 1463 0.5054835 0.4084701 0.5875203\n",
       "122 1468 0.5036901 0.4066321 0.5858622\n",
       "123 1470 0.5029744 0.4059011 0.5851999\n",
       "124 1471 0.5026169 0.4055361 0.5848690\n",
       "125 1478 0.5001213 0.4031229 0.5825544\n",
       "126 1483 0.4983460 0.4014331 0.5808985\n",
       "127 1486 0.4972836 0.4004231 0.5799068\n",
       "128 1487 0.4969300 0.4000871 0.5795765\n",
       "129 1508 0.4895594 0.3922381 0.5720743\n",
       "130 1511 0.4885152 0.3911821 0.5709411\n",
       "131 1518 0.4860870 0.3887301 0.5685683\n",
       "132 1519 0.4857411 0.3883812 0.5682353\n",
       "133 1526 0.4833265 0.3859181 0.5659093\n",
       "134 1552 0.4744613 0.3762897 0.5573378\n",
       "135 1554 0.4737861 0.3756114 0.5566829\n",
       "136 1630 0.4488413 0.3494123 0.5341545\n",
       "137 1674 0.4350289 0.3354819 0.5208685\n",
       "138 1680 0.4331807 0.3336328 0.5190774\n",
       "139 1681 0.4328735 0.3333258 0.5187794\n",
       "140 1688 0.4307297 0.3311855 0.5167020\n",
       "141 1692 0.4295097 0.3299696 0.5156005\n",
       "142 1706 0.4252694 0.3257542 0.5117646\n",
       "143 1707 0.4249682 0.3254554 0.5114917\n",
       "144 1731 0.4178102 0.3183806 0.5049893\n",
       "145 1735 0.4166301 0.3172189 0.5039141\n",
       "146 1741 0.4148668 0.3154857 0.5023059\n",
       "147 1742 0.4145738 0.3151979 0.5020384\n",
       "148 1750 0.4122374 0.3129065 0.4999039\n",
       "149 1755 0.4107845 0.3114843 0.4985747\n",
       "150 1756 0.4104946 0.3112007 0.4983094\n",
       "151 1804 0.3968452 0.2978569 0.4859838\n",
       "152 1826 0.3907607 0.2919204 0.4806580\n",
       "153 1834 0.3885745 0.2898494 0.4786471\n",
       "154 1846 0.3853213 0.2867760 0.4754661\n",
       "155 1869 0.3791732 0.2809947 0.4694216\n",
       "156 1875 0.3775880 0.2795099 0.4678519\n",
       "157 1892 0.3731381 0.2750079 0.4636295\n",
       "158 1896 0.3720999 0.2739414 0.4626528"
      ]
     },
     "metadata": {},
     "output_type": "display_data"
    }
   ],
   "source": [
    "summary(loglogistica_comparativo)"
   ]
  },
  {
   "cell_type": "code",
   "execution_count": 97,
   "id": "governmental-franchise",
   "metadata": {},
   "outputs": [
    {
     "data": {
      "text/plain": [
       "Call:\n",
       "flexsurv::flexsurvreg(formula = Obj_surv ~ udca1$trt + udca1$riskscore, \n",
       "    dist = \"llogis\")\n",
       "\n",
       "Estimates: \n",
       "                 data mean  est        L95%       U95%       se       \n",
       "shape                   NA     2.1028     1.7282     2.5585     0.2105\n",
       "scale                   NA  3838.8610  1913.2931  7702.3503  1363.8976\n",
       "udca1$trt           0.5030     0.6198     0.3208     0.9189     0.1526\n",
       "udca1$riskscore     5.1272    -0.2469    -0.3725    -0.1213     0.0641\n",
       "                 exp(est)   L95%       U95%     \n",
       "shape                   NA         NA         NA\n",
       "scale                   NA         NA         NA\n",
       "udca1$trt           1.8586     1.3782     2.5065\n",
       "udca1$riskscore     0.7812     0.6890     0.8858\n",
       "\n",
       "N = 169,  Events: 72,  Censored: 97\n",
       "Total time at risk: 175993\n",
       "Log-likelihood = -609.0607, df = 4\n",
       "AIC = 1226.121\n"
      ]
     },
     "metadata": {},
     "output_type": "display_data"
    }
   ],
   "source": [
    "loglogistica_comparativo"
   ]
  },
  {
   "cell_type": "code",
   "execution_count": null,
   "id": "opening-shipping",
   "metadata": {},
   "outputs": [],
   "source": []
  }
 ],
 "metadata": {
  "kernelspec": {
   "display_name": "R",
   "language": "R",
   "name": "ir"
  },
  "language_info": {
   "codemirror_mode": "r",
   "file_extension": ".r",
   "mimetype": "text/x-r-source",
   "name": "R",
   "pygments_lexer": "r",
   "version": "3.6.1"
  }
 },
 "nbformat": 4,
 "nbformat_minor": 5
}
